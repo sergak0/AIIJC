{
  "nbformat": 4,
  "nbformat_minor": 0,
  "metadata": {
    "colab": {
      "name": "KeywordBased.ipynb",
      "provenance": [],
      "authorship_tag": "ABX9TyOYZ9z0Odt65UI9BKcMh+dW",
      "include_colab_link": true
    },
    "kernelspec": {
      "name": "python3",
      "display_name": "Python 3"
    },
    "language_info": {
      "name": "python"
    }
  },
  "cells": [
    {
      "cell_type": "markdown",
      "metadata": {
        "id": "view-in-github",
        "colab_type": "text"
      },
      "source": [
        "<a href=\"https://colab.research.google.com/github/sergak0/AIIJC/blob/main/Lisa/KeywordBased.ipynb\" target=\"_parent\"><img src=\"https://colab.research.google.com/assets/colab-badge.svg\" alt=\"Open In Colab\"/></a>"
      ]
    },
    {
      "cell_type": "code",
      "metadata": {
        "colab": {
          "base_uri": "https://localhost:8080/"
        },
        "id": "CUua6eE__2tf",
        "outputId": "3d7a6178-67b4-4494-b9a9-14788f4982fe"
      },
      "source": [
        "from google.colab import drive\n",
        "drive.mount('/content/drive')"
      ],
      "execution_count": 101,
      "outputs": [
        {
          "output_type": "stream",
          "name": "stdout",
          "text": [
            "Drive already mounted at /content/drive; to attempt to forcibly remount, call drive.mount(\"/content/drive\", force_remount=True).\n"
          ]
        }
      ]
    },
    {
      "cell_type": "code",
      "metadata": {
        "colab": {
          "base_uri": "https://localhost:8080/"
        },
        "id": "bhZp9X4z_4Qy",
        "outputId": "600f6c22-f32d-408a-a6c2-149dbfd65d16"
      },
      "source": [
        "!pip install pymorphy2[fast]"
      ],
      "execution_count": 2,
      "outputs": [
        {
          "output_type": "stream",
          "name": "stdout",
          "text": [
            "Collecting pymorphy2[fast]\n",
            "  Downloading pymorphy2-0.9.1-py3-none-any.whl (55 kB)\n",
            "\u001b[K     |████████████████████████████████| 55 kB 2.0 MB/s \n",
            "\u001b[?25hCollecting dawg-python>=0.7.1\n",
            "  Downloading DAWG_Python-0.7.2-py2.py3-none-any.whl (11 kB)\n",
            "Requirement already satisfied: docopt>=0.6 in /usr/local/lib/python3.7/dist-packages (from pymorphy2[fast]) (0.6.2)\n",
            "Collecting pymorphy2-dicts-ru<3.0,>=2.4\n",
            "  Downloading pymorphy2_dicts_ru-2.4.417127.4579844-py2.py3-none-any.whl (8.2 MB)\n",
            "\u001b[K     |████████████████████████████████| 8.2 MB 7.7 MB/s \n",
            "\u001b[?25hCollecting DAWG>=0.8\n",
            "  Downloading DAWG-0.8.0.tar.gz (371 kB)\n",
            "\u001b[K     |████████████████████████████████| 371 kB 36.3 MB/s \n",
            "\u001b[?25hBuilding wheels for collected packages: DAWG\n",
            "  Building wheel for DAWG (setup.py) ... \u001b[?25l\u001b[?25hdone\n",
            "  Created wheel for DAWG: filename=DAWG-0.8.0-cp37-cp37m-linux_x86_64.whl size=848618 sha256=a8f6bcd400ae1472dd566c1bf1bf39581648706682fec7732c6cb023985113dd\n",
            "  Stored in directory: /root/.cache/pip/wheels/85/51/a4/2de41ff197786537075027c27b479a38da92f50abc86634445\n",
            "Successfully built DAWG\n",
            "Installing collected packages: pymorphy2-dicts-ru, dawg-python, pymorphy2, DAWG\n",
            "Successfully installed DAWG-0.8.0 dawg-python-0.7.2 pymorphy2-0.9.1 pymorphy2-dicts-ru-2.4.417127.4579844\n"
          ]
        }
      ]
    },
    {
      "cell_type": "code",
      "metadata": {
        "id": "dikGNTGv_8c6"
      },
      "source": [
        "import random\n",
        "import re\n",
        "import string\n",
        "import pandas as pd\n",
        "import torch\n",
        "import matplotlib.pyplot as plt\n",
        "import numpy as np\n",
        "from sklearn.model_selection import train_test_split\n",
        "from tqdm import tqdm\n",
        "import gensim\n",
        "from gensim.corpora.dictionary import Dictionary\n",
        "from gensim.models import LdaMulticore\n",
        "from torch import nn\n",
        "from torch.nn import functional as F\n",
        "from torch.utils.data import TensorDataset, DataLoader\n",
        "from torchvision.transforms import ToTensor\n",
        "import warnings \n",
        "from sklearn.linear_model import LogisticRegression\n",
        "from PIL import Image\n",
        "from IPython.display import clear_output\n",
        "from sklearn.naive_bayes import MultinomialNB\n",
        "from sklearn.pipeline import Pipeline\n",
        "from sklearn.feature_extraction.text import TfidfTransformer\n",
        "from sklearn.feature_extraction.text import CountVectorizer, TfidfVectorizer\n",
        "from sklearn.metrics import accuracy_score, confusion_matrix\n",
        "from typing import List\n",
        "from sklearn.metrics import classification_report\n",
        "from sklearn.metrics.pairwise import cosine_similarity\n",
        "import pickle\n",
        "from typing import List\n",
        "import nltk\n",
        "import string\n",
        "import pymorphy2\n",
        "import codecs\n",
        "from gensim.models import KeyedVectors"
      ],
      "execution_count": 15,
      "outputs": []
    },
    {
      "cell_type": "code",
      "metadata": {
        "id": "4chrYXx7AiMt"
      },
      "source": [
        "warnings.filterwarnings(action='ignore',category=UserWarning, module='gensim')  \n",
        "warnings.filterwarnings(action='ignore',category=FutureWarning, module='gensim')  \n",
        "warnings.filterwarnings(action='ignore',category=DeprecationWarning, module='gensim')\n",
        "warnings.filterwarnings(action='ignore',category=DeprecationWarning, module='smart_open') \n",
        "warnings.filterwarnings(action='ignore',category=DeprecationWarning, module='sklearn')\n",
        "warnings.filterwarnings(action='ignore',category=DeprecationWarning, module='scipy')    "
      ],
      "execution_count": 4,
      "outputs": []
    },
    {
      "cell_type": "code",
      "metadata": {
        "id": "AqwzRMQ1AkCZ"
      },
      "source": [
        "device = torch.device(\"cuda:0\" if torch.cuda.is_available() else \"cpu\")"
      ],
      "execution_count": 5,
      "outputs": []
    },
    {
      "cell_type": "code",
      "metadata": {
        "id": "SA4ZfKhUAly8"
      },
      "source": [
        "class Preparator():\n",
        "    def __init__(self,\n",
        "                 preparator_fold_name: str = '/content/drive/MyDrive/aiijc_sber/'):\n",
        "        stopwords_path = preparator_fold_name + 'all_stopwords.txt'\n",
        "        bigram_model_path = preparator_fold_name + 'bigram_model.pkl'\n",
        "        self.morph = pymorphy2.MorphAnalyzer()\n",
        "        self.tokenizer = nltk.WordPunctTokenizer()\n",
        "        self.stopwords = set(line.strip() for line in codecs.open(stopwords_path, \"r\", \"utf_8_sig\").readlines())\n",
        "        self.bigram_mod = gensim.models.Phrases.load(bigram_model_path)\n",
        "\n",
        "    def prepare_corp(self, news_list: List[str]):\n",
        "        return [self.newstext2token(news_text) for news_text in news_list]\n",
        "\n",
        "    def newstext2token(self, news_text: str):\n",
        "        tokens = self.tokenizer.tokenize(news_text.lower())\n",
        "        tokens_with_no_punct = [self.morph.parse(w)[0].normal_form for w in tokens if\n",
        "                                all(c in 'йцукенгшщзхъёфывапролджэячсмитьбю' for c in w)]\n",
        "        tokens_base_forms = [w for w in tokens_with_no_punct if w not in self.stopwords]\n",
        "        tokens_last = [w for w in tokens_base_forms if len(w) > 1]\n",
        "        tokens_bigrammed = self.make_bigrams(tokens_last)\n",
        "        return ' '.join(tokens_bigrammed)\n",
        "\n",
        "    def make_bigrams(self, doc):\n",
        "        return self.bigram_mod[doc]\n",
        "\n",
        "    def prepare_texts(self, texts):\n",
        "        return self.prepare_corp(texts)\n",
        "\n"
      ],
      "execution_count": 6,
      "outputs": []
    },
    {
      "cell_type": "code",
      "metadata": {
        "colab": {
          "base_uri": "https://localhost:8080/",
          "height": 203
        },
        "id": "4nX79XzZAqdV",
        "outputId": "a4ad55c0-67e5-4a09-c454-47c19579f1da"
      },
      "source": [
        "data = pd.read_csv('/content/drive/MyDrive/aiijc_sber/tokens_full_cleaned.csv')\n",
        "fixed_tokens = []\n",
        "empty = 0\n",
        "for  tok in data.tokens:\n",
        "  aslist = tok.split()\n",
        "  fixed_tokens.append(aslist)\n",
        "  empty += aslist.count('')\n",
        "data.tokens = fixed_tokens\n",
        "data = data.drop(['Unnamed: 0'], axis=1)\n",
        "data.head()"
      ],
      "execution_count": 35,
      "outputs": [
        {
          "output_type": "execute_result",
          "data": {
            "text/html": [
              "<div>\n",
              "<style scoped>\n",
              "    .dataframe tbody tr th:only-of-type {\n",
              "        vertical-align: middle;\n",
              "    }\n",
              "\n",
              "    .dataframe tbody tr th {\n",
              "        vertical-align: top;\n",
              "    }\n",
              "\n",
              "    .dataframe thead th {\n",
              "        text-align: right;\n",
              "    }\n",
              "</style>\n",
              "<table border=\"1\" class=\"dataframe\">\n",
              "  <thead>\n",
              "    <tr style=\"text-align: right;\">\n",
              "      <th></th>\n",
              "      <th>texts</th>\n",
              "      <th>y</th>\n",
              "      <th>tokens</th>\n",
              "    </tr>\n",
              "  </thead>\n",
              "  <tbody>\n",
              "    <tr>\n",
              "      <th>0</th>\n",
              "      <td>Живо́тные (лат. Animalia) — традиционно (со вр...</td>\n",
              "      <td>0</td>\n",
              "      <td>[живо, тный, лата, аристотель, выделять, орган...</td>\n",
              "    </tr>\n",
              "    <tr>\n",
              "      <th>1</th>\n",
              "      <td>Пти́цы (лат. Aves) — группа теплокровных яйцек...</td>\n",
              "      <td>0</td>\n",
              "      <td>[пти, цы, лата, группа, теплокровный, яйцеклад...</td>\n",
              "    </tr>\n",
              "    <tr>\n",
              "      <th>2</th>\n",
              "      <td>Союз охраны птиц России (СОПР) — общероссийска...</td>\n",
              "      <td>0</td>\n",
              "      <td>[союз, охрана, птица, россия, сопра, общеросси...</td>\n",
              "    </tr>\n",
              "    <tr>\n",
              "      <th>3</th>\n",
              "      <td>Крючковидные отростки рёбер — костяные выросты...</td>\n",
              "      <td>0</td>\n",
              "      <td>[крючковидный, отросток, ребро, костяной, выро...</td>\n",
              "    </tr>\n",
              "    <tr>\n",
              "      <th>4</th>\n",
              "      <td>Myxozoa (лат.) — класс или подтип паразитическ...</td>\n",
              "      <td>0</td>\n",
              "      <td>[лата, класс, подтип, паразитический, беспозво...</td>\n",
              "    </tr>\n",
              "  </tbody>\n",
              "</table>\n",
              "</div>"
            ],
            "text/plain": [
              "                                               texts  ...                                             tokens\n",
              "0  Живо́тные (лат. Animalia) — традиционно (со вр...  ...  [живо, тный, лата, аристотель, выделять, орган...\n",
              "1  Пти́цы (лат. Aves) — группа теплокровных яйцек...  ...  [пти, цы, лата, группа, теплокровный, яйцеклад...\n",
              "2  Союз охраны птиц России (СОПР) — общероссийска...  ...  [союз, охрана, птица, россия, сопра, общеросси...\n",
              "3  Крючковидные отростки рёбер — костяные выросты...  ...  [крючковидный, отросток, ребро, костяной, выро...\n",
              "4  Myxozoa (лат.) — класс или подтип паразитическ...  ...  [лата, класс, подтип, паразитический, беспозво...\n",
              "\n",
              "[5 rows x 3 columns]"
            ]
          },
          "metadata": {},
          "execution_count": 35
        }
      ]
    },
    {
      "cell_type": "code",
      "metadata": {
        "id": "chxS-99FBjJQ"
      },
      "source": [
        "from gensim.models import Word2Vec\n",
        "model = Word2Vec(data.tokens, window=5, min_count=2)"
      ],
      "execution_count": 36,
      "outputs": []
    },
    {
      "cell_type": "code",
      "metadata": {
        "colab": {
          "base_uri": "https://localhost:8080/"
        },
        "id": "adJHEwSUCEI2",
        "outputId": "28a6e457-56da-47d2-e29d-ea0fa3b3bf00"
      },
      "source": [
        "model.wv.most_similar('птица', topn=10)"
      ],
      "execution_count": 37,
      "outputs": [
        {
          "output_type": "execute_result",
          "data": {
            "text/plain": [
              "[('рыба', 0.9730218648910522),\n",
              " ('черепаха', 0.9595657587051392),\n",
              " ('пчела', 0.9575172066688538),\n",
              " ('игуана', 0.9484673738479614),\n",
              " ('насекомое', 0.9480222463607788),\n",
              " ('эпиорнис', 0.9392580389976501),\n",
              " ('хищный', 0.9373494982719421),\n",
              " ('засолить', 0.9346617460250854),\n",
              " ('млекопитающее', 0.934207558631897),\n",
              " ('многощетинковый', 0.9336563944816589)]"
            ]
          },
          "metadata": {},
          "execution_count": 37
        }
      ]
    },
    {
      "cell_type": "code",
      "metadata": {
        "id": "4Qf6ZueHCKsT"
      },
      "source": [
        "model.wv.save(\"/content/drive/MyDrive/aiijc_sber/keyword_w2v.kv\")"
      ],
      "execution_count": 14,
      "outputs": []
    },
    {
      "cell_type": "code",
      "metadata": {
        "id": "ODPnOvifDq1v"
      },
      "source": [
        "def text2vec(tokens: List[str], embeddings: KeyedVectors) -> np.ndarray:\n",
        "    relevant = 0\n",
        "    words_vecs = np.zeros((embeddings.vector_size,))\n",
        "    for word in tokens:\n",
        "        if word in embeddings:\n",
        "            words_vecs += embeddings.word_vec(word, True)\n",
        "            relevant += 1\n",
        "\n",
        "    if relevant:\n",
        "        words_vecs /= relevant\n",
        "    return words_vecs"
      ],
      "execution_count": 18,
      "outputs": []
    },
    {
      "cell_type": "code",
      "metadata": {
        "id": "GdjiTXq__TIq"
      },
      "source": [
        "def extract_keywords(tokens: List[str],\n",
        "                     embeddings: KeyedVectors,\n",
        "                     top_n: int = 5,\n",
        "                     diversity: float = 0.5,\n",
        "                     nr_candidates: int = 20) -> str:\n",
        "    candidates = []\n",
        "    doc_embedding = text2vec(tokens, embeddings).reshape(1, -1)\n",
        "    candidate_embeddings = []\n",
        "    for candidate in tokens:\n",
        "        if candidate in embeddings:\n",
        "            candidates.append(candidate)\n",
        "            candidate_embeddings.append(embeddings[candidate])\n",
        "\n",
        "    if len(candidates) == 0:\n",
        "        return tokens\n",
        "\n",
        "    # Calculate distances and extract keywords\n",
        "    distances = cosine_similarity(doc_embedding, candidate_embeddings)\n",
        "    keywords = [candidates[index] for index in distances.argsort()[0][-top_n:]][::-1]\n",
        "\n",
        "    return ' '.join(set(keywords))\n",
        "\n",
        "\n"
      ],
      "execution_count": 16,
      "outputs": []
    },
    {
      "cell_type": "code",
      "metadata": {
        "id": "zkE9Tnz0E_h1"
      },
      "source": [
        "data = pd.read_csv('/content/drive/MyDrive/aiijc_sber/good_additional_dataset.csv')"
      ],
      "execution_count": 173,
      "outputs": []
    },
    {
      "cell_type": "code",
      "metadata": {
        "colab": {
          "base_uri": "https://localhost:8080/",
          "height": 203
        },
        "id": "3XqRg596FJOE",
        "outputId": "00dfc940-1554-4d56-9902-0af3e772972e"
      },
      "source": [
        "data.head()"
      ],
      "execution_count": 174,
      "outputs": [
        {
          "output_type": "execute_result",
          "data": {
            "text/html": [
              "<div>\n",
              "<style scoped>\n",
              "    .dataframe tbody tr th:only-of-type {\n",
              "        vertical-align: middle;\n",
              "    }\n",
              "\n",
              "    .dataframe tbody tr th {\n",
              "        vertical-align: top;\n",
              "    }\n",
              "\n",
              "    .dataframe thead th {\n",
              "        text-align: right;\n",
              "    }\n",
              "</style>\n",
              "<table border=\"1\" class=\"dataframe\">\n",
              "  <thead>\n",
              "    <tr style=\"text-align: right;\">\n",
              "      <th></th>\n",
              "      <th>Unnamed: 0</th>\n",
              "      <th>texts</th>\n",
              "      <th>prediction</th>\n",
              "      <th>score</th>\n",
              "    </tr>\n",
              "  </thead>\n",
              "  <tbody>\n",
              "    <tr>\n",
              "      <th>0</th>\n",
              "      <td>0</td>\n",
              "      <td>\\t1.1. Летом в спортивный лагерь ходили 50 дет...</td>\n",
              "      <td>спорт</td>\n",
              "      <td>0.496684</td>\n",
              "    </tr>\n",
              "    <tr>\n",
              "      <th>1</th>\n",
              "      <td>1</td>\n",
              "      <td>\\t1.2. На концерте в летнем лагере ребята игра...</td>\n",
              "      <td>музыка</td>\n",
              "      <td>0.621388</td>\n",
              "    </tr>\n",
              "    <tr>\n",
              "      <th>2</th>\n",
              "      <td>3</td>\n",
              "      <td>\\t1.4. Во время летних соревнований по плавани...</td>\n",
              "      <td>спорт</td>\n",
              "      <td>0.646785</td>\n",
              "    </tr>\n",
              "    <tr>\n",
              "      <th>3</th>\n",
              "      <td>4</td>\n",
              "      <td>\\t1.5. В спортивную школу во время летних кани...</td>\n",
              "      <td>спорт</td>\n",
              "      <td>0.640304</td>\n",
              "    </tr>\n",
              "    <tr>\n",
              "      <th>4</th>\n",
              "      <td>6</td>\n",
              "      <td>\\t1.7. Самые крупные животные на нашей планете...</td>\n",
              "      <td>животные</td>\n",
              "      <td>0.407655</td>\n",
              "    </tr>\n",
              "  </tbody>\n",
              "</table>\n",
              "</div>"
            ],
            "text/plain": [
              "   Unnamed: 0  ...     score\n",
              "0           0  ...  0.496684\n",
              "1           1  ...  0.621388\n",
              "2           3  ...  0.646785\n",
              "3           4  ...  0.640304\n",
              "4           6  ...  0.407655\n",
              "\n",
              "[5 rows x 4 columns]"
            ]
          },
          "metadata": {},
          "execution_count": 174
        }
      ]
    },
    {
      "cell_type": "code",
      "metadata": {
        "id": "sRJ9pR1aFNfH"
      },
      "source": [
        "data['tokens'] = [i.split() for i in Preparator().prepare_corp(data.texts)]"
      ],
      "execution_count": 175,
      "outputs": []
    },
    {
      "cell_type": "code",
      "metadata": {
        "colab": {
          "base_uri": "https://localhost:8080/",
          "height": 203
        },
        "id": "DgN1SyBGFYGk",
        "outputId": "df3c792c-1090-4d5c-8f2f-055381caa0fe"
      },
      "source": [
        "data.head()"
      ],
      "execution_count": 176,
      "outputs": [
        {
          "output_type": "execute_result",
          "data": {
            "text/html": [
              "<div>\n",
              "<style scoped>\n",
              "    .dataframe tbody tr th:only-of-type {\n",
              "        vertical-align: middle;\n",
              "    }\n",
              "\n",
              "    .dataframe tbody tr th {\n",
              "        vertical-align: top;\n",
              "    }\n",
              "\n",
              "    .dataframe thead th {\n",
              "        text-align: right;\n",
              "    }\n",
              "</style>\n",
              "<table border=\"1\" class=\"dataframe\">\n",
              "  <thead>\n",
              "    <tr style=\"text-align: right;\">\n",
              "      <th></th>\n",
              "      <th>Unnamed: 0</th>\n",
              "      <th>texts</th>\n",
              "      <th>prediction</th>\n",
              "      <th>score</th>\n",
              "      <th>tokens</th>\n",
              "    </tr>\n",
              "  </thead>\n",
              "  <tbody>\n",
              "    <tr>\n",
              "      <th>0</th>\n",
              "      <td>0</td>\n",
              "      <td>\\t1.1. Летом в спортивный лагерь ходили 50 дет...</td>\n",
              "      <td>спорт</td>\n",
              "      <td>0.496684</td>\n",
              "      <td>[спортивный, лагерь, ребёнок, мальчик, спортив...</td>\n",
              "    </tr>\n",
              "    <tr>\n",
              "      <th>1</th>\n",
              "      <td>1</td>\n",
              "      <td>\\t1.2. На концерте в летнем лагере ребята игра...</td>\n",
              "      <td>музыка</td>\n",
              "      <td>0.621388</td>\n",
              "      <td>[концерт, летний, ребята, гитара, гитара, стру...</td>\n",
              "    </tr>\n",
              "    <tr>\n",
              "      <th>2</th>\n",
              "      <td>3</td>\n",
              "      <td>\\t1.4. Во время летних соревнований по плавани...</td>\n",
              "      <td>спорт</td>\n",
              "      <td>0.646785</td>\n",
              "      <td>[летний, соревнование, плавание, ребята, посет...</td>\n",
              "    </tr>\n",
              "    <tr>\n",
              "      <th>3</th>\n",
              "      <td>4</td>\n",
              "      <td>\\t1.5. В спортивную школу во время летних кани...</td>\n",
              "      <td>спорт</td>\n",
              "      <td>0.640304</td>\n",
              "      <td>[спортивный, школа, летний, каникулы, купить, ...</td>\n",
              "    </tr>\n",
              "    <tr>\n",
              "      <th>4</th>\n",
              "      <td>6</td>\n",
              "      <td>\\t1.7. Самые крупные животные на нашей планете...</td>\n",
              "      <td>животные</td>\n",
              "      <td>0.407655</td>\n",
              "      <td>[животное, синий, кит, весить, длина, кит, пос...</td>\n",
              "    </tr>\n",
              "  </tbody>\n",
              "</table>\n",
              "</div>"
            ],
            "text/plain": [
              "   Unnamed: 0  ...                                             tokens\n",
              "0           0  ...  [спортивный, лагерь, ребёнок, мальчик, спортив...\n",
              "1           1  ...  [концерт, летний, ребята, гитара, гитара, стру...\n",
              "2           3  ...  [летний, соревнование, плавание, ребята, посет...\n",
              "3           4  ...  [спортивный, школа, летний, каникулы, купить, ...\n",
              "4           6  ...  [животное, синий, кит, весить, длина, кит, пос...\n",
              "\n",
              "[5 rows x 5 columns]"
            ]
          },
          "metadata": {},
          "execution_count": 176
        }
      ]
    },
    {
      "cell_type": "code",
      "metadata": {
        "id": "jtDzwz14F8j7"
      },
      "source": [
        "highlights = [extract_keywords(toks, model.wv, 10) for toks in data.tokens]\n",
        "data['highlights'] = highlights"
      ],
      "execution_count": 177,
      "outputs": []
    },
    {
      "cell_type": "code",
      "metadata": {
        "colab": {
          "base_uri": "https://localhost:8080/",
          "height": 203
        },
        "id": "quwp1xPdGBo9",
        "outputId": "d58cd5eb-6554-4f5e-8245-5e68d3623667"
      },
      "source": [
        "data.head()"
      ],
      "execution_count": 178,
      "outputs": [
        {
          "output_type": "execute_result",
          "data": {
            "text/html": [
              "<div>\n",
              "<style scoped>\n",
              "    .dataframe tbody tr th:only-of-type {\n",
              "        vertical-align: middle;\n",
              "    }\n",
              "\n",
              "    .dataframe tbody tr th {\n",
              "        vertical-align: top;\n",
              "    }\n",
              "\n",
              "    .dataframe thead th {\n",
              "        text-align: right;\n",
              "    }\n",
              "</style>\n",
              "<table border=\"1\" class=\"dataframe\">\n",
              "  <thead>\n",
              "    <tr style=\"text-align: right;\">\n",
              "      <th></th>\n",
              "      <th>Unnamed: 0</th>\n",
              "      <th>texts</th>\n",
              "      <th>prediction</th>\n",
              "      <th>score</th>\n",
              "      <th>tokens</th>\n",
              "      <th>highlights</th>\n",
              "    </tr>\n",
              "  </thead>\n",
              "  <tbody>\n",
              "    <tr>\n",
              "      <th>0</th>\n",
              "      <td>0</td>\n",
              "      <td>\\t1.1. Летом в спортивный лагерь ходили 50 дет...</td>\n",
              "      <td>спорт</td>\n",
              "      <td>0.496684</td>\n",
              "      <td>[спортивный, лагерь, ребёнок, мальчик, спортив...</td>\n",
              "      <td>спортивный лагерь мальчик ребёнок</td>\n",
              "    </tr>\n",
              "    <tr>\n",
              "      <th>1</th>\n",
              "      <td>1</td>\n",
              "      <td>\\t1.2. На концерте в летнем лагере ребята игра...</td>\n",
              "      <td>музыка</td>\n",
              "      <td>0.621388</td>\n",
              "      <td>[концерт, летний, ребята, гитара, гитара, стру...</td>\n",
              "      <td>струна концерт гитара летний ребята</td>\n",
              "    </tr>\n",
              "    <tr>\n",
              "      <th>2</th>\n",
              "      <td>3</td>\n",
              "      <td>\\t1.4. Во время летних соревнований по плавани...</td>\n",
              "      <td>спорт</td>\n",
              "      <td>0.646785</td>\n",
              "      <td>[летний, соревнование, плавание, ребята, посет...</td>\n",
              "      <td>дорожка соревнование плавательный плавание про...</td>\n",
              "    </tr>\n",
              "    <tr>\n",
              "      <th>3</th>\n",
              "      <td>4</td>\n",
              "      <td>\\t1.5. В спортивную школу во время летних кани...</td>\n",
              "      <td>спорт</td>\n",
              "      <td>0.640304</td>\n",
              "      <td>[спортивный, школа, летний, каникулы, купить, ...</td>\n",
              "      <td>мяч каникулы летний теннисный купить волейболь...</td>\n",
              "    </tr>\n",
              "    <tr>\n",
              "      <th>4</th>\n",
              "      <td>6</td>\n",
              "      <td>\\t1.7. Самые крупные животные на нашей планете...</td>\n",
              "      <td>животные</td>\n",
              "      <td>0.407655</td>\n",
              "      <td>[животное, синий, кит, весить, длина, кит, пос...</td>\n",
              "      <td>высота весить голова длина кит жираф синий</td>\n",
              "    </tr>\n",
              "  </tbody>\n",
              "</table>\n",
              "</div>"
            ],
            "text/plain": [
              "   Unnamed: 0  ...                                         highlights\n",
              "0           0  ...                  спортивный лагерь мальчик ребёнок\n",
              "1           1  ...                струна концерт гитара летний ребята\n",
              "2           3  ...  дорожка соревнование плавательный плавание про...\n",
              "3           4  ...  мяч каникулы летний теннисный купить волейболь...\n",
              "4           6  ...         высота весить голова длина кит жираф синий\n",
              "\n",
              "[5 rows x 6 columns]"
            ]
          },
          "metadata": {},
          "execution_count": 178
        }
      ]
    },
    {
      "cell_type": "code",
      "metadata": {
        "id": "WTsQDGeIGacY"
      },
      "source": [
        "data.to_csv('/content/drive/MyDrive/aiijc_sber/good_additional_dataset_keyworded.csv')"
      ],
      "execution_count": 179,
      "outputs": []
    },
    {
      "cell_type": "code",
      "metadata": {
        "id": "x2fH9RVBG2PT"
      },
      "source": [
        "class BayesModel():\n",
        "\n",
        "    def __init__(self,\n",
        "                 pretrained=True,\n",
        "                 nb_fold_name: str = '/content/drive/MyDrive/aiijc_sber/nb/'):\n",
        "\n",
        "        if not pretrained:\n",
        "            self.vect = CountVectorizer()\n",
        "            self.tfidf = TfidfTransformer()\n",
        "            self.clf = MultinomialNB()\n",
        "        else:\n",
        "            self.vect = pickle.load(open(nb_fold_name + 'nb_vect.sav', 'rb'))\n",
        "            self.tfidf = pickle.load(open(nb_fold_name + 'nb_tfidf.sav', 'rb'))\n",
        "            self.clf = pickle.load(open(nb_fold_name + 'nb_clf.sav', 'rb'))\n",
        "\n",
        "        self.nb = Pipeline([('vect', self.vect),\n",
        "                            ('tfidf', self.tfidf),\n",
        "                            ('clf', self.clf),\n",
        "                            ])\n",
        "\n",
        "        self.classes = ['животные', \"музыка\", \"спорт\", \"литература\"]\n",
        "\n",
        "    def fit(self, X_train, Y_train):\n",
        "        self.nb.fit(X_train, Y_train)\n",
        "\n",
        "    def predict(self, X_test: List[str]):\n",
        "        return self.nb.predict(X_test)\n",
        "\n",
        "    def predict_proba(self, X_test: List[str]):\n",
        "        return self.nb.predict_proba(X_test)\n",
        "\n",
        "    def show_metrics(self, X_test, Y_test):\n",
        "        y_pred = self.predict(X_test)\n",
        "        print('accuracy %s' % accuracy_score(y_pred, Y_test))\n",
        "        print(classification_report(Y_test, y_pred, target_names=self.classes))\n",
        "\n",
        "    def score(self, X_test, Y_test):\n",
        "        return self.nb.score(X_test, Y_test)\n",
        "\n",
        "    def save_models(self,\n",
        "                    nb_fold_name: str = '/content/drive/MyDrive/aiijc_sber/nb/'):\n",
        "        pickle.dump(self.vect, open(nb_fold_name + \"nb_vect.sav\", 'wb'))\n",
        "        pickle.dump(self.tfidf, open(nb_fold_name + 'nb_tfidf.sav', 'wb'))\n",
        "        pickle.dump(self.clf, open(nb_fold_name + 'nb_clf.sav', 'wb'))\n"
      ],
      "execution_count": 180,
      "outputs": []
    },
    {
      "cell_type": "code",
      "metadata": {
        "id": "Y1CzuCD3G50W"
      },
      "source": [
        "nb_model = BayesModel(False)"
      ],
      "execution_count": 181,
      "outputs": []
    },
    {
      "cell_type": "code",
      "metadata": {
        "id": "ZUCDYc6JH6aN"
      },
      "source": [
        "X_train, X_test, Y_train, Y_test = train_test_split(data.highlights, data.prediction, test_size = 0.1)"
      ],
      "execution_count": 182,
      "outputs": []
    },
    {
      "cell_type": "code",
      "metadata": {
        "colab": {
          "base_uri": "https://localhost:8080/"
        },
        "id": "XRwUHURXIkJ9",
        "outputId": "8464b7d6-7b53-4690-b415-9cc72a01c011"
      },
      "source": [
        "X_train"
      ],
      "execution_count": 183,
      "outputs": [
        {
          "output_type": "execute_result",
          "data": {
            "text/plain": [
              "303                                       сантиметр метр\n",
              "25               мяч остаться взять счёт урок математика\n",
              "290              закончиться путешествие август начаться\n",
              "61                   столько остаться штука съесть мешок\n",
              "354                                  спрятать дупло орех\n",
              "                             ...                        \n",
              "282                                      пройти остаться\n",
              "589                               коза фермер овца серый\n",
              "36     позвоночник копчиковый шейный поясничный тело ...\n",
              "123    остаться соревнование легкоатлет готовиться ст...\n",
              "732    принять соревнование спортсмен команда гимнаст...\n",
              "Name: highlights, Length: 798, dtype: object"
            ]
          },
          "metadata": {},
          "execution_count": 183
        }
      ]
    },
    {
      "cell_type": "code",
      "metadata": {
        "colab": {
          "base_uri": "https://localhost:8080/"
        },
        "id": "2RT3kOWdJXg0",
        "outputId": "ed859891-82e2-4617-f886-c15c7d5a27ab"
      },
      "source": [
        "Y_train"
      ],
      "execution_count": 184,
      "outputs": [
        {
          "output_type": "execute_result",
          "data": {
            "text/plain": [
              "303         спорт\n",
              "25          спорт\n",
              "290    литература\n",
              "61       животные\n",
              "354      животные\n",
              "          ...    \n",
              "282         спорт\n",
              "589      животные\n",
              "36       животные\n",
              "123         спорт\n",
              "732         спорт\n",
              "Name: prediction, Length: 798, dtype: object"
            ]
          },
          "metadata": {},
          "execution_count": 184
        }
      ]
    },
    {
      "cell_type": "code",
      "metadata": {
        "id": "1s29TVHUIWa6"
      },
      "source": [
        "nb_model.fit(X_train, Y_train)"
      ],
      "execution_count": 185,
      "outputs": []
    },
    {
      "cell_type": "code",
      "metadata": {
        "colab": {
          "base_uri": "https://localhost:8080/"
        },
        "id": "OudMmxguJte6",
        "outputId": "2978c54f-3217-44f2-b274-0219441f659d"
      },
      "source": [
        "nb_model.show_metrics(X_test, Y_test)"
      ],
      "execution_count": 186,
      "outputs": [
        {
          "output_type": "stream",
          "name": "stdout",
          "text": [
            "accuracy 0.8089887640449438\n",
            "              precision    recall  f1-score   support\n",
            "\n",
            "    животные       0.71      0.97      0.82        31\n",
            "      музыка       0.81      0.84      0.82        25\n",
            "       спорт       1.00      0.64      0.78        22\n",
            "  литература       1.00      0.64      0.78        11\n",
            "\n",
            "    accuracy                           0.81        89\n",
            "   macro avg       0.88      0.77      0.80        89\n",
            "weighted avg       0.85      0.81      0.81        89\n",
            "\n"
          ]
        }
      ]
    },
    {
      "cell_type": "code",
      "metadata": {
        "id": "xti8I2k2MJxE"
      },
      "source": [
        "nb_model.save_models('/content/drive/MyDrive/aiijc_sber/nb_keys/')"
      ],
      "execution_count": 187,
      "outputs": []
    },
    {
      "cell_type": "code",
      "metadata": {
        "colab": {
          "base_uri": "https://localhost:8080/",
          "height": 203
        },
        "id": "1H9D4-HiG8z5",
        "outputId": "c34378cd-e40a-48ff-e26e-ac720d077d86"
      },
      "source": [
        "tests = pd.read_csv('/content/drive/MyDrive/aiijc_sber/test.csv')\n",
        "tests.columns = ['id', 'texts']\n",
        "tests.head()"
      ],
      "execution_count": 188,
      "outputs": [
        {
          "output_type": "execute_result",
          "data": {
            "text/html": [
              "<div>\n",
              "<style scoped>\n",
              "    .dataframe tbody tr th:only-of-type {\n",
              "        vertical-align: middle;\n",
              "    }\n",
              "\n",
              "    .dataframe tbody tr th {\n",
              "        vertical-align: top;\n",
              "    }\n",
              "\n",
              "    .dataframe thead th {\n",
              "        text-align: right;\n",
              "    }\n",
              "</style>\n",
              "<table border=\"1\" class=\"dataframe\">\n",
              "  <thead>\n",
              "    <tr style=\"text-align: right;\">\n",
              "      <th></th>\n",
              "      <th>id</th>\n",
              "      <th>texts</th>\n",
              "    </tr>\n",
              "  </thead>\n",
              "  <tbody>\n",
              "    <tr>\n",
              "      <th>0</th>\n",
              "      <td>0</td>\n",
              "      <td>Вопрос 1 Денис готовится провести соревнования...</td>\n",
              "    </tr>\n",
              "    <tr>\n",
              "      <th>1</th>\n",
              "      <td>1</td>\n",
              "      <td>Реши задачу.\\nСколько коробок корма для собак ...</td>\n",
              "    </tr>\n",
              "    <tr>\n",
              "      <th>2</th>\n",
              "      <td>2</td>\n",
              "      <td>Если групп элементов несколько, то применяется...</td>\n",
              "    </tr>\n",
              "    <tr>\n",
              "      <th>3</th>\n",
              "      <td>3</td>\n",
              "      <td>Вопрос1                                       ...</td>\n",
              "    </tr>\n",
              "    <tr>\n",
              "      <th>4</th>\n",
              "      <td>4</td>\n",
              "      <td>Для наглядной геометрической иллюстрации объём...</td>\n",
              "    </tr>\n",
              "  </tbody>\n",
              "</table>\n",
              "</div>"
            ],
            "text/plain": [
              "   id                                              texts\n",
              "0   0  Вопрос 1 Денис готовится провести соревнования...\n",
              "1   1  Реши задачу.\\nСколько коробок корма для собак ...\n",
              "2   2  Если групп элементов несколько, то применяется...\n",
              "3   3  Вопрос1                                       ...\n",
              "4   4  Для наглядной геометрической иллюстрации объём..."
            ]
          },
          "metadata": {},
          "execution_count": 188
        }
      ]
    },
    {
      "cell_type": "code",
      "metadata": {
        "id": "VVHHNHW4MeBP"
      },
      "source": [
        "tests['prediction'] = nb_model.predict(Preparator().prepare_texts(tests.texts))"
      ],
      "execution_count": 189,
      "outputs": []
    },
    {
      "cell_type": "code",
      "metadata": {
        "colab": {
          "base_uri": "https://localhost:8080/",
          "height": 203
        },
        "id": "Yz5LBNQLMkZ-",
        "outputId": "91a1e3ae-5aab-4d0f-929c-0d4d68faebaa"
      },
      "source": [
        "tests.head()"
      ],
      "execution_count": 190,
      "outputs": [
        {
          "output_type": "execute_result",
          "data": {
            "text/html": [
              "<div>\n",
              "<style scoped>\n",
              "    .dataframe tbody tr th:only-of-type {\n",
              "        vertical-align: middle;\n",
              "    }\n",
              "\n",
              "    .dataframe tbody tr th {\n",
              "        vertical-align: top;\n",
              "    }\n",
              "\n",
              "    .dataframe thead th {\n",
              "        text-align: right;\n",
              "    }\n",
              "</style>\n",
              "<table border=\"1\" class=\"dataframe\">\n",
              "  <thead>\n",
              "    <tr style=\"text-align: right;\">\n",
              "      <th></th>\n",
              "      <th>id</th>\n",
              "      <th>texts</th>\n",
              "      <th>prediction</th>\n",
              "    </tr>\n",
              "  </thead>\n",
              "  <tbody>\n",
              "    <tr>\n",
              "      <th>0</th>\n",
              "      <td>0</td>\n",
              "      <td>Вопрос 1 Денис готовится провести соревнования...</td>\n",
              "      <td>спорт</td>\n",
              "    </tr>\n",
              "    <tr>\n",
              "      <th>1</th>\n",
              "      <td>1</td>\n",
              "      <td>Реши задачу.\\nСколько коробок корма для собак ...</td>\n",
              "      <td>литература</td>\n",
              "    </tr>\n",
              "    <tr>\n",
              "      <th>2</th>\n",
              "      <td>2</td>\n",
              "      <td>Если групп элементов несколько, то применяется...</td>\n",
              "      <td>животные</td>\n",
              "    </tr>\n",
              "    <tr>\n",
              "      <th>3</th>\n",
              "      <td>3</td>\n",
              "      <td>Вопрос1                                       ...</td>\n",
              "      <td>животные</td>\n",
              "    </tr>\n",
              "    <tr>\n",
              "      <th>4</th>\n",
              "      <td>4</td>\n",
              "      <td>Для наглядной геометрической иллюстрации объём...</td>\n",
              "      <td>животные</td>\n",
              "    </tr>\n",
              "  </tbody>\n",
              "</table>\n",
              "</div>"
            ],
            "text/plain": [
              "   id                                              texts  prediction\n",
              "0   0  Вопрос 1 Денис готовится провести соревнования...       спорт\n",
              "1   1  Реши задачу.\\nСколько коробок корма для собак ...  литература\n",
              "2   2  Если групп элементов несколько, то применяется...    животные\n",
              "3   3  Вопрос1                                       ...    животные\n",
              "4   4  Для наглядной геометрической иллюстрации объём...    животные"
            ]
          },
          "metadata": {},
          "execution_count": 190
        }
      ]
    },
    {
      "cell_type": "code",
      "metadata": {
        "colab": {
          "base_uri": "https://localhost:8080/"
        },
        "id": "-4Vb-lqaMmy2",
        "outputId": "21153687-fb20-4934-9d4f-66dbe3451531"
      },
      "source": [
        "for id, st in tests[:20].iterrows():\n",
        "  print(st['prediction'])\n",
        "  print(st.texts)\n",
        "  print()"
      ],
      "execution_count": 191,
      "outputs": [
        {
          "output_type": "stream",
          "name": "stdout",
          "text": [
            "спорт\n",
            "Вопрос 1 Денис готовится провести соревнования по настольному хоккею и решил распечатать недостающие фигурки на принторе . Для изготовления одной 3D-модели у Дениса слишком мало времени, поэтому он решает использовать 2 принтера сразу, а потом склеить полученные детали. У специалиста сейчас в наличии 8 принтеров. Сколько у него есть вариантов выбора, если сначала он настраивает один из принтеров, а за ним — второй? \n",
            "\n",
            "литература\n",
            "Реши задачу.\n",
            "Сколько коробок корма для собак поместится в ящике, если все стороны ящика соответственно в 12 раз больше сторон коробки корма?\n",
            "\n",
            "животные\n",
            "Если групп элементов несколько, то применяется закон сложения. Если необходимо выбрать  элементы из одной группы и элементы из другой, то количество способов выбрать элементы из обеих групп будет равно \n",
            "Исходя из этого, реши задачу.\n",
            "Для получения зачета по физической культуре учащимся нужно выбрать направление в котром бы они занимались в течение года и сдавали зачет. По легкой отелитики предполагается 1 группа,  по футболу — 2 группы, по волейболу — 1 группа.\n",
            "Сколько есть вариантов выбора навравления существует?\n",
            "\n",
            "животные\n",
            "Вопрос1                                                                                                                                                                                                                                                             Прочитай условие задачи и ответь на вопросы.\n",
            "Недавно Никита оформил банковскую карту. Согласно условиям договора, банк обязуется возвращать ему 1% от суммы любой покупки и 5% от суммы затрат на продукты питания для домашних животных.\n",
            "В прошлом месяце Никита потратил 1100 рублей на корм для своих домашних животных и еще 1000 — на другие категории расходов.\n",
            "Вопрос 2                                                                                                                                                                                                                                                              Сколько денег получит Никита от банка в конце месяца? (Введи только число)                                                                                                                                             Вопрос 3                                                                                                                                                                                                                                                                    Как называется описанная услуга?\n",
            "\n",
            "животные\n",
            "Для наглядной геометрической иллюстрации объёмов понятий и соотношений между ними используются диаграммы Эйлера — Венна (круги Эйлера). Если имеются какие-либо понятия А, В, С и т. д., то объём каждого понятия (множество) можно представить в виде круга, а отношения между этими объектами (множествами) — в виде пересекающихся кругов.\n",
            "Изобразите у себя в тетради на одном рисунке следующие множества, используя круги Эйлера.\n",
            "Множество шестиклассников вашей школы.\n",
            "\n",
            "Множество шестиклассников вашей школы, увлекающихся футболом.\n",
            "\n",
            "Множество учащихся вашей школы, которые не играют в футбол.\n",
            "\n",
            "Множество шестиклассников вашей школы, выигрывавших турнир по футболу.\n",
            "\n",
            "Проверьте себя самостоятельно.\n",
            "\n",
            "литература\n",
            "Реши задачу в тетради.\n",
            "Дима осваивал новый метод отжиманий. После нескольких тренировок он решил отжиматься на время. Его результат составил 1 мин 45 с. за 15 отжиманий Тогда Дима составил график, в котором на время он отжимался при каждом пятом подходе. При этом на каждой пятой попытке его время улучшалось на 2%.\n",
            "Каково время 15-ти отжиманий было у Димы на 25-й попытке?\n",
            "При проведении вычислений каждый результат округляй до целого числа. Дай ответ в минутах и секундах.\n",
            "\n",
            "литература\n",
            "Вопрос1\n",
            "Выполни следующие задания.\n",
            "Вычисли среднее геометрическое выборки книг в классах: 15, 5, 9, 7, 14. Ответ округли до сотых.Вычисли среднее гармоническое выборки: 15, 5, 9, 7, 14. Ответ округли до сотых.\n",
            "\n",
            "животные\n",
            "Перед тобой лежит карта возможных маршрутов движения гребца по воде. Но как мы знаем, редко движение бывает равномерным. В нашем случае равномерному движению гребцу мешают природные препятствия: то бурное течение, то болотистая местность. Причём гребец двигается с разной скоростью на каждом из участков. Опираясь на описанные ниже условия, определи, по какому маршруту следует проплыть гребцу, чтобы быстрее добраться до своей цели. С какой средней скоростью двигался гребец на своём пути?\n",
            "Ответ округли до десятых.\n",
            "\n",
            "Начинай с клетки №1, двигаться можно только по указанным стрелкам.\n",
            "\n",
            "Верхняя строка:\n",
            "\n",
            " Левый блок\n",
            "(№1)\n",
            " Середина\n",
            "(№2)\n",
            " Правый блок\n",
            "(№3)\n",
            " Участок\n",
            " Спокойное течение\n",
            " Тина, водоросли\n",
            " Бурное течение\n",
            " v гребца\n",
            " 1 м/с\n",
            " 0,3 м/с\n",
            " 0,6 м/с\n",
            " \n",
            " 550 м\n",
            " 1 км\n",
            " 200 м\n",
            " \n",
            "\n",
            "\n",
            "Нижняя строка:\n",
            "\n",
            "\n",
            "\n",
            " Левый блок (№4)\n",
            " Середина (№5)\n",
            " Правый блок (№6)\n",
            " Участок\n",
            " \n",
            " Болотистая местность\n",
            " Каменистый брод\n",
            " v гребца\n",
            " \n",
            " 0,2 м/с\n",
            " 0,8 м/с\n",
            " S\n",
            " \n",
            " 620 м\n",
            " 250 м\n",
            " \n",
            "\n",
            "\"\n",
            "\n",
            "спорт\n",
            "На первом участке дороги машина ехала 2 ч со скоростью 72 км/ч, на втором 2 ч — со скоростью 58 км/ч, а на третьем 1 ч — со скоростью 65 км/ч. Найди среднюю скорость машины на всём пути.\n",
            "\n",
            "музыка\n",
            "Скорость гребцов по течению реки составляет 23,7 км/ч, а скорость против течения — 19,2 км/ч. На сколько км/ч скорость гребцов против течения меньше его скорости по течению?\n",
            "А. на 4,1 км/ч\n",
            "\n",
            "Б. на 4,5 км/ч\n",
            "\n",
            "В. на 5,5 км/ч\n",
            "\n",
            "Г. другой ответ\n",
            "\n",
            "Длина раздевалки спортзала 3,5 м, а ширина — 6,4 м. Вычисли площадь раздевалки.\n",
            "\n",
            "\n",
            "литература\n",
            "Алексей, Юрий и Татьяна получили написсать за неделю 45 сочинений. Они договорились написать разные сочинения, а потом рассказать друг другу сочинения. \n",
            "Татьяна написала 14 сочинений, что составляет (7/6) того количества сочинений, которое решил Алексей. А Юрий написал (4/3)  от того количества сочинений, которое решил Алексей. \n",
            "Кто написал больше всех сочинений, а кто — меньше всех? \n",
            "Удалось ли ребятам написать все сочинения? \n",
            "Сколько всего сочинений они написали?\n",
            "\n",
            "музыка\n",
            "Реши задачу:\n",
            "Найди площадь пола в женской раздевалки бассейна в форме квадрата со стороной численно втрое меньшей, чем площадь мужской раздевалки в форме прямоугольника, стороны которого равны:\n",
            "2 м 40 см и 5 м;\n",
            "\n",
            "0,1 м и 1 м 20 см;\n",
            "\n",
            "3,6 м и 2,1 м.\n",
            "\n",
            "Решение и ответ должны быть представлены в метрах.\n",
            "Проверь себя самостоятельно.\n",
            "\n",
            "животные\n",
            "Вася купил 25 м лески и изготовил три удочки для ловли Судака. На первую удочку он израсходовал 5(10/20) м лески, на вторую — на 16/20 м меньше, а на третью удочку — на 5(5/20) м меньше, чем на первую и вторую вместе. Сколько метров лески осталось у Васи?\n",
            "\n",
            "литература\n",
            "Вопрос 1\n",
            "Реши задачу:\n",
            "Из пунктов А и В, расстояние между которыми 8 км, одновременно и в одном направлении выехал человек на роликах со скоростью 8 км/ч и выехал человек на электросамокате. Найди скорость электросамоката, если он догнал человека на роликах через 50 минут. \n",
            "Ответ запиши без единиц измерения.\n",
            "\n",
            "\n",
            "литература\n",
            "Реши задачу:\n",
            "Турист пошёл от Москвы к Вологде. Он проходил в день по 43 км. Через день из Вологды в Москву вышел другой турист, проходивший в день по 53 км. Через сколько дней второй встретит первого, если между Москвой и Вологдой 427 км?\n",
            "\n",
            "Выполни задания:\n",
            "Составь схему к этой задаче.\n",
            "Запиши решение задачи.\n",
            "Обсудите схему и решение с кем-нибудь из класса.\n",
            "\n",
            "спорт\n",
            "Определи время и место встречи пешехода и велосипедиста, которые движутся навстречу друг другу со скоростями  \n",
            "1.4 м/с и  18км/ч соответственно, если начальное расстояние между ними  1 км и они начинают движение одновременно.\n",
            "Сколько метров пройдёт пешеход до места встречи?\n",
            "Сколько проедет велосипедист до места встречи?\n",
            "\n",
            "литература\n",
            "Вопрос2\n",
            "Объединитесь в пары для выполнения задания.\n",
            "Две подружки, Даша и Ангелина, решили посоревноваться и придумать спортивную игру, в которой разброс заданий игроков будет максимально большим. «Ведь это не менее креативная задача, чем постановка любого учебного эксперимента!» — подумали они и принялись за работу.\n",
            "В итоге девушки получили следующие данные своих тгр.\n",
            "Даша 100 2 5 67 52 5 Ангелина 89 4 56 52 3 1 \n",
            "Что конкретно мерили девушки — неважно, придумать такие опросы предлагается лично вам. А вопрос задачи простой: которая из девушек победила? Впишите её имя в поле ответа.\n",
            "\n",
            "\n",
            "литература\n",
            "Реши задачу.\n",
            "В книге о кулинарии говорится о  том,что груши, содержащие 65% воды, теряют при сушке 50% своей массы. Сколько процентов воды содержат сушёные груши?\n",
            "\n",
            "животные\n",
            "Семья Маши переезжает в новый дом, в которой у девочки будет своя комната для спорта.\n",
            "На схеме указаны величины в сантиметрах.Помогите Маше, ученице 5-го класса, создать комнату мечты. Для этого объединитесь в группы.\n",
            "Какая мебель обязательно должна быть в спортивной комнате, чтобы весь спортивные пренадлежности лежали на своих местах, было удобно тренироваться, достигать новых успехов в спорте? Где у Маши должна стоять беговая дорожка?\n",
            "Не забудьте, что в комнате должно оставаться свободное место, чтобы Маша мог сделать зарядку, поиграть с друзьями или просто устроить соревнование своих друзей. Посчитайте, сколько свободного места остаётся в комнате Маши.\n",
            "А еще Маша очень хочет повесить полку, чтобы расставлять на ней грамоты и свои кубки.\n",
            "Нарисуйте расстановку мебели на плане спортивной комнаты. Укажите все необходимые размеры и площади: размеры и площадь комнаты, габариты предметов, площадь, занятую мебелью, и свободную площадь для соревнований.\n",
            "\n",
            "литература\n",
            "Прочитай условие задачи и ответь на вопросы.\n",
            "В современной книге история начинается с того что мама давно хочет купить в квартиру новую стиральную машину. Если она начнёт откладывать часть своей зарплаты, у неё получится купить стиральную машину за 60 дней. Если она попросит папу откладывать часть своей зарплаты, он сможет купить стиральную машину через 30 дней. \n",
            "А. За какой промежуток времени родители смогут купить стиральную машину, если будут откладывать деньги вместе?\n",
            "Б. Мама и папа решили составить личный финансовый план достижения своей финансовой цели — покупки стиральной машины. Какие этапы планирования им необходимо выполнить?\n",
            "\n"
          ]
        }
      ]
    }
  ]
}