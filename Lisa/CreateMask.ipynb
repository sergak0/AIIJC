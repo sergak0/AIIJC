{
  "nbformat": 4,
  "nbformat_minor": 5,
  "metadata": {
    "colab": {
      "name": "CreateMask.ipynb",
      "provenance": [],
      "collapsed_sections": [],
      "machine_shape": "hm"
    },
    "kernelspec": {
      "display_name": "Python 3",
      "language": "python",
      "name": "python3"
    },
    "language_info": {
      "codemirror_mode": {
        "name": "ipython",
        "version": 3
      },
      "file_extension": ".py",
      "mimetype": "text/x-python",
      "name": "python",
      "nbconvert_exporter": "python",
      "pygments_lexer": "ipython3",
      "version": "3.9.1"
    }
  },
  "cells": [
    {
      "cell_type": "markdown",
      "metadata": {
        "id": "hpKNYvQQE08G"
      },
      "source": [
        "# Зависимости\n",
        "\n"
      ],
      "id": "hpKNYvQQE08G"
    },
    {
      "cell_type": "code",
      "metadata": {
        "colab": {
          "base_uri": "https://localhost:8080/"
        },
        "id": "rckox-oHcZOe",
        "outputId": "a1eb5ec6-3a98-423b-a3ee-69cbcb68fc4e"
      },
      "source": [
        "from google.colab import drive\n",
        "drive.mount('/content/drive')"
      ],
      "id": "rckox-oHcZOe",
      "execution_count": 1,
      "outputs": [
        {
          "output_type": "stream",
          "name": "stdout",
          "text": [
            "Mounted at /content/drive\n"
          ]
        }
      ]
    },
    {
      "cell_type": "code",
      "metadata": {
        "colab": {
          "base_uri": "https://localhost:8080/"
        },
        "id": "xqIE6q9ksTge",
        "outputId": "ffa57dbb-93f2-4576-9152-d8c8c5910f92"
      },
      "source": [
        "! pip install numpy\n",
        "! pip install pymorphy2[fast]\n",
        "! pip install nltk\n"
      ],
      "id": "xqIE6q9ksTge",
      "execution_count": 2,
      "outputs": [
        {
          "output_type": "stream",
          "name": "stdout",
          "text": [
            "Requirement already satisfied: numpy in /usr/local/lib/python3.7/dist-packages (1.19.5)\n",
            "Collecting pymorphy2[fast]\n",
            "  Downloading pymorphy2-0.9.1-py3-none-any.whl (55 kB)\n",
            "\u001b[K     |████████████████████████████████| 55 kB 2.7 MB/s \n",
            "\u001b[?25hRequirement already satisfied: docopt>=0.6 in /usr/local/lib/python3.7/dist-packages (from pymorphy2[fast]) (0.6.2)\n",
            "Collecting dawg-python>=0.7.1\n",
            "  Downloading DAWG_Python-0.7.2-py2.py3-none-any.whl (11 kB)\n",
            "Collecting pymorphy2-dicts-ru<3.0,>=2.4\n",
            "  Downloading pymorphy2_dicts_ru-2.4.417127.4579844-py2.py3-none-any.whl (8.2 MB)\n",
            "\u001b[K     |████████████████████████████████| 8.2 MB 24.5 MB/s \n",
            "\u001b[?25hCollecting DAWG>=0.8\n",
            "  Downloading DAWG-0.8.0.tar.gz (371 kB)\n",
            "\u001b[K     |████████████████████████████████| 371 kB 64.2 MB/s \n",
            "\u001b[?25hBuilding wheels for collected packages: DAWG\n",
            "  Building wheel for DAWG (setup.py) ... \u001b[?25l\u001b[?25hdone\n",
            "  Created wheel for DAWG: filename=DAWG-0.8.0-cp37-cp37m-linux_x86_64.whl size=871496 sha256=b46ec96de43116548b7096d6d681d23c07b5f1a6cc3b93f3b5573e32e55bf166\n",
            "  Stored in directory: /root/.cache/pip/wheels/85/51/a4/2de41ff197786537075027c27b479a38da92f50abc86634445\n",
            "Successfully built DAWG\n",
            "Installing collected packages: pymorphy2-dicts-ru, dawg-python, pymorphy2, DAWG\n",
            "Successfully installed DAWG-0.8.0 dawg-python-0.7.2 pymorphy2-0.9.1 pymorphy2-dicts-ru-2.4.417127.4579844\n",
            "Requirement already satisfied: nltk in /usr/local/lib/python3.7/dist-packages (3.2.5)\n",
            "Requirement already satisfied: six in /usr/local/lib/python3.7/dist-packages (from nltk) (1.15.0)\n"
          ]
        }
      ]
    },
    {
      "cell_type": "code",
      "metadata": {
        "id": "b15af6c3"
      },
      "source": [
        "import random\n",
        "import nltk\n",
        "import re\n",
        "import string\n",
        "import os\n",
        "import shutil\n",
        "from nltk.corpus import stopwords\n",
        "import pandas as pd\n",
        "import torch\n",
        "import matplotlib.pyplot as plt\n",
        "import numpy as np\n",
        "from sklearn.model_selection import train_test_split\n",
        "from tqdm import tqdm\n",
        "import gensim\n",
        "from gensim.corpora.dictionary import Dictionary\n",
        "import torch\n",
        "from torch import nn\n",
        "from torch.nn import functional as F\n",
        "from torch.utils.data import TensorDataset, DataLoader\n",
        "from torchvision.transforms import ToTensor\n",
        "import warnings \n",
        "from sklearn.linear_model import LogisticRegression\n",
        "from PIL import Image\n",
        "from IPython.display import clear_output\n",
        "from typing import List\n",
        "import nltk\n",
        "import string\n",
        "import pymorphy2\n",
        "import codecs\n",
        "from gensim.models import KeyedVectors\n",
        "from sklearn.metrics.pairwise import cosine_similarity"
      ],
      "id": "b15af6c3",
      "execution_count": 3,
      "outputs": []
    },
    {
      "cell_type": "code",
      "metadata": {
        "id": "RjCGXv1dtVw3"
      },
      "source": [
        "warnings.filterwarnings(action='ignore',category=UserWarning, module='gensim')  \n",
        "warnings.filterwarnings(action='ignore',category=FutureWarning, module='gensim')  \n",
        "warnings.filterwarnings(action='ignore',category=DeprecationWarning, module='gensim')\n",
        "warnings.filterwarnings(action='ignore',category=DeprecationWarning, module='smart_open') \n",
        "warnings.filterwarnings(action='ignore',category=DeprecationWarning, module='sklearn')\n",
        "warnings.filterwarnings(action='ignore',category=DeprecationWarning, module='scipy')    \n",
        "warnings.filterwarnings(action='ignore',category=DeprecationWarning, module='pymorphy2')"
      ],
      "id": "RjCGXv1dtVw3",
      "execution_count": 4,
      "outputs": []
    },
    {
      "cell_type": "code",
      "metadata": {
        "colab": {
          "base_uri": "https://localhost:8080/"
        },
        "id": "Bo_synQqmk89",
        "outputId": "8b1af2d7-8db1-4208-c673-e15eaea3f1a8"
      },
      "source": [
        "nltk.download('stopwords')\n",
        "nltk.download('punkt')\n",
        "stopWordsRu = set(stopwords.words(\"russian\")) \n",
        "device = torch.device(\"cuda:0\" if torch.cuda.is_available() else \"cpu\")"
      ],
      "id": "Bo_synQqmk89",
      "execution_count": 5,
      "outputs": [
        {
          "output_type": "stream",
          "name": "stdout",
          "text": [
            "[nltk_data] Downloading package stopwords to /root/nltk_data...\n",
            "[nltk_data]   Unzipping corpora/stopwords.zip.\n",
            "[nltk_data] Downloading package punkt to /root/nltk_data...\n",
            "[nltk_data]   Unzipping tokenizers/punkt.zip.\n"
          ]
        }
      ]
    },
    {
      "cell_type": "code",
      "metadata": {
        "id": "GdkwmNGLHSAJ"
      },
      "source": [
        "class MaskCreator():\n",
        "\n",
        "  def __init__(self):\n",
        "    self.morph = pymorphy2.MorphAnalyzer()\n",
        "    self.tokenizer = nltk.WordPunctTokenizer()\n",
        "    self.bigram_mod = gensim.models.Phrases.load(\"/content/drive/MyDrive/aiijc_sber/bigram_model.pkl\")\n",
        "    self.keywords = set()\n",
        "    for category in ['literature', 'music', 'sport', 'animals']:\n",
        "      with open(\"/content/drive/MyDrive/aiijc_sber/true_keywords_nouns_\" + category+ \".txt\", 'r') as file:\n",
        "        self.keywords |= set([line.strip() for line in file.readlines()])\n",
        "\n",
        "  def mask(self, text) -> (str, List[str]):\n",
        "    mask_num = 0\n",
        "    masks_dict = []\n",
        "    tokens = self.tokenizer.tokenize(text)\n",
        "    for token in tokens:\n",
        "      word = self.morph.parse(token.lower())[0].normal_form\n",
        "      if word in self.keywords:\n",
        "        text = text.replace(token, 'mask' + str(mask_num))\n",
        "        if word not in masks_dict:\n",
        "          masks_dict.append(word)\n",
        "          mask_num += 1\n",
        "    return text, masks_dict"
      ],
      "id": "GdkwmNGLHSAJ",
      "execution_count": 23,
      "outputs": []
    },
    {
      "cell_type": "code",
      "metadata": {
        "colab": {
          "base_uri": "https://localhost:8080/"
        },
        "id": "l44kEXwuMt-w",
        "outputId": "04c35407-f0f3-435f-9a43-c285e341b0f8"
      },
      "source": [
        "MaskCreator().mask(\"В книге рассказывается история о том, как Гном и эльф стреляли на дальность и поспорили о том, чья стрела улетит дальше. Решили, что у каждого будет по три попытки, из которых засчитывается самая лучшая. Эльф стрелял из лука, и в первый раз стрела улетела на 56 футов. Во второй раз стрела улетела на 7 футов дальше, а в третий — на 2 фута ближе. Гном стрелял из арбалета, и в первой попытке его стрела улетела на 8 футов ближе, чем в третьей попытке. Во второй попытке — на 58 футов, а в третьей — на 5 футов дальше, чем во второй. На сколько процентов отличается расстояние лучшего выстрела эльфа от расстояния лучшего выстрела гнома? Расстояние лучшего выстрела эльфа отличается на … % от расстояния лучшего выстрела гнома. Введи ответ без пробелов и единиц измерения.\")"
      ],
      "id": "l44kEXwuMt-w",
      "execution_count": 24,
      "outputs": [
        {
          "output_type": "execute_result",
          "data": {
            "text/plain": [
              "('В mask0 рассказывается история о том, как mask1 и mask2 стреляли на дальность и поспорили о том, чья стрела улетит дальше. Решили, что у каждого будет по три попытки, из которых засчитывается самая лучшая. mask3 стрелял из лука, и в первый раз стрела улетела на 56 футов. Во второй раз стрела улетела на 7 футов дальше, а в третий — на 2 фута ближе. mask1 стрелял из арбалета, и в первой попытке его стрела улетела на 8 футов ближе, чем в третьей попытке. Во второй попытке — на 58 футов, а в третьей — на 5 футов дальше, чем во второй. На сколько процентов отличается mask3 лучшего выстрела mask2а от mask4 лучшего выстрела mask4? mask4 лучшего выстрела mask2а отличается на … % от mask4 лучшего выстрела mask4. Введи ответ без пробелов и единиц mask4.',\n",
              " ['книга', 'гном', 'эльф', 'расстояние', 'измерение'])"
            ]
          },
          "metadata": {},
          "execution_count": 24
        }
      ]
    }
  ]
}