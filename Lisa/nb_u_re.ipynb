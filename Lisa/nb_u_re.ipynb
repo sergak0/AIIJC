{
  "nbformat": 4,
  "nbformat_minor": 5,
  "metadata": {
    "colab": {
      "name": "nb_u_re.ipynb",
      "provenance": [],
      "collapsed_sections": [],
      "toc_visible": true,
      "machine_shape": "hm",
      "include_colab_link": true
    },
    "kernelspec": {
      "display_name": "Python 3",
      "language": "python",
      "name": "python3"
    },
    "language_info": {
      "codemirror_mode": {
        "name": "ipython",
        "version": 3
      },
      "file_extension": ".py",
      "mimetype": "text/x-python",
      "name": "python",
      "nbconvert_exporter": "python",
      "pygments_lexer": "ipython3",
      "version": "3.9.1"
    }
  },
  "cells": [
    {
      "cell_type": "markdown",
      "metadata": {
        "id": "view-in-github",
        "colab_type": "text"
      },
      "source": [
        "<a href=\"https://colab.research.google.com/github/sergak0/AIIJC/blob/main/Lisa/nb_u_re.ipynb\" target=\"_parent\"><img src=\"https://colab.research.google.com/assets/colab-badge.svg\" alt=\"Open In Colab\"/></a>"
      ]
    },
    {
      "cell_type": "markdown",
      "metadata": {
        "id": "hpKNYvQQE08G"
      },
      "source": [
        "# Зависимости\n",
        "\n"
      ],
      "id": "hpKNYvQQE08G"
    },
    {
      "cell_type": "code",
      "metadata": {
        "colab": {
          "base_uri": "https://localhost:8080/"
        },
        "id": "rckox-oHcZOe",
        "outputId": "4d80a24d-ad52-4a81-afba-5f25c5784af3"
      },
      "source": [
        "from google.colab import drive\n",
        "drive.mount('/content/drive')"
      ],
      "id": "rckox-oHcZOe",
      "execution_count": null,
      "outputs": [
        {
          "output_type": "stream",
          "name": "stdout",
          "text": [
            "Drive already mounted at /content/drive; to attempt to forcibly remount, call drive.mount(\"/content/drive\", force_remount=True).\n"
          ]
        }
      ]
    },
    {
      "cell_type": "code",
      "metadata": {
        "colab": {
          "base_uri": "https://localhost:8080/"
        },
        "id": "AftHUxYBqBvE",
        "outputId": "14901cb2-bc80-41e3-b4c1-2816ecedcb97"
      },
      "source": [
        "!pip install pymorphy2[fast]"
      ],
      "id": "AftHUxYBqBvE",
      "execution_count": null,
      "outputs": [
        {
          "output_type": "stream",
          "name": "stdout",
          "text": [
            "Requirement already satisfied: pymorphy2[fast] in /usr/local/lib/python3.7/dist-packages (0.9.1)\n",
            "Requirement already satisfied: pymorphy2-dicts-ru<3.0,>=2.4 in /usr/local/lib/python3.7/dist-packages (from pymorphy2[fast]) (2.4.417127.4579844)\n",
            "Requirement already satisfied: dawg-python>=0.7.1 in /usr/local/lib/python3.7/dist-packages (from pymorphy2[fast]) (0.7.2)\n",
            "Requirement already satisfied: docopt>=0.6 in /usr/local/lib/python3.7/dist-packages (from pymorphy2[fast]) (0.6.2)\n",
            "Requirement already satisfied: DAWG>=0.8 in /usr/local/lib/python3.7/dist-packages (from pymorphy2[fast]) (0.8.0)\n"
          ]
        }
      ]
    },
    {
      "cell_type": "code",
      "metadata": {
        "id": "b15af6c3"
      },
      "source": [
        "import random\n",
        "import re\n",
        "import string\n",
        "import pandas as pd\n",
        "import torch\n",
        "import matplotlib.pyplot as plt\n",
        "import numpy as np\n",
        "from sklearn.model_selection import train_test_split\n",
        "from tqdm import tqdm\n",
        "import gensim\n",
        "from gensim.corpora.dictionary import Dictionary\n",
        "from gensim.models import LdaMulticore\n",
        "from torch import nn\n",
        "from torch.nn import functional as F\n",
        "from torch.utils.data import TensorDataset, DataLoader\n",
        "from torchvision.transforms import ToTensor\n",
        "import warnings \n",
        "from sklearn.linear_model import LogisticRegression\n",
        "from PIL import Image\n",
        "from IPython.display import clear_output\n",
        "from sklearn.naive_bayes import MultinomialNB\n",
        "from sklearn.pipeline import Pipeline\n",
        "from sklearn.feature_extraction.text import TfidfTransformer\n",
        "from sklearn.feature_extraction.text import CountVectorizer, TfidfVectorizer\n",
        "from sklearn.metrics import accuracy_score, confusion_matrix\n",
        "from typing import List\n",
        "from sklearn.metrics import classification_report\n",
        "import pickle\n",
        "from typing import List\n",
        "import nltk\n",
        "import string\n",
        "import pymorphy2\n",
        "import codecs\n",
        "from gensim.models import KeyedVectors\n",
        "from sklearn.metrics.pairwise import cosine_similarity"
      ],
      "id": "b15af6c3",
      "execution_count": null,
      "outputs": []
    },
    {
      "cell_type": "code",
      "metadata": {
        "id": "RjCGXv1dtVw3"
      },
      "source": [
        "warnings.filterwarnings(action='ignore',category=UserWarning, module='gensim')  \n",
        "warnings.filterwarnings(action='ignore',category=FutureWarning, module='gensim')  \n",
        "warnings.filterwarnings(action='ignore',category=DeprecationWarning, module='gensim')\n",
        "warnings.filterwarnings(action='ignore',category=DeprecationWarning, module='smart_open') \n",
        "warnings.filterwarnings(action='ignore',category=DeprecationWarning, module='sklearn')\n",
        "warnings.filterwarnings(action='ignore',category=DeprecationWarning, module='scipy')    "
      ],
      "id": "RjCGXv1dtVw3",
      "execution_count": null,
      "outputs": []
    },
    {
      "cell_type": "code",
      "metadata": {
        "id": "Bo_synQqmk89"
      },
      "source": [
        "device = torch.device(\"cuda:0\" if torch.cuda.is_available() else \"cpu\")"
      ],
      "id": "Bo_synQqmk89",
      "execution_count": null,
      "outputs": []
    },
    {
      "cell_type": "markdown",
      "metadata": {
        "id": "9va_hIzo6sBZ"
      },
      "source": [
        "# Create our model"
      ],
      "id": "9va_hIzo6sBZ"
    },
    {
      "cell_type": "code",
      "metadata": {
        "id": "UnQkaRP0Qh8J"
      },
      "source": [
        "class Preparator():\n",
        "    def __init__(self,\n",
        "                 preparator_fold_name: str = '/content/drive/MyDrive/aiijc_sber/'):\n",
        "        stopwords_path = preparator_fold_name + 'all_stopwords.txt'\n",
        "        bigram_model_path = preparator_fold_name + 'bigram_model.pkl'\n",
        "        self.morph = pymorphy2.MorphAnalyzer()\n",
        "        self.tokenizer = nltk.WordPunctTokenizer()\n",
        "        self.stopwords = set(line.strip() for line in codecs.open(stopwords_path, \"r\", \"utf_8_sig\").readlines())\n",
        "        self.bigram_mod = gensim.models.Phrases.load(bigram_model_path)\n",
        "\n",
        "    def prepare_corp(self, news_list: List[str]):\n",
        "        return [self.newstext2token(news_text) for news_text in news_list]\n",
        "\n",
        "    def newstext2token(self, news_text: str):\n",
        "        tokens = self.tokenizer.tokenize(news_text.lower())\n",
        "        tokens_with_no_punct = [self.morph.parse(w)[0].normal_form for w in tokens if\n",
        "                                all(c in 'йцукенгшщзхъёфывапролджэячсмитьбю' for c in w)]\n",
        "        tokens_base_forms = [w for w in tokens_with_no_punct if w not in self.stopwords]\n",
        "        tokens_last = [w for w in tokens_base_forms if len(w) > 1]\n",
        "        tokens_bigrammed = self.make_bigrams(tokens_last)\n",
        "        return ' '.join(tokens_bigrammed)\n",
        "\n",
        "    def make_bigrams(self, doc):\n",
        "        return self.bigram_mod[doc]\n",
        "\n",
        "    def prepare_texts(self, texts):\n",
        "        return self.prepare_corp(texts)\n",
        "\n"
      ],
      "id": "UnQkaRP0Qh8J",
      "execution_count": null,
      "outputs": []
    },
    {
      "cell_type": "code",
      "metadata": {
        "id": "wV50FKIuOvAf"
      },
      "source": [
        "class BayesModel():\n",
        "\n",
        "    def __init__(self,\n",
        "                 pretrained=True,\n",
        "                 nb_fold_name: str = '/content/drive/MyDrive/aiijc_sber/nb/'):\n",
        "\n",
        "        if not pretrained:\n",
        "            self.vect = CountVectorizer()\n",
        "            self.tfidf = TfidfTransformer()\n",
        "            self.clf = MultinomialNB()\n",
        "        else:\n",
        "            self.vect = pickle.load(open(nb_fold_name + 'nb_vect.sav', 'rb'))\n",
        "            self.tfidf = pickle.load(open(nb_fold_name + 'nb_tfidf.sav', 'rb'))\n",
        "            self.clf = pickle.load(open(nb_fold_name + 'nb_clf.sav', 'rb'))\n",
        "\n",
        "        self.nb = Pipeline([('vect', self.vect),\n",
        "                            ('tfidf', self.tfidf),\n",
        "                            ('clf', self.clf),\n",
        "                            ])\n",
        "\n",
        "        self.classes = ['животные', \"музыка\", \"спорт\", \"литература\"]\n",
        "\n",
        "    def fit(self, X_train, Y_train):\n",
        "        self.nb.fit(X_train, Y_train)\n",
        "\n",
        "    def predict(self, X_test: List[str]):\n",
        "        return self.nb.predict(X_test)\n",
        "\n",
        "    def predict_proba(self, X_test: List[str]):\n",
        "        return self.nb.predict_proba(X_test)\n",
        "\n",
        "    def show_metrics(self, X_test, Y_test):\n",
        "        y_pred = self.predict(X_test)\n",
        "        print('accuracy %s' % accuracy_score(y_pred, Y_test))\n",
        "        print(classification_report(Y_test, y_pred, target_names=self.classes))\n",
        "\n",
        "    def score(self, X_test, Y_test):\n",
        "        return self.nb.score(X_test, Y_test)\n",
        "\n",
        "    def save_models(self,\n",
        "                    nb_fold_name: str = '/content/drive/MyDrive/aiijc_sber/nb/'):\n",
        "        pickle.dump(self.vect, open(nb_fold_name + \"nb_vect.sav\", 'wb'))\n",
        "        pickle.dump(self.tfidf, open(nb_fold_name + 'nb_tfidf.sav', 'wb'))\n",
        "        pickle.dump(self.clf, open(nb_fold_name + 'nb_clf.sav', 'wb'))\n"
      ],
      "id": "wV50FKIuOvAf",
      "execution_count": null,
      "outputs": []
    },
    {
      "cell_type": "code",
      "metadata": {
        "id": "JMnf9ZXCpc8N"
      },
      "source": [
        "nb_model = BayesModel(pretrained=False)"
      ],
      "id": "JMnf9ZXCpc8N",
      "execution_count": null,
      "outputs": []
    },
    {
      "cell_type": "markdown",
      "metadata": {
        "id": "-hJjvaHI6xFU"
      },
      "source": [
        "# Concat the data we downloaded and marked"
      ],
      "id": "-hJjvaHI6xFU"
    },
    {
      "cell_type": "code",
      "metadata": {
        "colab": {
          "base_uri": "https://localhost:8080/",
          "height": 203
        },
        "id": "rrEoWwIrPC6L",
        "outputId": "9a8e787d-77c9-4a65-a178-4cb422b5677f"
      },
      "source": [
        "all_data = pd.read_csv('/content/drive/MyDrive/aiijc_sber/tokens_full_cleaned.csv')\n",
        "all_data.head()"
      ],
      "id": "rrEoWwIrPC6L",
      "execution_count": null,
      "outputs": [
        {
          "output_type": "execute_result",
          "data": {
            "text/html": [
              "<div>\n",
              "<style scoped>\n",
              "    .dataframe tbody tr th:only-of-type {\n",
              "        vertical-align: middle;\n",
              "    }\n",
              "\n",
              "    .dataframe tbody tr th {\n",
              "        vertical-align: top;\n",
              "    }\n",
              "\n",
              "    .dataframe thead th {\n",
              "        text-align: right;\n",
              "    }\n",
              "</style>\n",
              "<table border=\"1\" class=\"dataframe\">\n",
              "  <thead>\n",
              "    <tr style=\"text-align: right;\">\n",
              "      <th></th>\n",
              "      <th>Unnamed: 0</th>\n",
              "      <th>texts</th>\n",
              "      <th>y</th>\n",
              "      <th>tokens</th>\n",
              "    </tr>\n",
              "  </thead>\n",
              "  <tbody>\n",
              "    <tr>\n",
              "      <th>0</th>\n",
              "      <td>0</td>\n",
              "      <td>Живо́тные (лат. Animalia) — традиционно (со вр...</td>\n",
              "      <td>0</td>\n",
              "      <td>живо тный лата аристотель выделять организм би...</td>\n",
              "    </tr>\n",
              "    <tr>\n",
              "      <th>1</th>\n",
              "      <td>1</td>\n",
              "      <td>Пти́цы (лат. Aves) — группа теплокровных яйцек...</td>\n",
              "      <td>0</td>\n",
              "      <td>пти цы лата группа теплокровный яйцекладущий п...</td>\n",
              "    </tr>\n",
              "    <tr>\n",
              "      <th>2</th>\n",
              "      <td>2</td>\n",
              "      <td>Союз охраны птиц России (СОПР) — общероссийска...</td>\n",
              "      <td>0</td>\n",
              "      <td>союз охрана птица россия сопра общероссийский ...</td>\n",
              "    </tr>\n",
              "    <tr>\n",
              "      <th>3</th>\n",
              "      <td>3</td>\n",
              "      <td>Крючковидные отростки рёбер — костяные выросты...</td>\n",
              "      <td>0</td>\n",
              "      <td>крючковидный отросток ребро костяной вырост ве...</td>\n",
              "    </tr>\n",
              "    <tr>\n",
              "      <th>4</th>\n",
              "      <td>4</td>\n",
              "      <td>Myxozoa (лат.) — класс или подтип паразитическ...</td>\n",
              "      <td>0</td>\n",
              "      <td>лата класс подтип паразитический беспозвоночны...</td>\n",
              "    </tr>\n",
              "  </tbody>\n",
              "</table>\n",
              "</div>"
            ],
            "text/plain": [
              "   Unnamed: 0  ...                                             tokens\n",
              "0           0  ...  живо тный лата аристотель выделять организм би...\n",
              "1           1  ...  пти цы лата группа теплокровный яйцекладущий п...\n",
              "2           2  ...  союз охрана птица россия сопра общероссийский ...\n",
              "3           3  ...  крючковидный отросток ребро костяной вырост ве...\n",
              "4           4  ...  лата класс подтип паразитический беспозвоночны...\n",
              "\n",
              "[5 rows x 4 columns]"
            ]
          },
          "metadata": {},
          "execution_count": 44
        }
      ]
    },
    {
      "cell_type": "code",
      "metadata": {
        "colab": {
          "base_uri": "https://localhost:8080/",
          "height": 203
        },
        "id": "5YoN1tQDP0y-",
        "outputId": "1fffe0f8-e28f-4c08-e493-c9bba638739c"
      },
      "source": [
        "dop = pd.read_csv('/content/drive/MyDrive/aiijc_sber/full_marked_dataset.csv')\n",
        "dop = dop[dop.ans!='неизвестно']\n",
        "dop.head()"
      ],
      "id": "5YoN1tQDP0y-",
      "execution_count": null,
      "outputs": [
        {
          "output_type": "execute_result",
          "data": {
            "text/html": [
              "<div>\n",
              "<style scoped>\n",
              "    .dataframe tbody tr th:only-of-type {\n",
              "        vertical-align: middle;\n",
              "    }\n",
              "\n",
              "    .dataframe tbody tr th {\n",
              "        vertical-align: top;\n",
              "    }\n",
              "\n",
              "    .dataframe thead th {\n",
              "        text-align: right;\n",
              "    }\n",
              "</style>\n",
              "<table border=\"1\" class=\"dataframe\">\n",
              "  <thead>\n",
              "    <tr style=\"text-align: right;\">\n",
              "      <th></th>\n",
              "      <th>Unnamed: 0</th>\n",
              "      <th>text</th>\n",
              "      <th>ans</th>\n",
              "    </tr>\n",
              "  </thead>\n",
              "  <tbody>\n",
              "    <tr>\n",
              "      <th>0</th>\n",
              "      <td>0</td>\n",
              "      <td>\\t1.1. Летом в спортивный лагерь ходили 50 дет...</td>\n",
              "      <td>спорт</td>\n",
              "    </tr>\n",
              "    <tr>\n",
              "      <th>1</th>\n",
              "      <td>1</td>\n",
              "      <td>\\t1.2. На концерте в летнем лагере ребята игра...</td>\n",
              "      <td>музыка</td>\n",
              "    </tr>\n",
              "    <tr>\n",
              "      <th>3</th>\n",
              "      <td>3</td>\n",
              "      <td>\\t1.4. Во время летних соревнований по плавани...</td>\n",
              "      <td>спорт</td>\n",
              "    </tr>\n",
              "    <tr>\n",
              "      <th>4</th>\n",
              "      <td>4</td>\n",
              "      <td>\\t1.5. В спортивную школу во время летних кани...</td>\n",
              "      <td>спорт</td>\n",
              "    </tr>\n",
              "    <tr>\n",
              "      <th>6</th>\n",
              "      <td>6</td>\n",
              "      <td>\\t1.7. Самые крупные животные на нашей планете...</td>\n",
              "      <td>животные</td>\n",
              "    </tr>\n",
              "  </tbody>\n",
              "</table>\n",
              "</div>"
            ],
            "text/plain": [
              "   Unnamed: 0                                               text       ans\n",
              "0           0  \\t1.1. Летом в спортивный лагерь ходили 50 дет...     спорт\n",
              "1           1  \\t1.2. На концерте в летнем лагере ребята игра...    музыка\n",
              "3           3  \\t1.4. Во время летних соревнований по плавани...     спорт\n",
              "4           4  \\t1.5. В спортивную школу во время летних кани...     спорт\n",
              "6           6  \\t1.7. Самые крупные животные на нашей планете...  животные"
            ]
          },
          "metadata": {},
          "execution_count": 46
        }
      ]
    },
    {
      "cell_type": "code",
      "metadata": {
        "colab": {
          "base_uri": "https://localhost:8080/",
          "height": 203
        },
        "id": "7gTYi0fbVZct",
        "outputId": "c13829d0-2ee1-4849-8bde-f27a543781b2"
      },
      "source": [
        "facts2 = pd.read_csv('/content/drive/MyDrive/aiijc_sber/facts2.csv')\n",
        "mit_dict = {0:\"животные\",\n",
        "            1: \"музыка\",\n",
        "            2: \"спорт\",\n",
        "            3: \"литература\"}\n",
        "facts2.labels = [mit_dict[i] for i in facts2.labels]\n",
        "facts2.head()"
      ],
      "id": "7gTYi0fbVZct",
      "execution_count": null,
      "outputs": [
        {
          "output_type": "execute_result",
          "data": {
            "text/html": [
              "<div>\n",
              "<style scoped>\n",
              "    .dataframe tbody tr th:only-of-type {\n",
              "        vertical-align: middle;\n",
              "    }\n",
              "\n",
              "    .dataframe tbody tr th {\n",
              "        vertical-align: top;\n",
              "    }\n",
              "\n",
              "    .dataframe thead th {\n",
              "        text-align: right;\n",
              "    }\n",
              "</style>\n",
              "<table border=\"1\" class=\"dataframe\">\n",
              "  <thead>\n",
              "    <tr style=\"text-align: right;\">\n",
              "      <th></th>\n",
              "      <th>texts</th>\n",
              "      <th>labels</th>\n",
              "    </tr>\n",
              "  </thead>\n",
              "  <tbody>\n",
              "    <tr>\n",
              "      <th>0</th>\n",
              "      <td>1 Хамелеоны могут двигать глазами в разных нап...</td>\n",
              "      <td>животные</td>\n",
              "    </tr>\n",
              "    <tr>\n",
              "      <th>1</th>\n",
              "      <td>2 Белка – лучший садовник. Миллионы деревьев в...</td>\n",
              "      <td>животные</td>\n",
              "    </tr>\n",
              "    <tr>\n",
              "      <th>2</th>\n",
              "      <td>3 Зуб слона  может весить до девяти килограмм!</td>\n",
              "      <td>животные</td>\n",
              "    </tr>\n",
              "    <tr>\n",
              "      <th>3</th>\n",
              "      <td>4 У млекопитающих кровь красная, у насекомых ж...</td>\n",
              "      <td>животные</td>\n",
              "    </tr>\n",
              "    <tr>\n",
              "      <th>4</th>\n",
              "      <td>5 В среднем коровы какают 16 раз в день.</td>\n",
              "      <td>животные</td>\n",
              "    </tr>\n",
              "  </tbody>\n",
              "</table>\n",
              "</div>"
            ],
            "text/plain": [
              "                                               texts    labels\n",
              "0  1 Хамелеоны могут двигать глазами в разных нап...  животные\n",
              "1  2 Белка – лучший садовник. Миллионы деревьев в...  животные\n",
              "2     3 Зуб слона  может весить до девяти килограмм!  животные\n",
              "3  4 У млекопитающих кровь красная, у насекомых ж...  животные\n",
              "4           5 В среднем коровы какают 16 раз в день.  животные"
            ]
          },
          "metadata": {},
          "execution_count": 74
        }
      ]
    },
    {
      "cell_type": "code",
      "metadata": {
        "colab": {
          "base_uri": "https://localhost:8080/",
          "height": 203
        },
        "id": "zh07U-3yP16g",
        "outputId": "712f5d14-cc66-42d6-cf68-5fd91f4f126d"
      },
      "source": [
        "data_texts = all_data.texts.to_list() + dop.text.to_list() + facts2.texts.to_list()\n",
        "data_ans = [['животные', \"музыка\", \"спорт\", \"литература\"][i] for i in all_data.y] + dop.ans.to_list() + facts2.labels.to_list()\n",
        "data = pd.DataFrame()\n",
        "data['text'] = data_texts\n",
        "data['ans'] = data_ans\n",
        "data.head()"
      ],
      "id": "zh07U-3yP16g",
      "execution_count": null,
      "outputs": [
        {
          "output_type": "execute_result",
          "data": {
            "text/html": [
              "<div>\n",
              "<style scoped>\n",
              "    .dataframe tbody tr th:only-of-type {\n",
              "        vertical-align: middle;\n",
              "    }\n",
              "\n",
              "    .dataframe tbody tr th {\n",
              "        vertical-align: top;\n",
              "    }\n",
              "\n",
              "    .dataframe thead th {\n",
              "        text-align: right;\n",
              "    }\n",
              "</style>\n",
              "<table border=\"1\" class=\"dataframe\">\n",
              "  <thead>\n",
              "    <tr style=\"text-align: right;\">\n",
              "      <th></th>\n",
              "      <th>text</th>\n",
              "      <th>ans</th>\n",
              "    </tr>\n",
              "  </thead>\n",
              "  <tbody>\n",
              "    <tr>\n",
              "      <th>0</th>\n",
              "      <td>Живо́тные (лат. Animalia) — традиционно (со вр...</td>\n",
              "      <td>животные</td>\n",
              "    </tr>\n",
              "    <tr>\n",
              "      <th>1</th>\n",
              "      <td>Пти́цы (лат. Aves) — группа теплокровных яйцек...</td>\n",
              "      <td>животные</td>\n",
              "    </tr>\n",
              "    <tr>\n",
              "      <th>2</th>\n",
              "      <td>Союз охраны птиц России (СОПР) — общероссийска...</td>\n",
              "      <td>животные</td>\n",
              "    </tr>\n",
              "    <tr>\n",
              "      <th>3</th>\n",
              "      <td>Крючковидные отростки рёбер — костяные выросты...</td>\n",
              "      <td>животные</td>\n",
              "    </tr>\n",
              "    <tr>\n",
              "      <th>4</th>\n",
              "      <td>Myxozoa (лат.) — класс или подтип паразитическ...</td>\n",
              "      <td>животные</td>\n",
              "    </tr>\n",
              "  </tbody>\n",
              "</table>\n",
              "</div>"
            ],
            "text/plain": [
              "                                                text       ans\n",
              "0  Живо́тные (лат. Animalia) — традиционно (со вр...  животные\n",
              "1  Пти́цы (лат. Aves) — группа теплокровных яйцек...  животные\n",
              "2  Союз охраны птиц России (СОПР) — общероссийска...  животные\n",
              "3  Крючковидные отростки рёбер — костяные выросты...  животные\n",
              "4  Myxozoa (лат.) — класс или подтип паразитическ...  животные"
            ]
          },
          "metadata": {},
          "execution_count": 75
        }
      ]
    },
    {
      "cell_type": "code",
      "metadata": {
        "colab": {
          "base_uri": "https://localhost:8080/",
          "height": 203
        },
        "id": "_Z2u3HOOQq7y",
        "outputId": "6f35bbc0-4d48-468f-b62e-13adab9ba23b"
      },
      "source": [
        "data.tail()"
      ],
      "id": "_Z2u3HOOQq7y",
      "execution_count": null,
      "outputs": [
        {
          "output_type": "execute_result",
          "data": {
            "text/html": [
              "<div>\n",
              "<style scoped>\n",
              "    .dataframe tbody tr th:only-of-type {\n",
              "        vertical-align: middle;\n",
              "    }\n",
              "\n",
              "    .dataframe tbody tr th {\n",
              "        vertical-align: top;\n",
              "    }\n",
              "\n",
              "    .dataframe thead th {\n",
              "        text-align: right;\n",
              "    }\n",
              "</style>\n",
              "<table border=\"1\" class=\"dataframe\">\n",
              "  <thead>\n",
              "    <tr style=\"text-align: right;\">\n",
              "      <th></th>\n",
              "      <th>text</th>\n",
              "      <th>ans</th>\n",
              "    </tr>\n",
              "  </thead>\n",
              "  <tbody>\n",
              "    <tr>\n",
              "      <th>3653</th>\n",
              "      <td>Гимн Лиги чемпионов пришел в каждый дом благод...</td>\n",
              "      <td>спорт</td>\n",
              "    </tr>\n",
              "    <tr>\n",
              "      <th>3654</th>\n",
              "      <td>Далеко не каждый знает, что самый популярный в...</td>\n",
              "      <td>спорт</td>\n",
              "    </tr>\n",
              "    <tr>\n",
              "      <th>3655</th>\n",
              "      <td>Когда этот вид спорта только зарождался, то сп...</td>\n",
              "      <td>спорт</td>\n",
              "    </tr>\n",
              "    <tr>\n",
              "      <th>3656</th>\n",
              "      <td>Первым спортсменом, позволившим себе нарушить ...</td>\n",
              "      <td>спорт</td>\n",
              "    </tr>\n",
              "    <tr>\n",
              "      <th>3657</th>\n",
              "      <td>Многими любимая стендовая стрельба раньше была...</td>\n",
              "      <td>спорт</td>\n",
              "    </tr>\n",
              "  </tbody>\n",
              "</table>\n",
              "</div>"
            ],
            "text/plain": [
              "                                                   text    ans\n",
              "3653  Гимн Лиги чемпионов пришел в каждый дом благод...  спорт\n",
              "3654  Далеко не каждый знает, что самый популярный в...  спорт\n",
              "3655  Когда этот вид спорта только зарождался, то сп...  спорт\n",
              "3656  Первым спортсменом, позволившим себе нарушить ...  спорт\n",
              "3657  Многими любимая стендовая стрельба раньше была...  спорт"
            ]
          },
          "metadata": {},
          "execution_count": 76
        }
      ]
    },
    {
      "cell_type": "markdown",
      "metadata": {
        "id": "qJj_Exo_66Es"
      },
      "source": [
        "# Fut the model"
      ],
      "id": "qJj_Exo_66Es"
    },
    {
      "cell_type": "code",
      "metadata": {
        "id": "1LmPZrRzQzgt"
      },
      "source": [
        "nb_model = BayesModel(pretrained=False)\n",
        "nb_model.fit(Preparator().prepare_texts(data.text), data.ans)"
      ],
      "id": "1LmPZrRzQzgt",
      "execution_count": null,
      "outputs": []
    },
    {
      "cell_type": "code",
      "metadata": {
        "colab": {
          "base_uri": "https://localhost:8080/",
          "height": 203
        },
        "id": "X7lXgQ2urzVi",
        "outputId": "9edaa151-83d1-4533-bfee-fbcd7af1eb31"
      },
      "source": [
        "tests = pd.read_csv('/content/drive/MyDrive/aiijc_sber/marked_test.csv')\n",
        "tests.head()"
      ],
      "id": "X7lXgQ2urzVi",
      "execution_count": null,
      "outputs": [
        {
          "output_type": "execute_result",
          "data": {
            "text/html": [
              "<div>\n",
              "<style scoped>\n",
              "    .dataframe tbody tr th:only-of-type {\n",
              "        vertical-align: middle;\n",
              "    }\n",
              "\n",
              "    .dataframe tbody tr th {\n",
              "        vertical-align: top;\n",
              "    }\n",
              "\n",
              "    .dataframe thead th {\n",
              "        text-align: right;\n",
              "    }\n",
              "</style>\n",
              "<table border=\"1\" class=\"dataframe\">\n",
              "  <thead>\n",
              "    <tr style=\"text-align: right;\">\n",
              "      <th></th>\n",
              "      <th>Unnamed: 0</th>\n",
              "      <th>task</th>\n",
              "      <th>ans</th>\n",
              "    </tr>\n",
              "  </thead>\n",
              "  <tbody>\n",
              "    <tr>\n",
              "      <th>0</th>\n",
              "      <td>0</td>\n",
              "      <td>Вопрос 1 Денис готовится провести соревнования...</td>\n",
              "      <td>спорт</td>\n",
              "    </tr>\n",
              "    <tr>\n",
              "      <th>1</th>\n",
              "      <td>1</td>\n",
              "      <td>Реши задачу.\\r\\nСколько коробок корма для соба...</td>\n",
              "      <td>животные</td>\n",
              "    </tr>\n",
              "    <tr>\n",
              "      <th>2</th>\n",
              "      <td>2</td>\n",
              "      <td>Если групп элементов несколько, то применяется...</td>\n",
              "      <td>спорт</td>\n",
              "    </tr>\n",
              "    <tr>\n",
              "      <th>3</th>\n",
              "      <td>3</td>\n",
              "      <td>Вопрос1                                       ...</td>\n",
              "      <td>животные</td>\n",
              "    </tr>\n",
              "    <tr>\n",
              "      <th>4</th>\n",
              "      <td>4</td>\n",
              "      <td>Для наглядной геометрической иллюстрации объём...</td>\n",
              "      <td>спорт</td>\n",
              "    </tr>\n",
              "  </tbody>\n",
              "</table>\n",
              "</div>"
            ],
            "text/plain": [
              "   Unnamed: 0                                               task       ans\n",
              "0           0  Вопрос 1 Денис готовится провести соревнования...     спорт\n",
              "1           1  Реши задачу.\\r\\nСколько коробок корма для соба...  животные\n",
              "2           2  Если групп элементов несколько, то применяется...     спорт\n",
              "3           3  Вопрос1                                       ...  животные\n",
              "4           4  Для наглядной геометрической иллюстрации объём...     спорт"
            ]
          },
          "metadata": {},
          "execution_count": 78
        }
      ]
    },
    {
      "cell_type": "markdown",
      "metadata": {
        "id": "H_xm7H7T7BPR"
      },
      "source": [
        "# Score it"
      ],
      "id": "H_xm7H7T7BPR"
    },
    {
      "cell_type": "code",
      "metadata": {
        "colab": {
          "base_uri": "https://localhost:8080/"
        },
        "id": "qWpWH-IuRolk",
        "outputId": "86eb721c-962a-49e5-bafe-0361e80bc920"
      },
      "source": [
        "nb_model.show_metrics(Preparator().prepare_texts(tests.task), tests.ans)"
      ],
      "id": "qWpWH-IuRolk",
      "execution_count": null,
      "outputs": [
        {
          "output_type": "stream",
          "name": "stdout",
          "text": [
            "accuracy 0.6517509727626459\n",
            "              precision    recall  f1-score   support\n",
            "\n",
            "    животные       0.48      0.75      0.58       121\n",
            "      музыка       0.54      0.63      0.58       126\n",
            "       спорт       0.69      0.46      0.55        24\n",
            "  литература       0.95      0.63      0.76       243\n",
            "\n",
            "    accuracy                           0.65       514\n",
            "   macro avg       0.66      0.62      0.62       514\n",
            "weighted avg       0.73      0.65      0.67       514\n",
            "\n"
          ]
        }
      ]
    },
    {
      "cell_type": "markdown",
      "metadata": {
        "id": "XmWeXVDy7Fjh"
      },
      "source": [
        "# Create submission file"
      ],
      "id": "XmWeXVDy7Fjh"
    },
    {
      "cell_type": "code",
      "metadata": {
        "id": "4hKlSWwfKBLx"
      },
      "source": [
        "predictions = nb_model.predict(Preparator().prepare_texts(tests.task))"
      ],
      "id": "4hKlSWwfKBLx",
      "execution_count": null,
      "outputs": []
    },
    {
      "cell_type": "code",
      "metadata": {
        "id": "MZYPEfpoKMBU"
      },
      "source": [
        "tests['category'] = predictions"
      ],
      "id": "MZYPEfpoKMBU",
      "execution_count": null,
      "outputs": []
    },
    {
      "cell_type": "code",
      "metadata": {
        "id": "HVPlt3cmKzX4"
      },
      "source": [
        "def text2vec(tokens: List[str], embeddings: KeyedVectors) -> np.ndarray:\n",
        "    relevant = 0\n",
        "    words_vecs = np.zeros((embeddings.vector_size,))\n",
        "    for word in tokens:\n",
        "        if word in embeddings:\n",
        "            words_vecs += embeddings[word]\n",
        "            relevant += 1\n",
        "\n",
        "    if relevant:\n",
        "        words_vecs /= relevant\n",
        "    return words_vecs\n",
        "def extract_keywords(tokens: List[str],\n",
        "                     embeddings: KeyedVectors,\n",
        "                     top_n: int = 5,\n",
        "                     diversity: float = 0.5,\n",
        "                     nr_candidates: int = 20) -> str:\n",
        "    candidates = []\n",
        "    doc_embedding = text2vec(tokens, embeddings).reshape(1, -1)\n",
        "    candidate_embeddings = []\n",
        "    for candidate in tokens:\n",
        "        if candidate in embeddings:\n",
        "            candidates.append(candidate)\n",
        "            candidate_embeddings.append(embeddings[candidate])\n",
        "\n",
        "    if len(candidates) == 0:\n",
        "        return tokens\n",
        "\n",
        "    # Calculate distances and extract keywords\n",
        "    distances = cosine_similarity(doc_embedding, candidate_embeddings)\n",
        "    keywords = [candidates[index] for index in distances.argsort()[0][-top_n:]][::-1]\n",
        "\n",
        "    return '; '.join(set(keywords))\n",
        "\n",
        "\n"
      ],
      "id": "HVPlt3cmKzX4",
      "execution_count": null,
      "outputs": []
    },
    {
      "cell_type": "code",
      "metadata": {
        "colab": {
          "base_uri": "https://localhost:8080/",
          "height": 203
        },
        "id": "TqmrLV99OWd6",
        "outputId": "4b81b1dc-090f-4c11-8cfa-fb0b404d5dbd"
      },
      "source": [
        "tests.head()"
      ],
      "id": "TqmrLV99OWd6",
      "execution_count": null,
      "outputs": [
        {
          "output_type": "execute_result",
          "data": {
            "text/html": [
              "<div>\n",
              "<style scoped>\n",
              "    .dataframe tbody tr th:only-of-type {\n",
              "        vertical-align: middle;\n",
              "    }\n",
              "\n",
              "    .dataframe tbody tr th {\n",
              "        vertical-align: top;\n",
              "    }\n",
              "\n",
              "    .dataframe thead th {\n",
              "        text-align: right;\n",
              "    }\n",
              "</style>\n",
              "<table border=\"1\" class=\"dataframe\">\n",
              "  <thead>\n",
              "    <tr style=\"text-align: right;\">\n",
              "      <th></th>\n",
              "      <th>id</th>\n",
              "      <th>task</th>\n",
              "      <th>category</th>\n",
              "    </tr>\n",
              "  </thead>\n",
              "  <tbody>\n",
              "    <tr>\n",
              "      <th>0</th>\n",
              "      <td>0</td>\n",
              "      <td>Вопрос 1 Денис готовится провести соревнования...</td>\n",
              "      <td>спорт</td>\n",
              "    </tr>\n",
              "    <tr>\n",
              "      <th>1</th>\n",
              "      <td>1</td>\n",
              "      <td>Реши задачу.\\nСколько коробок корма для собак ...</td>\n",
              "      <td>музыка</td>\n",
              "    </tr>\n",
              "    <tr>\n",
              "      <th>2</th>\n",
              "      <td>2</td>\n",
              "      <td>Если групп элементов несколько, то применяется...</td>\n",
              "      <td>спорт</td>\n",
              "    </tr>\n",
              "    <tr>\n",
              "      <th>3</th>\n",
              "      <td>3</td>\n",
              "      <td>Вопрос1                                       ...</td>\n",
              "      <td>животные</td>\n",
              "    </tr>\n",
              "    <tr>\n",
              "      <th>4</th>\n",
              "      <td>4</td>\n",
              "      <td>Для наглядной геометрической иллюстрации объём...</td>\n",
              "      <td>спорт</td>\n",
              "    </tr>\n",
              "  </tbody>\n",
              "</table>\n",
              "</div>"
            ],
            "text/plain": [
              "   id                                               task  category\n",
              "0   0  Вопрос 1 Денис готовится провести соревнования...     спорт\n",
              "1   1  Реши задачу.\\nСколько коробок корма для собак ...    музыка\n",
              "2   2  Если групп элементов несколько, то применяется...     спорт\n",
              "3   3  Вопрос1                                       ...  животные\n",
              "4   4  Для наглядной геометрической иллюстрации объём...     спорт"
            ]
          },
          "metadata": {},
          "execution_count": 88
        }
      ]
    },
    {
      "cell_type": "code",
      "metadata": {
        "id": "sedWaUJEOUMR"
      },
      "source": [
        "vect_model = KeyedVectors.load(\"/content/drive/MyDrive/aiijc_sber/keyword_w2v.kv\")"
      ],
      "id": "sedWaUJEOUMR",
      "execution_count": null,
      "outputs": []
    },
    {
      "cell_type": "code",
      "metadata": {
        "id": "xubtbtD_LdVr"
      },
      "source": [
        "highlights = [extract_keywords(toks.split(), vect_model, 10) for toks in Preparator().prepare_texts(tests.task)]\n",
        "tests['keywords'] = highlights"
      ],
      "id": "xubtbtD_LdVr",
      "execution_count": null,
      "outputs": []
    },
    {
      "cell_type": "code",
      "metadata": {
        "colab": {
          "base_uri": "https://localhost:8080/",
          "height": 203
        },
        "id": "GZ-BFijbM0vp",
        "outputId": "e7feddfb-d103-4c2f-f9e8-aa8c0ace5933"
      },
      "source": [
        "tests.head()"
      ],
      "id": "GZ-BFijbM0vp",
      "execution_count": null,
      "outputs": [
        {
          "output_type": "execute_result",
          "data": {
            "text/html": [
              "<div>\n",
              "<style scoped>\n",
              "    .dataframe tbody tr th:only-of-type {\n",
              "        vertical-align: middle;\n",
              "    }\n",
              "\n",
              "    .dataframe tbody tr th {\n",
              "        vertical-align: top;\n",
              "    }\n",
              "\n",
              "    .dataframe thead th {\n",
              "        text-align: right;\n",
              "    }\n",
              "</style>\n",
              "<table border=\"1\" class=\"dataframe\">\n",
              "  <thead>\n",
              "    <tr style=\"text-align: right;\">\n",
              "      <th></th>\n",
              "      <th>id</th>\n",
              "      <th>task</th>\n",
              "      <th>category</th>\n",
              "      <th>keywords</th>\n",
              "    </tr>\n",
              "  </thead>\n",
              "  <tbody>\n",
              "    <tr>\n",
              "      <th>0</th>\n",
              "      <td>0</td>\n",
              "      <td>Вопрос 1 Денис готовится провести соревнования...</td>\n",
              "      <td>спорт</td>\n",
              "      <td>специалист; недоставать; решать; принтер; наст...</td>\n",
              "    </tr>\n",
              "    <tr>\n",
              "      <th>1</th>\n",
              "      <td>1</td>\n",
              "      <td>Реши задачу.\\nСколько коробок корма для собак ...</td>\n",
              "      <td>музыка</td>\n",
              "      <td>задача; собака; ящик; решить; корм</td>\n",
              "    </tr>\n",
              "    <tr>\n",
              "      <th>2</th>\n",
              "      <td>2</td>\n",
              "      <td>Если групп элементов несколько, то применяется...</td>\n",
              "      <td>спорт</td>\n",
              "      <td>волейбол; сложение; группа; зачёт</td>\n",
              "    </tr>\n",
              "    <tr>\n",
              "      <th>3</th>\n",
              "      <td>3</td>\n",
              "      <td>Вопрос1                                       ...</td>\n",
              "      <td>животные</td>\n",
              "      <td>услуга; покупка; расход; сумма; деньга; потрат...</td>\n",
              "    </tr>\n",
              "    <tr>\n",
              "      <th>4</th>\n",
              "      <td>4</td>\n",
              "      <td>Для наглядной геометрической иллюстрации объём...</td>\n",
              "      <td>спорт</td>\n",
              "      <td>пересекаться; круг; увлекаться; наглядный; эйлер</td>\n",
              "    </tr>\n",
              "  </tbody>\n",
              "</table>\n",
              "</div>"
            ],
            "text/plain": [
              "   id  ...                                           keywords\n",
              "0   0  ...  специалист; недоставать; решать; принтер; наст...\n",
              "1   1  ...                 задача; собака; ящик; решить; корм\n",
              "2   2  ...                  волейбол; сложение; группа; зачёт\n",
              "3   3  ...  услуга; покупка; расход; сумма; деньга; потрат...\n",
              "4   4  ...   пересекаться; круг; увлекаться; наглядный; эйлер\n",
              "\n",
              "[5 rows x 4 columns]"
            ]
          },
          "metadata": {},
          "execution_count": 91
        }
      ]
    },
    {
      "cell_type": "code",
      "metadata": {
        "colab": {
          "base_uri": "https://localhost:8080/",
          "height": 203
        },
        "id": "AbwxPK4YL60Q",
        "outputId": "deea6470-9805-4be0-924d-db4fb4d5f85c"
      },
      "source": [
        "tests = tests.drop(['task'], axis = 1)\n",
        "tests.head()"
      ],
      "id": "AbwxPK4YL60Q",
      "execution_count": null,
      "outputs": [
        {
          "output_type": "execute_result",
          "data": {
            "text/html": [
              "<div>\n",
              "<style scoped>\n",
              "    .dataframe tbody tr th:only-of-type {\n",
              "        vertical-align: middle;\n",
              "    }\n",
              "\n",
              "    .dataframe tbody tr th {\n",
              "        vertical-align: top;\n",
              "    }\n",
              "\n",
              "    .dataframe thead th {\n",
              "        text-align: right;\n",
              "    }\n",
              "</style>\n",
              "<table border=\"1\" class=\"dataframe\">\n",
              "  <thead>\n",
              "    <tr style=\"text-align: right;\">\n",
              "      <th></th>\n",
              "      <th>id</th>\n",
              "      <th>category</th>\n",
              "      <th>keywords</th>\n",
              "    </tr>\n",
              "  </thead>\n",
              "  <tbody>\n",
              "    <tr>\n",
              "      <th>0</th>\n",
              "      <td>0</td>\n",
              "      <td>спорт</td>\n",
              "      <td>специалист; недоставать; решать; принтер; наст...</td>\n",
              "    </tr>\n",
              "    <tr>\n",
              "      <th>1</th>\n",
              "      <td>1</td>\n",
              "      <td>музыка</td>\n",
              "      <td>задача; собака; ящик; решить; корм</td>\n",
              "    </tr>\n",
              "    <tr>\n",
              "      <th>2</th>\n",
              "      <td>2</td>\n",
              "      <td>спорт</td>\n",
              "      <td>волейбол; сложение; группа; зачёт</td>\n",
              "    </tr>\n",
              "    <tr>\n",
              "      <th>3</th>\n",
              "      <td>3</td>\n",
              "      <td>животные</td>\n",
              "      <td>услуга; покупка; расход; сумма; деньга; потрат...</td>\n",
              "    </tr>\n",
              "    <tr>\n",
              "      <th>4</th>\n",
              "      <td>4</td>\n",
              "      <td>спорт</td>\n",
              "      <td>пересекаться; круг; увлекаться; наглядный; эйлер</td>\n",
              "    </tr>\n",
              "  </tbody>\n",
              "</table>\n",
              "</div>"
            ],
            "text/plain": [
              "   id  category                                           keywords\n",
              "0   0     спорт  специалист; недоставать; решать; принтер; наст...\n",
              "1   1    музыка                 задача; собака; ящик; решить; корм\n",
              "2   2     спорт                  волейбол; сложение; группа; зачёт\n",
              "3   3  животные  услуга; покупка; расход; сумма; деньга; потрат...\n",
              "4   4     спорт   пересекаться; круг; увлекаться; наглядный; эйлер"
            ]
          },
          "metadata": {},
          "execution_count": 92
        }
      ]
    },
    {
      "cell_type": "code",
      "metadata": {
        "id": "SO2KHXPhMO3s"
      },
      "source": [
        "tests.to_csv('/content/drive/MyDrive/aiijc_sber/test_submission.csv')"
      ],
      "id": "SO2KHXPhMO3s",
      "execution_count": null,
      "outputs": []
    }
  ]
}