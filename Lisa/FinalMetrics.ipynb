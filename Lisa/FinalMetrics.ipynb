{
  "nbformat": 4,
  "nbformat_minor": 0,
  "metadata": {
    "colab": {
      "name": "FinalMetrics.ipynb",
      "provenance": [],
      "collapsed_sections": []
    },
    "kernelspec": {
      "name": "python3",
      "display_name": "Python 3"
    },
    "language_info": {
      "name": "python"
    }
  },
  "cells": [
    {
      "cell_type": "code",
      "metadata": {
        "colab": {
          "base_uri": "https://localhost:8080/"
        },
        "id": "hGRmOIlCoLQa",
        "outputId": "8b67db0a-f8b1-4917-a43b-07ba02ddf0dc"
      },
      "source": [
        "from google.colab import drive\n",
        "drive.mount('/content/drive')"
      ],
      "execution_count": 1,
      "outputs": [
        {
          "output_type": "stream",
          "name": "stdout",
          "text": [
            "Mounted at /content/drive\n"
          ]
        }
      ]
    },
    {
      "cell_type": "code",
      "metadata": {
        "colab": {
          "base_uri": "https://localhost:8080/"
        },
        "id": "ADGUnHu-oVBS",
        "outputId": "d41f1d21-7462-4737-d459-de529dba77e3"
      },
      "source": [
        "! pip install numpy\n",
        "! pip install pymorphy2[fast]\n",
        "! pip install nltk\n"
      ],
      "execution_count": 2,
      "outputs": [
        {
          "output_type": "stream",
          "name": "stdout",
          "text": [
            "Requirement already satisfied: numpy in /usr/local/lib/python3.7/dist-packages (1.19.5)\n",
            "Collecting pymorphy2[fast]\n",
            "  Downloading pymorphy2-0.9.1-py3-none-any.whl (55 kB)\n",
            "\u001b[K     |████████████████████████████████| 55 kB 2.1 MB/s \n",
            "\u001b[?25hCollecting dawg-python>=0.7.1\n",
            "  Downloading DAWG_Python-0.7.2-py2.py3-none-any.whl (11 kB)\n",
            "Requirement already satisfied: docopt>=0.6 in /usr/local/lib/python3.7/dist-packages (from pymorphy2[fast]) (0.6.2)\n",
            "Collecting pymorphy2-dicts-ru<3.0,>=2.4\n",
            "  Downloading pymorphy2_dicts_ru-2.4.417127.4579844-py2.py3-none-any.whl (8.2 MB)\n",
            "\u001b[K     |████████████████████████████████| 8.2 MB 10.5 MB/s \n",
            "\u001b[?25hCollecting DAWG>=0.8\n",
            "  Downloading DAWG-0.8.0.tar.gz (371 kB)\n",
            "\u001b[K     |████████████████████████████████| 371 kB 45.3 MB/s \n",
            "\u001b[?25hBuilding wheels for collected packages: DAWG\n",
            "  Building wheel for DAWG (setup.py) ... \u001b[?25l\u001b[?25hdone\n",
            "  Created wheel for DAWG: filename=DAWG-0.8.0-cp37-cp37m-linux_x86_64.whl size=871450 sha256=575517fcae0bdc057837b487886a96229f756a12a4604b11e3de72485083dfaa\n",
            "  Stored in directory: /root/.cache/pip/wheels/85/51/a4/2de41ff197786537075027c27b479a38da92f50abc86634445\n",
            "Successfully built DAWG\n",
            "Installing collected packages: pymorphy2-dicts-ru, dawg-python, pymorphy2, DAWG\n",
            "Successfully installed DAWG-0.8.0 dawg-python-0.7.2 pymorphy2-0.9.1 pymorphy2-dicts-ru-2.4.417127.4579844\n",
            "Requirement already satisfied: nltk in /usr/local/lib/python3.7/dist-packages (3.2.5)\n",
            "Requirement already satisfied: six in /usr/local/lib/python3.7/dist-packages (from nltk) (1.15.0)\n"
          ]
        }
      ]
    },
    {
      "cell_type": "code",
      "metadata": {
        "id": "B6tm9H63oblv"
      },
      "source": [
        "import random\n",
        "import nltk\n",
        "import re\n",
        "import string\n",
        "import os\n",
        "import shutil\n",
        "from nltk.corpus import stopwords\n",
        "import pandas as pd\n",
        "import torch\n",
        "import matplotlib.pyplot as plt\n",
        "import numpy as np\n",
        "from sklearn.model_selection import train_test_split\n",
        "from tqdm import tqdm\n",
        "import gensim\n",
        "from gensim.corpora.dictionary import Dictionary\n",
        "import torch\n",
        "from torch import nn\n",
        "from torch.nn import functional as F\n",
        "from torch.utils.data import TensorDataset, DataLoader\n",
        "from torchvision.transforms import ToTensor\n",
        "import warnings \n",
        "from sklearn.linear_model import LogisticRegression\n",
        "from PIL import Image\n",
        "from IPython.display import clear_output\n",
        "from typing import List\n",
        "import nltk\n",
        "import string\n",
        "import pymorphy2\n",
        "import codecs\n",
        "from gensim.models import KeyedVectors\n",
        "from sklearn.metrics.pairwise import cosine_similarity"
      ],
      "execution_count": 3,
      "outputs": []
    },
    {
      "cell_type": "code",
      "metadata": {
        "id": "KF-p5p8loe4s"
      },
      "source": [
        "warnings.filterwarnings(action='ignore',category=UserWarning, module='gensim')  \n",
        "warnings.filterwarnings(action='ignore',category=FutureWarning, module='gensim')  \n",
        "warnings.filterwarnings(action='ignore',category=DeprecationWarning, module='gensim')\n",
        "warnings.filterwarnings(action='ignore',category=DeprecationWarning, module='smart_open') \n",
        "warnings.filterwarnings(action='ignore',category=DeprecationWarning, module='sklearn')\n",
        "warnings.filterwarnings(action='ignore',category=DeprecationWarning, module='scipy')    \n",
        "warnings.filterwarnings(action='ignore',category=DeprecationWarning, module='pymorphy2')"
      ],
      "execution_count": 4,
      "outputs": []
    },
    {
      "cell_type": "code",
      "metadata": {
        "colab": {
          "base_uri": "https://localhost:8080/"
        },
        "id": "G--Q9vWQog4u",
        "outputId": "3341e2a9-c55b-4980-a591-130dabfbf7a9"
      },
      "source": [
        "nltk.download('stopwords')\n",
        "nltk.download('punkt')\n",
        "stopWordsRu = set(stopwords.words(\"russian\")) \n",
        "device = torch.device(\"cuda:0\" if torch.cuda.is_available() else \"cpu\")"
      ],
      "execution_count": 5,
      "outputs": [
        {
          "output_type": "stream",
          "name": "stdout",
          "text": [
            "[nltk_data] Downloading package stopwords to /root/nltk_data...\n",
            "[nltk_data]   Unzipping corpora/stopwords.zip.\n",
            "[nltk_data] Downloading package punkt to /root/nltk_data...\n",
            "[nltk_data]   Unzipping tokenizers/punkt.zip.\n"
          ]
        }
      ]
    },
    {
      "cell_type": "code",
      "metadata": {
        "id": "mYOpGUjGoi7S"
      },
      "source": [
        "def get_data() -> pd.DataFrame:\n",
        "  dop = pd.read_csv('/content/drive/MyDrive/aiijc_sber/full_marked_dataset.csv')\n",
        "  dop = dop[dop.ans!='неизвестно']\n",
        "  mit_dict = {0:\"животные\",\n",
        "              1: \"музыка\",\n",
        "              2: \"спорт\",\n",
        "              3: \"литература\"}\n",
        "  data_texts = dop.text.to_list()\n",
        "  data_ans = dop.ans.to_list()\n",
        "  data = pd.DataFrame()\n",
        "  data['text'] = data_texts\n",
        "  data['ans'] = data_ans\n",
        "  return data\n"
      ],
      "execution_count": 23,
      "outputs": []
    },
    {
      "cell_type": "code",
      "metadata": {
        "id": "tj2Gg9-0olNa"
      },
      "source": [
        "data = get_data()"
      ],
      "execution_count": 24,
      "outputs": []
    },
    {
      "cell_type": "code",
      "metadata": {
        "id": "0FiQWGO9oraH"
      },
      "source": [
        "class Preparator():\n",
        "  def __init__(self):\n",
        "      self.morph = pymorphy2.MorphAnalyzer()\n",
        "      self.tokenizer = nltk.WordPunctTokenizer()\n",
        "      self.stopwords = set(line.strip() for line in codecs.open('/content/drive/MyDrive/aiijc_sber/all_stopwords.txt', \"r\", \"utf_8_sig\").readlines())\n",
        "      self.bigram_mod = gensim.models.Phrases.load(\"/content/drive/MyDrive/aiijc_sber/bigram_model.pkl\")\n",
        "\n",
        "  def prepare_corp(self, news_list: List[str]):\n",
        "      return [self.newstext2token(news_text) for news_text in news_list]\n",
        "\n",
        "  def make_bigrams(self, doc):\n",
        "      return self.bigram_mod[doc]\n",
        "\n",
        "  def newstext2token(self, news_text: str):\n",
        "      tokens = self.tokenizer.tokenize(news_text.lower())\n",
        "      tokens_with_no_punct = [self.morph.parse(w)[0].normal_form for w in tokens if all(c in 'йцукенгшщзхъёфывапролджэячсмитьбю0123456789' for c in w)]\n",
        "      tokens_base_forms = [w for w in tokens_with_no_punct if w not in self.stopwords]\n",
        "      tokens_bigrammed = self.make_bigrams(tokens_base_forms)\n",
        "      return tokens_bigrammed"
      ],
      "execution_count": 8,
      "outputs": []
    },
    {
      "cell_type": "code",
      "metadata": {
        "colab": {
          "base_uri": "https://localhost:8080/"
        },
        "id": "egDIR5yRpPhG",
        "outputId": "7b6c8626-55f4-4d0d-dbed-d5e368bc9257"
      },
      "source": [
        "prep = Preparator()\n",
        "all_texts = data.text\n",
        "print(len(all_texts))\n",
        "all_tokens = []\n",
        "for i in range(len(all_texts)):\n",
        "  all_tokens.append(prep.newstext2token(all_texts[i]))\n",
        "  if i%1000 == 0:\n",
        "    print(i)\n",
        "data['tokens'] = all_tokens"
      ],
      "execution_count": 25,
      "outputs": [
        {
          "output_type": "stream",
          "name": "stdout",
          "text": [
            "727\n",
            "0\n"
          ]
        }
      ]
    },
    {
      "cell_type": "code",
      "metadata": {
        "id": "C8gfTE4FpUp8"
      },
      "source": [
        "metrics = {}\n",
        "for tokens in data.tokens:\n",
        "  for word_num in range(len(tokens)):\n",
        "    if tokens[word_num] == 'сколько' or tokens[word_num].isdigit():\n",
        "\n",
        "      if word_num < len(tokens)-2 and tokens[word_num+2] in ['в', 'на', 'за']:\n",
        "        metric = tokens[word_num+1] + '_' + tokens[word_num+2] + '_' + tokens[word_num+3] \n",
        "        if metric not in metrics:\n",
        "          metrics[metric] = 0\n",
        "        metrics[metric] += 1\n",
        "\n",
        "      elif word_num < len(tokens)-1 and tokens[word_num+1].isalpha():\n",
        "        metric = tokens[word_num+1]\n",
        "        if metric not in metrics:\n",
        "          metrics[metric] = 0\n",
        "        metrics[metric] += 1\n",
        "\n"
      ],
      "execution_count": 29,
      "outputs": []
    },
    {
      "cell_type": "code",
      "metadata": {
        "id": "oQEEFKRruOuQ"
      },
      "source": [
        "metrics = [\" л \", \" г \", \" м \", \" сек \", \" ч \", \" км \", \" мл \", \" кг \",' км/ч ', \" кг/м \", \" м/с \", \" мин\", \"метр\", \"грамм\", \"штук\", \"час\", \"секунд\", \" руб\", \"килограмм\", 'километр', \"миллиметр\", \"сантиметр\", \"километров в час\", \"килограмм на метр\"]"
      ],
      "execution_count": 97,
      "outputs": []
    },
    {
      "cell_type": "code",
      "metadata": {
        "id": "88yr3vcqvfDT"
      },
      "source": [
        "morph = pymorphy2.MorphAnalyzer()\n",
        "verb_metr = {}\n",
        "for tokens_ind in range(len(data)):\n",
        "  for word in nltk.WordPunctTokenizer().tokenize(data.text[tokens_ind]):\n",
        "    if morph.parse(word)[0].tag.POS == \"VERB\":\n",
        "      # print(word)\n",
        "      verb = word\n",
        "  if verb:\n",
        "    for metric in metrics:\n",
        "      if metric in data.text[tokens_ind]:\n",
        "        metr = morph.parse(metric)[0].normal_form\n",
        "        if metr[-1] == 'а':\n",
        "          metr = metr[:-1]\n",
        "        verb_metr[morph.parse(verb)[0].normal_form] = metr.strip()"
      ],
      "execution_count": 98,
      "outputs": []
    },
    {
      "cell_type": "code",
      "metadata": {
        "colab": {
          "base_uri": "https://localhost:8080/"
        },
        "id": "pJ_BuWcDwoZL",
        "outputId": "3883d157-04a0-44c7-bf06-624925f3b31a"
      },
      "source": [
        "verb_metr"
      ],
      "execution_count": 99,
      "outputs": [
        {
          "output_type": "execute_result",
          "data": {
            "text/plain": [
              "{'бежать': 'м',\n",
              " 'болтать': 'мин',\n",
              " 'быть': 'час',\n",
              " 'вернуться': 'мин',\n",
              " 'весить': 'килограмм',\n",
              " 'выпить': 'л',\n",
              " 'глядеть': 'л',\n",
              " 'гореть': 'м',\n",
              " 'давать': 'л',\n",
              " 'дать': 'час',\n",
              " 'делать': 'час',\n",
              " 'длиться': 'час',\n",
              " 'добавлять': 'час',\n",
              " 'добираться': 'мин',\n",
              " 'достигать': 'метр',\n",
              " 'ехать': 'час',\n",
              " 'жить': 'метр',\n",
              " 'заготовить': 'килограмм',\n",
              " 'занимать': 'час',\n",
              " 'заплатить': 'руб',\n",
              " 'засушить': 'кг',\n",
              " 'затрачивать': 'мин',\n",
              " 'заявить': 'час',\n",
              " 'играть': 'мин',\n",
              " 'иметь': 'килограмм',\n",
              " 'испечь': 'час',\n",
              " 'исчезнуть': 'час',\n",
              " 'купить': 'руб',\n",
              " 'лежать': 'килограмм',\n",
              " 'мочь': 'г',\n",
              " 'набрать': 'метр',\n",
              " 'накопить': 'руб',\n",
              " 'насушить': 'килограмм',\n",
              " 'находиться': 'штук',\n",
              " 'оказаться': 'килограмм',\n",
              " 'определить': 'г',\n",
              " 'остаться': 'час',\n",
              " 'отремонтировать': 'штук',\n",
              " 'пить': 'час',\n",
              " 'подарить': 'руб',\n",
              " 'подсчитать': 'кг',\n",
              " 'поймать': 'штук',\n",
              " 'пойти': 'руб',\n",
              " 'положить': 'руб',\n",
              " 'получать': 'грамм',\n",
              " 'получиться': 'час',\n",
              " 'понадобиться': 'метр',\n",
              " 'поплыть': 'метр',\n",
              " 'посадить': 'штук',\n",
              " 'посвятить': 'кг',\n",
              " 'поступить': 'час',\n",
              " 'потратить': 'руб',\n",
              " 'потребоваться': 'м',\n",
              " 'преодолеть': 'километр',\n",
              " 'привезти': 'килограмм',\n",
              " 'принести': 'час',\n",
              " 'принимать': 'час',\n",
              " 'принять': 'час',\n",
              " 'пришить': 'метр',\n",
              " 'пробежать': 'час',\n",
              " 'проводить': 'час',\n",
              " 'продать': 'час',\n",
              " 'продолжаться': 'час',\n",
              " 'проехать': 'ч',\n",
              " 'пройти': 'метр',\n",
              " 'пролететь': 'метр',\n",
              " 'проплыть': 'час',\n",
              " 'проскакать': 'километр',\n",
              " 'прочитать': 'мин',\n",
              " 'прыгать': 'метр',\n",
              " 'пугаться': 'час',\n",
              " 'разделить': 'час',\n",
              " 'разнести': 'штук',\n",
              " 'решить': 'час',\n",
              " 'сгрызть': 'мин',\n",
              " 'сделать': 'час',\n",
              " 'сидеть': 'мин',\n",
              " 'смотреть': 'сантиметр',\n",
              " 'смочь': 'м',\n",
              " 'собирать': 'мин',\n",
              " 'собрать': 'килограмм',\n",
              " 'составлять': 'час',\n",
              " 'сосчитать': 'штук',\n",
              " 'спать': 'час',\n",
              " 'стать': 'г',\n",
              " 'стоить': 'руб',\n",
              " 'стоять': 'руб',\n",
              " 'съедать': 'килограмм',\n",
              " 'съесть': 'килограмм',\n",
              " 'увеличиться': 'час',\n",
              " 'узнать': 'м',\n",
              " 'уйти': 'метр',\n",
              " 'указывать': 'час',\n",
              " 'уничтожить': 'грамм',\n",
              " 'участвовать': 'час',\n",
              " 'хватить': 'штук',\n",
              " 'хотеть': 'час',\n",
              " 'читать': 'килограмм'}"
            ]
          },
          "metadata": {},
          "execution_count": 99
        }
      ]
    },
    {
      "cell_type": "code",
      "metadata": {
        "id": "ZDVwDUKi7V82"
      },
      "source": [
        "{'бежать': 'метр',\n",
        " 'болтать': 'мин',\n",
        " 'быть': 'час',\n",
        " 'вернуться': 'мин',\n",
        " 'весить': 'кг',\n",
        " 'выпить': 'литр',\n",
        " 'гореть': 'мин',\n",
        " 'давать': 'литр',\n",
        " 'дать': 'час',\n",
        " 'делать': 'час',\n",
        " 'длиться': 'час',\n",
        " 'добавлять': 'час',\n",
        " 'добираться': 'мин',\n",
        " 'достигать': 'метр',\n",
        " 'ехать': 'час',\n",
        " 'жить': 'метр',\n",
        " 'заготовить': 'кг',\n",
        " 'занимать': 'час',\n",
        " 'заплатить': 'руб',\n",
        " 'засушить': 'кг',\n",
        " 'затрачивать': 'мин',\n",
        " 'заявить': 'час',\n",
        " 'играть': 'мин',\n",
        " 'иметь': 'кг',\n",
        " 'испечь': 'час',\n",
        " 'исчезнуть': 'час',\n",
        " 'купить': 'руб',\n",
        " 'лежать': 'кг',\n",
        " 'набрать': 'метр',\n",
        " 'накопить': 'руб',\n",
        " 'насушить': 'кг',\n",
        " 'находиться': 'штук',\n",
        " 'оказаться': 'кг',\n",
        " 'остаться': 'час',\n",
        " 'отремонтировать': 'штук',\n",
        " 'пить': 'литр',\n",
        " 'подарить': 'руб',\n",
        " 'подсчитать': 'кг',\n",
        " 'поймать': 'штук',\n",
        " 'положить': 'руб',\n",
        " 'получать': 'грамм',\n",
        " 'получиться': 'час',\n",
        " 'понадобиться': 'метр',\n",
        " 'поплыть': 'метр',\n",
        " 'посадить': 'штук',\n",
        " 'посвятить': 'час',\n",
        " 'поступить': 'час',\n",
        " 'потратить': 'руб',\n",
        " 'потребоваться': 'метр',\n",
        " 'преодолеть': 'километр',\n",
        " 'привезти': 'кг',\n",
        " 'принести': 'час',\n",
        " 'принимать': 'час',\n",
        " 'принять': 'час',\n",
        " 'пришить': 'метр',\n",
        " 'пробежать': 'час',\n",
        " 'проводить': 'час',\n",
        " 'продать': 'час',\n",
        " 'продолжаться': 'час',\n",
        " 'проехать': 'метр',\n",
        " 'пройти': 'метр',\n",
        " 'пролететь': 'метр',\n",
        " 'проплыть': 'час',\n",
        " 'проскакать': 'километр',\n",
        " 'прочитать': 'мин',\n",
        " 'прыгать': 'метр',\n",
        " 'пугаться': 'час',\n",
        " 'разделить': 'час',\n",
        " 'разнести': 'штук',\n",
        " 'решить': 'час',\n",
        " 'сгрызть': 'мин',\n",
        " 'сделать': 'час',\n",
        " 'сидеть': 'мин',\n",
        " 'смотреть': 'сантиметр',\n",
        " 'собирать': 'мин',\n",
        " 'собрать': 'кг',\n",
        " 'составлять': 'час',\n",
        " 'сосчитать': 'штук',\n",
        " 'спать': 'час',\n",
        " 'стать': 'грамм',\n",
        " 'стоить': 'руб',\n",
        " 'стоять': 'руб',\n",
        " 'съедать': 'кг',\n",
        " 'съесть': 'кг',\n",
        " 'увеличиться': 'час',\n",
        " 'уйти': 'метр',\n",
        " 'указывать': 'час',\n",
        " 'уничтожить': 'грамм',\n",
        " 'участвовать': 'час',\n",
        " 'хватить': 'штук',\n",
        " 'читать': 'страниц'}"
      ],
      "execution_count": null,
      "outputs": []
    }
  ]
}