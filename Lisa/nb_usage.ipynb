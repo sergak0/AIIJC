{
  "nbformat": 4,
  "nbformat_minor": 5,
  "metadata": {
    "colab": {
      "name": "nb_usage.ipynb",
      "provenance": [],
      "collapsed_sections": [],
      "machine_shape": "hm",
      "include_colab_link": true
    },
    "kernelspec": {
      "display_name": "Python 3",
      "language": "python",
      "name": "python3"
    },
    "language_info": {
      "codemirror_mode": {
        "name": "ipython",
        "version": 3
      },
      "file_extension": ".py",
      "mimetype": "text/x-python",
      "name": "python",
      "nbconvert_exporter": "python",
      "pygments_lexer": "ipython3",
      "version": "3.9.1"
    }
  },
  "cells": [
    {
      "cell_type": "markdown",
      "metadata": {
        "id": "view-in-github",
        "colab_type": "text"
      },
      "source": [
        "<a href=\"https://colab.research.google.com/github/sergak0/AIIJC/blob/main/Lisa/nb_usage.ipynb\" target=\"_parent\"><img src=\"https://colab.research.google.com/assets/colab-badge.svg\" alt=\"Open In Colab\"/></a>"
      ]
    },
    {
      "cell_type": "markdown",
      "metadata": {
        "id": "hpKNYvQQE08G"
      },
      "source": [
        "# Зависимости\n",
        "\n"
      ],
      "id": "hpKNYvQQE08G"
    },
    {
      "cell_type": "code",
      "metadata": {
        "colab": {
          "base_uri": "https://localhost:8080/"
        },
        "id": "rckox-oHcZOe",
        "outputId": "a9698f4d-0428-43a7-eb1e-25bab4e7fe56"
      },
      "source": [
        "from google.colab import drive\n",
        "drive.mount('/content/drive')"
      ],
      "id": "rckox-oHcZOe",
      "execution_count": 1,
      "outputs": [
        {
          "output_type": "stream",
          "text": [
            "Drive already mounted at /content/drive; to attempt to forcibly remount, call drive.mount(\"/content/drive\", force_remount=True).\n"
          ],
          "name": "stdout"
        }
      ]
    },
    {
      "cell_type": "code",
      "metadata": {
        "colab": {
          "base_uri": "https://localhost:8080/"
        },
        "id": "AftHUxYBqBvE",
        "outputId": "1a774ab3-c0dc-404b-9c57-1ce4bfd42975"
      },
      "source": [
        "!pip install pymorphy2[fast]"
      ],
      "id": "AftHUxYBqBvE",
      "execution_count": 2,
      "outputs": [
        {
          "output_type": "stream",
          "text": [
            "Requirement already satisfied: pymorphy2[fast] in /usr/local/lib/python3.7/dist-packages (0.9.1)\n",
            "Requirement already satisfied: docopt>=0.6 in /usr/local/lib/python3.7/dist-packages (from pymorphy2[fast]) (0.6.2)\n",
            "Requirement already satisfied: dawg-python>=0.7.1 in /usr/local/lib/python3.7/dist-packages (from pymorphy2[fast]) (0.7.2)\n",
            "Requirement already satisfied: pymorphy2-dicts-ru<3.0,>=2.4 in /usr/local/lib/python3.7/dist-packages (from pymorphy2[fast]) (2.4.417127.4579844)\n",
            "Requirement already satisfied: DAWG>=0.8 in /usr/local/lib/python3.7/dist-packages (from pymorphy2[fast]) (0.8.0)\n"
          ],
          "name": "stdout"
        }
      ]
    },
    {
      "cell_type": "code",
      "metadata": {
        "id": "b15af6c3"
      },
      "source": [
        "import random\n",
        "import re\n",
        "import string\n",
        "import pandas as pd\n",
        "import torch\n",
        "import matplotlib.pyplot as plt\n",
        "import numpy as np\n",
        "from sklearn.model_selection import train_test_split\n",
        "from tqdm import tqdm\n",
        "import gensim\n",
        "from gensim.corpora.dictionary import Dictionary\n",
        "from gensim.models import LdaMulticore\n",
        "from torch import nn\n",
        "from torch.nn import functional as F\n",
        "from torch.utils.data import TensorDataset, DataLoader\n",
        "from torchvision.transforms import ToTensor\n",
        "import warnings \n",
        "from sklearn.linear_model import LogisticRegression\n",
        "from PIL import Image\n",
        "from IPython.display import clear_output\n",
        "from sklearn.naive_bayes import MultinomialNB\n",
        "from sklearn.pipeline import Pipeline\n",
        "from sklearn.feature_extraction.text import TfidfTransformer\n",
        "from sklearn.feature_extraction.text import CountVectorizer, TfidfVectorizer\n",
        "from sklearn.metrics import accuracy_score, confusion_matrix\n",
        "from typing import List\n",
        "from sklearn.metrics import classification_report\n",
        "import pickle\n",
        "from typing import List\n",
        "import nltk\n",
        "import string\n",
        "import pymorphy2\n",
        "import codecs"
      ],
      "id": "b15af6c3",
      "execution_count": 3,
      "outputs": []
    },
    {
      "cell_type": "code",
      "metadata": {
        "id": "RjCGXv1dtVw3"
      },
      "source": [
        "warnings.filterwarnings(action='ignore',category=UserWarning, module='gensim')  \n",
        "warnings.filterwarnings(action='ignore',category=FutureWarning, module='gensim')  \n",
        "warnings.filterwarnings(action='ignore',category=DeprecationWarning, module='gensim')\n",
        "warnings.filterwarnings(action='ignore',category=DeprecationWarning, module='smart_open') \n",
        "warnings.filterwarnings(action='ignore',category=DeprecationWarning, module='sklearn')\n",
        "warnings.filterwarnings(action='ignore',category=DeprecationWarning, module='scipy')    "
      ],
      "id": "RjCGXv1dtVw3",
      "execution_count": 4,
      "outputs": []
    },
    {
      "cell_type": "code",
      "metadata": {
        "id": "Bo_synQqmk89"
      },
      "source": [
        "device = torch.device(\"cuda:0\" if torch.cuda.is_available() else \"cpu\")"
      ],
      "id": "Bo_synQqmk89",
      "execution_count": 5,
      "outputs": []
    },
    {
      "cell_type": "code",
      "metadata": {
        "id": "UnQkaRP0Qh8J"
      },
      "source": [
        "class Preparator():\n",
        "  def __init__(self):\n",
        "      self.morph = pymorphy2.MorphAnalyzer()\n",
        "      self.tokenizer = nltk.WordPunctTokenizer()\n",
        "      self.stopwords = set(line.strip() for line in codecs.open('/content/drive/MyDrive/aiijc_sber/all_stopwords.txt', \"r\", \"utf_8_sig\").readlines())\n",
        "      self.bigram_mod = gensim.models.Phrases.load(\"/content/drive/MyDrive/aiijc_sber/bigram_model.pkl\")\n",
        "\n",
        "  def prepare_corp(self, news_list: List[str]):\n",
        "      return [self.newstext2token(news_text) for news_text in news_list]\n",
        "\n",
        "  def newstext2token(self, news_text: str):\n",
        "      tokens = self.tokenizer.tokenize(news_text.lower())\n",
        "      tokens_with_no_punct = [self.morph.parse(w)[0].normal_form for w in tokens if all(c in 'йцукенгшщзхъёфывапролджэячсмитьбю' for c in w)]\n",
        "      tokens_base_forms = [w for w in tokens_with_no_punct if w not in self.stopwords]\n",
        "      tokens_last = [w for w in tokens_base_forms if len(w)>1]\n",
        "      tokens_bigrammed = self.make_bigrams(tokens_last)\n",
        "      return ' '.join(tokens_bigrammed)\n",
        "\n",
        "  def make_bigrams(self, doc):\n",
        "      return self.bigram_mod[doc]"
      ],
      "id": "UnQkaRP0Qh8J",
      "execution_count": 6,
      "outputs": []
    },
    {
      "cell_type": "code",
      "metadata": {
        "id": "wV50FKIuOvAf"
      },
      "source": [
        "class BayesModel():\n",
        "  \n",
        "  def __init__(self,\n",
        "               pretrained = True,\n",
        "               vect_path: str = '/content/drive/MyDrive/aiijc_sber/nb/nb_vect.sav',\n",
        "               tfidf_path: str = '/content/drive/MyDrive/aiijc_sber/nb/nb_tfidf.sav',\n",
        "               clf_path: str = '/content/drive/MyDrive/aiijc_sber/nb/nb_clf.sav'):\n",
        "\n",
        "    if not pretrained:\n",
        "        self.vect = CountVectorizer()\n",
        "        self.tfidf = TfidfTransformer()\n",
        "        self.clf = MultinomialNB()\n",
        "    else:\n",
        "        vect = pickle.load(open(vect_path, 'rb'))\n",
        "        tfidf = pickle.load(open(tfidf_path, 'rb'))\n",
        "        clf = pickle.load(open(clf_path, 'rb'))\n",
        "\n",
        "    self.nb = Pipeline([('vect', vect),\n",
        "                  ('tfidf', tfidf),\n",
        "                  ('clf', clf),\n",
        "                  ])\n",
        "\n",
        "\n",
        "  def prepare_dataset(self, data: pd.DataFrame):\n",
        "    self.data = data\n",
        "    self.data['x'] = Preparator().prepare_corp(self.data['texts'])\n",
        "    return self.data\n",
        "\n",
        "  def train(self, X_train, Y_train):\n",
        "    self.nb.fit(X_train, Y_train)\n",
        "  \n",
        "  def predict(self, X_test: List[str]):\n",
        "    return self.nb.predict(X_test)\n",
        "  \n",
        "  def show_metrics(self, X_test, Y_test):\n",
        "    y_pred = self.predict(X_test)\n",
        "    print('accuracy %s' % accuracy_score(y_pred, Y_test))\n",
        "    print(classification_report(Y_test, y_pred, target_names=['животные', \"музыка\", \"спорт\", \"литература\"]))\n",
        "\n",
        "  def score(self, X_test, Y_test):\n",
        "    return self.nb.score(X_test, Y_test)\n",
        "\n",
        "\n",
        "  def save_models(self,\n",
        "                  vect_path: str = '/content/drive/MyDrive/aiijc_sber/nb/nb_vect.sav',\n",
        "                  tfidf_path: str = '/content/drive/MyDrive/aiijc_sber/nb/nb_tfidf.sav',\n",
        "                  clf_path: str = '/content/drive/MyDrive/aiijc_sber/nb/nb_clf.sav'):\n",
        "    pickle.dump(self.vect, open(vect_path, 'wb'))\n",
        "    pickle.dump(self.tfidf, open(tfidf_path, 'wb'))\n",
        "    pickle.dump(self.clf, open(clf_path, 'wb'))\n",
        "\n",
        "    "
      ],
      "id": "wV50FKIuOvAf",
      "execution_count": 7,
      "outputs": []
    },
    {
      "cell_type": "code",
      "metadata": {
        "id": "JMnf9ZXCpc8N"
      },
      "source": [
        "nb_model = BayesModel()"
      ],
      "id": "JMnf9ZXCpc8N",
      "execution_count": 8,
      "outputs": []
    },
    {
      "cell_type": "code",
      "metadata": {
        "colab": {
          "base_uri": "https://localhost:8080/",
          "height": 203
        },
        "id": "X7lXgQ2urzVi",
        "outputId": "9b481494-db5c-42ae-bfb8-9cb6b8f29a24"
      },
      "source": [
        "tests = pd.read_csv('/content/drive/MyDrive/aiijc_sber/test.csv')\n",
        "tests.columns = ['id', 'texts']\n",
        "tests.head()"
      ],
      "id": "X7lXgQ2urzVi",
      "execution_count": 9,
      "outputs": [
        {
          "output_type": "execute_result",
          "data": {
            "text/html": [
              "<div>\n",
              "<style scoped>\n",
              "    .dataframe tbody tr th:only-of-type {\n",
              "        vertical-align: middle;\n",
              "    }\n",
              "\n",
              "    .dataframe tbody tr th {\n",
              "        vertical-align: top;\n",
              "    }\n",
              "\n",
              "    .dataframe thead th {\n",
              "        text-align: right;\n",
              "    }\n",
              "</style>\n",
              "<table border=\"1\" class=\"dataframe\">\n",
              "  <thead>\n",
              "    <tr style=\"text-align: right;\">\n",
              "      <th></th>\n",
              "      <th>id</th>\n",
              "      <th>texts</th>\n",
              "    </tr>\n",
              "  </thead>\n",
              "  <tbody>\n",
              "    <tr>\n",
              "      <th>0</th>\n",
              "      <td>0</td>\n",
              "      <td>Вопрос 1 Денис готовится провести соревнования...</td>\n",
              "    </tr>\n",
              "    <tr>\n",
              "      <th>1</th>\n",
              "      <td>1</td>\n",
              "      <td>Реши задачу.\\nСколько коробок корма для собак ...</td>\n",
              "    </tr>\n",
              "    <tr>\n",
              "      <th>2</th>\n",
              "      <td>2</td>\n",
              "      <td>Если групп элементов несколько, то применяется...</td>\n",
              "    </tr>\n",
              "    <tr>\n",
              "      <th>3</th>\n",
              "      <td>3</td>\n",
              "      <td>Вопрос1                                       ...</td>\n",
              "    </tr>\n",
              "    <tr>\n",
              "      <th>4</th>\n",
              "      <td>4</td>\n",
              "      <td>Для наглядной геометрической иллюстрации объём...</td>\n",
              "    </tr>\n",
              "  </tbody>\n",
              "</table>\n",
              "</div>"
            ],
            "text/plain": [
              "   id                                              texts\n",
              "0   0  Вопрос 1 Денис готовится провести соревнования...\n",
              "1   1  Реши задачу.\\nСколько коробок корма для собак ...\n",
              "2   2  Если групп элементов несколько, то применяется...\n",
              "3   3  Вопрос1                                       ...\n",
              "4   4  Для наглядной геометрической иллюстрации объём..."
            ]
          },
          "metadata": {},
          "execution_count": 9
        }
      ]
    },
    {
      "cell_type": "code",
      "metadata": {
        "id": "xg7jbuH5s1U_"
      },
      "source": [
        "tests['prediction'] = nb_model.predict(nb_model.prepare_dataset(tests).x)"
      ],
      "id": "xg7jbuH5s1U_",
      "execution_count": 10,
      "outputs": []
    },
    {
      "cell_type": "code",
      "metadata": {
        "id": "Y345i3DytgYg"
      },
      "source": [
        "def decode(label):\n",
        "  return ['животные', \"музыка\", \"спорт\", \"литература\"][label]"
      ],
      "id": "Y345i3DytgYg",
      "execution_count": 11,
      "outputs": []
    },
    {
      "cell_type": "code",
      "metadata": {
        "colab": {
          "base_uri": "https://localhost:8080/"
        },
        "id": "ovm5WbXhtWfT",
        "outputId": "05a5fa01-7d5f-4303-b392-48d588a8d53a"
      },
      "source": [
        "for id, st in tests[:10].iterrows():\n",
        "  print(decode(st['prediction']))\n",
        "  print(st.texts)\n",
        "  print()"
      ],
      "id": "ovm5WbXhtWfT",
      "execution_count": 12,
      "outputs": [
        {
          "output_type": "stream",
          "text": [
            "спорт\n",
            "Вопрос 1 Денис готовится провести соревнования по настольному хоккею и решил распечатать недостающие фигурки на принторе . Для изготовления одной 3D-модели у Дениса слишком мало времени, поэтому он решает использовать 2 принтера сразу, а потом склеить полученные детали. У специалиста сейчас в наличии 8 принтеров. Сколько у него есть вариантов выбора, если сначала он настраивает один из принтеров, а за ним — второй? \n",
            "\n",
            "музыка\n",
            "Реши задачу.\n",
            "Сколько коробок корма для собак поместится в ящике, если все стороны ящика соответственно в 12 раз больше сторон коробки корма?\n",
            "\n",
            "спорт\n",
            "Если групп элементов несколько, то применяется закон сложения. Если необходимо выбрать  элементы из одной группы и элементы из другой, то количество способов выбрать элементы из обеих групп будет равно \n",
            "Исходя из этого, реши задачу.\n",
            "Для получения зачета по физической культуре учащимся нужно выбрать направление в котром бы они занимались в течение года и сдавали зачет. По легкой отелитики предполагается 1 группа,  по футболу — 2 группы, по волейболу — 1 группа.\n",
            "Сколько есть вариантов выбора навравления существует?\n",
            "\n",
            "животные\n",
            "Вопрос1                                                                                                                                                                                                                                                             Прочитай условие задачи и ответь на вопросы.\n",
            "Недавно Никита оформил банковскую карту. Согласно условиям договора, банк обязуется возвращать ему 1% от суммы любой покупки и 5% от суммы затрат на продукты питания для домашних животных.\n",
            "В прошлом месяце Никита потратил 1100 рублей на корм для своих домашних животных и еще 1000 — на другие категории расходов.\n",
            "Вопрос 2                                                                                                                                                                                                                                                              Сколько денег получит Никита от банка в конце месяца? (Введи только число)                                                                                                                                             Вопрос 3                                                                                                                                                                                                                                                                    Как называется описанная услуга?\n",
            "\n",
            "спорт\n",
            "Для наглядной геометрической иллюстрации объёмов понятий и соотношений между ними используются диаграммы Эйлера — Венна (круги Эйлера). Если имеются какие-либо понятия А, В, С и т. д., то объём каждого понятия (множество) можно представить в виде круга, а отношения между этими объектами (множествами) — в виде пересекающихся кругов.\n",
            "Изобразите у себя в тетради на одном рисунке следующие множества, используя круги Эйлера.\n",
            "Множество шестиклассников вашей школы.\n",
            "\n",
            "Множество шестиклассников вашей школы, увлекающихся футболом.\n",
            "\n",
            "Множество учащихся вашей школы, которые не играют в футбол.\n",
            "\n",
            "Множество шестиклассников вашей школы, выигрывавших турнир по футболу.\n",
            "\n",
            "Проверьте себя самостоятельно.\n",
            "\n",
            "спорт\n",
            "Реши задачу в тетради.\n",
            "Дима осваивал новый метод отжиманий. После нескольких тренировок он решил отжиматься на время. Его результат составил 1 мин 45 с. за 15 отжиманий Тогда Дима составил график, в котором на время он отжимался при каждом пятом подходе. При этом на каждой пятой попытке его время улучшалось на 2%.\n",
            "Каково время 15-ти отжиманий было у Димы на 25-й попытке?\n",
            "При проведении вычислений каждый результат округляй до целого числа. Дай ответ в минутах и секундах.\n",
            "\n",
            "музыка\n",
            "Вопрос1\n",
            "Выполни следующие задания.\n",
            "Вычисли среднее геометрическое выборки книг в классах: 15, 5, 9, 7, 14. Ответ округли до сотых.Вычисли среднее гармоническое выборки: 15, 5, 9, 7, 14. Ответ округли до сотых.\n",
            "\n",
            "животные\n",
            "Перед тобой лежит карта возможных маршрутов движения гребца по воде. Но как мы знаем, редко движение бывает равномерным. В нашем случае равномерному движению гребцу мешают природные препятствия: то бурное течение, то болотистая местность. Причём гребец двигается с разной скоростью на каждом из участков. Опираясь на описанные ниже условия, определи, по какому маршруту следует проплыть гребцу, чтобы быстрее добраться до своей цели. С какой средней скоростью двигался гребец на своём пути?\n",
            "Ответ округли до десятых.\n",
            "\n",
            "Начинай с клетки №1, двигаться можно только по указанным стрелкам.\n",
            "\n",
            "Верхняя строка:\n",
            "\n",
            " Левый блок\n",
            "(№1)\n",
            " Середина\n",
            "(№2)\n",
            " Правый блок\n",
            "(№3)\n",
            " Участок\n",
            " Спокойное течение\n",
            " Тина, водоросли\n",
            " Бурное течение\n",
            " v гребца\n",
            " 1 м/с\n",
            " 0,3 м/с\n",
            " 0,6 м/с\n",
            " \n",
            " 550 м\n",
            " 1 км\n",
            " 200 м\n",
            " \n",
            "\n",
            "\n",
            "Нижняя строка:\n",
            "\n",
            "\n",
            "\n",
            " Левый блок (№4)\n",
            " Середина (№5)\n",
            " Правый блок (№6)\n",
            " Участок\n",
            " \n",
            " Болотистая местность\n",
            " Каменистый брод\n",
            " v гребца\n",
            " \n",
            " 0,2 м/с\n",
            " 0,8 м/с\n",
            " S\n",
            " \n",
            " 620 м\n",
            " 250 м\n",
            " \n",
            "\n",
            "\"\n",
            "\n",
            "спорт\n",
            "На первом участке дороги машина ехала 2 ч со скоростью 72 км/ч, на втором 2 ч — со скоростью 58 км/ч, а на третьем 1 ч — со скоростью 65 км/ч. Найди среднюю скорость машины на всём пути.\n",
            "\n",
            "спорт\n",
            "Скорость гребцов по течению реки составляет 23,7 км/ч, а скорость против течения — 19,2 км/ч. На сколько км/ч скорость гребцов против течения меньше его скорости по течению?\n",
            "А. на 4,1 км/ч\n",
            "\n",
            "Б. на 4,5 км/ч\n",
            "\n",
            "В. на 5,5 км/ч\n",
            "\n",
            "Г. другой ответ\n",
            "\n",
            "Длина раздевалки спортзала 3,5 м, а ширина — 6,4 м. Вычисли площадь раздевалки.\n",
            "\n",
            "\n"
          ],
          "name": "stdout"
        }
      ]
    },
    {
      "cell_type": "code",
      "metadata": {
        "id": "QVQ-kPHtyhk3"
      },
      "source": [
        ""
      ],
      "id": "QVQ-kPHtyhk3",
      "execution_count": null,
      "outputs": []
    }
  ]
}