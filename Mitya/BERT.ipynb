{
  "nbformat": 4,
  "nbformat_minor": 0,
  "metadata": {
    "accelerator": "GPU",
    "colab": {
      "name": "BERT.ipynb",
      "provenance": [],
      "collapsed_sections": []
    },
    "kernelspec": {
      "display_name": "Python 3",
      "name": "python3"
    },
    "language_info": {
      "name": "python"
    }
  },
  "cells": [
    {
      "cell_type": "code",
      "metadata": {
        "id": "YPD5xkHjefGd",
        "colab": {
          "base_uri": "https://localhost:8080/"
        },
        "outputId": "5c6f51c1-f77f-4eda-bfdb-539ad3520452"
      },
      "source": [
        "from google.colab import drive\n",
        "drive.mount('/content/drive')"
      ],
      "execution_count": 5,
      "outputs": [
        {
          "output_type": "stream",
          "text": [
            "Mounted at /content/drive\n"
          ],
          "name": "stdout"
        }
      ]
    },
    {
      "cell_type": "code",
      "metadata": {
        "id": "UTfGP2b6Adn3"
      },
      "source": [
        "!pip install pytorch-transformers"
      ],
      "execution_count": null,
      "outputs": []
    },
    {
      "cell_type": "code",
      "metadata": {
        "id": "hRYkmf3b98vd"
      },
      "source": [
        "import torch\n",
        "from torch.utils.data import TensorDataset, DataLoader, RandomSampler, SequentialSampler\n",
        "from keras.preprocessing.sequence import pad_sequences\n",
        "from sklearn.model_selection import train_test_split\n",
        "from pytorch_transformers import BertTokenizer, BertConfig\n",
        "from pytorch_transformers import AdamW, BertForSequenceClassification\n",
        "from tqdm import tqdm\n",
        "import pandas as pd\n",
        "import io\n",
        "import numpy as np\n",
        "from sklearn.metrics import accuracy_score, f1_score\n",
        "import matplotlib.pyplot as plt"
      ],
      "execution_count": 7,
      "outputs": []
    },
    {
      "cell_type": "code",
      "metadata": {
        "id": "DjpegAf1_GJ-",
        "colab": {
          "base_uri": "https://localhost:8080/"
        },
        "outputId": "3abf834f-6997-4ffb-cb32-0604e4df04be"
      },
      "source": [
        "device = torch.device(\"cuda\" if torch.cuda.is_available() else \"cpu\")\n",
        "\n",
        "if device == torch.device('cpu'):\n",
        "    print('Using cpu')\n",
        "else:\n",
        "    n_gpu = torch.cuda.device_count()\n",
        "    print('Using {} GPUs'.format(torch.cuda.get_device_name(0)))"
      ],
      "execution_count": 8,
      "outputs": [
        {
          "output_type": "stream",
          "text": [
            "Using Tesla K80 GPUs\n"
          ],
          "name": "stdout"
        }
      ]
    },
    {
      "cell_type": "markdown",
      "metadata": {
        "id": "WnXtMN6RE_i4"
      },
      "source": [
        "# Test"
      ]
    },
    {
      "cell_type": "code",
      "metadata": {
        "id": "tNcjmF9KrOZB"
      },
      "source": [
        "save_path = '/content/drive/MyDrive'\n",
        "df_test = pd.read_csv(save_path + '/test.csv')"
      ],
      "execution_count": 9,
      "outputs": []
    },
    {
      "cell_type": "code",
      "metadata": {
        "id": "OLsLFa0mr69c",
        "colab": {
          "base_uri": "https://localhost:8080/",
          "height": 359
        },
        "outputId": "3529c615-f17b-4238-ed3d-0f2483f3dbdf"
      },
      "source": [
        "df_test.head(10)"
      ],
      "execution_count": 10,
      "outputs": [
        {
          "output_type": "execute_result",
          "data": {
            "text/html": [
              "<div>\n",
              "<style scoped>\n",
              "    .dataframe tbody tr th:only-of-type {\n",
              "        vertical-align: middle;\n",
              "    }\n",
              "\n",
              "    .dataframe tbody tr th {\n",
              "        vertical-align: top;\n",
              "    }\n",
              "\n",
              "    .dataframe thead th {\n",
              "        text-align: right;\n",
              "    }\n",
              "</style>\n",
              "<table border=\"1\" class=\"dataframe\">\n",
              "  <thead>\n",
              "    <tr style=\"text-align: right;\">\n",
              "      <th></th>\n",
              "      <th>id</th>\n",
              "      <th>task</th>\n",
              "      <th>ans</th>\n",
              "    </tr>\n",
              "  </thead>\n",
              "  <tbody>\n",
              "    <tr>\n",
              "      <th>0</th>\n",
              "      <td>0</td>\n",
              "      <td>Вопрос 1 Денис готовится провести соревнования...</td>\n",
              "      <td>0</td>\n",
              "    </tr>\n",
              "    <tr>\n",
              "      <th>1</th>\n",
              "      <td>1</td>\n",
              "      <td>Реши задачу.\\nСколько коробок корма для собак ...</td>\n",
              "      <td>3</td>\n",
              "    </tr>\n",
              "    <tr>\n",
              "      <th>2</th>\n",
              "      <td>2</td>\n",
              "      <td>Если групп элементов несколько, то применяется...</td>\n",
              "      <td>0</td>\n",
              "    </tr>\n",
              "    <tr>\n",
              "      <th>3</th>\n",
              "      <td>3</td>\n",
              "      <td>Вопрос1                                       ...</td>\n",
              "      <td>3</td>\n",
              "    </tr>\n",
              "    <tr>\n",
              "      <th>4</th>\n",
              "      <td>4</td>\n",
              "      <td>Для наглядной геометрической иллюстрации объём...</td>\n",
              "      <td>0</td>\n",
              "    </tr>\n",
              "    <tr>\n",
              "      <th>5</th>\n",
              "      <td>5</td>\n",
              "      <td>Реши задачу в тетради.\\nДима осваивал новый ме...</td>\n",
              "      <td>0</td>\n",
              "    </tr>\n",
              "    <tr>\n",
              "      <th>6</th>\n",
              "      <td>6</td>\n",
              "      <td>Вопрос1\\nВыполни следующие задания.\\nВычисли с...</td>\n",
              "      <td>2</td>\n",
              "    </tr>\n",
              "    <tr>\n",
              "      <th>7</th>\n",
              "      <td>7</td>\n",
              "      <td>Перед тобой лежит карта возможных маршрутов дв...</td>\n",
              "      <td>0</td>\n",
              "    </tr>\n",
              "    <tr>\n",
              "      <th>8</th>\n",
              "      <td>8</td>\n",
              "      <td>На первом участке дороги машина ехала 2 ч со с...</td>\n",
              "      <td>0</td>\n",
              "    </tr>\n",
              "    <tr>\n",
              "      <th>9</th>\n",
              "      <td>9</td>\n",
              "      <td>Скорость гребцов по течению реки составляет 23...</td>\n",
              "      <td>0</td>\n",
              "    </tr>\n",
              "  </tbody>\n",
              "</table>\n",
              "</div>"
            ],
            "text/plain": [
              "   id                                               task  ans\n",
              "0   0  Вопрос 1 Денис готовится провести соревнования...    0\n",
              "1   1  Реши задачу.\\nСколько коробок корма для собак ...    3\n",
              "2   2  Если групп элементов несколько, то применяется...    0\n",
              "3   3  Вопрос1                                       ...    3\n",
              "4   4  Для наглядной геометрической иллюстрации объём...    0\n",
              "5   5  Реши задачу в тетради.\\nДима осваивал новый ме...    0\n",
              "6   6  Вопрос1\\nВыполни следующие задания.\\nВычисли с...    2\n",
              "7   7  Перед тобой лежит карта возможных маршрутов дв...    0\n",
              "8   8  На первом участке дороги машина ехала 2 ч со с...    0\n",
              "9   9  Скорость гребцов по течению реки составляет 23...    0"
            ]
          },
          "metadata": {
            "tags": []
          },
          "execution_count": 10
        }
      ]
    },
    {
      "cell_type": "code",
      "metadata": {
        "id": "Mjj4ec5lrlwv",
        "colab": {
          "base_uri": "https://localhost:8080/"
        },
        "outputId": "32e4e895-7f71-4c60-ecd6-f3fc1958f581"
      },
      "source": [
        "df_test.shape"
      ],
      "execution_count": 11,
      "outputs": [
        {
          "output_type": "execute_result",
          "data": {
            "text/plain": [
              "(514, 3)"
            ]
          },
          "metadata": {
            "tags": []
          },
          "execution_count": 11
        }
      ]
    },
    {
      "cell_type": "markdown",
      "metadata": {
        "id": "u3w8TpncEzKI"
      },
      "source": [
        "# Wiki"
      ]
    },
    {
      "cell_type": "code",
      "metadata": {
        "id": "8AxsOMzoeVev",
        "cellView": "code"
      },
      "source": [
        "import json\n",
        "import pandas as pd\n",
        "\n",
        "save_path = '/content/drive/MyDrive/'\n",
        "with open(save_path + 'aiijc_comand_data.json', 'r') as f :\n",
        "  data = json.load(f)\n",
        "df = pd.DataFrame(data)"
      ],
      "execution_count": 12,
      "outputs": []
    },
    {
      "cell_type": "code",
      "metadata": {
        "id": "dajSzVWsAwO1",
        "cellView": "code",
        "colab": {
          "base_uri": "https://localhost:8080/",
          "height": 173
        },
        "outputId": "2d9d2847-7b40-4f0f-ae50-4b0d2ecb5fac"
      },
      "source": [
        "df.head()"
      ],
      "execution_count": 13,
      "outputs": [
        {
          "output_type": "execute_result",
          "data": {
            "text/html": [
              "<div>\n",
              "<style scoped>\n",
              "    .dataframe tbody tr th:only-of-type {\n",
              "        vertical-align: middle;\n",
              "    }\n",
              "\n",
              "    .dataframe tbody tr th {\n",
              "        vertical-align: top;\n",
              "    }\n",
              "\n",
              "    .dataframe thead th {\n",
              "        text-align: right;\n",
              "    }\n",
              "</style>\n",
              "<table border=\"1\" class=\"dataframe\">\n",
              "  <thead>\n",
              "    <tr style=\"text-align: right;\">\n",
              "      <th></th>\n",
              "      <th>texts</th>\n",
              "      <th>links</th>\n",
              "    </tr>\n",
              "  </thead>\n",
              "  <tbody>\n",
              "    <tr>\n",
              "      <th>животные</th>\n",
              "      <td>[Живо́тные (лат. Animalia) — традиционно (со в...</td>\n",
              "      <td>[Волосатики, Национальная парламентская библио...</td>\n",
              "    </tr>\n",
              "    <tr>\n",
              "      <th>музыка</th>\n",
              "      <td>[Му́зыка (греч. μουσική, субстантивированное п...</td>\n",
              "      <td>[Мини-альбом, Волчья квинта, Ре (нота), Музыка...</td>\n",
              "    </tr>\n",
              "    <tr>\n",
              "      <th>спорт</th>\n",
              "      <td>[Спорт (англ. sport, сокращение от первоначаль...</td>\n",
              "      <td>[Олимпийская хартия, Болельщик, Ольмеки, Шаоли...</td>\n",
              "    </tr>\n",
              "    <tr>\n",
              "      <th>литература</th>\n",
              "      <td>[Литерату́ра (лат. lit(t)eratura, — написанное...</td>\n",
              "      <td>[Детская литература, Эфиопская литература, Сов...</td>\n",
              "    </tr>\n",
              "  </tbody>\n",
              "</table>\n",
              "</div>"
            ],
            "text/plain": [
              "                                                        texts                                              links\n",
              "животные    [Живо́тные (лат. Animalia) — традиционно (со в...  [Волосатики, Национальная парламентская библио...\n",
              "музыка      [Му́зыка (греч. μουσική, субстантивированное п...  [Мини-альбом, Волчья квинта, Ре (нота), Музыка...\n",
              "спорт       [Спорт (англ. sport, сокращение от первоначаль...  [Олимпийская хартия, Болельщик, Ольмеки, Шаоли...\n",
              "литература  [Литерату́ра (лат. lit(t)eratura, — написанное...  [Детская литература, Эфиопская литература, Сов..."
            ]
          },
          "metadata": {
            "tags": []
          },
          "execution_count": 13
        }
      ]
    },
    {
      "cell_type": "code",
      "metadata": {
        "id": "vYRVCLo1CBs1",
        "cellView": "code",
        "colab": {
          "base_uri": "https://localhost:8080/"
        },
        "outputId": "1c0ff15b-eebf-482a-aa7c-e683bae16886"
      },
      "source": [
        "len(np.array(df.texts[0])[0])"
      ],
      "execution_count": 14,
      "outputs": [
        {
          "output_type": "execute_result",
          "data": {
            "text/plain": [
              "15286"
            ]
          },
          "metadata": {
            "tags": []
          },
          "execution_count": 14
        }
      ]
    },
    {
      "cell_type": "markdown",
      "metadata": {
        "id": "_X-y_j7IE5Pg"
      },
      "source": [
        "# NN"
      ]
    },
    {
      "cell_type": "code",
      "metadata": {
        "id": "883a2936"
      },
      "source": [
        "categories = (\"животные\", \"музыка\", \"спорт\", \"литература\")\n",
        "categoriesTest = (\"спорт\", \"музыка\", \"литература\", \"животные\")\n",
        "catToCatTest = [3, 1, 0, 2]"
      ],
      "execution_count": 15,
      "outputs": []
    },
    {
      "cell_type": "code",
      "metadata": {
        "id": "CFvUOktsHXC2",
        "colab": {
          "base_uri": "https://localhost:8080/"
        },
        "outputId": "8669b0c6-73e3-4f19-af71-ec3d215e1d5f"
      },
      "source": [
        "from nltk.corpus import stopwords\n",
        "import nltk\n",
        "import string\n",
        "\n",
        "nltk.download('stopwords')\n",
        "nltk.download('punkt')"
      ],
      "execution_count": 16,
      "outputs": [
        {
          "output_type": "stream",
          "text": [
            "[nltk_data] Downloading package stopwords to /root/nltk_data...\n",
            "[nltk_data]   Unzipping corpora/stopwords.zip.\n",
            "[nltk_data] Downloading package punkt to /root/nltk_data...\n",
            "[nltk_data]   Unzipping tokenizers/punkt.zip.\n"
          ],
          "name": "stdout"
        },
        {
          "output_type": "execute_result",
          "data": {
            "text/plain": [
              "True"
            ]
          },
          "metadata": {
            "tags": []
          },
          "execution_count": 16
        }
      ]
    },
    {
      "cell_type": "code",
      "metadata": {
        "id": "vxbmPOVmmeVq"
      },
      "source": [
        "stopWordsRu = set(stopwords.words(\"russian\"))\n",
        "punctuation = set(string.punctuation + \"—\")\n",
        " \n",
        "alphabet = set('абвгдеёжзийклмнопрстуфхцчшщъыьэюя1234567890')\n",
        " \n",
        "def validateWord(word):\n",
        "  if word in stopWordsRu or word in punctuation:\n",
        "    return False\n",
        "  allSymValid = True\n",
        " \n",
        "  for sym in word:\n",
        "    if sym not in alphabet and sym not in punctuation:\n",
        "      allSymValid = False\n",
        "      break\n",
        " \n",
        "  return allSymValid\n",
        " \n",
        "def prepareText(text:str) -> list:\n",
        "  out = ''\n",
        "  for word in nltk.word_tokenize(text):\n",
        "    word = word.strip()\n",
        "    word = word.lower()\n",
        "    if not validateWord(word):\n",
        "      continue\n",
        "    out += word + ' '\n",
        "  return out\n",
        " \n",
        " \n",
        "def generateTexts(texts, windowLen, need_prepare = True) -> list:\n",
        "  out = []\n",
        "  for text in tqdm(texts):\n",
        "    byWords = text.split(' ')\n",
        "    for window in range(len(byWords) // windowLen + 1):\n",
        "      textPrepare = \" \".join(byWords[window * windowLen: (window + 1) * windowLen])\n",
        "      if need_prepare:\n",
        "        prepared = prepareText(textPrepare)\n",
        "      else:\n",
        "        prepared = textPrepare\n",
        "        \n",
        "      if windowLen - len(prepared) > 0:\n",
        "        prepared += \" \" * ( windowLen - len(prepared))\n",
        "      out.append(prepared)\n",
        "  return out"
      ],
      "execution_count": 17,
      "outputs": []
    },
    {
      "cell_type": "code",
      "metadata": {
        "id": "P86KGIlRwwCd"
      },
      "source": [
        "sentMaxLen = 50\n",
        "MaxSymb = 200"
      ],
      "execution_count": 18,
      "outputs": []
    },
    {
      "cell_type": "code",
      "metadata": {
        "colab": {
          "base_uri": "https://localhost:8080/"
        },
        "id": "Zuc_PL2_oPYT",
        "outputId": "c83541aa-fe4d-41cf-eb62-04e4f375afe0"
      },
      "source": [
        "sentences = []\n",
        "labels = []\n",
        "\n",
        "for i, cat in enumerate(categories):\n",
        "  print(i)\n",
        "  cat_texts = generateTexts(df.texts[cat], sentMaxLen)\n",
        "  label = i\n",
        "  for j in cat_texts:\n",
        "    sentences.append(j[:MaxSymb])\n",
        "    labels.append(label)\n",
        "\n",
        "sentences = [\"[CLS] \" + sentence + \" [SEP]\" for sentence in sentences]\n",
        "sentences = np.array(sentences)\n",
        "labels = np.array(labels)"
      ],
      "execution_count": 19,
      "outputs": [
        {
          "output_type": "stream",
          "text": [
            "0\n"
          ],
          "name": "stdout"
        },
        {
          "output_type": "stream",
          "text": [
            "100%|██████████| 444/444 [00:13<00:00, 33.28it/s]\n"
          ],
          "name": "stderr"
        },
        {
          "output_type": "stream",
          "text": [
            "1\n"
          ],
          "name": "stdout"
        },
        {
          "output_type": "stream",
          "text": [
            "100%|██████████| 431/431 [00:13<00:00, 31.70it/s]\n"
          ],
          "name": "stderr"
        },
        {
          "output_type": "stream",
          "text": [
            "2\n"
          ],
          "name": "stdout"
        },
        {
          "output_type": "stream",
          "text": [
            "100%|██████████| 424/424 [00:15<00:00, 27.95it/s]\n"
          ],
          "name": "stderr"
        },
        {
          "output_type": "stream",
          "text": [
            "3\n"
          ],
          "name": "stdout"
        },
        {
          "output_type": "stream",
          "text": [
            "100%|██████████| 433/433 [00:17<00:00, 24.45it/s]\n"
          ],
          "name": "stderr"
        }
      ]
    },
    {
      "cell_type": "code",
      "metadata": {
        "id": "iHYa4y4-xCOb",
        "colab": {
          "base_uri": "https://localhost:8080/"
        },
        "outputId": "df270c4c-3b17-41d1-d221-43d7807495f0"
      },
      "source": [
        "sentences.shape, labels.shape"
      ],
      "execution_count": 20,
      "outputs": [
        {
          "output_type": "execute_result",
          "data": {
            "text/plain": [
              "((74687,), (74687,))"
            ]
          },
          "metadata": {
            "tags": []
          },
          "execution_count": 20
        }
      ]
    },
    {
      "cell_type": "code",
      "metadata": {
        "id": "3Z9PspheJafk"
      },
      "source": [
        "from sklearn.model_selection import train_test_split\n",
        "\n",
        "X_train = sentences\n",
        "Y_train = labels"
      ],
      "execution_count": 21,
      "outputs": []
    },
    {
      "cell_type": "code",
      "metadata": {
        "id": "_6C6raB6KhYT",
        "colab": {
          "base_uri": "https://localhost:8080/"
        },
        "outputId": "d813e1e8-8fa6-409b-d36f-9846b217a315"
      },
      "source": [
        "from pytorch_transformers import BertTokenizer, BertConfig\n",
        "\n",
        "tokenizer = BertTokenizer.from_pretrained(\"bert-base-multilingual-cased\", do_lower_case=True)\n",
        "\n",
        "tokenized_texts = [tokenizer.tokenize(sent) for sent in X_train]"
      ],
      "execution_count": 22,
      "outputs": [
        {
          "output_type": "stream",
          "text": [
            "100%|██████████| 995526/995526 [00:01<00:00, 886548.66B/s]\n"
          ],
          "name": "stderr"
        }
      ]
    },
    {
      "cell_type": "code",
      "metadata": {
        "id": "bYLw6FWTKsAL",
        "colab": {
          "base_uri": "https://localhost:8080/"
        },
        "outputId": "b0f061fb-da99-48ea-ac6c-5cd8691867b5"
      },
      "source": [
        "len(tokenized_texts[0]), tokenized_texts[0]"
      ],
      "execution_count": 23,
      "outputs": [
        {
          "output_type": "execute_result",
          "data": {
            "text/plain": [
              "(49,\n",
              " ['[CLS]',\n",
              "  'лат',\n",
              "  'т',\n",
              "  '##радиционно',\n",
              "  'време',\n",
              "  '##н',\n",
              "  'ар',\n",
              "  '##ист',\n",
              "  '##от',\n",
              "  '##еля',\n",
              "  'вы',\n",
              "  '##деля',\n",
              "  '##ема',\n",
              "  '##я',\n",
              "  'ка',\n",
              "  '##те',\n",
              "  '##гория',\n",
              "  'органи',\n",
              "  '##зм',\n",
              "  '##ов',\n",
              "  'настоящее',\n",
              "  'время',\n",
              "  'р',\n",
              "  '##ас',\n",
              "  '##с',\n",
              "  '##мат',\n",
              "  '##рива',\n",
              "  '##ема',\n",
              "  '##я',\n",
              "  'качестве',\n",
              "  'био',\n",
              "  '##логического',\n",
              "  'царства',\n",
              "  'живот',\n",
              "  '##ные',\n",
              "  'являются',\n",
              "  'основным',\n",
              "  'объект',\n",
              "  '##ом',\n",
              "  'изучения',\n",
              "  'з',\n",
              "  '##оо',\n",
              "  '##логии',\n",
              "  'живот',\n",
              "  '##ные',\n",
              "  'от',\n",
              "  '##нос',\n",
              "  '##ят',\n",
              "  '[SEP]'])"
            ]
          },
          "metadata": {
            "tags": []
          },
          "execution_count": 23
        }
      ]
    },
    {
      "cell_type": "code",
      "metadata": {
        "id": "owLBLIY1Lj9U"
      },
      "source": [
        "input_ids = [tokenizer.convert_tokens_to_ids(x) for x in tokenized_texts]\n",
        "input_ids = pad_sequences(\n",
        "  input_ids,\n",
        "  maxlen=200,\n",
        "  dtype=\"long\",\n",
        "  truncating=\"post\",\n",
        "  padding=\"post\"\n",
        ")\n",
        "attention_masks = [[float(i>0) for i in seq] for seq in input_ids]"
      ],
      "execution_count": 24,
      "outputs": []
    },
    {
      "cell_type": "code",
      "metadata": {
        "colab": {
          "base_uri": "https://localhost:8080/"
        },
        "id": "M_vMbpiF9Fif",
        "outputId": "d2f1ea59-c0c5-4c9f-da86-1a30491a361f"
      },
      "source": [
        "len(attention_masks)"
      ],
      "execution_count": 25,
      "outputs": [
        {
          "output_type": "execute_result",
          "data": {
            "text/plain": [
              "74687"
            ]
          },
          "metadata": {
            "tags": []
          },
          "execution_count": 25
        }
      ]
    },
    {
      "cell_type": "code",
      "metadata": {
        "id": "7UPjvURwLuk6"
      },
      "source": [
        "train_inputs, validation_inputs, train_labels, validation_labels = train_test_split(input_ids, Y_train, random_state=42, test_size=0.1)\n",
        "\n",
        "train_masks, validation_masks, _, _ = train_test_split(attention_masks, input_ids, random_state=42, test_size=0.1)"
      ],
      "execution_count": 26,
      "outputs": []
    },
    {
      "cell_type": "code",
      "metadata": {
        "id": "cO4N-7wzNLQB"
      },
      "source": [
        "train_inputs = torch.tensor(train_inputs)\n",
        "train_labels = torch.tensor(train_labels)\n",
        "train_masks = torch.tensor(train_masks)"
      ],
      "execution_count": 27,
      "outputs": []
    },
    {
      "cell_type": "code",
      "metadata": {
        "id": "t0oO8sY3NNIZ"
      },
      "source": [
        "validation_inputs = torch.tensor(validation_inputs)\n",
        "validation_labels = torch.tensor(validation_labels)\n",
        "validation_masks = torch.tensor(validation_masks)"
      ],
      "execution_count": 28,
      "outputs": []
    },
    {
      "cell_type": "code",
      "metadata": {
        "colab": {
          "base_uri": "https://localhost:8080/"
        },
        "id": "NIg8YRFeNO4S",
        "outputId": "f012e0c9-a9c7-4e7c-9321-114040af4147"
      },
      "source": [
        "train_labels"
      ],
      "execution_count": 29,
      "outputs": [
        {
          "output_type": "execute_result",
          "data": {
            "text/plain": [
              "tensor([3, 1, 2,  ..., 3, 0, 0])"
            ]
          },
          "metadata": {
            "tags": []
          },
          "execution_count": 29
        }
      ]
    },
    {
      "cell_type": "code",
      "metadata": {
        "id": "qQlkgEm2NSra"
      },
      "source": [
        "train_data = TensorDataset(train_inputs, train_masks, train_labels)\n",
        "train_dataloader = DataLoader(\n",
        "  train_data,\n",
        "  sampler=RandomSampler(train_data),\n",
        "  batch_size=16\n",
        ")"
      ],
      "execution_count": 30,
      "outputs": []
    },
    {
      "cell_type": "code",
      "metadata": {
        "id": "cgolTh1nNa0J"
      },
      "source": [
        "validation_data = TensorDataset(validation_inputs, validation_masks, validation_labels)\n",
        "validation_dataloader = DataLoader(\n",
        "  validation_data,\n",
        "  sampler=SequentialSampler(validation_data),\n",
        "  batch_size=16\n",
        ")"
      ],
      "execution_count": 31,
      "outputs": []
    },
    {
      "cell_type": "code",
      "metadata": {
        "id": "DauzvK1UNdi6"
      },
      "source": [
        "from pytorch_transformers import AdamW, BertForSequenceClassification"
      ],
      "execution_count": 32,
      "outputs": []
    },
    {
      "cell_type": "code",
      "metadata": {
        "colab": {
          "base_uri": "https://localhost:8080/"
        },
        "id": "oZdB2Hw0NpUJ",
        "outputId": "7e3d98ef-c5af-429c-d30e-34bf43978fb3"
      },
      "source": [
        "model = BertForSequenceClassification.from_pretrained(\"bert-base-multilingual-cased\", num_labels=4)\n",
        "model.to(device)"
      ],
      "execution_count": 33,
      "outputs": [
        {
          "output_type": "stream",
          "text": [
            "100%|██████████| 625/625 [00:00<00:00, 132966.78B/s]\n",
            "100%|██████████| 714314041/714314041 [01:04<00:00, 11000379.91B/s]\n"
          ],
          "name": "stderr"
        },
        {
          "output_type": "execute_result",
          "data": {
            "text/plain": [
              "BertForSequenceClassification(\n",
              "  (bert): BertModel(\n",
              "    (embeddings): BertEmbeddings(\n",
              "      (word_embeddings): Embedding(119547, 768, padding_idx=0)\n",
              "      (position_embeddings): Embedding(512, 768)\n",
              "      (token_type_embeddings): Embedding(2, 768)\n",
              "      (LayerNorm): LayerNorm((768,), eps=1e-12, elementwise_affine=True)\n",
              "      (dropout): Dropout(p=0.1, inplace=False)\n",
              "    )\n",
              "    (encoder): BertEncoder(\n",
              "      (layer): ModuleList(\n",
              "        (0): BertLayer(\n",
              "          (attention): BertAttention(\n",
              "            (self): BertSelfAttention(\n",
              "              (query): Linear(in_features=768, out_features=768, bias=True)\n",
              "              (key): Linear(in_features=768, out_features=768, bias=True)\n",
              "              (value): Linear(in_features=768, out_features=768, bias=True)\n",
              "              (dropout): Dropout(p=0.1, inplace=False)\n",
              "            )\n",
              "            (output): BertSelfOutput(\n",
              "              (dense): Linear(in_features=768, out_features=768, bias=True)\n",
              "              (LayerNorm): LayerNorm((768,), eps=1e-12, elementwise_affine=True)\n",
              "              (dropout): Dropout(p=0.1, inplace=False)\n",
              "            )\n",
              "          )\n",
              "          (intermediate): BertIntermediate(\n",
              "            (dense): Linear(in_features=768, out_features=3072, bias=True)\n",
              "          )\n",
              "          (output): BertOutput(\n",
              "            (dense): Linear(in_features=3072, out_features=768, bias=True)\n",
              "            (LayerNorm): LayerNorm((768,), eps=1e-12, elementwise_affine=True)\n",
              "            (dropout): Dropout(p=0.1, inplace=False)\n",
              "          )\n",
              "        )\n",
              "        (1): BertLayer(\n",
              "          (attention): BertAttention(\n",
              "            (self): BertSelfAttention(\n",
              "              (query): Linear(in_features=768, out_features=768, bias=True)\n",
              "              (key): Linear(in_features=768, out_features=768, bias=True)\n",
              "              (value): Linear(in_features=768, out_features=768, bias=True)\n",
              "              (dropout): Dropout(p=0.1, inplace=False)\n",
              "            )\n",
              "            (output): BertSelfOutput(\n",
              "              (dense): Linear(in_features=768, out_features=768, bias=True)\n",
              "              (LayerNorm): LayerNorm((768,), eps=1e-12, elementwise_affine=True)\n",
              "              (dropout): Dropout(p=0.1, inplace=False)\n",
              "            )\n",
              "          )\n",
              "          (intermediate): BertIntermediate(\n",
              "            (dense): Linear(in_features=768, out_features=3072, bias=True)\n",
              "          )\n",
              "          (output): BertOutput(\n",
              "            (dense): Linear(in_features=3072, out_features=768, bias=True)\n",
              "            (LayerNorm): LayerNorm((768,), eps=1e-12, elementwise_affine=True)\n",
              "            (dropout): Dropout(p=0.1, inplace=False)\n",
              "          )\n",
              "        )\n",
              "        (2): BertLayer(\n",
              "          (attention): BertAttention(\n",
              "            (self): BertSelfAttention(\n",
              "              (query): Linear(in_features=768, out_features=768, bias=True)\n",
              "              (key): Linear(in_features=768, out_features=768, bias=True)\n",
              "              (value): Linear(in_features=768, out_features=768, bias=True)\n",
              "              (dropout): Dropout(p=0.1, inplace=False)\n",
              "            )\n",
              "            (output): BertSelfOutput(\n",
              "              (dense): Linear(in_features=768, out_features=768, bias=True)\n",
              "              (LayerNorm): LayerNorm((768,), eps=1e-12, elementwise_affine=True)\n",
              "              (dropout): Dropout(p=0.1, inplace=False)\n",
              "            )\n",
              "          )\n",
              "          (intermediate): BertIntermediate(\n",
              "            (dense): Linear(in_features=768, out_features=3072, bias=True)\n",
              "          )\n",
              "          (output): BertOutput(\n",
              "            (dense): Linear(in_features=3072, out_features=768, bias=True)\n",
              "            (LayerNorm): LayerNorm((768,), eps=1e-12, elementwise_affine=True)\n",
              "            (dropout): Dropout(p=0.1, inplace=False)\n",
              "          )\n",
              "        )\n",
              "        (3): BertLayer(\n",
              "          (attention): BertAttention(\n",
              "            (self): BertSelfAttention(\n",
              "              (query): Linear(in_features=768, out_features=768, bias=True)\n",
              "              (key): Linear(in_features=768, out_features=768, bias=True)\n",
              "              (value): Linear(in_features=768, out_features=768, bias=True)\n",
              "              (dropout): Dropout(p=0.1, inplace=False)\n",
              "            )\n",
              "            (output): BertSelfOutput(\n",
              "              (dense): Linear(in_features=768, out_features=768, bias=True)\n",
              "              (LayerNorm): LayerNorm((768,), eps=1e-12, elementwise_affine=True)\n",
              "              (dropout): Dropout(p=0.1, inplace=False)\n",
              "            )\n",
              "          )\n",
              "          (intermediate): BertIntermediate(\n",
              "            (dense): Linear(in_features=768, out_features=3072, bias=True)\n",
              "          )\n",
              "          (output): BertOutput(\n",
              "            (dense): Linear(in_features=3072, out_features=768, bias=True)\n",
              "            (LayerNorm): LayerNorm((768,), eps=1e-12, elementwise_affine=True)\n",
              "            (dropout): Dropout(p=0.1, inplace=False)\n",
              "          )\n",
              "        )\n",
              "        (4): BertLayer(\n",
              "          (attention): BertAttention(\n",
              "            (self): BertSelfAttention(\n",
              "              (query): Linear(in_features=768, out_features=768, bias=True)\n",
              "              (key): Linear(in_features=768, out_features=768, bias=True)\n",
              "              (value): Linear(in_features=768, out_features=768, bias=True)\n",
              "              (dropout): Dropout(p=0.1, inplace=False)\n",
              "            )\n",
              "            (output): BertSelfOutput(\n",
              "              (dense): Linear(in_features=768, out_features=768, bias=True)\n",
              "              (LayerNorm): LayerNorm((768,), eps=1e-12, elementwise_affine=True)\n",
              "              (dropout): Dropout(p=0.1, inplace=False)\n",
              "            )\n",
              "          )\n",
              "          (intermediate): BertIntermediate(\n",
              "            (dense): Linear(in_features=768, out_features=3072, bias=True)\n",
              "          )\n",
              "          (output): BertOutput(\n",
              "            (dense): Linear(in_features=3072, out_features=768, bias=True)\n",
              "            (LayerNorm): LayerNorm((768,), eps=1e-12, elementwise_affine=True)\n",
              "            (dropout): Dropout(p=0.1, inplace=False)\n",
              "          )\n",
              "        )\n",
              "        (5): BertLayer(\n",
              "          (attention): BertAttention(\n",
              "            (self): BertSelfAttention(\n",
              "              (query): Linear(in_features=768, out_features=768, bias=True)\n",
              "              (key): Linear(in_features=768, out_features=768, bias=True)\n",
              "              (value): Linear(in_features=768, out_features=768, bias=True)\n",
              "              (dropout): Dropout(p=0.1, inplace=False)\n",
              "            )\n",
              "            (output): BertSelfOutput(\n",
              "              (dense): Linear(in_features=768, out_features=768, bias=True)\n",
              "              (LayerNorm): LayerNorm((768,), eps=1e-12, elementwise_affine=True)\n",
              "              (dropout): Dropout(p=0.1, inplace=False)\n",
              "            )\n",
              "          )\n",
              "          (intermediate): BertIntermediate(\n",
              "            (dense): Linear(in_features=768, out_features=3072, bias=True)\n",
              "          )\n",
              "          (output): BertOutput(\n",
              "            (dense): Linear(in_features=3072, out_features=768, bias=True)\n",
              "            (LayerNorm): LayerNorm((768,), eps=1e-12, elementwise_affine=True)\n",
              "            (dropout): Dropout(p=0.1, inplace=False)\n",
              "          )\n",
              "        )\n",
              "        (6): BertLayer(\n",
              "          (attention): BertAttention(\n",
              "            (self): BertSelfAttention(\n",
              "              (query): Linear(in_features=768, out_features=768, bias=True)\n",
              "              (key): Linear(in_features=768, out_features=768, bias=True)\n",
              "              (value): Linear(in_features=768, out_features=768, bias=True)\n",
              "              (dropout): Dropout(p=0.1, inplace=False)\n",
              "            )\n",
              "            (output): BertSelfOutput(\n",
              "              (dense): Linear(in_features=768, out_features=768, bias=True)\n",
              "              (LayerNorm): LayerNorm((768,), eps=1e-12, elementwise_affine=True)\n",
              "              (dropout): Dropout(p=0.1, inplace=False)\n",
              "            )\n",
              "          )\n",
              "          (intermediate): BertIntermediate(\n",
              "            (dense): Linear(in_features=768, out_features=3072, bias=True)\n",
              "          )\n",
              "          (output): BertOutput(\n",
              "            (dense): Linear(in_features=3072, out_features=768, bias=True)\n",
              "            (LayerNorm): LayerNorm((768,), eps=1e-12, elementwise_affine=True)\n",
              "            (dropout): Dropout(p=0.1, inplace=False)\n",
              "          )\n",
              "        )\n",
              "        (7): BertLayer(\n",
              "          (attention): BertAttention(\n",
              "            (self): BertSelfAttention(\n",
              "              (query): Linear(in_features=768, out_features=768, bias=True)\n",
              "              (key): Linear(in_features=768, out_features=768, bias=True)\n",
              "              (value): Linear(in_features=768, out_features=768, bias=True)\n",
              "              (dropout): Dropout(p=0.1, inplace=False)\n",
              "            )\n",
              "            (output): BertSelfOutput(\n",
              "              (dense): Linear(in_features=768, out_features=768, bias=True)\n",
              "              (LayerNorm): LayerNorm((768,), eps=1e-12, elementwise_affine=True)\n",
              "              (dropout): Dropout(p=0.1, inplace=False)\n",
              "            )\n",
              "          )\n",
              "          (intermediate): BertIntermediate(\n",
              "            (dense): Linear(in_features=768, out_features=3072, bias=True)\n",
              "          )\n",
              "          (output): BertOutput(\n",
              "            (dense): Linear(in_features=3072, out_features=768, bias=True)\n",
              "            (LayerNorm): LayerNorm((768,), eps=1e-12, elementwise_affine=True)\n",
              "            (dropout): Dropout(p=0.1, inplace=False)\n",
              "          )\n",
              "        )\n",
              "        (8): BertLayer(\n",
              "          (attention): BertAttention(\n",
              "            (self): BertSelfAttention(\n",
              "              (query): Linear(in_features=768, out_features=768, bias=True)\n",
              "              (key): Linear(in_features=768, out_features=768, bias=True)\n",
              "              (value): Linear(in_features=768, out_features=768, bias=True)\n",
              "              (dropout): Dropout(p=0.1, inplace=False)\n",
              "            )\n",
              "            (output): BertSelfOutput(\n",
              "              (dense): Linear(in_features=768, out_features=768, bias=True)\n",
              "              (LayerNorm): LayerNorm((768,), eps=1e-12, elementwise_affine=True)\n",
              "              (dropout): Dropout(p=0.1, inplace=False)\n",
              "            )\n",
              "          )\n",
              "          (intermediate): BertIntermediate(\n",
              "            (dense): Linear(in_features=768, out_features=3072, bias=True)\n",
              "          )\n",
              "          (output): BertOutput(\n",
              "            (dense): Linear(in_features=3072, out_features=768, bias=True)\n",
              "            (LayerNorm): LayerNorm((768,), eps=1e-12, elementwise_affine=True)\n",
              "            (dropout): Dropout(p=0.1, inplace=False)\n",
              "          )\n",
              "        )\n",
              "        (9): BertLayer(\n",
              "          (attention): BertAttention(\n",
              "            (self): BertSelfAttention(\n",
              "              (query): Linear(in_features=768, out_features=768, bias=True)\n",
              "              (key): Linear(in_features=768, out_features=768, bias=True)\n",
              "              (value): Linear(in_features=768, out_features=768, bias=True)\n",
              "              (dropout): Dropout(p=0.1, inplace=False)\n",
              "            )\n",
              "            (output): BertSelfOutput(\n",
              "              (dense): Linear(in_features=768, out_features=768, bias=True)\n",
              "              (LayerNorm): LayerNorm((768,), eps=1e-12, elementwise_affine=True)\n",
              "              (dropout): Dropout(p=0.1, inplace=False)\n",
              "            )\n",
              "          )\n",
              "          (intermediate): BertIntermediate(\n",
              "            (dense): Linear(in_features=768, out_features=3072, bias=True)\n",
              "          )\n",
              "          (output): BertOutput(\n",
              "            (dense): Linear(in_features=3072, out_features=768, bias=True)\n",
              "            (LayerNorm): LayerNorm((768,), eps=1e-12, elementwise_affine=True)\n",
              "            (dropout): Dropout(p=0.1, inplace=False)\n",
              "          )\n",
              "        )\n",
              "        (10): BertLayer(\n",
              "          (attention): BertAttention(\n",
              "            (self): BertSelfAttention(\n",
              "              (query): Linear(in_features=768, out_features=768, bias=True)\n",
              "              (key): Linear(in_features=768, out_features=768, bias=True)\n",
              "              (value): Linear(in_features=768, out_features=768, bias=True)\n",
              "              (dropout): Dropout(p=0.1, inplace=False)\n",
              "            )\n",
              "            (output): BertSelfOutput(\n",
              "              (dense): Linear(in_features=768, out_features=768, bias=True)\n",
              "              (LayerNorm): LayerNorm((768,), eps=1e-12, elementwise_affine=True)\n",
              "              (dropout): Dropout(p=0.1, inplace=False)\n",
              "            )\n",
              "          )\n",
              "          (intermediate): BertIntermediate(\n",
              "            (dense): Linear(in_features=768, out_features=3072, bias=True)\n",
              "          )\n",
              "          (output): BertOutput(\n",
              "            (dense): Linear(in_features=3072, out_features=768, bias=True)\n",
              "            (LayerNorm): LayerNorm((768,), eps=1e-12, elementwise_affine=True)\n",
              "            (dropout): Dropout(p=0.1, inplace=False)\n",
              "          )\n",
              "        )\n",
              "        (11): BertLayer(\n",
              "          (attention): BertAttention(\n",
              "            (self): BertSelfAttention(\n",
              "              (query): Linear(in_features=768, out_features=768, bias=True)\n",
              "              (key): Linear(in_features=768, out_features=768, bias=True)\n",
              "              (value): Linear(in_features=768, out_features=768, bias=True)\n",
              "              (dropout): Dropout(p=0.1, inplace=False)\n",
              "            )\n",
              "            (output): BertSelfOutput(\n",
              "              (dense): Linear(in_features=768, out_features=768, bias=True)\n",
              "              (LayerNorm): LayerNorm((768,), eps=1e-12, elementwise_affine=True)\n",
              "              (dropout): Dropout(p=0.1, inplace=False)\n",
              "            )\n",
              "          )\n",
              "          (intermediate): BertIntermediate(\n",
              "            (dense): Linear(in_features=768, out_features=3072, bias=True)\n",
              "          )\n",
              "          (output): BertOutput(\n",
              "            (dense): Linear(in_features=3072, out_features=768, bias=True)\n",
              "            (LayerNorm): LayerNorm((768,), eps=1e-12, elementwise_affine=True)\n",
              "            (dropout): Dropout(p=0.1, inplace=False)\n",
              "          )\n",
              "        )\n",
              "      )\n",
              "    )\n",
              "    (pooler): BertPooler(\n",
              "      (dense): Linear(in_features=768, out_features=768, bias=True)\n",
              "      (activation): Tanh()\n",
              "    )\n",
              "  )\n",
              "  (dropout): Dropout(p=0.1, inplace=False)\n",
              "  (classifier): Linear(in_features=768, out_features=4, bias=True)\n",
              ")"
            ]
          },
          "metadata": {
            "tags": []
          },
          "execution_count": 33
        }
      ]
    },
    {
      "cell_type": "code",
      "metadata": {
        "id": "d63qzJeuNzfY"
      },
      "source": [
        "param_optimizer = list(model.named_parameters())\n",
        "no_decay = ['bias', 'gamma', 'beta']\n",
        "optimizer_grouped_parameters = [\n",
        "  {'params': [p for n, p in param_optimizer if not any(nd in n for nd in no_decay)],\n",
        "    'weight_decay_rate': 0.01},\n",
        "  {'params': [p for n, p in param_optimizer if any(nd in n for nd in no_decay)],\n",
        "    'weight_decay_rate': 0.0}\n",
        "]\n",
        "\n",
        "optimizer = AdamW(optimizer_grouped_parameters, lr=2e-5)"
      ],
      "execution_count": 34,
      "outputs": []
    },
    {
      "cell_type": "code",
      "metadata": {
        "colab": {
          "base_uri": "https://localhost:8080/",
          "height": 652
        },
        "id": "PTfNZ44FN3tY",
        "outputId": "c621c9f7-f716-4c06-bbaa-7333e6bf4116"
      },
      "source": [
        "from IPython.display import clear_output\n",
        "\n",
        "train_loss_set = []\n",
        "train_loss = 0\n",
        "\n",
        "model.train()\n",
        "\n",
        "for step, batch in enumerate(train_dataloader):\n",
        "  batch = tuple(t.to(device) for t in batch)\n",
        "  b_input_ids, b_input_mask, b_labels = batch\n",
        "  \n",
        "  optimizer.zero_grad()\n",
        "  \n",
        "  loss = model(b_input_ids, token_type_ids=None, attention_mask=b_input_mask, labels=b_labels)\n",
        "\n",
        "  train_loss_set.append(loss[0].item())  \n",
        "  \n",
        "  loss[0].backward()\n",
        "  \n",
        "  optimizer.step()\n",
        "\n",
        "  train_loss += loss[0].item()\n",
        "  \n",
        "  clear_output(True)\n",
        "  plt.plot(train_loss_set)\n",
        "  plt.title(\"Training loss\")\n",
        "  plt.xlabel(\"Batch\")\n",
        "  plt.ylabel(\"Loss\")\n",
        "  plt.show()"
      ],
      "execution_count": 35,
      "outputs": [
        {
          "output_type": "display_data",
          "data": {
            "image/png": "[encoded data removed]",
            "text/plain": [
              "<Figure size 432x288 with 1 Axes>"
            ]
          },
          "metadata": {
            "tags": [],
            "needs_background": "light"
          }
        },
        {
          "output_type": "error",
          "ename": "KeyboardInterrupt",
          "evalue": "ignored",
          "traceback": [
            "\u001b[0;31m---------------------------------------------------------------------------\u001b[0m",
            "\u001b[0;31mKeyboardInterrupt\u001b[0m                         Traceback (most recent call last)",
            "\u001b[0;32m<ipython-input-35-37f2f1a089fe>\u001b[0m in \u001b[0;36m<module>\u001b[0;34m()\u001b[0m\n\u001b[1;32m     16\u001b[0m   \u001b[0mtrain_loss_set\u001b[0m\u001b[0;34m.\u001b[0m\u001b[0mappend\u001b[0m\u001b[0;34m(\u001b[0m\u001b[0mloss\u001b[0m\u001b[0;34m[\u001b[0m\u001b[0;36m0\u001b[0m\u001b[0;34m]\u001b[0m\u001b[0;34m.\u001b[0m\u001b[0mitem\u001b[0m\u001b[0;34m(\u001b[0m\u001b[0;34m)\u001b[0m\u001b[0;34m)\u001b[0m\u001b[0;34m\u001b[0m\u001b[0;34m\u001b[0m\u001b[0m\n\u001b[1;32m     17\u001b[0m \u001b[0;34m\u001b[0m\u001b[0m\n\u001b[0;32m---> 18\u001b[0;31m   \u001b[0mloss\u001b[0m\u001b[0;34m[\u001b[0m\u001b[0;36m0\u001b[0m\u001b[0;34m]\u001b[0m\u001b[0;34m.\u001b[0m\u001b[0mbackward\u001b[0m\u001b[0;34m(\u001b[0m\u001b[0;34m)\u001b[0m\u001b[0;34m\u001b[0m\u001b[0;34m\u001b[0m\u001b[0m\n\u001b[0m\u001b[1;32m     19\u001b[0m \u001b[0;34m\u001b[0m\u001b[0m\n\u001b[1;32m     20\u001b[0m   \u001b[0moptimizer\u001b[0m\u001b[0;34m.\u001b[0m\u001b[0mstep\u001b[0m\u001b[0;34m(\u001b[0m\u001b[0;34m)\u001b[0m\u001b[0;34m\u001b[0m\u001b[0;34m\u001b[0m\u001b[0m\n",
            "\u001b[0;32m/usr/local/lib/python3.7/dist-packages/torch/_tensor.py\u001b[0m in \u001b[0;36mbackward\u001b[0;34m(self, gradient, retain_graph, create_graph, inputs)\u001b[0m\n\u001b[1;32m    253\u001b[0m                 \u001b[0mcreate_graph\u001b[0m\u001b[0;34m=\u001b[0m\u001b[0mcreate_graph\u001b[0m\u001b[0;34m,\u001b[0m\u001b[0;34m\u001b[0m\u001b[0;34m\u001b[0m\u001b[0m\n\u001b[1;32m    254\u001b[0m                 inputs=inputs)\n\u001b[0;32m--> 255\u001b[0;31m         \u001b[0mtorch\u001b[0m\u001b[0;34m.\u001b[0m\u001b[0mautograd\u001b[0m\u001b[0;34m.\u001b[0m\u001b[0mbackward\u001b[0m\u001b[0;34m(\u001b[0m\u001b[0mself\u001b[0m\u001b[0;34m,\u001b[0m \u001b[0mgradient\u001b[0m\u001b[0;34m,\u001b[0m \u001b[0mretain_graph\u001b[0m\u001b[0;34m,\u001b[0m \u001b[0mcreate_graph\u001b[0m\u001b[0;34m,\u001b[0m \u001b[0minputs\u001b[0m\u001b[0;34m=\u001b[0m\u001b[0minputs\u001b[0m\u001b[0;34m)\u001b[0m\u001b[0;34m\u001b[0m\u001b[0;34m\u001b[0m\u001b[0m\n\u001b[0m\u001b[1;32m    256\u001b[0m \u001b[0;34m\u001b[0m\u001b[0m\n\u001b[1;32m    257\u001b[0m     \u001b[0;32mdef\u001b[0m \u001b[0mregister_hook\u001b[0m\u001b[0;34m(\u001b[0m\u001b[0mself\u001b[0m\u001b[0;34m,\u001b[0m \u001b[0mhook\u001b[0m\u001b[0;34m)\u001b[0m\u001b[0;34m:\u001b[0m\u001b[0;34m\u001b[0m\u001b[0;34m\u001b[0m\u001b[0m\n",
            "\u001b[0;32m/usr/local/lib/python3.7/dist-packages/torch/autograd/__init__.py\u001b[0m in \u001b[0;36mbackward\u001b[0;34m(tensors, grad_tensors, retain_graph, create_graph, grad_variables, inputs)\u001b[0m\n\u001b[1;32m    147\u001b[0m     Variable._execution_engine.run_backward(\n\u001b[1;32m    148\u001b[0m         \u001b[0mtensors\u001b[0m\u001b[0;34m,\u001b[0m \u001b[0mgrad_tensors_\u001b[0m\u001b[0;34m,\u001b[0m \u001b[0mretain_graph\u001b[0m\u001b[0;34m,\u001b[0m \u001b[0mcreate_graph\u001b[0m\u001b[0;34m,\u001b[0m \u001b[0minputs\u001b[0m\u001b[0;34m,\u001b[0m\u001b[0;34m\u001b[0m\u001b[0;34m\u001b[0m\u001b[0m\n\u001b[0;32m--> 149\u001b[0;31m         allow_unreachable=True, accumulate_grad=True)  # allow_unreachable flag\n\u001b[0m\u001b[1;32m    150\u001b[0m \u001b[0;34m\u001b[0m\u001b[0m\n\u001b[1;32m    151\u001b[0m \u001b[0;34m\u001b[0m\u001b[0m\n",
            "\u001b[0;31mKeyboardInterrupt\u001b[0m: "
          ]
        }
      ]
    },
    {
      "cell_type": "code",
      "metadata": {
        "colab": {
          "base_uri": "https://localhost:8080/"
        },
        "id": "PO-D7e2oNkjh",
        "outputId": "eaeda519-bfab-4250-abb5-72f6d223e155"
      },
      "source": [
        "print(\"Loss на обучающей выборке: {0:.5f}\".format(train_loss / len(train_dataloader)))\n",
        "\n",
        "model.eval()\n",
        "\n",
        "valid_preds, valid_labels = [], []\n",
        "\n",
        "for batch in validation_dataloader:\n",
        "  batch = tuple(t.to(device) for t in batch)\n",
        "  \n",
        "  b_input_ids, b_input_mask, b_labels = batch\n",
        "  \n",
        "  with torch.no_grad():\n",
        "      logits = model(b_input_ids, token_type_ids=None, attention_mask=b_input_mask)\n",
        "\n",
        "  logits = logits[0].detach().cpu().numpy()\n",
        "  label_ids = b_labels.to('cpu').numpy()\n",
        "  \n",
        "  batch_preds = np.argmax(logits, axis=1)\n",
        "  batch_labels = label_ids\n",
        "  valid_preds.extend(batch_preds)\n",
        "  valid_labels.extend(batch_labels)\n",
        "\n",
        "print(\"Accuracy на валидационной выборке: {0:.2f}%\".format(\n",
        "    accuracy_score(valid_labels, valid_preds) * 100\n",
        "))\n",
        "print(\"f1: {0:.2f}%\".format(\n",
        "    f1_score(valid_labels, valid_preds, average='macro') * 100\n",
        "))"
      ],
      "execution_count": 36,
      "outputs": [
        {
          "output_type": "stream",
          "text": [
            "Loss на обучающей выборке: 0.63815\n",
            "Accuracy на валидационной выборке: 66.88%\n",
            "f1: 66.90%\n"
          ],
          "name": "stdout"
        }
      ]
    },
    {
      "cell_type": "code",
      "metadata": {
        "id": "8Hft1n_z1Y0y"
      },
      "source": [
        "valid_labels, valid_preds"
      ],
      "execution_count": null,
      "outputs": []
    },
    {
      "cell_type": "markdown",
      "metadata": {
        "id": "Ynyn_t93ECwu"
      },
      "source": [
        "# Test"
      ]
    },
    {
      "cell_type": "code",
      "metadata": {
        "id": "h5sanqcuC0XG"
      },
      "source": [
        "def generateTextsTest(texts, windowLen, need_prepare = True) -> list:\n",
        "  out = []\n",
        "  byWords = texts.split(' ')\n",
        "  for window in range(len(byWords) // windowLen + 1):\n",
        "    textPrepare = \" \".join(byWords[window * windowLen: (window + 1) * windowLen])\n",
        "    if need_prepare :\n",
        "      prepared = prepareText(textPrepare)\n",
        "    else :\n",
        "      prepared = textPrepare\n",
        "      \n",
        "    if windowLen - len(prepared) > 0:\n",
        "      prepared += ' ' * ( windowLen - len(prepared))\n",
        "    out.append(prepared)\n",
        "  return out"
      ],
      "execution_count": 38,
      "outputs": []
    },
    {
      "cell_type": "code",
      "metadata": {
        "id": "na9t7owFB4rL"
      },
      "source": [
        "\"\"\"\n",
        "sentencesTest = []\n",
        "labelsTest = []\n",
        "\n",
        "for i in range(df_test.shape[0]):\n",
        "  print(i)\n",
        "  cat_texts = generateTextsTest(df_test.task[i], sentMaxLen)\n",
        "  label = df_test.ans[i]\n",
        "  for j in cat_texts:\n",
        "    sentencesTest.append(j)\n",
        "    labelsTest.append(label)\n",
        "\"\"\"\n",
        "\n",
        "sentencesTest = df_test.task\n",
        "labelsTest = df_test.ans\n",
        "\n",
        "sentencesTest = [\"[CLS] \" + sentence + \" [SEP]\" for sentence in sentencesTest]\n",
        "sentencesTest = np.array(sentencesTest)\n",
        "labelsTest = np.array(labelsTest)"
      ],
      "execution_count": 39,
      "outputs": []
    },
    {
      "cell_type": "code",
      "metadata": {
        "id": "FksbomRADmPs"
      },
      "source": [
        "tokenized_textsTest = [tokenizer.tokenize(sent) for sent in sentencesTest]"
      ],
      "execution_count": 40,
      "outputs": []
    },
    {
      "cell_type": "code",
      "metadata": {
        "colab": {
          "base_uri": "https://localhost:8080/"
        },
        "id": "8ZQYQ3z0EHDN",
        "outputId": "48c2f458-ed4d-43ef-cd6d-42525bbfafe6"
      },
      "source": [
        "input_idsTest = [tokenizer.convert_tokens_to_ids(x) for x in tokenized_textsTest]\n",
        "input_idsTest = pad_sequences(\n",
        "  input_idsTest,\n",
        "  maxlen=200,\n",
        "  dtype=\"long\",\n",
        "  truncating=\"post\",\n",
        "  padding=\"post\"\n",
        ")\n",
        "attention_masksTest = [[float(i>0) for i in seq] for seq in input_idsTest]"
      ],
      "execution_count": 41,
      "outputs": [
        {
          "output_type": "stream",
          "text": [
            "Token indices sequence length is longer than the specified maximum sequence length for this model (558 > 512). Running this sequence through the model will result in indexing errors\n",
            "Token indices sequence length is longer than the specified maximum sequence length for this model (1150 > 512). Running this sequence through the model will result in indexing errors\n",
            "Token indices sequence length is longer than the specified maximum sequence length for this model (1655 > 512). Running this sequence through the model will result in indexing errors\n",
            "Token indices sequence length is longer than the specified maximum sequence length for this model (737 > 512). Running this sequence through the model will result in indexing errors\n",
            "Token indices sequence length is longer than the specified maximum sequence length for this model (543 > 512). Running this sequence through the model will result in indexing errors\n",
            "Token indices sequence length is longer than the specified maximum sequence length for this model (1641 > 512). Running this sequence through the model will result in indexing errors\n",
            "Token indices sequence length is longer than the specified maximum sequence length for this model (606 > 512). Running this sequence through the model will result in indexing errors\n",
            "Token indices sequence length is longer than the specified maximum sequence length for this model (785 > 512). Running this sequence through the model will result in indexing errors\n",
            "Token indices sequence length is longer than the specified maximum sequence length for this model (571 > 512). Running this sequence through the model will result in indexing errors\n"
          ],
          "name": "stderr"
        }
      ]
    },
    {
      "cell_type": "code",
      "metadata": {
        "id": "r9XiQKVXEQjl"
      },
      "source": [
        "test_inputs = torch.tensor(input_idsTest)\n",
        "test_labels = torch.tensor(labelsTest)\n",
        "test_masks = torch.tensor(attention_masksTest)"
      ],
      "execution_count": 42,
      "outputs": []
    },
    {
      "cell_type": "code",
      "metadata": {
        "id": "n8KLxVUcEZYl"
      },
      "source": [
        "test_data = TensorDataset(test_inputs, test_masks, test_labels)\n",
        "test_dataloader = DataLoader(\n",
        "  test_data,\n",
        "  sampler=SequentialSampler(test_data),\n",
        "  batch_size=16\n",
        ")"
      ],
      "execution_count": 43,
      "outputs": []
    },
    {
      "cell_type": "code",
      "metadata": {
        "colab": {
          "base_uri": "https://localhost:8080/"
        },
        "id": "-7ntEiHJEZ19",
        "outputId": "06afed10-db3c-4bc9-a64e-4dfe5ad52206"
      },
      "source": [
        "test_preds, test_labels = [], []\n",
        "\n",
        "for batch in test_dataloader:\n",
        "  batch = tuple(t.to(device) for t in batch)\n",
        "  \n",
        "  b_input_ids, b_input_mask, b_labels = batch\n",
        "  \n",
        "  with torch.no_grad():\n",
        "      logits = model(b_input_ids, token_type_ids=None, attention_mask=b_input_mask)\n",
        "\n",
        "  logits = logits[0].detach().cpu().numpy()\n",
        "  label_ids = b_labels.to('cpu').numpy()\n",
        "  \n",
        "  batch_preds = np.argmax(logits, axis=1)\n",
        "  batch_labels = label_ids\n",
        "  test_preds.extend(batch_preds)\n",
        "  test_labels.extend(batch_labels)\n",
        "\n",
        "for i in range(len(test_preds)):\n",
        "  test_preds[i] = catToCatTest[test_preds[i]]\n",
        "\n",
        "print(\"Accuracy предсказаний на тестовой выборке: {0:.2f}%\".format(\n",
        "    accuracy_score(test_labels, test_preds) * 100\n",
        "))\n",
        "print(\"f1: {0:.2f}%\".format(\n",
        "    f1_score(test_labels, test_preds, average='macro') * 100\n",
        "))"
      ],
      "execution_count": 44,
      "outputs": [
        {
          "output_type": "stream",
          "text": [
            "Accuracy предсказаний на тестовой выборке: 69.65%\n",
            "f1: 63.88%\n"
          ],
          "name": "stdout"
        }
      ]
    },
    {
      "cell_type": "code",
      "metadata": {
        "colab": {
          "base_uri": "https://localhost:8080/"
        },
        "id": "Z4P3hzNhE7M1",
        "outputId": "186870ac-b700-4d94-8eef-9e7f37f44a61"
      },
      "source": [
        "test_labels, test_preds"
      ],
      "execution_count": 45,
      "outputs": [
        {
          "output_type": "execute_result",
          "data": {
            "text/plain": [
              "([0,\n",
              "  3,\n",
              "  0,\n",
              "  3,\n",
              "  0,\n",
              "  0,\n",
              "  2,\n",
              "  0,\n",
              "  0,\n",
              "  0,\n",
              "  2,\n",
              "  0,\n",
              "  0,\n",
              "  0,\n",
              "  0,\n",
              "  0,\n",
              "  0,\n",
              "  2,\n",
              "  0,\n",
              "  2,\n",
              "  3,\n",
              "  0,\n",
              "  2,\n",
              "  0,\n",
              "  0,\n",
              "  2,\n",
              "  0,\n",
              "  2,\n",
              "  2,\n",
              "  0,\n",
              "  0,\n",
              "  3,\n",
              "  0,\n",
              "  3,\n",
              "  2,\n",
              "  0,\n",
              "  0,\n",
              "  0,\n",
              "  0,\n",
              "  0,\n",
              "  2,\n",
              "  3,\n",
              "  0,\n",
              "  1,\n",
              "  2,\n",
              "  0,\n",
              "  0,\n",
              "  0,\n",
              "  0,\n",
              "  2,\n",
              "  3,\n",
              "  3,\n",
              "  2,\n",
              "  3,\n",
              "  2,\n",
              "  0,\n",
              "  0,\n",
              "  0,\n",
              "  2,\n",
              "  1,\n",
              "  1,\n",
              "  2,\n",
              "  3,\n",
              "  0,\n",
              "  0,\n",
              "  3,\n",
              "  3,\n",
              "  0,\n",
              "  0,\n",
              "  2,\n",
              "  0,\n",
              "  2,\n",
              "  2,\n",
              "  2,\n",
              "  0,\n",
              "  0,\n",
              "  3,\n",
              "  2,\n",
              "  2,\n",
              "  3,\n",
              "  3,\n",
              "  3,\n",
              "  0,\n",
              "  0,\n",
              "  0,\n",
              "  3,\n",
              "  0,\n",
              "  0,\n",
              "  0,\n",
              "  2,\n",
              "  1,\n",
              "  0,\n",
              "  0,\n",
              "  0,\n",
              "  0,\n",
              "  2,\n",
              "  0,\n",
              "  0,\n",
              "  0,\n",
              "  3,\n",
              "  0,\n",
              "  2,\n",
              "  3,\n",
              "  3,\n",
              "  0,\n",
              "  0,\n",
              "  2,\n",
              "  2,\n",
              "  0,\n",
              "  3,\n",
              "  0,\n",
              "  0,\n",
              "  0,\n",
              "  2,\n",
              "  2,\n",
              "  2,\n",
              "  0,\n",
              "  0,\n",
              "  0,\n",
              "  3,\n",
              "  0,\n",
              "  2,\n",
              "  0,\n",
              "  0,\n",
              "  2,\n",
              "  0,\n",
              "  0,\n",
              "  2,\n",
              "  3,\n",
              "  0,\n",
              "  2,\n",
              "  2,\n",
              "  0,\n",
              "  2,\n",
              "  0,\n",
              "  3,\n",
              "  2,\n",
              "  0,\n",
              "  0,\n",
              "  3,\n",
              "  2,\n",
              "  2,\n",
              "  2,\n",
              "  2,\n",
              "  3,\n",
              "  0,\n",
              "  2,\n",
              "  0,\n",
              "  0,\n",
              "  3,\n",
              "  3,\n",
              "  2,\n",
              "  0,\n",
              "  2,\n",
              "  0,\n",
              "  3,\n",
              "  0,\n",
              "  0,\n",
              "  2,\n",
              "  3,\n",
              "  1,\n",
              "  3,\n",
              "  0,\n",
              "  0,\n",
              "  3,\n",
              "  0,\n",
              "  2,\n",
              "  2,\n",
              "  0,\n",
              "  0,\n",
              "  0,\n",
              "  2,\n",
              "  0,\n",
              "  0,\n",
              "  2,\n",
              "  2,\n",
              "  0,\n",
              "  3,\n",
              "  3,\n",
              "  0,\n",
              "  2,\n",
              "  0,\n",
              "  0,\n",
              "  2,\n",
              "  3,\n",
              "  1,\n",
              "  3,\n",
              "  0,\n",
              "  0,\n",
              "  0,\n",
              "  2,\n",
              "  3,\n",
              "  0,\n",
              "  0,\n",
              "  3,\n",
              "  0,\n",
              "  0,\n",
              "  3,\n",
              "  0,\n",
              "  3,\n",
              "  3,\n",
              "  0,\n",
              "  3,\n",
              "  2,\n",
              "  0,\n",
              "  0,\n",
              "  0,\n",
              "  0,\n",
              "  0,\n",
              "  3,\n",
              "  0,\n",
              "  1,\n",
              "  0,\n",
              "  3,\n",
              "  0,\n",
              "  2,\n",
              "  0,\n",
              "  3,\n",
              "  3,\n",
              "  0,\n",
              "  3,\n",
              "  1,\n",
              "  3,\n",
              "  2,\n",
              "  0,\n",
              "  2,\n",
              "  2,\n",
              "  2,\n",
              "  2,\n",
              "  0,\n",
              "  3,\n",
              "  1,\n",
              "  0,\n",
              "  2,\n",
              "  2,\n",
              "  2,\n",
              "  0,\n",
              "  0,\n",
              "  0,\n",
              "  2,\n",
              "  1,\n",
              "  3,\n",
              "  3,\n",
              "  0,\n",
              "  0,\n",
              "  0,\n",
              "  0,\n",
              "  1,\n",
              "  3,\n",
              "  3,\n",
              "  0,\n",
              "  3,\n",
              "  1,\n",
              "  0,\n",
              "  2,\n",
              "  3,\n",
              "  0,\n",
              "  0,\n",
              "  0,\n",
              "  2,\n",
              "  3,\n",
              "  0,\n",
              "  3,\n",
              "  0,\n",
              "  2,\n",
              "  2,\n",
              "  1,\n",
              "  3,\n",
              "  3,\n",
              "  3,\n",
              "  0,\n",
              "  0,\n",
              "  2,\n",
              "  0,\n",
              "  3,\n",
              "  0,\n",
              "  0,\n",
              "  3,\n",
              "  3,\n",
              "  1,\n",
              "  0,\n",
              "  1,\n",
              "  3,\n",
              "  2,\n",
              "  2,\n",
              "  2,\n",
              "  0,\n",
              "  0,\n",
              "  3,\n",
              "  0,\n",
              "  3,\n",
              "  3,\n",
              "  2,\n",
              "  3,\n",
              "  3,\n",
              "  3,\n",
              "  0,\n",
              "  0,\n",
              "  0,\n",
              "  3,\n",
              "  0,\n",
              "  0,\n",
              "  0,\n",
              "  0,\n",
              "  0,\n",
              "  2,\n",
              "  0,\n",
              "  0,\n",
              "  3,\n",
              "  1,\n",
              "  0,\n",
              "  3,\n",
              "  3,\n",
              "  2,\n",
              "  3,\n",
              "  0,\n",
              "  3,\n",
              "  2,\n",
              "  0,\n",
              "  0,\n",
              "  0,\n",
              "  0,\n",
              "  2,\n",
              "  0,\n",
              "  0,\n",
              "  0,\n",
              "  2,\n",
              "  0,\n",
              "  1,\n",
              "  0,\n",
              "  2,\n",
              "  2,\n",
              "  3,\n",
              "  0,\n",
              "  2,\n",
              "  3,\n",
              "  3,\n",
              "  2,\n",
              "  3,\n",
              "  3,\n",
              "  0,\n",
              "  0,\n",
              "  2,\n",
              "  2,\n",
              "  0,\n",
              "  0,\n",
              "  0,\n",
              "  0,\n",
              "  0,\n",
              "  0,\n",
              "  0,\n",
              "  0,\n",
              "  0,\n",
              "  2,\n",
              "  0,\n",
              "  3,\n",
              "  0,\n",
              "  2,\n",
              "  0,\n",
              "  3,\n",
              "  2,\n",
              "  2,\n",
              "  0,\n",
              "  3,\n",
              "  3,\n",
              "  2,\n",
              "  0,\n",
              "  2,\n",
              "  2,\n",
              "  2,\n",
              "  3,\n",
              "  0,\n",
              "  2,\n",
              "  3,\n",
              "  3,\n",
              "  1,\n",
              "  0,\n",
              "  0,\n",
              "  0,\n",
              "  2,\n",
              "  1,\n",
              "  0,\n",
              "  2,\n",
              "  0,\n",
              "  0,\n",
              "  3,\n",
              "  0,\n",
              "  3,\n",
              "  3,\n",
              "  2,\n",
              "  0,\n",
              "  3,\n",
              "  0,\n",
              "  3,\n",
              "  2,\n",
              "  3,\n",
              "  0,\n",
              "  2,\n",
              "  0,\n",
              "  3,\n",
              "  0,\n",
              "  2,\n",
              "  3,\n",
              "  3,\n",
              "  0,\n",
              "  3,\n",
              "  0,\n",
              "  2,\n",
              "  0,\n",
              "  0,\n",
              "  2,\n",
              "  2,\n",
              "  3,\n",
              "  0,\n",
              "  0,\n",
              "  0,\n",
              "  0,\n",
              "  0,\n",
              "  2,\n",
              "  2,\n",
              "  0,\n",
              "  3,\n",
              "  0,\n",
              "  1,\n",
              "  0,\n",
              "  0,\n",
              "  2,\n",
              "  0,\n",
              "  3,\n",
              "  3,\n",
              "  2,\n",
              "  0,\n",
              "  2,\n",
              "  2,\n",
              "  3,\n",
              "  0,\n",
              "  0,\n",
              "  2,\n",
              "  0,\n",
              "  2,\n",
              "  0,\n",
              "  0,\n",
              "  2,\n",
              "  3,\n",
              "  3,\n",
              "  3,\n",
              "  0,\n",
              "  1,\n",
              "  0,\n",
              "  0,\n",
              "  3,\n",
              "  2,\n",
              "  2,\n",
              "  2,\n",
              "  0,\n",
              "  0,\n",
              "  2,\n",
              "  0,\n",
              "  3,\n",
              "  0,\n",
              "  2,\n",
              "  0,\n",
              "  0,\n",
              "  2,\n",
              "  0,\n",
              "  0,\n",
              "  0,\n",
              "  2,\n",
              "  0,\n",
              "  3,\n",
              "  0,\n",
              "  0,\n",
              "  0,\n",
              "  3,\n",
              "  0,\n",
              "  0,\n",
              "  0,\n",
              "  3,\n",
              "  2,\n",
              "  0,\n",
              "  0,\n",
              "  3,\n",
              "  0,\n",
              "  0,\n",
              "  1,\n",
              "  0,\n",
              "  2,\n",
              "  0,\n",
              "  0,\n",
              "  0,\n",
              "  3,\n",
              "  0,\n",
              "  1,\n",
              "  0,\n",
              "  0,\n",
              "  0,\n",
              "  3,\n",
              "  2,\n",
              "  3,\n",
              "  0,\n",
              "  0,\n",
              "  1,\n",
              "  2,\n",
              "  2,\n",
              "  2,\n",
              "  3,\n",
              "  3,\n",
              "  3,\n",
              "  3,\n",
              "  3,\n",
              "  0,\n",
              "  2,\n",
              "  3,\n",
              "  2],\n",
              " [0,\n",
              "  0,\n",
              "  0,\n",
              "  0,\n",
              "  0,\n",
              "  0,\n",
              "  1,\n",
              "  0,\n",
              "  0,\n",
              "  0,\n",
              "  2,\n",
              "  0,\n",
              "  0,\n",
              "  2,\n",
              "  0,\n",
              "  0,\n",
              "  0,\n",
              "  3,\n",
              "  0,\n",
              "  2,\n",
              "  0,\n",
              "  0,\n",
              "  2,\n",
              "  0,\n",
              "  0,\n",
              "  2,\n",
              "  0,\n",
              "  2,\n",
              "  2,\n",
              "  0,\n",
              "  0,\n",
              "  0,\n",
              "  0,\n",
              "  1,\n",
              "  2,\n",
              "  0,\n",
              "  0,\n",
              "  0,\n",
              "  0,\n",
              "  0,\n",
              "  2,\n",
              "  3,\n",
              "  0,\n",
              "  1,\n",
              "  2,\n",
              "  0,\n",
              "  0,\n",
              "  0,\n",
              "  0,\n",
              "  2,\n",
              "  3,\n",
              "  3,\n",
              "  2,\n",
              "  3,\n",
              "  2,\n",
              "  0,\n",
              "  0,\n",
              "  0,\n",
              "  2,\n",
              "  1,\n",
              "  1,\n",
              "  2,\n",
              "  3,\n",
              "  0,\n",
              "  0,\n",
              "  2,\n",
              "  3,\n",
              "  2,\n",
              "  0,\n",
              "  3,\n",
              "  0,\n",
              "  2,\n",
              "  3,\n",
              "  2,\n",
              "  0,\n",
              "  0,\n",
              "  3,\n",
              "  2,\n",
              "  0,\n",
              "  0,\n",
              "  2,\n",
              "  3,\n",
              "  0,\n",
              "  0,\n",
              "  0,\n",
              "  3,\n",
              "  0,\n",
              "  0,\n",
              "  0,\n",
              "  2,\n",
              "  1,\n",
              "  0,\n",
              "  0,\n",
              "  0,\n",
              "  1,\n",
              "  2,\n",
              "  0,\n",
              "  0,\n",
              "  0,\n",
              "  1,\n",
              "  0,\n",
              "  3,\n",
              "  2,\n",
              "  0,\n",
              "  0,\n",
              "  3,\n",
              "  2,\n",
              "  0,\n",
              "  0,\n",
              "  0,\n",
              "  0,\n",
              "  0,\n",
              "  0,\n",
              "  2,\n",
              "  0,\n",
              "  2,\n",
              "  0,\n",
              "  0,\n",
              "  0,\n",
              "  3,\n",
              "  0,\n",
              "  2,\n",
              "  0,\n",
              "  0,\n",
              "  2,\n",
              "  0,\n",
              "  0,\n",
              "  2,\n",
              "  0,\n",
              "  0,\n",
              "  3,\n",
              "  2,\n",
              "  0,\n",
              "  2,\n",
              "  0,\n",
              "  2,\n",
              "  2,\n",
              "  0,\n",
              "  0,\n",
              "  3,\n",
              "  3,\n",
              "  0,\n",
              "  2,\n",
              "  3,\n",
              "  0,\n",
              "  0,\n",
              "  0,\n",
              "  0,\n",
              "  0,\n",
              "  0,\n",
              "  0,\n",
              "  0,\n",
              "  0,\n",
              "  2,\n",
              "  0,\n",
              "  0,\n",
              "  0,\n",
              "  0,\n",
              "  2,\n",
              "  3,\n",
              "  1,\n",
              "  2,\n",
              "  0,\n",
              "  0,\n",
              "  3,\n",
              "  0,\n",
              "  2,\n",
              "  0,\n",
              "  0,\n",
              "  0,\n",
              "  0,\n",
              "  0,\n",
              "  0,\n",
              "  0,\n",
              "  2,\n",
              "  0,\n",
              "  0,\n",
              "  3,\n",
              "  3,\n",
              "  0,\n",
              "  2,\n",
              "  0,\n",
              "  0,\n",
              "  0,\n",
              "  2,\n",
              "  0,\n",
              "  2,\n",
              "  0,\n",
              "  0,\n",
              "  0,\n",
              "  2,\n",
              "  2,\n",
              "  0,\n",
              "  0,\n",
              "  0,\n",
              "  0,\n",
              "  0,\n",
              "  2,\n",
              "  0,\n",
              "  2,\n",
              "  3,\n",
              "  0,\n",
              "  2,\n",
              "  3,\n",
              "  0,\n",
              "  0,\n",
              "  0,\n",
              "  0,\n",
              "  0,\n",
              "  3,\n",
              "  0,\n",
              "  1,\n",
              "  0,\n",
              "  2,\n",
              "  0,\n",
              "  2,\n",
              "  0,\n",
              "  1,\n",
              "  0,\n",
              "  0,\n",
              "  2,\n",
              "  1,\n",
              "  3,\n",
              "  0,\n",
              "  0,\n",
              "  0,\n",
              "  2,\n",
              "  2,\n",
              "  2,\n",
              "  0,\n",
              "  0,\n",
              "  1,\n",
              "  0,\n",
              "  0,\n",
              "  3,\n",
              "  0,\n",
              "  1,\n",
              "  0,\n",
              "  0,\n",
              "  3,\n",
              "  1,\n",
              "  3,\n",
              "  0,\n",
              "  0,\n",
              "  3,\n",
              "  0,\n",
              "  0,\n",
              "  1,\n",
              "  3,\n",
              "  0,\n",
              "  0,\n",
              "  0,\n",
              "  1,\n",
              "  0,\n",
              "  2,\n",
              "  2,\n",
              "  2,\n",
              "  0,\n",
              "  0,\n",
              "  2,\n",
              "  0,\n",
              "  0,\n",
              "  3,\n",
              "  3,\n",
              "  2,\n",
              "  0,\n",
              "  1,\n",
              "  3,\n",
              "  3,\n",
              "  2,\n",
              "  0,\n",
              "  3,\n",
              "  0,\n",
              "  0,\n",
              "  0,\n",
              "  0,\n",
              "  0,\n",
              "  3,\n",
              "  3,\n",
              "  1,\n",
              "  0,\n",
              "  1,\n",
              "  3,\n",
              "  1,\n",
              "  2,\n",
              "  0,\n",
              "  0,\n",
              "  0,\n",
              "  0,\n",
              "  0,\n",
              "  3,\n",
              "  3,\n",
              "  0,\n",
              "  3,\n",
              "  3,\n",
              "  3,\n",
              "  0,\n",
              "  0,\n",
              "  3,\n",
              "  3,\n",
              "  0,\n",
              "  0,\n",
              "  0,\n",
              "  0,\n",
              "  0,\n",
              "  3,\n",
              "  0,\n",
              "  0,\n",
              "  1,\n",
              "  1,\n",
              "  0,\n",
              "  0,\n",
              "  0,\n",
              "  1,\n",
              "  0,\n",
              "  0,\n",
              "  0,\n",
              "  2,\n",
              "  0,\n",
              "  0,\n",
              "  0,\n",
              "  0,\n",
              "  2,\n",
              "  0,\n",
              "  1,\n",
              "  2,\n",
              "  2,\n",
              "  0,\n",
              "  1,\n",
              "  0,\n",
              "  3,\n",
              "  0,\n",
              "  3,\n",
              "  0,\n",
              "  3,\n",
              "  0,\n",
              "  0,\n",
              "  2,\n",
              "  1,\n",
              "  0,\n",
              "  0,\n",
              "  0,\n",
              "  2,\n",
              "  2,\n",
              "  0,\n",
              "  0,\n",
              "  1,\n",
              "  0,\n",
              "  0,\n",
              "  0,\n",
              "  0,\n",
              "  0,\n",
              "  0,\n",
              "  3,\n",
              "  0,\n",
              "  3,\n",
              "  0,\n",
              "  2,\n",
              "  0,\n",
              "  3,\n",
              "  0,\n",
              "  0,\n",
              "  0,\n",
              "  0,\n",
              "  1,\n",
              "  2,\n",
              "  0,\n",
              "  2,\n",
              "  2,\n",
              "  2,\n",
              "  0,\n",
              "  0,\n",
              "  2,\n",
              "  3,\n",
              "  3,\n",
              "  1,\n",
              "  0,\n",
              "  0,\n",
              "  2,\n",
              "  0,\n",
              "  0,\n",
              "  0,\n",
              "  3,\n",
              "  0,\n",
              "  0,\n",
              "  3,\n",
              "  0,\n",
              "  0,\n",
              "  0,\n",
              "  0,\n",
              "  0,\n",
              "  0,\n",
              "  0,\n",
              "  3,\n",
              "  2,\n",
              "  0,\n",
              "  0,\n",
              "  2,\n",
              "  0,\n",
              "  3,\n",
              "  0,\n",
              "  0,\n",
              "  0,\n",
              "  0,\n",
              "  0,\n",
              "  3,\n",
              "  0,\n",
              "  3,\n",
              "  3,\n",
              "  0,\n",
              "  2,\n",
              "  1,\n",
              "  0,\n",
              "  0,\n",
              "  0,\n",
              "  0,\n",
              "  0,\n",
              "  2,\n",
              "  0,\n",
              "  2,\n",
              "  0,\n",
              "  3,\n",
              "  1,\n",
              "  1,\n",
              "  0,\n",
              "  0,\n",
              "  3,\n",
              "  0,\n",
              "  0,\n",
              "  0,\n",
              "  0,\n",
              "  0,\n",
              "  2,\n",
              "  3,\n",
              "  0,\n",
              "  2,\n",
              "  0,\n",
              "  2,\n",
              "  3,\n",
              "  2,\n",
              "  0,\n",
              "  0,\n",
              "  0,\n",
              "  2,\n",
              "  0,\n",
              "  2,\n",
              "  0,\n",
              "  2,\n",
              "  0,\n",
              "  0,\n",
              "  2,\n",
              "  2,\n",
              "  2,\n",
              "  2,\n",
              "  0,\n",
              "  0,\n",
              "  2,\n",
              "  0,\n",
              "  2,\n",
              "  0,\n",
              "  2,\n",
              "  0,\n",
              "  0,\n",
              "  2,\n",
              "  1,\n",
              "  3,\n",
              "  0,\n",
              "  2,\n",
              "  0,\n",
              "  2,\n",
              "  0,\n",
              "  0,\n",
              "  0,\n",
              "  2,\n",
              "  0,\n",
              "  0,\n",
              "  0,\n",
              "  3,\n",
              "  3,\n",
              "  1,\n",
              "  0,\n",
              "  1,\n",
              "  0,\n",
              "  0,\n",
              "  1,\n",
              "  0,\n",
              "  0,\n",
              "  2,\n",
              "  0,\n",
              "  0,\n",
              "  0,\n",
              "  2,\n",
              "  0,\n",
              "  0,\n",
              "  0,\n",
              "  3,\n",
              "  2,\n",
              "  2,\n",
              "  3,\n",
              "  0,\n",
              "  0,\n",
              "  1,\n",
              "  2,\n",
              "  3,\n",
              "  2,\n",
              "  3,\n",
              "  0,\n",
              "  1,\n",
              "  0,\n",
              "  3,\n",
              "  0,\n",
              "  2,\n",
              "  3,\n",
              "  3])"
            ]
          },
          "metadata": {
            "tags": []
          },
          "execution_count": 45
        }
      ]
    },
    {
      "cell_type": "code",
      "metadata": {
        "colab": {
          "base_uri": "https://localhost:8080/"
        },
        "id": "j_Z_TALbEhtV",
        "outputId": "19c40815-ded0-4f6d-961e-61b20c048052"
      },
      "source": [
        "len(test_labels), len(test_preds)"
      ],
      "execution_count": 47,
      "outputs": [
        {
          "output_type": "execute_result",
          "data": {
            "text/plain": [
              "(514, 514)"
            ]
          },
          "metadata": {
            "tags": []
          },
          "execution_count": 47
        }
      ]
    }
  ]
}