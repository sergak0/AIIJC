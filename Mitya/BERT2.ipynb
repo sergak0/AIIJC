{
  "nbformat": 4,
  "nbformat_minor": 0,
  "metadata": {
    "accelerator": "GPU",
    "colab": {
      "name": "BERT.ipynb",
      "provenance": [],
      "collapsed_sections": []
    },
    "kernelspec": {
      "display_name": "Python 3",
      "name": "python3"
    },
    "language_info": {
      "name": "python"
    }
  },
  "cells": [
    {
      "cell_type": "code",
      "metadata": {
        "id": "YPD5xkHjefGd",
        "colab": {
          "base_uri": "https://localhost:8080/"
        },
        "outputId": "7878ddd1-961a-4383-a948-f1522f1357ea"
      },
      "source": [
        "from google.colab import drive\n",
        "drive.mount('/content/drive')"
      ],
      "execution_count": 1,
      "outputs": [
        {
          "output_type": "stream",
          "name": "stdout",
          "text": [
            "Mounted at /content/drive\n"
          ]
        }
      ]
    },
    {
      "cell_type": "code",
      "metadata": {
        "id": "UTfGP2b6Adn3",
        "colab": {
          "base_uri": "https://localhost:8080/"
        },
        "outputId": "22b6a5f6-5f79-4f2a-e148-0dc7fd44cfe7"
      },
      "source": [
        "!pip install pytorch-transformers"
      ],
      "execution_count": 2,
      "outputs": [
        {
          "output_type": "stream",
          "name": "stdout",
          "text": [
            "Collecting pytorch-transformers\n",
            "  Downloading pytorch_transformers-1.2.0-py3-none-any.whl (176 kB)\n",
            "\u001b[K     |████████████████████████████████| 176 kB 4.3 MB/s \n",
            "\u001b[?25hRequirement already satisfied: regex in /usr/local/lib/python3.7/dist-packages (from pytorch-transformers) (2019.12.20)\n",
            "Requirement already satisfied: requests in /usr/local/lib/python3.7/dist-packages (from pytorch-transformers) (2.23.0)\n",
            "Collecting sacremoses\n",
            "  Downloading sacremoses-0.0.45-py3-none-any.whl (895 kB)\n",
            "\u001b[K     |████████████████████████████████| 895 kB 39.9 MB/s \n",
            "\u001b[?25hCollecting sentencepiece\n",
            "  Downloading sentencepiece-0.1.96-cp37-cp37m-manylinux_2_17_x86_64.manylinux2014_x86_64.whl (1.2 MB)\n",
            "\u001b[K     |████████████████████████████████| 1.2 MB 33.2 MB/s \n",
            "\u001b[?25hRequirement already satisfied: numpy in /usr/local/lib/python3.7/dist-packages (from pytorch-transformers) (1.19.5)\n",
            "Requirement already satisfied: torch>=1.0.0 in /usr/local/lib/python3.7/dist-packages (from pytorch-transformers) (1.9.0+cu102)\n",
            "Requirement already satisfied: tqdm in /usr/local/lib/python3.7/dist-packages (from pytorch-transformers) (4.62.2)\n",
            "Collecting boto3\n",
            "  Downloading boto3-1.18.44-py3-none-any.whl (131 kB)\n",
            "\u001b[K     |████████████████████████████████| 131 kB 46.7 MB/s \n",
            "\u001b[?25hRequirement already satisfied: typing-extensions in /usr/local/lib/python3.7/dist-packages (from torch>=1.0.0->pytorch-transformers) (3.7.4.3)\n",
            "Collecting botocore<1.22.0,>=1.21.44\n",
            "  Downloading botocore-1.21.44-py3-none-any.whl (7.9 MB)\n",
            "\u001b[K     |████████████████████████████████| 7.9 MB 22.0 MB/s \n",
            "\u001b[?25hCollecting s3transfer<0.6.0,>=0.5.0\n",
            "  Downloading s3transfer-0.5.0-py3-none-any.whl (79 kB)\n",
            "\u001b[K     |████████████████████████████████| 79 kB 7.6 MB/s \n",
            "\u001b[?25hCollecting jmespath<1.0.0,>=0.7.1\n",
            "  Downloading jmespath-0.10.0-py2.py3-none-any.whl (24 kB)\n",
            "Collecting urllib3<1.27,>=1.25.4\n",
            "  Downloading urllib3-1.26.6-py2.py3-none-any.whl (138 kB)\n",
            "\u001b[K     |████████████████████████████████| 138 kB 49.8 MB/s \n",
            "\u001b[?25hRequirement already satisfied: python-dateutil<3.0.0,>=2.1 in /usr/local/lib/python3.7/dist-packages (from botocore<1.22.0,>=1.21.44->boto3->pytorch-transformers) (2.8.2)\n",
            "Requirement already satisfied: six>=1.5 in /usr/local/lib/python3.7/dist-packages (from python-dateutil<3.0.0,>=2.1->botocore<1.22.0,>=1.21.44->boto3->pytorch-transformers) (1.15.0)\n",
            "Requirement already satisfied: certifi>=2017.4.17 in /usr/local/lib/python3.7/dist-packages (from requests->pytorch-transformers) (2021.5.30)\n",
            "  Downloading urllib3-1.25.11-py2.py3-none-any.whl (127 kB)\n",
            "\u001b[K     |████████████████████████████████| 127 kB 47.7 MB/s \n",
            "\u001b[?25hRequirement already satisfied: chardet<4,>=3.0.2 in /usr/local/lib/python3.7/dist-packages (from requests->pytorch-transformers) (3.0.4)\n",
            "Requirement already satisfied: idna<3,>=2.5 in /usr/local/lib/python3.7/dist-packages (from requests->pytorch-transformers) (2.10)\n",
            "Requirement already satisfied: joblib in /usr/local/lib/python3.7/dist-packages (from sacremoses->pytorch-transformers) (1.0.1)\n",
            "Requirement already satisfied: click in /usr/local/lib/python3.7/dist-packages (from sacremoses->pytorch-transformers) (7.1.2)\n",
            "Installing collected packages: urllib3, jmespath, botocore, s3transfer, sentencepiece, sacremoses, boto3, pytorch-transformers\n",
            "  Attempting uninstall: urllib3\n",
            "    Found existing installation: urllib3 1.24.3\n",
            "    Uninstalling urllib3-1.24.3:\n",
            "      Successfully uninstalled urllib3-1.24.3\n",
            "\u001b[31mERROR: pip's dependency resolver does not currently take into account all the packages that are installed. This behaviour is the source of the following dependency conflicts.\n",
            "datascience 0.10.6 requires folium==0.2.1, but you have folium 0.8.3 which is incompatible.\u001b[0m\n",
            "Successfully installed boto3-1.18.44 botocore-1.21.44 jmespath-0.10.0 pytorch-transformers-1.2.0 s3transfer-0.5.0 sacremoses-0.0.45 sentencepiece-0.1.96 urllib3-1.25.11\n"
          ]
        }
      ]
    },
    {
      "cell_type": "code",
      "metadata": {
        "id": "hRYkmf3b98vd"
      },
      "source": [
        "import torch\n",
        "from torch.utils.data import TensorDataset, DataLoader, RandomSampler, SequentialSampler\n",
        "from keras.preprocessing.sequence import pad_sequences\n",
        "from sklearn.model_selection import train_test_split\n",
        "from pytorch_transformers import BertTokenizer, BertConfig\n",
        "from pytorch_transformers import AdamW, BertForSequenceClassification\n",
        "from tqdm import tqdm\n",
        "import pandas as pd\n",
        "import io\n",
        "import numpy as np\n",
        "from sklearn.metrics import accuracy_score, f1_score\n",
        "import matplotlib.pyplot as plt"
      ],
      "execution_count": 3,
      "outputs": []
    },
    {
      "cell_type": "code",
      "metadata": {
        "id": "DjpegAf1_GJ-",
        "colab": {
          "base_uri": "https://localhost:8080/"
        },
        "outputId": "57985535-ae85-4c33-867f-263477a2fba4"
      },
      "source": [
        "device = torch.device(\"cuda\" if torch.cuda.is_available() else \"cpu\")\n",
        " \n",
        "if device == torch.device('cpu'):\n",
        "    print('Using cpu')\n",
        "else:\n",
        "    n_gpu = torch.cuda.device_count()\n",
        "    print('Using {} GPUs'.format(torch.cuda.get_device_name(0)))"
      ],
      "execution_count": 4,
      "outputs": [
        {
          "output_type": "stream",
          "name": "stdout",
          "text": [
            "Using Tesla K80 GPUs\n"
          ]
        }
      ]
    },
    {
      "cell_type": "markdown",
      "metadata": {
        "id": "WnXtMN6RE_i4"
      },
      "source": [
        "# Test"
      ]
    },
    {
      "cell_type": "code",
      "metadata": {
        "id": "tNcjmF9KrOZB"
      },
      "source": [
        "save_path = '/content/drive/MyDrive'\n",
        "df_test = pd.read_csv(save_path + '/test.csv')"
      ],
      "execution_count": 5,
      "outputs": []
    },
    {
      "cell_type": "code",
      "metadata": {
        "id": "OLsLFa0mr69c",
        "colab": {
          "base_uri": "https://localhost:8080/",
          "height": 359
        },
        "outputId": "5f65fc4b-f48e-405d-9827-799c86520e14"
      },
      "source": [
        "df_test.head(10)"
      ],
      "execution_count": 6,
      "outputs": [
        {
          "output_type": "execute_result",
          "data": {
            "text/html": [
              "<div>\n",
              "<style scoped>\n",
              "    .dataframe tbody tr th:only-of-type {\n",
              "        vertical-align: middle;\n",
              "    }\n",
              "\n",
              "    .dataframe tbody tr th {\n",
              "        vertical-align: top;\n",
              "    }\n",
              "\n",
              "    .dataframe thead th {\n",
              "        text-align: right;\n",
              "    }\n",
              "</style>\n",
              "<table border=\"1\" class=\"dataframe\">\n",
              "  <thead>\n",
              "    <tr style=\"text-align: right;\">\n",
              "      <th></th>\n",
              "      <th>id</th>\n",
              "      <th>task</th>\n",
              "      <th>ans</th>\n",
              "    </tr>\n",
              "  </thead>\n",
              "  <tbody>\n",
              "    <tr>\n",
              "      <th>0</th>\n",
              "      <td>0</td>\n",
              "      <td>Вопрос 1 Денис готовится провести соревнования...</td>\n",
              "      <td>0</td>\n",
              "    </tr>\n",
              "    <tr>\n",
              "      <th>1</th>\n",
              "      <td>1</td>\n",
              "      <td>Реши задачу.\\nСколько коробок корма для собак ...</td>\n",
              "      <td>3</td>\n",
              "    </tr>\n",
              "    <tr>\n",
              "      <th>2</th>\n",
              "      <td>2</td>\n",
              "      <td>Если групп элементов несколько, то применяется...</td>\n",
              "      <td>0</td>\n",
              "    </tr>\n",
              "    <tr>\n",
              "      <th>3</th>\n",
              "      <td>3</td>\n",
              "      <td>Вопрос1                                       ...</td>\n",
              "      <td>3</td>\n",
              "    </tr>\n",
              "    <tr>\n",
              "      <th>4</th>\n",
              "      <td>4</td>\n",
              "      <td>Для наглядной геометрической иллюстрации объём...</td>\n",
              "      <td>0</td>\n",
              "    </tr>\n",
              "    <tr>\n",
              "      <th>5</th>\n",
              "      <td>5</td>\n",
              "      <td>Реши задачу в тетради.\\nДима осваивал новый ме...</td>\n",
              "      <td>0</td>\n",
              "    </tr>\n",
              "    <tr>\n",
              "      <th>6</th>\n",
              "      <td>6</td>\n",
              "      <td>Вопрос1\\nВыполни следующие задания.\\nВычисли с...</td>\n",
              "      <td>2</td>\n",
              "    </tr>\n",
              "    <tr>\n",
              "      <th>7</th>\n",
              "      <td>7</td>\n",
              "      <td>Перед тобой лежит карта возможных маршрутов дв...</td>\n",
              "      <td>0</td>\n",
              "    </tr>\n",
              "    <tr>\n",
              "      <th>8</th>\n",
              "      <td>8</td>\n",
              "      <td>На первом участке дороги машина ехала 2 ч со с...</td>\n",
              "      <td>0</td>\n",
              "    </tr>\n",
              "    <tr>\n",
              "      <th>9</th>\n",
              "      <td>9</td>\n",
              "      <td>Скорость гребцов по течению реки составляет 23...</td>\n",
              "      <td>0</td>\n",
              "    </tr>\n",
              "  </tbody>\n",
              "</table>\n",
              "</div>"
            ],
            "text/plain": [
              "   id                                               task  ans\n",
              "0   0  Вопрос 1 Денис готовится провести соревнования...    0\n",
              "1   1  Реши задачу.\\nСколько коробок корма для собак ...    3\n",
              "2   2  Если групп элементов несколько, то применяется...    0\n",
              "3   3  Вопрос1                                       ...    3\n",
              "4   4  Для наглядной геометрической иллюстрации объём...    0\n",
              "5   5  Реши задачу в тетради.\\nДима осваивал новый ме...    0\n",
              "6   6  Вопрос1\\nВыполни следующие задания.\\nВычисли с...    2\n",
              "7   7  Перед тобой лежит карта возможных маршрутов дв...    0\n",
              "8   8  На первом участке дороги машина ехала 2 ч со с...    0\n",
              "9   9  Скорость гребцов по течению реки составляет 23...    0"
            ]
          },
          "metadata": {},
          "execution_count": 6
        }
      ]
    },
    {
      "cell_type": "markdown",
      "metadata": {
        "id": "u3w8TpncEzKI"
      },
      "source": [
        "# Wiki"
      ]
    },
    {
      "cell_type": "code",
      "metadata": {
        "id": "8AxsOMzoeVev",
        "cellView": "code"
      },
      "source": [
        "import json\n",
        "import pandas as pd\n",
        "\n",
        "with open(save_path + '/aiijc_comand_data.json', 'r') as f :\n",
        "  data = json.load(f)\n",
        "df = pd.DataFrame(data)"
      ],
      "execution_count": null,
      "outputs": []
    },
    {
      "cell_type": "code",
      "metadata": {
        "id": "dajSzVWsAwO1",
        "cellView": "code",
        "colab": {
          "base_uri": "https://localhost:8080/",
          "height": 173
        },
        "outputId": "2e5a0dcb-3290-46ae-a08b-771712b7cc85"
      },
      "source": [
        "df.head()"
      ],
      "execution_count": null,
      "outputs": [
        {
          "output_type": "execute_result",
          "data": {
            "text/html": [
              "<div>\n",
              "<style scoped>\n",
              "    .dataframe tbody tr th:only-of-type {\n",
              "        vertical-align: middle;\n",
              "    }\n",
              "\n",
              "    .dataframe tbody tr th {\n",
              "        vertical-align: top;\n",
              "    }\n",
              "\n",
              "    .dataframe thead th {\n",
              "        text-align: right;\n",
              "    }\n",
              "</style>\n",
              "<table border=\"1\" class=\"dataframe\">\n",
              "  <thead>\n",
              "    <tr style=\"text-align: right;\">\n",
              "      <th></th>\n",
              "      <th>texts</th>\n",
              "      <th>links</th>\n",
              "    </tr>\n",
              "  </thead>\n",
              "  <tbody>\n",
              "    <tr>\n",
              "      <th>животные</th>\n",
              "      <td>[Живо́тные (лат. Animalia) — традиционно (со в...</td>\n",
              "      <td>[Волосатики, Национальная парламентская библио...</td>\n",
              "    </tr>\n",
              "    <tr>\n",
              "      <th>музыка</th>\n",
              "      <td>[Му́зыка (греч. μουσική, субстантивированное п...</td>\n",
              "      <td>[Мини-альбом, Волчья квинта, Ре (нота), Музыка...</td>\n",
              "    </tr>\n",
              "    <tr>\n",
              "      <th>спорт</th>\n",
              "      <td>[Спорт (англ. sport, сокращение от первоначаль...</td>\n",
              "      <td>[Олимпийская хартия, Болельщик, Ольмеки, Шаоли...</td>\n",
              "    </tr>\n",
              "    <tr>\n",
              "      <th>литература</th>\n",
              "      <td>[Литерату́ра (лат. lit(t)eratura, — написанное...</td>\n",
              "      <td>[Детская литература, Эфиопская литература, Сов...</td>\n",
              "    </tr>\n",
              "  </tbody>\n",
              "</table>\n",
              "</div>"
            ],
            "text/plain": [
              "                                                        texts                                              links\n",
              "животные    [Живо́тные (лат. Animalia) — традиционно (со в...  [Волосатики, Национальная парламентская библио...\n",
              "музыка      [Му́зыка (греч. μουσική, субстантивированное п...  [Мини-альбом, Волчья квинта, Ре (нота), Музыка...\n",
              "спорт       [Спорт (англ. sport, сокращение от первоначаль...  [Олимпийская хартия, Болельщик, Ольмеки, Шаоли...\n",
              "литература  [Литерату́ра (лат. lit(t)eratura, — написанное...  [Детская литература, Эфиопская литература, Сов..."
            ]
          },
          "metadata": {},
          "execution_count": 13
        }
      ]
    },
    {
      "cell_type": "markdown",
      "metadata": {
        "id": "cIuHgDn2luV6"
      },
      "source": [
        "# Facts"
      ]
    },
    {
      "cell_type": "code",
      "metadata": {
        "id": "4E0IX9PFlseJ"
      },
      "source": [
        "df = pd.read_csv(save_path + '/facts.csv')"
      ],
      "execution_count": 7,
      "outputs": []
    },
    {
      "cell_type": "code",
      "metadata": {
        "colab": {
          "base_uri": "https://localhost:8080/",
          "height": 204
        },
        "id": "0CPn7oHqKJAR",
        "outputId": "aabf6bb1-3261-402c-ffef-6071beb6649e"
      },
      "source": [
        "df.head()"
      ],
      "execution_count": 8,
      "outputs": [
        {
          "output_type": "execute_result",
          "data": {
            "text/html": [
              "<div>\n",
              "<style scoped>\n",
              "    .dataframe tbody tr th:only-of-type {\n",
              "        vertical-align: middle;\n",
              "    }\n",
              "\n",
              "    .dataframe tbody tr th {\n",
              "        vertical-align: top;\n",
              "    }\n",
              "\n",
              "    .dataframe thead th {\n",
              "        text-align: right;\n",
              "    }\n",
              "</style>\n",
              "<table border=\"1\" class=\"dataframe\">\n",
              "  <thead>\n",
              "    <tr style=\"text-align: right;\">\n",
              "      <th></th>\n",
              "      <th>texts</th>\n",
              "      <th>labels</th>\n",
              "    </tr>\n",
              "  </thead>\n",
              "  <tbody>\n",
              "    <tr>\n",
              "      <th>0</th>\n",
              "      <td>1 Хамелеоны могут двигать глазами в разных нап...</td>\n",
              "      <td>0</td>\n",
              "    </tr>\n",
              "    <tr>\n",
              "      <th>1</th>\n",
              "      <td>2 Белка – лучший садовник. Миллионы деревьев в...</td>\n",
              "      <td>0</td>\n",
              "    </tr>\n",
              "    <tr>\n",
              "      <th>2</th>\n",
              "      <td>3 Зуб слона  может весить до девяти килограмм!</td>\n",
              "      <td>0</td>\n",
              "    </tr>\n",
              "    <tr>\n",
              "      <th>3</th>\n",
              "      <td>4 У млекопитающих кровь красная, у насекомых ж...</td>\n",
              "      <td>0</td>\n",
              "    </tr>\n",
              "    <tr>\n",
              "      <th>4</th>\n",
              "      <td>5 В среднем коровы какают 16 раз в день.</td>\n",
              "      <td>0</td>\n",
              "    </tr>\n",
              "  </tbody>\n",
              "</table>\n",
              "</div>"
            ],
            "text/plain": [
              "                                               texts  labels\n",
              "0  1 Хамелеоны могут двигать глазами в разных нап...       0\n",
              "1  2 Белка – лучший садовник. Миллионы деревьев в...       0\n",
              "2     3 Зуб слона  может весить до девяти килограмм!       0\n",
              "3  4 У млекопитающих кровь красная, у насекомых ж...       0\n",
              "4           5 В среднем коровы какают 16 раз в день.       0"
            ]
          },
          "metadata": {},
          "execution_count": 8
        }
      ]
    },
    {
      "cell_type": "code",
      "metadata": {
        "id": "1EsrPQdN-4IQ"
      },
      "source": [
        "df_new = df"
      ],
      "execution_count": 9,
      "outputs": []
    },
    {
      "cell_type": "markdown",
      "metadata": {
        "id": "oH98Wq2TziDX"
      },
      "source": [
        "# full_marked_dataset"
      ]
    },
    {
      "cell_type": "code",
      "metadata": {
        "id": "g-hk8c4lzZs3"
      },
      "source": [
        "df = pd.read_csv(save_path + '/full_marked_dataset.csv')\n",
        "df = df.drop('Unnamed: 0', 1)\n",
        "df = df.rename(columns={'text': 'texts', 'ans': 'labels'})\n",
        "df.labels = df.labels.replace('животные', 0).replace('музыка', 1).replace('спорт', 2).replace('литература', 3).replace('неизвестно', 4)\n",
        "df = df.drop([i for i in range(len(df.labels)) if df.labels[i] == 4], 0)\n",
        "df = df.reset_index(drop=True)"
      ],
      "execution_count": 10,
      "outputs": []
    },
    {
      "cell_type": "code",
      "metadata": {
        "colab": {
          "base_uri": "https://localhost:8080/",
          "height": 669
        },
        "id": "hFFZqCxNzgDW",
        "outputId": "1728d4fa-efac-4d23-f721-6b1e2549ca0d"
      },
      "source": [
        "df.head(20)"
      ],
      "execution_count": 11,
      "outputs": [
        {
          "output_type": "execute_result",
          "data": {
            "text/html": [
              "<div>\n",
              "<style scoped>\n",
              "    .dataframe tbody tr th:only-of-type {\n",
              "        vertical-align: middle;\n",
              "    }\n",
              "\n",
              "    .dataframe tbody tr th {\n",
              "        vertical-align: top;\n",
              "    }\n",
              "\n",
              "    .dataframe thead th {\n",
              "        text-align: right;\n",
              "    }\n",
              "</style>\n",
              "<table border=\"1\" class=\"dataframe\">\n",
              "  <thead>\n",
              "    <tr style=\"text-align: right;\">\n",
              "      <th></th>\n",
              "      <th>texts</th>\n",
              "      <th>labels</th>\n",
              "    </tr>\n",
              "  </thead>\n",
              "  <tbody>\n",
              "    <tr>\n",
              "      <th>0</th>\n",
              "      <td>\\t1.1. Летом в спортивный лагерь ходили 50 дет...</td>\n",
              "      <td>2</td>\n",
              "    </tr>\n",
              "    <tr>\n",
              "      <th>1</th>\n",
              "      <td>\\t1.2. На концерте в летнем лагере ребята игра...</td>\n",
              "      <td>1</td>\n",
              "    </tr>\n",
              "    <tr>\n",
              "      <th>2</th>\n",
              "      <td>\\t1.4. Во время летних соревнований по плавани...</td>\n",
              "      <td>2</td>\n",
              "    </tr>\n",
              "    <tr>\n",
              "      <th>3</th>\n",
              "      <td>\\t1.5. В спортивную школу во время летних кани...</td>\n",
              "      <td>2</td>\n",
              "    </tr>\n",
              "    <tr>\n",
              "      <th>4</th>\n",
              "      <td>\\t1.7. Самые крупные животные на нашей планете...</td>\n",
              "      <td>0</td>\n",
              "    </tr>\n",
              "    <tr>\n",
              "      <th>5</th>\n",
              "      <td>\\t1.9. В летнем лагере ребята проходили медосм...</td>\n",
              "      <td>2</td>\n",
              "    </tr>\n",
              "    <tr>\n",
              "      <th>6</th>\n",
              "      <td>\\t1.11. Три кошки купили сапожки по паре на ка...</td>\n",
              "      <td>0</td>\n",
              "    </tr>\n",
              "    <tr>\n",
              "      <th>7</th>\n",
              "      <td>\\t1.17. Винтик и Шпунтик бежали наперегонки. К...</td>\n",
              "      <td>2</td>\n",
              "    </tr>\n",
              "    <tr>\n",
              "      <th>8</th>\n",
              "      <td>\\t1.18. Когда ребята для соревнований взяли 19...</td>\n",
              "      <td>2</td>\n",
              "    </tr>\n",
              "    <tr>\n",
              "      <th>9</th>\n",
              "      <td>\\t1.29. Вороны высиживают яйца три недели. Ско...</td>\n",
              "      <td>0</td>\n",
              "    </tr>\n",
              "    <tr>\n",
              "      <th>10</th>\n",
              "      <td>\\t1.30. В киоске 10 журналов, 14 брошюр1, а га...</td>\n",
              "      <td>3</td>\n",
              "    </tr>\n",
              "    <tr>\n",
              "      <th>11</th>\n",
              "      <td>\\t1.31. Грач приносил своим птенцам по 2 червя...</td>\n",
              "      <td>0</td>\n",
              "    </tr>\n",
              "    <tr>\n",
              "      <th>12</th>\n",
              "      <td>\\t1.41. В летние каникулы за день Наташа прочи...</td>\n",
              "      <td>3</td>\n",
              "    </tr>\n",
              "    <tr>\n",
              "      <th>13</th>\n",
              "      <td>\\t1.43. Две серые цапли съели на завтрак по 8 ...</td>\n",
              "      <td>0</td>\n",
              "    </tr>\n",
              "    <tr>\n",
              "      <th>14</th>\n",
              "      <td>\\t1.52. На уроке физкультуры Петя подтянулся 9...</td>\n",
              "      <td>2</td>\n",
              "    </tr>\n",
              "    <tr>\n",
              "      <th>15</th>\n",
              "      <td>\\t1.56. Во дворе гуляли 17 кур, 2 курицы убежа...</td>\n",
              "      <td>0</td>\n",
              "    </tr>\n",
              "    <tr>\n",
              "      <th>16</th>\n",
              "      <td>\\t1.65. Утка может прожить 15 лет, а гусь – 18...</td>\n",
              "      <td>0</td>\n",
              "    </tr>\n",
              "    <tr>\n",
              "      <th>17</th>\n",
              "      <td>\\t1.73. На полке 20 художественных книг. В пер...</td>\n",
              "      <td>3</td>\n",
              "    </tr>\n",
              "    <tr>\n",
              "      <th>18</th>\n",
              "      <td>\\t1.78. В аквариуме было сначала несколько рыб...</td>\n",
              "      <td>0</td>\n",
              "    </tr>\n",
              "    <tr>\n",
              "      <th>19</th>\n",
              "      <td>\\t2.1. Муравей нашёл соломинку возле дома и по...</td>\n",
              "      <td>0</td>\n",
              "    </tr>\n",
              "  </tbody>\n",
              "</table>\n",
              "</div>"
            ],
            "text/plain": [
              "                                                texts  labels\n",
              "0   \\t1.1. Летом в спортивный лагерь ходили 50 дет...       2\n",
              "1   \\t1.2. На концерте в летнем лагере ребята игра...       1\n",
              "2   \\t1.4. Во время летних соревнований по плавани...       2\n",
              "3   \\t1.5. В спортивную школу во время летних кани...       2\n",
              "4   \\t1.7. Самые крупные животные на нашей планете...       0\n",
              "5   \\t1.9. В летнем лагере ребята проходили медосм...       2\n",
              "6   \\t1.11. Три кошки купили сапожки по паре на ка...       0\n",
              "7   \\t1.17. Винтик и Шпунтик бежали наперегонки. К...       2\n",
              "8   \\t1.18. Когда ребята для соревнований взяли 19...       2\n",
              "9   \\t1.29. Вороны высиживают яйца три недели. Ско...       0\n",
              "10  \\t1.30. В киоске 10 журналов, 14 брошюр1, а га...       3\n",
              "11  \\t1.31. Грач приносил своим птенцам по 2 червя...       0\n",
              "12  \\t1.41. В летние каникулы за день Наташа прочи...       3\n",
              "13  \\t1.43. Две серые цапли съели на завтрак по 8 ...       0\n",
              "14  \\t1.52. На уроке физкультуры Петя подтянулся 9...       2\n",
              "15  \\t1.56. Во дворе гуляли 17 кур, 2 курицы убежа...       0\n",
              "16  \\t1.65. Утка может прожить 15 лет, а гусь – 18...       0\n",
              "17  \\t1.73. На полке 20 художественных книг. В пер...       3\n",
              "18  \\t1.78. В аквариуме было сначала несколько рыб...       0\n",
              "19  \\t2.1. Муравей нашёл соломинку возле дома и по...       0"
            ]
          },
          "metadata": {},
          "execution_count": 11
        }
      ]
    },
    {
      "cell_type": "markdown",
      "metadata": {
        "id": "ovazZVao-7eP"
      },
      "source": [
        "# Facts & full_marked_dataset"
      ]
    },
    {
      "cell_type": "code",
      "metadata": {
        "id": "CbCDrYnZ-6gl"
      },
      "source": [
        "for i in range(len(df_new)):\n",
        "  df.loc[-i-1] = df_new.loc[i]\n",
        "df = df.reset_index(drop=True)"
      ],
      "execution_count": 12,
      "outputs": []
    },
    {
      "cell_type": "markdown",
      "metadata": {
        "id": "_X-y_j7IE5Pg"
      },
      "source": [
        "# NN"
      ]
    },
    {
      "cell_type": "code",
      "metadata": {
        "id": "883a2936"
      },
      "source": [
        "categories = (\"животные\", \"музыка\", \"спорт\", \"литература\")\n",
        "categoriesTest = (\"спорт\", \"музыка\", \"литература\", \"животные\")\n",
        "catToCatTest = [3, 1, 0, 2]"
      ],
      "execution_count": 13,
      "outputs": []
    },
    {
      "cell_type": "code",
      "metadata": {
        "id": "P86KGIlRwwCd"
      },
      "source": [
        "#sentMaxLen = 50\n",
        "sentMaxLen = 200\n",
        "max_len_tokenized = 200"
      ],
      "execution_count": 14,
      "outputs": []
    },
    {
      "cell_type": "code",
      "metadata": {
        "id": "vxbmPOVmmeVq"
      },
      "source": [
        "import string\n",
        " \n",
        "alphabet = set('абвгдеёжзийклмнопрстуфхцчшщъыьэюя ')\n",
        " \n",
        "max_texts = 1000\n",
        " \n",
        "def generateTexts(texts, windowLen, only_long=True):\n",
        "  out = []\n",
        "  # Wiki\n",
        "  \"\"\"\n",
        "  for text in tqdm(texts):\n",
        "  \"\"\"\n",
        "  # Facts\n",
        "  for text in texts:\n",
        "    text = text.lower().replace('\\n', ' ')\n",
        "    text = ''.join(c for c in text if c in alphabet)\n",
        "    text = text.split()\n",
        "    if only_long:\n",
        "      out.extend([' '.join(text[x:x+windowLen]) for x in range(0, len(text)-windowLen, windowLen)])\n",
        "    else:\n",
        "      out.extend([' '.join(text[x:x+windowLen]) for x in range(0, len(text), windowLen)])\n",
        "    if len(out) > max_texts:\n",
        "      break\n",
        "  return out"
      ],
      "execution_count": 15,
      "outputs": []
    },
    {
      "cell_type": "code",
      "metadata": {
        "id": "Zuc_PL2_oPYT"
      },
      "source": [
        "sentences = []\n",
        "labels = []\n",
        " \n",
        "# Wiki\n",
        "\"\"\"\n",
        "for i, cat in enumerate(categories):\n",
        "  cat_texts = generateTexts(df.texts[cat], sentMaxLen)\n",
        "  label = i\n",
        "  for j in cat_texts:\n",
        "    sentences.append(j)\n",
        "    labels.append(label)\n",
        "\"\"\"\n",
        " \n",
        "# Facts\n",
        "for i in range(len(df.texts)):\n",
        "  cat_texts = generateTexts([df.texts[i]], sentMaxLen, only_long=False)\n",
        "  label = df.labels[i]\n",
        "  for j in cat_texts:\n",
        "    sentences.append(j)\n",
        "    labels.append(label)\n",
        " \n",
        "sentences = [\"[CLS] \" + sentence + \" [SEP]\" for sentence in sentences]\n",
        "sentences = np.array(sentences)\n",
        "labels = np.array(labels)"
      ],
      "execution_count": 16,
      "outputs": []
    },
    {
      "cell_type": "code",
      "metadata": {
        "colab": {
          "base_uri": "https://localhost:8080/"
        },
        "id": "RpToKgtrS1A2",
        "outputId": "cd37e0f7-2cff-47b1-bc5d-464654474681"
      },
      "source": [
        "sentences.shape, sentences[5], labels[5]"
      ],
      "execution_count": 17,
      "outputs": [
        {
          "output_type": "execute_result",
          "data": {
            "text/plain": [
              "((1421,),\n",
              " '[CLS] в летнем лагере ребята проходили медосмотр медсестра измеряла их рост оказалось что настя выше кати на см а маша ниже кати на см на сколько сантиметров самая высокая девочка выше самой низкой [SEP]',\n",
              " 2)"
            ]
          },
          "metadata": {},
          "execution_count": 17
        }
      ]
    },
    {
      "cell_type": "code",
      "metadata": {
        "id": "3Z9PspheJafk"
      },
      "source": [
        "from sklearn.model_selection import train_test_split\n",
        " \n",
        "X_train = sentences\n",
        "Y_train = labels"
      ],
      "execution_count": 18,
      "outputs": []
    },
    {
      "cell_type": "code",
      "metadata": {
        "id": "_6C6raB6KhYT",
        "colab": {
          "base_uri": "https://localhost:8080/"
        },
        "outputId": "5affab4c-f641-431b-ea69-9ce3f8e25b3e"
      },
      "source": [
        "from pytorch_transformers import BertTokenizer, BertConfig\n",
        " \n",
        "tokenizer = BertTokenizer.from_pretrained(\"bert-base-multilingual-uncased\", do_lower_case=True)"
      ],
      "execution_count": 19,
      "outputs": [
        {
          "output_type": "stream",
          "name": "stderr",
          "text": [
            "100%|██████████| 871891/871891 [00:01<00:00, 772490.44B/s] \n"
          ]
        }
      ]
    },
    {
      "cell_type": "code",
      "metadata": {
        "id": "veRZY_NyZ92O"
      },
      "source": [
        "tokenized_texts = [tokenizer.tokenize(sent) for sent in X_train]"
      ],
      "execution_count": 20,
      "outputs": []
    },
    {
      "cell_type": "code",
      "metadata": {
        "colab": {
          "base_uri": "https://localhost:8080/"
        },
        "id": "BfBAJSnaT7SI",
        "outputId": "58d0a553-2898-43b4-ee83-bc16f79fc763"
      },
      "source": [
        "len(tokenized_texts[0]), tokenized_texts[0]"
      ],
      "execution_count": 21,
      "outputs": [
        {
          "output_type": "execute_result",
          "data": {
            "text/plain": [
              "(30,\n",
              " ['[CLS]',\n",
              "  'летом',\n",
              "  'в',\n",
              "  'спорт',\n",
              "  '##ивныи',\n",
              "  'ла',\n",
              "  '##гер',\n",
              "  '##ь',\n",
              "  'ход',\n",
              "  '##или',\n",
              "  'детеи',\n",
              "  'из',\n",
              "  'них',\n",
              "  'дев',\n",
              "  '##о',\n",
              "  '##чек',\n",
              "  'с',\n",
              "  '##колько',\n",
              "  'мал',\n",
              "  '##ь',\n",
              "  '##чиков',\n",
              "  'ход',\n",
              "  '##или',\n",
              "  'в',\n",
              "  'спорт',\n",
              "  '##ивныи',\n",
              "  'ла',\n",
              "  '##гер',\n",
              "  '##ь',\n",
              "  '[SEP]'])"
            ]
          },
          "metadata": {},
          "execution_count": 21
        }
      ]
    },
    {
      "cell_type": "code",
      "metadata": {
        "id": "owLBLIY1Lj9U"
      },
      "source": [
        "tokenized_texts = pad_sequences(\n",
        "  tokenized_texts,\n",
        "  maxlen=max_len_tokenized,\n",
        "  dtype=object,\n",
        "  truncating=\"post\",\n",
        "  padding=\"post\",\n",
        "  value='[PAD]'\n",
        ")\n",
        " \n",
        "attention_masks = [[1 if i != '[PAD]' else 0 for i in seq] for seq in tokenized_texts]\n",
        " \n",
        "input_ids = [tokenizer.convert_tokens_to_ids(x) for x in tokenized_texts]"
      ],
      "execution_count": 22,
      "outputs": []
    },
    {
      "cell_type": "code",
      "metadata": {
        "id": "7UPjvURwLuk6"
      },
      "source": [
        "#train_inputs, validation_inputs, train_labels, validation_labels = train_test_split(input_ids, Y_train, random_state=42, test_size=0.1)\n",
        "train_inputs, validation_inputs, train_labels, validation_labels = train_test_split(input_ids, Y_train, random_state=42, test_size=0.01)\n",
        "\n",
        "train_masks, validation_masks, _, _ = train_test_split(attention_masks, input_ids, random_state=42, test_size=0.01)"
      ],
      "execution_count": 33,
      "outputs": []
    },
    {
      "cell_type": "code",
      "metadata": {
        "id": "cO4N-7wzNLQB"
      },
      "source": [
        "train_inputs = torch.tensor(train_inputs)\n",
        "train_labels = torch.tensor(train_labels)\n",
        "train_masks = torch.tensor(train_masks)"
      ],
      "execution_count": 34,
      "outputs": []
    },
    {
      "cell_type": "code",
      "metadata": {
        "colab": {
          "base_uri": "https://localhost:8080/"
        },
        "id": "NIg8YRFeNO4S",
        "outputId": "8682c056-ed34-465c-9b19-41acbab878fe"
      },
      "source": [
        "train_labels"
      ],
      "execution_count": 35,
      "outputs": [
        {
          "output_type": "execute_result",
          "data": {
            "text/plain": [
              "tensor([1, 3, 0,  ..., 2, 0, 1])"
            ]
          },
          "metadata": {},
          "execution_count": 35
        }
      ]
    },
    {
      "cell_type": "code",
      "metadata": {
        "id": "qQlkgEm2NSra"
      },
      "source": [
        "train_data = TensorDataset(train_inputs, train_masks, train_labels)\n",
        "train_dataloader = DataLoader(\n",
        "  train_data,\n",
        "  sampler=RandomSampler(train_data),\n",
        "  batch_size=20\n",
        ")"
      ],
      "execution_count": 36,
      "outputs": []
    },
    {
      "cell_type": "code",
      "metadata": {
        "id": "DauzvK1UNdi6"
      },
      "source": [
        "from pytorch_transformers import AdamW, BertForSequenceClassification"
      ],
      "execution_count": 37,
      "outputs": []
    },
    {
      "cell_type": "code",
      "metadata": {
        "colab": {
          "base_uri": "https://localhost:8080/"
        },
        "id": "oZdB2Hw0NpUJ",
        "outputId": "3a881a53-ede7-4e69-dfe0-cace32fc67c4"
      },
      "source": [
        "model = BertForSequenceClassification.from_pretrained(\"bert-base-multilingual-uncased\", num_labels=4, output_hidden_states=True, output_attentions=True)\n",
        "#model.load_state_dict(torch.load(save_path + '/model_facts.pth'))\n",
        "model.to(device)"
      ],
      "execution_count": 38,
      "outputs": [
        {
          "output_type": "stream",
          "name": "stderr",
          "text": [
            "100%|██████████| 625/625 [00:00<00:00, 384883.28B/s]\n",
            "100%|██████████| 672271273/672271273 [00:45<00:00, 14887322.32B/s]\n"
          ]
        },
        {
          "output_type": "execute_result",
          "data": {
            "text/plain": [
              "BertForSequenceClassification(\n",
              "  (bert): BertModel(\n",
              "    (embeddings): BertEmbeddings(\n",
              "      (word_embeddings): Embedding(105879, 768, padding_idx=0)\n",
              "      (position_embeddings): Embedding(512, 768)\n",
              "      (token_type_embeddings): Embedding(2, 768)\n",
              "      (LayerNorm): LayerNorm((768,), eps=1e-12, elementwise_affine=True)\n",
              "      (dropout): Dropout(p=0.1, inplace=False)\n",
              "    )\n",
              "    (encoder): BertEncoder(\n",
              "      (layer): ModuleList(\n",
              "        (0): BertLayer(\n",
              "          (attention): BertAttention(\n",
              "            (self): BertSelfAttention(\n",
              "              (query): Linear(in_features=768, out_features=768, bias=True)\n",
              "              (key): Linear(in_features=768, out_features=768, bias=True)\n",
              "              (value): Linear(in_features=768, out_features=768, bias=True)\n",
              "              (dropout): Dropout(p=0.1, inplace=False)\n",
              "            )\n",
              "            (output): BertSelfOutput(\n",
              "              (dense): Linear(in_features=768, out_features=768, bias=True)\n",
              "              (LayerNorm): LayerNorm((768,), eps=1e-12, elementwise_affine=True)\n",
              "              (dropout): Dropout(p=0.1, inplace=False)\n",
              "            )\n",
              "          )\n",
              "          (intermediate): BertIntermediate(\n",
              "            (dense): Linear(in_features=768, out_features=3072, bias=True)\n",
              "          )\n",
              "          (output): BertOutput(\n",
              "            (dense): Linear(in_features=3072, out_features=768, bias=True)\n",
              "            (LayerNorm): LayerNorm((768,), eps=1e-12, elementwise_affine=True)\n",
              "            (dropout): Dropout(p=0.1, inplace=False)\n",
              "          )\n",
              "        )\n",
              "        (1): BertLayer(\n",
              "          (attention): BertAttention(\n",
              "            (self): BertSelfAttention(\n",
              "              (query): Linear(in_features=768, out_features=768, bias=True)\n",
              "              (key): Linear(in_features=768, out_features=768, bias=True)\n",
              "              (value): Linear(in_features=768, out_features=768, bias=True)\n",
              "              (dropout): Dropout(p=0.1, inplace=False)\n",
              "            )\n",
              "            (output): BertSelfOutput(\n",
              "              (dense): Linear(in_features=768, out_features=768, bias=True)\n",
              "              (LayerNorm): LayerNorm((768,), eps=1e-12, elementwise_affine=True)\n",
              "              (dropout): Dropout(p=0.1, inplace=False)\n",
              "            )\n",
              "          )\n",
              "          (intermediate): BertIntermediate(\n",
              "            (dense): Linear(in_features=768, out_features=3072, bias=True)\n",
              "          )\n",
              "          (output): BertOutput(\n",
              "            (dense): Linear(in_features=3072, out_features=768, bias=True)\n",
              "            (LayerNorm): LayerNorm((768,), eps=1e-12, elementwise_affine=True)\n",
              "            (dropout): Dropout(p=0.1, inplace=False)\n",
              "          )\n",
              "        )\n",
              "        (2): BertLayer(\n",
              "          (attention): BertAttention(\n",
              "            (self): BertSelfAttention(\n",
              "              (query): Linear(in_features=768, out_features=768, bias=True)\n",
              "              (key): Linear(in_features=768, out_features=768, bias=True)\n",
              "              (value): Linear(in_features=768, out_features=768, bias=True)\n",
              "              (dropout): Dropout(p=0.1, inplace=False)\n",
              "            )\n",
              "            (output): BertSelfOutput(\n",
              "              (dense): Linear(in_features=768, out_features=768, bias=True)\n",
              "              (LayerNorm): LayerNorm((768,), eps=1e-12, elementwise_affine=True)\n",
              "              (dropout): Dropout(p=0.1, inplace=False)\n",
              "            )\n",
              "          )\n",
              "          (intermediate): BertIntermediate(\n",
              "            (dense): Linear(in_features=768, out_features=3072, bias=True)\n",
              "          )\n",
              "          (output): BertOutput(\n",
              "            (dense): Linear(in_features=3072, out_features=768, bias=True)\n",
              "            (LayerNorm): LayerNorm((768,), eps=1e-12, elementwise_affine=True)\n",
              "            (dropout): Dropout(p=0.1, inplace=False)\n",
              "          )\n",
              "        )\n",
              "        (3): BertLayer(\n",
              "          (attention): BertAttention(\n",
              "            (self): BertSelfAttention(\n",
              "              (query): Linear(in_features=768, out_features=768, bias=True)\n",
              "              (key): Linear(in_features=768, out_features=768, bias=True)\n",
              "              (value): Linear(in_features=768, out_features=768, bias=True)\n",
              "              (dropout): Dropout(p=0.1, inplace=False)\n",
              "            )\n",
              "            (output): BertSelfOutput(\n",
              "              (dense): Linear(in_features=768, out_features=768, bias=True)\n",
              "              (LayerNorm): LayerNorm((768,), eps=1e-12, elementwise_affine=True)\n",
              "              (dropout): Dropout(p=0.1, inplace=False)\n",
              "            )\n",
              "          )\n",
              "          (intermediate): BertIntermediate(\n",
              "            (dense): Linear(in_features=768, out_features=3072, bias=True)\n",
              "          )\n",
              "          (output): BertOutput(\n",
              "            (dense): Linear(in_features=3072, out_features=768, bias=True)\n",
              "            (LayerNorm): LayerNorm((768,), eps=1e-12, elementwise_affine=True)\n",
              "            (dropout): Dropout(p=0.1, inplace=False)\n",
              "          )\n",
              "        )\n",
              "        (4): BertLayer(\n",
              "          (attention): BertAttention(\n",
              "            (self): BertSelfAttention(\n",
              "              (query): Linear(in_features=768, out_features=768, bias=True)\n",
              "              (key): Linear(in_features=768, out_features=768, bias=True)\n",
              "              (value): Linear(in_features=768, out_features=768, bias=True)\n",
              "              (dropout): Dropout(p=0.1, inplace=False)\n",
              "            )\n",
              "            (output): BertSelfOutput(\n",
              "              (dense): Linear(in_features=768, out_features=768, bias=True)\n",
              "              (LayerNorm): LayerNorm((768,), eps=1e-12, elementwise_affine=True)\n",
              "              (dropout): Dropout(p=0.1, inplace=False)\n",
              "            )\n",
              "          )\n",
              "          (intermediate): BertIntermediate(\n",
              "            (dense): Linear(in_features=768, out_features=3072, bias=True)\n",
              "          )\n",
              "          (output): BertOutput(\n",
              "            (dense): Linear(in_features=3072, out_features=768, bias=True)\n",
              "            (LayerNorm): LayerNorm((768,), eps=1e-12, elementwise_affine=True)\n",
              "            (dropout): Dropout(p=0.1, inplace=False)\n",
              "          )\n",
              "        )\n",
              "        (5): BertLayer(\n",
              "          (attention): BertAttention(\n",
              "            (self): BertSelfAttention(\n",
              "              (query): Linear(in_features=768, out_features=768, bias=True)\n",
              "              (key): Linear(in_features=768, out_features=768, bias=True)\n",
              "              (value): Linear(in_features=768, out_features=768, bias=True)\n",
              "              (dropout): Dropout(p=0.1, inplace=False)\n",
              "            )\n",
              "            (output): BertSelfOutput(\n",
              "              (dense): Linear(in_features=768, out_features=768, bias=True)\n",
              "              (LayerNorm): LayerNorm((768,), eps=1e-12, elementwise_affine=True)\n",
              "              (dropout): Dropout(p=0.1, inplace=False)\n",
              "            )\n",
              "          )\n",
              "          (intermediate): BertIntermediate(\n",
              "            (dense): Linear(in_features=768, out_features=3072, bias=True)\n",
              "          )\n",
              "          (output): BertOutput(\n",
              "            (dense): Linear(in_features=3072, out_features=768, bias=True)\n",
              "            (LayerNorm): LayerNorm((768,), eps=1e-12, elementwise_affine=True)\n",
              "            (dropout): Dropout(p=0.1, inplace=False)\n",
              "          )\n",
              "        )\n",
              "        (6): BertLayer(\n",
              "          (attention): BertAttention(\n",
              "            (self): BertSelfAttention(\n",
              "              (query): Linear(in_features=768, out_features=768, bias=True)\n",
              "              (key): Linear(in_features=768, out_features=768, bias=True)\n",
              "              (value): Linear(in_features=768, out_features=768, bias=True)\n",
              "              (dropout): Dropout(p=0.1, inplace=False)\n",
              "            )\n",
              "            (output): BertSelfOutput(\n",
              "              (dense): Linear(in_features=768, out_features=768, bias=True)\n",
              "              (LayerNorm): LayerNorm((768,), eps=1e-12, elementwise_affine=True)\n",
              "              (dropout): Dropout(p=0.1, inplace=False)\n",
              "            )\n",
              "          )\n",
              "          (intermediate): BertIntermediate(\n",
              "            (dense): Linear(in_features=768, out_features=3072, bias=True)\n",
              "          )\n",
              "          (output): BertOutput(\n",
              "            (dense): Linear(in_features=3072, out_features=768, bias=True)\n",
              "            (LayerNorm): LayerNorm((768,), eps=1e-12, elementwise_affine=True)\n",
              "            (dropout): Dropout(p=0.1, inplace=False)\n",
              "          )\n",
              "        )\n",
              "        (7): BertLayer(\n",
              "          (attention): BertAttention(\n",
              "            (self): BertSelfAttention(\n",
              "              (query): Linear(in_features=768, out_features=768, bias=True)\n",
              "              (key): Linear(in_features=768, out_features=768, bias=True)\n",
              "              (value): Linear(in_features=768, out_features=768, bias=True)\n",
              "              (dropout): Dropout(p=0.1, inplace=False)\n",
              "            )\n",
              "            (output): BertSelfOutput(\n",
              "              (dense): Linear(in_features=768, out_features=768, bias=True)\n",
              "              (LayerNorm): LayerNorm((768,), eps=1e-12, elementwise_affine=True)\n",
              "              (dropout): Dropout(p=0.1, inplace=False)\n",
              "            )\n",
              "          )\n",
              "          (intermediate): BertIntermediate(\n",
              "            (dense): Linear(in_features=768, out_features=3072, bias=True)\n",
              "          )\n",
              "          (output): BertOutput(\n",
              "            (dense): Linear(in_features=3072, out_features=768, bias=True)\n",
              "            (LayerNorm): LayerNorm((768,), eps=1e-12, elementwise_affine=True)\n",
              "            (dropout): Dropout(p=0.1, inplace=False)\n",
              "          )\n",
              "        )\n",
              "        (8): BertLayer(\n",
              "          (attention): BertAttention(\n",
              "            (self): BertSelfAttention(\n",
              "              (query): Linear(in_features=768, out_features=768, bias=True)\n",
              "              (key): Linear(in_features=768, out_features=768, bias=True)\n",
              "              (value): Linear(in_features=768, out_features=768, bias=True)\n",
              "              (dropout): Dropout(p=0.1, inplace=False)\n",
              "            )\n",
              "            (output): BertSelfOutput(\n",
              "              (dense): Linear(in_features=768, out_features=768, bias=True)\n",
              "              (LayerNorm): LayerNorm((768,), eps=1e-12, elementwise_affine=True)\n",
              "              (dropout): Dropout(p=0.1, inplace=False)\n",
              "            )\n",
              "          )\n",
              "          (intermediate): BertIntermediate(\n",
              "            (dense): Linear(in_features=768, out_features=3072, bias=True)\n",
              "          )\n",
              "          (output): BertOutput(\n",
              "            (dense): Linear(in_features=3072, out_features=768, bias=True)\n",
              "            (LayerNorm): LayerNorm((768,), eps=1e-12, elementwise_affine=True)\n",
              "            (dropout): Dropout(p=0.1, inplace=False)\n",
              "          )\n",
              "        )\n",
              "        (9): BertLayer(\n",
              "          (attention): BertAttention(\n",
              "            (self): BertSelfAttention(\n",
              "              (query): Linear(in_features=768, out_features=768, bias=True)\n",
              "              (key): Linear(in_features=768, out_features=768, bias=True)\n",
              "              (value): Linear(in_features=768, out_features=768, bias=True)\n",
              "              (dropout): Dropout(p=0.1, inplace=False)\n",
              "            )\n",
              "            (output): BertSelfOutput(\n",
              "              (dense): Linear(in_features=768, out_features=768, bias=True)\n",
              "              (LayerNorm): LayerNorm((768,), eps=1e-12, elementwise_affine=True)\n",
              "              (dropout): Dropout(p=0.1, inplace=False)\n",
              "            )\n",
              "          )\n",
              "          (intermediate): BertIntermediate(\n",
              "            (dense): Linear(in_features=768, out_features=3072, bias=True)\n",
              "          )\n",
              "          (output): BertOutput(\n",
              "            (dense): Linear(in_features=3072, out_features=768, bias=True)\n",
              "            (LayerNorm): LayerNorm((768,), eps=1e-12, elementwise_affine=True)\n",
              "            (dropout): Dropout(p=0.1, inplace=False)\n",
              "          )\n",
              "        )\n",
              "        (10): BertLayer(\n",
              "          (attention): BertAttention(\n",
              "            (self): BertSelfAttention(\n",
              "              (query): Linear(in_features=768, out_features=768, bias=True)\n",
              "              (key): Linear(in_features=768, out_features=768, bias=True)\n",
              "              (value): Linear(in_features=768, out_features=768, bias=True)\n",
              "              (dropout): Dropout(p=0.1, inplace=False)\n",
              "            )\n",
              "            (output): BertSelfOutput(\n",
              "              (dense): Linear(in_features=768, out_features=768, bias=True)\n",
              "              (LayerNorm): LayerNorm((768,), eps=1e-12, elementwise_affine=True)\n",
              "              (dropout): Dropout(p=0.1, inplace=False)\n",
              "            )\n",
              "          )\n",
              "          (intermediate): BertIntermediate(\n",
              "            (dense): Linear(in_features=768, out_features=3072, bias=True)\n",
              "          )\n",
              "          (output): BertOutput(\n",
              "            (dense): Linear(in_features=3072, out_features=768, bias=True)\n",
              "            (LayerNorm): LayerNorm((768,), eps=1e-12, elementwise_affine=True)\n",
              "            (dropout): Dropout(p=0.1, inplace=False)\n",
              "          )\n",
              "        )\n",
              "        (11): BertLayer(\n",
              "          (attention): BertAttention(\n",
              "            (self): BertSelfAttention(\n",
              "              (query): Linear(in_features=768, out_features=768, bias=True)\n",
              "              (key): Linear(in_features=768, out_features=768, bias=True)\n",
              "              (value): Linear(in_features=768, out_features=768, bias=True)\n",
              "              (dropout): Dropout(p=0.1, inplace=False)\n",
              "            )\n",
              "            (output): BertSelfOutput(\n",
              "              (dense): Linear(in_features=768, out_features=768, bias=True)\n",
              "              (LayerNorm): LayerNorm((768,), eps=1e-12, elementwise_affine=True)\n",
              "              (dropout): Dropout(p=0.1, inplace=False)\n",
              "            )\n",
              "          )\n",
              "          (intermediate): BertIntermediate(\n",
              "            (dense): Linear(in_features=768, out_features=3072, bias=True)\n",
              "          )\n",
              "          (output): BertOutput(\n",
              "            (dense): Linear(in_features=3072, out_features=768, bias=True)\n",
              "            (LayerNorm): LayerNorm((768,), eps=1e-12, elementwise_affine=True)\n",
              "            (dropout): Dropout(p=0.1, inplace=False)\n",
              "          )\n",
              "        )\n",
              "      )\n",
              "    )\n",
              "    (pooler): BertPooler(\n",
              "      (dense): Linear(in_features=768, out_features=768, bias=True)\n",
              "      (activation): Tanh()\n",
              "    )\n",
              "  )\n",
              "  (dropout): Dropout(p=0.1, inplace=False)\n",
              "  (classifier): Linear(in_features=768, out_features=4, bias=True)\n",
              ")"
            ]
          },
          "metadata": {},
          "execution_count": 38
        }
      ]
    },
    {
      "cell_type": "code",
      "metadata": {
        "id": "d63qzJeuNzfY"
      },
      "source": [
        "param_optimizer = list(model.named_parameters())\n",
        "no_decay = ['bias', 'gamma', 'beta']\n",
        "optimizer_grouped_parameters = [\n",
        "  {'params': [p for n, p in param_optimizer if not any(nd in n for nd in no_decay)],\n",
        "    'weight_decay_rate': 0.01},\n",
        "  {'params': [p for n, p in param_optimizer if any(nd in n for nd in no_decay)],\n",
        "    'weight_decay_rate': 0.0}\n",
        "]\n",
        "\n",
        "#optimizer = AdamW(optimizer_grouped_parameters, lr=2e-5)\n",
        "optimizer = AdamW(optimizer_grouped_parameters, lr=1e-5)"
      ],
      "execution_count": 39,
      "outputs": []
    },
    {
      "cell_type": "code",
      "metadata": {
        "id": "PTfNZ44FN3tY",
        "colab": {
          "base_uri": "https://localhost:8080/",
          "height": 295
        },
        "outputId": "3be82c78-8d0c-4551-dcc8-1065df47bd57"
      },
      "source": [
        "from IPython.display import clear_output\n",
        " \n",
        "train_loss_set = []\n",
        "train_loss = 0\n",
        " \n",
        "model.train()\n",
        " \n",
        "for step, batch in enumerate(train_dataloader):\n",
        "  batch = tuple(t.to(device) for t in batch)\n",
        "  b_input_ids, b_input_mask, b_labels = batch\n",
        "  \n",
        "  optimizer.zero_grad()\n",
        "  \n",
        "  loss = model(b_input_ids, token_type_ids=None, attention_mask=b_input_mask, labels=b_labels)\n",
        "  \n",
        "  train_loss_set.append(loss[0].item())  \n",
        "  \n",
        "  loss[0].backward()\n",
        "  \n",
        "  \n",
        "  optimizer.step()\n",
        " \n",
        "  train_loss += loss[0].item()\n",
        "  \n",
        "  clear_output(True)\n",
        "  plt.plot(train_loss_set)\n",
        "  plt.title(\"Training loss\")\n",
        "  plt.xlabel(\"Batch\")\n",
        "  plt.ylabel(\"Loss\")\n",
        "  plt.show()"
      ],
      "execution_count": 87,
      "outputs": [
        {
          "output_type": "display_data",
          "data": {
            "image/png": "[encoded data removed]",
            "text/plain": [
              "<Figure size 432x288 with 1 Axes>"
            ]
          },
          "metadata": {
            "needs_background": "light"
          }
        }
      ]
    },
    {
      "cell_type": "code",
      "metadata": {
        "id": "9a48zM7vaQ4I"
      },
      "source": [
        "torch.save(model.state_dict(), save_path + '/model_full_marked_dataset_plus_facts_2.pth')"
      ],
      "execution_count": 69,
      "outputs": []
    },
    {
      "cell_type": "code",
      "metadata": {
        "id": "PO-D7e2oNkjh",
        "colab": {
          "base_uri": "https://localhost:8080/"
        },
        "outputId": "a6bbcf5b-5b08-4930-a426-725f1c735f74"
      },
      "source": [
        "print(\"Loss на обучающей выборке: {0:.5f}\".format(train_loss / len(train_dataloader)))\n",
        " \n",
        "model.eval()\n",
        " \n",
        "valid_preds, valid_labels = [], []\n",
        " \n",
        "for i in range(len(validation_inputs)):\n",
        "  b_input_ids = torch.tensor(np.array([validation_inputs[i]])).to(device)\n",
        "  b_labels = torch.tensor(validation_labels[i]).to(device)\n",
        "  b_input_mask = torch.tensor(np.array([validation_masks[i]])).to(device)\n",
        "  \n",
        "  with torch.no_grad():\n",
        "      logits = model(b_input_ids, token_type_ids=None, attention_mask=b_input_mask)\n",
        " \n",
        "  logits = logits[0].detach().to('cpu').numpy()  \n",
        "  preds = np.argmax(logits, axis=1).item()\n",
        "  valid_preds.append(preds)\n",
        "  valid_labels.append(b_labels.to('cpu').numpy().item())"
      ],
      "execution_count": null,
      "outputs": [
        {
          "output_type": "stream",
          "name": "stdout",
          "text": [
            "Loss на обучающей выборке: 0.49855\n"
          ]
        }
      ]
    },
    {
      "cell_type": "code",
      "metadata": {
        "colab": {
          "base_uri": "https://localhost:8080/"
        },
        "id": "ecX8LZN8fkPw",
        "outputId": "04b76e00-9186-4eca-8b2d-e48fd53c007e"
      },
      "source": [
        "print(\"Accuracy на валидационной выборке: {0:.2f}%\".format(\n",
        "    accuracy_score(valid_labels, valid_preds) * 100\n",
        "))\n",
        "print(\"f1: {0:.2f}%\".format(\n",
        "    f1_score(valid_labels, valid_preds, average='macro') * 100\n",
        "))"
      ],
      "execution_count": null,
      "outputs": [
        {
          "output_type": "stream",
          "name": "stdout",
          "text": [
            "Accuracy на валидационной выборке: 81.08%\n",
            "f1: 83.70%\n"
          ]
        }
      ]
    },
    {
      "cell_type": "markdown",
      "metadata": {
        "id": "Ynyn_t93ECwu"
      },
      "source": [
        "# Test"
      ]
    },
    {
      "cell_type": "code",
      "metadata": {
        "id": "na9t7owFB4rL"
      },
      "source": [
        "sentencesTest = []\n",
        "labelsTest = df_test.ans\n",
        " \n",
        "for text in df_test.task:\n",
        "  text = text.lower().replace('\\n', ' ')\n",
        "  text = ''.join(c for c in text if c in alphabet)\n",
        "  text = ' '.join(text.split())\n",
        "  sentencesTest.append(text)\n",
        " \n",
        "sentencesTest = [\"[CLS] \" + sentence + \" [SEP]\" for sentence in sentencesTest]\n",
        "sentencesTest = np.array(sentencesTest)\n",
        "labelsTest = np.array(labelsTest)"
      ],
      "execution_count": 41,
      "outputs": []
    },
    {
      "cell_type": "code",
      "metadata": {
        "colab": {
          "base_uri": "https://localhost:8080/"
        },
        "id": "8_2ydIDPjD0O",
        "outputId": "256ab474-c4b1-4e72-d5fa-bb400e431d4c"
      },
      "source": [
        "sentencesTest.shape, sentencesTest[0]"
      ],
      "execution_count": 42,
      "outputs": [
        {
          "output_type": "execute_result",
          "data": {
            "text/plain": [
              "((514,),\n",
              " '[CLS] вопрос денис готовится провести соревнования по настольному хоккею и решил распечатать недостающие фигурки на принторе для изготовления одной модели у дениса слишком мало времени поэтому он решает использовать принтера сразу а потом склеить полученные детали у специалиста сейчас в наличии принтеров сколько у него есть вариантов выбора если сначала он настраивает один из принтеров а за ним второй [SEP]')"
            ]
          },
          "metadata": {},
          "execution_count": 42
        }
      ]
    },
    {
      "cell_type": "code",
      "metadata": {
        "id": "FksbomRADmPs"
      },
      "source": [
        "tokenized_textsTest = [tokenizer.tokenize(sent) for sent in sentencesTest]"
      ],
      "execution_count": 43,
      "outputs": []
    },
    {
      "cell_type": "code",
      "metadata": {
        "colab": {
          "base_uri": "https://localhost:8080/"
        },
        "id": "JGP_VZ-5j6Ie",
        "outputId": "5ea470ee-1ef6-465b-d0dc-b551f7e933db"
      },
      "source": [
        "len(tokenized_textsTest[0]), tokenized_textsTest[0]"
      ],
      "execution_count": 44,
      "outputs": [
        {
          "output_type": "execute_result",
          "data": {
            "text/plain": [
              "(103,\n",
              " ['[CLS]',\n",
              "  'вопрос',\n",
              "  'денис',\n",
              "  'го',\n",
              "  '##тов',\n",
              "  '##ится',\n",
              "  'провести',\n",
              "  'соревнования',\n",
              "  'по',\n",
              "  'нас',\n",
              "  '##то',\n",
              "  '##льному',\n",
              "  'х',\n",
              "  '##ок',\n",
              "  '##ке',\n",
              "  '##ю',\n",
              "  'и',\n",
              "  'решил',\n",
              "  'ра',\n",
              "  '##сп',\n",
              "  '##еч',\n",
              "  '##ата',\n",
              "  '##ть',\n",
              "  'не',\n",
              "  '##до',\n",
              "  '##ста',\n",
              "  '##ющие',\n",
              "  'ф',\n",
              "  '##и',\n",
              "  '##гу',\n",
              "  '##рки',\n",
              "  'на',\n",
              "  'при',\n",
              "  '##нт',\n",
              "  '##оре',\n",
              "  'для',\n",
              "  'из',\n",
              "  '##го',\n",
              "  '##тов',\n",
              "  '##ления',\n",
              "  'однои',\n",
              "  'модели',\n",
              "  'у',\n",
              "  'денис',\n",
              "  '##а',\n",
              "  'слишком',\n",
              "  'мало',\n",
              "  'времени',\n",
              "  'поэтому',\n",
              "  'он',\n",
              "  'р',\n",
              "  '##еш',\n",
              "  '##ает',\n",
              "  'использовать',\n",
              "  'при',\n",
              "  '##нте',\n",
              "  '##ра',\n",
              "  'сразу',\n",
              "  'а',\n",
              "  'потом',\n",
              "  'с',\n",
              "  '##кле',\n",
              "  '##ить',\n",
              "  'полу',\n",
              "  '##ченные',\n",
              "  'де',\n",
              "  '##тали',\n",
              "  'у',\n",
              "  'специалист',\n",
              "  '##а',\n",
              "  'сеичас',\n",
              "  'в',\n",
              "  'на',\n",
              "  '##ли',\n",
              "  '##чии',\n",
              "  'при',\n",
              "  '##нте',\n",
              "  '##ров',\n",
              "  'с',\n",
              "  '##колько',\n",
              "  'у',\n",
              "  'него',\n",
              "  'есть',\n",
              "  'вариант',\n",
              "  '##ов',\n",
              "  'выбор',\n",
              "  '##а',\n",
              "  'если',\n",
              "  'сначала',\n",
              "  'он',\n",
              "  'нас',\n",
              "  '##тра',\n",
              "  '##ивает',\n",
              "  'один',\n",
              "  'из',\n",
              "  'при',\n",
              "  '##нте',\n",
              "  '##ров',\n",
              "  'а',\n",
              "  'за',\n",
              "  'ним',\n",
              "  'второи',\n",
              "  '[SEP]'])"
            ]
          },
          "metadata": {},
          "execution_count": 44
        }
      ]
    },
    {
      "cell_type": "code",
      "metadata": {
        "id": "8ZQYQ3z0EHDN"
      },
      "source": [
        "tokenized_textsTest = pad_sequences(\n",
        "  tokenized_textsTest,\n",
        "  maxlen=max_len_tokenized,\n",
        "  dtype=object,\n",
        "  truncating=\"post\",\n",
        "  padding=\"post\",\n",
        "  value='[PAD]'\n",
        ")\n",
        " \n",
        "attention_masksTest = [[1 if i != '[PAD]' else 0 for i in seq] for seq in tokenized_textsTest]\n",
        " \n",
        "input_idsTest = [tokenizer.convert_tokens_to_ids(x) for x in tokenized_textsTest]"
      ],
      "execution_count": 45,
      "outputs": []
    },
    {
      "cell_type": "code",
      "metadata": {
        "id": "-7ntEiHJEZ19"
      },
      "source": [
        "test_preds, test_labels = [], []\n",
        " \n",
        "for i in range(len(input_idsTest)):\n",
        "  b_input_ids = torch.tensor(np.array([input_idsTest[i]])).to(device)\n",
        "  b_labels = torch.tensor(labelsTest[i]).to(device)\n",
        "  b_input_mask = torch.tensor(np.array([attention_masksTest[i]])).to(device)\n",
        "  \n",
        "  with torch.no_grad():\n",
        "      logits = model(b_input_ids, token_type_ids=None, attention_mask=b_input_mask)\n",
        " \n",
        "  logits = logits[0].detach().to('cpu').numpy()\n",
        "  preds = np.argmax(logits, axis=1).item()\n",
        "  test_preds.append(preds)\n",
        "  test_labels.append(b_labels.to('cpu').numpy().item())"
      ],
      "execution_count": 88,
      "outputs": []
    },
    {
      "cell_type": "code",
      "metadata": {
        "id": "O7AKDdclktHs"
      },
      "source": [
        "for i in range(len(test_preds)):\n",
        "  test_preds[i] = catToCatTest[test_preds[i]]"
      ],
      "execution_count": 89,
      "outputs": []
    },
    {
      "cell_type": "code",
      "metadata": {
        "colab": {
          "base_uri": "https://localhost:8080/"
        },
        "id": "mS1HE5zPib7o",
        "outputId": "3bef51be-44b8-4aba-e9ff-9faf7f8e5792"
      },
      "source": [
        "print(\"Accuracy на тестовой выборке: {0:.2f}%\".format(\n",
        "    accuracy_score(test_labels, test_preds) * 100\n",
        "))\n",
        "print(\"f1: {0:.2f}%\".format(\n",
        "    f1_score(test_labels, test_preds, average='macro') * 100\n",
        "))"
      ],
      "execution_count": 90,
      "outputs": [
        {
          "output_type": "stream",
          "name": "stdout",
          "text": [
            "Accuracy на тестовой выборке: 78.99%\n",
            "f1: 76.35%\n"
          ]
        }
      ]
    },
    {
      "cell_type": "markdown",
      "metadata": {
        "id": "8-KlrOfbbnCY"
      },
      "source": [
        "# Any test & make csv"
      ]
    },
    {
      "cell_type": "code",
      "metadata": {
        "id": "Qbi9MLv4fvwU"
      },
      "source": [
        "def prediction(sentence, max_key_words=1):\n",
        "  sentence = sentence.lower().replace('\\n', ' ').replace('ё', 'е').replace('й', 'и')\n",
        "  sentence = ''.join(c for c in sentence if c in alphabet)\n",
        "  sentence = ' '.join(sentence.split()[:max_len_tokenized])\n",
        "  sentence = '[CLS] ' + sentence + ' [SEP]'\n",
        "  words = sentence.split()\n",
        "  tokenized = tokenizer.tokenize(sentence)\n",
        "\n",
        "  now_word = 0\n",
        "  now_ind = 0\n",
        "  token_to_word = []\n",
        "  for i in tokenized:\n",
        "    token_to_word.append(now_word)\n",
        "    for j in range(len(i)):\n",
        "      if i[j] != words[now_word][now_ind]:\n",
        "        continue\n",
        "      now_ind += 1\n",
        "      if now_ind == len(words[now_word]):\n",
        "        now_ind = 0\n",
        "        now_word += 1\n",
        "  \n",
        "  ids = [tokenizer.convert_tokens_to_ids(tokenized)]\n",
        "  ids = torch.tensor(ids)\n",
        "  ids = ids.to(device)\n",
        "  label = torch.tensor([0]).to(device)\n",
        "  with torch.no_grad():\n",
        "    logits = model(ids, token_type_ids=None, attention_mask=None, labels=label)\n",
        "  \n",
        "  ans = logits[1].detach().to('cpu').numpy()\n",
        "  ans_ind = np.argmax(ans, axis=1).item()\n",
        "  ans_cat = categories[ans_ind]\n",
        "\n",
        "  attention = logits[3][11][0][11][0].detach().to('cpu').numpy()\n",
        "  max_inds = np.flip(np.argsort(attention))\n",
        "  all_key_words = ['[SEP]', '[CLS]']\n",
        "  for i in max_inds:\n",
        "    if words[token_to_word[i]] in all_key_words:\n",
        "      continue\n",
        "    all_key_words.append(words[token_to_word[i]])\n",
        "    if len(all_key_words)-2 == max_key_words:\n",
        "      break\n",
        "  return ans_cat, all_key_words[2:]"
      ],
      "execution_count": 70,
      "outputs": []
    },
    {
      "cell_type": "code",
      "metadata": {
        "colab": {
          "base_uri": "https://localhost:8080/"
        },
        "id": "KSKfnzp5X4on",
        "outputId": "3cee3871-3a65-44db-ca15-f3baba445372"
      },
      "source": [
        "ans_cat, all_key_words = prediction('1.29. Вороны высиживают яйца три недели. Сколько дней высиживают яйца вороны?', 3)\n",
        "print(ans_cat)\n",
        "print(all_key_words)"
      ],
      "execution_count": 71,
      "outputs": [
        {
          "output_type": "stream",
          "name": "stdout",
          "text": [
            "животные\n",
            "['вороны', 'высиживают', 'сколько']\n"
          ]
        }
      ]
    },
    {
      "cell_type": "code",
      "metadata": {
        "id": "74hVZYzaCz-Z"
      },
      "source": [
        "ans_csv = []\n",
        "for i, text in enumerate(df_test.task):\n",
        "  ans_cat, all_key_words = prediction(text, 3)\n",
        "  ans_csv.append([i, ans_cat, '; '.join(all_key_words)])\n",
        "\n",
        "ans_df = pd.DataFrame(ans_csv, columns=['id', 'category', 'keywords'])"
      ],
      "execution_count": 72,
      "outputs": []
    },
    {
      "cell_type": "code",
      "metadata": {
        "colab": {
          "base_uri": "https://localhost:8080/",
          "height": 669
        },
        "id": "MBS4MWIeEZjR",
        "outputId": "2977a67b-7e2f-43a8-d969-c6a2b1219d6e"
      },
      "source": [
        "ans_df.head(20)"
      ],
      "execution_count": 73,
      "outputs": [
        {
          "output_type": "execute_result",
          "data": {
            "text/html": [
              "<div>\n",
              "<style scoped>\n",
              "    .dataframe tbody tr th:only-of-type {\n",
              "        vertical-align: middle;\n",
              "    }\n",
              "\n",
              "    .dataframe tbody tr th {\n",
              "        vertical-align: top;\n",
              "    }\n",
              "\n",
              "    .dataframe thead th {\n",
              "        text-align: right;\n",
              "    }\n",
              "</style>\n",
              "<table border=\"1\" class=\"dataframe\">\n",
              "  <thead>\n",
              "    <tr style=\"text-align: right;\">\n",
              "      <th></th>\n",
              "      <th>id</th>\n",
              "      <th>category</th>\n",
              "      <th>keywords</th>\n",
              "    </tr>\n",
              "  </thead>\n",
              "  <tbody>\n",
              "    <tr>\n",
              "      <th>0</th>\n",
              "      <td>0</td>\n",
              "      <td>спорт</td>\n",
              "      <td>настольному; фигурки; хоккею</td>\n",
              "    </tr>\n",
              "    <tr>\n",
              "      <th>1</th>\n",
              "      <td>1</td>\n",
              "      <td>животные</td>\n",
              "      <td>собак; сколько; коробок</td>\n",
              "    </tr>\n",
              "    <tr>\n",
              "      <th>2</th>\n",
              "      <td>2</td>\n",
              "      <td>спорт</td>\n",
              "      <td>волеиболу; легкои; группы</td>\n",
              "    </tr>\n",
              "    <tr>\n",
              "      <th>3</th>\n",
              "      <td>3</td>\n",
              "      <td>животные</td>\n",
              "      <td>описанная; оформил; потратил</td>\n",
              "    </tr>\n",
              "    <tr>\n",
              "      <th>4</th>\n",
              "      <td>4</td>\n",
              "      <td>спорт</td>\n",
              "      <td>шестиклассников; самостоятельно; проверьте</td>\n",
              "    </tr>\n",
              "    <tr>\n",
              "      <th>5</th>\n",
              "      <td>5</td>\n",
              "      <td>спорт</td>\n",
              "      <td>тетради; отжимании; в</td>\n",
              "    </tr>\n",
              "    <tr>\n",
              "      <th>6</th>\n",
              "      <td>6</td>\n",
              "      <td>литература</td>\n",
              "      <td>вычисли; следующие; задания</td>\n",
              "    </tr>\n",
              "    <tr>\n",
              "      <th>7</th>\n",
              "      <td>7</td>\n",
              "      <td>спорт</td>\n",
              "      <td>тина; каменистыи; водоросли</td>\n",
              "    </tr>\n",
              "    <tr>\n",
              "      <th>8</th>\n",
              "      <td>8</td>\n",
              "      <td>спорт</td>\n",
              "      <td>на; а; машина</td>\n",
              "    </tr>\n",
              "    <tr>\n",
              "      <th>9</th>\n",
              "      <td>9</td>\n",
              "      <td>спорт</td>\n",
              "      <td>раздевалки; вычисли; гребцов</td>\n",
              "    </tr>\n",
              "    <tr>\n",
              "      <th>10</th>\n",
              "      <td>10</td>\n",
              "      <td>литература</td>\n",
              "      <td>написали; которое; сочинения</td>\n",
              "    </tr>\n",
              "    <tr>\n",
              "      <th>11</th>\n",
              "      <td>11</td>\n",
              "      <td>спорт</td>\n",
              "      <td>раздевалки; задачу; в</td>\n",
              "    </tr>\n",
              "    <tr>\n",
              "      <th>12</th>\n",
              "      <td>12</td>\n",
              "      <td>спорт</td>\n",
              "      <td>изготовил; купил; ловли</td>\n",
              "    </tr>\n",
              "    <tr>\n",
              "      <th>13</th>\n",
              "      <td>13</td>\n",
              "      <td>спорт</td>\n",
              "      <td>электросамокате; запиши; измерения</td>\n",
              "    </tr>\n",
              "    <tr>\n",
              "      <th>14</th>\n",
              "      <td>14</td>\n",
              "      <td>спорт</td>\n",
              "      <td>другои; москвои; вологде</td>\n",
              "    </tr>\n",
              "    <tr>\n",
              "      <th>15</th>\n",
              "      <td>15</td>\n",
              "      <td>спорт</td>\n",
              "      <td>определи; пешеход; пешехода</td>\n",
              "    </tr>\n",
              "    <tr>\n",
              "      <th>16</th>\n",
              "      <td>16</td>\n",
              "      <td>спорт</td>\n",
              "      <td>спортивную; даша; ангелина</td>\n",
              "    </tr>\n",
              "    <tr>\n",
              "      <th>17</th>\n",
              "      <td>17</td>\n",
              "      <td>животные</td>\n",
              "      <td>груши; кулинарии; говорится</td>\n",
              "    </tr>\n",
              "    <tr>\n",
              "      <th>18</th>\n",
              "      <td>18</td>\n",
              "      <td>спорт</td>\n",
              "      <td>расстановку; габариты; дорожка</td>\n",
              "    </tr>\n",
              "    <tr>\n",
              "      <th>19</th>\n",
              "      <td>19</td>\n",
              "      <td>литература</td>\n",
              "      <td>покупки; планирования; выполнить</td>\n",
              "    </tr>\n",
              "  </tbody>\n",
              "</table>\n",
              "</div>"
            ],
            "text/plain": [
              "    id    category                                    keywords\n",
              "0    0       спорт                настольному; фигурки; хоккею\n",
              "1    1    животные                     собак; сколько; коробок\n",
              "2    2       спорт                   волеиболу; легкои; группы\n",
              "3    3    животные                описанная; оформил; потратил\n",
              "4    4       спорт  шестиклассников; самостоятельно; проверьте\n",
              "5    5       спорт                       тетради; отжимании; в\n",
              "6    6  литература                 вычисли; следующие; задания\n",
              "7    7       спорт                 тина; каменистыи; водоросли\n",
              "8    8       спорт                               на; а; машина\n",
              "9    9       спорт                раздевалки; вычисли; гребцов\n",
              "10  10  литература                написали; которое; сочинения\n",
              "11  11       спорт                       раздевалки; задачу; в\n",
              "12  12       спорт                     изготовил; купил; ловли\n",
              "13  13       спорт          электросамокате; запиши; измерения\n",
              "14  14       спорт                    другои; москвои; вологде\n",
              "15  15       спорт                 определи; пешеход; пешехода\n",
              "16  16       спорт                  спортивную; даша; ангелина\n",
              "17  17    животные                 груши; кулинарии; говорится\n",
              "18  18       спорт              расстановку; габариты; дорожка\n",
              "19  19  литература            покупки; планирования; выполнить"
            ]
          },
          "metadata": {},
          "execution_count": 73
        }
      ]
    },
    {
      "cell_type": "code",
      "metadata": {
        "id": "dtMo9VG2EZzk"
      },
      "source": [
        "ans_df.to_csv(save_path + '/ans.csv', index=False)"
      ],
      "execution_count": 74,
      "outputs": []
    }
  ]
}