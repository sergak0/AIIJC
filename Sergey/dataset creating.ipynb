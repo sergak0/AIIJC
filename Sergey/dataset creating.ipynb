{
 "cells": [
  {
   "cell_type": "code",
   "execution_count": 2,
   "id": "b2e68e2e",
   "metadata": {},
   "outputs": [],
   "source": [
    "import pandas as pd\n",
    "import numpy as np\n",
    "import json\n",
    "import re\n",
    "from tqdm import tqdm"
   ]
  },
  {
   "cell_type": "code",
   "execution_count": 3,
   "id": "feeeeccd",
   "metadata": {},
   "outputs": [],
   "source": [
    "%matplotlib inline\n",
    "import matplotlib as mpl\n",
    "import matplotlib.pyplot as plt\n",
    "mpl.style.use('seaborn')\n",
    "plt.rc('font', size=15)          # controls default text sizes\n",
    "plt.rc('axes', titlesize=15)     # fontsize of the axes title\n",
    "plt.rc('axes', labelsize=15)     # fontsize of the x and y labels\n",
    "plt.rc('xtick', labelsize=15)    # fontsize of the tick labels\n",
    "plt.rc('ytick', labelsize=15)    # fontsize of the tick labels\n",
    "\n",
    "from collections import Counter"
   ]
  },
  {
   "cell_type": "markdown",
   "id": "1d9ccd21",
   "metadata": {},
   "source": [
    "## Upload data"
   ]
  },
  {
   "cell_type": "code",
   "execution_count": 4,
   "id": "396d9ef2",
   "metadata": {},
   "outputs": [],
   "source": [
    "with open('aiijc_comand_data.json', 'r') as f :\n",
    "  data = json.load(f)\n",
    "  allTexts = data['texts']\n",
    "  allLinks = data['links']"
   ]
  },
  {
   "cell_type": "markdown",
   "id": "18cd5510",
   "metadata": {},
   "source": [
    "## Train tf-idf"
   ]
  },
  {
   "cell_type": "code",
   "execution_count": 11,
   "id": "84178e90",
   "metadata": {},
   "outputs": [
    {
     "name": "stderr",
     "output_type": "stream",
     "text": [
      "[nltk_data] Downloading package stopwords to /home/sergak/nltk_data...\n",
      "[nltk_data]   Package stopwords is already up-to-date!\n",
      "[nltk_data] Downloading package punkt to /home/sergak/nltk_data...\n",
      "[nltk_data]   Package punkt is already up-to-date!\n",
      "[nltk_data] Downloading package wordnet to /home/sergak/nltk_data...\n",
      "[nltk_data]   Package wordnet is already up-to-date!\n"
     ]
    }
   ],
   "source": [
    "import sys\n",
    "sys.path.append('/home/sergey/Documents/Neyro_sets/AIIJC/EduRu')\n",
    "\n",
    "import logistic_regression as lg\n",
    "from sklearn.model_selection import train_test_split\n",
    "from sklearn.metrics import accuracy_score"
   ]
  },
  {
   "cell_type": "code",
   "execution_count": 188,
   "id": "fa119dda",
   "metadata": {},
   "outputs": [
    {
     "name": "stderr",
     "output_type": "stream",
     "text": [
      "[nltk_data] Downloading package stopwords to /home/sergak/nltk_data...\n",
      "[nltk_data]   Package stopwords is already up-to-date!\n",
      "[nltk_data] Downloading package punkt to /home/sergak/nltk_data...\n",
      "[nltk_data]   Package punkt is already up-to-date!\n",
      "[nltk_data] Downloading package wordnet to /home/sergak/nltk_data...\n",
      "[nltk_data]   Package wordnet is already up-to-date!\n"
     ]
    },
    {
     "data": {
      "text/plain": [
       "<module 'logistic_regression' from '/home/sergak/Documents/Neyro_sets/AIIJC/EduRu/Sergey/logistic_regression.py'>"
      ]
     },
     "execution_count": 188,
     "metadata": {},
     "output_type": "execute_result"
    }
   ],
   "source": [
    "import importlib\n",
    "importlib.reload(lg)"
   ]
  },
  {
   "cell_type": "code",
   "execution_count": 159,
   "id": "526cd203",
   "metadata": {},
   "outputs": [
    {
     "data": {
      "text/html": [
       "<div>\n",
       "<style scoped>\n",
       "    .dataframe tbody tr th:only-of-type {\n",
       "        vertical-align: middle;\n",
       "    }\n",
       "\n",
       "    .dataframe tbody tr th {\n",
       "        vertical-align: top;\n",
       "    }\n",
       "\n",
       "    .dataframe thead th {\n",
       "        text-align: right;\n",
       "    }\n",
       "</style>\n",
       "<table border=\"1\" class=\"dataframe\">\n",
       "  <thead>\n",
       "    <tr style=\"text-align: right;\">\n",
       "      <th></th>\n",
       "      <th>text</th>\n",
       "      <th>ans</th>\n",
       "    </tr>\n",
       "  </thead>\n",
       "  <tbody>\n",
       "    <tr>\n",
       "      <th>0</th>\n",
       "      <td>\\t1.1. Летом в спортивный лагерь ходили 50 дет...</td>\n",
       "      <td>спорт</td>\n",
       "    </tr>\n",
       "    <tr>\n",
       "      <th>1</th>\n",
       "      <td>\\t1.2. На концерте в летнем лагере ребята игра...</td>\n",
       "      <td>музыка</td>\n",
       "    </tr>\n",
       "    <tr>\n",
       "      <th>3</th>\n",
       "      <td>\\t1.4. Во время летних соревнований по плавани...</td>\n",
       "      <td>спорт</td>\n",
       "    </tr>\n",
       "    <tr>\n",
       "      <th>4</th>\n",
       "      <td>\\t1.5. В спортивную школу во время летних кани...</td>\n",
       "      <td>спорт</td>\n",
       "    </tr>\n",
       "    <tr>\n",
       "      <th>6</th>\n",
       "      <td>\\t1.7. Самые крупные животные на нашей планете...</td>\n",
       "      <td>животные</td>\n",
       "    </tr>\n",
       "  </tbody>\n",
       "</table>\n",
       "</div>"
      ],
      "text/plain": [
       "                                                text       ans\n",
       "0  \\t1.1. Летом в спортивный лагерь ходили 50 дет...     спорт\n",
       "1  \\t1.2. На концерте в летнем лагере ребята игра...    музыка\n",
       "3  \\t1.4. Во время летних соревнований по плавани...     спорт\n",
       "4  \\t1.5. В спортивную школу во время летних кани...     спорт\n",
       "6  \\t1.7. Самые крупные животные на нашей планете...  животные"
      ]
     },
     "execution_count": 159,
     "metadata": {},
     "output_type": "execute_result"
    }
   ],
   "source": [
    "data = pd.read_csv('../full_marked_dataset.csv')\n",
    "del data['Unnamed: 0']\n",
    "data = data[data['ans'] != 'неизвестно']\n",
    "data.head()"
   ]
  },
  {
   "cell_type": "code",
   "execution_count": 161,
   "id": "d6202f55",
   "metadata": {},
   "outputs": [
    {
     "name": "stderr",
     "output_type": "stream",
     "text": [
      "100%|████████████████████████████████████████| 727/727 [00:01<00:00, 439.43it/s]\n"
     ]
    }
   ],
   "source": [
    "preparator = lg.LogicticRegressionPreparator()\n",
    "y = data['ans'].values\n",
    "X_text = preparator.prepare_texts(data['text'].values)"
   ]
  },
  {
   "cell_type": "code",
   "execution_count": 162,
   "id": "19c461d2",
   "metadata": {},
   "outputs": [
    {
     "name": "stdout",
     "output_type": "stream",
     "text": [
      "581 146\n"
     ]
    }
   ],
   "source": [
    "X_train, X_test, y_train, y_test = train_test_split(\n",
    "    X_text, y, test_size=0.2, random_state=42)\n",
    "\n",
    "print(len(X_train), len(X_test))\n"
   ]
  },
  {
   "cell_type": "code",
   "execution_count": 189,
   "id": "d501578d",
   "metadata": {
    "scrolled": true
   },
   "outputs": [
    {
     "name": "stdout",
     "output_type": "stream",
     "text": [
      "[LibLinear]iter   1  #CD cycles 1\n",
      "iter   2  #CD cycles 1\n",
      "iter   3  #CD cycles 1\n",
      "iter   4  #CD cycles 3\n",
      "iter   5  #CD cycles 1\n",
      "iter   6  #CD cycles 5\n",
      "iter   7  #CD cycles 1\n",
      "iter   8  #CD cycles 35\n",
      "iter   9  #CD cycles 5\n",
      "iter  10  #CD cycles 1\n",
      "iter  11  #CD cycles 36\n",
      "iter  12  #CD cycles 6\n",
      "iter  13  #CD cycles 1\n",
      "iter  14  #CD cycles 29\n",
      "iter  15  #CD cycles 1\n",
      "iter  16  #CD cycles 32\n",
      "=========================\n",
      "optimization finished, #iter = 16\n",
      "Objective value = 2189.144339\n",
      "#nonzeros/#features = 318/2039\n",
      "iter   1  #CD cycles 1\n",
      "iter   2  #CD cycles 1\n",
      "iter   3  #CD cycles 1\n",
      "iter   4  #CD cycles 3\n",
      "iter   5  #CD cycles 1\n",
      "iter   6  #CD cycles 5\n",
      "iter   7  #CD cycles 1\n",
      "iter   8  #CD cycles 36\n",
      "iter   9  #CD cycles 7\n",
      "iter  10  #CD cycles 1\n",
      "iter  11  #CD cycles 15\n",
      "iter  12  #CD cycles 1\n",
      "iter  13  #CD cycles 18\n",
      "iter  14  #CD cycles 1\n",
      "iter  15  #CD cycles 24\n",
      "=========================\n",
      "optimization finished, #iter = 15\n",
      "Objective value = 2090.568142\n",
      "#nonzeros/#features = 280/2039\n",
      "iter   1  #CD cycles 1\n",
      "iter   2  #CD cycles 1\n",
      "iter   3  #CD cycles 1\n",
      "iter   4  #CD cycles 3\n",
      "iter   5  #CD cycles 1\n",
      "iter   6  #CD cycles 3\n",
      "iter   7  #CD cycles 1\n",
      "iter   8  #CD cycles 1\n",
      "iter   9  #CD cycles 2\n",
      "iter  10  #CD cycles 3\n",
      "iter  11  #CD cycles 1\n",
      "iter  12  #CD cycles 2\n",
      "iter  13  #CD cycles 1\n",
      "iter  14  #CD cycles 5\n",
      "iter  15  #CD cycles 1\n",
      "iter  16  #CD cycles 3\n",
      "iter  17  #CD cycles 1\n",
      "=========================\n",
      "optimization finished, #iter = 17\n",
      "Objective value = 141.514802\n",
      "#nonzeros/#features = 10/2039\n",
      "iter   1  #CD cycles 1\n",
      "iter   2  #CD cycles 1\n",
      "iter   3  #CD cycles 1\n",
      "iter   4  #CD cycles 3\n",
      "iter   5  #CD cycles 1\n",
      "iter   6  #CD cycles 6\n",
      "iter   7  #CD cycles 1\n",
      "iter   8  #CD cycles 9\n",
      "iter   9  #CD cycles 3\n",
      "iter  10  #CD cycles 1\n",
      "iter  11  #CD cycles 18\n",
      "iter  12  #CD cycles 5\n",
      "iter  13  #CD cycles 1\n",
      "iter  14  #CD cycles 31\n",
      "iter  15  #CD cycles 2\n",
      "iter  16  #CD cycles 1\n",
      "WARNING: reaching max number of inner iterations\n",
      "iter  17  #CD cycles 1000\n",
      "WARNING: reaching max number of inner iterations\n",
      "iter  18  #CD cycles 1000\n",
      "WARNING: reaching max number of inner iterations\n",
      "iter  19  #CD cycles 1000\n",
      "WARNING: reaching max number of inner iterations\n",
      "iter  20  #CD cycles 1000\n",
      "WARNING: reaching max number of inner iterations\n",
      "iter  21  #CD cycles 1000\n",
      "WARNING: reaching max number of inner iterations\n",
      "iter  22  #CD cycles 1000\n",
      "WARNING: reaching max number of inner iterations\n",
      "iter  23  #CD cycles 1000\n",
      "WARNING: reaching max number of inner iterations\n",
      "iter  24  #CD cycles 1000\n",
      "WARNING: reaching max number of inner iterations\n",
      "iter  25  #CD cycles 1000\n",
      "WARNING: reaching max number of inner iterations\n",
      "iter  26  #CD cycles 1000\n",
      "WARNING: reaching max number of inner iterations\n",
      "iter  27  #CD cycles 1000\n",
      "WARNING: reaching max number of inner iterations\n",
      "iter  28  #CD cycles 1000\n",
      "WARNING: reaching max number of inner iterations\n",
      "iter  29  #CD cycles 1000\n",
      "WARNING: reaching max number of inner iterations\n",
      "iter  30  #CD cycles 1000\n",
      "WARNING: reaching max number of inner iterations\n",
      "iter  31  #CD cycles 1000\n",
      "WARNING: reaching max number of inner iterations\n",
      "iter  32  #CD cycles 1000\n",
      "WARNING: reaching max number of inner iterations\n",
      "iter  33  #CD cycles 1000\n",
      "WARNING: reaching max number of inner iterations\n",
      "iter  34  #CD cycles 1000\n",
      "WARNING: reaching max number of inner iterations\n",
      "iter  35  #CD cycles 1000\n",
      "WARNING: reaching max number of inner iterations\n",
      "iter  36  #CD cycles 1000\n",
      "WARNING: reaching max number of inner iterations\n",
      "iter  37  #CD cycles 1000\n",
      "WARNING: reaching max number of inner iterations\n",
      "iter  38  #CD cycles 1000\n",
      "WARNING: reaching max number of inner iterations\n",
      "iter  39  #CD cycles 1000\n",
      "WARNING: reaching max number of inner iterations\n",
      "iter  40  #CD cycles 1000\n",
      "WARNING: reaching max number of inner iterations\n",
      "iter  41  #CD cycles 1000\n",
      "WARNING: reaching max number of inner iterations\n",
      "iter  42  #CD cycles 1000\n",
      "WARNING: reaching max number of inner iterations\n",
      "iter  43  #CD cycles 1000\n",
      "WARNING: reaching max number of inner iterations\n",
      "iter  44  #CD cycles 1000\n",
      "WARNING: reaching max number of inner iterations\n",
      "iter  45  #CD cycles 1000\n",
      "WARNING: reaching max number of inner iterations\n",
      "iter  46  #CD cycles 1000\n",
      "WARNING: reaching max number of inner iterations\n",
      "iter  47  #CD cycles 1000\n",
      "WARNING: reaching max number of inner iterations\n",
      "iter  48  #CD cycles 1000\n",
      "WARNING: reaching max number of inner iterations\n",
      "iter  49  #CD cycles 1000\n",
      "WARNING: reaching max number of inner iterations\n",
      "iter  50  #CD cycles 1000\n",
      "WARNING: reaching max number of inner iterations\n",
      "iter  51  #CD cycles 1000\n",
      "WARNING: reaching max number of inner iterations\n",
      "iter  52  #CD cycles 1000\n",
      "WARNING: reaching max number of inner iterations\n",
      "iter  53  #CD cycles 1000\n",
      "WARNING: reaching max number of inner iterations\n",
      "iter  54  #CD cycles 1000\n",
      "WARNING: reaching max number of inner iterations\n",
      "iter  55  #CD cycles 1000\n",
      "WARNING: reaching max number of inner iterations\n",
      "iter  56  #CD cycles 1000\n",
      "WARNING: reaching max number of inner iterations\n",
      "iter  57  #CD cycles 1000\n",
      "WARNING: reaching max number of inner iterations\n",
      "iter  58  #CD cycles 1000\n",
      "WARNING: reaching max number of inner iterations\n",
      "iter  59  #CD cycles 1000\n",
      "WARNING: reaching max number of inner iterations\n",
      "iter  60  #CD cycles 1000\n",
      "WARNING: reaching max number of inner iterations\n",
      "iter  61  #CD cycles 1000\n",
      "WARNING: reaching max number of inner iterations\n",
      "iter  62  #CD cycles 1000\n",
      "WARNING: reaching max number of inner iterations\n",
      "iter  63  #CD cycles 1000\n",
      "WARNING: reaching max number of inner iterations\n",
      "iter  64  #CD cycles 1000\n",
      "WARNING: reaching max number of inner iterations\n",
      "iter  65  #CD cycles 1000\n",
      "WARNING: reaching max number of inner iterations\n",
      "iter  66  #CD cycles 1000\n",
      "WARNING: reaching max number of inner iterations\n",
      "iter  67  #CD cycles 1000\n",
      "WARNING: reaching max number of inner iterations\n",
      "iter  68  #CD cycles 1000\n",
      "WARNING: reaching max number of inner iterations\n",
      "iter  69  #CD cycles 1000\n",
      "WARNING: reaching max number of inner iterations\n",
      "iter  70  #CD cycles 1000\n",
      "WARNING: reaching max number of inner iterations\n",
      "iter  71  #CD cycles 1000\n",
      "WARNING: reaching max number of inner iterations\n",
      "iter  72  #CD cycles 1000\n",
      "WARNING: reaching max number of inner iterations\n",
      "iter  73  #CD cycles 1000\n",
      "WARNING: reaching max number of inner iterations\n",
      "iter  74  #CD cycles 1000\n",
      "WARNING: reaching max number of inner iterations\n",
      "iter  75  #CD cycles 1000\n",
      "WARNING: reaching max number of inner iterations\n",
      "iter  76  #CD cycles 1000\n",
      "WARNING: reaching max number of inner iterations\n",
      "iter  77  #CD cycles 1000\n",
      "WARNING: reaching max number of inner iterations\n",
      "iter  78  #CD cycles 1000\n",
      "WARNING: reaching max number of inner iterations\n",
      "iter  79  #CD cycles 1000\n",
      "WARNING: reaching max number of inner iterations\n",
      "iter  80  #CD cycles 1000\n",
      "WARNING: reaching max number of inner iterations\n",
      "iter  81  #CD cycles 1000\n",
      "WARNING: reaching max number of inner iterations\n",
      "iter  82  #CD cycles 1000\n",
      "WARNING: reaching max number of inner iterations\n",
      "iter  83  #CD cycles 1000\n",
      "WARNING: reaching max number of inner iterations\n",
      "iter  84  #CD cycles 1000\n",
      "WARNING: reaching max number of inner iterations\n",
      "iter  85  #CD cycles 1000\n",
      "WARNING: reaching max number of inner iterations\n",
      "iter  86  #CD cycles 1000\n",
      "WARNING: reaching max number of inner iterations\n",
      "iter  87  #CD cycles 1000\n",
      "WARNING: reaching max number of inner iterations\n",
      "iter  88  #CD cycles 1000\n",
      "WARNING: reaching max number of inner iterations\n",
      "iter  89  #CD cycles 1000\n",
      "WARNING: reaching max number of inner iterations\n",
      "iter  90  #CD cycles 1000\n",
      "WARNING: reaching max number of inner iterations\n",
      "iter  91  #CD cycles 1000\n",
      "WARNING: reaching max number of inner iterations\n",
      "iter  92  #CD cycles 1000\n",
      "WARNING: reaching max number of inner iterations\n",
      "iter  93  #CD cycles 1000\n",
      "WARNING: reaching max number of inner iterations\n",
      "iter  94  #CD cycles 1000\n",
      "WARNING: reaching max number of inner iterations\n",
      "iter  95  #CD cycles 1000\n",
      "WARNING: reaching max number of inner iterations\n",
      "iter  96  #CD cycles 1000\n",
      "WARNING: reaching max number of inner iterations\n",
      "iter  97  #CD cycles 1000\n",
      "WARNING: reaching max number of inner iterations\n",
      "iter  98  #CD cycles 1000\n",
      "WARNING: reaching max number of inner iterations\n",
      "iter  99  #CD cycles 1000\n",
      "WARNING: reaching max number of inner iterations\n",
      "iter 100  #CD cycles 1000\n",
      "=========================\n",
      "optimization finished, #iter = 100\n",
      "WARNING: reaching max number of iterations\n",
      "Objective value = 1120.598700\n",
      "#nonzeros/#features = 115/2039\n"
     ]
    },
    {
     "name": "stderr",
     "output_type": "stream",
     "text": [
      "/home/sergak/miniconda3/lib/python3.9/site-packages/sklearn/svm/_base.py:985: ConvergenceWarning: Liblinear failed to converge, increase the number of iterations.\n",
      "  warnings.warn(\"Liblinear failed to converge, increase \"\n"
     ]
    }
   ],
   "source": [
    "model = lg.LogicticRegressionModel(False)\n",
    "model.fit(X_train , y_train)"
   ]
  },
  {
   "cell_type": "code",
   "execution_count": 190,
   "id": "ca3255d6",
   "metadata": {},
   "outputs": [
    {
     "name": "stdout",
     "output_type": "stream",
     "text": [
      "accuraccy  0.7123287671232876\n"
     ]
    }
   ],
   "source": [
    "predict = model.predict(X_test)\n",
    "print('accuraccy ', accuracy_score(y_test, predict))"
   ]
  },
  {
   "cell_type": "code",
   "execution_count": 191,
   "id": "a5e27284",
   "metadata": {},
   "outputs": [
    {
     "data": {
      "image/png": "[encoded data removed]",
      "text/plain": [
       "<Figure size 576x396 with 1 Axes>"
      ]
     },
     "metadata": {},
     "output_type": "display_data"
    }
   ],
   "source": [
    "plt.hist(predict)\n",
    "plt.show()"
   ]
  },
  {
   "cell_type": "code",
   "execution_count": 192,
   "id": "9cd113bf",
   "metadata": {},
   "outputs": [],
   "source": [
    "model.save()"
   ]
  },
  {
   "cell_type": "code",
   "execution_count": 194,
   "metadata": {},
   "outputs": [
    {
     "data": {
      "text/plain": [
       "['соревнование', 'получить', 'решить']"
      ]
     },
     "execution_count": 194,
     "metadata": {},
     "output_type": "execute_result"
    }
   ],
   "source": [
    "model.get_top_words(text)"
   ]
  },
  {
   "cell_type": "code",
   "execution_count": 20,
   "metadata": {},
   "outputs": [
    {
     "data": {
      "text/html": [
       "<div>\n",
       "<style scoped>\n",
       "    .dataframe tbody tr th:only-of-type {\n",
       "        vertical-align: middle;\n",
       "    }\n",
       "\n",
       "    .dataframe tbody tr th {\n",
       "        vertical-align: top;\n",
       "    }\n",
       "\n",
       "    .dataframe thead th {\n",
       "        text-align: right;\n",
       "    }\n",
       "</style>\n",
       "<table border=\"1\" class=\"dataframe\">\n",
       "  <thead>\n",
       "    <tr style=\"text-align: right;\">\n",
       "      <th></th>\n",
       "      <th>id</th>\n",
       "      <th>category</th>\n",
       "      <th>keywords</th>\n",
       "    </tr>\n",
       "  </thead>\n",
       "  <tbody>\n",
       "    <tr>\n",
       "      <th>0</th>\n",
       "      <td>0</td>\n",
       "      <td>музыка</td>\n",
       "      <td>фраза один; фраза два; слово</td>\n",
       "    </tr>\n",
       "    <tr>\n",
       "      <th>1</th>\n",
       "      <td>1</td>\n",
       "      <td>спорт</td>\n",
       "      <td>фраза один; фраза два; слово</td>\n",
       "    </tr>\n",
       "    <tr>\n",
       "      <th>2</th>\n",
       "      <td>2</td>\n",
       "      <td>литература</td>\n",
       "      <td>фраза один; фраза два; слово</td>\n",
       "    </tr>\n",
       "    <tr>\n",
       "      <th>3</th>\n",
       "      <td>3</td>\n",
       "      <td>животные</td>\n",
       "      <td>фраза один; фраза два; слово</td>\n",
       "    </tr>\n",
       "    <tr>\n",
       "      <th>4</th>\n",
       "      <td>4</td>\n",
       "      <td>музыка</td>\n",
       "      <td>фраза один; фраза два; слово</td>\n",
       "    </tr>\n",
       "  </tbody>\n",
       "</table>\n",
       "</div>"
      ],
      "text/plain": [
       "   id    category                      keywords\n",
       "0   0      музыка  фраза один; фраза два; слово\n",
       "1   1       спорт  фраза один; фраза два; слово\n",
       "2   2  литература  фраза один; фраза два; слово\n",
       "3   3    животные  фраза один; фраза два; слово\n",
       "4   4      музыка  фраза один; фраза два; слово"
      ]
     },
     "execution_count": 20,
     "metadata": {},
     "output_type": "execute_result"
    }
   ],
   "source": [
    "pd.read_csv('../sample_submission.csv').head()"
   ]
  },
  {
   "cell_type": "code",
   "execution_count": 195,
   "metadata": {},
   "outputs": [
    {
     "name": "stderr",
     "output_type": "stream",
     "text": [
      "100%|████████████████████████████████████████| 514/514 [00:03<00:00, 141.01it/s]\n"
     ]
    }
   ],
   "source": [
    "test = pd.read_csv('../test.csv')\n",
    "test['prepared'] = preparator.prepare_texts(test['task'])"
   ]
  },
  {
   "cell_type": "code",
   "execution_count": 196,
   "metadata": {},
   "outputs": [],
   "source": [
    "test['category'] = model.predict(test['prepared'])\n",
    "test['keywords'] = ['; '.join(model.get_top_words(text)) for text in test['prepared']]\n",
    "test.drop(['task', 'prepared'], axis = 1).to_csv('sabmit_log_reg.csv')"
   ]
  },
  {
   "cell_type": "code",
   "execution_count": 197,
   "metadata": {},
   "outputs": [
    {
     "data": {
      "text/html": [
       "<div>\n",
       "<style scoped>\n",
       "    .dataframe tbody tr th:only-of-type {\n",
       "        vertical-align: middle;\n",
       "    }\n",
       "\n",
       "    .dataframe tbody tr th {\n",
       "        vertical-align: top;\n",
       "    }\n",
       "\n",
       "    .dataframe thead th {\n",
       "        text-align: right;\n",
       "    }\n",
       "</style>\n",
       "<table border=\"1\" class=\"dataframe\">\n",
       "  <thead>\n",
       "    <tr style=\"text-align: right;\">\n",
       "      <th></th>\n",
       "      <th>id</th>\n",
       "      <th>task</th>\n",
       "      <th>prepared</th>\n",
       "      <th>category</th>\n",
       "      <th>keywords</th>\n",
       "    </tr>\n",
       "  </thead>\n",
       "  <tbody>\n",
       "    <tr>\n",
       "      <th>0</th>\n",
       "      <td>0</td>\n",
       "      <td>Вопрос 1 Денис готовится провести соревнования...</td>\n",
       "      <td>вопрос 1 денис готовиться провести соревновани...</td>\n",
       "      <td>спорт</td>\n",
       "      <td>соревнование; получить; решить</td>\n",
       "    </tr>\n",
       "    <tr>\n",
       "      <th>1</th>\n",
       "      <td>1</td>\n",
       "      <td>Реши задачу.\\nСколько коробок корма для собак ...</td>\n",
       "      <td>решить задача сколько коробка корм собака поме...</td>\n",
       "      <td>литература</td>\n",
       "      <td>коробка; решить</td>\n",
       "    </tr>\n",
       "    <tr>\n",
       "      <th>2</th>\n",
       "      <td>2</td>\n",
       "      <td>Если групп элементов несколько, то применяется...</td>\n",
       "      <td>группа элемент несколько применяться закон сло...</td>\n",
       "      <td>спорт</td>\n",
       "      <td>группа; заниматься; задача; решить</td>\n",
       "    </tr>\n",
       "    <tr>\n",
       "      <th>3</th>\n",
       "      <td>3</td>\n",
       "      <td>Вопрос1                                       ...</td>\n",
       "      <td>вопрос1 прочитать условие задача ответить вопр...</td>\n",
       "      <td>литература</td>\n",
       "      <td>конец; прочитать; рубль</td>\n",
       "    </tr>\n",
       "    <tr>\n",
       "      <th>4</th>\n",
       "      <td>4</td>\n",
       "      <td>Для наглядной геометрической иллюстрации объём...</td>\n",
       "      <td>наглядный геометрический иллюстрация объём пон...</td>\n",
       "      <td>литература</td>\n",
       "      <td>тетрадь; школа</td>\n",
       "    </tr>\n",
       "  </tbody>\n",
       "</table>\n",
       "</div>"
      ],
      "text/plain": [
       "   id                                               task  \\\n",
       "0   0  Вопрос 1 Денис готовится провести соревнования...   \n",
       "1   1  Реши задачу.\\nСколько коробок корма для собак ...   \n",
       "2   2  Если групп элементов несколько, то применяется...   \n",
       "3   3  Вопрос1                                       ...   \n",
       "4   4  Для наглядной геометрической иллюстрации объём...   \n",
       "\n",
       "                                            prepared    category  \\\n",
       "0  вопрос 1 денис готовиться провести соревновани...       спорт   \n",
       "1  решить задача сколько коробка корм собака поме...  литература   \n",
       "2  группа элемент несколько применяться закон сло...       спорт   \n",
       "3  вопрос1 прочитать условие задача ответить вопр...  литература   \n",
       "4  наглядный геометрический иллюстрация объём пон...  литература   \n",
       "\n",
       "                             keywords  \n",
       "0      соревнование; получить; решить  \n",
       "1                     коробка; решить  \n",
       "2  группа; заниматься; задача; решить  \n",
       "3             конец; прочитать; рубль  \n",
       "4                      тетрадь; школа  "
      ]
     },
     "execution_count": 197,
     "metadata": {},
     "output_type": "execute_result"
    }
   ],
   "source": [
    "test.head()"
   ]
  },
  {
   "cell_type": "markdown",
   "id": "0a69d226",
   "metadata": {},
   "source": [
    "## Find good texts"
   ]
  },
  {
   "cell_type": "code",
   "execution_count": 31,
   "id": "112b1532",
   "metadata": {},
   "outputs": [],
   "source": [
    "pattern = {'zadachi1.txt' : r'[0-9]+\\.[0-9]+',\n",
    "           'zadachi2.txt' : r'[0-9]+\\.',\n",
    "           'zadachi2.5.txt' : r'[0-9]+\\.',\n",
    "           'zadachi3.txt' : r'[0-9]+\\.[0-9]+\\.',\n",
    "           'zadachi5.txt' : r'№[0-9]+',\n",
    "          }"
   ]
  },
  {
   "cell_type": "code",
   "execution_count": 32,
   "id": "118e6207",
   "metadata": {},
   "outputs": [],
   "source": [
    "tasks = []\n",
    "for filename, pat in pattern.items() :\n",
    "    texts = open('data_zadachi/{}'.format(filename), encoding = 'utf-8').read().split('\\n') #cp1251\n",
    "    \n",
    "    for el in texts :\n",
    "        if not re.search(pat, el) is None and len(el) > 50 :\n",
    "            tasks.append(el)"
   ]
  },
  {
   "cell_type": "code",
   "execution_count": 33,
   "id": "e1393295",
   "metadata": {},
   "outputs": [
    {
     "data": {
      "text/plain": [
       "1927"
      ]
     },
     "execution_count": 33,
     "metadata": {},
     "output_type": "execute_result"
    }
   ],
   "source": [
    "len(tasks)"
   ]
  },
  {
   "cell_type": "markdown",
   "id": "0a6e009d",
   "metadata": {},
   "source": [
    "### Naive bayes predicts"
   ]
  },
  {
   "cell_type": "code",
   "execution_count": null,
   "id": "e53dfe3c",
   "metadata": {},
   "outputs": [],
   "source": [
    "import sys\n",
    "sys.path.append('/home/sergey/Documents/Neyro_sets/AIIJC/EduRu/Lisa')\n",
    "import naive_bayes as nb"
   ]
  },
  {
   "cell_type": "code",
   "execution_count": 34,
   "id": "211b2a98",
   "metadata": {},
   "outputs": [],
   "source": [
    "tasks_df = pd.DataFrame(tasks, columns = ['texts'])"
   ]
  },
  {
   "cell_type": "code",
   "execution_count": 147,
   "id": "79247ce3",
   "metadata": {},
   "outputs": [],
   "source": [
    "preparator = nb.Preparator(stopwords_path='Lisa/all_stopwords.txt',\n",
    "                        bigram_model_path='Lisa/bigram_model.pkl')\n",
    "\n",
    "nb_model = nb.BayesModel(vect_path='Lisa/nb_vect.sav', \n",
    "                         tfidf_path='Lisa/nb_tfidf.sav',\n",
    "                         clf_path='Lisa/nb_clf.sav',\n",
    "                        )\n",
    "\n",
    "X_test = preparator.prepare_texts(tasks_df['texts'].values)"
   ]
  },
  {
   "cell_type": "code",
   "execution_count": 148,
   "id": "5870bc2e",
   "metadata": {
    "scrolled": true
   },
   "outputs": [],
   "source": [
    "tasks_df['prediction'] = nb_model.predict(X_test)\n",
    "tasks_df['score'] = nb_model.predict_proba(X_test).max(axis=1)"
   ]
  },
  {
   "cell_type": "code",
   "execution_count": 149,
   "id": "98356e27",
   "metadata": {},
   "outputs": [],
   "source": [
    "tasks_df['prediction'] = [nb_model.classes[x] for x in tasks_df['prediction']]"
   ]
  },
  {
   "cell_type": "code",
   "execution_count": 150,
   "id": "c06acb28",
   "metadata": {},
   "outputs": [
    {
     "data": {
      "image/png": "[encoded data removed]",
      "text/plain": [
       "<Figure size 576x396 with 1 Axes>"
      ]
     },
     "metadata": {},
     "output_type": "display_data"
    }
   ],
   "source": [
    "plt.hist(tasks_df['prediction'])\n",
    "plt.show()"
   ]
  },
  {
   "cell_type": "code",
   "execution_count": 151,
   "id": "b531c5a2",
   "metadata": {},
   "outputs": [
    {
     "data": {
      "image/png": "[encoded data removed]",
      "text/plain": [
       "<Figure size 576x396 with 1 Axes>"
      ]
     },
     "metadata": {},
     "output_type": "display_data"
    }
   ],
   "source": [
    "plt.hist(tasks_df['score'])\n",
    "plt.show()"
   ]
  },
  {
   "cell_type": "code",
   "execution_count": 55,
   "id": "ed3a1a9f",
   "metadata": {},
   "outputs": [],
   "source": [
    "good_df = tasks_df.copy()"
   ]
  },
  {
   "cell_type": "markdown",
   "id": "ef936a73",
   "metadata": {},
   "source": [
    "### Saving"
   ]
  },
  {
   "cell_type": "code",
   "execution_count": 97,
   "id": "3f49ac84",
   "metadata": {},
   "outputs": [],
   "source": [
    "# add_df[add_df['score'] < 0.70].to_csv('unknown_dataset.csv')"
   ]
  },
  {
   "cell_type": "code",
   "execution_count": 68,
   "id": "17be0d0f",
   "metadata": {},
   "outputs": [],
   "source": [
    "good_df[good_df['score']>0.3].to_csv('good_additional_dataset.csv')"
   ]
  },
  {
   "cell_type": "code",
   "execution_count": 199,
   "id": "20f79493",
   "metadata": {},
   "outputs": [],
   "source": [
    "good_df.to_csv('additional_dataset.csv')"
   ]
  },
  {
   "cell_type": "code",
   "execution_count": 56,
   "id": "a2839725",
   "metadata": {},
   "outputs": [
    {
     "name": "stdout",
     "output_type": "stream",
     "text": [
      "{'texts': '9.16. Лестница у Петровской башни имеет 18 ступеней, что на 8 ступеней меньше, чем у Благовещенской. Сколько ступеней у Благовещенской башни?', 'x': 'лестница петровский башня ступень ступень благовещенский ступень благовещенский башня', 'prediction': 'музыка', 'score': 0.4303619157955795}\n",
      "{'texts': '\\t15.27*. Из 21 м ткани получаются 5 одинаковых платьев. Сколько платьев получится из 42 м такой ткани?', 'x': 'ткань ткань', 'prediction': 'животные', 'score': 0.41893767585288666}\n",
      "{'texts': '6.16. Две книги стоят 47 руб., одна из них – 30 руб. Сколько стоит вторая книга?', 'x': 'книга стоять книга', 'prediction': 'литература', 'score': 0.46132872400605307}\n",
      "{'texts': '\\t10.14. В кабинете биологии 6 гербариев с листьями растений по 10 листьев в каждом и 8 гербариев цветов по 9 штук в каждом. Сколько всего экспонатов растений в кабинете биологии?', 'x': 'кабинет биология гербарий лист растение лист гербарий цвет штука экспонат растение кабинет биология', 'prediction': 'животные', 'score': 0.5096464440715576}\n",
      "{'texts': '12.46. Незнайка сочинил о каждом из своих друзей стихи. В каждом стихотворении было по 3 строчки, а друзей было 5. Сколько стихотворных строк Незнайка посвятил своим друзьям?', 'x': 'незнайка сочинить стих стихотворение строчка стихотворный строка незнайка посвятить', 'prediction': 'литература', 'score': 0.4062085831573952}\n",
      "{'texts': '6.16. Две книги стоят 47 руб., одна из них – 30 руб. Сколько стоит вторая книга?', 'x': 'книга стоять книга', 'prediction': 'литература', 'score': 0.46132872400605307}\n",
      "{'texts': '№1 Восемь кроликов посадили в семь клеток. Докажите, что есть клетка, в которой оказалось по крайней мере два кролика.', 'x': 'кролик посадить клетка клетка кролик', 'prediction': 'животные', 'score': 0.4984112738322471}\n",
      "{'texts': '\\t22.5. Две недели составляют половину месяца. Запиши название этого месяца?', 'x': 'записать', 'prediction': 'музыка', 'score': 0.4265647321517305}\n",
      "{'texts': '№15 Можно ли клетки доски 5×5 покрасить в четыре цвета так, чтобы клетки, стоящие на пересечении любых двух строк и любых двух столбцов, были покрашены не менее, чем в три цвета?', 'x': 'клетка доска покрасить цвет клетка стоящий пересечение строка столбцы покрасить цвет', 'prediction': 'животные', 'score': 0.4147839983076582}\n",
      "{'texts': '\\t11.10. На школьном дворе играли 20 девочек и 15 мальчиков. Они разделились на команды по 7 человек в каждой. Сколько получилось команд?', 'x': 'школьный двор мальчик разделиться команда команда', 'prediction': 'спорт', 'score': 0.5311808635721624}\n"
     ]
    }
   ],
   "source": [
    "import random\n",
    "add = good_df[good_df['score'] > 0.4].to_dict('records') # T.to_dict().values()\n",
    "for i in range(10) :\n",
    "    print(add[random.randint(0, len(add) - 1)])"
   ]
  },
  {
   "cell_type": "code",
   "execution_count": null,
   "id": "6c6f3715",
   "metadata": {},
   "outputs": [],
   "source": []
  }
 ],
 "metadata": {
  "kernelspec": {
   "display_name": "Python 3 (ipykernel)",
   "language": "python",
   "name": "python3"
  },
  "language_info": {
   "codemirror_mode": {
    "name": "ipython",
    "version": 3
   },
   "file_extension": ".py",
   "mimetype": "text/x-python",
   "name": "python",
   "nbconvert_exporter": "python",
   "pygments_lexer": "ipython3",
   "version": "3.9.5"
  }
 },
 "nbformat": 4,
 "nbformat_minor": 5
}
