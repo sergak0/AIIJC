{
 "cells": [
  {
   "cell_type": "code",
   "execution_count": 2,
   "id": "b2e68e2e",
   "metadata": {},
   "outputs": [],
   "source": [
    "import pandas as pd\n",
    "import numpy as np\n",
    "import json\n",
    "import gdown\n",
    "import re\n",
    "from tqdm import tqdm"
   ]
  },
  {
   "cell_type": "code",
   "execution_count": 3,
   "id": "feeeeccd",
   "metadata": {},
   "outputs": [],
   "source": [
    "%matplotlib inline\n",
    "import matplotlib as mpl\n",
    "import matplotlib.pyplot as plt\n",
    "mpl.style.use('seaborn')\n",
    "plt.rc('font', size=15)          # controls default text sizes\n",
    "plt.rc('axes', titlesize=15)     # fontsize of the axes title\n",
    "plt.rc('axes', labelsize=15)     # fontsize of the x and y labels\n",
    "plt.rc('xtick', labelsize=15)    # fontsize of the tick labels\n",
    "plt.rc('ytick', labelsize=15)    # fontsize of the tick labels\n",
    "\n",
    "from collections import Counter"
   ]
  },
  {
   "cell_type": "code",
   "execution_count": 14,
   "id": "fb892d64",
   "metadata": {},
   "outputs": [
    {
     "name": "stdout",
     "output_type": "stream",
     "text": [
      "Downloading...\n",
      "From: https://drive.google.com/uc?id=1sqD2c_YyIdnuS7jgHyW_a9c_DC8KhXoV\n",
      "To: /home/sergey/Documents/Neyro_sets/AIIJC/EduRu/aiijc_comand_data.json\n",
      "132MB [00:11, 11.9MB/s] \n"
     ]
    }
   ],
   "source": [
    "# !gdown 'https://drive.google.com/uc?id=1sqD2c_YyIdnuS7jgHyW_a9c_DC8KhXoV'"
   ]
  },
  {
   "cell_type": "markdown",
   "id": "1d9ccd21",
   "metadata": {},
   "source": [
    "## Upload data"
   ]
  },
  {
   "cell_type": "code",
   "execution_count": 4,
   "id": "396d9ef2",
   "metadata": {},
   "outputs": [],
   "source": [
    "with open('aiijc_comand_data.json', 'r') as f :\n",
    "  data = json.load(f)\n",
    "  allTexts = data['texts']\n",
    "  allLinks = data['links']"
   ]
  },
  {
   "cell_type": "code",
   "execution_count": 5,
   "id": "526cd203",
   "metadata": {},
   "outputs": [
    {
     "data": {
      "text/html": [
       "<div>\n",
       "<style scoped>\n",
       "    .dataframe tbody tr th:only-of-type {\n",
       "        vertical-align: middle;\n",
       "    }\n",
       "\n",
       "    .dataframe tbody tr th {\n",
       "        vertical-align: top;\n",
       "    }\n",
       "\n",
       "    .dataframe thead th {\n",
       "        text-align: right;\n",
       "    }\n",
       "</style>\n",
       "<table border=\"1\" class=\"dataframe\">\n",
       "  <thead>\n",
       "    <tr style=\"text-align: right;\">\n",
       "      <th></th>\n",
       "      <th>task</th>\n",
       "      <th>ans</th>\n",
       "    </tr>\n",
       "  </thead>\n",
       "  <tbody>\n",
       "    <tr>\n",
       "      <th>0</th>\n",
       "      <td>Вопрос 1 Денис готовится провести соревнования...</td>\n",
       "      <td>спорт</td>\n",
       "    </tr>\n",
       "    <tr>\n",
       "      <th>1</th>\n",
       "      <td>Реши задачу.\\nСколько коробок корма для собак ...</td>\n",
       "      <td>животные</td>\n",
       "    </tr>\n",
       "    <tr>\n",
       "      <th>2</th>\n",
       "      <td>Если групп элементов несколько, то применяется...</td>\n",
       "      <td>спорт</td>\n",
       "    </tr>\n",
       "    <tr>\n",
       "      <th>3</th>\n",
       "      <td>Вопрос1                                       ...</td>\n",
       "      <td>животные</td>\n",
       "    </tr>\n",
       "    <tr>\n",
       "      <th>4</th>\n",
       "      <td>Для наглядной геометрической иллюстрации объём...</td>\n",
       "      <td>спорт</td>\n",
       "    </tr>\n",
       "  </tbody>\n",
       "</table>\n",
       "</div>"
      ],
      "text/plain": [
       "                                                task       ans\n",
       "0  Вопрос 1 Денис готовится провести соревнования...     спорт\n",
       "1  Реши задачу.\\nСколько коробок корма для собак ...  животные\n",
       "2  Если групп элементов несколько, то применяется...     спорт\n",
       "3  Вопрос1                                       ...  животные\n",
       "4  Для наглядной геометрической иллюстрации объём...     спорт"
      ]
     },
     "execution_count": 5,
     "metadata": {},
     "output_type": "execute_result"
    }
   ],
   "source": [
    "data = pd.read_csv('marked_test.csv')\n",
    "del data['Unnamed: 0']\n",
    "data.head()"
   ]
  },
  {
   "cell_type": "code",
   "execution_count": 184,
   "id": "f38c9c84",
   "metadata": {},
   "outputs": [
    {
     "data": {
      "image/png": "[encoded data removed]",
      "text/plain": [
       "<Figure size 576x396 with 1 Axes>"
      ]
     },
     "metadata": {},
     "output_type": "display_data"
    }
   ],
   "source": [
    "plt.hist(data['ans'])\n",
    "plt.show()"
   ]
  },
  {
   "cell_type": "markdown",
   "id": "18cd5510",
   "metadata": {},
   "source": [
    "## Train tf-idf"
   ]
  },
  {
   "cell_type": "code",
   "execution_count": 175,
   "id": "fa119dda",
   "metadata": {},
   "outputs": [
    {
     "name": "stderr",
     "output_type": "stream",
     "text": [
      "[nltk_data] Downloading package stopwords to /home/sergey/nltk_data...\n",
      "[nltk_data]   Package stopwords is already up-to-date!\n",
      "[nltk_data] Downloading package punkt to /home/sergey/nltk_data...\n",
      "[nltk_data]   Package punkt is already up-to-date!\n",
      "[nltk_data] Downloading package wordnet to /home/sergey/nltk_data...\n",
      "[nltk_data]   Package wordnet is already up-to-date!\n"
     ]
    },
    {
     "data": {
      "text/plain": [
       "<module 'logistic_regression' from '/home/sergey/Documents/Neyro_sets/AIIJC/EduRu/logistic_regression.py'>"
      ]
     },
     "execution_count": 175,
     "metadata": {},
     "output_type": "execute_result"
    }
   ],
   "source": [
    "import importlib\n",
    "importlib.reload(lg)"
   ]
  },
  {
   "cell_type": "code",
   "execution_count": 176,
   "id": "84178e90",
   "metadata": {},
   "outputs": [],
   "source": [
    "import sys\n",
    "sys.path.append('/home/sergey/Documents/Neyro_sets/AIIJC/EduRu')\n",
    "\n",
    "import logistic_regression as lg\n",
    "from sklearn.model_selection import train_test_split\n",
    "from sklearn.metrics import accuracy_score"
   ]
  },
  {
   "cell_type": "code",
   "execution_count": 177,
   "id": "d6202f55",
   "metadata": {},
   "outputs": [
    {
     "name": "stderr",
     "output_type": "stream",
     "text": [
      "100%|████████████████████████████| 514/514 [00:05<00:00, 88.51it/s]\n"
     ]
    }
   ],
   "source": [
    "preparator = lg.LogicticRegressionPreparator()\n",
    "y = data['ans'].values\n",
    "X_text = preparator.prepare_texts(data['task'].values)"
   ]
  },
  {
   "cell_type": "code",
   "execution_count": 178,
   "id": "19c461d2",
   "metadata": {},
   "outputs": [
    {
     "name": "stdout",
     "output_type": "stream",
     "text": [
      "411 103\n"
     ]
    }
   ],
   "source": [
    "X_train, X_test, y_train, y_test = train_test_split(\n",
    "    X_text, y, test_size=0.2, random_state=42)\n",
    "\n",
    "print(len(X_train), len(X_test))\n"
   ]
  },
  {
   "cell_type": "code",
   "execution_count": 179,
   "id": "d501578d",
   "metadata": {
    "scrolled": true
   },
   "outputs": [
    {
     "name": "stdout",
     "output_type": "stream",
     "text": [
      "[LibLinear]iter   1  #CD cycles 1\n",
      "iter   2  #CD cycles 1\n",
      "iter   3  #CD cycles 1\n",
      "iter   4  #CD cycles 3\n",
      "iter   5  #CD cycles 1\n",
      "iter   6  #CD cycles 3\n",
      "iter   7  #CD cycles 1\n",
      "iter   8  #CD cycles 16\n",
      "iter   9  #CD cycles 3\n",
      "iter  10  #CD cycles 1\n",
      "iter  11  #CD cycles 11\n",
      "iter  12  #CD cycles 1\n",
      "iter  13  #CD cycles 15\n",
      "iter  14  #CD cycles 1\n",
      "iter  15  #CD cycles 18\n",
      "=========================\n",
      "optimization finished, #iter = 15\n",
      "Objective value = 1174.888273\n",
      "#nonzeros/#features = 109/3758\n",
      "iter   1  #CD cycles 1\n",
      "iter   2  #CD cycles 1\n",
      "iter   3  #CD cycles 1\n",
      "iter   4  #CD cycles 1\n",
      "iter   5  #CD cycles 6\n",
      "iter   6  #CD cycles 3\n",
      "iter   7  #CD cycles 1\n",
      "iter   8  #CD cycles 17\n",
      "iter   9  #CD cycles 5\n",
      "iter  10  #CD cycles 1\n",
      "iter  11  #CD cycles 18\n",
      "iter  12  #CD cycles 7\n",
      "iter  13  #CD cycles 1\n",
      "iter  14  #CD cycles 20\n",
      "iter  15  #CD cycles 5\n",
      "iter  16  #CD cycles 1\n",
      "iter  17  #CD cycles 18\n",
      "=========================\n",
      "optimization finished, #iter = 17\n",
      "Objective value = 1192.683749\n",
      "#nonzeros/#features = 143/3758\n",
      "iter   1  #CD cycles 1\n",
      "iter   2  #CD cycles 1\n",
      "iter   3  #CD cycles 1\n",
      "iter   4  #CD cycles 1\n",
      "iter   5  #CD cycles 4\n",
      "iter   6  #CD cycles 1\n",
      "iter   7  #CD cycles 9\n",
      "iter   8  #CD cycles 3\n",
      "iter   9  #CD cycles 1\n",
      "iter  10  #CD cycles 4\n",
      "iter  11  #CD cycles 1\n",
      "iter  12  #CD cycles 5\n",
      "iter  13  #CD cycles 1\n",
      "iter  14  #CD cycles 2\n",
      "iter  15  #CD cycles 3\n",
      "iter  16  #CD cycles 2\n",
      "iter  17  #CD cycles 1\n",
      "iter  18  #CD cycles 21\n",
      "iter  19  #CD cycles 11\n",
      "=========================\n",
      "optimization finished, #iter = 19\n",
      "Objective value = 349.998729\n",
      "#nonzeros/#features = 21/3758\n",
      "iter   1  #CD cycles 1\n",
      "iter   2  #CD cycles 1\n",
      "iter   3  #CD cycles 1\n",
      "iter   4  #CD cycles 3\n",
      "iter   5  #CD cycles 1\n",
      "iter   6  #CD cycles 4\n",
      "iter   7  #CD cycles 1\n",
      "iter   8  #CD cycles 23\n",
      "iter   9  #CD cycles 6\n",
      "iter  10  #CD cycles 1\n",
      "iter  11  #CD cycles 50\n",
      "iter  12  #CD cycles 8\n",
      "iter  13  #CD cycles 1\n",
      "iter  14  #CD cycles 38\n",
      "iter  15  #CD cycles 4\n",
      "=========================\n",
      "optimization finished, #iter = 15\n",
      "Objective value = 1679.983317\n",
      "#nonzeros/#features = 213/3758\n"
     ]
    }
   ],
   "source": [
    "model = lg.LogicticRegressionModel(False)\n",
    "model.fit(X_train , y_train)"
   ]
  },
  {
   "cell_type": "code",
   "execution_count": 184,
   "id": "ca3255d6",
   "metadata": {},
   "outputs": [
    {
     "name": "stdout",
     "output_type": "stream",
     "text": [
      "accuraccy  0.7087378640776699\n"
     ]
    }
   ],
   "source": [
    "predict = model.predict(X_test)\n",
    "print('accuraccy ', accuracy_score(y_test, predict))"
   ]
  },
  {
   "cell_type": "code",
   "execution_count": 181,
   "id": "a5e27284",
   "metadata": {},
   "outputs": [
    {
     "data": {
      "image/png": "[encoded data removed]",
      "text/plain": [
       "<Figure size 576x396 with 1 Axes>"
      ]
     },
     "metadata": {},
     "output_type": "display_data"
    }
   ],
   "source": [
    "plt.hist(predict)\n",
    "plt.show()"
   ]
  },
  {
   "cell_type": "code",
   "execution_count": 182,
   "id": "9cd113bf",
   "metadata": {},
   "outputs": [],
   "source": [
    "model.save()"
   ]
  },
  {
   "cell_type": "markdown",
   "id": "0a69d226",
   "metadata": {},
   "source": [
    "## Find good texts"
   ]
  },
  {
   "cell_type": "code",
   "execution_count": 31,
   "id": "112b1532",
   "metadata": {},
   "outputs": [],
   "source": [
    "pattern = {'zadachi1.txt' : r'[0-9]+\\.[0-9]+',\n",
    "           'zadachi2.txt' : r'[0-9]+\\.',\n",
    "           'zadachi2.5.txt' : r'[0-9]+\\.',\n",
    "           'zadachi3.txt' : r'[0-9]+\\.[0-9]+\\.',\n",
    "           'zadachi5.txt' : r'№[0-9]+',\n",
    "          }"
   ]
  },
  {
   "cell_type": "code",
   "execution_count": 32,
   "id": "118e6207",
   "metadata": {},
   "outputs": [],
   "source": [
    "tasks = []\n",
    "for filename, pat in pattern.items() :\n",
    "    texts = open('data_zadachi/{}'.format(filename), encoding = 'utf-8').read().split('\\n') #cp1251\n",
    "    \n",
    "    for el in texts :\n",
    "        if not re.search(pat, el) is None and len(el) > 50 :\n",
    "            tasks.append(el)"
   ]
  },
  {
   "cell_type": "code",
   "execution_count": 33,
   "id": "e1393295",
   "metadata": {},
   "outputs": [
    {
     "data": {
      "text/plain": [
       "1927"
      ]
     },
     "execution_count": 33,
     "metadata": {},
     "output_type": "execute_result"
    }
   ],
   "source": [
    "len(tasks)"
   ]
  },
  {
   "cell_type": "markdown",
   "id": "0a6e009d",
   "metadata": {},
   "source": [
    "### Naive bayes predicts"
   ]
  },
  {
   "cell_type": "code",
   "execution_count": null,
   "id": "e53dfe3c",
   "metadata": {},
   "outputs": [],
   "source": [
    "import sys\n",
    "sys.path.append('/home/sergey/Documents/Neyro_sets/AIIJC/EduRu/Lisa')\n",
    "import naive_bayes as nb"
   ]
  },
  {
   "cell_type": "code",
   "execution_count": 34,
   "id": "211b2a98",
   "metadata": {},
   "outputs": [],
   "source": [
    "tasks_df = pd.DataFrame(tasks, columns = ['texts'])"
   ]
  },
  {
   "cell_type": "code",
   "execution_count": 147,
   "id": "79247ce3",
   "metadata": {},
   "outputs": [],
   "source": [
    "preparator = nb.Preparator(stopwords_path='Lisa/all_stopwords.txt',\n",
    "                        bigram_model_path='Lisa/bigram_model.pkl')\n",
    "\n",
    "nb_model = nb.BayesModel(vect_path='Lisa/nb_vect.sav', \n",
    "                         tfidf_path='Lisa/nb_tfidf.sav',\n",
    "                         clf_path='Lisa/nb_clf.sav',\n",
    "                        )\n",
    "\n",
    "X_test = preparator.prepare_texts(tasks_df['texts'].values)"
   ]
  },
  {
   "cell_type": "code",
   "execution_count": 148,
   "id": "5870bc2e",
   "metadata": {
    "scrolled": true
   },
   "outputs": [],
   "source": [
    "tasks_df['prediction'] = nb_model.predict(X_test)\n",
    "tasks_df['score'] = nb_model.predict_proba(X_test).max(axis=1)"
   ]
  },
  {
   "cell_type": "code",
   "execution_count": 149,
   "id": "98356e27",
   "metadata": {},
   "outputs": [],
   "source": [
    "tasks_df['prediction'] = [nb_model.classes[x] for x in tasks_df['prediction']]"
   ]
  },
  {
   "cell_type": "code",
   "execution_count": 150,
   "id": "c06acb28",
   "metadata": {},
   "outputs": [
    {
     "data": {
      "image/png": "[encoded data removed]",
      "text/plain": [
       "<Figure size 576x396 with 1 Axes>"
      ]
     },
     "metadata": {},
     "output_type": "display_data"
    }
   ],
   "source": [
    "plt.hist(tasks_df['prediction'])\n",
    "plt.show()"
   ]
  },
  {
   "cell_type": "code",
   "execution_count": 151,
   "id": "b531c5a2",
   "metadata": {},
   "outputs": [
    {
     "data": {
      "image/png": "[encoded data removed]",
      "text/plain": [
       "<Figure size 576x396 with 1 Axes>"
      ]
     },
     "metadata": {},
     "output_type": "display_data"
    }
   ],
   "source": [
    "plt.hist(tasks_df['score'])\n",
    "plt.show()"
   ]
  },
  {
   "cell_type": "code",
   "execution_count": 55,
   "id": "ed3a1a9f",
   "metadata": {},
   "outputs": [],
   "source": [
    "good_df = tasks_df.copy()"
   ]
  },
  {
   "cell_type": "markdown",
   "id": "ef936a73",
   "metadata": {},
   "source": [
    "### Saving"
   ]
  },
  {
   "cell_type": "code",
   "execution_count": 97,
   "id": "3f49ac84",
   "metadata": {},
   "outputs": [],
   "source": [
    "# add_df[add_df['score'] < 0.70].to_csv('unknown_dataset.csv')"
   ]
  },
  {
   "cell_type": "code",
   "execution_count": 68,
   "id": "17be0d0f",
   "metadata": {},
   "outputs": [],
   "source": [
    "good_df[good_df['score']>0.3].to_csv('good_additional_dataset.csv')"
   ]
  },
  {
   "cell_type": "code",
   "execution_count": 199,
   "id": "20f79493",
   "metadata": {},
   "outputs": [],
   "source": [
    "good_df.to_csv('additional_dataset.csv')"
   ]
  },
  {
   "cell_type": "code",
   "execution_count": 56,
   "id": "a2839725",
   "metadata": {},
   "outputs": [
    {
     "name": "stdout",
     "output_type": "stream",
     "text": [
      "{'texts': '9.16. Лестница у Петровской башни имеет 18 ступеней, что на 8 ступеней меньше, чем у Благовещенской. Сколько ступеней у Благовещенской башни?', 'x': 'лестница петровский башня ступень ступень благовещенский ступень благовещенский башня', 'prediction': 'музыка', 'score': 0.4303619157955795}\n",
      "{'texts': '\\t15.27*. Из 21 м ткани получаются 5 одинаковых платьев. Сколько платьев получится из 42 м такой ткани?', 'x': 'ткань ткань', 'prediction': 'животные', 'score': 0.41893767585288666}\n",
      "{'texts': '6.16. Две книги стоят 47 руб., одна из них – 30 руб. Сколько стоит вторая книга?', 'x': 'книга стоять книга', 'prediction': 'литература', 'score': 0.46132872400605307}\n",
      "{'texts': '\\t10.14. В кабинете биологии 6 гербариев с листьями растений по 10 листьев в каждом и 8 гербариев цветов по 9 штук в каждом. Сколько всего экспонатов растений в кабинете биологии?', 'x': 'кабинет биология гербарий лист растение лист гербарий цвет штука экспонат растение кабинет биология', 'prediction': 'животные', 'score': 0.5096464440715576}\n",
      "{'texts': '12.46. Незнайка сочинил о каждом из своих друзей стихи. В каждом стихотворении было по 3 строчки, а друзей было 5. Сколько стихотворных строк Незнайка посвятил своим друзьям?', 'x': 'незнайка сочинить стих стихотворение строчка стихотворный строка незнайка посвятить', 'prediction': 'литература', 'score': 0.4062085831573952}\n",
      "{'texts': '6.16. Две книги стоят 47 руб., одна из них – 30 руб. Сколько стоит вторая книга?', 'x': 'книга стоять книга', 'prediction': 'литература', 'score': 0.46132872400605307}\n",
      "{'texts': '№1 Восемь кроликов посадили в семь клеток. Докажите, что есть клетка, в которой оказалось по крайней мере два кролика.', 'x': 'кролик посадить клетка клетка кролик', 'prediction': 'животные', 'score': 0.4984112738322471}\n",
      "{'texts': '\\t22.5. Две недели составляют половину месяца. Запиши название этого месяца?', 'x': 'записать', 'prediction': 'музыка', 'score': 0.4265647321517305}\n",
      "{'texts': '№15 Можно ли клетки доски 5×5 покрасить в четыре цвета так, чтобы клетки, стоящие на пересечении любых двух строк и любых двух столбцов, были покрашены не менее, чем в три цвета?', 'x': 'клетка доска покрасить цвет клетка стоящий пересечение строка столбцы покрасить цвет', 'prediction': 'животные', 'score': 0.4147839983076582}\n",
      "{'texts': '\\t11.10. На школьном дворе играли 20 девочек и 15 мальчиков. Они разделились на команды по 7 человек в каждой. Сколько получилось команд?', 'x': 'школьный двор мальчик разделиться команда команда', 'prediction': 'спорт', 'score': 0.5311808635721624}\n"
     ]
    }
   ],
   "source": [
    "import random\n",
    "add = good_df[good_df['score'] > 0.4].to_dict('records') # T.to_dict().values()\n",
    "for i in range(10) :\n",
    "    print(add[random.randint(0, len(add) - 1)])"
   ]
  },
  {
   "cell_type": "code",
   "execution_count": null,
   "id": "6c6f3715",
   "metadata": {},
   "outputs": [],
   "source": []
  }
 ],
 "metadata": {
  "kernelspec": {
   "display_name": "Python 3 (ipykernel)",
   "language": "python",
   "name": "python3"
  },
  "language_info": {
   "codemirror_mode": {
    "name": "ipython",
    "version": 3
   },
   "file_extension": ".py",
   "mimetype": "text/x-python",
   "name": "python",
   "nbconvert_exporter": "python",
   "pygments_lexer": "ipython3",
   "version": "3.9.1"
  }
 },
 "nbformat": 4,
 "nbformat_minor": 5
}
