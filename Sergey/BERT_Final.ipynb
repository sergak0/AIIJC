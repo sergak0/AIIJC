{
  "nbformat": 4,
  "nbformat_minor": 0,
  "metadata": {
    "colab": {
      "name": "BERT_Final.ipynb",
      "provenance": [],
      "collapsed_sections": [
        "uutcynDI4eGt",
        "bayZjwz44Nbm",
        "OicdREX6bN2r",
        "-UxUVgFTbSm2",
        "PmBu6gWiew70"
      ]
    },
    "kernelspec": {
      "display_name": "Python 3",
      "name": "python3"
    },
    "language_info": {
      "name": "python"
    },
    "widgets": {
      "application/vnd.jupyter.widget-state+json": {
        "9c9544799f54486fabe37a9bf8c35df7": {
          "model_module": "@jupyter-widgets/controls",
          "model_name": "HBoxModel",
          "model_module_version": "1.5.0",
          "state": {
            "_dom_classes": [],
            "_model_module": "@jupyter-widgets/controls",
            "_model_module_version": "1.5.0",
            "_model_name": "HBoxModel",
            "_view_count": null,
            "_view_module": "@jupyter-widgets/controls",
            "_view_module_version": "1.5.0",
            "_view_name": "HBoxView",
            "box_style": "",
            "children": [
              "IPY_MODEL_30866f83fdf648bd9e2a66a51fd7a634",
              "IPY_MODEL_0207236e1d76426286a15bcdb5e0bbaa",
              "IPY_MODEL_a0a63c5ba1ce4258982dd454fdb8c740"
            ],
            "layout": "IPY_MODEL_54a1d675422a47a0b792f1a90715d1cd"
          }
        },
        "30866f83fdf648bd9e2a66a51fd7a634": {
          "model_module": "@jupyter-widgets/controls",
          "model_name": "HTMLModel",
          "model_module_version": "1.5.0",
          "state": {
            "_dom_classes": [],
            "_model_module": "@jupyter-widgets/controls",
            "_model_module_version": "1.5.0",
            "_model_name": "HTMLModel",
            "_view_count": null,
            "_view_module": "@jupyter-widgets/controls",
            "_view_module_version": "1.5.0",
            "_view_name": "HTMLView",
            "description": "",
            "description_tooltip": null,
            "layout": "IPY_MODEL_213db311354c4800b33057dc6988a77f",
            "placeholder": "​",
            "style": "IPY_MODEL_589290e2e2f741bcbf1f846f55632292",
            "value": "100%"
          }
        },
        "0207236e1d76426286a15bcdb5e0bbaa": {
          "model_module": "@jupyter-widgets/controls",
          "model_name": "FloatProgressModel",
          "model_module_version": "1.5.0",
          "state": {
            "_dom_classes": [],
            "_model_module": "@jupyter-widgets/controls",
            "_model_module_version": "1.5.0",
            "_model_name": "FloatProgressModel",
            "_view_count": null,
            "_view_module": "@jupyter-widgets/controls",
            "_view_module_version": "1.5.0",
            "_view_name": "ProgressView",
            "bar_style": "success",
            "description": "",
            "description_tooltip": null,
            "layout": "IPY_MODEL_a0664ffdd93b4a518dd79f32c70a36cb",
            "max": 338,
            "min": 0,
            "orientation": "horizontal",
            "style": "IPY_MODEL_79443c86bc3e4ee89fb8d6312a1c6ce0",
            "value": 338
          }
        },
        "a0a63c5ba1ce4258982dd454fdb8c740": {
          "model_module": "@jupyter-widgets/controls",
          "model_name": "HTMLModel",
          "model_module_version": "1.5.0",
          "state": {
            "_dom_classes": [],
            "_model_module": "@jupyter-widgets/controls",
            "_model_module_version": "1.5.0",
            "_model_name": "HTMLModel",
            "_view_count": null,
            "_view_module": "@jupyter-widgets/controls",
            "_view_module_version": "1.5.0",
            "_view_name": "HTMLView",
            "description": "",
            "description_tooltip": null,
            "layout": "IPY_MODEL_07f3828365874662894319c03967f7f0",
            "placeholder": "​",
            "style": "IPY_MODEL_8c5c7f3686bb4cd6954701aaa0f4ad0f",
            "value": " 338/338 [00:00&lt;00:00,  1.83it/s]"
          }
        },
        "54a1d675422a47a0b792f1a90715d1cd": {
          "model_module": "@jupyter-widgets/base",
          "model_name": "LayoutModel",
          "model_module_version": "1.2.0",
          "state": {
            "_model_module": "@jupyter-widgets/base",
            "_model_module_version": "1.2.0",
            "_model_name": "LayoutModel",
            "_view_count": null,
            "_view_module": "@jupyter-widgets/base",
            "_view_module_version": "1.2.0",
            "_view_name": "LayoutView",
            "align_content": null,
            "align_items": null,
            "align_self": null,
            "border": null,
            "bottom": null,
            "display": null,
            "flex": null,
            "flex_flow": null,
            "grid_area": null,
            "grid_auto_columns": null,
            "grid_auto_flow": null,
            "grid_auto_rows": null,
            "grid_column": null,
            "grid_gap": null,
            "grid_row": null,
            "grid_template_areas": null,
            "grid_template_columns": null,
            "grid_template_rows": null,
            "height": null,
            "justify_content": null,
            "justify_items": null,
            "left": null,
            "margin": null,
            "max_height": null,
            "max_width": null,
            "min_height": null,
            "min_width": null,
            "object_fit": null,
            "object_position": null,
            "order": null,
            "overflow": null,
            "overflow_x": null,
            "overflow_y": null,
            "padding": null,
            "right": null,
            "top": null,
            "visibility": null,
            "width": null
          }
        },
        "213db311354c4800b33057dc6988a77f": {
          "model_module": "@jupyter-widgets/base",
          "model_name": "LayoutModel",
          "model_module_version": "1.2.0",
          "state": {
            "_model_module": "@jupyter-widgets/base",
            "_model_module_version": "1.2.0",
            "_model_name": "LayoutModel",
            "_view_count": null,
            "_view_module": "@jupyter-widgets/base",
            "_view_module_version": "1.2.0",
            "_view_name": "LayoutView",
            "align_content": null,
            "align_items": null,
            "align_self": null,
            "border": null,
            "bottom": null,
            "display": null,
            "flex": null,
            "flex_flow": null,
            "grid_area": null,
            "grid_auto_columns": null,
            "grid_auto_flow": null,
            "grid_auto_rows": null,
            "grid_column": null,
            "grid_gap": null,
            "grid_row": null,
            "grid_template_areas": null,
            "grid_template_columns": null,
            "grid_template_rows": null,
            "height": null,
            "justify_content": null,
            "justify_items": null,
            "left": null,
            "margin": null,
            "max_height": null,
            "max_width": null,
            "min_height": null,
            "min_width": null,
            "object_fit": null,
            "object_position": null,
            "order": null,
            "overflow": null,
            "overflow_x": null,
            "overflow_y": null,
            "padding": null,
            "right": null,
            "top": null,
            "visibility": null,
            "width": null
          }
        },
        "589290e2e2f741bcbf1f846f55632292": {
          "model_module": "@jupyter-widgets/controls",
          "model_name": "DescriptionStyleModel",
          "model_module_version": "1.5.0",
          "state": {
            "_model_module": "@jupyter-widgets/controls",
            "_model_module_version": "1.5.0",
            "_model_name": "DescriptionStyleModel",
            "_view_count": null,
            "_view_module": "@jupyter-widgets/base",
            "_view_module_version": "1.2.0",
            "_view_name": "StyleView",
            "description_width": ""
          }
        },
        "a0664ffdd93b4a518dd79f32c70a36cb": {
          "model_module": "@jupyter-widgets/base",
          "model_name": "LayoutModel",
          "model_module_version": "1.2.0",
          "state": {
            "_model_module": "@jupyter-widgets/base",
            "_model_module_version": "1.2.0",
            "_model_name": "LayoutModel",
            "_view_count": null,
            "_view_module": "@jupyter-widgets/base",
            "_view_module_version": "1.2.0",
            "_view_name": "LayoutView",
            "align_content": null,
            "align_items": null,
            "align_self": null,
            "border": null,
            "bottom": null,
            "display": null,
            "flex": null,
            "flex_flow": null,
            "grid_area": null,
            "grid_auto_columns": null,
            "grid_auto_flow": null,
            "grid_auto_rows": null,
            "grid_column": null,
            "grid_gap": null,
            "grid_row": null,
            "grid_template_areas": null,
            "grid_template_columns": null,
            "grid_template_rows": null,
            "height": null,
            "justify_content": null,
            "justify_items": null,
            "left": null,
            "margin": null,
            "max_height": null,
            "max_width": null,
            "min_height": null,
            "min_width": null,
            "object_fit": null,
            "object_position": null,
            "order": null,
            "overflow": null,
            "overflow_x": null,
            "overflow_y": null,
            "padding": null,
            "right": null,
            "top": null,
            "visibility": null,
            "width": null
          }
        },
        "79443c86bc3e4ee89fb8d6312a1c6ce0": {
          "model_module": "@jupyter-widgets/controls",
          "model_name": "ProgressStyleModel",
          "model_module_version": "1.5.0",
          "state": {
            "_model_module": "@jupyter-widgets/controls",
            "_model_module_version": "1.5.0",
            "_model_name": "ProgressStyleModel",
            "_view_count": null,
            "_view_module": "@jupyter-widgets/base",
            "_view_module_version": "1.2.0",
            "_view_name": "StyleView",
            "bar_color": null,
            "description_width": ""
          }
        },
        "07f3828365874662894319c03967f7f0": {
          "model_module": "@jupyter-widgets/base",
          "model_name": "LayoutModel",
          "model_module_version": "1.2.0",
          "state": {
            "_model_module": "@jupyter-widgets/base",
            "_model_module_version": "1.2.0",
            "_model_name": "LayoutModel",
            "_view_count": null,
            "_view_module": "@jupyter-widgets/base",
            "_view_module_version": "1.2.0",
            "_view_name": "LayoutView",
            "align_content": null,
            "align_items": null,
            "align_self": null,
            "border": null,
            "bottom": null,
            "display": null,
            "flex": null,
            "flex_flow": null,
            "grid_area": null,
            "grid_auto_columns": null,
            "grid_auto_flow": null,
            "grid_auto_rows": null,
            "grid_column": null,
            "grid_gap": null,
            "grid_row": null,
            "grid_template_areas": null,
            "grid_template_columns": null,
            "grid_template_rows": null,
            "height": null,
            "justify_content": null,
            "justify_items": null,
            "left": null,
            "margin": null,
            "max_height": null,
            "max_width": null,
            "min_height": null,
            "min_width": null,
            "object_fit": null,
            "object_position": null,
            "order": null,
            "overflow": null,
            "overflow_x": null,
            "overflow_y": null,
            "padding": null,
            "right": null,
            "top": null,
            "visibility": null,
            "width": null
          }
        },
        "8c5c7f3686bb4cd6954701aaa0f4ad0f": {
          "model_module": "@jupyter-widgets/controls",
          "model_name": "DescriptionStyleModel",
          "model_module_version": "1.5.0",
          "state": {
            "_model_module": "@jupyter-widgets/controls",
            "_model_module_version": "1.5.0",
            "_model_name": "DescriptionStyleModel",
            "_view_count": null,
            "_view_module": "@jupyter-widgets/base",
            "_view_module_version": "1.2.0",
            "_view_name": "StyleView",
            "description_width": ""
          }
        },
        "05207339e3fc4a1f9f70b4e3ce1aaf93": {
          "model_module": "@jupyter-widgets/controls",
          "model_name": "HBoxModel",
          "model_module_version": "1.5.0",
          "state": {
            "_dom_classes": [],
            "_model_module": "@jupyter-widgets/controls",
            "_model_module_version": "1.5.0",
            "_model_name": "HBoxModel",
            "_view_count": null,
            "_view_module": "@jupyter-widgets/controls",
            "_view_module_version": "1.5.0",
            "_view_name": "HBoxView",
            "box_style": "",
            "children": [
              "IPY_MODEL_58c80c4120b24af5a359b14816bf27b8",
              "IPY_MODEL_65fcee62a41c444f8400429583e38bea",
              "IPY_MODEL_463a2d09c784460285466e19e460696c"
            ],
            "layout": "IPY_MODEL_6d6cdf2e59284ecaa56028c140b69ae5"
          }
        },
        "58c80c4120b24af5a359b14816bf27b8": {
          "model_module": "@jupyter-widgets/controls",
          "model_name": "HTMLModel",
          "model_module_version": "1.5.0",
          "state": {
            "_dom_classes": [],
            "_model_module": "@jupyter-widgets/controls",
            "_model_module_version": "1.5.0",
            "_model_name": "HTMLModel",
            "_view_count": null,
            "_view_module": "@jupyter-widgets/controls",
            "_view_module_version": "1.5.0",
            "_view_name": "HTMLView",
            "description": "",
            "description_tooltip": null,
            "layout": "IPY_MODEL_f886728590214dec86847f4c45e770b2",
            "placeholder": "​",
            "style": "IPY_MODEL_bd147290aac247fbacbe96c7b81195d3",
            "value": "100%"
          }
        },
        "65fcee62a41c444f8400429583e38bea": {
          "model_module": "@jupyter-widgets/controls",
          "model_name": "FloatProgressModel",
          "model_module_version": "1.5.0",
          "state": {
            "_dom_classes": [],
            "_model_module": "@jupyter-widgets/controls",
            "_model_module_version": "1.5.0",
            "_model_name": "FloatProgressModel",
            "_view_count": null,
            "_view_module": "@jupyter-widgets/controls",
            "_view_module_version": "1.5.0",
            "_view_name": "ProgressView",
            "bar_style": "success",
            "description": "",
            "description_tooltip": null,
            "layout": "IPY_MODEL_50122f20e92245f0b725928a12227639",
            "max": 120,
            "min": 0,
            "orientation": "horizontal",
            "style": "IPY_MODEL_7209775031b043b7aa18daa8ebd684fa",
            "value": 120
          }
        },
        "463a2d09c784460285466e19e460696c": {
          "model_module": "@jupyter-widgets/controls",
          "model_name": "HTMLModel",
          "model_module_version": "1.5.0",
          "state": {
            "_dom_classes": [],
            "_model_module": "@jupyter-widgets/controls",
            "_model_module_version": "1.5.0",
            "_model_name": "HTMLModel",
            "_view_count": null,
            "_view_module": "@jupyter-widgets/controls",
            "_view_module_version": "1.5.0",
            "_view_name": "HTMLView",
            "description": "",
            "description_tooltip": null,
            "layout": "IPY_MODEL_283ea94e0191414495588509511e132a",
            "placeholder": "​",
            "style": "IPY_MODEL_dcdf702b67ef4f71893fcef6b42b1442",
            "value": " 120/120 [00:00&lt;00:00, 3274.11it/s]"
          }
        },
        "6d6cdf2e59284ecaa56028c140b69ae5": {
          "model_module": "@jupyter-widgets/base",
          "model_name": "LayoutModel",
          "model_module_version": "1.2.0",
          "state": {
            "_model_module": "@jupyter-widgets/base",
            "_model_module_version": "1.2.0",
            "_model_name": "LayoutModel",
            "_view_count": null,
            "_view_module": "@jupyter-widgets/base",
            "_view_module_version": "1.2.0",
            "_view_name": "LayoutView",
            "align_content": null,
            "align_items": null,
            "align_self": null,
            "border": null,
            "bottom": null,
            "display": null,
            "flex": null,
            "flex_flow": null,
            "grid_area": null,
            "grid_auto_columns": null,
            "grid_auto_flow": null,
            "grid_auto_rows": null,
            "grid_column": null,
            "grid_gap": null,
            "grid_row": null,
            "grid_template_areas": null,
            "grid_template_columns": null,
            "grid_template_rows": null,
            "height": null,
            "justify_content": null,
            "justify_items": null,
            "left": null,
            "margin": null,
            "max_height": null,
            "max_width": null,
            "min_height": null,
            "min_width": null,
            "object_fit": null,
            "object_position": null,
            "order": null,
            "overflow": null,
            "overflow_x": null,
            "overflow_y": null,
            "padding": null,
            "right": null,
            "top": null,
            "visibility": null,
            "width": null
          }
        },
        "f886728590214dec86847f4c45e770b2": {
          "model_module": "@jupyter-widgets/base",
          "model_name": "LayoutModel",
          "model_module_version": "1.2.0",
          "state": {
            "_model_module": "@jupyter-widgets/base",
            "_model_module_version": "1.2.0",
            "_model_name": "LayoutModel",
            "_view_count": null,
            "_view_module": "@jupyter-widgets/base",
            "_view_module_version": "1.2.0",
            "_view_name": "LayoutView",
            "align_content": null,
            "align_items": null,
            "align_self": null,
            "border": null,
            "bottom": null,
            "display": null,
            "flex": null,
            "flex_flow": null,
            "grid_area": null,
            "grid_auto_columns": null,
            "grid_auto_flow": null,
            "grid_auto_rows": null,
            "grid_column": null,
            "grid_gap": null,
            "grid_row": null,
            "grid_template_areas": null,
            "grid_template_columns": null,
            "grid_template_rows": null,
            "height": null,
            "justify_content": null,
            "justify_items": null,
            "left": null,
            "margin": null,
            "max_height": null,
            "max_width": null,
            "min_height": null,
            "min_width": null,
            "object_fit": null,
            "object_position": null,
            "order": null,
            "overflow": null,
            "overflow_x": null,
            "overflow_y": null,
            "padding": null,
            "right": null,
            "top": null,
            "visibility": null,
            "width": null
          }
        },
        "bd147290aac247fbacbe96c7b81195d3": {
          "model_module": "@jupyter-widgets/controls",
          "model_name": "DescriptionStyleModel",
          "model_module_version": "1.5.0",
          "state": {
            "_model_module": "@jupyter-widgets/controls",
            "_model_module_version": "1.5.0",
            "_model_name": "DescriptionStyleModel",
            "_view_count": null,
            "_view_module": "@jupyter-widgets/base",
            "_view_module_version": "1.2.0",
            "_view_name": "StyleView",
            "description_width": ""
          }
        },
        "50122f20e92245f0b725928a12227639": {
          "model_module": "@jupyter-widgets/base",
          "model_name": "LayoutModel",
          "model_module_version": "1.2.0",
          "state": {
            "_model_module": "@jupyter-widgets/base",
            "_model_module_version": "1.2.0",
            "_model_name": "LayoutModel",
            "_view_count": null,
            "_view_module": "@jupyter-widgets/base",
            "_view_module_version": "1.2.0",
            "_view_name": "LayoutView",
            "align_content": null,
            "align_items": null,
            "align_self": null,
            "border": null,
            "bottom": null,
            "display": null,
            "flex": null,
            "flex_flow": null,
            "grid_area": null,
            "grid_auto_columns": null,
            "grid_auto_flow": null,
            "grid_auto_rows": null,
            "grid_column": null,
            "grid_gap": null,
            "grid_row": null,
            "grid_template_areas": null,
            "grid_template_columns": null,
            "grid_template_rows": null,
            "height": null,
            "justify_content": null,
            "justify_items": null,
            "left": null,
            "margin": null,
            "max_height": null,
            "max_width": null,
            "min_height": null,
            "min_width": null,
            "object_fit": null,
            "object_position": null,
            "order": null,
            "overflow": null,
            "overflow_x": null,
            "overflow_y": null,
            "padding": null,
            "right": null,
            "top": null,
            "visibility": null,
            "width": null
          }
        },
        "7209775031b043b7aa18daa8ebd684fa": {
          "model_module": "@jupyter-widgets/controls",
          "model_name": "ProgressStyleModel",
          "model_module_version": "1.5.0",
          "state": {
            "_model_module": "@jupyter-widgets/controls",
            "_model_module_version": "1.5.0",
            "_model_name": "ProgressStyleModel",
            "_view_count": null,
            "_view_module": "@jupyter-widgets/base",
            "_view_module_version": "1.2.0",
            "_view_name": "StyleView",
            "bar_color": null,
            "description_width": ""
          }
        },
        "283ea94e0191414495588509511e132a": {
          "model_module": "@jupyter-widgets/base",
          "model_name": "LayoutModel",
          "model_module_version": "1.2.0",
          "state": {
            "_model_module": "@jupyter-widgets/base",
            "_model_module_version": "1.2.0",
            "_model_name": "LayoutModel",
            "_view_count": null,
            "_view_module": "@jupyter-widgets/base",
            "_view_module_version": "1.2.0",
            "_view_name": "LayoutView",
            "align_content": null,
            "align_items": null,
            "align_self": null,
            "border": null,
            "bottom": null,
            "display": null,
            "flex": null,
            "flex_flow": null,
            "grid_area": null,
            "grid_auto_columns": null,
            "grid_auto_flow": null,
            "grid_auto_rows": null,
            "grid_column": null,
            "grid_gap": null,
            "grid_row": null,
            "grid_template_areas": null,
            "grid_template_columns": null,
            "grid_template_rows": null,
            "height": null,
            "justify_content": null,
            "justify_items": null,
            "left": null,
            "margin": null,
            "max_height": null,
            "max_width": null,
            "min_height": null,
            "min_width": null,
            "object_fit": null,
            "object_position": null,
            "order": null,
            "overflow": null,
            "overflow_x": null,
            "overflow_y": null,
            "padding": null,
            "right": null,
            "top": null,
            "visibility": null,
            "width": null
          }
        },
        "dcdf702b67ef4f71893fcef6b42b1442": {
          "model_module": "@jupyter-widgets/controls",
          "model_name": "DescriptionStyleModel",
          "model_module_version": "1.5.0",
          "state": {
            "_model_module": "@jupyter-widgets/controls",
            "_model_module_version": "1.5.0",
            "_model_name": "DescriptionStyleModel",
            "_view_count": null,
            "_view_module": "@jupyter-widgets/base",
            "_view_module_version": "1.2.0",
            "_view_name": "StyleView",
            "description_width": ""
          }
        },
        "3318bd9347d34d2b9a4ca0b95ce9726f": {
          "model_module": "@jupyter-widgets/controls",
          "model_name": "HBoxModel",
          "model_module_version": "1.5.0",
          "state": {
            "_dom_classes": [],
            "_model_module": "@jupyter-widgets/controls",
            "_model_module_version": "1.5.0",
            "_model_name": "HBoxModel",
            "_view_count": null,
            "_view_module": "@jupyter-widgets/controls",
            "_view_module_version": "1.5.0",
            "_view_name": "HBoxView",
            "box_style": "",
            "children": [
              "IPY_MODEL_9e02f70717244e2a8f13d8a803a9a006",
              "IPY_MODEL_dd9806bcda3a4342bb358eb7a2c3247e",
              "IPY_MODEL_d70bdc5b87794e0cab4ff05a7adecca5"
            ],
            "layout": "IPY_MODEL_941159755dc148f8b10866f3b38d09cd"
          }
        },
        "9e02f70717244e2a8f13d8a803a9a006": {
          "model_module": "@jupyter-widgets/controls",
          "model_name": "HTMLModel",
          "model_module_version": "1.5.0",
          "state": {
            "_dom_classes": [],
            "_model_module": "@jupyter-widgets/controls",
            "_model_module_version": "1.5.0",
            "_model_name": "HTMLModel",
            "_view_count": null,
            "_view_module": "@jupyter-widgets/controls",
            "_view_module_version": "1.5.0",
            "_view_name": "HTMLView",
            "description": "",
            "description_tooltip": null,
            "layout": "IPY_MODEL_0d22bd456223497d87f9647eac98c514",
            "placeholder": "​",
            "style": "IPY_MODEL_eedb90063303485fadf404dab0f662e3",
            "value": "Running Evaluation: 100%"
          }
        },
        "dd9806bcda3a4342bb358eb7a2c3247e": {
          "model_module": "@jupyter-widgets/controls",
          "model_name": "FloatProgressModel",
          "model_module_version": "1.5.0",
          "state": {
            "_dom_classes": [],
            "_model_module": "@jupyter-widgets/controls",
            "_model_module_version": "1.5.0",
            "_model_name": "FloatProgressModel",
            "_view_count": null,
            "_view_module": "@jupyter-widgets/controls",
            "_view_module_version": "1.5.0",
            "_view_name": "ProgressView",
            "bar_style": "success",
            "description": "",
            "description_tooltip": null,
            "layout": "IPY_MODEL_5bc9eb2f807e460eaabcb2f313296a9b",
            "max": 30,
            "min": 0,
            "orientation": "horizontal",
            "style": "IPY_MODEL_f7e2590b501745a1ae9bc094f261c1fa",
            "value": 30
          }
        },
        "d70bdc5b87794e0cab4ff05a7adecca5": {
          "model_module": "@jupyter-widgets/controls",
          "model_name": "HTMLModel",
          "model_module_version": "1.5.0",
          "state": {
            "_dom_classes": [],
            "_model_module": "@jupyter-widgets/controls",
            "_model_module_version": "1.5.0",
            "_model_name": "HTMLModel",
            "_view_count": null,
            "_view_module": "@jupyter-widgets/controls",
            "_view_module_version": "1.5.0",
            "_view_name": "HTMLView",
            "description": "",
            "description_tooltip": null,
            "layout": "IPY_MODEL_74b0519002924bbda53b1ac5e8c4f601",
            "placeholder": "​",
            "style": "IPY_MODEL_ebbebbd472c34ccc877508a0198d9032",
            "value": " 30/30 [00:04&lt;00:00,  7.76it/s]"
          }
        },
        "941159755dc148f8b10866f3b38d09cd": {
          "model_module": "@jupyter-widgets/base",
          "model_name": "LayoutModel",
          "model_module_version": "1.2.0",
          "state": {
            "_model_module": "@jupyter-widgets/base",
            "_model_module_version": "1.2.0",
            "_model_name": "LayoutModel",
            "_view_count": null,
            "_view_module": "@jupyter-widgets/base",
            "_view_module_version": "1.2.0",
            "_view_name": "LayoutView",
            "align_content": null,
            "align_items": null,
            "align_self": null,
            "border": null,
            "bottom": null,
            "display": null,
            "flex": null,
            "flex_flow": null,
            "grid_area": null,
            "grid_auto_columns": null,
            "grid_auto_flow": null,
            "grid_auto_rows": null,
            "grid_column": null,
            "grid_gap": null,
            "grid_row": null,
            "grid_template_areas": null,
            "grid_template_columns": null,
            "grid_template_rows": null,
            "height": null,
            "justify_content": null,
            "justify_items": null,
            "left": null,
            "margin": null,
            "max_height": null,
            "max_width": null,
            "min_height": null,
            "min_width": null,
            "object_fit": null,
            "object_position": null,
            "order": null,
            "overflow": null,
            "overflow_x": null,
            "overflow_y": null,
            "padding": null,
            "right": null,
            "top": null,
            "visibility": null,
            "width": null
          }
        },
        "0d22bd456223497d87f9647eac98c514": {
          "model_module": "@jupyter-widgets/base",
          "model_name": "LayoutModel",
          "model_module_version": "1.2.0",
          "state": {
            "_model_module": "@jupyter-widgets/base",
            "_model_module_version": "1.2.0",
            "_model_name": "LayoutModel",
            "_view_count": null,
            "_view_module": "@jupyter-widgets/base",
            "_view_module_version": "1.2.0",
            "_view_name": "LayoutView",
            "align_content": null,
            "align_items": null,
            "align_self": null,
            "border": null,
            "bottom": null,
            "display": null,
            "flex": null,
            "flex_flow": null,
            "grid_area": null,
            "grid_auto_columns": null,
            "grid_auto_flow": null,
            "grid_auto_rows": null,
            "grid_column": null,
            "grid_gap": null,
            "grid_row": null,
            "grid_template_areas": null,
            "grid_template_columns": null,
            "grid_template_rows": null,
            "height": null,
            "justify_content": null,
            "justify_items": null,
            "left": null,
            "margin": null,
            "max_height": null,
            "max_width": null,
            "min_height": null,
            "min_width": null,
            "object_fit": null,
            "object_position": null,
            "order": null,
            "overflow": null,
            "overflow_x": null,
            "overflow_y": null,
            "padding": null,
            "right": null,
            "top": null,
            "visibility": null,
            "width": null
          }
        },
        "eedb90063303485fadf404dab0f662e3": {
          "model_module": "@jupyter-widgets/controls",
          "model_name": "DescriptionStyleModel",
          "model_module_version": "1.5.0",
          "state": {
            "_model_module": "@jupyter-widgets/controls",
            "_model_module_version": "1.5.0",
            "_model_name": "DescriptionStyleModel",
            "_view_count": null,
            "_view_module": "@jupyter-widgets/base",
            "_view_module_version": "1.2.0",
            "_view_name": "StyleView",
            "description_width": ""
          }
        },
        "5bc9eb2f807e460eaabcb2f313296a9b": {
          "model_module": "@jupyter-widgets/base",
          "model_name": "LayoutModel",
          "model_module_version": "1.2.0",
          "state": {
            "_model_module": "@jupyter-widgets/base",
            "_model_module_version": "1.2.0",
            "_model_name": "LayoutModel",
            "_view_count": null,
            "_view_module": "@jupyter-widgets/base",
            "_view_module_version": "1.2.0",
            "_view_name": "LayoutView",
            "align_content": null,
            "align_items": null,
            "align_self": null,
            "border": null,
            "bottom": null,
            "display": null,
            "flex": null,
            "flex_flow": null,
            "grid_area": null,
            "grid_auto_columns": null,
            "grid_auto_flow": null,
            "grid_auto_rows": null,
            "grid_column": null,
            "grid_gap": null,
            "grid_row": null,
            "grid_template_areas": null,
            "grid_template_columns": null,
            "grid_template_rows": null,
            "height": null,
            "justify_content": null,
            "justify_items": null,
            "left": null,
            "margin": null,
            "max_height": null,
            "max_width": null,
            "min_height": null,
            "min_width": null,
            "object_fit": null,
            "object_position": null,
            "order": null,
            "overflow": null,
            "overflow_x": null,
            "overflow_y": null,
            "padding": null,
            "right": null,
            "top": null,
            "visibility": null,
            "width": null
          }
        },
        "f7e2590b501745a1ae9bc094f261c1fa": {
          "model_module": "@jupyter-widgets/controls",
          "model_name": "ProgressStyleModel",
          "model_module_version": "1.5.0",
          "state": {
            "_model_module": "@jupyter-widgets/controls",
            "_model_module_version": "1.5.0",
            "_model_name": "ProgressStyleModel",
            "_view_count": null,
            "_view_module": "@jupyter-widgets/base",
            "_view_module_version": "1.2.0",
            "_view_name": "StyleView",
            "bar_color": null,
            "description_width": ""
          }
        },
        "74b0519002924bbda53b1ac5e8c4f601": {
          "model_module": "@jupyter-widgets/base",
          "model_name": "LayoutModel",
          "model_module_version": "1.2.0",
          "state": {
            "_model_module": "@jupyter-widgets/base",
            "_model_module_version": "1.2.0",
            "_model_name": "LayoutModel",
            "_view_count": null,
            "_view_module": "@jupyter-widgets/base",
            "_view_module_version": "1.2.0",
            "_view_name": "LayoutView",
            "align_content": null,
            "align_items": null,
            "align_self": null,
            "border": null,
            "bottom": null,
            "display": null,
            "flex": null,
            "flex_flow": null,
            "grid_area": null,
            "grid_auto_columns": null,
            "grid_auto_flow": null,
            "grid_auto_rows": null,
            "grid_column": null,
            "grid_gap": null,
            "grid_row": null,
            "grid_template_areas": null,
            "grid_template_columns": null,
            "grid_template_rows": null,
            "height": null,
            "justify_content": null,
            "justify_items": null,
            "left": null,
            "margin": null,
            "max_height": null,
            "max_width": null,
            "min_height": null,
            "min_width": null,
            "object_fit": null,
            "object_position": null,
            "order": null,
            "overflow": null,
            "overflow_x": null,
            "overflow_y": null,
            "padding": null,
            "right": null,
            "top": null,
            "visibility": null,
            "width": null
          }
        },
        "ebbebbd472c34ccc877508a0198d9032": {
          "model_module": "@jupyter-widgets/controls",
          "model_name": "DescriptionStyleModel",
          "model_module_version": "1.5.0",
          "state": {
            "_model_module": "@jupyter-widgets/controls",
            "_model_module_version": "1.5.0",
            "_model_name": "DescriptionStyleModel",
            "_view_count": null,
            "_view_module": "@jupyter-widgets/base",
            "_view_module_version": "1.2.0",
            "_view_name": "StyleView",
            "description_width": ""
          }
        }
      }
    }
  },
  "cells": [
    {
      "cell_type": "code",
      "metadata": {
        "colab": {
          "base_uri": "https://localhost:8080/"
        },
        "id": "UTfGP2b6Adn3",
        "outputId": "736cef8b-2b9e-4dbd-949c-db023aed342e"
      },
      "source": [
        "!pip install transformers\n",
        "!pip install gensim\n",
        "!pip install pymorphy2"
      ],
      "execution_count": 1,
      "outputs": [
        {
          "output_type": "stream",
          "name": "stdout",
          "text": [
            "Collecting transformers\n",
            "  Downloading transformers-4.11.3-py3-none-any.whl (2.9 MB)\n",
            "\u001b[K     |████████████████████████████████| 2.9 MB 5.0 MB/s \n",
            "\u001b[?25hRequirement already satisfied: filelock in /usr/local/lib/python3.7/dist-packages (from transformers) (3.3.0)\n",
            "Collecting sacremoses\n",
            "  Downloading sacremoses-0.0.46-py3-none-any.whl (895 kB)\n",
            "\u001b[K     |████████████████████████████████| 895 kB 54.4 MB/s \n",
            "\u001b[?25hCollecting huggingface-hub>=0.0.17\n",
            "  Downloading huggingface_hub-0.0.19-py3-none-any.whl (56 kB)\n",
            "\u001b[K     |████████████████████████████████| 56 kB 4.2 MB/s \n",
            "\u001b[?25hRequirement already satisfied: packaging>=20.0 in /usr/local/lib/python3.7/dist-packages (from transformers) (21.0)\n",
            "Collecting tokenizers<0.11,>=0.10.1\n",
            "  Downloading tokenizers-0.10.3-cp37-cp37m-manylinux_2_5_x86_64.manylinux1_x86_64.manylinux_2_12_x86_64.manylinux2010_x86_64.whl (3.3 MB)\n",
            "\u001b[K     |████████████████████████████████| 3.3 MB 33.5 MB/s \n",
            "\u001b[?25hRequirement already satisfied: importlib-metadata in /usr/local/lib/python3.7/dist-packages (from transformers) (4.8.1)\n",
            "Requirement already satisfied: requests in /usr/local/lib/python3.7/dist-packages (from transformers) (2.23.0)\n",
            "Requirement already satisfied: regex!=2019.12.17 in /usr/local/lib/python3.7/dist-packages (from transformers) (2019.12.20)\n",
            "Requirement already satisfied: tqdm>=4.27 in /usr/local/lib/python3.7/dist-packages (from transformers) (4.62.3)\n",
            "Requirement already satisfied: numpy>=1.17 in /usr/local/lib/python3.7/dist-packages (from transformers) (1.19.5)\n",
            "Collecting pyyaml>=5.1\n",
            "  Downloading PyYAML-6.0-cp37-cp37m-manylinux_2_5_x86_64.manylinux1_x86_64.manylinux_2_12_x86_64.manylinux2010_x86_64.whl (596 kB)\n",
            "\u001b[K     |████████████████████████████████| 596 kB 66.4 MB/s \n",
            "\u001b[?25hRequirement already satisfied: typing-extensions in /usr/local/lib/python3.7/dist-packages (from huggingface-hub>=0.0.17->transformers) (3.7.4.3)\n",
            "Requirement already satisfied: pyparsing>=2.0.2 in /usr/local/lib/python3.7/dist-packages (from packaging>=20.0->transformers) (2.4.7)\n",
            "Requirement already satisfied: zipp>=0.5 in /usr/local/lib/python3.7/dist-packages (from importlib-metadata->transformers) (3.6.0)\n",
            "Requirement already satisfied: certifi>=2017.4.17 in /usr/local/lib/python3.7/dist-packages (from requests->transformers) (2021.5.30)\n",
            "Requirement already satisfied: chardet<4,>=3.0.2 in /usr/local/lib/python3.7/dist-packages (from requests->transformers) (3.0.4)\n",
            "Requirement already satisfied: idna<3,>=2.5 in /usr/local/lib/python3.7/dist-packages (from requests->transformers) (2.10)\n",
            "Requirement already satisfied: urllib3!=1.25.0,!=1.25.1,<1.26,>=1.21.1 in /usr/local/lib/python3.7/dist-packages (from requests->transformers) (1.24.3)\n",
            "Requirement already satisfied: six in /usr/local/lib/python3.7/dist-packages (from sacremoses->transformers) (1.15.0)\n",
            "Requirement already satisfied: click in /usr/local/lib/python3.7/dist-packages (from sacremoses->transformers) (7.1.2)\n",
            "Requirement already satisfied: joblib in /usr/local/lib/python3.7/dist-packages (from sacremoses->transformers) (1.0.1)\n",
            "Installing collected packages: pyyaml, tokenizers, sacremoses, huggingface-hub, transformers\n",
            "  Attempting uninstall: pyyaml\n",
            "    Found existing installation: PyYAML 3.13\n",
            "    Uninstalling PyYAML-3.13:\n",
            "      Successfully uninstalled PyYAML-3.13\n",
            "Successfully installed huggingface-hub-0.0.19 pyyaml-6.0 sacremoses-0.0.46 tokenizers-0.10.3 transformers-4.11.3\n",
            "Requirement already satisfied: gensim in /usr/local/lib/python3.7/dist-packages (3.6.0)\n",
            "Requirement already satisfied: smart-open>=1.2.1 in /usr/local/lib/python3.7/dist-packages (from gensim) (5.2.1)\n",
            "Requirement already satisfied: six>=1.5.0 in /usr/local/lib/python3.7/dist-packages (from gensim) (1.15.0)\n",
            "Requirement already satisfied: numpy>=1.11.3 in /usr/local/lib/python3.7/dist-packages (from gensim) (1.19.5)\n",
            "Requirement already satisfied: scipy>=0.18.1 in /usr/local/lib/python3.7/dist-packages (from gensim) (1.4.1)\n",
            "Collecting pymorphy2\n",
            "  Downloading pymorphy2-0.9.1-py3-none-any.whl (55 kB)\n",
            "\u001b[K     |████████████████████████████████| 55 kB 2.4 MB/s \n",
            "\u001b[?25hRequirement already satisfied: docopt>=0.6 in /usr/local/lib/python3.7/dist-packages (from pymorphy2) (0.6.2)\n",
            "Collecting dawg-python>=0.7.1\n",
            "  Downloading DAWG_Python-0.7.2-py2.py3-none-any.whl (11 kB)\n",
            "Collecting pymorphy2-dicts-ru<3.0,>=2.4\n",
            "  Downloading pymorphy2_dicts_ru-2.4.417127.4579844-py2.py3-none-any.whl (8.2 MB)\n",
            "\u001b[K     |████████████████████████████████| 8.2 MB 8.0 MB/s \n",
            "\u001b[?25hInstalling collected packages: pymorphy2-dicts-ru, dawg-python, pymorphy2\n",
            "Successfully installed dawg-python-0.7.2 pymorphy2-0.9.1 pymorphy2-dicts-ru-2.4.417127.4579844\n"
          ]
        }
      ]
    },
    {
      "cell_type": "code",
      "metadata": {
        "colab": {
          "base_uri": "https://localhost:8080/"
        },
        "id": "hRYkmf3b98vd",
        "outputId": "060c0305-bc0e-4187-ecac-2e435d9bb727"
      },
      "source": [
        "import torch\n",
        "import numpy as np\n",
        "import gensim\n",
        "import os\n",
        "from tqdm import tqdm\n",
        "import random\n",
        "import pymorphy2\n",
        "import matplotlib.pyplot as plt\n",
        "import nltk\n",
        "from nltk.tokenize import word_tokenize\n",
        "from nltk.tokenize.treebank import TreebankWordDetokenizer\n",
        "import pandas as pd\n",
        "from keras.preprocessing.sequence import pad_sequences\n",
        "from scipy.spatial import distance\n",
        "\n",
        "random.seed(44)\n",
        "morph = pymorphy2.MorphAnalyzer()\n",
        "nltk.download('punkt')"
      ],
      "execution_count": 2,
      "outputs": [
        {
          "output_type": "stream",
          "name": "stdout",
          "text": [
            "[nltk_data] Downloading package punkt to /root/nltk_data...\n",
            "[nltk_data]   Unzipping tokenizers/punkt.zip.\n"
          ]
        },
        {
          "output_type": "execute_result",
          "data": {
            "text/plain": [
              "True"
            ]
          },
          "metadata": {},
          "execution_count": 2
        }
      ]
    },
    {
      "cell_type": "code",
      "metadata": {
        "colab": {
          "base_uri": "https://localhost:8080/"
        },
        "id": "2eBy3gkDyfX7",
        "outputId": "c9760853-d134-4b36-8118-483ac68ee0c2"
      },
      "source": [
        "from google.colab import drive\n",
        "# drive.flush_and_unmount()\n",
        "drive.mount('/content/drive')"
      ],
      "execution_count": 3,
      "outputs": [
        {
          "output_type": "stream",
          "name": "stdout",
          "text": [
            "Mounted at /content/drive\n"
          ]
        }
      ]
    },
    {
      "cell_type": "markdown",
      "metadata": {
        "id": "uutcynDI4eGt"
      },
      "source": [
        "### Navec Russian dataset"
      ]
    },
    {
      "cell_type": "code",
      "metadata": {
        "colab": {
          "base_uri": "https://localhost:8080/"
        },
        "id": "x2rnPM9D4MGG",
        "outputId": "84b0fcdf-0d99-42f8-b728-03a092650148"
      },
      "source": [
        "!pip install navec\n",
        "!wget https://storage.yandexcloud.net/natasha-navec/packs/navec_hudlit_v1_12B_500K_300d_100q.tar"
      ],
      "execution_count": 4,
      "outputs": [
        {
          "output_type": "stream",
          "name": "stdout",
          "text": [
            "Collecting navec\n",
            "  Downloading navec-0.10.0-py3-none-any.whl (23 kB)\n",
            "Requirement already satisfied: numpy in /usr/local/lib/python3.7/dist-packages (from navec) (1.19.5)\n",
            "Installing collected packages: navec\n",
            "Successfully installed navec-0.10.0\n",
            "--2021-10-17 06:24:38--  https://storage.yandexcloud.net/natasha-navec/packs/navec_hudlit_v1_12B_500K_300d_100q.tar\n",
            "Resolving storage.yandexcloud.net (storage.yandexcloud.net)... 213.180.193.243, 2a02:6b8::1d9\n",
            "Connecting to storage.yandexcloud.net (storage.yandexcloud.net)|213.180.193.243|:443... connected.\n",
            "HTTP request sent, awaiting response... 200 OK\n",
            "Length: 53012480 (51M) [application/x-tar]\n",
            "Saving to: ‘navec_hudlit_v1_12B_500K_300d_100q.tar’\n",
            "\n",
            "navec_hudlit_v1_12B 100%[===================>]  50.56M  15.9MB/s    in 3.2s    \n",
            "\n",
            "2021-10-17 06:24:42 (15.9 MB/s) - ‘navec_hudlit_v1_12B_500K_300d_100q.tar’ saved [53012480/53012480]\n",
            "\n"
          ]
        }
      ]
    },
    {
      "cell_type": "code",
      "metadata": {
        "id": "uIz6bZo24hY-"
      },
      "source": [
        "from navec import Navec"
      ],
      "execution_count": 5,
      "outputs": []
    },
    {
      "cell_type": "code",
      "metadata": {
        "id": "Fca8Xg5b4o96"
      },
      "source": [
        "path = 'navec_hudlit_v1_12B_500K_300d_100q.tar'\n",
        "navec = Navec.load(path)"
      ],
      "execution_count": 6,
      "outputs": []
    },
    {
      "cell_type": "code",
      "metadata": {
        "colab": {
          "base_uri": "https://localhost:8080/"
        },
        "id": "OS1TEa0s45ZY",
        "outputId": "5e4f9b00-5ff8-41b4-b1e9-364b799f03de"
      },
      "source": [
        "navec['хороший'].shape"
      ],
      "execution_count": 7,
      "outputs": [
        {
          "output_type": "execute_result",
          "data": {
            "text/plain": [
              "(300,)"
            ]
          },
          "metadata": {},
          "execution_count": 7
        }
      ]
    },
    {
      "cell_type": "markdown",
      "metadata": {
        "id": "BCC42veY4YTX"
      },
      "source": [
        "### Predict mask by cosine + bert. First word created random"
      ]
    },
    {
      "cell_type": "code",
      "metadata": {
        "id": "ma_wH_rxuENj"
      },
      "source": [
        "categories = np.array([\"животные\", \"музыка\", \"спорт\", \"литература\"])\n",
        "categories_eng = np.array([\"animals\", \"music\", \"sport\", \"literature\"])\n",
        "data_dir = '/content/drive/MyDrive/datasets/AIIJC/'\n",
        "keywords_dir = data_dir + 'bright_keywords'\n",
        "\n",
        "with open(keywords_dir + '/keywords_tasks.txt', 'r') as f:\n",
        "  words = f.read()\n",
        "  words = [morph.parse(token.lower())[0].normal_form for token in words.split('\\n')]\n",
        "  keywords_tasks = set(words)\n",
        "\n",
        "nouns_actors = [[] for i in range(4)]\n",
        "for i, cat in enumerate(categories_eng):\n",
        "  with open(keywords_dir + f'/actors/true_keywords_nouns_actors_{cat}.txt', 'r') as f:\n",
        "    words = f.read()\n",
        "  \n",
        "  for el in words.split('\\n')[:-1]:\n",
        "    if not el in keywords_tasks:\n",
        "      nouns_actors[i].append(el)\n",
        "\n",
        "  \n",
        "\n",
        "nouns = [[] for i in range(4)]\n",
        "for i, cat in enumerate(categories_eng):\n",
        "  with open(keywords_dir + f'/nouns/true_keywords_nouns_{cat}.txt', 'r') as f:\n",
        "    words = f.read()\n",
        "  for el in words.split('\\n')[:-1]:\n",
        "    if not el in keywords_tasks:\n",
        "      nouns[i].append(el)\n",
        "\n",
        "  with open(keywords_dir + f'/wow_keywords/wow_keywords_{cat}.txt', 'r') as f:\n",
        "    words = f.read()\n",
        "  for el in words.split('\\n')[:-1]:\n",
        "      if not el in keywords_tasks and 'NOUN' in morph.parse(el)[0].tag:\n",
        "        nouns[i].append(el)\n"
      ],
      "execution_count": 8,
      "outputs": []
    },
    {
      "cell_type": "code",
      "metadata": {
        "id": "OxtdHm571gKC"
      },
      "source": [
        "from typing import List\n",
        "class MaskCreator():\n",
        "  def __init__(self, bigram_model, nouns, nouns_actors):\n",
        "    self.morph = pymorphy2.MorphAnalyzer()\n",
        "    self.tokenizer = nltk.WordPunctTokenizer()\n",
        "    self.bigram_mod = gensim.models.Phrases.load(bigram_model)\n",
        "    self.nouns = nouns\n",
        "    self.nouns_actors = nouns_actors\n",
        "\n",
        "  def make_bigrams(self, doc):\n",
        "      return self.bigram_mod[doc]\n",
        "  \n",
        "  def mask(self, text, category=4):\n",
        "    masks_dict = []\n",
        "    tokens = self.tokenizer.tokenize(text.lower())\n",
        "    tokens_normal = [self.morph.parse(w)[0].normal_form for w in tokens]\n",
        "    tokens_bigrammed = self.make_bigrams(tokens_normal)\n",
        "    \n",
        "    if len(tokens_bigrammed) < len(tokens):\n",
        "      ind_go = 0\n",
        "      for i in range(len(tokens_bigrammed)):\n",
        "        if tokens_normal[ind_go] != tokens_bigrammed[i]:\n",
        "          tokens = tokens[:ind_go] + [tokens_bigrammed[i]] + tokens[ind_go+2:]\n",
        "          ind_go += 2\n",
        "        else:\n",
        "          ind_go += 1\n",
        "\n",
        "    if category == 4:\n",
        "      now_keywords = self.nouns[0] + self.nouns[1] + self.nouns[2] + self.nouns[3]\n",
        "    else:\n",
        "      now_keywords = self.nouns[category] + self.nouns_actors[category]\n",
        "\n",
        "    prev_words = []\n",
        "    for ind, token in enumerate(tokens):\n",
        "      word = self.morph.parse(token.lower())[0].normal_form\n",
        "      if word in now_keywords:\n",
        "        if word not in masks_dict:\n",
        "          masks_dict.append(word)\n",
        "        prev_words.append(tokens[ind])\n",
        "        tokens[ind] = 'mask' + str(masks_dict.index(word, 0))\n",
        "    text = nltk.tokenize.treebank.TreebankWordDetokenizer().detokenize(tokens)\n",
        "    return text, masks_dict"
      ],
      "execution_count": 14,
      "outputs": []
    },
    {
      "cell_type": "code",
      "metadata": {
        "id": "9FXGeUXU7NYA"
      },
      "source": [
        "for i in range(4):\n",
        "  nouns_actors[i] = [word for word in nouns_actors[i] if navec.get(word) is not None]"
      ],
      "execution_count": 11,
      "outputs": []
    },
    {
      "cell_type": "code",
      "metadata": {
        "id": "6jPo6a962XDR"
      },
      "source": [
        "mask_creator = MaskCreator(os.path.join(data_dir, 'bigram_model.pkl'),\n",
        "                           nouns, \n",
        "                           nouns_actors)"
      ],
      "execution_count": 15,
      "outputs": []
    },
    {
      "cell_type": "code",
      "metadata": {
        "id": "hzflxWev-rjT"
      },
      "source": [
        "def find_best(ideal_dist, vocab, new_masks, top_k=1):\n",
        "  top = []\n",
        "  for i in range(top_k):\n",
        "    min_val = 1\n",
        "    min_new_word = ''\n",
        "    for new_word in vocab:\n",
        "      if not new_word in navec \\\n",
        "            or new_word in new_masks \\\n",
        "            or new_word in top:\n",
        "        continue\n",
        "      now_dist = distance.cosine(navec[new_word], ideal_dist)\n",
        "      if now_dist < min_val:\n",
        "        min_val = now_dist\n",
        "        min_new_word = new_word\n",
        "    top.append(min_new_word)\n",
        "\n",
        "  return top"
      ],
      "execution_count": 13,
      "outputs": []
    },
    {
      "cell_type": "code",
      "metadata": {
        "id": "SDPAx0SvA4i5"
      },
      "source": [
        "def detect_class(word):\n",
        "  dist = 1\n",
        "  res = None\n",
        "  for class_name in categories:\n",
        "    now_dist = distance.cosine(navec[word], navec[class_name])\n",
        "    if now_dist < dist:\n",
        "      dist = now_dist\n",
        "      res = class_name\n",
        "  return res"
      ],
      "execution_count": 16,
      "outputs": []
    },
    {
      "cell_type": "code",
      "metadata": {
        "colab": {
          "base_uri": "https://localhost:8080/"
        },
        "id": "TQXb4MA-LbgT",
        "outputId": "346a5187-e023-4740-b442-192c2b906444"
      },
      "source": [
        "import collections\n",
        "navec_nouns = collections.defaultdict(list)\n",
        "vocab_nouns = [k for k in tqdm(navec.vocab.words) if 'NOUN' in morph.parse(k)[0].tag]\n",
        "\n",
        "for el in vocab_nouns:\n",
        "  navec_nouns[detect_class(el)].append(el)"
      ],
      "execution_count": 24,
      "outputs": [
        {
          "output_type": "stream",
          "name": "stderr",
          "text": [
            "100%|██████████| 500002/500002 [01:47<00:00, 4658.04it/s]\n"
          ]
        }
      ]
    },
    {
      "cell_type": "code",
      "metadata": {
        "colab": {
          "base_uri": "https://localhost:8080/"
        },
        "id": "5-MoJItpCGoV",
        "outputId": "cd16b769-c34f-4f0f-e6c2-820185ffc04e"
      },
      "source": [
        "find_best(navec['желудь'] + navec['спорт'] - navec['животное'], nouns[2], ['спорт'], 3)"
      ],
      "execution_count": 81,
      "outputs": [
        {
          "output_type": "execute_result",
          "data": {
            "text/plain": [
              "['хоккей', 'баскетбол', 'волейбол']"
            ]
          },
          "metadata": {},
          "execution_count": 81
        }
      ]
    },
    {
      "cell_type": "code",
      "metadata": {
        "colab": {
          "base_uri": "https://localhost:8080/"
        },
        "id": "ub2pE7Z7O0qc",
        "outputId": "2e546c6d-e36d-423e-8209-11521c76dc05"
      },
      "source": [
        "find_best(navec['желудь'] + navec['спортсмен'] - navec['хищник'], nouns[0], ['спорт'], 3)"
      ],
      "execution_count": 82,
      "outputs": [
        {
          "output_type": "execute_result",
          "data": {
            "text/plain": [
              "['альпинист', 'дуб', 'рекордсмен']"
            ]
          },
          "metadata": {},
          "execution_count": 82
        }
      ]
    },
    {
      "cell_type": "code",
      "metadata": {
        "id": "VhH7GWjg9hgJ"
      },
      "source": [
        "def convert(sentence, category_from, category_to, first_clever, second_navec_vocab, diffrent_category) :\n",
        "  sentence_with_masks, masks = mask_creator.mask(sentence)\n",
        "  # print(sentence_with_masks)\n",
        "  new_masks = ['' for i in range(len(masks))]\n",
        "  words_in_sentence = word_tokenize(sentence_with_masks)\n",
        "  get_first_mask = False\n",
        "  for word in words_in_sentence:\n",
        "    if word[:4] == 'mask' and masks[int(word[4:])] in nouns_actors[category_from]:\n",
        "      first_mask = navec[masks[int(word[4:])]]\n",
        "      if first_clever:\n",
        "        top = find_best(first_mask + navec[categories[category_to]] - navec[categories[category_from]], \n",
        "                             nouns_actors[category_to], [], 4)\n",
        "        new_word = top[random.randint(0, 3)]\n",
        "      else:\n",
        "        new_word = nouns_actors[category_to][random.randint(0, 5)]\n",
        "\n",
        "      new_first_mask = navec[new_word]\n",
        "      new_masks[int(word[4:])] = new_word\n",
        "      get_first_mask = True\n",
        "      break\n",
        "\n",
        "  if second_navec_vocab:\n",
        "    vocab_nouns = navec_nouns[categories[category_to]]\n",
        "  else:\n",
        "    vocab_nouns = nouns[category_to]\n",
        "\n",
        "  for ind, word in enumerate(words_in_sentence):\n",
        "    if word[:4] == 'mask':\n",
        "      if not get_first_mask:\n",
        "        first_mask = navec[masks[int(word[4:])]]\n",
        "        new_word = nouns[category_to][random.randint(0, 19)]\n",
        "        new_first_mask = navec[new_word]\n",
        "        new_masks[int(word[4:])] = new_word\n",
        "        get_first_mask = True\n",
        "      elif new_masks[int(word[4:])] == '':\n",
        "        if navec.get(masks[int(word[4:])]) is None:\n",
        "          new_masks[int(word[4:])] = masks[int(word[4:])]\n",
        "          # print(\"None in navic\")\n",
        "          continue\n",
        "\n",
        "        if diffrent_category :\n",
        "          ideal_dist = navec[masks[int(word[4:])]] - navec[categories[category_from]] + navec[categories[category_to]]\n",
        "        else:\n",
        "          ideal_dist = new_first_mask - first_mask + navec[masks[int(word[4:])]]\n",
        "        \n",
        "        new_masks[int(word[4:])] = find_best(ideal_dist=ideal_dist,\n",
        "                                             vocab=vocab_nouns,\n",
        "                                             new_masks=new_masks)[0]\n",
        "      words_in_sentence[ind] = new_masks[int(word[4:])]\n",
        "  \n",
        "  return ' '.join(words_in_sentence), new_masks"
      ],
      "execution_count": 17,
      "outputs": []
    },
    {
      "cell_type": "code",
      "metadata": {
        "colab": {
          "base_uri": "https://localhost:8080/",
          "height": 201
        },
        "id": "0-a37c4gH6_u",
        "outputId": "98ae2ec4-f619-42b1-f0e8-94a158fdc1b5"
      },
      "source": [
        "data = pd.read_csv('marked_test.csv')\n",
        "data.head()"
      ],
      "execution_count": 20,
      "outputs": [
        {
          "output_type": "execute_result",
          "data": {
            "text/html": [
              "<div>\n",
              "<style scoped>\n",
              "    .dataframe tbody tr th:only-of-type {\n",
              "        vertical-align: middle;\n",
              "    }\n",
              "\n",
              "    .dataframe tbody tr th {\n",
              "        vertical-align: top;\n",
              "    }\n",
              "\n",
              "    .dataframe thead th {\n",
              "        text-align: right;\n",
              "    }\n",
              "</style>\n",
              "<table border=\"1\" class=\"dataframe\">\n",
              "  <thead>\n",
              "    <tr style=\"text-align: right;\">\n",
              "      <th></th>\n",
              "      <th>Unnamed: 0</th>\n",
              "      <th>task</th>\n",
              "      <th>ans</th>\n",
              "    </tr>\n",
              "  </thead>\n",
              "  <tbody>\n",
              "    <tr>\n",
              "      <th>0</th>\n",
              "      <td>0</td>\n",
              "      <td>Вопрос 1 Денис готовится провести соревнования...</td>\n",
              "      <td>спорт</td>\n",
              "    </tr>\n",
              "    <tr>\n",
              "      <th>1</th>\n",
              "      <td>1</td>\n",
              "      <td>Реши задачу.\\nСколько коробок корма для собак ...</td>\n",
              "      <td>животные</td>\n",
              "    </tr>\n",
              "    <tr>\n",
              "      <th>2</th>\n",
              "      <td>2</td>\n",
              "      <td>Если групп элементов несколько, то применяется...</td>\n",
              "      <td>спорт</td>\n",
              "    </tr>\n",
              "    <tr>\n",
              "      <th>3</th>\n",
              "      <td>3</td>\n",
              "      <td>Вопрос1                                       ...</td>\n",
              "      <td>животные</td>\n",
              "    </tr>\n",
              "    <tr>\n",
              "      <th>4</th>\n",
              "      <td>4</td>\n",
              "      <td>Для наглядной геометрической иллюстрации объём...</td>\n",
              "      <td>спорт</td>\n",
              "    </tr>\n",
              "  </tbody>\n",
              "</table>\n",
              "</div>"
            ],
            "text/plain": [
              "   Unnamed: 0                                               task       ans\n",
              "0           0  Вопрос 1 Денис готовится провести соревнования...     спорт\n",
              "1           1  Реши задачу.\\nСколько коробок корма для собак ...  животные\n",
              "2           2  Если групп элементов несколько, то применяется...     спорт\n",
              "3           3  Вопрос1                                       ...  животные\n",
              "4           4  Для наглядной геометрической иллюстрации объём...     спорт"
            ]
          },
          "metadata": {},
          "execution_count": 20
        }
      ]
    },
    {
      "cell_type": "code",
      "metadata": {
        "colab": {
          "base_uri": "https://localhost:8080/"
        },
        "id": "vg_OmBGR4xtE",
        "outputId": "5abc86e7-ad66-45f4-ea79-bc7aff8c5a08"
      },
      "source": [
        "for second_navec_vocab in [False]:\n",
        "  for diffrent_category in [False]:\n",
        "    for i in tqdm(range(len(data))):\n",
        "      category_from = np.argmax(data.at[i, 'ans'] == categories)\n",
        "      sentence = data.at[i, 'task']\n",
        "      for category_to in range(4):\n",
        "        name = categories_eng[category_to]\n",
        "        if category_from != category_to:\n",
        "          data.at[i, name], _ = convert(sentence, category_from, category_to, True, second_navec_vocab, diffrent_category)\n"
      ],
      "execution_count": 21,
      "outputs": [
        {
          "output_type": "stream",
          "name": "stderr",
          "text": [
            "100%|██████████| 514/514 [14:39<00:00,  1.71s/it]\n"
          ]
        }
      ]
    },
    {
      "cell_type": "code",
      "metadata": {
        "id": "xeCa1bnx_jFT"
      },
      "source": [
        "data.to_csv('result.csv')"
      ],
      "execution_count": 22,
      "outputs": []
    },
    {
      "cell_type": "code",
      "metadata": {
        "id": "B2Ft9174skvH"
      },
      "source": [
        "data.to_csv('/content/drive/MyDrive/datasets/AIIJC/data_navic_and_keywords_predicted.csv')"
      ],
      "execution_count": 127,
      "outputs": []
    },
    {
      "cell_type": "code",
      "metadata": {
        "colab": {
          "base_uri": "https://localhost:8080/"
        },
        "id": "D9yNm3uZOAtZ",
        "outputId": "507b7482-9c16-463a-f487-4560144c9a08"
      },
      "source": [
        "idx = 2\n",
        "print(data.at[idx, 'ans'])\n",
        "for cat in categories:\n",
        "  print(cat, data.at[idx, cat].replace('\\n', ' ').replace('\\t', ' '))"
      ],
      "execution_count": 114,
      "outputs": [
        {
          "output_type": "stream",
          "name": "stdout",
          "text": [
            "спорт\n",
            "животные если групп элементов несколько , то применяется птица птичка . если необходимо выбрать элементы из одной группы и элементы из другой , то количество способов выбрать элементы из обеих групп будет равно исходя из этого , реши задачу . для получения куропатка по физической культуре учащимся нужно выбрать направление в котром бы они занимались в течение года и сдавали куропатка . по легкой отелитики предполагается 1 группа , по петух — 2 группы , по ласточка — 1 группа . сколько есть вариантов выбора навравления существует ?\n",
            "музыка если групп элементов несколько , то применяется октав сложение . если необходимо выбрать элементы из одной группы и элементы из другой , то количество способов выбрать элементы из обеих групп будет равно исходя из этого , реши задачу . для получения машо по физической культуре учащимся нужно выбрать направление в котром бы они занимались в течение года и сдавали машо . по легкой отелитики предполагается 1 группа , по фортепиано — 2 группы , по гобой — 1 группа . сколько есть вариантов выбора навравления существует ?\n",
            "спорт Если групп элементов несколько, то применяется закон сложения. Если необходимо выбрать  элементы из одной группы и элементы из другой, то количество способов выбрать элементы из обеих групп будет равно  Исходя из этого, реши задачу. Для получения зачета по физической культуре учащимся нужно выбрать направление в котром бы они занимались в течение года и сдавали зачет. По легкой отелитики предполагается 1 группа,  по футболу — 2 группы, по волейболу — 1 группа. Сколько есть вариантов выбора навравления существует?\n",
            "литература если групп элементов несколько , то применяется писатель прозаик . если необходимо выбрать элементы из одной группы и элементы из другой , то количество способов выбрать элементы из обеих групп будет равно исходя из этого , реши задачу . для получения литератор по физической культуре учащимся нужно выбрать направление в котром бы они занимались в течение года и сдавали литератор . по легкой отелитики предполагается 1 группа , по критик — 2 группы , по куприн — 1 группа . сколько есть вариантов выбора навравления существует ?\n"
          ]
        }
      ]
    },
    {
      "cell_type": "markdown",
      "metadata": {
        "id": "b7_pr_dz1_fx"
      },
      "source": [
        "### Bert + cosine + the main character"
      ]
    },
    {
      "cell_type": "code",
      "metadata": {
        "colab": {
          "base_uri": "https://localhost:8080/"
        },
        "id": "Gq0tT4vyYSc-",
        "outputId": "5866734d-45f2-442c-8144-49671d4588d3"
      },
      "source": [
        "from transformers import AutoTokenizer, AutoModelForMaskedLM\n",
        "from transformers import BertTokenizer, BertForMaskedLM\n",
        "\n",
        "tokenizer = BertTokenizer.from_pretrained(\"bert-base-multilingual-cased\")\n",
        "model = BertForMaskedLM.from_pretrained(\"bert-base-multilingual-cased\",\n",
        "                                        # output_hidden_states = True\n",
        "                                        )\n",
        "mask = '[MASK]'"
      ],
      "execution_count": 116,
      "outputs": [
        {
          "output_type": "execute_result",
          "data": {
            "text/plain": [
              "('если групп элементов несколько, то применяется mask0 mask1. если необходимо выбрать элементы из одной группы и элементы из другой, то количество способов выбрать элементы из обеих групп будет равно исходя из этого, реши задачу. для получения mask2 по физической культуре учащимся нужно выбрать направление в котром бы они занимались в течение года и сдавали mask2. по легкой отелитики предполагается 1 группа, по mask3 — 2 группы, по mask4 — 1 группа. сколько есть вариантов выбора навравления существует?',\n",
              " ['закон', 'сложение', 'зачёт', 'футбол', 'волейбол'])"
            ]
          },
          "metadata": {},
          "execution_count": 116
        }
      ]
    },
    {
      "cell_type": "code",
      "metadata": {
        "id": "NR_CwcRIvOlD"
      },
      "source": [
        "category_from = 2\n",
        "category_to = 0\n",
        "\n",
        "new_masks = ['' for i in range(len(masks))]\n",
        "words_in_sentence = word_tokenize(sentence_with_masks)\n",
        "\n",
        "first_mask = None\n",
        "first_word = None\n",
        "for word in words_in_sentence:\n",
        "  if word[:4] == 'mask' and masks[int(word[4:])] in nouns_actors[category_from]:\n",
        "    first_word = nouns_actors[category_to][random.randint(0, 19)]\n",
        "    new_masks[int(word[4:])] = new_word\n",
        "    first_mask = word"
      ],
      "execution_count": 92,
      "outputs": []
    },
    {
      "cell_type": "code",
      "metadata": {
        "colab": {
          "base_uri": "https://localhost:8080/"
        },
        "id": "dMpNKjNk65Mn",
        "outputId": "3c0d117f-3cfd-4317-e9c3-0b54273ad278"
      },
      "source": [
        "first_mask, first_word"
      ],
      "execution_count": 93,
      "outputs": [
        {
          "output_type": "execute_result",
          "data": {
            "text/plain": [
              "('mask0', 'хищник')"
            ]
          },
          "metadata": {},
          "execution_count": 93
        }
      ]
    },
    {
      "cell_type": "code",
      "metadata": {
        "id": "o1x_9FdtFS1K"
      },
      "source": [
        ""
      ],
      "execution_count": null,
      "outputs": []
    },
    {
      "cell_type": "code",
      "metadata": {
        "id": "1rYi7lXs67HK"
      },
      "source": [
        "sentence_with_masks = sentence_with_masks.replace(first_mask, first_word)"
      ],
      "execution_count": 94,
      "outputs": []
    },
    {
      "cell_type": "code",
      "metadata": {
        "id": "dhE8Ok_S44Sm"
      },
      "source": [
        "sentence_with_masks = ' '.join([mask if 'mask' in word else word for word in sentence_with_masks.split()])"
      ],
      "execution_count": 95,
      "outputs": []
    },
    {
      "cell_type": "code",
      "metadata": {
        "colab": {
          "base_uri": "https://localhost:8080/",
          "height": 36
        },
        "id": "9prjiC1H7C6J",
        "outputId": "e677e2d6-b9af-40b1-858c-0df2ad2028c2"
      },
      "source": [
        "sentence_with_masks"
      ],
      "execution_count": 96,
      "outputs": [
        {
          "output_type": "execute_result",
          "data": {
            "application/vnd.google.colaboratory.intrinsic+json": {
              "type": "string"
            },
            "text/plain": [
              "'у хищник было 3 три [MASK] два из них он отдал даше. сколько [MASK] осталось у хищник?'"
            ]
          },
          "metadata": {},
          "execution_count": 96
        }
      ]
    },
    {
      "cell_type": "code",
      "metadata": {
        "colab": {
          "base_uri": "https://localhost:8080/"
        },
        "id": "gwCHxDbQ4Sqp",
        "outputId": "6cccfcf8-f0f4-4258-c964-9f07f90a0c1d"
      },
      "source": [
        "targets = ['спорт', 'музыка', 'литература', 'животные']\n",
        "vocab = tokenizer.get_vocab()\n",
        "dist_to_target = {target: torch.Tensor(np.zeros(len(vocab.items()))) for target in targets}\n",
        "norm_words = ['.', ',', ' ']\n",
        "\n",
        "for target in tqdm(targets):\n",
        "  bad = []\n",
        "  for word, idx in vocab.items():\n",
        "    if navec.get(word) is None:\n",
        "        if word in norm_words:\n",
        "          dist_to_target[target][idx] = 0\n",
        "        else :\n",
        "          bad.append(word)\n",
        "          dist_to_target[target][idx] = 1\n",
        "    else:  \n",
        "      dist_to_target[target][idx] = distance.cosine(navec[target], navec[word])\n",
        "\n",
        "  dist_to_target[target] = np.interp(dist_to_target[target], (-1, 1), (0, 1))"
      ],
      "execution_count": 83,
      "outputs": [
        {
          "output_type": "stream",
          "name": "stderr",
          "text": [
            "100%|██████████| 4/4 [00:08<00:00,  2.03s/it]\n"
          ]
        }
      ]
    },
    {
      "cell_type": "code",
      "metadata": {
        "id": "pB2jBqK64OEA"
      },
      "source": [
        "def predict(sentence, convert_theme, bert_coef=1, cos_coef=1):\n",
        "  tokenized = tokenizer(sentence, return_tensors=\"pt\")\n",
        "  with torch.no_grad():\n",
        "    outputs = model(**tokenized)\n",
        "\n",
        "  masked_index = np.where(torch.flatten(tokenized['input_ids']).numpy() == 103)\n",
        "  for i in masked_index[0]:\n",
        "    now = outputs[0][0][i]\n",
        "    now = torch.Tensor(np.interp(now, (now.min(), now.max()), (0, 1)))\n",
        "    predicted_index = torch.argmax(now * bert_coef + (1 - dist_to_target[convert_theme]) * cos_coef).item()\n",
        "    predicted_token = tokenizer.convert_ids_to_tokens([predicted_index])[0]\n",
        "    ind = 0\n",
        "    for j, word in enumerate(sentence.split()):\n",
        "      if word == mask:\n",
        "        ind = j\n",
        "        break\n",
        "    sentence = sentence.split()\n",
        "    sentence[ind] = predicted_token\n",
        "    sentence = ' '.join(sentence)\n",
        "\n",
        "  return sentence"
      ],
      "execution_count": 84,
      "outputs": []
    },
    {
      "cell_type": "code",
      "metadata": {
        "colab": {
          "base_uri": "https://localhost:8080/",
          "height": 36
        },
        "id": "owvUv-RN7qn3",
        "outputId": "a06f1cb0-b883-4e32-e182-585d725ff9f0"
      },
      "source": [
        "predict(sentence_with_masks, 'животные', 1, 0)"
      ],
      "execution_count": 101,
      "outputs": [
        {
          "output_type": "execute_result",
          "data": {
            "application/vnd.google.colaboratory.intrinsic+json": {
              "type": "string"
            },
            "text/plain": [
              "'time predator had 3 three [MASK], he gave two of them to Dasha. How much ##s does the predator have left?'"
            ]
          },
          "metadata": {},
          "execution_count": 101
        }
      ]
    },
    {
      "cell_type": "markdown",
      "metadata": {
        "id": "-UxUVgFTbSm2"
      },
      "source": [
        "### Only cosinus + bert"
      ]
    },
    {
      "cell_type": "code",
      "metadata": {
        "colab": {
          "base_uri": "https://localhost:8080/",
          "height": 236
        },
        "id": "vbjGEGcYg4vv",
        "outputId": "ee4b3a06-0bdb-41a1-e1ed-6c90701af8c4"
      },
      "source": [
        "tokenizer = BertTokenizer.from_pretrained(\"bert-base-multilingual-cased\")\n",
        "model = BertForMaskedLM.from_pretrained(\"bert-base-multilingual-cased\",\n",
        "                                        # output_hidden_states = True\n",
        "                                        )\n",
        "mask = '[MASK]'"
      ],
      "execution_count": null,
      "outputs": [
        {
          "ename": "NameError",
          "evalue": "ignored",
          "output_type": "error",
          "traceback": [
            "\u001b[0;31m---------------------------------------------------------------------------\u001b[0m",
            "\u001b[0;31mNameError\u001b[0m                                 Traceback (most recent call last)",
            "\u001b[0;32m<ipython-input-7-2948a3820983>\u001b[0m in \u001b[0;36m<module>\u001b[0;34m()\u001b[0m\n\u001b[0;32m----> 1\u001b[0;31m \u001b[0mtokenizer\u001b[0m \u001b[0;34m=\u001b[0m \u001b[0mBertTokenizer\u001b[0m\u001b[0;34m.\u001b[0m\u001b[0mfrom_pretrained\u001b[0m\u001b[0;34m(\u001b[0m\u001b[0;34m\"bert-base-multilingual-cased\"\u001b[0m\u001b[0;34m)\u001b[0m\u001b[0;34m\u001b[0m\u001b[0;34m\u001b[0m\u001b[0m\n\u001b[0m\u001b[1;32m      2\u001b[0m model = BertForMaskedLM.from_pretrained(\"bert-base-multilingual-cased\",\n\u001b[1;32m      3\u001b[0m                                         \u001b[0;31m# output_hidden_states = True\u001b[0m\u001b[0;34m\u001b[0m\u001b[0;34m\u001b[0m\u001b[0;34m\u001b[0m\u001b[0m\n\u001b[1;32m      4\u001b[0m                                         )\n\u001b[1;32m      5\u001b[0m \u001b[0mmask\u001b[0m \u001b[0;34m=\u001b[0m \u001b[0;34m'[MASK]'\u001b[0m\u001b[0;34m\u001b[0m\u001b[0;34m\u001b[0m\u001b[0m\n",
            "\u001b[0;31mNameError\u001b[0m: name 'BertTokenizer' is not defined"
          ]
        }
      ]
    },
    {
      "cell_type": "code",
      "metadata": {
        "colab": {
          "base_uri": "https://localhost:8080/"
        },
        "id": "6M7XP66mju9S",
        "outputId": "10e968dc-ba20-457b-ecd9-96e036001ce1"
      },
      "source": [
        "tokenizer = AutoTokenizer.from_pretrained('DeepPavlov/rubert-base-cased', mask_token=mask)\n",
        "model = AutoModelForMaskedLM.from_pretrained('DeepPavlov/rubert-base-cased')"
      ],
      "execution_count": null,
      "outputs": [
        {
          "name": "stderr",
          "output_type": "stream",
          "text": [
            "Some weights of BertForMaskedLM were not initialized from the model checkpoint at DeepPavlov/rubert-base-cased and are newly initialized: ['cls.predictions.transform.dense.weight', 'cls.predictions.decoder.weight', 'cls.predictions.bias', 'cls.predictions.transform.dense.bias', 'cls.predictions.transform.LayerNorm.weight', 'cls.predictions.transform.LayerNorm.bias']\n",
            "You should probably TRAIN this model on a down-stream task to be able to use it for predictions and inference.\n"
          ]
        }
      ]
    },
    {
      "cell_type": "code",
      "metadata": {
        "id": "kAZqVrjEGdVJ"
      },
      "source": [
        "vocab = tokenizer.get_vocab()"
      ],
      "execution_count": null,
      "outputs": []
    },
    {
      "cell_type": "code",
      "metadata": {
        "id": "-g4eA5f3hD1W"
      },
      "source": [
        "import re\n",
        "rus = []\n",
        "for k, v in vocab.items():\n",
        "  if re.search('[а-я]', k):\n",
        "    rus.append(k)"
      ],
      "execution_count": null,
      "outputs": []
    },
    {
      "cell_type": "code",
      "metadata": {
        "id": "g73KXa_Phe8O"
      },
      "source": [
        "rus[100:110]"
      ],
      "execution_count": null,
      "outputs": []
    },
    {
      "cell_type": "code",
      "metadata": {
        "colab": {
          "base_uri": "https://localhost:8080/"
        },
        "id": "x9afAduNGmUE",
        "outputId": "9a49b904-304e-421f-b89d-c243b10900cf"
      },
      "source": [
        "targets = ['спорт', 'музыка', 'литература', 'животные']\n",
        "dist_to_target = {target: torch.Tensor(np.zeros(len(vocab.items()))) for target in targets}\n",
        "norm_words = ['.', ',', ' ']\n",
        "\n",
        "for target in tqdm(targets):\n",
        "  bad = []\n",
        "  for word, idx in vocab.items():\n",
        "    if navec.get(word) is None:\n",
        "        if word in norm_words:\n",
        "          dist_to_target[target][idx] = 0\n",
        "        else :\n",
        "          bad.append(word)\n",
        "          dist_to_target[target][idx] = 1\n",
        "    else:  \n",
        "      dist_to_target[target][idx] = distance.cosine(navec[target], navec[word])\n",
        "\n",
        "  dist_to_target[target] = np.interp(dist_to_target[target], (-1, 1), (0, 1))"
      ],
      "execution_count": null,
      "outputs": [
        {
          "name": "stderr",
          "output_type": "stream",
          "text": [
            "100%|██████████| 4/4 [00:06<00:00,  1.61s/it]\n"
          ]
        }
      ]
    },
    {
      "cell_type": "code",
      "metadata": {
        "colab": {
          "base_uri": "https://localhost:8080/"
        },
        "id": "6hwVdaSCJVib",
        "outputId": "e0ba804e-ab27-4e13-f93e-6062b7ceb99b"
      },
      "source": [
        "len(vocab), len(bad), bad[:5]"
      ],
      "execution_count": null,
      "outputs": [
        {
          "data": {
            "text/plain": [
              "(119547, 109158, ['[PAD]', '[unused1]', '[unused2]', '[unused3]', '[unused4]'])"
            ]
          },
          "execution_count": 91,
          "metadata": {},
          "output_type": "execute_result"
        }
      ]
    },
    {
      "cell_type": "code",
      "metadata": {
        "colab": {
          "base_uri": "https://localhost:8080/"
        },
        "id": "tvnOJJTS5qnY",
        "outputId": "5d772585-83b6-448e-8ec1-577bdd69cca3"
      },
      "source": [
        "device = torch.device(\"cuda\" if torch.cuda.is_available() else \"cpu\")\n",
        " \n",
        "if device == torch.device('cpu'):\n",
        "    print('Using cpu')\n",
        "else:\n",
        "    n_gpu = torch.cuda.device_count()\n",
        "    print('Using {} GPUs'.format(torch.cuda.get_device_name(0)))"
      ],
      "execution_count": null,
      "outputs": [
        {
          "name": "stdout",
          "output_type": "stream",
          "text": [
            "Using cpu\n"
          ]
        }
      ]
    },
    {
      "cell_type": "code",
      "metadata": {
        "id": "9wqMY1Xl2Zoa"
      },
      "source": [
        "masked_sentence = f'\t1.4. Во время летних {mask} {mask} {mask} ребята посетили бассейн. Длина плавательной дорожки в бассейне 25 м. После того как первый участник {mask} проплыл часть дорожки, ему осталось проплыть 10 м. Сколько метров уже проплыл участник соревнований?'\n",
        "masked_sentence = f'У Миши было 3 три мячика. Два из них он отдал Даше. Сколько мячиков осталось у Миши?'\n",
        "words_in_sentence = word_tokenize(masked_sentence)\n"
      ],
      "execution_count": null,
      "outputs": []
    },
    {
      "cell_type": "code",
      "metadata": {
        "id": "bHw3_YXBQ0-M"
      },
      "source": [
        "sentence = masked_sentence\n",
        "convert_theme = 'животные'\n",
        "\n",
        "def predict(sentence, convert_theme, bert_coef=1, cos_coef=1):\n",
        "  tokenized = tokenizer(sentence, return_tensors=\"pt\")\n",
        "  with torch.no_grad():\n",
        "    outputs = model(**tokenized)\n",
        "\n",
        "  masked_index = np.where(torch.flatten(tokenized['input_ids']).numpy() == 103)\n",
        "  for i in masked_index[0]:\n",
        "    now = outputs[0][0][i]\n",
        "    now = torch.Tensor(np.interp(now, (now.min(), now.max()), (0, 1)))\n",
        "    predicted_index = torch.argmax(now * bert_coef + (1 - dist_to_target[convert_theme]) * cos_coef).item()\n",
        "    predicted_token = tokenizer.convert_ids_to_tokens([predicted_index])[0]\n",
        "    ind = 0\n",
        "    for j, word in enumerate(sentence.split()):\n",
        "      if word == mask:\n",
        "        ind = j\n",
        "        break\n",
        "    sentence = sentence.split()\n",
        "    sentence[ind] = predicted_token\n",
        "    sentence = ' '.join(sentence)\n",
        "\n",
        "  return sentence"
      ],
      "execution_count": null,
      "outputs": []
    },
    {
      "cell_type": "code",
      "metadata": {
        "colab": {
          "base_uri": "https://localhost:8080/"
        },
        "id": "-qACzm6pPS6H",
        "outputId": "be307a86-40db-4e82-e13b-aa6b4b10b3c1"
      },
      "source": [
        "print(masked_sentence)\n",
        "for bert_coef in range(0, 10):\n",
        "  print(bert_coef, ' : ', predict(masked_sentence, 'животные', bert_coef / 10 + 1, 0))"
      ],
      "execution_count": null,
      "outputs": [
        {
          "name": "stdout",
          "output_type": "stream",
          "text": [
            "У Миши было 3 три мячика. Два из них он отдал Даше. Сколько [MASK] осталось у Миши?\n",
            "0  :  У Миши было 3 три мячика. Два из них он отдал Даше. Сколько то осталось у Миши?\n",
            "1  :  У Миши было 3 три мячика. Два из них он отдал Даше. Сколько то осталось у Миши?\n",
            "2  :  У Миши было 3 три мячика. Два из них он отдал Даше. Сколько то осталось у Миши?\n",
            "3  :  У Миши было 3 три мячика. Два из них он отдал Даше. Сколько то осталось у Миши?\n",
            "4  :  У Миши было 3 три мячика. Два из них он отдал Даше. Сколько то осталось у Миши?\n",
            "5  :  У Миши было 3 три мячика. Два из них он отдал Даше. Сколько то осталось у Миши?\n",
            "6  :  У Миши было 3 три мячика. Два из них он отдал Даше. Сколько то осталось у Миши?\n",
            "7  :  У Миши было 3 три мячика. Два из них он отдал Даше. Сколько то осталось у Миши?\n",
            "8  :  У Миши было 3 три мячика. Два из них он отдал Даше. Сколько то осталось у Миши?\n",
            "9  :  У Миши было 3 три мячика. Два из них он отдал Даше. Сколько то осталось у Миши?\n"
          ]
        }
      ]
    },
    {
      "cell_type": "code",
      "metadata": {
        "colab": {
          "base_uri": "https://localhost:8080/",
          "height": 53
        },
        "id": "GVUvCCPAKSH6",
        "outputId": "381c1bc3-f366-4b1a-9dd2-b34d96180382"
      },
      "source": [
        "sentence"
      ],
      "execution_count": null,
      "outputs": [
        {
          "data": {
            "application/vnd.google.colaboratory.intrinsic+json": {
              "type": "string"
            },
            "text/plain": [
              "'1.4. Во время летних видов игр некоторые ребята посетили бассейн. Длина плавательной дорожки в бассейне 25 м. После того как первый участник соревнований проплыл часть дорожки, ему осталось проплыть 10 м. Сколько метров уже проплыл участник соревнований?'"
            ]
          },
          "execution_count": 120,
          "metadata": {},
          "output_type": "execute_result"
        }
      ]
    },
    {
      "cell_type": "code",
      "metadata": {
        "colab": {
          "base_uri": "https://localhost:8080/",
          "height": 265
        },
        "id": "r-DURApWM2NW",
        "outputId": "b1efd4b8-28dc-4371-ae8a-6e324777d31a"
      },
      "source": [
        "plt.hist([x for x in dist_to_target[convert_theme] if x != 1])\n",
        "plt.show()"
      ],
      "execution_count": null,
      "outputs": [
        {
          "data": {
            "image/png": "[encoded data removed]",
            "text/plain": [
              "<Figure size 432x288 with 1 Axes>"
            ]
          },
          "metadata": {},
          "output_type": "display_data"
        }
      ]
    },
    {
      "cell_type": "code",
      "metadata": {
        "colab": {
          "base_uri": "https://localhost:8080/",
          "height": 515
        },
        "id": "c0gMHY198nH1",
        "outputId": "1ee68d8f-680d-46fa-a2d8-b31a1cc1cc65"
      },
      "source": [
        "y = outputs[0][0][0]\n",
        "x = np.interp(y, (y.min(), y.max()), (0, 1))\n",
        "plt.hist(y)\n",
        "plt.show()\n",
        "plt.hist(x)\n",
        "plt.show()"
      ],
      "execution_count": null,
      "outputs": [
        {
          "data": {
            "image/png": "[encoded data removed]",
            "text/plain": [
              "<Figure size 432x288 with 1 Axes>"
            ]
          },
          "metadata": {},
          "output_type": "display_data"
        },
        {
          "data": {
            "image/png": "[encoded data removed]",
            "text/plain": [
              "<Figure size 432x288 with 1 Axes>"
            ]
          },
          "metadata": {},
          "output_type": "display_data"
        }
      ]
    },
    {
      "cell_type": "code",
      "metadata": {
        "id": "YeJeGRK4J5f9"
      },
      "source": [
        ""
      ],
      "execution_count": null,
      "outputs": []
    },
    {
      "cell_type": "markdown",
      "metadata": {
        "id": "PmBu6gWiew70"
      },
      "source": [
        "### Fine tune Bert for masking"
      ]
    },
    {
      "cell_type": "code",
      "metadata": {
        "id": "0xsh2YSwe0fp"
      },
      "source": [
        "!pip install simpletransformers"
      ],
      "execution_count": null,
      "outputs": []
    },
    {
      "cell_type": "code",
      "metadata": {
        "id": "evszz8Z4e7KL"
      },
      "source": [
        "from simpletransformers.language_modeling import LanguageModelingModel"
      ],
      "execution_count": null,
      "outputs": []
    },
    {
      "cell_type": "code",
      "metadata": {
        "colab": {
          "base_uri": "https://localhost:8080/",
          "height": 121,
          "referenced_widgets": [
            "f0c025eb34da47ca9e04576da2121f81"
          ]
        },
        "id": "3h1ZsV7hfJBx",
        "outputId": "1e7c0744-5574-4b68-e905-3ee8094e5b5b"
      },
      "source": [
        "model = LanguageModelingModel(\"bert\", \"bert-base-multilingual-cased\", use_cuda=True)"
      ],
      "execution_count": null,
      "outputs": [
        {
          "data": {
            "application/vnd.jupyter.widget-view+json": {
              "model_id": "f0c025eb34da47ca9e04576da2121f81",
              "version_major": 2,
              "version_minor": 0
            },
            "text/plain": [
              "Downloading:   0%|          | 0.00/681M [00:00<?, ?B/s]"
            ]
          },
          "metadata": {},
          "output_type": "display_data"
        },
        {
          "name": "stderr",
          "output_type": "stream",
          "text": [
            "Some weights of the model checkpoint at bert-base-multilingual-cased were not used when initializing BertForMaskedLM: ['cls.seq_relationship.bias', 'cls.seq_relationship.weight']\n",
            "- This IS expected if you are initializing BertForMaskedLM from the checkpoint of a model trained on another task or with another architecture (e.g. initializing a BertForSequenceClassification model from a BertForPreTraining model).\n",
            "- This IS NOT expected if you are initializing BertForMaskedLM from the checkpoint of a model that you expect to be exactly identical (initializing a BertForSequenceClassification model from a BertForSequenceClassification model).\n"
          ]
        }
      ]
    },
    {
      "cell_type": "code",
      "metadata": {
        "id": "m2n47CsEuNwy"
      },
      "source": [
        "def make_good(text):\n",
        "    text = text.replace('\\n', '').replace('\\t','')\n",
        "    ind = 0\n",
        "    while ind < len(text) and not (text[ind] > 'А' and text[ind] < 'Я'):\n",
        "        ind += 1\n",
        "        \n",
        "    if ind == len(text):\n",
        "        text = text[text.find(' ') + 1:]\n",
        "    else:\n",
        "        text = text[ind:]\n",
        "    return text"
      ],
      "execution_count": null,
      "outputs": []
    },
    {
      "cell_type": "code",
      "metadata": {
        "colab": {
          "base_uri": "https://localhost:8080/",
          "height": 201
        },
        "id": "v1ih9GWGfMeq",
        "outputId": "0012b3b8-8e41-45c1-ebe1-1e83a5a9f67c"
      },
      "source": [
        "import pandas as pd\n",
        "data = pd.read_csv('good_additional_dataset.csv')\n",
        "data.head()"
      ],
      "execution_count": null,
      "outputs": [
        {
          "data": {
            "text/html": [
              "<div>\n",
              "<style scoped>\n",
              "    .dataframe tbody tr th:only-of-type {\n",
              "        vertical-align: middle;\n",
              "    }\n",
              "\n",
              "    .dataframe tbody tr th {\n",
              "        vertical-align: top;\n",
              "    }\n",
              "\n",
              "    .dataframe thead th {\n",
              "        text-align: right;\n",
              "    }\n",
              "</style>\n",
              "<table border=\"1\" class=\"dataframe\">\n",
              "  <thead>\n",
              "    <tr style=\"text-align: right;\">\n",
              "      <th></th>\n",
              "      <th>Unnamed: 0</th>\n",
              "      <th>texts</th>\n",
              "      <th>prediction</th>\n",
              "      <th>score</th>\n",
              "    </tr>\n",
              "  </thead>\n",
              "  <tbody>\n",
              "    <tr>\n",
              "      <th>0</th>\n",
              "      <td>0</td>\n",
              "      <td>\\t1.1. Летом в спортивный лагерь ходили 50 дет...</td>\n",
              "      <td>спорт</td>\n",
              "      <td>0.496684</td>\n",
              "    </tr>\n",
              "    <tr>\n",
              "      <th>1</th>\n",
              "      <td>1</td>\n",
              "      <td>\\t1.2. На концерте в летнем лагере ребята игра...</td>\n",
              "      <td>музыка</td>\n",
              "      <td>0.621388</td>\n",
              "    </tr>\n",
              "    <tr>\n",
              "      <th>2</th>\n",
              "      <td>3</td>\n",
              "      <td>\\t1.4. Во время летних соревнований по плавани...</td>\n",
              "      <td>спорт</td>\n",
              "      <td>0.646785</td>\n",
              "    </tr>\n",
              "    <tr>\n",
              "      <th>3</th>\n",
              "      <td>4</td>\n",
              "      <td>\\t1.5. В спортивную школу во время летних кани...</td>\n",
              "      <td>спорт</td>\n",
              "      <td>0.640304</td>\n",
              "    </tr>\n",
              "    <tr>\n",
              "      <th>4</th>\n",
              "      <td>6</td>\n",
              "      <td>\\t1.7. Самые крупные животные на нашей планете...</td>\n",
              "      <td>животные</td>\n",
              "      <td>0.407655</td>\n",
              "    </tr>\n",
              "  </tbody>\n",
              "</table>\n",
              "</div>"
            ],
            "text/plain": [
              "   Unnamed: 0  ...     score\n",
              "0           0  ...  0.496684\n",
              "1           1  ...  0.621388\n",
              "2           3  ...  0.646785\n",
              "3           4  ...  0.640304\n",
              "4           6  ...  0.407655\n",
              "\n",
              "[5 rows x 4 columns]"
            ]
          },
          "execution_count": 7,
          "metadata": {},
          "output_type": "execute_result"
        }
      ]
    },
    {
      "cell_type": "code",
      "metadata": {
        "id": "6-Ex1FPvtUy9"
      },
      "source": [
        "theme = 'животные'\n",
        "for_train = data[data['prediction'] == theme]['texts'].values\n",
        "for_train = [make_good(el) + '\\n' for el in for_train]"
      ],
      "execution_count": null,
      "outputs": []
    },
    {
      "cell_type": "code",
      "metadata": {
        "id": "nxdKKYe-tuzd"
      },
      "source": [
        "with open(f'{theme}.txt', 'w') as f:\n",
        "    f.writelines(for_train)"
      ],
      "execution_count": null,
      "outputs": []
    },
    {
      "cell_type": "code",
      "metadata": {
        "colab": {
          "base_uri": "https://localhost:8080/",
          "height": 316,
          "referenced_widgets": [
            "cd6963f547e04d23aa53df894115d335",
            "f5fff6e44e31481d8475dd2ba0795810",
            "848619ec1c664a5380f0c8570ed36a6e",
            "6852243414cb4c3c96be6fe5c2926071",
            "5ed80adcfeea4bc8a1c60d13bc77aca7",
            "97a4efb0b19d446a9d3317f507cc7dbd"
          ]
        },
        "id": "9_aPZXc6uYlV",
        "outputId": "c6b0dbe3-1b9c-4233-9b87-2ca6d1a97778"
      },
      "source": [
        "train_args = {'learning_rate' : 2e-6,\n",
        "              'max_seq_length' : 256,\n",
        "              'num_train_epochs' : 3,\n",
        "              #'do_lower_case' : True,\n",
        "              'use_multiprocessing' : True,\n",
        "              'train_batch_size' : 4,\n",
        "              #'save_steps' : 50000,\n",
        "              'overwrite_output_dir': True,\n",
        "              'load_best_model_at_end' : True,\n",
        "              'metric_for_best_model' : 'matthews_correlation',\n",
        "              }\n",
        "model.train_model(train_file = theme + '.txt', output_dir='outputs', args = train_args)"
      ],
      "execution_count": null,
      "outputs": [
        {
          "data": {
            "application/vnd.jupyter.widget-view+json": {
              "model_id": "cd6963f547e04d23aa53df894115d335",
              "version_major": 2,
              "version_minor": 0
            },
            "text/plain": [
              "  0%|          | 0/338 [00:00<?, ?it/s]"
            ]
          },
          "metadata": {},
          "output_type": "display_data"
        },
        {
          "data": {
            "application/vnd.jupyter.widget-view+json": {
              "model_id": "f5fff6e44e31481d8475dd2ba0795810",
              "version_major": 2,
              "version_minor": 0
            },
            "text/plain": [
              "  0%|          | 0/120 [00:00<?, ?it/s]"
            ]
          },
          "metadata": {},
          "output_type": "display_data"
        },
        {
          "data": {
            "application/vnd.jupyter.widget-view+json": {
              "model_id": "848619ec1c664a5380f0c8570ed36a6e",
              "version_major": 2,
              "version_minor": 0
            },
            "text/plain": [
              "Epoch:   0%|          | 0/3 [00:00<?, ?it/s]"
            ]
          },
          "metadata": {},
          "output_type": "display_data"
        },
        {
          "data": {
            "application/vnd.jupyter.widget-view+json": {
              "model_id": "6852243414cb4c3c96be6fe5c2926071",
              "version_major": 2,
              "version_minor": 0
            },
            "text/plain": [
              "Running Epoch 0 of 3:   0%|          | 0/30 [00:00<?, ?it/s]"
            ]
          },
          "metadata": {},
          "output_type": "display_data"
        },
        {
          "name": "stderr",
          "output_type": "stream",
          "text": [
            "/usr/local/lib/python3.7/dist-packages/simpletransformers/language_modeling/language_modeling_model.py:842: FutureWarning: Non-finite norm encountered in torch.nn.utils.clip_grad_norm_; continuing anyway. Note that the default behavior will change in a future release to error out if a non-finite total norm is encountered. At that point, setting error_if_nonfinite=false will be required to retain the old behavior.\n",
            "  model.parameters(), args.max_grad_norm\n",
            "/usr/local/lib/python3.7/dist-packages/torch/optim/lr_scheduler.py:134: UserWarning: Detected call of `lr_scheduler.step()` before `optimizer.step()`. In PyTorch 1.1.0 and later, you should call them in the opposite order: `optimizer.step()` before `lr_scheduler.step()`.  Failure to do this will result in PyTorch skipping the first value of the learning rate schedule. See more details at https://pytorch.org/docs/stable/optim.html#how-to-adjust-learning-rate\n",
            "  \"https://pytorch.org/docs/stable/optim.html#how-to-adjust-learning-rate\", UserWarning)\n"
          ]
        },
        {
          "data": {
            "application/vnd.jupyter.widget-view+json": {
              "model_id": "5ed80adcfeea4bc8a1c60d13bc77aca7",
              "version_major": 2,
              "version_minor": 0
            },
            "text/plain": [
              "Running Epoch 1 of 3:   0%|          | 0/30 [00:00<?, ?it/s]"
            ]
          },
          "metadata": {},
          "output_type": "display_data"
        },
        {
          "data": {
            "application/vnd.jupyter.widget-view+json": {
              "model_id": "97a4efb0b19d446a9d3317f507cc7dbd",
              "version_major": 2,
              "version_minor": 0
            },
            "text/plain": [
              "Running Epoch 2 of 3:   0%|          | 0/30 [00:00<?, ?it/s]"
            ]
          },
          "metadata": {},
          "output_type": "display_data"
        },
        {
          "data": {
            "text/plain": [
              "(90, 1.724665410651101)"
            ]
          },
          "execution_count": 10,
          "metadata": {},
          "output_type": "execute_result"
        }
      ]
    },
    {
      "cell_type": "code",
      "metadata": {
        "id": "6BGEw23wv8tK"
      },
      "source": [
        "mask = \"[MASK]\"\n",
        "masked_sentence = f'Во время летних {mask} {mask} {mask} ребята посетили бассейн. Длина плавательной дорожки в бассейне 25 м. После того как первый участник {mask} проплыл часть дорожки, ему осталось проплыть 10 м. Сколько метров уже проплыл участник соревнований?'\n",
        "masked_sentence = f'У Миши было 3 три {mask}. Два из них он отдал Даше. Сколько {mask} осталось у Миши?'"
      ],
      "execution_count": null,
      "outputs": []
    },
    {
      "cell_type": "code",
      "metadata": {
        "colab": {
          "base_uri": "https://localhost:8080/",
          "height": 131,
          "referenced_widgets": [
            "9c9544799f54486fabe37a9bf8c35df7",
            "30866f83fdf648bd9e2a66a51fd7a634",
            "0207236e1d76426286a15bcdb5e0bbaa",
            "a0a63c5ba1ce4258982dd454fdb8c740",
            "54a1d675422a47a0b792f1a90715d1cd",
            "213db311354c4800b33057dc6988a77f",
            "589290e2e2f741bcbf1f846f55632292",
            "a0664ffdd93b4a518dd79f32c70a36cb",
            "79443c86bc3e4ee89fb8d6312a1c6ce0",
            "07f3828365874662894319c03967f7f0",
            "8c5c7f3686bb4cd6954701aaa0f4ad0f",
            "05207339e3fc4a1f9f70b4e3ce1aaf93",
            "58c80c4120b24af5a359b14816bf27b8",
            "65fcee62a41c444f8400429583e38bea",
            "463a2d09c784460285466e19e460696c",
            "6d6cdf2e59284ecaa56028c140b69ae5",
            "f886728590214dec86847f4c45e770b2",
            "bd147290aac247fbacbe96c7b81195d3",
            "50122f20e92245f0b725928a12227639",
            "7209775031b043b7aa18daa8ebd684fa",
            "283ea94e0191414495588509511e132a",
            "dcdf702b67ef4f71893fcef6b42b1442",
            "3318bd9347d34d2b9a4ca0b95ce9726f",
            "9e02f70717244e2a8f13d8a803a9a006",
            "dd9806bcda3a4342bb358eb7a2c3247e",
            "d70bdc5b87794e0cab4ff05a7adecca5",
            "941159755dc148f8b10866f3b38d09cd",
            "0d22bd456223497d87f9647eac98c514",
            "eedb90063303485fadf404dab0f662e3",
            "5bc9eb2f807e460eaabcb2f313296a9b",
            "f7e2590b501745a1ae9bc094f261c1fa",
            "74b0519002924bbda53b1ac5e8c4f601",
            "ebbebbd472c34ccc877508a0198d9032"
          ]
        },
        "id": "Fyk6HtA0xx7B",
        "outputId": "68b723b3-cf21-4f4d-8a70-c46a9ba35dd0"
      },
      "source": [
        "model.eval_model(theme+'.txt')"
      ],
      "execution_count": null,
      "outputs": [
        {
          "data": {
            "application/vnd.jupyter.widget-view+json": {
              "model_id": "9c9544799f54486fabe37a9bf8c35df7",
              "version_major": 2,
              "version_minor": 0
            },
            "text/plain": [
              "  0%|          | 0/338 [00:00<?, ?it/s]"
            ]
          },
          "metadata": {},
          "output_type": "display_data"
        },
        {
          "data": {
            "application/vnd.jupyter.widget-view+json": {
              "model_id": "05207339e3fc4a1f9f70b4e3ce1aaf93",
              "version_major": 2,
              "version_minor": 0
            },
            "text/plain": [
              "  0%|          | 0/120 [00:00<?, ?it/s]"
            ]
          },
          "metadata": {},
          "output_type": "display_data"
        },
        {
          "data": {
            "application/vnd.jupyter.widget-view+json": {
              "model_id": "3318bd9347d34d2b9a4ca0b95ce9726f",
              "version_major": 2,
              "version_minor": 0
            },
            "text/plain": [
              "Running Evaluation:   0%|          | 0/30 [00:00<?, ?it/s]"
            ]
          },
          "metadata": {},
          "output_type": "display_data"
        },
        {
          "data": {
            "text/plain": [
              "{'eval_loss': 1.387173241376877, 'perplexity': tensor(4.0035)}"
            ]
          },
          "execution_count": 16,
          "metadata": {},
          "output_type": "execute_result"
        }
      ]
    },
    {
      "cell_type": "code",
      "metadata": {
        "colab": {
          "base_uri": "https://localhost:8080/",
          "height": 166
        },
        "id": "PY5NUXXHx9Gi",
        "outputId": "8cb5bbe1-c406-417f-de55-6b6bba937690"
      },
      "source": [
        "model.predict(masked_sentence)"
      ],
      "execution_count": null,
      "outputs": [
        {
          "ename": "AttributeError",
          "evalue": "ignored",
          "output_type": "error",
          "traceback": [
            "\u001b[0;31m---------------------------------------------------------------------------\u001b[0m",
            "\u001b[0;31mAttributeError\u001b[0m                            Traceback (most recent call last)",
            "\u001b[0;32m/tmp/ipykernel_229/2284462713.py\u001b[0m in \u001b[0;36m<module>\u001b[0;34m\u001b[0m\n\u001b[0;32m----> 1\u001b[0;31m \u001b[0mmodel\u001b[0m\u001b[0;34m.\u001b[0m\u001b[0mpredict\u001b[0m\u001b[0;34m(\u001b[0m\u001b[0mmasked_sentence\u001b[0m\u001b[0;34m)\u001b[0m\u001b[0;34m\u001b[0m\u001b[0;34m\u001b[0m\u001b[0m\n\u001b[0m",
            "\u001b[0;31mAttributeError\u001b[0m: 'LanguageModelingModel' object has no attribute 'predict'"
          ]
        }
      ]
    },
    {
      "cell_type": "code",
      "metadata": {
        "id": "-q7eIXIcyfwH"
      },
      "source": [
        ""
      ],
      "execution_count": null,
      "outputs": []
    }
  ]
}