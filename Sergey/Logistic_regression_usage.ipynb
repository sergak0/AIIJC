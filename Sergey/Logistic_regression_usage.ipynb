{
 "cells": [
  {
   "cell_type": "code",
   "execution_count": 22,
   "id": "b2e68e2e",
   "metadata": {},
   "outputs": [],
   "source": [
    "import pandas as pd\n",
    "import numpy as np\n",
    "import json\n",
    "import re\n",
    "from tqdm import tqdm\n",
    "\n",
    "import warnings\n",
    "warnings.filterwarnings(\"ignore\")"
   ]
  },
  {
   "cell_type": "code",
   "execution_count": 17,
   "id": "feeeeccd",
   "metadata": {},
   "outputs": [],
   "source": [
    "%matplotlib inline\n",
    "import matplotlib as mpl\n",
    "import matplotlib.pyplot as plt\n",
    "import seaborn as sns\n",
    "mpl.style.use('seaborn')\n",
    "plt.rc('font', size=15)          # controls default text sizes\n",
    "plt.rc('axes', titlesize=15)     # fontsize of the axes title\n",
    "plt.rc('axes', labelsize=15)     # fontsize of the x and y labels\n",
    "plt.rc('xtick', labelsize=15)    # fontsize of the tick labels\n",
    "plt.rc('ytick', labelsize=15)    # fontsize of the tick labels\n",
    "\n",
    "from collections import Counter"
   ]
  },
  {
   "cell_type": "markdown",
   "metadata": {},
   "source": [
    "### Load dataset"
   ]
  },
  {
   "cell_type": "code",
   "execution_count": 6,
   "id": "526cd203",
   "metadata": {},
   "outputs": [
    {
     "data": {
      "text/html": [
       "<div>\n",
       "<style scoped>\n",
       "    .dataframe tbody tr th:only-of-type {\n",
       "        vertical-align: middle;\n",
       "    }\n",
       "\n",
       "    .dataframe tbody tr th {\n",
       "        vertical-align: top;\n",
       "    }\n",
       "\n",
       "    .dataframe thead th {\n",
       "        text-align: right;\n",
       "    }\n",
       "</style>\n",
       "<table border=\"1\" class=\"dataframe\">\n",
       "  <thead>\n",
       "    <tr style=\"text-align: right;\">\n",
       "      <th></th>\n",
       "      <th>text</th>\n",
       "      <th>ans</th>\n",
       "    </tr>\n",
       "  </thead>\n",
       "  <tbody>\n",
       "    <tr>\n",
       "      <th>0</th>\n",
       "      <td>\\t1.1. Летом в спортивный лагерь ходили 50 дет...</td>\n",
       "      <td>спорт</td>\n",
       "    </tr>\n",
       "    <tr>\n",
       "      <th>1</th>\n",
       "      <td>\\t1.2. На концерте в летнем лагере ребята игра...</td>\n",
       "      <td>музыка</td>\n",
       "    </tr>\n",
       "    <tr>\n",
       "      <th>3</th>\n",
       "      <td>\\t1.4. Во время летних соревнований по плавани...</td>\n",
       "      <td>спорт</td>\n",
       "    </tr>\n",
       "    <tr>\n",
       "      <th>4</th>\n",
       "      <td>\\t1.5. В спортивную школу во время летних кани...</td>\n",
       "      <td>спорт</td>\n",
       "    </tr>\n",
       "    <tr>\n",
       "      <th>6</th>\n",
       "      <td>\\t1.7. Самые крупные животные на нашей планете...</td>\n",
       "      <td>животные</td>\n",
       "    </tr>\n",
       "  </tbody>\n",
       "</table>\n",
       "</div>"
      ],
      "text/plain": [
       "                                                text       ans\n",
       "0  \\t1.1. Летом в спортивный лагерь ходили 50 дет...     спорт\n",
       "1  \\t1.2. На концерте в летнем лагере ребята игра...    музыка\n",
       "3  \\t1.4. Во время летних соревнований по плавани...     спорт\n",
       "4  \\t1.5. В спортивную школу во время летних кани...     спорт\n",
       "6  \\t1.7. Самые крупные животные на нашей планете...  животные"
      ]
     },
     "execution_count": 6,
     "metadata": {},
     "output_type": "execute_result"
    }
   ],
   "source": [
    "data = pd.read_csv('../full_marked_dataset.csv')\n",
    "del data['Unnamed: 0']\n",
    "data = data[data['ans'] != 'неизвестно']\n",
    "data.head()"
   ]
  },
  {
   "cell_type": "code",
   "execution_count": null,
   "metadata": {},
   "outputs": [],
   "source": []
  },
  {
   "cell_type": "markdown",
   "id": "18cd5510",
   "metadata": {},
   "source": [
    "### Train tf-idf + logistic regression"
   ]
  },
  {
   "cell_type": "code",
   "execution_count": 15,
   "id": "84178e90",
   "metadata": {},
   "outputs": [],
   "source": [
    "import logistic_regression\n",
    "from sklearn.model_selection import train_test_split\n",
    "from sklearn.metrics import *"
   ]
  },
  {
   "cell_type": "code",
   "execution_count": 7,
   "id": "d6202f55",
   "metadata": {},
   "outputs": [
    {
     "name": "stderr",
     "output_type": "stream",
     "text": [
      "100%|██████████| 727/727 [00:01<00:00, 413.87it/s]\n"
     ]
    }
   ],
   "source": [
    "preparator = logistic_regression.LogicticRegressionPreparator() # Подгружаем модуль для обработки текстов\n",
    "y = data['ans'].values\n",
    "X = preparator.prepare_texts(data['text'].values) # Делаем обработку текстов для дальнейшего обучения"
   ]
  },
  {
   "cell_type": "code",
   "execution_count": 9,
   "id": "19c461d2",
   "metadata": {},
   "outputs": [
    {
     "name": "stdout",
     "output_type": "stream",
     "text": [
      "581 146\n"
     ]
    }
   ],
   "source": [
    "# Делим данные на валидационные и тренировочные\n",
    "X_train, X_val, y_train, y_val = train_test_split(\n",
    "    X, y, test_size=0.2, random_state=42)\n",
    "\n",
    "print(len(X_train), len(X_val))"
   ]
  },
  {
   "cell_type": "code",
   "execution_count": 31,
   "id": "d501578d",
   "metadata": {
    "scrolled": true
   },
   "outputs": [
    {
     "name": "stdout",
     "output_type": "stream",
     "text": [
      "[LibLinear]iter   1  #CD cycles 1\n",
      "iter   2  #CD cycles 1\n",
      "iter   3  #CD cycles 1\n",
      "iter   4  #CD cycles 3\n",
      "iter   5  #CD cycles 1\n",
      "iter   6  #CD cycles 5\n",
      "iter   7  #CD cycles 1\n",
      "iter   8  #CD cycles 30\n",
      "iter   9  #CD cycles 5\n",
      "iter  10  #CD cycles 1\n",
      "iter  11  #CD cycles 40\n",
      "iter  12  #CD cycles 5\n",
      "iter  13  #CD cycles 1\n",
      "iter  14  #CD cycles 27\n",
      "iter  15  #CD cycles 1\n",
      "iter  16  #CD cycles 34\n",
      "=========================\n",
      "optimization finished, #iter = 16\n",
      "Objective value = 2189.143623\n",
      "#nonzeros/#features = 319/2039\n",
      "iter   1  #CD cycles 1\n",
      "iter   2  #CD cycles 1\n",
      "iter   3  #CD cycles 1\n",
      "iter   4  #CD cycles 3\n",
      "iter   5  #CD cycles 1\n",
      "iter   6  #CD cycles 5\n",
      "iter   7  #CD cycles 1\n",
      "iter   8  #CD cycles 39\n",
      "iter   9  #CD cycles 4\n",
      "iter  10  #CD cycles 1\n",
      "iter  11  #CD cycles 16\n",
      "iter  12  #CD cycles 1\n",
      "iter  13  #CD cycles 18\n",
      "=========================\n",
      "optimization finished, #iter = 13\n",
      "Objective value = 2090.648578\n",
      "#nonzeros/#features = 278/2039\n",
      "iter   1  #CD cycles 1\n",
      "iter   2  #CD cycles 1\n",
      "iter   3  #CD cycles 1\n",
      "iter   4  #CD cycles 3\n",
      "iter   5  #CD cycles 1\n",
      "iter   6  #CD cycles 1\n",
      "iter   7  #CD cycles 6\n",
      "iter   8  #CD cycles 3\n",
      "iter   9  #CD cycles 1\n",
      "iter  10  #CD cycles 4\n",
      "iter  11  #CD cycles 1\n",
      "iter  12  #CD cycles 3\n",
      "iter  13  #CD cycles 1\n",
      "iter  14  #CD cycles 3\n",
      "iter  15  #CD cycles 1\n",
      "iter  16  #CD cycles 2\n",
      "iter  17  #CD cycles 1\n",
      "=========================\n",
      "optimization finished, #iter = 17\n",
      "Objective value = 141.514965\n",
      "#nonzeros/#features = 10/2039\n",
      "iter   1  #CD cycles 1\n",
      "iter   2  #CD cycles 1\n",
      "iter   3  #CD cycles 1\n",
      "iter   4  #CD cycles 1\n",
      "iter   5  #CD cycles 8\n",
      "iter   6  #CD cycles 3\n",
      "iter   7  #CD cycles 1\n",
      "iter   8  #CD cycles 8\n",
      "iter   9  #CD cycles 1\n",
      "iter  10  #CD cycles 14\n",
      "iter  11  #CD cycles 5\n",
      "iter  12  #CD cycles 1\n",
      "iter  13  #CD cycles 28\n",
      "iter  14  #CD cycles 7\n",
      "iter  15  #CD cycles 1\n",
      "iter  16  #CD cycles 6\n",
      "=========================\n",
      "optimization finished, #iter = 16\n",
      "Objective value = 1120.617887\n",
      "#nonzeros/#features = 114/2039\n"
     ]
    }
   ],
   "source": [
    "model = logistic_regression.LogicticRegressionModel(pretrained=False) # Создаем модель для обучения\n",
    "model.fit(X_train , y_train) # Обучаем"
   ]
  },
  {
   "cell_type": "code",
   "execution_count": 32,
   "id": "ca3255d6",
   "metadata": {},
   "outputs": [
    {
     "name": "stdout",
     "output_type": "stream",
     "text": [
      "Precision:   0.52\n",
      "Recall:   0.55\n",
      "F1-measure:   0.54\n",
      "Accuracy:   0.72\n",
      "              precision    recall  f1-score   support\n",
      "\n",
      "    животные       0.77      0.75      0.76        71\n",
      "  литература       0.70      0.71      0.70        52\n",
      "      музыка       0.00      0.00      0.00         3\n",
      "       спорт       0.62      0.75      0.68        20\n",
      "\n",
      "    accuracy                           0.72       146\n",
      "   macro avg       0.52      0.55      0.54       146\n",
      "weighted avg       0.71      0.72      0.71       146\n",
      "\n"
     ]
    },
    {
     "data": {
      "image/png": "[encoded data removed]",
      "text/plain": [
       "<Figure size 576x396 with 1 Axes>"
      ]
     },
     "metadata": {},
     "output_type": "display_data"
    }
   ],
   "source": [
    "predictions = model.predict(X_val)\n",
    "print(\"Precision: {0:6.2f}\".format(precision_score(y_val, predictions, average='macro')))\n",
    "print(\"Recall: {0:6.2f}\".format(recall_score(y_val, predictions, average='macro')))\n",
    "print(\"F1-measure: {0:6.2f}\".format(f1_score(y_val, predictions, average='macro')))\n",
    "print(\"Accuracy: {0:6.2f}\".format(accuracy_score(y_val, predictions)))\n",
    "print(classification_report(y_val, predictions))\n",
    "labels = model.classes\n",
    "sns.heatmap(data=confusion_matrix(y_val, predictions), annot=True, fmt=\"d\", cbar=False, xticklabels=labels, yticklabels=labels)\n",
    "plt.title(\"Confusion matrix\")\n",
    "plt.show()"
   ]
  },
  {
   "cell_type": "code",
   "execution_count": 42,
   "id": "a5e27284",
   "metadata": {},
   "outputs": [
    {
     "data": {
      "image/png": "[encoded data removed]",
      "text/plain": [
       "<Figure size 576x396 with 1 Axes>"
      ]
     },
     "metadata": {},
     "output_type": "display_data"
    }
   ],
   "source": [
    "plt.hist(predictions)\n",
    "plt.title('Кол-во предсказаний на каждый класс в валидационно выборке')\n",
    "plt.show()"
   ]
  },
  {
   "cell_type": "code",
   "execution_count": 34,
   "id": "9cd113bf",
   "metadata": {},
   "outputs": [],
   "source": [
    "model.save() # Сохраняем модель по дефолтному пути"
   ]
  },
  {
   "cell_type": "markdown",
   "metadata": {},
   "source": [
    "### Using model for making submit"
   ]
  },
  {
   "cell_type": "code",
   "execution_count": 30,
   "metadata": {},
   "outputs": [
    {
     "name": "stderr",
     "output_type": "stream",
     "text": [
      "[nltk_data] Downloading package stopwords to /home/sergak/nltk_data...\n",
      "[nltk_data]   Package stopwords is already up-to-date!\n",
      "[nltk_data] Downloading package punkt to /home/sergak/nltk_data...\n",
      "[nltk_data]   Package punkt is already up-to-date!\n",
      "[nltk_data] Downloading package wordnet to /home/sergak/nltk_data...\n",
      "[nltk_data]   Package wordnet is already up-to-date!\n"
     ]
    },
    {
     "data": {
      "text/plain": [
       "<module 'logistic_regression' from '/home/sergak/Documents/Neyro_sets/AIIJC/EduRu/Sergey/logistic_regression.py'>"
      ]
     },
     "execution_count": 30,
     "metadata": {},
     "output_type": "execute_result"
    }
   ],
   "source": [
    "import importlib\n",
    "importlib.reload(logistic_regression)"
   ]
  },
  {
   "cell_type": "code",
   "execution_count": 35,
   "metadata": {},
   "outputs": [],
   "source": [
    "model = logistic_regression.LogicticRegressionModel(pretrained=True) # Подгружаем предобученную модель\n",
    "preparator = logistic_regression.LogicticRegressionPreparator() # Подгружаем модуль для обработки текстов"
   ]
  },
  {
   "cell_type": "code",
   "execution_count": 39,
   "metadata": {},
   "outputs": [
    {
     "name": "stderr",
     "output_type": "stream",
     "text": [
      "100%|██████████| 514/514 [00:03<00:00, 141.89it/s]\n"
     ]
    }
   ],
   "source": [
    "test_df = pd.read_csv('../test.csv') # Считываем данные\n",
    "test_df['prepared'] = preparator.prepare_texts(test_df['task']) # Делаем необходимую обработку текстов"
   ]
  },
  {
   "cell_type": "code",
   "execution_count": 40,
   "metadata": {},
   "outputs": [
    {
     "data": {
      "text/html": [
       "<div>\n",
       "<style scoped>\n",
       "    .dataframe tbody tr th:only-of-type {\n",
       "        vertical-align: middle;\n",
       "    }\n",
       "\n",
       "    .dataframe tbody tr th {\n",
       "        vertical-align: top;\n",
       "    }\n",
       "\n",
       "    .dataframe thead th {\n",
       "        text-align: right;\n",
       "    }\n",
       "</style>\n",
       "<table border=\"1\" class=\"dataframe\">\n",
       "  <thead>\n",
       "    <tr style=\"text-align: right;\">\n",
       "      <th></th>\n",
       "      <th>id</th>\n",
       "      <th>category</th>\n",
       "      <th>keywords</th>\n",
       "    </tr>\n",
       "  </thead>\n",
       "  <tbody>\n",
       "    <tr>\n",
       "      <th>0</th>\n",
       "      <td>0</td>\n",
       "      <td>спорт</td>\n",
       "      <td></td>\n",
       "    </tr>\n",
       "    <tr>\n",
       "      <th>1</th>\n",
       "      <td>1</td>\n",
       "      <td>литература</td>\n",
       "      <td>ящик; собака</td>\n",
       "    </tr>\n",
       "    <tr>\n",
       "      <th>2</th>\n",
       "      <td>2</td>\n",
       "      <td>спорт</td>\n",
       "      <td>год</td>\n",
       "    </tr>\n",
       "    <tr>\n",
       "      <th>3</th>\n",
       "      <td>3</td>\n",
       "      <td>литература</td>\n",
       "      <td></td>\n",
       "    </tr>\n",
       "    <tr>\n",
       "      <th>4</th>\n",
       "      <td>4</td>\n",
       "      <td>литература</td>\n",
       "      <td>вид; рисунок</td>\n",
       "    </tr>\n",
       "  </tbody>\n",
       "</table>\n",
       "</div>"
      ],
      "text/plain": [
       "   id    category      keywords\n",
       "0   0       спорт              \n",
       "1   1  литература  ящик; собака\n",
       "2   2       спорт           год\n",
       "3   3  литература              \n",
       "4   4  литература  вид; рисунок"
      ]
     },
     "execution_count": 40,
     "metadata": {},
     "output_type": "execute_result"
    }
   ],
   "source": [
    "test_df['category'] = model.predict(test_df['prepared']) # Предсказываем категории\n",
    "test_df['keywords'] = ['; '.join(model.get_top_words(text))\n",
    "                    for text in test_df['prepared']] # Предсказываем ключчевые слова\n",
    "test_df = test_df.drop(['task', 'prepared'], axis = 1) # Убираем ненужные столбцы\n",
    "test_df.head()"
   ]
  },
  {
   "cell_type": "code",
   "execution_count": 41,
   "metadata": {},
   "outputs": [],
   "source": [
    "test_df.to_csv('sabmit_log_reg.csv')"
   ]
  },
  {
   "cell_type": "code",
   "execution_count": null,
   "metadata": {},
   "outputs": [],
   "source": []
  }
 ],
 "metadata": {
  "kernelspec": {
   "display_name": "Python 3 (ipykernel)",
   "language": "python",
   "name": "python3"
  },
  "language_info": {
   "codemirror_mode": {
    "name": "ipython",
    "version": 3
   },
   "file_extension": ".py",
   "mimetype": "text/x-python",
   "name": "python",
   "nbconvert_exporter": "python",
   "pygments_lexer": "ipython3",
   "version": "3.9.5"
  }
 },
 "nbformat": 4,
 "nbformat_minor": 5
}
