{
  "nbformat": 4,
  "nbformat_minor": 0,
  "metadata": {
    "accelerator": "GPU",
    "colab": {
      "name": "Paraphraser_example.ipynb",
      "provenance": [],
      "collapsed_sections": []
    },
    "kernelspec": {
      "display_name": "Python 3",
      "name": "python3"
    },
    "widgets": {
      "application/vnd.jupyter.widget-state+json": {
        "28797e83ec3547859833b569874d7d55": {
          "model_module": "@jupyter-widgets/controls",
          "model_name": "HBoxModel",
          "model_module_version": "1.5.0",
          "state": {
            "_view_name": "HBoxView",
            "_dom_classes": [],
            "_model_name": "HBoxModel",
            "_view_module": "@jupyter-widgets/controls",
            "_model_module_version": "1.5.0",
            "_view_count": null,
            "_view_module_version": "1.5.0",
            "box_style": "",
            "layout": "IPY_MODEL_ed96b01685134c06a68e48f7bc530649",
            "_model_module": "@jupyter-widgets/controls",
            "children": [
              "IPY_MODEL_e204be7e80ac4e78a8519f9e42147c8c",
              "IPY_MODEL_a24cff31eccb43d9a53984f4246570ad",
              "IPY_MODEL_6e5b24ff4ee3407c9c07c1a4125893b1"
            ]
          }
        },
        "ed96b01685134c06a68e48f7bc530649": {
          "model_module": "@jupyter-widgets/base",
          "model_name": "LayoutModel",
          "model_module_version": "1.2.0",
          "state": {
            "_view_name": "LayoutView",
            "grid_template_rows": null,
            "right": null,
            "justify_content": null,
            "_view_module": "@jupyter-widgets/base",
            "overflow": null,
            "_model_module_version": "1.2.0",
            "_view_count": null,
            "flex_flow": null,
            "width": null,
            "min_width": null,
            "border": null,
            "align_items": null,
            "bottom": null,
            "_model_module": "@jupyter-widgets/base",
            "top": null,
            "grid_column": null,
            "overflow_y": null,
            "overflow_x": null,
            "grid_auto_flow": null,
            "grid_area": null,
            "grid_template_columns": null,
            "flex": null,
            "_model_name": "LayoutModel",
            "justify_items": null,
            "grid_row": null,
            "max_height": null,
            "align_content": null,
            "visibility": null,
            "align_self": null,
            "height": null,
            "min_height": null,
            "padding": null,
            "grid_auto_rows": null,
            "grid_gap": null,
            "max_width": null,
            "order": null,
            "_view_module_version": "1.2.0",
            "grid_template_areas": null,
            "object_position": null,
            "object_fit": null,
            "grid_auto_columns": null,
            "margin": null,
            "display": null,
            "left": null
          }
        },
        "e204be7e80ac4e78a8519f9e42147c8c": {
          "model_module": "@jupyter-widgets/controls",
          "model_name": "HTMLModel",
          "model_module_version": "1.5.0",
          "state": {
            "_view_name": "HTMLView",
            "style": "IPY_MODEL_90b9f92abbbb4c528fe80f947bfac278",
            "_dom_classes": [],
            "description": "",
            "_model_name": "HTMLModel",
            "placeholder": "​",
            "_view_module": "@jupyter-widgets/controls",
            "_model_module_version": "1.5.0",
            "value": "Downloading: 100%",
            "_view_count": null,
            "_view_module_version": "1.5.0",
            "description_tooltip": null,
            "_model_module": "@jupyter-widgets/controls",
            "layout": "IPY_MODEL_8f29d58e7b71427e9e0abb7ebbab19e2"
          }
        },
        "a24cff31eccb43d9a53984f4246570ad": {
          "model_module": "@jupyter-widgets/controls",
          "model_name": "FloatProgressModel",
          "model_module_version": "1.5.0",
          "state": {
            "_view_name": "ProgressView",
            "style": "IPY_MODEL_36cae87ecb0d42ed911c6acafdca7190",
            "_dom_classes": [],
            "description": "",
            "_model_name": "FloatProgressModel",
            "bar_style": "success",
            "max": 592,
            "_view_module": "@jupyter-widgets/controls",
            "_model_module_version": "1.5.0",
            "value": 592,
            "_view_count": null,
            "_view_module_version": "1.5.0",
            "orientation": "horizontal",
            "min": 0,
            "description_tooltip": null,
            "_model_module": "@jupyter-widgets/controls",
            "layout": "IPY_MODEL_e5dfa843736c417c8f17c4721c1051dc"
          }
        },
        "6e5b24ff4ee3407c9c07c1a4125893b1": {
          "model_module": "@jupyter-widgets/controls",
          "model_name": "HTMLModel",
          "model_module_version": "1.5.0",
          "state": {
            "_view_name": "HTMLView",
            "style": "IPY_MODEL_d24ee49b11ff447cade4027ceb5efa49",
            "_dom_classes": [],
            "description": "",
            "_model_name": "HTMLModel",
            "placeholder": "​",
            "_view_module": "@jupyter-widgets/controls",
            "_model_module_version": "1.5.0",
            "value": " 592/592 [00:00&lt;00:00, 9.50kB/s]",
            "_view_count": null,
            "_view_module_version": "1.5.0",
            "description_tooltip": null,
            "_model_module": "@jupyter-widgets/controls",
            "layout": "IPY_MODEL_43a6aec0c5df4cddb35d637ae61fceb3"
          }
        },
        "90b9f92abbbb4c528fe80f947bfac278": {
          "model_module": "@jupyter-widgets/controls",
          "model_name": "DescriptionStyleModel",
          "model_module_version": "1.5.0",
          "state": {
            "_view_name": "StyleView",
            "_model_name": "DescriptionStyleModel",
            "description_width": "",
            "_view_module": "@jupyter-widgets/base",
            "_model_module_version": "1.5.0",
            "_view_count": null,
            "_view_module_version": "1.2.0",
            "_model_module": "@jupyter-widgets/controls"
          }
        },
        "8f29d58e7b71427e9e0abb7ebbab19e2": {
          "model_module": "@jupyter-widgets/base",
          "model_name": "LayoutModel",
          "model_module_version": "1.2.0",
          "state": {
            "_view_name": "LayoutView",
            "grid_template_rows": null,
            "right": null,
            "justify_content": null,
            "_view_module": "@jupyter-widgets/base",
            "overflow": null,
            "_model_module_version": "1.2.0",
            "_view_count": null,
            "flex_flow": null,
            "width": null,
            "min_width": null,
            "border": null,
            "align_items": null,
            "bottom": null,
            "_model_module": "@jupyter-widgets/base",
            "top": null,
            "grid_column": null,
            "overflow_y": null,
            "overflow_x": null,
            "grid_auto_flow": null,
            "grid_area": null,
            "grid_template_columns": null,
            "flex": null,
            "_model_name": "LayoutModel",
            "justify_items": null,
            "grid_row": null,
            "max_height": null,
            "align_content": null,
            "visibility": null,
            "align_self": null,
            "height": null,
            "min_height": null,
            "padding": null,
            "grid_auto_rows": null,
            "grid_gap": null,
            "max_width": null,
            "order": null,
            "_view_module_version": "1.2.0",
            "grid_template_areas": null,
            "object_position": null,
            "object_fit": null,
            "grid_auto_columns": null,
            "margin": null,
            "display": null,
            "left": null
          }
        },
        "36cae87ecb0d42ed911c6acafdca7190": {
          "model_module": "@jupyter-widgets/controls",
          "model_name": "ProgressStyleModel",
          "model_module_version": "1.5.0",
          "state": {
            "_view_name": "StyleView",
            "_model_name": "ProgressStyleModel",
            "description_width": "",
            "_view_module": "@jupyter-widgets/base",
            "_model_module_version": "1.5.0",
            "_view_count": null,
            "_view_module_version": "1.2.0",
            "bar_color": null,
            "_model_module": "@jupyter-widgets/controls"
          }
        },
        "e5dfa843736c417c8f17c4721c1051dc": {
          "model_module": "@jupyter-widgets/base",
          "model_name": "LayoutModel",
          "model_module_version": "1.2.0",
          "state": {
            "_view_name": "LayoutView",
            "grid_template_rows": null,
            "right": null,
            "justify_content": null,
            "_view_module": "@jupyter-widgets/base",
            "overflow": null,
            "_model_module_version": "1.2.0",
            "_view_count": null,
            "flex_flow": null,
            "width": null,
            "min_width": null,
            "border": null,
            "align_items": null,
            "bottom": null,
            "_model_module": "@jupyter-widgets/base",
            "top": null,
            "grid_column": null,
            "overflow_y": null,
            "overflow_x": null,
            "grid_auto_flow": null,
            "grid_area": null,
            "grid_template_columns": null,
            "flex": null,
            "_model_name": "LayoutModel",
            "justify_items": null,
            "grid_row": null,
            "max_height": null,
            "align_content": null,
            "visibility": null,
            "align_self": null,
            "height": null,
            "min_height": null,
            "padding": null,
            "grid_auto_rows": null,
            "grid_gap": null,
            "max_width": null,
            "order": null,
            "_view_module_version": "1.2.0",
            "grid_template_areas": null,
            "object_position": null,
            "object_fit": null,
            "grid_auto_columns": null,
            "margin": null,
            "display": null,
            "left": null
          }
        },
        "d24ee49b11ff447cade4027ceb5efa49": {
          "model_module": "@jupyter-widgets/controls",
          "model_name": "DescriptionStyleModel",
          "model_module_version": "1.5.0",
          "state": {
            "_view_name": "StyleView",
            "_model_name": "DescriptionStyleModel",
            "description_width": "",
            "_view_module": "@jupyter-widgets/base",
            "_model_module_version": "1.5.0",
            "_view_count": null,
            "_view_module_version": "1.2.0",
            "_model_module": "@jupyter-widgets/controls"
          }
        },
        "43a6aec0c5df4cddb35d637ae61fceb3": {
          "model_module": "@jupyter-widgets/base",
          "model_name": "LayoutModel",
          "model_module_version": "1.2.0",
          "state": {
            "_view_name": "LayoutView",
            "grid_template_rows": null,
            "right": null,
            "justify_content": null,
            "_view_module": "@jupyter-widgets/base",
            "overflow": null,
            "_model_module_version": "1.2.0",
            "_view_count": null,
            "flex_flow": null,
            "width": null,
            "min_width": null,
            "border": null,
            "align_items": null,
            "bottom": null,
            "_model_module": "@jupyter-widgets/base",
            "top": null,
            "grid_column": null,
            "overflow_y": null,
            "overflow_x": null,
            "grid_auto_flow": null,
            "grid_area": null,
            "grid_template_columns": null,
            "flex": null,
            "_model_name": "LayoutModel",
            "justify_items": null,
            "grid_row": null,
            "max_height": null,
            "align_content": null,
            "visibility": null,
            "align_self": null,
            "height": null,
            "min_height": null,
            "padding": null,
            "grid_auto_rows": null,
            "grid_gap": null,
            "max_width": null,
            "order": null,
            "_view_module_version": "1.2.0",
            "grid_template_areas": null,
            "object_position": null,
            "object_fit": null,
            "grid_auto_columns": null,
            "margin": null,
            "display": null,
            "left": null
          }
        }
      }
    }
  },
  "cells": [
    {
      "cell_type": "markdown",
      "metadata": {
        "id": "HzuWdv8SyDJF"
      },
      "source": [
        "## Install library and dependencies"
      ]
    },
    {
      "cell_type": "code",
      "metadata": {
        "colab": {
          "base_uri": "https://localhost:8080/",
          "height": 1000
        },
        "id": "ccMN5GerkXsB",
        "outputId": "2c16b6de-3f55-48b8-b35f-bf12408c96db"
      },
      "source": [
        "!pip install git+https://github.com/RussianNLP/russian_paraphrasers@master"
      ],
      "execution_count": 1,
      "outputs": [
        {
          "output_type": "stream",
          "name": "stdout",
          "text": [
            "Collecting git+https://github.com/RussianNLP/russian_paraphrasers@master\n",
            "  Cloning https://github.com/RussianNLP/russian_paraphrasers (to revision master) to /tmp/pip-req-build-9_5265u9\n",
            "  Running command git clone -q https://github.com/RussianNLP/russian_paraphrasers /tmp/pip-req-build-9_5265u9\n",
            "Collecting nlg-eval@ git+https://github.com/Maluuba/nlg-eval.git@master\n",
            "  Cloning https://github.com/Maluuba/nlg-eval.git (to revision master) to /tmp/pip-install-jb4piahl/nlg-eval_17099581af8646dd80ac0f35b6e45ce0\n",
            "  Running command git clone -q https://github.com/Maluuba/nlg-eval.git /tmp/pip-install-jb4piahl/nlg-eval_17099581af8646dd80ac0f35b6e45ce0\n",
            "Requirement already satisfied: nltk in /usr/local/lib/python3.7/dist-packages (from russian-paraphrasers==0.0.3) (3.2.5)\n",
            "Requirement already satisfied: scipy in /usr/local/lib/python3.7/dist-packages (from russian-paraphrasers==0.0.3) (1.4.1)\n",
            "Collecting transformers>=4.0.1\n",
            "  Downloading transformers-4.11.3-py3-none-any.whl (2.9 MB)\n",
            "\u001b[K     |████████████████████████████████| 2.9 MB 5.4 MB/s \n",
            "\u001b[?25hCollecting sentence-transformers==0.4.0\n",
            "  Downloading sentence-transformers-0.4.0.tar.gz (65 kB)\n",
            "\u001b[K     |████████████████████████████████| 65 kB 3.6 MB/s \n",
            "\u001b[?25hCollecting nltk\n",
            "  Downloading nltk-3.6.5-py3-none-any.whl (1.5 MB)\n",
            "\u001b[K     |████████████████████████████████| 1.5 MB 31.2 MB/s \n",
            "\u001b[?25hRequirement already satisfied: numpy>=1.11.0 in /usr/local/lib/python3.7/dist-packages (from nlg-eval@ git+https://github.com/Maluuba/nlg-eval.git@master->russian-paraphrasers==0.0.3) (1.19.5)\n",
            "Collecting psutil>=5.6.2\n",
            "  Downloading psutil-5.8.0-cp37-cp37m-manylinux2010_x86_64.whl (296 kB)\n",
            "\u001b[K     |████████████████████████████████| 296 kB 43.5 MB/s \n",
            "\u001b[?25hRequirement already satisfied: requests>=2.19 in /usr/local/lib/python3.7/dist-packages (from nlg-eval@ git+https://github.com/Maluuba/nlg-eval.git@master->russian-paraphrasers==0.0.3) (2.23.0)\n",
            "Requirement already satisfied: six>=1.11 in /usr/local/lib/python3.7/dist-packages (from nlg-eval@ git+https://github.com/Maluuba/nlg-eval.git@master->russian-paraphrasers==0.0.3) (1.15.0)\n",
            "Requirement already satisfied: Cython>=0.28.5 in /usr/local/lib/python3.7/dist-packages (from nlg-eval@ git+https://github.com/Maluuba/nlg-eval.git@master->russian-paraphrasers==0.0.3) (0.29.24)\n",
            "Requirement already satisfied: scikit-learn>=0.17 in /usr/local/lib/python3.7/dist-packages (from nlg-eval@ git+https://github.com/Maluuba/nlg-eval.git@master->russian-paraphrasers==0.0.3) (0.22.2.post1)\n",
            "Collecting gensim~=3.8.3\n",
            "  Downloading gensim-3.8.3-cp37-cp37m-manylinux1_x86_64.whl (24.2 MB)\n",
            "\u001b[K     |████████████████████████████████| 24.2 MB 95 kB/s \n",
            "\u001b[?25hCollecting Theano>=0.8.1\n",
            "  Downloading Theano-1.0.5.tar.gz (2.8 MB)\n",
            "\u001b[K     |████████████████████████████████| 2.8 MB 32.2 MB/s \n",
            "\u001b[?25hRequirement already satisfied: tqdm>=4.24 in /usr/local/lib/python3.7/dist-packages (from nlg-eval@ git+https://github.com/Maluuba/nlg-eval.git@master->russian-paraphrasers==0.0.3) (4.62.3)\n",
            "Collecting xdg\n",
            "  Downloading xdg-5.1.1-py3-none-any.whl (5.0 kB)\n",
            "Requirement already satisfied: torch>=1.6.0 in /usr/local/lib/python3.7/dist-packages (from sentence-transformers==0.4.0->russian-paraphrasers==0.0.3) (1.9.0+cu111)\n",
            "Collecting sentencepiece\n",
            "  Downloading sentencepiece-0.1.96-cp37-cp37m-manylinux_2_17_x86_64.manylinux2014_x86_64.whl (1.2 MB)\n",
            "\u001b[K     |████████████████████████████████| 1.2 MB 31.9 MB/s \n",
            "\u001b[?25hRequirement already satisfied: smart-open>=1.8.1 in /usr/local/lib/python3.7/dist-packages (from gensim~=3.8.3->nlg-eval@ git+https://github.com/Maluuba/nlg-eval.git@master->russian-paraphrasers==0.0.3) (5.2.1)\n",
            "Requirement already satisfied: joblib in /usr/local/lib/python3.7/dist-packages (from nltk->russian-paraphrasers==0.0.3) (1.0.1)\n",
            "Requirement already satisfied: click in /usr/local/lib/python3.7/dist-packages (from nltk->russian-paraphrasers==0.0.3) (7.1.2)\n",
            "Collecting regex>=2021.8.3\n",
            "  Downloading regex-2021.10.8-cp37-cp37m-manylinux_2_17_x86_64.manylinux2014_x86_64.whl (748 kB)\n",
            "\u001b[K     |████████████████████████████████| 748 kB 35.4 MB/s \n",
            "\u001b[?25hRequirement already satisfied: idna<3,>=2.5 in /usr/local/lib/python3.7/dist-packages (from requests>=2.19->nlg-eval@ git+https://github.com/Maluuba/nlg-eval.git@master->russian-paraphrasers==0.0.3) (2.10)\n",
            "Requirement already satisfied: urllib3!=1.25.0,!=1.25.1,<1.26,>=1.21.1 in /usr/local/lib/python3.7/dist-packages (from requests>=2.19->nlg-eval@ git+https://github.com/Maluuba/nlg-eval.git@master->russian-paraphrasers==0.0.3) (1.24.3)\n",
            "Requirement already satisfied: chardet<4,>=3.0.2 in /usr/local/lib/python3.7/dist-packages (from requests>=2.19->nlg-eval@ git+https://github.com/Maluuba/nlg-eval.git@master->russian-paraphrasers==0.0.3) (3.0.4)\n",
            "Requirement already satisfied: certifi>=2017.4.17 in /usr/local/lib/python3.7/dist-packages (from requests>=2.19->nlg-eval@ git+https://github.com/Maluuba/nlg-eval.git@master->russian-paraphrasers==0.0.3) (2021.5.30)\n",
            "Requirement already satisfied: typing-extensions in /usr/local/lib/python3.7/dist-packages (from torch>=1.6.0->sentence-transformers==0.4.0->russian-paraphrasers==0.0.3) (3.7.4.3)\n",
            "Collecting pyyaml>=5.1\n",
            "  Downloading PyYAML-5.4.1-cp37-cp37m-manylinux1_x86_64.whl (636 kB)\n",
            "\u001b[K     |████████████████████████████████| 636 kB 27.2 MB/s \n",
            "\u001b[?25hCollecting huggingface-hub>=0.0.17\n",
            "  Downloading huggingface_hub-0.0.19-py3-none-any.whl (56 kB)\n",
            "\u001b[K     |████████████████████████████████| 56 kB 4.2 MB/s \n",
            "\u001b[?25hRequirement already satisfied: packaging>=20.0 in /usr/local/lib/python3.7/dist-packages (from transformers>=4.0.1->russian-paraphrasers==0.0.3) (21.0)\n",
            "Collecting sacremoses\n",
            "  Downloading sacremoses-0.0.46-py3-none-any.whl (895 kB)\n",
            "\u001b[K     |████████████████████████████████| 895 kB 39.6 MB/s \n",
            "\u001b[?25hRequirement already satisfied: filelock in /usr/local/lib/python3.7/dist-packages (from transformers>=4.0.1->russian-paraphrasers==0.0.3) (3.3.0)\n",
            "Requirement already satisfied: importlib-metadata in /usr/local/lib/python3.7/dist-packages (from transformers>=4.0.1->russian-paraphrasers==0.0.3) (4.8.1)\n",
            "Collecting tokenizers<0.11,>=0.10.1\n",
            "  Downloading tokenizers-0.10.3-cp37-cp37m-manylinux_2_5_x86_64.manylinux1_x86_64.manylinux_2_12_x86_64.manylinux2010_x86_64.whl (3.3 MB)\n",
            "\u001b[K     |████████████████████████████████| 3.3 MB 34.4 MB/s \n",
            "\u001b[?25hRequirement already satisfied: pyparsing>=2.0.2 in /usr/local/lib/python3.7/dist-packages (from packaging>=20.0->transformers>=4.0.1->russian-paraphrasers==0.0.3) (2.4.7)\n",
            "Requirement already satisfied: zipp>=0.5 in /usr/local/lib/python3.7/dist-packages (from importlib-metadata->transformers>=4.0.1->russian-paraphrasers==0.0.3) (3.6.0)\n",
            "Building wheels for collected packages: russian-paraphrasers, nlg-eval, sentence-transformers, Theano\n",
            "  Building wheel for russian-paraphrasers (setup.py) ... \u001b[?25l\u001b[?25hdone\n",
            "  Created wheel for russian-paraphrasers: filename=russian_paraphrasers-0.0.3-py3-none-any.whl size=11627 sha256=ac85708e2cb858e5dcc86f36d29c9cc77fd5140d31e9a9bdbe67aa7cff364fd1\n",
            "  Stored in directory: /tmp/pip-ephem-wheel-cache-9ywey8e6/wheels/fa/2b/97/b451835dfbeeaa183a110df1d6ba143f12fefe7ee7c2113505\n",
            "  Building wheel for nlg-eval (setup.py) ... \u001b[?25l\u001b[?25hdone\n",
            "  Created wheel for nlg-eval: filename=nlg_eval-2.3-py3-none-any.whl size=68175165 sha256=c85dc64902f395d0aee2e6e771da2963ec09f473a27cf0cad6f82d90decfe862\n",
            "  Stored in directory: /tmp/pip-ephem-wheel-cache-9ywey8e6/wheels/08/20/df/33ced66932f198c4323042d18ff1c2db9b9716369f0de4afb4\n",
            "  Building wheel for sentence-transformers (setup.py) ... \u001b[?25l\u001b[?25hdone\n",
            "  Created wheel for sentence-transformers: filename=sentence_transformers-0.4.0-py3-none-any.whl size=102653 sha256=753316602c4a680f75bec48a4f0f7f0d7ed54fcc9fc35829f80f0079f2d15328\n",
            "  Stored in directory: /root/.cache/pip/wheels/2a/8d/08/4a10448945e7a511061172df2c2a890e0d359e9a2060d89c44\n",
            "  Building wheel for Theano (setup.py) ... \u001b[?25l\u001b[?25hdone\n",
            "  Created wheel for Theano: filename=Theano-1.0.5-py3-none-any.whl size=2668111 sha256=7899601bd894eed010cf7fc6337aa364947fd9cc552c4bfbf9a4eb787b032af2\n",
            "  Stored in directory: /root/.cache/pip/wheels/26/68/6f/745330367ce7822fe0cd863712858151f5723a0a5e322cc144\n",
            "Successfully built russian-paraphrasers nlg-eval sentence-transformers Theano\n",
            "Installing collected packages: regex, pyyaml, tokenizers, sacremoses, huggingface-hub, xdg, transformers, Theano, sentencepiece, psutil, nltk, gensim, sentence-transformers, nlg-eval, russian-paraphrasers\n",
            "  Attempting uninstall: regex\n",
            "    Found existing installation: regex 2019.12.20\n",
            "    Uninstalling regex-2019.12.20:\n",
            "      Successfully uninstalled regex-2019.12.20\n",
            "  Attempting uninstall: pyyaml\n",
            "    Found existing installation: PyYAML 3.13\n",
            "    Uninstalling PyYAML-3.13:\n",
            "      Successfully uninstalled PyYAML-3.13\n",
            "  Attempting uninstall: psutil\n",
            "    Found existing installation: psutil 5.4.8\n",
            "    Uninstalling psutil-5.4.8:\n",
            "      Successfully uninstalled psutil-5.4.8\n",
            "  Attempting uninstall: nltk\n",
            "    Found existing installation: nltk 3.2.5\n",
            "    Uninstalling nltk-3.2.5:\n",
            "      Successfully uninstalled nltk-3.2.5\n",
            "  Attempting uninstall: gensim\n",
            "    Found existing installation: gensim 3.6.0\n",
            "    Uninstalling gensim-3.6.0:\n",
            "      Successfully uninstalled gensim-3.6.0\n",
            "Successfully installed Theano-1.0.5 gensim-3.8.3 huggingface-hub-0.0.19 nlg-eval-2.3 nltk-3.6.5 psutil-5.8.0 pyyaml-5.4.1 regex-2021.10.8 russian-paraphrasers-0.0.3 sacremoses-0.0.46 sentence-transformers-0.4.0 sentencepiece-0.1.96 tokenizers-0.10.3 transformers-4.11.3 xdg-5.1.1\n"
          ]
        },
        {
          "output_type": "display_data",
          "data": {
            "application/vnd.colab-display-data+json": {
              "pip_warning": {
                "packages": [
                  "psutil"
                ]
              }
            }
          },
          "metadata": {}
        }
      ]
    },
    {
      "cell_type": "markdown",
      "metadata": {
        "id": "WOXaypmlkbDr"
      },
      "source": [
        "#### or you can install it from pypi"
      ]
    },
    {
      "cell_type": "code",
      "metadata": {
        "id": "Vp-KfihEekXD",
        "colab": {
          "base_uri": "https://localhost:8080/"
        },
        "outputId": "4ef3e49d-d8a8-418d-ab7c-e800cdf3f9ab"
      },
      "source": [
        "!pip install russian-paraphrasers"
      ],
      "execution_count": 2,
      "outputs": [
        {
          "output_type": "stream",
          "name": "stdout",
          "text": [
            "Requirement already satisfied: russian-paraphrasers in /usr/local/lib/python3.7/dist-packages (0.0.3)\n",
            "Collecting nlg-eval@ git+https://github.com/Maluuba/nlg-eval.git@master\n",
            "  Cloning https://github.com/Maluuba/nlg-eval.git (to revision master) to /tmp/pip-install-pi1t2qcf/nlg-eval_389e055f84834004a3827c38456b1ae9\n",
            "  Running command git clone -q https://github.com/Maluuba/nlg-eval.git /tmp/pip-install-pi1t2qcf/nlg-eval_389e055f84834004a3827c38456b1ae9\n",
            "Requirement already satisfied: transformers>=4.0.1 in /usr/local/lib/python3.7/dist-packages (from russian-paraphrasers) (4.11.3)\n",
            "Requirement already satisfied: sentence-transformers==0.4.0 in /usr/local/lib/python3.7/dist-packages (from russian-paraphrasers) (0.4.0)\n",
            "Requirement already satisfied: scipy in /usr/local/lib/python3.7/dist-packages (from russian-paraphrasers) (1.4.1)\n",
            "Requirement already satisfied: nltk in /usr/local/lib/python3.7/dist-packages (from russian-paraphrasers) (3.6.5)\n",
            "Requirement already satisfied: numpy>=1.11.0 in /usr/local/lib/python3.7/dist-packages (from nlg-eval@ git+https://github.com/Maluuba/nlg-eval.git@master->russian-paraphrasers) (1.19.5)\n",
            "Requirement already satisfied: psutil>=5.6.2 in /usr/local/lib/python3.7/dist-packages (from nlg-eval@ git+https://github.com/Maluuba/nlg-eval.git@master->russian-paraphrasers) (5.8.0)\n",
            "Requirement already satisfied: requests>=2.19 in /usr/local/lib/python3.7/dist-packages (from nlg-eval@ git+https://github.com/Maluuba/nlg-eval.git@master->russian-paraphrasers) (2.23.0)\n",
            "Requirement already satisfied: six>=1.11 in /usr/local/lib/python3.7/dist-packages (from nlg-eval@ git+https://github.com/Maluuba/nlg-eval.git@master->russian-paraphrasers) (1.15.0)\n",
            "Requirement already satisfied: Cython>=0.28.5 in /usr/local/lib/python3.7/dist-packages (from nlg-eval@ git+https://github.com/Maluuba/nlg-eval.git@master->russian-paraphrasers) (0.29.24)\n",
            "Requirement already satisfied: scikit-learn>=0.17 in /usr/local/lib/python3.7/dist-packages (from nlg-eval@ git+https://github.com/Maluuba/nlg-eval.git@master->russian-paraphrasers) (0.22.2.post1)\n",
            "Requirement already satisfied: gensim~=3.8.3 in /usr/local/lib/python3.7/dist-packages (from nlg-eval@ git+https://github.com/Maluuba/nlg-eval.git@master->russian-paraphrasers) (3.8.3)\n",
            "Requirement already satisfied: Theano>=0.8.1 in /usr/local/lib/python3.7/dist-packages (from nlg-eval@ git+https://github.com/Maluuba/nlg-eval.git@master->russian-paraphrasers) (1.0.5)\n",
            "Requirement already satisfied: tqdm>=4.24 in /usr/local/lib/python3.7/dist-packages (from nlg-eval@ git+https://github.com/Maluuba/nlg-eval.git@master->russian-paraphrasers) (4.62.3)\n",
            "Requirement already satisfied: xdg in /usr/local/lib/python3.7/dist-packages (from nlg-eval@ git+https://github.com/Maluuba/nlg-eval.git@master->russian-paraphrasers) (5.1.1)\n",
            "Requirement already satisfied: sentencepiece in /usr/local/lib/python3.7/dist-packages (from sentence-transformers==0.4.0->russian-paraphrasers) (0.1.96)\n",
            "Requirement already satisfied: torch>=1.6.0 in /usr/local/lib/python3.7/dist-packages (from sentence-transformers==0.4.0->russian-paraphrasers) (1.9.0+cu111)\n",
            "Requirement already satisfied: smart-open>=1.8.1 in /usr/local/lib/python3.7/dist-packages (from gensim~=3.8.3->nlg-eval@ git+https://github.com/Maluuba/nlg-eval.git@master->russian-paraphrasers) (5.2.1)\n",
            "Requirement already satisfied: regex>=2021.8.3 in /usr/local/lib/python3.7/dist-packages (from nltk->russian-paraphrasers) (2021.10.8)\n",
            "Requirement already satisfied: joblib in /usr/local/lib/python3.7/dist-packages (from nltk->russian-paraphrasers) (1.0.1)\n",
            "Requirement already satisfied: click in /usr/local/lib/python3.7/dist-packages (from nltk->russian-paraphrasers) (7.1.2)\n",
            "Requirement already satisfied: certifi>=2017.4.17 in /usr/local/lib/python3.7/dist-packages (from requests>=2.19->nlg-eval@ git+https://github.com/Maluuba/nlg-eval.git@master->russian-paraphrasers) (2021.5.30)\n",
            "Requirement already satisfied: chardet<4,>=3.0.2 in /usr/local/lib/python3.7/dist-packages (from requests>=2.19->nlg-eval@ git+https://github.com/Maluuba/nlg-eval.git@master->russian-paraphrasers) (3.0.4)\n",
            "Requirement already satisfied: idna<3,>=2.5 in /usr/local/lib/python3.7/dist-packages (from requests>=2.19->nlg-eval@ git+https://github.com/Maluuba/nlg-eval.git@master->russian-paraphrasers) (2.10)\n",
            "Requirement already satisfied: urllib3!=1.25.0,!=1.25.1,<1.26,>=1.21.1 in /usr/local/lib/python3.7/dist-packages (from requests>=2.19->nlg-eval@ git+https://github.com/Maluuba/nlg-eval.git@master->russian-paraphrasers) (1.24.3)\n",
            "Requirement already satisfied: typing-extensions in /usr/local/lib/python3.7/dist-packages (from torch>=1.6.0->sentence-transformers==0.4.0->russian-paraphrasers) (3.7.4.3)\n",
            "Requirement already satisfied: packaging>=20.0 in /usr/local/lib/python3.7/dist-packages (from transformers>=4.0.1->russian-paraphrasers) (21.0)\n",
            "Requirement already satisfied: sacremoses in /usr/local/lib/python3.7/dist-packages (from transformers>=4.0.1->russian-paraphrasers) (0.0.46)\n",
            "Requirement already satisfied: huggingface-hub>=0.0.17 in /usr/local/lib/python3.7/dist-packages (from transformers>=4.0.1->russian-paraphrasers) (0.0.19)\n",
            "Requirement already satisfied: pyyaml>=5.1 in /usr/local/lib/python3.7/dist-packages (from transformers>=4.0.1->russian-paraphrasers) (5.4.1)\n",
            "Requirement already satisfied: tokenizers<0.11,>=0.10.1 in /usr/local/lib/python3.7/dist-packages (from transformers>=4.0.1->russian-paraphrasers) (0.10.3)\n",
            "Requirement already satisfied: filelock in /usr/local/lib/python3.7/dist-packages (from transformers>=4.0.1->russian-paraphrasers) (3.3.0)\n",
            "Requirement already satisfied: importlib-metadata in /usr/local/lib/python3.7/dist-packages (from transformers>=4.0.1->russian-paraphrasers) (4.8.1)\n",
            "Requirement already satisfied: pyparsing>=2.0.2 in /usr/local/lib/python3.7/dist-packages (from packaging>=20.0->transformers>=4.0.1->russian-paraphrasers) (2.4.7)\n",
            "Requirement already satisfied: zipp>=0.5 in /usr/local/lib/python3.7/dist-packages (from importlib-metadata->transformers>=4.0.1->russian-paraphrasers) (3.6.0)\n"
          ]
        }
      ]
    },
    {
      "cell_type": "code",
      "metadata": {
        "id": "J8Xm2MMAoUqO",
        "colab": {
          "base_uri": "https://localhost:8080/"
        },
        "outputId": "41c5f39f-2040-4a4e-9694-a182622f76d5"
      },
      "source": [
        "# However, pypi can't load not direct dependencies. Please install these for evaluation scripts\n",
        "!pip install sentence-transformers==0.4.0\n",
        "!pip install git+https://github.com/Maluuba/nlg-eval.git@master"
      ],
      "execution_count": 3,
      "outputs": [
        {
          "output_type": "stream",
          "name": "stdout",
          "text": [
            "Requirement already satisfied: sentence-transformers==0.4.0 in /usr/local/lib/python3.7/dist-packages (0.4.0)\n",
            "Requirement already satisfied: nltk in /usr/local/lib/python3.7/dist-packages (from sentence-transformers==0.4.0) (3.6.5)\n",
            "Requirement already satisfied: torch>=1.6.0 in /usr/local/lib/python3.7/dist-packages (from sentence-transformers==0.4.0) (1.9.0+cu111)\n",
            "Requirement already satisfied: sentencepiece in /usr/local/lib/python3.7/dist-packages (from sentence-transformers==0.4.0) (0.1.96)\n",
            "Requirement already satisfied: scipy in /usr/local/lib/python3.7/dist-packages (from sentence-transformers==0.4.0) (1.4.1)\n",
            "Requirement already satisfied: tqdm in /usr/local/lib/python3.7/dist-packages (from sentence-transformers==0.4.0) (4.62.3)\n",
            "Requirement already satisfied: numpy in /usr/local/lib/python3.7/dist-packages (from sentence-transformers==0.4.0) (1.19.5)\n",
            "Requirement already satisfied: transformers<5.0.0,>=3.1.0 in /usr/local/lib/python3.7/dist-packages (from sentence-transformers==0.4.0) (4.11.3)\n",
            "Requirement already satisfied: scikit-learn in /usr/local/lib/python3.7/dist-packages (from sentence-transformers==0.4.0) (0.22.2.post1)\n",
            "Requirement already satisfied: typing-extensions in /usr/local/lib/python3.7/dist-packages (from torch>=1.6.0->sentence-transformers==0.4.0) (3.7.4.3)\n",
            "Requirement already satisfied: regex!=2019.12.17 in /usr/local/lib/python3.7/dist-packages (from transformers<5.0.0,>=3.1.0->sentence-transformers==0.4.0) (2021.10.8)\n",
            "Requirement already satisfied: tokenizers<0.11,>=0.10.1 in /usr/local/lib/python3.7/dist-packages (from transformers<5.0.0,>=3.1.0->sentence-transformers==0.4.0) (0.10.3)\n",
            "Requirement already satisfied: sacremoses in /usr/local/lib/python3.7/dist-packages (from transformers<5.0.0,>=3.1.0->sentence-transformers==0.4.0) (0.0.46)\n",
            "Requirement already satisfied: pyyaml>=5.1 in /usr/local/lib/python3.7/dist-packages (from transformers<5.0.0,>=3.1.0->sentence-transformers==0.4.0) (5.4.1)\n",
            "Requirement already satisfied: filelock in /usr/local/lib/python3.7/dist-packages (from transformers<5.0.0,>=3.1.0->sentence-transformers==0.4.0) (3.3.0)\n",
            "Requirement already satisfied: requests in /usr/local/lib/python3.7/dist-packages (from transformers<5.0.0,>=3.1.0->sentence-transformers==0.4.0) (2.23.0)\n",
            "Requirement already satisfied: packaging>=20.0 in /usr/local/lib/python3.7/dist-packages (from transformers<5.0.0,>=3.1.0->sentence-transformers==0.4.0) (21.0)\n",
            "Requirement already satisfied: importlib-metadata in /usr/local/lib/python3.7/dist-packages (from transformers<5.0.0,>=3.1.0->sentence-transformers==0.4.0) (4.8.1)\n",
            "Requirement already satisfied: huggingface-hub>=0.0.17 in /usr/local/lib/python3.7/dist-packages (from transformers<5.0.0,>=3.1.0->sentence-transformers==0.4.0) (0.0.19)\n",
            "Requirement already satisfied: pyparsing>=2.0.2 in /usr/local/lib/python3.7/dist-packages (from packaging>=20.0->transformers<5.0.0,>=3.1.0->sentence-transformers==0.4.0) (2.4.7)\n",
            "Requirement already satisfied: zipp>=0.5 in /usr/local/lib/python3.7/dist-packages (from importlib-metadata->transformers<5.0.0,>=3.1.0->sentence-transformers==0.4.0) (3.6.0)\n",
            "Requirement already satisfied: click in /usr/local/lib/python3.7/dist-packages (from nltk->sentence-transformers==0.4.0) (7.1.2)\n",
            "Requirement already satisfied: joblib in /usr/local/lib/python3.7/dist-packages (from nltk->sentence-transformers==0.4.0) (1.0.1)\n",
            "Requirement already satisfied: idna<3,>=2.5 in /usr/local/lib/python3.7/dist-packages (from requests->transformers<5.0.0,>=3.1.0->sentence-transformers==0.4.0) (2.10)\n",
            "Requirement already satisfied: certifi>=2017.4.17 in /usr/local/lib/python3.7/dist-packages (from requests->transformers<5.0.0,>=3.1.0->sentence-transformers==0.4.0) (2021.5.30)\n",
            "Requirement already satisfied: chardet<4,>=3.0.2 in /usr/local/lib/python3.7/dist-packages (from requests->transformers<5.0.0,>=3.1.0->sentence-transformers==0.4.0) (3.0.4)\n",
            "Requirement already satisfied: urllib3!=1.25.0,!=1.25.1,<1.26,>=1.21.1 in /usr/local/lib/python3.7/dist-packages (from requests->transformers<5.0.0,>=3.1.0->sentence-transformers==0.4.0) (1.24.3)\n",
            "Requirement already satisfied: six in /usr/local/lib/python3.7/dist-packages (from sacremoses->transformers<5.0.0,>=3.1.0->sentence-transformers==0.4.0) (1.15.0)\n",
            "Collecting git+https://github.com/Maluuba/nlg-eval.git@master\n",
            "  Cloning https://github.com/Maluuba/nlg-eval.git (to revision master) to /tmp/pip-req-build-_rtw9u9q\n",
            "  Running command git clone -q https://github.com/Maluuba/nlg-eval.git /tmp/pip-req-build-_rtw9u9q\n",
            "Requirement already satisfied: nltk>=3.4.5 in /usr/local/lib/python3.7/dist-packages (from nlg-eval==2.3) (3.6.5)\n",
            "Requirement already satisfied: numpy>=1.11.0 in /usr/local/lib/python3.7/dist-packages (from nlg-eval==2.3) (1.19.5)\n",
            "Requirement already satisfied: psutil>=5.6.2 in /usr/local/lib/python3.7/dist-packages (from nlg-eval==2.3) (5.8.0)\n",
            "Requirement already satisfied: requests>=2.19 in /usr/local/lib/python3.7/dist-packages (from nlg-eval==2.3) (2.23.0)\n",
            "Requirement already satisfied: six>=1.11 in /usr/local/lib/python3.7/dist-packages (from nlg-eval==2.3) (1.15.0)\n",
            "Requirement already satisfied: Cython>=0.28.5 in /usr/local/lib/python3.7/dist-packages (from nlg-eval==2.3) (0.29.24)\n",
            "Requirement already satisfied: scipy>=0.17.0 in /usr/local/lib/python3.7/dist-packages (from nlg-eval==2.3) (1.4.1)\n",
            "Requirement already satisfied: scikit-learn>=0.17 in /usr/local/lib/python3.7/dist-packages (from nlg-eval==2.3) (0.22.2.post1)\n",
            "Requirement already satisfied: gensim~=3.8.3 in /usr/local/lib/python3.7/dist-packages (from nlg-eval==2.3) (3.8.3)\n",
            "Requirement already satisfied: Theano>=0.8.1 in /usr/local/lib/python3.7/dist-packages (from nlg-eval==2.3) (1.0.5)\n",
            "Requirement already satisfied: tqdm>=4.24 in /usr/local/lib/python3.7/dist-packages (from nlg-eval==2.3) (4.62.3)\n",
            "Requirement already satisfied: xdg in /usr/local/lib/python3.7/dist-packages (from nlg-eval==2.3) (5.1.1)\n",
            "Requirement already satisfied: smart-open>=1.8.1 in /usr/local/lib/python3.7/dist-packages (from gensim~=3.8.3->nlg-eval==2.3) (5.2.1)\n",
            "Requirement already satisfied: regex>=2021.8.3 in /usr/local/lib/python3.7/dist-packages (from nltk>=3.4.5->nlg-eval==2.3) (2021.10.8)\n",
            "Requirement already satisfied: click in /usr/local/lib/python3.7/dist-packages (from nltk>=3.4.5->nlg-eval==2.3) (7.1.2)\n",
            "Requirement already satisfied: joblib in /usr/local/lib/python3.7/dist-packages (from nltk>=3.4.5->nlg-eval==2.3) (1.0.1)\n",
            "Requirement already satisfied: idna<3,>=2.5 in /usr/local/lib/python3.7/dist-packages (from requests>=2.19->nlg-eval==2.3) (2.10)\n",
            "Requirement already satisfied: chardet<4,>=3.0.2 in /usr/local/lib/python3.7/dist-packages (from requests>=2.19->nlg-eval==2.3) (3.0.4)\n",
            "Requirement already satisfied: urllib3!=1.25.0,!=1.25.1,<1.26,>=1.21.1 in /usr/local/lib/python3.7/dist-packages (from requests>=2.19->nlg-eval==2.3) (1.24.3)\n",
            "Requirement already satisfied: certifi>=2017.4.17 in /usr/local/lib/python3.7/dist-packages (from requests>=2.19->nlg-eval==2.3) (2021.5.30)\n"
          ]
        }
      ]
    },
    {
      "cell_type": "markdown",
      "metadata": {
        "id": "NTSKhC8F0Z8Y"
      },
      "source": [
        "If you do it on your machine (may be Macbook) and you have problems with protobuf installation: 1) sentence-transformers==0.3.9 2) transformers>=4.0.1 and everything will work."
      ]
    },
    {
      "cell_type": "markdown",
      "metadata": {
        "id": "o9ok7pOnyCSO"
      },
      "source": [
        "## Usage"
      ]
    },
    {
      "cell_type": "markdown",
      "metadata": {
        "id": "YqI65OjKzGnD"
      },
      "source": [
        "You can set paramaters `range_cand` and `make_eval` to True if you want range candidates and score them. "
      ]
    },
    {
      "cell_type": "code",
      "metadata": {
        "colab": {
          "base_uri": "https://localhost:8080/",
          "height": 597,
          "referenced_widgets": [
            "28797e83ec3547859833b569874d7d55",
            "ed96b01685134c06a68e48f7bc530649",
            "e204be7e80ac4e78a8519f9e42147c8c",
            "a24cff31eccb43d9a53984f4246570ad",
            "6e5b24ff4ee3407c9c07c1a4125893b1",
            "90b9f92abbbb4c528fe80f947bfac278",
            "8f29d58e7b71427e9e0abb7ebbab19e2",
            "36cae87ecb0d42ed911c6acafdca7190",
            "e5dfa843736c417c8f17c4721c1051dc",
            "d24ee49b11ff447cade4027ceb5efa49",
            "43a6aec0c5df4cddb35d637ae61fceb3"
          ]
        },
        "id": "hPy_fn08oOw8",
        "outputId": "718f2a1a-329b-48d4-daf9-7c15f20a0930"
      },
      "source": [
        "from russian_paraphrasers import Mt5Paraphraser\n",
        "\n",
        "paraphraser = Mt5Paraphraser(model_name=\"mt5-small\", range_cand=True, make_eval=True) # on this stage paraphraser model will be loaded"
      ],
      "execution_count": 4,
      "outputs": [
        {
          "output_type": "stream",
          "name": "stderr",
          "text": [
            "[nltk_data] Downloading package punkt to /root/nltk_data...\n",
            "[nltk_data]   Unzipping tokenizers/punkt.zip.\n",
            "100%|██████████| 1.01G/1.01G [00:44<00:00, 23.0MB/s]\n",
            "DEBUG:filelock:Attempting to acquire lock 140651083996496 on /root/.cache/huggingface/transformers/101bc5202aa738ff2d4224cfe844e48782314df3b227f3c361f07edbe950d7f5.0390a25532c68b08d9a64ce036c44aca52be469cef0b5feba446126bb2dbfaaf.lock\n",
            "DEBUG:filelock:Lock 140651083996496 acquired on /root/.cache/huggingface/transformers/101bc5202aa738ff2d4224cfe844e48782314df3b227f3c361f07edbe950d7f5.0390a25532c68b08d9a64ce036c44aca52be469cef0b5feba446126bb2dbfaaf.lock\n"
          ]
        },
        {
          "output_type": "display_data",
          "data": {
            "application/vnd.jupyter.widget-view+json": {
              "model_id": "28797e83ec3547859833b569874d7d55",
              "version_minor": 0,
              "version_major": 2
            },
            "text/plain": [
              "Downloading:   0%|          | 0.00/592 [00:00<?, ?B/s]"
            ]
          },
          "metadata": {}
        },
        {
          "output_type": "stream",
          "name": "stderr",
          "text": [
            "DEBUG:filelock:Attempting to release lock 140651083996496 on /root/.cache/huggingface/transformers/101bc5202aa738ff2d4224cfe844e48782314df3b227f3c361f07edbe950d7f5.0390a25532c68b08d9a64ce036c44aca52be469cef0b5feba446126bb2dbfaaf.lock\n",
            "DEBUG:filelock:Lock 140651083996496 released on /root/.cache/huggingface/transformers/101bc5202aa738ff2d4224cfe844e48782314df3b227f3c361f07edbe950d7f5.0390a25532c68b08d9a64ce036c44aca52be469cef0b5feba446126bb2dbfaaf.lock\n",
            "DEBUG:filelock:Attempting to acquire lock 140651084014416 on /root/.cache/huggingface/transformers/b45bc94cba6db685e10230322316253bd71376515719b376c45b1a99d1bc6c79.242fb4b227f0090ce8c3a7f7a494a9c52a35b38bea3ef38d4388ebbfd3e115e8.lock\n",
            "DEBUG:filelock:Lock 140651084014416 acquired on /root/.cache/huggingface/transformers/b45bc94cba6db685e10230322316253bd71376515719b376c45b1a99d1bc6c79.242fb4b227f0090ce8c3a7f7a494a9c52a35b38bea3ef38d4388ebbfd3e115e8.lock\n"
          ]
        },
        {
          "output_type": "display_data",
          "data": {
            "application/vnd.jupyter.widget-view+json": {
              "model_id": "fd6103930d534f5a9e37b9b7e1e4a3a8",
              "version_minor": 0,
              "version_major": 2
            },
            "text/plain": [
              "Downloading:   0%|          | 0.00/1.12G [00:00<?, ?B/s]"
            ]
          },
          "metadata": {}
        },
        {
          "output_type": "stream",
          "name": "stderr",
          "text": [
            "DEBUG:filelock:Attempting to release lock 140651084014416 on /root/.cache/huggingface/transformers/b45bc94cba6db685e10230322316253bd71376515719b376c45b1a99d1bc6c79.242fb4b227f0090ce8c3a7f7a494a9c52a35b38bea3ef38d4388ebbfd3e115e8.lock\n",
            "DEBUG:filelock:Lock 140651084014416 released on /root/.cache/huggingface/transformers/b45bc94cba6db685e10230322316253bd71376515719b376c45b1a99d1bc6c79.242fb4b227f0090ce8c3a7f7a494a9c52a35b38bea3ef38d4388ebbfd3e115e8.lock\n",
            "DEBUG:filelock:Attempting to acquire lock 140651079006928 on /root/.cache/huggingface/transformers/feb96b9f812695b7dace957d1f8fa24bb83b63e1be6a2210e6cfa04be98a52c6.4b81e5d952ad810ca1de2b3e362b9a26a5cc77b4b75daf20caf69fb838751c32.lock\n",
            "DEBUG:filelock:Lock 140651079006928 acquired on /root/.cache/huggingface/transformers/feb96b9f812695b7dace957d1f8fa24bb83b63e1be6a2210e6cfa04be98a52c6.4b81e5d952ad810ca1de2b3e362b9a26a5cc77b4b75daf20caf69fb838751c32.lock\n"
          ]
        },
        {
          "output_type": "display_data",
          "data": {
            "application/vnd.jupyter.widget-view+json": {
              "model_id": "f82d2c84be2b4934bb4eba8ab09f4df9",
              "version_minor": 0,
              "version_major": 2
            },
            "text/plain": [
              "Downloading:   0%|          | 0.00/82.0 [00:00<?, ?B/s]"
            ]
          },
          "metadata": {}
        },
        {
          "output_type": "stream",
          "name": "stderr",
          "text": [
            "DEBUG:filelock:Attempting to release lock 140651079006928 on /root/.cache/huggingface/transformers/feb96b9f812695b7dace957d1f8fa24bb83b63e1be6a2210e6cfa04be98a52c6.4b81e5d952ad810ca1de2b3e362b9a26a5cc77b4b75daf20caf69fb838751c32.lock\n",
            "DEBUG:filelock:Lock 140651079006928 released on /root/.cache/huggingface/transformers/feb96b9f812695b7dace957d1f8fa24bb83b63e1be6a2210e6cfa04be98a52c6.4b81e5d952ad810ca1de2b3e362b9a26a5cc77b4b75daf20caf69fb838751c32.lock\n",
            "DEBUG:filelock:Attempting to acquire lock 140651082236688 on /root/.cache/huggingface/transformers/a89565ca8f0060d3dd2eff82f1e1085bc38e570fa22eb1cfb3f15160e0438533.84ea7af2df68dc8db434d3160aab65cce8ac63ce5b6f7743f8c9a4a14b4f77e2.lock\n",
            "DEBUG:filelock:Lock 140651082236688 acquired on /root/.cache/huggingface/transformers/a89565ca8f0060d3dd2eff82f1e1085bc38e570fa22eb1cfb3f15160e0438533.84ea7af2df68dc8db434d3160aab65cce8ac63ce5b6f7743f8c9a4a14b4f77e2.lock\n"
          ]
        },
        {
          "output_type": "display_data",
          "data": {
            "application/vnd.jupyter.widget-view+json": {
              "model_id": "6d5b384617e248a988c0f06df37a85fb",
              "version_minor": 0,
              "version_major": 2
            },
            "text/plain": [
              "Downloading:   0%|          | 0.00/4.11M [00:00<?, ?B/s]"
            ]
          },
          "metadata": {}
        },
        {
          "output_type": "stream",
          "name": "stderr",
          "text": [
            "DEBUG:filelock:Attempting to release lock 140651082236688 on /root/.cache/huggingface/transformers/a89565ca8f0060d3dd2eff82f1e1085bc38e570fa22eb1cfb3f15160e0438533.84ea7af2df68dc8db434d3160aab65cce8ac63ce5b6f7743f8c9a4a14b4f77e2.lock\n",
            "DEBUG:filelock:Lock 140651082236688 released on /root/.cache/huggingface/transformers/a89565ca8f0060d3dd2eff82f1e1085bc38e570fa22eb1cfb3f15160e0438533.84ea7af2df68dc8db434d3160aab65cce8ac63ce5b6f7743f8c9a4a14b4f77e2.lock\n",
            "DEBUG:filelock:Attempting to acquire lock 140651079007696 on /root/.cache/huggingface/transformers/b84b14d79ab89aaa63dcfae30815d78d0243b08deef525002cea4a3aec678c65.f76030f3ec1b96a8199b2593390c610e76ca8028ef3d24680000619ffb646276.lock\n",
            "DEBUG:filelock:Lock 140651079007696 acquired on /root/.cache/huggingface/transformers/b84b14d79ab89aaa63dcfae30815d78d0243b08deef525002cea4a3aec678c65.f76030f3ec1b96a8199b2593390c610e76ca8028ef3d24680000619ffb646276.lock\n"
          ]
        },
        {
          "output_type": "display_data",
          "data": {
            "application/vnd.jupyter.widget-view+json": {
              "model_id": "7d1eaae01cb8485589c962777a9851ac",
              "version_minor": 0,
              "version_major": 2
            },
            "text/plain": [
              "Downloading:   0%|          | 0.00/99.0 [00:00<?, ?B/s]"
            ]
          },
          "metadata": {}
        },
        {
          "output_type": "stream",
          "name": "stderr",
          "text": [
            "DEBUG:filelock:Attempting to release lock 140651079007696 on /root/.cache/huggingface/transformers/b84b14d79ab89aaa63dcfae30815d78d0243b08deef525002cea4a3aec678c65.f76030f3ec1b96a8199b2593390c610e76ca8028ef3d24680000619ffb646276.lock\n",
            "DEBUG:filelock:Lock 140651079007696 released on /root/.cache/huggingface/transformers/b84b14d79ab89aaa63dcfae30815d78d0243b08deef525002cea4a3aec678c65.f76030f3ec1b96a8199b2593390c610e76ca8028ef3d24680000619ffb646276.lock\n"
          ]
        }
      ]
    },
    {
      "cell_type": "code",
      "metadata": {
        "colab": {
          "base_uri": "https://localhost:8080/",
          "height": 90
        },
        "id": "wqm2c6FCzh0s",
        "outputId": "8ee36fd2-2120-4d95-d2fa-d54cd6a6b46e"
      },
      "source": [
        "import random\n",
        "def make_good(text):\n",
        "    text = text.replace('\\n', '').replace('\\t','')\n",
        "    ind = 0\n",
        "    while ind < len(text) and not (text[ind] > 'А' and text[ind] < 'Я'):\n",
        "        ind += 1\n",
        "        \n",
        "    if ind == len(text):\n",
        "        text = text[text.find(' ') + 1:]\n",
        "    else:\n",
        "        text = text[ind:]\n",
        "    return text\n",
        "    \n",
        "def generate_paraphrase(text):\n",
        "  text = make_good(text)\n",
        "  origin = text.split('.')\n",
        "  predict = paraphraser.generate(text, top_k=2, n=2)\n",
        "  \n",
        "  ans = \"\"\n",
        "  for i, res in enumerate(predict['results']):\n",
        "    add = res['best_candidates']\n",
        "    if len(add) == 0:\n",
        "      add.append(origin[i])\n",
        "\n",
        "    ind = random.randint(0, min(3, len(add) - 1))\n",
        "    add = add[ind].strip()\n",
        "    if add[-1] != '.':\n",
        "      add += '.'\n",
        "    ans += \" \" + res['best_candidates'][ind]\n",
        "\n",
        "  return ans\n",
        "\n",
        "generate_paraphrase(\" 1.18. Когда ребята для соревнований взяли 19 скакалок, то осталось ещё 3 скакалки. Сколько скакалок было?\")"
      ],
      "execution_count": 47,
      "outputs": [
        {
          "output_type": "stream",
          "name": "stderr",
          "text": [
            "/usr/local/lib/python3.7/dist-packages/transformers/tokenization_utils_base.py:2217: FutureWarning: The `pad_to_max_length` argument is deprecated and will be removed in a future version, use `padding=True` or `padding='longest'` to pad to the longest sequence in the batch, or use `padding='max_length'` to pad to a max length. In this case, you can give a specific length with `max_length` (e.g. `max_length=45`) or leave max_length to None to pad to the maximal input size of the model (e.g. 512 for Bert).\n",
            "  FutureWarning,\n"
          ]
        },
        {
          "output_type": "execute_result",
          "data": {
            "application/vnd.google.colaboratory.intrinsic+json": {
              "type": "string"
            },
            "text/plain": [
              "' Когда ребята взяли 19 скакалок, то осталось 3 скекалки. Сколько скакалок были'"
            ]
          },
          "metadata": {},
          "execution_count": 47
        }
      ]
    },
    {
      "cell_type": "code",
      "metadata": {
        "id": "MDiYkdmi-d0d"
      },
      "source": [
        "import pandas as pd\n",
        "from tqdm import tqdm"
      ],
      "execution_count": 40,
      "outputs": []
    },
    {
      "cell_type": "code",
      "metadata": {
        "colab": {
          "base_uri": "https://localhost:8080/"
        },
        "id": "UgWCYNp_-f7I",
        "outputId": "191b7860-b778-447c-868e-ae14ae619085"
      },
      "source": [
        "data = pd.read_csv('full_marked_dataset.csv')\n",
        "data['paraphrase'] = None\n",
        "\n",
        "for i in tqdm(range(len(data))):\n",
        "  if data.at[i, 'ans'] == 'неизвестно':\n",
        "    continue\n",
        "  try :\n",
        "    data.at[i, 'pharaphrase'] = generate_paraphrase(data.at[i, 'text'])\n",
        "  except:\n",
        "    print('error in ', data.at[i, 'text'])\n",
        "  if i % 100 == 0 and i != 0:\n",
        "    data.to_csv('dataset.csv')"
      ],
      "execution_count": 49,
      "outputs": [
        {
          "output_type": "stream",
          "name": "stderr",
          "text": [
            "  0%|          | 0/1927 [00:00<?, ?it/s]/usr/local/lib/python3.7/dist-packages/transformers/tokenization_utils_base.py:2217: FutureWarning: The `pad_to_max_length` argument is deprecated and will be removed in a future version, use `padding=True` or `padding='longest'` to pad to the longest sequence in the batch, or use `padding='max_length'` to pad to a max length. In this case, you can give a specific length with `max_length` (e.g. `max_length=45`) or leave max_length to None to pad to the maximal input size of the model (e.g. 512 for Bert).\n",
            "  FutureWarning,\n",
            " 39%|███▉      | 755/1927 [12:06<1:06:17,  3.39s/it]"
          ]
        },
        {
          "output_type": "stream",
          "name": "stdout",
          "text": [
            "error in  \t23.6. Людоед съел 90 пончиков, а Три Толстяка – в 3 раза больше. Сколько пончиков съели Три Толстяка? Сколько пончиков съели Людоед и Три Толстяка вместе?\n"
          ]
        },
        {
          "output_type": "stream",
          "name": "stderr",
          "text": [
            "100%|██████████| 1927/1927 [41:52<00:00,  1.30s/it]\n"
          ]
        }
      ]
    },
    {
      "cell_type": "code",
      "metadata": {
        "id": "i35dwofS-u4L"
      },
      "source": [
        "data.to_csv('dataset.csv')"
      ],
      "execution_count": 50,
      "outputs": []
    },
    {
      "cell_type": "code",
      "metadata": {
        "colab": {
          "base_uri": "https://localhost:8080/",
          "height": 17
        },
        "id": "5SeiSWfu_q9k",
        "outputId": "93125ac5-f66a-4ce6-8462-c111da0dfa3d"
      },
      "source": [
        "from google.colab import files\n",
        "files.download('dataset.csv')"
      ],
      "execution_count": 51,
      "outputs": [
        {
          "output_type": "display_data",
          "data": {
            "application/javascript": [
              "\n",
              "    async function download(id, filename, size) {\n",
              "      if (!google.colab.kernel.accessAllowed) {\n",
              "        return;\n",
              "      }\n",
              "      const div = document.createElement('div');\n",
              "      const label = document.createElement('label');\n",
              "      label.textContent = `Downloading \"${filename}\": `;\n",
              "      div.appendChild(label);\n",
              "      const progress = document.createElement('progress');\n",
              "      progress.max = size;\n",
              "      div.appendChild(progress);\n",
              "      document.body.appendChild(div);\n",
              "\n",
              "      const buffers = [];\n",
              "      let downloaded = 0;\n",
              "\n",
              "      const channel = await google.colab.kernel.comms.open(id);\n",
              "      // Send a message to notify the kernel that we're ready.\n",
              "      channel.send({})\n",
              "\n",
              "      for await (const message of channel.messages) {\n",
              "        // Send a message to notify the kernel that we're ready.\n",
              "        channel.send({})\n",
              "        if (message.buffers) {\n",
              "          for (const buffer of message.buffers) {\n",
              "            buffers.push(buffer);\n",
              "            downloaded += buffer.byteLength;\n",
              "            progress.value = downloaded;\n",
              "          }\n",
              "        }\n",
              "      }\n",
              "      const blob = new Blob(buffers, {type: 'application/binary'});\n",
              "      const a = document.createElement('a');\n",
              "      a.href = window.URL.createObjectURL(blob);\n",
              "      a.download = filename;\n",
              "      div.appendChild(a);\n",
              "      a.click();\n",
              "      div.remove();\n",
              "    }\n",
              "  "
            ],
            "text/plain": [
              "<IPython.core.display.Javascript object>"
            ]
          },
          "metadata": {}
        },
        {
          "output_type": "display_data",
          "data": {
            "application/javascript": [
              "download(\"download_acc33da5-a680-4fec-a090-47c0077df906\", \"dataset.csv\", 667639)"
            ],
            "text/plain": [
              "<IPython.core.display.Javascript object>"
            ]
          },
          "metadata": {}
        }
      ]
    },
    {
      "cell_type": "code",
      "metadata": {
        "colab": {
          "base_uri": "https://localhost:8080/",
          "height": 201
        },
        "id": "vpeVZvv7-4aE",
        "outputId": "d89343ec-0751-4e51-eecf-bceefc8962fc"
      },
      "source": [
        "data.head()"
      ],
      "execution_count": 23,
      "outputs": [
        {
          "output_type": "execute_result",
          "data": {
            "text/html": [
              "<div>\n",
              "<style scoped>\n",
              "    .dataframe tbody tr th:only-of-type {\n",
              "        vertical-align: middle;\n",
              "    }\n",
              "\n",
              "    .dataframe tbody tr th {\n",
              "        vertical-align: top;\n",
              "    }\n",
              "\n",
              "    .dataframe thead th {\n",
              "        text-align: right;\n",
              "    }\n",
              "</style>\n",
              "<table border=\"1\" class=\"dataframe\">\n",
              "  <thead>\n",
              "    <tr style=\"text-align: right;\">\n",
              "      <th></th>\n",
              "      <th>Unnamed: 0</th>\n",
              "      <th>text</th>\n",
              "      <th>ans</th>\n",
              "      <th>paraphrase</th>\n",
              "      <th>pharaphrase</th>\n",
              "    </tr>\n",
              "  </thead>\n",
              "  <tbody>\n",
              "    <tr>\n",
              "      <th>0</th>\n",
              "      <td>0</td>\n",
              "      <td>\\t1.1. Летом в спортивный лагерь ходили 50 дет...</td>\n",
              "      <td>спорт</td>\n",
              "      <td>None</td>\n",
              "      <td>ddd</td>\n",
              "    </tr>\n",
              "    <tr>\n",
              "      <th>1</th>\n",
              "      <td>1</td>\n",
              "      <td>\\t1.2. На концерте в летнем лагере ребята игра...</td>\n",
              "      <td>музыка</td>\n",
              "      <td>None</td>\n",
              "      <td>NaN</td>\n",
              "    </tr>\n",
              "    <tr>\n",
              "      <th>2</th>\n",
              "      <td>2</td>\n",
              "      <td>\\t1.3. В конце учебного года во 2 классе фотог...</td>\n",
              "      <td>неизвестно</td>\n",
              "      <td>None</td>\n",
              "      <td>NaN</td>\n",
              "    </tr>\n",
              "    <tr>\n",
              "      <th>3</th>\n",
              "      <td>3</td>\n",
              "      <td>\\t1.4. Во время летних соревнований по плавани...</td>\n",
              "      <td>спорт</td>\n",
              "      <td>None</td>\n",
              "      <td>NaN</td>\n",
              "    </tr>\n",
              "    <tr>\n",
              "      <th>4</th>\n",
              "      <td>4</td>\n",
              "      <td>\\t1.5. В спортивную школу во время летних кани...</td>\n",
              "      <td>спорт</td>\n",
              "      <td>None</td>\n",
              "      <td>NaN</td>\n",
              "    </tr>\n",
              "  </tbody>\n",
              "</table>\n",
              "</div>"
            ],
            "text/plain": [
              "   Unnamed: 0  ... pharaphrase\n",
              "0           0  ...         ddd\n",
              "1           1  ...         NaN\n",
              "2           2  ...         NaN\n",
              "3           3  ...         NaN\n",
              "4           4  ...         NaN\n",
              "\n",
              "[5 rows x 5 columns]"
            ]
          },
          "metadata": {},
          "execution_count": 23
        }
      ]
    },
    {
      "cell_type": "markdown",
      "metadata": {
        "id": "4pDnz9UWxT0l"
      },
      "source": [
        "## You can load any model available\n",
        "\n",
        "```\n",
        "from russian_paraphrasers import GPTParaphraser\n",
        "paraphraser = GPTParaphraser(model_name=\"gpt2\", range_cand=False, make_eval=False)\n",
        "```\n",
        "\n",
        "```\n",
        "from russian_paraphrasers import Mt5Paraphraser\n",
        "paraphraser = Mt5Paraphraser(model_name=\"mt5-base\", range_cand=False, make_eval=False) # mt5-large and mt5-small as well\n",
        "```\n",
        "\n",
        "But be carefull, load them separately - Colab will crush with memory error cause models are big."
      ]
    }
  ]
}