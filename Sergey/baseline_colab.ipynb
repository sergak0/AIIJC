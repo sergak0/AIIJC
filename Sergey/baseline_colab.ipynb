{
  "nbformat": 4,
  "nbformat_minor": 5,
  "metadata": {
    "accelerator": "GPU",
    "colab": {
      "name": "baseline.ipynb",
      "provenance": [],
      "collapsed_sections": []
    },
    "kernelspec": {
      "display_name": "Python 3 (ipykernel)",
      "language": "python",
      "name": "python3"
    },
    "language_info": {
      "codemirror_mode": {
        "name": "ipython",
        "version": 3
      },
      "file_extension": ".py",
      "mimetype": "text/x-python",
      "name": "python",
      "nbconvert_exporter": "python",
      "pygments_lexer": "ipython3",
      "version": "3.9.1"
    },
    "widgets": {
      "application/vnd.jupyter.widget-state+json": {
        "fd9974bc466a4ab3b8a3ec72ce0fa7ab": {
          "model_module": "@jupyter-widgets/controls",
          "model_name": "HBoxModel",
          "state": {
            "_dom_classes": [],
            "_model_module": "@jupyter-widgets/controls",
            "_model_module_version": "1.5.0",
            "_model_name": "HBoxModel",
            "_view_count": null,
            "_view_module": "@jupyter-widgets/controls",
            "_view_module_version": "1.5.0",
            "_view_name": "HBoxView",
            "box_style": "",
            "children": [
              "IPY_MODEL_37de166a70104101946da945be6931f9",
              "IPY_MODEL_d769bdace6954f3dad806bfa9da89e49"
            ],
            "layout": "IPY_MODEL_e3fdf21a265b4d409170e05251779827"
          }
        },
        "37de166a70104101946da945be6931f9": {
          "model_module": "@jupyter-widgets/controls",
          "model_name": "FloatProgressModel",
          "state": {
            "_dom_classes": [],
            "_model_module": "@jupyter-widgets/controls",
            "_model_module_version": "1.5.0",
            "_model_name": "FloatProgressModel",
            "_view_count": null,
            "_view_module": "@jupyter-widgets/controls",
            "_view_module_version": "1.5.0",
            "_view_name": "ProgressView",
            "bar_style": "success",
            "description": "100%",
            "description_tooltip": null,
            "layout": "IPY_MODEL_e4ec8f667aac470ea3d209cdff6f9a4b",
            "max": 150,
            "min": 0,
            "orientation": "horizontal",
            "style": "IPY_MODEL_1832976dd12e4c2bba9caaa483101e6b",
            "value": 150
          }
        },
        "d769bdace6954f3dad806bfa9da89e49": {
          "model_module": "@jupyter-widgets/controls",
          "model_name": "HTMLModel",
          "state": {
            "_dom_classes": [],
            "_model_module": "@jupyter-widgets/controls",
            "_model_module_version": "1.5.0",
            "_model_name": "HTMLModel",
            "_view_count": null,
            "_view_module": "@jupyter-widgets/controls",
            "_view_module_version": "1.5.0",
            "_view_name": "HTMLView",
            "description": "",
            "description_tooltip": null,
            "layout": "IPY_MODEL_1e44007e240e41d787ef031807fbdea6",
            "placeholder": "​",
            "style": "IPY_MODEL_a0b439b6a5044021bad9887ce400c97f",
            "value": " 150/150 [11:36&lt;00:00,  4.64s/it]"
          }
        },
        "e3fdf21a265b4d409170e05251779827": {
          "model_module": "@jupyter-widgets/base",
          "model_name": "LayoutModel",
          "state": {
            "_model_module": "@jupyter-widgets/base",
            "_model_module_version": "1.2.0",
            "_model_name": "LayoutModel",
            "_view_count": null,
            "_view_module": "@jupyter-widgets/base",
            "_view_module_version": "1.2.0",
            "_view_name": "LayoutView",
            "align_content": null,
            "align_items": null,
            "align_self": null,
            "border": null,
            "bottom": null,
            "display": null,
            "flex": null,
            "flex_flow": null,
            "grid_area": null,
            "grid_auto_columns": null,
            "grid_auto_flow": null,
            "grid_auto_rows": null,
            "grid_column": null,
            "grid_gap": null,
            "grid_row": null,
            "grid_template_areas": null,
            "grid_template_columns": null,
            "grid_template_rows": null,
            "height": null,
            "justify_content": null,
            "justify_items": null,
            "left": null,
            "margin": null,
            "max_height": null,
            "max_width": null,
            "min_height": null,
            "min_width": null,
            "object_fit": null,
            "object_position": null,
            "order": null,
            "overflow": null,
            "overflow_x": null,
            "overflow_y": null,
            "padding": null,
            "right": null,
            "top": null,
            "visibility": null,
            "width": null
          }
        },
        "e4ec8f667aac470ea3d209cdff6f9a4b": {
          "model_module": "@jupyter-widgets/base",
          "model_name": "LayoutModel",
          "state": {
            "_model_module": "@jupyter-widgets/base",
            "_model_module_version": "1.2.0",
            "_model_name": "LayoutModel",
            "_view_count": null,
            "_view_module": "@jupyter-widgets/base",
            "_view_module_version": "1.2.0",
            "_view_name": "LayoutView",
            "align_content": null,
            "align_items": null,
            "align_self": null,
            "border": null,
            "bottom": null,
            "display": null,
            "flex": null,
            "flex_flow": null,
            "grid_area": null,
            "grid_auto_columns": null,
            "grid_auto_flow": null,
            "grid_auto_rows": null,
            "grid_column": null,
            "grid_gap": null,
            "grid_row": null,
            "grid_template_areas": null,
            "grid_template_columns": null,
            "grid_template_rows": null,
            "height": null,
            "justify_content": null,
            "justify_items": null,
            "left": null,
            "margin": null,
            "max_height": null,
            "max_width": null,
            "min_height": null,
            "min_width": null,
            "object_fit": null,
            "object_position": null,
            "order": null,
            "overflow": null,
            "overflow_x": null,
            "overflow_y": null,
            "padding": null,
            "right": null,
            "top": null,
            "visibility": null,
            "width": null
          }
        },
        "1832976dd12e4c2bba9caaa483101e6b": {
          "model_module": "@jupyter-widgets/controls",
          "model_name": "ProgressStyleModel",
          "state": {
            "_model_module": "@jupyter-widgets/controls",
            "_model_module_version": "1.5.0",
            "_model_name": "ProgressStyleModel",
            "_view_count": null,
            "_view_module": "@jupyter-widgets/base",
            "_view_module_version": "1.2.0",
            "_view_name": "StyleView",
            "bar_color": null,
            "description_width": "initial"
          }
        },
        "1e44007e240e41d787ef031807fbdea6": {
          "model_module": "@jupyter-widgets/base",
          "model_name": "LayoutModel",
          "state": {
            "_model_module": "@jupyter-widgets/base",
            "_model_module_version": "1.2.0",
            "_model_name": "LayoutModel",
            "_view_count": null,
            "_view_module": "@jupyter-widgets/base",
            "_view_module_version": "1.2.0",
            "_view_name": "LayoutView",
            "align_content": null,
            "align_items": null,
            "align_self": null,
            "border": null,
            "bottom": null,
            "display": null,
            "flex": null,
            "flex_flow": null,
            "grid_area": null,
            "grid_auto_columns": null,
            "grid_auto_flow": null,
            "grid_auto_rows": null,
            "grid_column": null,
            "grid_gap": null,
            "grid_row": null,
            "grid_template_areas": null,
            "grid_template_columns": null,
            "grid_template_rows": null,
            "height": null,
            "justify_content": null,
            "justify_items": null,
            "left": null,
            "margin": null,
            "max_height": null,
            "max_width": null,
            "min_height": null,
            "min_width": null,
            "object_fit": null,
            "object_position": null,
            "order": null,
            "overflow": null,
            "overflow_x": null,
            "overflow_y": null,
            "padding": null,
            "right": null,
            "top": null,
            "visibility": null,
            "width": null
          }
        },
        "a0b439b6a5044021bad9887ce400c97f": {
          "model_module": "@jupyter-widgets/controls",
          "model_name": "DescriptionStyleModel",
          "state": {
            "_model_module": "@jupyter-widgets/controls",
            "_model_module_version": "1.5.0",
            "_model_name": "DescriptionStyleModel",
            "_view_count": null,
            "_view_module": "@jupyter-widgets/base",
            "_view_module_version": "1.2.0",
            "_view_name": "StyleView",
            "description_width": ""
          }
        },
        "fb89eddb0541463eb5bf4c46afe7d629": {
          "model_module": "@jupyter-widgets/controls",
          "model_name": "HBoxModel",
          "state": {
            "_dom_classes": [],
            "_model_module": "@jupyter-widgets/controls",
            "_model_module_version": "1.5.0",
            "_model_name": "HBoxModel",
            "_view_count": null,
            "_view_module": "@jupyter-widgets/controls",
            "_view_module_version": "1.5.0",
            "_view_name": "HBoxView",
            "box_style": "",
            "children": [
              "IPY_MODEL_5f68d9db6a104458beabc34626bcd1f4",
              "IPY_MODEL_c5b1c214c1ee4b7282e2c28c68eb36c7"
            ],
            "layout": "IPY_MODEL_4ac83299edc34431a6d90ac5250d9c65"
          }
        },
        "5f68d9db6a104458beabc34626bcd1f4": {
          "model_module": "@jupyter-widgets/controls",
          "model_name": "FloatProgressModel",
          "state": {
            "_dom_classes": [],
            "_model_module": "@jupyter-widgets/controls",
            "_model_module_version": "1.5.0",
            "_model_name": "FloatProgressModel",
            "_view_count": null,
            "_view_module": "@jupyter-widgets/controls",
            "_view_module_version": "1.5.0",
            "_view_name": "ProgressView",
            "bar_style": "success",
            "description": "100%",
            "description_tooltip": null,
            "layout": "IPY_MODEL_26b740a124684799a0cffc75b859ad46",
            "max": 150,
            "min": 0,
            "orientation": "horizontal",
            "style": "IPY_MODEL_c1dd1d5aafcd4b6e91217c05d1c16336",
            "value": 150
          }
        },
        "c5b1c214c1ee4b7282e2c28c68eb36c7": {
          "model_module": "@jupyter-widgets/controls",
          "model_name": "HTMLModel",
          "state": {
            "_dom_classes": [],
            "_model_module": "@jupyter-widgets/controls",
            "_model_module_version": "1.5.0",
            "_model_name": "HTMLModel",
            "_view_count": null,
            "_view_module": "@jupyter-widgets/controls",
            "_view_module_version": "1.5.0",
            "_view_name": "HTMLView",
            "description": "",
            "description_tooltip": null,
            "layout": "IPY_MODEL_6e9a703053c2434ea49153fd0aaed77f",
            "placeholder": "​",
            "style": "IPY_MODEL_30cfcc618393423a8dda02ea07c9490c",
            "value": " 150/150 [10:40&lt;00:00,  4.27s/it]"
          }
        },
        "4ac83299edc34431a6d90ac5250d9c65": {
          "model_module": "@jupyter-widgets/base",
          "model_name": "LayoutModel",
          "state": {
            "_model_module": "@jupyter-widgets/base",
            "_model_module_version": "1.2.0",
            "_model_name": "LayoutModel",
            "_view_count": null,
            "_view_module": "@jupyter-widgets/base",
            "_view_module_version": "1.2.0",
            "_view_name": "LayoutView",
            "align_content": null,
            "align_items": null,
            "align_self": null,
            "border": null,
            "bottom": null,
            "display": null,
            "flex": null,
            "flex_flow": null,
            "grid_area": null,
            "grid_auto_columns": null,
            "grid_auto_flow": null,
            "grid_auto_rows": null,
            "grid_column": null,
            "grid_gap": null,
            "grid_row": null,
            "grid_template_areas": null,
            "grid_template_columns": null,
            "grid_template_rows": null,
            "height": null,
            "justify_content": null,
            "justify_items": null,
            "left": null,
            "margin": null,
            "max_height": null,
            "max_width": null,
            "min_height": null,
            "min_width": null,
            "object_fit": null,
            "object_position": null,
            "order": null,
            "overflow": null,
            "overflow_x": null,
            "overflow_y": null,
            "padding": null,
            "right": null,
            "top": null,
            "visibility": null,
            "width": null
          }
        },
        "26b740a124684799a0cffc75b859ad46": {
          "model_module": "@jupyter-widgets/base",
          "model_name": "LayoutModel",
          "state": {
            "_model_module": "@jupyter-widgets/base",
            "_model_module_version": "1.2.0",
            "_model_name": "LayoutModel",
            "_view_count": null,
            "_view_module": "@jupyter-widgets/base",
            "_view_module_version": "1.2.0",
            "_view_name": "LayoutView",
            "align_content": null,
            "align_items": null,
            "align_self": null,
            "border": null,
            "bottom": null,
            "display": null,
            "flex": null,
            "flex_flow": null,
            "grid_area": null,
            "grid_auto_columns": null,
            "grid_auto_flow": null,
            "grid_auto_rows": null,
            "grid_column": null,
            "grid_gap": null,
            "grid_row": null,
            "grid_template_areas": null,
            "grid_template_columns": null,
            "grid_template_rows": null,
            "height": null,
            "justify_content": null,
            "justify_items": null,
            "left": null,
            "margin": null,
            "max_height": null,
            "max_width": null,
            "min_height": null,
            "min_width": null,
            "object_fit": null,
            "object_position": null,
            "order": null,
            "overflow": null,
            "overflow_x": null,
            "overflow_y": null,
            "padding": null,
            "right": null,
            "top": null,
            "visibility": null,
            "width": null
          }
        },
        "c1dd1d5aafcd4b6e91217c05d1c16336": {
          "model_module": "@jupyter-widgets/controls",
          "model_name": "ProgressStyleModel",
          "state": {
            "_model_module": "@jupyter-widgets/controls",
            "_model_module_version": "1.5.0",
            "_model_name": "ProgressStyleModel",
            "_view_count": null,
            "_view_module": "@jupyter-widgets/base",
            "_view_module_version": "1.2.0",
            "_view_name": "StyleView",
            "bar_color": null,
            "description_width": "initial"
          }
        },
        "6e9a703053c2434ea49153fd0aaed77f": {
          "model_module": "@jupyter-widgets/base",
          "model_name": "LayoutModel",
          "state": {
            "_model_module": "@jupyter-widgets/base",
            "_model_module_version": "1.2.0",
            "_model_name": "LayoutModel",
            "_view_count": null,
            "_view_module": "@jupyter-widgets/base",
            "_view_module_version": "1.2.0",
            "_view_name": "LayoutView",
            "align_content": null,
            "align_items": null,
            "align_self": null,
            "border": null,
            "bottom": null,
            "display": null,
            "flex": null,
            "flex_flow": null,
            "grid_area": null,
            "grid_auto_columns": null,
            "grid_auto_flow": null,
            "grid_auto_rows": null,
            "grid_column": null,
            "grid_gap": null,
            "grid_row": null,
            "grid_template_areas": null,
            "grid_template_columns": null,
            "grid_template_rows": null,
            "height": null,
            "justify_content": null,
            "justify_items": null,
            "left": null,
            "margin": null,
            "max_height": null,
            "max_width": null,
            "min_height": null,
            "min_width": null,
            "object_fit": null,
            "object_position": null,
            "order": null,
            "overflow": null,
            "overflow_x": null,
            "overflow_y": null,
            "padding": null,
            "right": null,
            "top": null,
            "visibility": null,
            "width": null
          }
        },
        "30cfcc618393423a8dda02ea07c9490c": {
          "model_module": "@jupyter-widgets/controls",
          "model_name": "DescriptionStyleModel",
          "state": {
            "_model_module": "@jupyter-widgets/controls",
            "_model_module_version": "1.5.0",
            "_model_name": "DescriptionStyleModel",
            "_view_count": null,
            "_view_module": "@jupyter-widgets/base",
            "_view_module_version": "1.2.0",
            "_view_name": "StyleView",
            "description_width": ""
          }
        },
        "4c1d21a7e582451a9b07644cb7559940": {
          "model_module": "@jupyter-widgets/controls",
          "model_name": "HBoxModel",
          "state": {
            "_dom_classes": [],
            "_model_module": "@jupyter-widgets/controls",
            "_model_module_version": "1.5.0",
            "_model_name": "HBoxModel",
            "_view_count": null,
            "_view_module": "@jupyter-widgets/controls",
            "_view_module_version": "1.5.0",
            "_view_name": "HBoxView",
            "box_style": "",
            "children": [
              "IPY_MODEL_2e4a4b5d5144418aa4f0fbf2aff70337",
              "IPY_MODEL_5502f111dcdf434c990015c3d2e92a44"
            ],
            "layout": "IPY_MODEL_5eb320ea1a4e4070b4329d3423f049f7"
          }
        },
        "2e4a4b5d5144418aa4f0fbf2aff70337": {
          "model_module": "@jupyter-widgets/controls",
          "model_name": "FloatProgressModel",
          "state": {
            "_dom_classes": [],
            "_model_module": "@jupyter-widgets/controls",
            "_model_module_version": "1.5.0",
            "_model_name": "FloatProgressModel",
            "_view_count": null,
            "_view_module": "@jupyter-widgets/controls",
            "_view_module_version": "1.5.0",
            "_view_name": "ProgressView",
            "bar_style": "success",
            "description": "100%",
            "description_tooltip": null,
            "layout": "IPY_MODEL_a51eda30ff9a4df988aa61a5afde64d0",
            "max": 150,
            "min": 0,
            "orientation": "horizontal",
            "style": "IPY_MODEL_6cee21e293e04824b7c7dc1728d4a7c2",
            "value": 150
          }
        },
        "5502f111dcdf434c990015c3d2e92a44": {
          "model_module": "@jupyter-widgets/controls",
          "model_name": "HTMLModel",
          "state": {
            "_dom_classes": [],
            "_model_module": "@jupyter-widgets/controls",
            "_model_module_version": "1.5.0",
            "_model_name": "HTMLModel",
            "_view_count": null,
            "_view_module": "@jupyter-widgets/controls",
            "_view_module_version": "1.5.0",
            "_view_name": "HTMLView",
            "description": "",
            "description_tooltip": null,
            "layout": "IPY_MODEL_68626bbe876a4f66bb5f1a1c8aacbeef",
            "placeholder": "​",
            "style": "IPY_MODEL_f14c08ddd87b47c69861a8a54f5eecc4",
            "value": " 150/150 [12:46&lt;00:00,  5.11s/it]"
          }
        },
        "5eb320ea1a4e4070b4329d3423f049f7": {
          "model_module": "@jupyter-widgets/base",
          "model_name": "LayoutModel",
          "state": {
            "_model_module": "@jupyter-widgets/base",
            "_model_module_version": "1.2.0",
            "_model_name": "LayoutModel",
            "_view_count": null,
            "_view_module": "@jupyter-widgets/base",
            "_view_module_version": "1.2.0",
            "_view_name": "LayoutView",
            "align_content": null,
            "align_items": null,
            "align_self": null,
            "border": null,
            "bottom": null,
            "display": null,
            "flex": null,
            "flex_flow": null,
            "grid_area": null,
            "grid_auto_columns": null,
            "grid_auto_flow": null,
            "grid_auto_rows": null,
            "grid_column": null,
            "grid_gap": null,
            "grid_row": null,
            "grid_template_areas": null,
            "grid_template_columns": null,
            "grid_template_rows": null,
            "height": null,
            "justify_content": null,
            "justify_items": null,
            "left": null,
            "margin": null,
            "max_height": null,
            "max_width": null,
            "min_height": null,
            "min_width": null,
            "object_fit": null,
            "object_position": null,
            "order": null,
            "overflow": null,
            "overflow_x": null,
            "overflow_y": null,
            "padding": null,
            "right": null,
            "top": null,
            "visibility": null,
            "width": null
          }
        },
        "a51eda30ff9a4df988aa61a5afde64d0": {
          "model_module": "@jupyter-widgets/base",
          "model_name": "LayoutModel",
          "state": {
            "_model_module": "@jupyter-widgets/base",
            "_model_module_version": "1.2.0",
            "_model_name": "LayoutModel",
            "_view_count": null,
            "_view_module": "@jupyter-widgets/base",
            "_view_module_version": "1.2.0",
            "_view_name": "LayoutView",
            "align_content": null,
            "align_items": null,
            "align_self": null,
            "border": null,
            "bottom": null,
            "display": null,
            "flex": null,
            "flex_flow": null,
            "grid_area": null,
            "grid_auto_columns": null,
            "grid_auto_flow": null,
            "grid_auto_rows": null,
            "grid_column": null,
            "grid_gap": null,
            "grid_row": null,
            "grid_template_areas": null,
            "grid_template_columns": null,
            "grid_template_rows": null,
            "height": null,
            "justify_content": null,
            "justify_items": null,
            "left": null,
            "margin": null,
            "max_height": null,
            "max_width": null,
            "min_height": null,
            "min_width": null,
            "object_fit": null,
            "object_position": null,
            "order": null,
            "overflow": null,
            "overflow_x": null,
            "overflow_y": null,
            "padding": null,
            "right": null,
            "top": null,
            "visibility": null,
            "width": null
          }
        },
        "6cee21e293e04824b7c7dc1728d4a7c2": {
          "model_module": "@jupyter-widgets/controls",
          "model_name": "ProgressStyleModel",
          "state": {
            "_model_module": "@jupyter-widgets/controls",
            "_model_module_version": "1.5.0",
            "_model_name": "ProgressStyleModel",
            "_view_count": null,
            "_view_module": "@jupyter-widgets/base",
            "_view_module_version": "1.2.0",
            "_view_name": "StyleView",
            "bar_color": null,
            "description_width": "initial"
          }
        },
        "68626bbe876a4f66bb5f1a1c8aacbeef": {
          "model_module": "@jupyter-widgets/base",
          "model_name": "LayoutModel",
          "state": {
            "_model_module": "@jupyter-widgets/base",
            "_model_module_version": "1.2.0",
            "_model_name": "LayoutModel",
            "_view_count": null,
            "_view_module": "@jupyter-widgets/base",
            "_view_module_version": "1.2.0",
            "_view_name": "LayoutView",
            "align_content": null,
            "align_items": null,
            "align_self": null,
            "border": null,
            "bottom": null,
            "display": null,
            "flex": null,
            "flex_flow": null,
            "grid_area": null,
            "grid_auto_columns": null,
            "grid_auto_flow": null,
            "grid_auto_rows": null,
            "grid_column": null,
            "grid_gap": null,
            "grid_row": null,
            "grid_template_areas": null,
            "grid_template_columns": null,
            "grid_template_rows": null,
            "height": null,
            "justify_content": null,
            "justify_items": null,
            "left": null,
            "margin": null,
            "max_height": null,
            "max_width": null,
            "min_height": null,
            "min_width": null,
            "object_fit": null,
            "object_position": null,
            "order": null,
            "overflow": null,
            "overflow_x": null,
            "overflow_y": null,
            "padding": null,
            "right": null,
            "top": null,
            "visibility": null,
            "width": null
          }
        },
        "f14c08ddd87b47c69861a8a54f5eecc4": {
          "model_module": "@jupyter-widgets/controls",
          "model_name": "DescriptionStyleModel",
          "state": {
            "_model_module": "@jupyter-widgets/controls",
            "_model_module_version": "1.5.0",
            "_model_name": "DescriptionStyleModel",
            "_view_count": null,
            "_view_module": "@jupyter-widgets/base",
            "_view_module_version": "1.2.0",
            "_view_name": "StyleView",
            "description_width": ""
          }
        },
        "9272678e28b9440e9143f9f3163840bf": {
          "model_module": "@jupyter-widgets/controls",
          "model_name": "HBoxModel",
          "state": {
            "_dom_classes": [],
            "_model_module": "@jupyter-widgets/controls",
            "_model_module_version": "1.5.0",
            "_model_name": "HBoxModel",
            "_view_count": null,
            "_view_module": "@jupyter-widgets/controls",
            "_view_module_version": "1.5.0",
            "_view_name": "HBoxView",
            "box_style": "",
            "children": [
              "IPY_MODEL_fcfeba9a7d95466ea8ed1242218c877a",
              "IPY_MODEL_f6675256dbe1497aa736be7e2bc7cf9a"
            ],
            "layout": "IPY_MODEL_aa1ac78b910b42cb85756f6c437a7ce6"
          }
        },
        "fcfeba9a7d95466ea8ed1242218c877a": {
          "model_module": "@jupyter-widgets/controls",
          "model_name": "FloatProgressModel",
          "state": {
            "_dom_classes": [],
            "_model_module": "@jupyter-widgets/controls",
            "_model_module_version": "1.5.0",
            "_model_name": "FloatProgressModel",
            "_view_count": null,
            "_view_module": "@jupyter-widgets/controls",
            "_view_module_version": "1.5.0",
            "_view_name": "ProgressView",
            "bar_style": "success",
            "description": "100%",
            "description_tooltip": null,
            "layout": "IPY_MODEL_5d3e4ddeeed14fe4b434b6ca5a9b6f3d",
            "max": 150,
            "min": 0,
            "orientation": "horizontal",
            "style": "IPY_MODEL_ac133fee6151479ab916136c94a18f92",
            "value": 150
          }
        },
        "f6675256dbe1497aa736be7e2bc7cf9a": {
          "model_module": "@jupyter-widgets/controls",
          "model_name": "HTMLModel",
          "state": {
            "_dom_classes": [],
            "_model_module": "@jupyter-widgets/controls",
            "_model_module_version": "1.5.0",
            "_model_name": "HTMLModel",
            "_view_count": null,
            "_view_module": "@jupyter-widgets/controls",
            "_view_module_version": "1.5.0",
            "_view_name": "HTMLView",
            "description": "",
            "description_tooltip": null,
            "layout": "IPY_MODEL_b37607869b50488c9f98f1d51dc6e5c1",
            "placeholder": "​",
            "style": "IPY_MODEL_4034dcc9f3224dbeb9286c91001d9406",
            "value": " 150/150 [10:40&lt;00:00,  4.27s/it]"
          }
        },
        "aa1ac78b910b42cb85756f6c437a7ce6": {
          "model_module": "@jupyter-widgets/base",
          "model_name": "LayoutModel",
          "state": {
            "_model_module": "@jupyter-widgets/base",
            "_model_module_version": "1.2.0",
            "_model_name": "LayoutModel",
            "_view_count": null,
            "_view_module": "@jupyter-widgets/base",
            "_view_module_version": "1.2.0",
            "_view_name": "LayoutView",
            "align_content": null,
            "align_items": null,
            "align_self": null,
            "border": null,
            "bottom": null,
            "display": null,
            "flex": null,
            "flex_flow": null,
            "grid_area": null,
            "grid_auto_columns": null,
            "grid_auto_flow": null,
            "grid_auto_rows": null,
            "grid_column": null,
            "grid_gap": null,
            "grid_row": null,
            "grid_template_areas": null,
            "grid_template_columns": null,
            "grid_template_rows": null,
            "height": null,
            "justify_content": null,
            "justify_items": null,
            "left": null,
            "margin": null,
            "max_height": null,
            "max_width": null,
            "min_height": null,
            "min_width": null,
            "object_fit": null,
            "object_position": null,
            "order": null,
            "overflow": null,
            "overflow_x": null,
            "overflow_y": null,
            "padding": null,
            "right": null,
            "top": null,
            "visibility": null,
            "width": null
          }
        },
        "5d3e4ddeeed14fe4b434b6ca5a9b6f3d": {
          "model_module": "@jupyter-widgets/base",
          "model_name": "LayoutModel",
          "state": {
            "_model_module": "@jupyter-widgets/base",
            "_model_module_version": "1.2.0",
            "_model_name": "LayoutModel",
            "_view_count": null,
            "_view_module": "@jupyter-widgets/base",
            "_view_module_version": "1.2.0",
            "_view_name": "LayoutView",
            "align_content": null,
            "align_items": null,
            "align_self": null,
            "border": null,
            "bottom": null,
            "display": null,
            "flex": null,
            "flex_flow": null,
            "grid_area": null,
            "grid_auto_columns": null,
            "grid_auto_flow": null,
            "grid_auto_rows": null,
            "grid_column": null,
            "grid_gap": null,
            "grid_row": null,
            "grid_template_areas": null,
            "grid_template_columns": null,
            "grid_template_rows": null,
            "height": null,
            "justify_content": null,
            "justify_items": null,
            "left": null,
            "margin": null,
            "max_height": null,
            "max_width": null,
            "min_height": null,
            "min_width": null,
            "object_fit": null,
            "object_position": null,
            "order": null,
            "overflow": null,
            "overflow_x": null,
            "overflow_y": null,
            "padding": null,
            "right": null,
            "top": null,
            "visibility": null,
            "width": null
          }
        },
        "ac133fee6151479ab916136c94a18f92": {
          "model_module": "@jupyter-widgets/controls",
          "model_name": "ProgressStyleModel",
          "state": {
            "_model_module": "@jupyter-widgets/controls",
            "_model_module_version": "1.5.0",
            "_model_name": "ProgressStyleModel",
            "_view_count": null,
            "_view_module": "@jupyter-widgets/base",
            "_view_module_version": "1.2.0",
            "_view_name": "StyleView",
            "bar_color": null,
            "description_width": "initial"
          }
        },
        "b37607869b50488c9f98f1d51dc6e5c1": {
          "model_module": "@jupyter-widgets/base",
          "model_name": "LayoutModel",
          "state": {
            "_model_module": "@jupyter-widgets/base",
            "_model_module_version": "1.2.0",
            "_model_name": "LayoutModel",
            "_view_count": null,
            "_view_module": "@jupyter-widgets/base",
            "_view_module_version": "1.2.0",
            "_view_name": "LayoutView",
            "align_content": null,
            "align_items": null,
            "align_self": null,
            "border": null,
            "bottom": null,
            "display": null,
            "flex": null,
            "flex_flow": null,
            "grid_area": null,
            "grid_auto_columns": null,
            "grid_auto_flow": null,
            "grid_auto_rows": null,
            "grid_column": null,
            "grid_gap": null,
            "grid_row": null,
            "grid_template_areas": null,
            "grid_template_columns": null,
            "grid_template_rows": null,
            "height": null,
            "justify_content": null,
            "justify_items": null,
            "left": null,
            "margin": null,
            "max_height": null,
            "max_width": null,
            "min_height": null,
            "min_width": null,
            "object_fit": null,
            "object_position": null,
            "order": null,
            "overflow": null,
            "overflow_x": null,
            "overflow_y": null,
            "padding": null,
            "right": null,
            "top": null,
            "visibility": null,
            "width": null
          }
        },
        "4034dcc9f3224dbeb9286c91001d9406": {
          "model_module": "@jupyter-widgets/controls",
          "model_name": "DescriptionStyleModel",
          "state": {
            "_model_module": "@jupyter-widgets/controls",
            "_model_module_version": "1.5.0",
            "_model_name": "DescriptionStyleModel",
            "_view_count": null,
            "_view_module": "@jupyter-widgets/base",
            "_view_module_version": "1.2.0",
            "_view_name": "StyleView",
            "description_width": ""
          }
        },
        "080c494e883a4f7db733aa1fceaa8812": {
          "model_module": "@jupyter-widgets/controls",
          "model_name": "HBoxModel",
          "state": {
            "_view_name": "HBoxView",
            "_dom_classes": [],
            "_model_name": "HBoxModel",
            "_view_module": "@jupyter-widgets/controls",
            "_model_module_version": "1.5.0",
            "_view_count": null,
            "_view_module_version": "1.5.0",
            "box_style": "",
            "layout": "IPY_MODEL_c94a456479c24ffea5621f95a9ebc7b2",
            "_model_module": "@jupyter-widgets/controls",
            "children": [
              "IPY_MODEL_6f4caaebbfd647698691a279b641f22b",
              "IPY_MODEL_ce726f61174a4d528388163264c6803b",
              "IPY_MODEL_e610a691fde3481c8f1158aaea195632"
            ]
          }
        },
        "c94a456479c24ffea5621f95a9ebc7b2": {
          "model_module": "@jupyter-widgets/base",
          "model_name": "LayoutModel",
          "state": {
            "_view_name": "LayoutView",
            "grid_template_rows": null,
            "right": null,
            "justify_content": null,
            "_view_module": "@jupyter-widgets/base",
            "overflow": null,
            "_model_module_version": "1.2.0",
            "_view_count": null,
            "flex_flow": null,
            "width": null,
            "min_width": null,
            "border": null,
            "align_items": null,
            "bottom": null,
            "_model_module": "@jupyter-widgets/base",
            "top": null,
            "grid_column": null,
            "overflow_y": null,
            "overflow_x": null,
            "grid_auto_flow": null,
            "grid_area": null,
            "grid_template_columns": null,
            "flex": null,
            "_model_name": "LayoutModel",
            "justify_items": null,
            "grid_row": null,
            "max_height": null,
            "align_content": null,
            "visibility": null,
            "align_self": null,
            "height": null,
            "min_height": null,
            "padding": null,
            "grid_auto_rows": null,
            "grid_gap": null,
            "max_width": null,
            "order": null,
            "_view_module_version": "1.2.0",
            "grid_template_areas": null,
            "object_position": null,
            "object_fit": null,
            "grid_auto_columns": null,
            "margin": null,
            "display": null,
            "left": null
          }
        },
        "6f4caaebbfd647698691a279b641f22b": {
          "model_module": "@jupyter-widgets/controls",
          "model_name": "HTMLModel",
          "state": {
            "_view_name": "HTMLView",
            "style": "IPY_MODEL_05f137a5f7614d099b2df83ab2180f5e",
            "_dom_classes": [],
            "description": "",
            "_model_name": "HTMLModel",
            "placeholder": "​",
            "_view_module": "@jupyter-widgets/controls",
            "_model_module_version": "1.5.0",
            "value": "100%",
            "_view_count": null,
            "_view_module_version": "1.5.0",
            "description_tooltip": null,
            "_model_module": "@jupyter-widgets/controls",
            "layout": "IPY_MODEL_662673b140f441ee886ac575ce6165bb"
          }
        },
        "ce726f61174a4d528388163264c6803b": {
          "model_module": "@jupyter-widgets/controls",
          "model_name": "FloatProgressModel",
          "state": {
            "_view_name": "ProgressView",
            "style": "IPY_MODEL_c72379e8f6ca4261912922a1514f3560",
            "_dom_classes": [],
            "description": "",
            "_model_name": "FloatProgressModel",
            "bar_style": "success",
            "max": 444,
            "_view_module": "@jupyter-widgets/controls",
            "_model_module_version": "1.5.0",
            "value": 444,
            "_view_count": null,
            "_view_module_version": "1.5.0",
            "orientation": "horizontal",
            "min": 0,
            "description_tooltip": null,
            "_model_module": "@jupyter-widgets/controls",
            "layout": "IPY_MODEL_4119e59026a34f569797ef308cb19217"
          }
        },
        "e610a691fde3481c8f1158aaea195632": {
          "model_module": "@jupyter-widgets/controls",
          "model_name": "HTMLModel",
          "state": {
            "_view_name": "HTMLView",
            "style": "IPY_MODEL_87b79204efa44bc4a538f5e663161561",
            "_dom_classes": [],
            "description": "",
            "_model_name": "HTMLModel",
            "placeholder": "​",
            "_view_module": "@jupyter-widgets/controls",
            "_model_module_version": "1.5.0",
            "value": " 444/444 [00:00&lt;00:00, 1140.10it/s]",
            "_view_count": null,
            "_view_module_version": "1.5.0",
            "description_tooltip": null,
            "_model_module": "@jupyter-widgets/controls",
            "layout": "IPY_MODEL_a03bf48fcbf440389e5d5f557dc67bdf"
          }
        },
        "05f137a5f7614d099b2df83ab2180f5e": {
          "model_module": "@jupyter-widgets/controls",
          "model_name": "DescriptionStyleModel",
          "state": {
            "_view_name": "StyleView",
            "_model_name": "DescriptionStyleModel",
            "description_width": "",
            "_view_module": "@jupyter-widgets/base",
            "_model_module_version": "1.5.0",
            "_view_count": null,
            "_view_module_version": "1.2.0",
            "_model_module": "@jupyter-widgets/controls"
          }
        },
        "662673b140f441ee886ac575ce6165bb": {
          "model_module": "@jupyter-widgets/base",
          "model_name": "LayoutModel",
          "state": {
            "_view_name": "LayoutView",
            "grid_template_rows": null,
            "right": null,
            "justify_content": null,
            "_view_module": "@jupyter-widgets/base",
            "overflow": null,
            "_model_module_version": "1.2.0",
            "_view_count": null,
            "flex_flow": null,
            "width": null,
            "min_width": null,
            "border": null,
            "align_items": null,
            "bottom": null,
            "_model_module": "@jupyter-widgets/base",
            "top": null,
            "grid_column": null,
            "overflow_y": null,
            "overflow_x": null,
            "grid_auto_flow": null,
            "grid_area": null,
            "grid_template_columns": null,
            "flex": null,
            "_model_name": "LayoutModel",
            "justify_items": null,
            "grid_row": null,
            "max_height": null,
            "align_content": null,
            "visibility": null,
            "align_self": null,
            "height": null,
            "min_height": null,
            "padding": null,
            "grid_auto_rows": null,
            "grid_gap": null,
            "max_width": null,
            "order": null,
            "_view_module_version": "1.2.0",
            "grid_template_areas": null,
            "object_position": null,
            "object_fit": null,
            "grid_auto_columns": null,
            "margin": null,
            "display": null,
            "left": null
          }
        },
        "c72379e8f6ca4261912922a1514f3560": {
          "model_module": "@jupyter-widgets/controls",
          "model_name": "ProgressStyleModel",
          "state": {
            "_view_name": "StyleView",
            "_model_name": "ProgressStyleModel",
            "description_width": "",
            "_view_module": "@jupyter-widgets/base",
            "_model_module_version": "1.5.0",
            "_view_count": null,
            "_view_module_version": "1.2.0",
            "bar_color": null,
            "_model_module": "@jupyter-widgets/controls"
          }
        },
        "4119e59026a34f569797ef308cb19217": {
          "model_module": "@jupyter-widgets/base",
          "model_name": "LayoutModel",
          "state": {
            "_view_name": "LayoutView",
            "grid_template_rows": null,
            "right": null,
            "justify_content": null,
            "_view_module": "@jupyter-widgets/base",
            "overflow": null,
            "_model_module_version": "1.2.0",
            "_view_count": null,
            "flex_flow": null,
            "width": null,
            "min_width": null,
            "border": null,
            "align_items": null,
            "bottom": null,
            "_model_module": "@jupyter-widgets/base",
            "top": null,
            "grid_column": null,
            "overflow_y": null,
            "overflow_x": null,
            "grid_auto_flow": null,
            "grid_area": null,
            "grid_template_columns": null,
            "flex": null,
            "_model_name": "LayoutModel",
            "justify_items": null,
            "grid_row": null,
            "max_height": null,
            "align_content": null,
            "visibility": null,
            "align_self": null,
            "height": null,
            "min_height": null,
            "padding": null,
            "grid_auto_rows": null,
            "grid_gap": null,
            "max_width": null,
            "order": null,
            "_view_module_version": "1.2.0",
            "grid_template_areas": null,
            "object_position": null,
            "object_fit": null,
            "grid_auto_columns": null,
            "margin": null,
            "display": null,
            "left": null
          }
        },
        "87b79204efa44bc4a538f5e663161561": {
          "model_module": "@jupyter-widgets/controls",
          "model_name": "DescriptionStyleModel",
          "state": {
            "_view_name": "StyleView",
            "_model_name": "DescriptionStyleModel",
            "description_width": "",
            "_view_module": "@jupyter-widgets/base",
            "_model_module_version": "1.5.0",
            "_view_count": null,
            "_view_module_version": "1.2.0",
            "_model_module": "@jupyter-widgets/controls"
          }
        },
        "a03bf48fcbf440389e5d5f557dc67bdf": {
          "model_module": "@jupyter-widgets/base",
          "model_name": "LayoutModel",
          "state": {
            "_view_name": "LayoutView",
            "grid_template_rows": null,
            "right": null,
            "justify_content": null,
            "_view_module": "@jupyter-widgets/base",
            "overflow": null,
            "_model_module_version": "1.2.0",
            "_view_count": null,
            "flex_flow": null,
            "width": null,
            "min_width": null,
            "border": null,
            "align_items": null,
            "bottom": null,
            "_model_module": "@jupyter-widgets/base",
            "top": null,
            "grid_column": null,
            "overflow_y": null,
            "overflow_x": null,
            "grid_auto_flow": null,
            "grid_area": null,
            "grid_template_columns": null,
            "flex": null,
            "_model_name": "LayoutModel",
            "justify_items": null,
            "grid_row": null,
            "max_height": null,
            "align_content": null,
            "visibility": null,
            "align_self": null,
            "height": null,
            "min_height": null,
            "padding": null,
            "grid_auto_rows": null,
            "grid_gap": null,
            "max_width": null,
            "order": null,
            "_view_module_version": "1.2.0",
            "grid_template_areas": null,
            "object_position": null,
            "object_fit": null,
            "grid_auto_columns": null,
            "margin": null,
            "display": null,
            "left": null
          }
        },
        "e9cb423abc2046d4837583e57d832bcd": {
          "model_module": "@jupyter-widgets/controls",
          "model_name": "HBoxModel",
          "state": {
            "_view_name": "HBoxView",
            "_dom_classes": [],
            "_model_name": "HBoxModel",
            "_view_module": "@jupyter-widgets/controls",
            "_model_module_version": "1.5.0",
            "_view_count": null,
            "_view_module_version": "1.5.0",
            "box_style": "",
            "layout": "IPY_MODEL_ac3b0d2be7574a93be99fbf1e55fd2fa",
            "_model_module": "@jupyter-widgets/controls",
            "children": [
              "IPY_MODEL_a2b72147c36441609013c0b36d78663d",
              "IPY_MODEL_ad214a395d9f44c5a4e6e1fc378010f3",
              "IPY_MODEL_cebd341fa1234c618cfc28143a083e14"
            ]
          }
        },
        "ac3b0d2be7574a93be99fbf1e55fd2fa": {
          "model_module": "@jupyter-widgets/base",
          "model_name": "LayoutModel",
          "state": {
            "_view_name": "LayoutView",
            "grid_template_rows": null,
            "right": null,
            "justify_content": null,
            "_view_module": "@jupyter-widgets/base",
            "overflow": null,
            "_model_module_version": "1.2.0",
            "_view_count": null,
            "flex_flow": null,
            "width": null,
            "min_width": null,
            "border": null,
            "align_items": null,
            "bottom": null,
            "_model_module": "@jupyter-widgets/base",
            "top": null,
            "grid_column": null,
            "overflow_y": null,
            "overflow_x": null,
            "grid_auto_flow": null,
            "grid_area": null,
            "grid_template_columns": null,
            "flex": null,
            "_model_name": "LayoutModel",
            "justify_items": null,
            "grid_row": null,
            "max_height": null,
            "align_content": null,
            "visibility": null,
            "align_self": null,
            "height": null,
            "min_height": null,
            "padding": null,
            "grid_auto_rows": null,
            "grid_gap": null,
            "max_width": null,
            "order": null,
            "_view_module_version": "1.2.0",
            "grid_template_areas": null,
            "object_position": null,
            "object_fit": null,
            "grid_auto_columns": null,
            "margin": null,
            "display": null,
            "left": null
          }
        },
        "a2b72147c36441609013c0b36d78663d": {
          "model_module": "@jupyter-widgets/controls",
          "model_name": "HTMLModel",
          "state": {
            "_view_name": "HTMLView",
            "style": "IPY_MODEL_d0fc2aa14873474b982d33bf10556a09",
            "_dom_classes": [],
            "description": "",
            "_model_name": "HTMLModel",
            "placeholder": "​",
            "_view_module": "@jupyter-widgets/controls",
            "_model_module_version": "1.5.0",
            "value": "100%",
            "_view_count": null,
            "_view_module_version": "1.5.0",
            "description_tooltip": null,
            "_model_module": "@jupyter-widgets/controls",
            "layout": "IPY_MODEL_d6bc58d7651144bf9d5410a73e7594c8"
          }
        },
        "ad214a395d9f44c5a4e6e1fc378010f3": {
          "model_module": "@jupyter-widgets/controls",
          "model_name": "FloatProgressModel",
          "state": {
            "_view_name": "ProgressView",
            "style": "IPY_MODEL_e600b42829504f12a43886b023a63c36",
            "_dom_classes": [],
            "description": "",
            "_model_name": "FloatProgressModel",
            "bar_style": "success",
            "max": 431,
            "_view_module": "@jupyter-widgets/controls",
            "_model_module_version": "1.5.0",
            "value": 431,
            "_view_count": null,
            "_view_module_version": "1.5.0",
            "orientation": "horizontal",
            "min": 0,
            "description_tooltip": null,
            "_model_module": "@jupyter-widgets/controls",
            "layout": "IPY_MODEL_8e54f657c6d34c128c290164d3a409a0"
          }
        },
        "cebd341fa1234c618cfc28143a083e14": {
          "model_module": "@jupyter-widgets/controls",
          "model_name": "HTMLModel",
          "state": {
            "_view_name": "HTMLView",
            "style": "IPY_MODEL_1485f538d8af4f80b669811568a03782",
            "_dom_classes": [],
            "description": "",
            "_model_name": "HTMLModel",
            "placeholder": "​",
            "_view_module": "@jupyter-widgets/controls",
            "_model_module_version": "1.5.0",
            "value": " 431/431 [00:00&lt;00:00, 2484.49it/s]",
            "_view_count": null,
            "_view_module_version": "1.5.0",
            "description_tooltip": null,
            "_model_module": "@jupyter-widgets/controls",
            "layout": "IPY_MODEL_c81244b1c8c244cfbd483a7b7f758571"
          }
        },
        "d0fc2aa14873474b982d33bf10556a09": {
          "model_module": "@jupyter-widgets/controls",
          "model_name": "DescriptionStyleModel",
          "state": {
            "_view_name": "StyleView",
            "_model_name": "DescriptionStyleModel",
            "description_width": "",
            "_view_module": "@jupyter-widgets/base",
            "_model_module_version": "1.5.0",
            "_view_count": null,
            "_view_module_version": "1.2.0",
            "_model_module": "@jupyter-widgets/controls"
          }
        },
        "d6bc58d7651144bf9d5410a73e7594c8": {
          "model_module": "@jupyter-widgets/base",
          "model_name": "LayoutModel",
          "state": {
            "_view_name": "LayoutView",
            "grid_template_rows": null,
            "right": null,
            "justify_content": null,
            "_view_module": "@jupyter-widgets/base",
            "overflow": null,
            "_model_module_version": "1.2.0",
            "_view_count": null,
            "flex_flow": null,
            "width": null,
            "min_width": null,
            "border": null,
            "align_items": null,
            "bottom": null,
            "_model_module": "@jupyter-widgets/base",
            "top": null,
            "grid_column": null,
            "overflow_y": null,
            "overflow_x": null,
            "grid_auto_flow": null,
            "grid_area": null,
            "grid_template_columns": null,
            "flex": null,
            "_model_name": "LayoutModel",
            "justify_items": null,
            "grid_row": null,
            "max_height": null,
            "align_content": null,
            "visibility": null,
            "align_self": null,
            "height": null,
            "min_height": null,
            "padding": null,
            "grid_auto_rows": null,
            "grid_gap": null,
            "max_width": null,
            "order": null,
            "_view_module_version": "1.2.0",
            "grid_template_areas": null,
            "object_position": null,
            "object_fit": null,
            "grid_auto_columns": null,
            "margin": null,
            "display": null,
            "left": null
          }
        },
        "e600b42829504f12a43886b023a63c36": {
          "model_module": "@jupyter-widgets/controls",
          "model_name": "ProgressStyleModel",
          "state": {
            "_view_name": "StyleView",
            "_model_name": "ProgressStyleModel",
            "description_width": "",
            "_view_module": "@jupyter-widgets/base",
            "_model_module_version": "1.5.0",
            "_view_count": null,
            "_view_module_version": "1.2.0",
            "bar_color": null,
            "_model_module": "@jupyter-widgets/controls"
          }
        },
        "8e54f657c6d34c128c290164d3a409a0": {
          "model_module": "@jupyter-widgets/base",
          "model_name": "LayoutModel",
          "state": {
            "_view_name": "LayoutView",
            "grid_template_rows": null,
            "right": null,
            "justify_content": null,
            "_view_module": "@jupyter-widgets/base",
            "overflow": null,
            "_model_module_version": "1.2.0",
            "_view_count": null,
            "flex_flow": null,
            "width": null,
            "min_width": null,
            "border": null,
            "align_items": null,
            "bottom": null,
            "_model_module": "@jupyter-widgets/base",
            "top": null,
            "grid_column": null,
            "overflow_y": null,
            "overflow_x": null,
            "grid_auto_flow": null,
            "grid_area": null,
            "grid_template_columns": null,
            "flex": null,
            "_model_name": "LayoutModel",
            "justify_items": null,
            "grid_row": null,
            "max_height": null,
            "align_content": null,
            "visibility": null,
            "align_self": null,
            "height": null,
            "min_height": null,
            "padding": null,
            "grid_auto_rows": null,
            "grid_gap": null,
            "max_width": null,
            "order": null,
            "_view_module_version": "1.2.0",
            "grid_template_areas": null,
            "object_position": null,
            "object_fit": null,
            "grid_auto_columns": null,
            "margin": null,
            "display": null,
            "left": null
          }
        },
        "1485f538d8af4f80b669811568a03782": {
          "model_module": "@jupyter-widgets/controls",
          "model_name": "DescriptionStyleModel",
          "state": {
            "_view_name": "StyleView",
            "_model_name": "DescriptionStyleModel",
            "description_width": "",
            "_view_module": "@jupyter-widgets/base",
            "_model_module_version": "1.5.0",
            "_view_count": null,
            "_view_module_version": "1.2.0",
            "_model_module": "@jupyter-widgets/controls"
          }
        },
        "c81244b1c8c244cfbd483a7b7f758571": {
          "model_module": "@jupyter-widgets/base",
          "model_name": "LayoutModel",
          "state": {
            "_view_name": "LayoutView",
            "grid_template_rows": null,
            "right": null,
            "justify_content": null,
            "_view_module": "@jupyter-widgets/base",
            "overflow": null,
            "_model_module_version": "1.2.0",
            "_view_count": null,
            "flex_flow": null,
            "width": null,
            "min_width": null,
            "border": null,
            "align_items": null,
            "bottom": null,
            "_model_module": "@jupyter-widgets/base",
            "top": null,
            "grid_column": null,
            "overflow_y": null,
            "overflow_x": null,
            "grid_auto_flow": null,
            "grid_area": null,
            "grid_template_columns": null,
            "flex": null,
            "_model_name": "LayoutModel",
            "justify_items": null,
            "grid_row": null,
            "max_height": null,
            "align_content": null,
            "visibility": null,
            "align_self": null,
            "height": null,
            "min_height": null,
            "padding": null,
            "grid_auto_rows": null,
            "grid_gap": null,
            "max_width": null,
            "order": null,
            "_view_module_version": "1.2.0",
            "grid_template_areas": null,
            "object_position": null,
            "object_fit": null,
            "grid_auto_columns": null,
            "margin": null,
            "display": null,
            "left": null
          }
        },
        "a7c5feaf0c4e468b811b3582d3676d77": {
          "model_module": "@jupyter-widgets/controls",
          "model_name": "HBoxModel",
          "state": {
            "_view_name": "HBoxView",
            "_dom_classes": [],
            "_model_name": "HBoxModel",
            "_view_module": "@jupyter-widgets/controls",
            "_model_module_version": "1.5.0",
            "_view_count": null,
            "_view_module_version": "1.5.0",
            "box_style": "",
            "layout": "IPY_MODEL_c3452aa462f047b9bfb830d007b4bd89",
            "_model_module": "@jupyter-widgets/controls",
            "children": [
              "IPY_MODEL_7ef669789eb74c3ca0470c8c1892f17c",
              "IPY_MODEL_e492466d1f3a400bbdff4a12e5bcb6c3",
              "IPY_MODEL_7f3d53f2cb5a4601b8c050808294ad63"
            ]
          }
        },
        "c3452aa462f047b9bfb830d007b4bd89": {
          "model_module": "@jupyter-widgets/base",
          "model_name": "LayoutModel",
          "state": {
            "_view_name": "LayoutView",
            "grid_template_rows": null,
            "right": null,
            "justify_content": null,
            "_view_module": "@jupyter-widgets/base",
            "overflow": null,
            "_model_module_version": "1.2.0",
            "_view_count": null,
            "flex_flow": null,
            "width": null,
            "min_width": null,
            "border": null,
            "align_items": null,
            "bottom": null,
            "_model_module": "@jupyter-widgets/base",
            "top": null,
            "grid_column": null,
            "overflow_y": null,
            "overflow_x": null,
            "grid_auto_flow": null,
            "grid_area": null,
            "grid_template_columns": null,
            "flex": null,
            "_model_name": "LayoutModel",
            "justify_items": null,
            "grid_row": null,
            "max_height": null,
            "align_content": null,
            "visibility": null,
            "align_self": null,
            "height": null,
            "min_height": null,
            "padding": null,
            "grid_auto_rows": null,
            "grid_gap": null,
            "max_width": null,
            "order": null,
            "_view_module_version": "1.2.0",
            "grid_template_areas": null,
            "object_position": null,
            "object_fit": null,
            "grid_auto_columns": null,
            "margin": null,
            "display": null,
            "left": null
          }
        },
        "7ef669789eb74c3ca0470c8c1892f17c": {
          "model_module": "@jupyter-widgets/controls",
          "model_name": "HTMLModel",
          "state": {
            "_view_name": "HTMLView",
            "style": "IPY_MODEL_d623b67d7ec648e08d182f123bdbe21e",
            "_dom_classes": [],
            "description": "",
            "_model_name": "HTMLModel",
            "placeholder": "​",
            "_view_module": "@jupyter-widgets/controls",
            "_model_module_version": "1.5.0",
            "value": "100%",
            "_view_count": null,
            "_view_module_version": "1.5.0",
            "description_tooltip": null,
            "_model_module": "@jupyter-widgets/controls",
            "layout": "IPY_MODEL_fc8b5181ff0e4b63a814a159f5113fb0"
          }
        },
        "e492466d1f3a400bbdff4a12e5bcb6c3": {
          "model_module": "@jupyter-widgets/controls",
          "model_name": "FloatProgressModel",
          "state": {
            "_view_name": "ProgressView",
            "style": "IPY_MODEL_e1db692626b34bbba391e1ce98608222",
            "_dom_classes": [],
            "description": "",
            "_model_name": "FloatProgressModel",
            "bar_style": "success",
            "max": 424,
            "_view_module": "@jupyter-widgets/controls",
            "_model_module_version": "1.5.0",
            "value": 424,
            "_view_count": null,
            "_view_module_version": "1.5.0",
            "orientation": "horizontal",
            "min": 0,
            "description_tooltip": null,
            "_model_module": "@jupyter-widgets/controls",
            "layout": "IPY_MODEL_d2f11feff0814d63b74f068c50e02a6d"
          }
        },
        "7f3d53f2cb5a4601b8c050808294ad63": {
          "model_module": "@jupyter-widgets/controls",
          "model_name": "HTMLModel",
          "state": {
            "_view_name": "HTMLView",
            "style": "IPY_MODEL_9f07fa69a11f49df9d6e3d39ae9ab24a",
            "_dom_classes": [],
            "description": "",
            "_model_name": "HTMLModel",
            "placeholder": "​",
            "_view_module": "@jupyter-widgets/controls",
            "_model_module_version": "1.5.0",
            "value": " 424/424 [00:00&lt;00:00, 1437.38it/s]",
            "_view_count": null,
            "_view_module_version": "1.5.0",
            "description_tooltip": null,
            "_model_module": "@jupyter-widgets/controls",
            "layout": "IPY_MODEL_0da11b2b2e944fe69eea45a4a559211e"
          }
        },
        "d623b67d7ec648e08d182f123bdbe21e": {
          "model_module": "@jupyter-widgets/controls",
          "model_name": "DescriptionStyleModel",
          "state": {
            "_view_name": "StyleView",
            "_model_name": "DescriptionStyleModel",
            "description_width": "",
            "_view_module": "@jupyter-widgets/base",
            "_model_module_version": "1.5.0",
            "_view_count": null,
            "_view_module_version": "1.2.0",
            "_model_module": "@jupyter-widgets/controls"
          }
        },
        "fc8b5181ff0e4b63a814a159f5113fb0": {
          "model_module": "@jupyter-widgets/base",
          "model_name": "LayoutModel",
          "state": {
            "_view_name": "LayoutView",
            "grid_template_rows": null,
            "right": null,
            "justify_content": null,
            "_view_module": "@jupyter-widgets/base",
            "overflow": null,
            "_model_module_version": "1.2.0",
            "_view_count": null,
            "flex_flow": null,
            "width": null,
            "min_width": null,
            "border": null,
            "align_items": null,
            "bottom": null,
            "_model_module": "@jupyter-widgets/base",
            "top": null,
            "grid_column": null,
            "overflow_y": null,
            "overflow_x": null,
            "grid_auto_flow": null,
            "grid_area": null,
            "grid_template_columns": null,
            "flex": null,
            "_model_name": "LayoutModel",
            "justify_items": null,
            "grid_row": null,
            "max_height": null,
            "align_content": null,
            "visibility": null,
            "align_self": null,
            "height": null,
            "min_height": null,
            "padding": null,
            "grid_auto_rows": null,
            "grid_gap": null,
            "max_width": null,
            "order": null,
            "_view_module_version": "1.2.0",
            "grid_template_areas": null,
            "object_position": null,
            "object_fit": null,
            "grid_auto_columns": null,
            "margin": null,
            "display": null,
            "left": null
          }
        },
        "e1db692626b34bbba391e1ce98608222": {
          "model_module": "@jupyter-widgets/controls",
          "model_name": "ProgressStyleModel",
          "state": {
            "_view_name": "StyleView",
            "_model_name": "ProgressStyleModel",
            "description_width": "",
            "_view_module": "@jupyter-widgets/base",
            "_model_module_version": "1.5.0",
            "_view_count": null,
            "_view_module_version": "1.2.0",
            "bar_color": null,
            "_model_module": "@jupyter-widgets/controls"
          }
        },
        "d2f11feff0814d63b74f068c50e02a6d": {
          "model_module": "@jupyter-widgets/base",
          "model_name": "LayoutModel",
          "state": {
            "_view_name": "LayoutView",
            "grid_template_rows": null,
            "right": null,
            "justify_content": null,
            "_view_module": "@jupyter-widgets/base",
            "overflow": null,
            "_model_module_version": "1.2.0",
            "_view_count": null,
            "flex_flow": null,
            "width": null,
            "min_width": null,
            "border": null,
            "align_items": null,
            "bottom": null,
            "_model_module": "@jupyter-widgets/base",
            "top": null,
            "grid_column": null,
            "overflow_y": null,
            "overflow_x": null,
            "grid_auto_flow": null,
            "grid_area": null,
            "grid_template_columns": null,
            "flex": null,
            "_model_name": "LayoutModel",
            "justify_items": null,
            "grid_row": null,
            "max_height": null,
            "align_content": null,
            "visibility": null,
            "align_self": null,
            "height": null,
            "min_height": null,
            "padding": null,
            "grid_auto_rows": null,
            "grid_gap": null,
            "max_width": null,
            "order": null,
            "_view_module_version": "1.2.0",
            "grid_template_areas": null,
            "object_position": null,
            "object_fit": null,
            "grid_auto_columns": null,
            "margin": null,
            "display": null,
            "left": null
          }
        },
        "9f07fa69a11f49df9d6e3d39ae9ab24a": {
          "model_module": "@jupyter-widgets/controls",
          "model_name": "DescriptionStyleModel",
          "state": {
            "_view_name": "StyleView",
            "_model_name": "DescriptionStyleModel",
            "description_width": "",
            "_view_module": "@jupyter-widgets/base",
            "_model_module_version": "1.5.0",
            "_view_count": null,
            "_view_module_version": "1.2.0",
            "_model_module": "@jupyter-widgets/controls"
          }
        },
        "0da11b2b2e944fe69eea45a4a559211e": {
          "model_module": "@jupyter-widgets/base",
          "model_name": "LayoutModel",
          "state": {
            "_view_name": "LayoutView",
            "grid_template_rows": null,
            "right": null,
            "justify_content": null,
            "_view_module": "@jupyter-widgets/base",
            "overflow": null,
            "_model_module_version": "1.2.0",
            "_view_count": null,
            "flex_flow": null,
            "width": null,
            "min_width": null,
            "border": null,
            "align_items": null,
            "bottom": null,
            "_model_module": "@jupyter-widgets/base",
            "top": null,
            "grid_column": null,
            "overflow_y": null,
            "overflow_x": null,
            "grid_auto_flow": null,
            "grid_area": null,
            "grid_template_columns": null,
            "flex": null,
            "_model_name": "LayoutModel",
            "justify_items": null,
            "grid_row": null,
            "max_height": null,
            "align_content": null,
            "visibility": null,
            "align_self": null,
            "height": null,
            "min_height": null,
            "padding": null,
            "grid_auto_rows": null,
            "grid_gap": null,
            "max_width": null,
            "order": null,
            "_view_module_version": "1.2.0",
            "grid_template_areas": null,
            "object_position": null,
            "object_fit": null,
            "grid_auto_columns": null,
            "margin": null,
            "display": null,
            "left": null
          }
        },
        "2363b59319ad4682b6c6a8e25a2e7bfc": {
          "model_module": "@jupyter-widgets/controls",
          "model_name": "HBoxModel",
          "state": {
            "_view_name": "HBoxView",
            "_dom_classes": [],
            "_model_name": "HBoxModel",
            "_view_module": "@jupyter-widgets/controls",
            "_model_module_version": "1.5.0",
            "_view_count": null,
            "_view_module_version": "1.5.0",
            "box_style": "",
            "layout": "IPY_MODEL_b648c02b92e14a2da064611d9bf1cf59",
            "_model_module": "@jupyter-widgets/controls",
            "children": [
              "IPY_MODEL_0f8ef06168e84eef9e6b9e9262958a50",
              "IPY_MODEL_3c3cc3c9702e427babfd7a85336fed71",
              "IPY_MODEL_40f234935c044a798e2554bbe220c944"
            ]
          }
        },
        "b648c02b92e14a2da064611d9bf1cf59": {
          "model_module": "@jupyter-widgets/base",
          "model_name": "LayoutModel",
          "state": {
            "_view_name": "LayoutView",
            "grid_template_rows": null,
            "right": null,
            "justify_content": null,
            "_view_module": "@jupyter-widgets/base",
            "overflow": null,
            "_model_module_version": "1.2.0",
            "_view_count": null,
            "flex_flow": null,
            "width": null,
            "min_width": null,
            "border": null,
            "align_items": null,
            "bottom": null,
            "_model_module": "@jupyter-widgets/base",
            "top": null,
            "grid_column": null,
            "overflow_y": null,
            "overflow_x": null,
            "grid_auto_flow": null,
            "grid_area": null,
            "grid_template_columns": null,
            "flex": null,
            "_model_name": "LayoutModel",
            "justify_items": null,
            "grid_row": null,
            "max_height": null,
            "align_content": null,
            "visibility": null,
            "align_self": null,
            "height": null,
            "min_height": null,
            "padding": null,
            "grid_auto_rows": null,
            "grid_gap": null,
            "max_width": null,
            "order": null,
            "_view_module_version": "1.2.0",
            "grid_template_areas": null,
            "object_position": null,
            "object_fit": null,
            "grid_auto_columns": null,
            "margin": null,
            "display": null,
            "left": null
          }
        },
        "0f8ef06168e84eef9e6b9e9262958a50": {
          "model_module": "@jupyter-widgets/controls",
          "model_name": "HTMLModel",
          "state": {
            "_view_name": "HTMLView",
            "style": "IPY_MODEL_3cf8ee4d01d94c4a912845dec576da12",
            "_dom_classes": [],
            "description": "",
            "_model_name": "HTMLModel",
            "placeholder": "​",
            "_view_module": "@jupyter-widgets/controls",
            "_model_module_version": "1.5.0",
            "value": "100%",
            "_view_count": null,
            "_view_module_version": "1.5.0",
            "description_tooltip": null,
            "_model_module": "@jupyter-widgets/controls",
            "layout": "IPY_MODEL_58d7fa5555ec495c8c4d9c756d971911"
          }
        },
        "3c3cc3c9702e427babfd7a85336fed71": {
          "model_module": "@jupyter-widgets/controls",
          "model_name": "FloatProgressModel",
          "state": {
            "_view_name": "ProgressView",
            "style": "IPY_MODEL_76eb3b72bb1d4522b450540da73c0ea5",
            "_dom_classes": [],
            "description": "",
            "_model_name": "FloatProgressModel",
            "bar_style": "success",
            "max": 433,
            "_view_module": "@jupyter-widgets/controls",
            "_model_module_version": "1.5.0",
            "value": 433,
            "_view_count": null,
            "_view_module_version": "1.5.0",
            "orientation": "horizontal",
            "min": 0,
            "description_tooltip": null,
            "_model_module": "@jupyter-widgets/controls",
            "layout": "IPY_MODEL_022c1bf20a8643cf9604a2c5995a050c"
          }
        },
        "40f234935c044a798e2554bbe220c944": {
          "model_module": "@jupyter-widgets/controls",
          "model_name": "HTMLModel",
          "state": {
            "_view_name": "HTMLView",
            "style": "IPY_MODEL_0ab402244fb9450ab349a045cc990707",
            "_dom_classes": [],
            "description": "",
            "_model_name": "HTMLModel",
            "placeholder": "​",
            "_view_module": "@jupyter-widgets/controls",
            "_model_module_version": "1.5.0",
            "value": " 433/433 [00:00&lt;00:00, 1298.68it/s]",
            "_view_count": null,
            "_view_module_version": "1.5.0",
            "description_tooltip": null,
            "_model_module": "@jupyter-widgets/controls",
            "layout": "IPY_MODEL_f300e25d87aa41368a0db0bce704efa2"
          }
        },
        "3cf8ee4d01d94c4a912845dec576da12": {
          "model_module": "@jupyter-widgets/controls",
          "model_name": "DescriptionStyleModel",
          "state": {
            "_view_name": "StyleView",
            "_model_name": "DescriptionStyleModel",
            "description_width": "",
            "_view_module": "@jupyter-widgets/base",
            "_model_module_version": "1.5.0",
            "_view_count": null,
            "_view_module_version": "1.2.0",
            "_model_module": "@jupyter-widgets/controls"
          }
        },
        "58d7fa5555ec495c8c4d9c756d971911": {
          "model_module": "@jupyter-widgets/base",
          "model_name": "LayoutModel",
          "state": {
            "_view_name": "LayoutView",
            "grid_template_rows": null,
            "right": null,
            "justify_content": null,
            "_view_module": "@jupyter-widgets/base",
            "overflow": null,
            "_model_module_version": "1.2.0",
            "_view_count": null,
            "flex_flow": null,
            "width": null,
            "min_width": null,
            "border": null,
            "align_items": null,
            "bottom": null,
            "_model_module": "@jupyter-widgets/base",
            "top": null,
            "grid_column": null,
            "overflow_y": null,
            "overflow_x": null,
            "grid_auto_flow": null,
            "grid_area": null,
            "grid_template_columns": null,
            "flex": null,
            "_model_name": "LayoutModel",
            "justify_items": null,
            "grid_row": null,
            "max_height": null,
            "align_content": null,
            "visibility": null,
            "align_self": null,
            "height": null,
            "min_height": null,
            "padding": null,
            "grid_auto_rows": null,
            "grid_gap": null,
            "max_width": null,
            "order": null,
            "_view_module_version": "1.2.0",
            "grid_template_areas": null,
            "object_position": null,
            "object_fit": null,
            "grid_auto_columns": null,
            "margin": null,
            "display": null,
            "left": null
          }
        },
        "76eb3b72bb1d4522b450540da73c0ea5": {
          "model_module": "@jupyter-widgets/controls",
          "model_name": "ProgressStyleModel",
          "state": {
            "_view_name": "StyleView",
            "_model_name": "ProgressStyleModel",
            "description_width": "",
            "_view_module": "@jupyter-widgets/base",
            "_model_module_version": "1.5.0",
            "_view_count": null,
            "_view_module_version": "1.2.0",
            "bar_color": null,
            "_model_module": "@jupyter-widgets/controls"
          }
        },
        "022c1bf20a8643cf9604a2c5995a050c": {
          "model_module": "@jupyter-widgets/base",
          "model_name": "LayoutModel",
          "state": {
            "_view_name": "LayoutView",
            "grid_template_rows": null,
            "right": null,
            "justify_content": null,
            "_view_module": "@jupyter-widgets/base",
            "overflow": null,
            "_model_module_version": "1.2.0",
            "_view_count": null,
            "flex_flow": null,
            "width": null,
            "min_width": null,
            "border": null,
            "align_items": null,
            "bottom": null,
            "_model_module": "@jupyter-widgets/base",
            "top": null,
            "grid_column": null,
            "overflow_y": null,
            "overflow_x": null,
            "grid_auto_flow": null,
            "grid_area": null,
            "grid_template_columns": null,
            "flex": null,
            "_model_name": "LayoutModel",
            "justify_items": null,
            "grid_row": null,
            "max_height": null,
            "align_content": null,
            "visibility": null,
            "align_self": null,
            "height": null,
            "min_height": null,
            "padding": null,
            "grid_auto_rows": null,
            "grid_gap": null,
            "max_width": null,
            "order": null,
            "_view_module_version": "1.2.0",
            "grid_template_areas": null,
            "object_position": null,
            "object_fit": null,
            "grid_auto_columns": null,
            "margin": null,
            "display": null,
            "left": null
          }
        },
        "0ab402244fb9450ab349a045cc990707": {
          "model_module": "@jupyter-widgets/controls",
          "model_name": "DescriptionStyleModel",
          "state": {
            "_view_name": "StyleView",
            "_model_name": "DescriptionStyleModel",
            "description_width": "",
            "_view_module": "@jupyter-widgets/base",
            "_model_module_version": "1.5.0",
            "_view_count": null,
            "_view_module_version": "1.2.0",
            "_model_module": "@jupyter-widgets/controls"
          }
        },
        "f300e25d87aa41368a0db0bce704efa2": {
          "model_module": "@jupyter-widgets/base",
          "model_name": "LayoutModel",
          "state": {
            "_view_name": "LayoutView",
            "grid_template_rows": null,
            "right": null,
            "justify_content": null,
            "_view_module": "@jupyter-widgets/base",
            "overflow": null,
            "_model_module_version": "1.2.0",
            "_view_count": null,
            "flex_flow": null,
            "width": null,
            "min_width": null,
            "border": null,
            "align_items": null,
            "bottom": null,
            "_model_module": "@jupyter-widgets/base",
            "top": null,
            "grid_column": null,
            "overflow_y": null,
            "overflow_x": null,
            "grid_auto_flow": null,
            "grid_area": null,
            "grid_template_columns": null,
            "flex": null,
            "_model_name": "LayoutModel",
            "justify_items": null,
            "grid_row": null,
            "max_height": null,
            "align_content": null,
            "visibility": null,
            "align_self": null,
            "height": null,
            "min_height": null,
            "padding": null,
            "grid_auto_rows": null,
            "grid_gap": null,
            "max_width": null,
            "order": null,
            "_view_module_version": "1.2.0",
            "grid_template_areas": null,
            "object_position": null,
            "object_fit": null,
            "grid_auto_columns": null,
            "margin": null,
            "display": null,
            "left": null
          }
        },
        "42ff3352102149b18497ee05be2f8e88": {
          "model_module": "@jupyter-widgets/controls",
          "model_name": "HBoxModel",
          "state": {
            "_view_name": "HBoxView",
            "_dom_classes": [],
            "_model_name": "HBoxModel",
            "_view_module": "@jupyter-widgets/controls",
            "_model_module_version": "1.5.0",
            "_view_count": null,
            "_view_module_version": "1.5.0",
            "box_style": "",
            "layout": "IPY_MODEL_a729e98a03f843bca7e96889c85c2610",
            "_model_module": "@jupyter-widgets/controls",
            "children": [
              "IPY_MODEL_79cddabcb3aa4087954ee7d9cf4399c8",
              "IPY_MODEL_45cc92472dee4ef1b933716ac1953767",
              "IPY_MODEL_19f2b14e9caa4a938165919a0dfcdaf4"
            ]
          }
        },
        "a729e98a03f843bca7e96889c85c2610": {
          "model_module": "@jupyter-widgets/base",
          "model_name": "LayoutModel",
          "state": {
            "_view_name": "LayoutView",
            "grid_template_rows": null,
            "right": null,
            "justify_content": null,
            "_view_module": "@jupyter-widgets/base",
            "overflow": null,
            "_model_module_version": "1.2.0",
            "_view_count": null,
            "flex_flow": null,
            "width": null,
            "min_width": null,
            "border": null,
            "align_items": null,
            "bottom": null,
            "_model_module": "@jupyter-widgets/base",
            "top": null,
            "grid_column": null,
            "overflow_y": null,
            "overflow_x": null,
            "grid_auto_flow": null,
            "grid_area": null,
            "grid_template_columns": null,
            "flex": null,
            "_model_name": "LayoutModel",
            "justify_items": null,
            "grid_row": null,
            "max_height": null,
            "align_content": null,
            "visibility": null,
            "align_self": null,
            "height": null,
            "min_height": null,
            "padding": null,
            "grid_auto_rows": null,
            "grid_gap": null,
            "max_width": null,
            "order": null,
            "_view_module_version": "1.2.0",
            "grid_template_areas": null,
            "object_position": null,
            "object_fit": null,
            "grid_auto_columns": null,
            "margin": null,
            "display": null,
            "left": null
          }
        },
        "79cddabcb3aa4087954ee7d9cf4399c8": {
          "model_module": "@jupyter-widgets/controls",
          "model_name": "HTMLModel",
          "state": {
            "_view_name": "HTMLView",
            "style": "IPY_MODEL_b8e474e40a3847b8bea1ddcfce81e6bf",
            "_dom_classes": [],
            "description": "",
            "_model_name": "HTMLModel",
            "placeholder": "​",
            "_view_module": "@jupyter-widgets/controls",
            "_model_module_version": "1.5.0",
            "value": "  0%",
            "_view_count": null,
            "_view_module_version": "1.5.0",
            "description_tooltip": null,
            "_model_module": "@jupyter-widgets/controls",
            "layout": "IPY_MODEL_3c957e43f624459fa0610e8b676009b1"
          }
        },
        "45cc92472dee4ef1b933716ac1953767": {
          "model_module": "@jupyter-widgets/controls",
          "model_name": "FloatProgressModel",
          "state": {
            "_view_name": "ProgressView",
            "style": "IPY_MODEL_7d8ba18f584045a88f67ab46837589ca",
            "_dom_classes": [],
            "description": "",
            "_model_name": "FloatProgressModel",
            "bar_style": "danger",
            "max": 9166,
            "_view_module": "@jupyter-widgets/controls",
            "_model_module_version": "1.5.0",
            "value": 19,
            "_view_count": null,
            "_view_module_version": "1.5.0",
            "orientation": "horizontal",
            "min": 0,
            "description_tooltip": null,
            "_model_module": "@jupyter-widgets/controls",
            "layout": "IPY_MODEL_762808c0022e43d5973a80c8ed8bab01"
          }
        },
        "19f2b14e9caa4a938165919a0dfcdaf4": {
          "model_module": "@jupyter-widgets/controls",
          "model_name": "HTMLModel",
          "state": {
            "_view_name": "HTMLView",
            "style": "IPY_MODEL_1cfb6ee0009c40d7bc798ef00ea09b5e",
            "_dom_classes": [],
            "description": "",
            "_model_name": "HTMLModel",
            "placeholder": "​",
            "_view_module": "@jupyter-widgets/controls",
            "_model_module_version": "1.5.0",
            "value": " 19/9166 [00:19&lt;2:02:46,  1.24it/s]",
            "_view_count": null,
            "_view_module_version": "1.5.0",
            "description_tooltip": null,
            "_model_module": "@jupyter-widgets/controls",
            "layout": "IPY_MODEL_3010a35ed3d745549f6d483c848ba39d"
          }
        },
        "b8e474e40a3847b8bea1ddcfce81e6bf": {
          "model_module": "@jupyter-widgets/controls",
          "model_name": "DescriptionStyleModel",
          "state": {
            "_view_name": "StyleView",
            "_model_name": "DescriptionStyleModel",
            "description_width": "",
            "_view_module": "@jupyter-widgets/base",
            "_model_module_version": "1.5.0",
            "_view_count": null,
            "_view_module_version": "1.2.0",
            "_model_module": "@jupyter-widgets/controls"
          }
        },
        "3c957e43f624459fa0610e8b676009b1": {
          "model_module": "@jupyter-widgets/base",
          "model_name": "LayoutModel",
          "state": {
            "_view_name": "LayoutView",
            "grid_template_rows": null,
            "right": null,
            "justify_content": null,
            "_view_module": "@jupyter-widgets/base",
            "overflow": null,
            "_model_module_version": "1.2.0",
            "_view_count": null,
            "flex_flow": null,
            "width": null,
            "min_width": null,
            "border": null,
            "align_items": null,
            "bottom": null,
            "_model_module": "@jupyter-widgets/base",
            "top": null,
            "grid_column": null,
            "overflow_y": null,
            "overflow_x": null,
            "grid_auto_flow": null,
            "grid_area": null,
            "grid_template_columns": null,
            "flex": null,
            "_model_name": "LayoutModel",
            "justify_items": null,
            "grid_row": null,
            "max_height": null,
            "align_content": null,
            "visibility": null,
            "align_self": null,
            "height": null,
            "min_height": null,
            "padding": null,
            "grid_auto_rows": null,
            "grid_gap": null,
            "max_width": null,
            "order": null,
            "_view_module_version": "1.2.0",
            "grid_template_areas": null,
            "object_position": null,
            "object_fit": null,
            "grid_auto_columns": null,
            "margin": null,
            "display": null,
            "left": null
          }
        },
        "7d8ba18f584045a88f67ab46837589ca": {
          "model_module": "@jupyter-widgets/controls",
          "model_name": "ProgressStyleModel",
          "state": {
            "_view_name": "StyleView",
            "_model_name": "ProgressStyleModel",
            "description_width": "",
            "_view_module": "@jupyter-widgets/base",
            "_model_module_version": "1.5.0",
            "_view_count": null,
            "_view_module_version": "1.2.0",
            "bar_color": null,
            "_model_module": "@jupyter-widgets/controls"
          }
        },
        "762808c0022e43d5973a80c8ed8bab01": {
          "model_module": "@jupyter-widgets/base",
          "model_name": "LayoutModel",
          "state": {
            "_view_name": "LayoutView",
            "grid_template_rows": null,
            "right": null,
            "justify_content": null,
            "_view_module": "@jupyter-widgets/base",
            "overflow": null,
            "_model_module_version": "1.2.0",
            "_view_count": null,
            "flex_flow": null,
            "width": null,
            "min_width": null,
            "border": null,
            "align_items": null,
            "bottom": null,
            "_model_module": "@jupyter-widgets/base",
            "top": null,
            "grid_column": null,
            "overflow_y": null,
            "overflow_x": null,
            "grid_auto_flow": null,
            "grid_area": null,
            "grid_template_columns": null,
            "flex": null,
            "_model_name": "LayoutModel",
            "justify_items": null,
            "grid_row": null,
            "max_height": null,
            "align_content": null,
            "visibility": null,
            "align_self": null,
            "height": null,
            "min_height": null,
            "padding": null,
            "grid_auto_rows": null,
            "grid_gap": null,
            "max_width": null,
            "order": null,
            "_view_module_version": "1.2.0",
            "grid_template_areas": null,
            "object_position": null,
            "object_fit": null,
            "grid_auto_columns": null,
            "margin": null,
            "display": null,
            "left": null
          }
        },
        "1cfb6ee0009c40d7bc798ef00ea09b5e": {
          "model_module": "@jupyter-widgets/controls",
          "model_name": "DescriptionStyleModel",
          "state": {
            "_view_name": "StyleView",
            "_model_name": "DescriptionStyleModel",
            "description_width": "",
            "_view_module": "@jupyter-widgets/base",
            "_model_module_version": "1.5.0",
            "_view_count": null,
            "_view_module_version": "1.2.0",
            "_model_module": "@jupyter-widgets/controls"
          }
        },
        "3010a35ed3d745549f6d483c848ba39d": {
          "model_module": "@jupyter-widgets/base",
          "model_name": "LayoutModel",
          "state": {
            "_view_name": "LayoutView",
            "grid_template_rows": null,
            "right": null,
            "justify_content": null,
            "_view_module": "@jupyter-widgets/base",
            "overflow": null,
            "_model_module_version": "1.2.0",
            "_view_count": null,
            "flex_flow": null,
            "width": null,
            "min_width": null,
            "border": null,
            "align_items": null,
            "bottom": null,
            "_model_module": "@jupyter-widgets/base",
            "top": null,
            "grid_column": null,
            "overflow_y": null,
            "overflow_x": null,
            "grid_auto_flow": null,
            "grid_area": null,
            "grid_template_columns": null,
            "flex": null,
            "_model_name": "LayoutModel",
            "justify_items": null,
            "grid_row": null,
            "max_height": null,
            "align_content": null,
            "visibility": null,
            "align_self": null,
            "height": null,
            "min_height": null,
            "padding": null,
            "grid_auto_rows": null,
            "grid_gap": null,
            "max_width": null,
            "order": null,
            "_view_module_version": "1.2.0",
            "grid_template_areas": null,
            "object_position": null,
            "object_fit": null,
            "grid_auto_columns": null,
            "margin": null,
            "display": null,
            "left": null
          }
        },
        "8b1b19e6edd2446e9d205280f66e211b": {
          "model_module": "@jupyter-widgets/controls",
          "model_name": "HBoxModel",
          "state": {
            "_view_name": "HBoxView",
            "_dom_classes": [],
            "_model_name": "HBoxModel",
            "_view_module": "@jupyter-widgets/controls",
            "_model_module_version": "1.5.0",
            "_view_count": null,
            "_view_module_version": "1.5.0",
            "box_style": "",
            "layout": "IPY_MODEL_74d0c746696f453097f457ab6147d9c4",
            "_model_module": "@jupyter-widgets/controls",
            "children": [
              "IPY_MODEL_7286bd063bf545a0a8d38cae926b77d8",
              "IPY_MODEL_44e47217ac2b41bfbc8c150749bd0fdc",
              "IPY_MODEL_741cbeca141947ab85c2223ce51ca10a"
            ]
          }
        },
        "74d0c746696f453097f457ab6147d9c4": {
          "model_module": "@jupyter-widgets/base",
          "model_name": "LayoutModel",
          "state": {
            "_view_name": "LayoutView",
            "grid_template_rows": null,
            "right": null,
            "justify_content": null,
            "_view_module": "@jupyter-widgets/base",
            "overflow": null,
            "_model_module_version": "1.2.0",
            "_view_count": null,
            "flex_flow": null,
            "width": null,
            "min_width": null,
            "border": null,
            "align_items": null,
            "bottom": null,
            "_model_module": "@jupyter-widgets/base",
            "top": null,
            "grid_column": null,
            "overflow_y": null,
            "overflow_x": null,
            "grid_auto_flow": null,
            "grid_area": null,
            "grid_template_columns": null,
            "flex": null,
            "_model_name": "LayoutModel",
            "justify_items": null,
            "grid_row": null,
            "max_height": null,
            "align_content": null,
            "visibility": null,
            "align_self": null,
            "height": null,
            "min_height": null,
            "padding": null,
            "grid_auto_rows": null,
            "grid_gap": null,
            "max_width": null,
            "order": null,
            "_view_module_version": "1.2.0",
            "grid_template_areas": null,
            "object_position": null,
            "object_fit": null,
            "grid_auto_columns": null,
            "margin": null,
            "display": null,
            "left": null
          }
        },
        "7286bd063bf545a0a8d38cae926b77d8": {
          "model_module": "@jupyter-widgets/controls",
          "model_name": "HTMLModel",
          "state": {
            "_view_name": "HTMLView",
            "style": "IPY_MODEL_db3167d3526d485590baec0895295512",
            "_dom_classes": [],
            "description": "",
            "_model_name": "HTMLModel",
            "placeholder": "​",
            "_view_module": "@jupyter-widgets/controls",
            "_model_module_version": "1.5.0",
            "value": "Epoch 3 of 3: 100%",
            "_view_count": null,
            "_view_module_version": "1.5.0",
            "description_tooltip": null,
            "_model_module": "@jupyter-widgets/controls",
            "layout": "IPY_MODEL_086108a493814f5681aedbed9489eae6"
          }
        },
        "44e47217ac2b41bfbc8c150749bd0fdc": {
          "model_module": "@jupyter-widgets/controls",
          "model_name": "FloatProgressModel",
          "state": {
            "_view_name": "ProgressView",
            "style": "IPY_MODEL_75e87e54e2ad410dba1c41bb9d00762b",
            "_dom_classes": [],
            "description": "",
            "_model_name": "FloatProgressModel",
            "bar_style": "success",
            "max": 3,
            "_view_module": "@jupyter-widgets/controls",
            "_model_module_version": "1.5.0",
            "value": 3,
            "_view_count": null,
            "_view_module_version": "1.5.0",
            "orientation": "horizontal",
            "min": 0,
            "description_tooltip": null,
            "_model_module": "@jupyter-widgets/controls",
            "layout": "IPY_MODEL_6624c922348e41b08127416d86a8bfe2"
          }
        },
        "741cbeca141947ab85c2223ce51ca10a": {
          "model_module": "@jupyter-widgets/controls",
          "model_name": "HTMLModel",
          "state": {
            "_view_name": "HTMLView",
            "style": "IPY_MODEL_7388a9c0aa2b4fa5a7a0a9a9ba129a60",
            "_dom_classes": [],
            "description": "",
            "_model_name": "HTMLModel",
            "placeholder": "​",
            "_view_module": "@jupyter-widgets/controls",
            "_model_module_version": "1.5.0",
            "value": " 3/3 [25:48&lt;00:00, 517.21s/it]",
            "_view_count": null,
            "_view_module_version": "1.5.0",
            "description_tooltip": null,
            "_model_module": "@jupyter-widgets/controls",
            "layout": "IPY_MODEL_d22b8b113e244b37b320698fd36e54a3"
          }
        },
        "db3167d3526d485590baec0895295512": {
          "model_module": "@jupyter-widgets/controls",
          "model_name": "DescriptionStyleModel",
          "state": {
            "_view_name": "StyleView",
            "_model_name": "DescriptionStyleModel",
            "description_width": "",
            "_view_module": "@jupyter-widgets/base",
            "_model_module_version": "1.5.0",
            "_view_count": null,
            "_view_module_version": "1.2.0",
            "_model_module": "@jupyter-widgets/controls"
          }
        },
        "086108a493814f5681aedbed9489eae6": {
          "model_module": "@jupyter-widgets/base",
          "model_name": "LayoutModel",
          "state": {
            "_view_name": "LayoutView",
            "grid_template_rows": null,
            "right": null,
            "justify_content": null,
            "_view_module": "@jupyter-widgets/base",
            "overflow": null,
            "_model_module_version": "1.2.0",
            "_view_count": null,
            "flex_flow": null,
            "width": null,
            "min_width": null,
            "border": null,
            "align_items": null,
            "bottom": null,
            "_model_module": "@jupyter-widgets/base",
            "top": null,
            "grid_column": null,
            "overflow_y": null,
            "overflow_x": null,
            "grid_auto_flow": null,
            "grid_area": null,
            "grid_template_columns": null,
            "flex": null,
            "_model_name": "LayoutModel",
            "justify_items": null,
            "grid_row": null,
            "max_height": null,
            "align_content": null,
            "visibility": null,
            "align_self": null,
            "height": null,
            "min_height": null,
            "padding": null,
            "grid_auto_rows": null,
            "grid_gap": null,
            "max_width": null,
            "order": null,
            "_view_module_version": "1.2.0",
            "grid_template_areas": null,
            "object_position": null,
            "object_fit": null,
            "grid_auto_columns": null,
            "margin": null,
            "display": null,
            "left": null
          }
        },
        "75e87e54e2ad410dba1c41bb9d00762b": {
          "model_module": "@jupyter-widgets/controls",
          "model_name": "ProgressStyleModel",
          "state": {
            "_view_name": "StyleView",
            "_model_name": "ProgressStyleModel",
            "description_width": "",
            "_view_module": "@jupyter-widgets/base",
            "_model_module_version": "1.5.0",
            "_view_count": null,
            "_view_module_version": "1.2.0",
            "bar_color": null,
            "_model_module": "@jupyter-widgets/controls"
          }
        },
        "6624c922348e41b08127416d86a8bfe2": {
          "model_module": "@jupyter-widgets/base",
          "model_name": "LayoutModel",
          "state": {
            "_view_name": "LayoutView",
            "grid_template_rows": null,
            "right": null,
            "justify_content": null,
            "_view_module": "@jupyter-widgets/base",
            "overflow": null,
            "_model_module_version": "1.2.0",
            "_view_count": null,
            "flex_flow": null,
            "width": null,
            "min_width": null,
            "border": null,
            "align_items": null,
            "bottom": null,
            "_model_module": "@jupyter-widgets/base",
            "top": null,
            "grid_column": null,
            "overflow_y": null,
            "overflow_x": null,
            "grid_auto_flow": null,
            "grid_area": null,
            "grid_template_columns": null,
            "flex": null,
            "_model_name": "LayoutModel",
            "justify_items": null,
            "grid_row": null,
            "max_height": null,
            "align_content": null,
            "visibility": null,
            "align_self": null,
            "height": null,
            "min_height": null,
            "padding": null,
            "grid_auto_rows": null,
            "grid_gap": null,
            "max_width": null,
            "order": null,
            "_view_module_version": "1.2.0",
            "grid_template_areas": null,
            "object_position": null,
            "object_fit": null,
            "grid_auto_columns": null,
            "margin": null,
            "display": null,
            "left": null
          }
        },
        "7388a9c0aa2b4fa5a7a0a9a9ba129a60": {
          "model_module": "@jupyter-widgets/controls",
          "model_name": "DescriptionStyleModel",
          "state": {
            "_view_name": "StyleView",
            "_model_name": "DescriptionStyleModel",
            "description_width": "",
            "_view_module": "@jupyter-widgets/base",
            "_model_module_version": "1.5.0",
            "_view_count": null,
            "_view_module_version": "1.2.0",
            "_model_module": "@jupyter-widgets/controls"
          }
        },
        "d22b8b113e244b37b320698fd36e54a3": {
          "model_module": "@jupyter-widgets/base",
          "model_name": "LayoutModel",
          "state": {
            "_view_name": "LayoutView",
            "grid_template_rows": null,
            "right": null,
            "justify_content": null,
            "_view_module": "@jupyter-widgets/base",
            "overflow": null,
            "_model_module_version": "1.2.0",
            "_view_count": null,
            "flex_flow": null,
            "width": null,
            "min_width": null,
            "border": null,
            "align_items": null,
            "bottom": null,
            "_model_module": "@jupyter-widgets/base",
            "top": null,
            "grid_column": null,
            "overflow_y": null,
            "overflow_x": null,
            "grid_auto_flow": null,
            "grid_area": null,
            "grid_template_columns": null,
            "flex": null,
            "_model_name": "LayoutModel",
            "justify_items": null,
            "grid_row": null,
            "max_height": null,
            "align_content": null,
            "visibility": null,
            "align_self": null,
            "height": null,
            "min_height": null,
            "padding": null,
            "grid_auto_rows": null,
            "grid_gap": null,
            "max_width": null,
            "order": null,
            "_view_module_version": "1.2.0",
            "grid_template_areas": null,
            "object_position": null,
            "object_fit": null,
            "grid_auto_columns": null,
            "margin": null,
            "display": null,
            "left": null
          }
        },
        "23fe19bfa2ad4bca88a60f520c06f960": {
          "model_module": "@jupyter-widgets/controls",
          "model_name": "HBoxModel",
          "state": {
            "_view_name": "HBoxView",
            "_dom_classes": [],
            "_model_name": "HBoxModel",
            "_view_module": "@jupyter-widgets/controls",
            "_model_module_version": "1.5.0",
            "_view_count": null,
            "_view_module_version": "1.5.0",
            "box_style": "",
            "layout": "IPY_MODEL_60f9fdd4001a405ca645d21eea08af2e",
            "_model_module": "@jupyter-widgets/controls",
            "children": [
              "IPY_MODEL_bac4e4ab9bb3496e986a0a9cd9d9168b",
              "IPY_MODEL_805f3c05df8f407abd21c69f13ebc322",
              "IPY_MODEL_3bde06311f79444591348052f458b9dc"
            ]
          }
        },
        "60f9fdd4001a405ca645d21eea08af2e": {
          "model_module": "@jupyter-widgets/base",
          "model_name": "LayoutModel",
          "state": {
            "_view_name": "LayoutView",
            "grid_template_rows": null,
            "right": null,
            "justify_content": null,
            "_view_module": "@jupyter-widgets/base",
            "overflow": null,
            "_model_module_version": "1.2.0",
            "_view_count": null,
            "flex_flow": null,
            "width": null,
            "min_width": null,
            "border": null,
            "align_items": null,
            "bottom": null,
            "_model_module": "@jupyter-widgets/base",
            "top": null,
            "grid_column": null,
            "overflow_y": null,
            "overflow_x": null,
            "grid_auto_flow": null,
            "grid_area": null,
            "grid_template_columns": null,
            "flex": null,
            "_model_name": "LayoutModel",
            "justify_items": null,
            "grid_row": null,
            "max_height": null,
            "align_content": null,
            "visibility": null,
            "align_self": null,
            "height": null,
            "min_height": null,
            "padding": null,
            "grid_auto_rows": null,
            "grid_gap": null,
            "max_width": null,
            "order": null,
            "_view_module_version": "1.2.0",
            "grid_template_areas": null,
            "object_position": null,
            "object_fit": null,
            "grid_auto_columns": null,
            "margin": null,
            "display": null,
            "left": null
          }
        },
        "bac4e4ab9bb3496e986a0a9cd9d9168b": {
          "model_module": "@jupyter-widgets/controls",
          "model_name": "HTMLModel",
          "state": {
            "_view_name": "HTMLView",
            "style": "IPY_MODEL_dd579f5bfa804ac197d8ba7657b94e61",
            "_dom_classes": [],
            "description": "",
            "_model_name": "HTMLModel",
            "placeholder": "​",
            "_view_module": "@jupyter-widgets/controls",
            "_model_module_version": "1.5.0",
            "value": "Epochs 0/3. Running Loss:    1.0566: 100%",
            "_view_count": null,
            "_view_module_version": "1.5.0",
            "description_tooltip": null,
            "_model_module": "@jupyter-widgets/controls",
            "layout": "IPY_MODEL_9f5cd2b4af514261b6e1c037c975cf16"
          }
        },
        "805f3c05df8f407abd21c69f13ebc322": {
          "model_module": "@jupyter-widgets/controls",
          "model_name": "FloatProgressModel",
          "state": {
            "_view_name": "ProgressView",
            "style": "IPY_MODEL_86f8b67e650e440ca154f6c6b01ac83a",
            "_dom_classes": [],
            "description": "",
            "_model_name": "FloatProgressModel",
            "bar_style": "success",
            "max": 1146,
            "_view_module": "@jupyter-widgets/controls",
            "_model_module_version": "1.5.0",
            "value": 1146,
            "_view_count": null,
            "_view_module_version": "1.5.0",
            "orientation": "horizontal",
            "min": 0,
            "description_tooltip": null,
            "_model_module": "@jupyter-widgets/controls",
            "layout": "IPY_MODEL_755658f8bf864a4bbf67c1c77bb20bff"
          }
        },
        "3bde06311f79444591348052f458b9dc": {
          "model_module": "@jupyter-widgets/controls",
          "model_name": "HTMLModel",
          "state": {
            "_view_name": "HTMLView",
            "style": "IPY_MODEL_b23d8ba62d6a454889546ad62b1b40e5",
            "_dom_classes": [],
            "description": "",
            "_model_name": "HTMLModel",
            "placeholder": "​",
            "_view_module": "@jupyter-widgets/controls",
            "_model_module_version": "1.5.0",
            "value": " 1146/1146 [08:01&lt;00:00,  2.48it/s]",
            "_view_count": null,
            "_view_module_version": "1.5.0",
            "description_tooltip": null,
            "_model_module": "@jupyter-widgets/controls",
            "layout": "IPY_MODEL_24105c7147a14098ac531303295eae0c"
          }
        },
        "dd579f5bfa804ac197d8ba7657b94e61": {
          "model_module": "@jupyter-widgets/controls",
          "model_name": "DescriptionStyleModel",
          "state": {
            "_view_name": "StyleView",
            "_model_name": "DescriptionStyleModel",
            "description_width": "",
            "_view_module": "@jupyter-widgets/base",
            "_model_module_version": "1.5.0",
            "_view_count": null,
            "_view_module_version": "1.2.0",
            "_model_module": "@jupyter-widgets/controls"
          }
        },
        "9f5cd2b4af514261b6e1c037c975cf16": {
          "model_module": "@jupyter-widgets/base",
          "model_name": "LayoutModel",
          "state": {
            "_view_name": "LayoutView",
            "grid_template_rows": null,
            "right": null,
            "justify_content": null,
            "_view_module": "@jupyter-widgets/base",
            "overflow": null,
            "_model_module_version": "1.2.0",
            "_view_count": null,
            "flex_flow": null,
            "width": null,
            "min_width": null,
            "border": null,
            "align_items": null,
            "bottom": null,
            "_model_module": "@jupyter-widgets/base",
            "top": null,
            "grid_column": null,
            "overflow_y": null,
            "overflow_x": null,
            "grid_auto_flow": null,
            "grid_area": null,
            "grid_template_columns": null,
            "flex": null,
            "_model_name": "LayoutModel",
            "justify_items": null,
            "grid_row": null,
            "max_height": null,
            "align_content": null,
            "visibility": null,
            "align_self": null,
            "height": null,
            "min_height": null,
            "padding": null,
            "grid_auto_rows": null,
            "grid_gap": null,
            "max_width": null,
            "order": null,
            "_view_module_version": "1.2.0",
            "grid_template_areas": null,
            "object_position": null,
            "object_fit": null,
            "grid_auto_columns": null,
            "margin": null,
            "display": null,
            "left": null
          }
        },
        "86f8b67e650e440ca154f6c6b01ac83a": {
          "model_module": "@jupyter-widgets/controls",
          "model_name": "ProgressStyleModel",
          "state": {
            "_view_name": "StyleView",
            "_model_name": "ProgressStyleModel",
            "description_width": "",
            "_view_module": "@jupyter-widgets/base",
            "_model_module_version": "1.5.0",
            "_view_count": null,
            "_view_module_version": "1.2.0",
            "bar_color": null,
            "_model_module": "@jupyter-widgets/controls"
          }
        },
        "755658f8bf864a4bbf67c1c77bb20bff": {
          "model_module": "@jupyter-widgets/base",
          "model_name": "LayoutModel",
          "state": {
            "_view_name": "LayoutView",
            "grid_template_rows": null,
            "right": null,
            "justify_content": null,
            "_view_module": "@jupyter-widgets/base",
            "overflow": null,
            "_model_module_version": "1.2.0",
            "_view_count": null,
            "flex_flow": null,
            "width": null,
            "min_width": null,
            "border": null,
            "align_items": null,
            "bottom": null,
            "_model_module": "@jupyter-widgets/base",
            "top": null,
            "grid_column": null,
            "overflow_y": null,
            "overflow_x": null,
            "grid_auto_flow": null,
            "grid_area": null,
            "grid_template_columns": null,
            "flex": null,
            "_model_name": "LayoutModel",
            "justify_items": null,
            "grid_row": null,
            "max_height": null,
            "align_content": null,
            "visibility": null,
            "align_self": null,
            "height": null,
            "min_height": null,
            "padding": null,
            "grid_auto_rows": null,
            "grid_gap": null,
            "max_width": null,
            "order": null,
            "_view_module_version": "1.2.0",
            "grid_template_areas": null,
            "object_position": null,
            "object_fit": null,
            "grid_auto_columns": null,
            "margin": null,
            "display": null,
            "left": null
          }
        },
        "b23d8ba62d6a454889546ad62b1b40e5": {
          "model_module": "@jupyter-widgets/controls",
          "model_name": "DescriptionStyleModel",
          "state": {
            "_view_name": "StyleView",
            "_model_name": "DescriptionStyleModel",
            "description_width": "",
            "_view_module": "@jupyter-widgets/base",
            "_model_module_version": "1.5.0",
            "_view_count": null,
            "_view_module_version": "1.2.0",
            "_model_module": "@jupyter-widgets/controls"
          }
        },
        "24105c7147a14098ac531303295eae0c": {
          "model_module": "@jupyter-widgets/base",
          "model_name": "LayoutModel",
          "state": {
            "_view_name": "LayoutView",
            "grid_template_rows": null,
            "right": null,
            "justify_content": null,
            "_view_module": "@jupyter-widgets/base",
            "overflow": null,
            "_model_module_version": "1.2.0",
            "_view_count": null,
            "flex_flow": null,
            "width": null,
            "min_width": null,
            "border": null,
            "align_items": null,
            "bottom": null,
            "_model_module": "@jupyter-widgets/base",
            "top": null,
            "grid_column": null,
            "overflow_y": null,
            "overflow_x": null,
            "grid_auto_flow": null,
            "grid_area": null,
            "grid_template_columns": null,
            "flex": null,
            "_model_name": "LayoutModel",
            "justify_items": null,
            "grid_row": null,
            "max_height": null,
            "align_content": null,
            "visibility": null,
            "align_self": null,
            "height": null,
            "min_height": null,
            "padding": null,
            "grid_auto_rows": null,
            "grid_gap": null,
            "max_width": null,
            "order": null,
            "_view_module_version": "1.2.0",
            "grid_template_areas": null,
            "object_position": null,
            "object_fit": null,
            "grid_auto_columns": null,
            "margin": null,
            "display": null,
            "left": null
          }
        },
        "fcc0180931de4a41a7d4e410709978c0": {
          "model_module": "@jupyter-widgets/controls",
          "model_name": "HBoxModel",
          "state": {
            "_view_name": "HBoxView",
            "_dom_classes": [],
            "_model_name": "HBoxModel",
            "_view_module": "@jupyter-widgets/controls",
            "_model_module_version": "1.5.0",
            "_view_count": null,
            "_view_module_version": "1.5.0",
            "box_style": "",
            "layout": "IPY_MODEL_c26baaa048874b27b39b018071af86ed",
            "_model_module": "@jupyter-widgets/controls",
            "children": [
              "IPY_MODEL_6d9e77d2a8aa428b98a32f93ca78e337",
              "IPY_MODEL_ca6560350560440386cdf2e197a37928",
              "IPY_MODEL_1d313da8c2c54628b648c346dc26157b"
            ]
          }
        },
        "c26baaa048874b27b39b018071af86ed": {
          "model_module": "@jupyter-widgets/base",
          "model_name": "LayoutModel",
          "state": {
            "_view_name": "LayoutView",
            "grid_template_rows": null,
            "right": null,
            "justify_content": null,
            "_view_module": "@jupyter-widgets/base",
            "overflow": null,
            "_model_module_version": "1.2.0",
            "_view_count": null,
            "flex_flow": null,
            "width": null,
            "min_width": null,
            "border": null,
            "align_items": null,
            "bottom": null,
            "_model_module": "@jupyter-widgets/base",
            "top": null,
            "grid_column": null,
            "overflow_y": null,
            "overflow_x": null,
            "grid_auto_flow": null,
            "grid_area": null,
            "grid_template_columns": null,
            "flex": null,
            "_model_name": "LayoutModel",
            "justify_items": null,
            "grid_row": null,
            "max_height": null,
            "align_content": null,
            "visibility": null,
            "align_self": null,
            "height": null,
            "min_height": null,
            "padding": null,
            "grid_auto_rows": null,
            "grid_gap": null,
            "max_width": null,
            "order": null,
            "_view_module_version": "1.2.0",
            "grid_template_areas": null,
            "object_position": null,
            "object_fit": null,
            "grid_auto_columns": null,
            "margin": null,
            "display": null,
            "left": null
          }
        },
        "6d9e77d2a8aa428b98a32f93ca78e337": {
          "model_module": "@jupyter-widgets/controls",
          "model_name": "HTMLModel",
          "state": {
            "_view_name": "HTMLView",
            "style": "IPY_MODEL_da444bb54a634f8197d437e824327be8",
            "_dom_classes": [],
            "description": "",
            "_model_name": "HTMLModel",
            "placeholder": "​",
            "_view_module": "@jupyter-widgets/controls",
            "_model_module_version": "1.5.0",
            "value": "Epochs 1/3. Running Loss:    0.7317: 100%",
            "_view_count": null,
            "_view_module_version": "1.5.0",
            "description_tooltip": null,
            "_model_module": "@jupyter-widgets/controls",
            "layout": "IPY_MODEL_c9d241128fde4d23ace72253a2ab5bfb"
          }
        },
        "ca6560350560440386cdf2e197a37928": {
          "model_module": "@jupyter-widgets/controls",
          "model_name": "FloatProgressModel",
          "state": {
            "_view_name": "ProgressView",
            "style": "IPY_MODEL_7fb0c19cb7154666a9694ef2eb001a8b",
            "_dom_classes": [],
            "description": "",
            "_model_name": "FloatProgressModel",
            "bar_style": "success",
            "max": 1146,
            "_view_module": "@jupyter-widgets/controls",
            "_model_module_version": "1.5.0",
            "value": 1146,
            "_view_count": null,
            "_view_module_version": "1.5.0",
            "orientation": "horizontal",
            "min": 0,
            "description_tooltip": null,
            "_model_module": "@jupyter-widgets/controls",
            "layout": "IPY_MODEL_14bd6c9b6cc0402399fed9a7625445f6"
          }
        },
        "1d313da8c2c54628b648c346dc26157b": {
          "model_module": "@jupyter-widgets/controls",
          "model_name": "HTMLModel",
          "state": {
            "_view_name": "HTMLView",
            "style": "IPY_MODEL_c9be88cd00c44c5eaa8f8b32a7c6996f",
            "_dom_classes": [],
            "description": "",
            "_model_name": "HTMLModel",
            "placeholder": "​",
            "_view_module": "@jupyter-widgets/controls",
            "_model_module_version": "1.5.0",
            "value": " 1146/1146 [08:33&lt;00:00,  2.48it/s]",
            "_view_count": null,
            "_view_module_version": "1.5.0",
            "description_tooltip": null,
            "_model_module": "@jupyter-widgets/controls",
            "layout": "IPY_MODEL_d5946ccebb154fd7b296f091f4f1a473"
          }
        },
        "da444bb54a634f8197d437e824327be8": {
          "model_module": "@jupyter-widgets/controls",
          "model_name": "DescriptionStyleModel",
          "state": {
            "_view_name": "StyleView",
            "_model_name": "DescriptionStyleModel",
            "description_width": "",
            "_view_module": "@jupyter-widgets/base",
            "_model_module_version": "1.5.0",
            "_view_count": null,
            "_view_module_version": "1.2.0",
            "_model_module": "@jupyter-widgets/controls"
          }
        },
        "c9d241128fde4d23ace72253a2ab5bfb": {
          "model_module": "@jupyter-widgets/base",
          "model_name": "LayoutModel",
          "state": {
            "_view_name": "LayoutView",
            "grid_template_rows": null,
            "right": null,
            "justify_content": null,
            "_view_module": "@jupyter-widgets/base",
            "overflow": null,
            "_model_module_version": "1.2.0",
            "_view_count": null,
            "flex_flow": null,
            "width": null,
            "min_width": null,
            "border": null,
            "align_items": null,
            "bottom": null,
            "_model_module": "@jupyter-widgets/base",
            "top": null,
            "grid_column": null,
            "overflow_y": null,
            "overflow_x": null,
            "grid_auto_flow": null,
            "grid_area": null,
            "grid_template_columns": null,
            "flex": null,
            "_model_name": "LayoutModel",
            "justify_items": null,
            "grid_row": null,
            "max_height": null,
            "align_content": null,
            "visibility": null,
            "align_self": null,
            "height": null,
            "min_height": null,
            "padding": null,
            "grid_auto_rows": null,
            "grid_gap": null,
            "max_width": null,
            "order": null,
            "_view_module_version": "1.2.0",
            "grid_template_areas": null,
            "object_position": null,
            "object_fit": null,
            "grid_auto_columns": null,
            "margin": null,
            "display": null,
            "left": null
          }
        },
        "7fb0c19cb7154666a9694ef2eb001a8b": {
          "model_module": "@jupyter-widgets/controls",
          "model_name": "ProgressStyleModel",
          "state": {
            "_view_name": "StyleView",
            "_model_name": "ProgressStyleModel",
            "description_width": "",
            "_view_module": "@jupyter-widgets/base",
            "_model_module_version": "1.5.0",
            "_view_count": null,
            "_view_module_version": "1.2.0",
            "bar_color": null,
            "_model_module": "@jupyter-widgets/controls"
          }
        },
        "14bd6c9b6cc0402399fed9a7625445f6": {
          "model_module": "@jupyter-widgets/base",
          "model_name": "LayoutModel",
          "state": {
            "_view_name": "LayoutView",
            "grid_template_rows": null,
            "right": null,
            "justify_content": null,
            "_view_module": "@jupyter-widgets/base",
            "overflow": null,
            "_model_module_version": "1.2.0",
            "_view_count": null,
            "flex_flow": null,
            "width": null,
            "min_width": null,
            "border": null,
            "align_items": null,
            "bottom": null,
            "_model_module": "@jupyter-widgets/base",
            "top": null,
            "grid_column": null,
            "overflow_y": null,
            "overflow_x": null,
            "grid_auto_flow": null,
            "grid_area": null,
            "grid_template_columns": null,
            "flex": null,
            "_model_name": "LayoutModel",
            "justify_items": null,
            "grid_row": null,
            "max_height": null,
            "align_content": null,
            "visibility": null,
            "align_self": null,
            "height": null,
            "min_height": null,
            "padding": null,
            "grid_auto_rows": null,
            "grid_gap": null,
            "max_width": null,
            "order": null,
            "_view_module_version": "1.2.0",
            "grid_template_areas": null,
            "object_position": null,
            "object_fit": null,
            "grid_auto_columns": null,
            "margin": null,
            "display": null,
            "left": null
          }
        },
        "c9be88cd00c44c5eaa8f8b32a7c6996f": {
          "model_module": "@jupyter-widgets/controls",
          "model_name": "DescriptionStyleModel",
          "state": {
            "_view_name": "StyleView",
            "_model_name": "DescriptionStyleModel",
            "description_width": "",
            "_view_module": "@jupyter-widgets/base",
            "_model_module_version": "1.5.0",
            "_view_count": null,
            "_view_module_version": "1.2.0",
            "_model_module": "@jupyter-widgets/controls"
          }
        },
        "d5946ccebb154fd7b296f091f4f1a473": {
          "model_module": "@jupyter-widgets/base",
          "model_name": "LayoutModel",
          "state": {
            "_view_name": "LayoutView",
            "grid_template_rows": null,
            "right": null,
            "justify_content": null,
            "_view_module": "@jupyter-widgets/base",
            "overflow": null,
            "_model_module_version": "1.2.0",
            "_view_count": null,
            "flex_flow": null,
            "width": null,
            "min_width": null,
            "border": null,
            "align_items": null,
            "bottom": null,
            "_model_module": "@jupyter-widgets/base",
            "top": null,
            "grid_column": null,
            "overflow_y": null,
            "overflow_x": null,
            "grid_auto_flow": null,
            "grid_area": null,
            "grid_template_columns": null,
            "flex": null,
            "_model_name": "LayoutModel",
            "justify_items": null,
            "grid_row": null,
            "max_height": null,
            "align_content": null,
            "visibility": null,
            "align_self": null,
            "height": null,
            "min_height": null,
            "padding": null,
            "grid_auto_rows": null,
            "grid_gap": null,
            "max_width": null,
            "order": null,
            "_view_module_version": "1.2.0",
            "grid_template_areas": null,
            "object_position": null,
            "object_fit": null,
            "grid_auto_columns": null,
            "margin": null,
            "display": null,
            "left": null
          }
        },
        "f52033ba977646e389d0c059cfddef9a": {
          "model_module": "@jupyter-widgets/controls",
          "model_name": "HBoxModel",
          "state": {
            "_view_name": "HBoxView",
            "_dom_classes": [],
            "_model_name": "HBoxModel",
            "_view_module": "@jupyter-widgets/controls",
            "_model_module_version": "1.5.0",
            "_view_count": null,
            "_view_module_version": "1.5.0",
            "box_style": "",
            "layout": "IPY_MODEL_e77b3d9015384ecdbab8d6c5d963efd8",
            "_model_module": "@jupyter-widgets/controls",
            "children": [
              "IPY_MODEL_31cb65636b544bdca572ae7725de25ee",
              "IPY_MODEL_c9f6d50825b24ecaa1a19aaea1ca9953",
              "IPY_MODEL_607979978c52483583cdf2692505af65"
            ]
          }
        },
        "e77b3d9015384ecdbab8d6c5d963efd8": {
          "model_module": "@jupyter-widgets/base",
          "model_name": "LayoutModel",
          "state": {
            "_view_name": "LayoutView",
            "grid_template_rows": null,
            "right": null,
            "justify_content": null,
            "_view_module": "@jupyter-widgets/base",
            "overflow": null,
            "_model_module_version": "1.2.0",
            "_view_count": null,
            "flex_flow": null,
            "width": null,
            "min_width": null,
            "border": null,
            "align_items": null,
            "bottom": null,
            "_model_module": "@jupyter-widgets/base",
            "top": null,
            "grid_column": null,
            "overflow_y": null,
            "overflow_x": null,
            "grid_auto_flow": null,
            "grid_area": null,
            "grid_template_columns": null,
            "flex": null,
            "_model_name": "LayoutModel",
            "justify_items": null,
            "grid_row": null,
            "max_height": null,
            "align_content": null,
            "visibility": null,
            "align_self": null,
            "height": null,
            "min_height": null,
            "padding": null,
            "grid_auto_rows": null,
            "grid_gap": null,
            "max_width": null,
            "order": null,
            "_view_module_version": "1.2.0",
            "grid_template_areas": null,
            "object_position": null,
            "object_fit": null,
            "grid_auto_columns": null,
            "margin": null,
            "display": null,
            "left": null
          }
        },
        "31cb65636b544bdca572ae7725de25ee": {
          "model_module": "@jupyter-widgets/controls",
          "model_name": "HTMLModel",
          "state": {
            "_view_name": "HTMLView",
            "style": "IPY_MODEL_f13cbc77cfaf471c927f52d0be506af6",
            "_dom_classes": [],
            "description": "",
            "_model_name": "HTMLModel",
            "placeholder": "​",
            "_view_module": "@jupyter-widgets/controls",
            "_model_module_version": "1.5.0",
            "value": "Epochs 2/3. Running Loss:    0.3562: 100%",
            "_view_count": null,
            "_view_module_version": "1.5.0",
            "description_tooltip": null,
            "_model_module": "@jupyter-widgets/controls",
            "layout": "IPY_MODEL_a1aa3aa328e54b4995869d0c8a316f16"
          }
        },
        "c9f6d50825b24ecaa1a19aaea1ca9953": {
          "model_module": "@jupyter-widgets/controls",
          "model_name": "FloatProgressModel",
          "state": {
            "_view_name": "ProgressView",
            "style": "IPY_MODEL_16210830bb87413f96cc72764b5735d5",
            "_dom_classes": [],
            "description": "",
            "_model_name": "FloatProgressModel",
            "bar_style": "success",
            "max": 1146,
            "_view_module": "@jupyter-widgets/controls",
            "_model_module_version": "1.5.0",
            "value": 1146,
            "_view_count": null,
            "_view_module_version": "1.5.0",
            "orientation": "horizontal",
            "min": 0,
            "description_tooltip": null,
            "_model_module": "@jupyter-widgets/controls",
            "layout": "IPY_MODEL_e2fe4487f5a549d4bec9ac6447222b2e"
          }
        },
        "607979978c52483583cdf2692505af65": {
          "model_module": "@jupyter-widgets/controls",
          "model_name": "HTMLModel",
          "state": {
            "_view_name": "HTMLView",
            "style": "IPY_MODEL_2526fb9333814eb79dac2167c9c78711",
            "_dom_classes": [],
            "description": "",
            "_model_name": "HTMLModel",
            "placeholder": "​",
            "_view_module": "@jupyter-widgets/controls",
            "_model_module_version": "1.5.0",
            "value": " 1146/1146 [08:12&lt;00:00,  2.48it/s]",
            "_view_count": null,
            "_view_module_version": "1.5.0",
            "description_tooltip": null,
            "_model_module": "@jupyter-widgets/controls",
            "layout": "IPY_MODEL_b463c4fb3f704741ac189e583937c1d5"
          }
        },
        "f13cbc77cfaf471c927f52d0be506af6": {
          "model_module": "@jupyter-widgets/controls",
          "model_name": "DescriptionStyleModel",
          "state": {
            "_view_name": "StyleView",
            "_model_name": "DescriptionStyleModel",
            "description_width": "",
            "_view_module": "@jupyter-widgets/base",
            "_model_module_version": "1.5.0",
            "_view_count": null,
            "_view_module_version": "1.2.0",
            "_model_module": "@jupyter-widgets/controls"
          }
        },
        "a1aa3aa328e54b4995869d0c8a316f16": {
          "model_module": "@jupyter-widgets/base",
          "model_name": "LayoutModel",
          "state": {
            "_view_name": "LayoutView",
            "grid_template_rows": null,
            "right": null,
            "justify_content": null,
            "_view_module": "@jupyter-widgets/base",
            "overflow": null,
            "_model_module_version": "1.2.0",
            "_view_count": null,
            "flex_flow": null,
            "width": null,
            "min_width": null,
            "border": null,
            "align_items": null,
            "bottom": null,
            "_model_module": "@jupyter-widgets/base",
            "top": null,
            "grid_column": null,
            "overflow_y": null,
            "overflow_x": null,
            "grid_auto_flow": null,
            "grid_area": null,
            "grid_template_columns": null,
            "flex": null,
            "_model_name": "LayoutModel",
            "justify_items": null,
            "grid_row": null,
            "max_height": null,
            "align_content": null,
            "visibility": null,
            "align_self": null,
            "height": null,
            "min_height": null,
            "padding": null,
            "grid_auto_rows": null,
            "grid_gap": null,
            "max_width": null,
            "order": null,
            "_view_module_version": "1.2.0",
            "grid_template_areas": null,
            "object_position": null,
            "object_fit": null,
            "grid_auto_columns": null,
            "margin": null,
            "display": null,
            "left": null
          }
        },
        "16210830bb87413f96cc72764b5735d5": {
          "model_module": "@jupyter-widgets/controls",
          "model_name": "ProgressStyleModel",
          "state": {
            "_view_name": "StyleView",
            "_model_name": "ProgressStyleModel",
            "description_width": "",
            "_view_module": "@jupyter-widgets/base",
            "_model_module_version": "1.5.0",
            "_view_count": null,
            "_view_module_version": "1.2.0",
            "bar_color": null,
            "_model_module": "@jupyter-widgets/controls"
          }
        },
        "e2fe4487f5a549d4bec9ac6447222b2e": {
          "model_module": "@jupyter-widgets/base",
          "model_name": "LayoutModel",
          "state": {
            "_view_name": "LayoutView",
            "grid_template_rows": null,
            "right": null,
            "justify_content": null,
            "_view_module": "@jupyter-widgets/base",
            "overflow": null,
            "_model_module_version": "1.2.0",
            "_view_count": null,
            "flex_flow": null,
            "width": null,
            "min_width": null,
            "border": null,
            "align_items": null,
            "bottom": null,
            "_model_module": "@jupyter-widgets/base",
            "top": null,
            "grid_column": null,
            "overflow_y": null,
            "overflow_x": null,
            "grid_auto_flow": null,
            "grid_area": null,
            "grid_template_columns": null,
            "flex": null,
            "_model_name": "LayoutModel",
            "justify_items": null,
            "grid_row": null,
            "max_height": null,
            "align_content": null,
            "visibility": null,
            "align_self": null,
            "height": null,
            "min_height": null,
            "padding": null,
            "grid_auto_rows": null,
            "grid_gap": null,
            "max_width": null,
            "order": null,
            "_view_module_version": "1.2.0",
            "grid_template_areas": null,
            "object_position": null,
            "object_fit": null,
            "grid_auto_columns": null,
            "margin": null,
            "display": null,
            "left": null
          }
        },
        "2526fb9333814eb79dac2167c9c78711": {
          "model_module": "@jupyter-widgets/controls",
          "model_name": "DescriptionStyleModel",
          "state": {
            "_view_name": "StyleView",
            "_model_name": "DescriptionStyleModel",
            "description_width": "",
            "_view_module": "@jupyter-widgets/base",
            "_model_module_version": "1.5.0",
            "_view_count": null,
            "_view_module_version": "1.2.0",
            "_model_module": "@jupyter-widgets/controls"
          }
        },
        "b463c4fb3f704741ac189e583937c1d5": {
          "model_module": "@jupyter-widgets/base",
          "model_name": "LayoutModel",
          "state": {
            "_view_name": "LayoutView",
            "grid_template_rows": null,
            "right": null,
            "justify_content": null,
            "_view_module": "@jupyter-widgets/base",
            "overflow": null,
            "_model_module_version": "1.2.0",
            "_view_count": null,
            "flex_flow": null,
            "width": null,
            "min_width": null,
            "border": null,
            "align_items": null,
            "bottom": null,
            "_model_module": "@jupyter-widgets/base",
            "top": null,
            "grid_column": null,
            "overflow_y": null,
            "overflow_x": null,
            "grid_auto_flow": null,
            "grid_area": null,
            "grid_template_columns": null,
            "flex": null,
            "_model_name": "LayoutModel",
            "justify_items": null,
            "grid_row": null,
            "max_height": null,
            "align_content": null,
            "visibility": null,
            "align_self": null,
            "height": null,
            "min_height": null,
            "padding": null,
            "grid_auto_rows": null,
            "grid_gap": null,
            "max_width": null,
            "order": null,
            "_view_module_version": "1.2.0",
            "grid_template_areas": null,
            "object_position": null,
            "object_fit": null,
            "grid_auto_columns": null,
            "margin": null,
            "display": null,
            "left": null
          }
        },
        "6db050eb48434c38bab04f6feaa17353": {
          "model_module": "@jupyter-widgets/controls",
          "model_name": "HBoxModel",
          "state": {
            "_view_name": "HBoxView",
            "_dom_classes": [],
            "_model_name": "HBoxModel",
            "_view_module": "@jupyter-widgets/controls",
            "_model_module_version": "1.5.0",
            "_view_count": null,
            "_view_module_version": "1.5.0",
            "box_style": "",
            "layout": "IPY_MODEL_ee57d5204f204127b82da1362b3120d9",
            "_model_module": "@jupyter-widgets/controls",
            "children": [
              "IPY_MODEL_eb43b7e289764a3f9248f7a9292cdc43",
              "IPY_MODEL_7a26d981a1a84e99a8db8318ca4d283c",
              "IPY_MODEL_41b6b3cbfd504beaad10d18e81abfe18"
            ]
          }
        },
        "ee57d5204f204127b82da1362b3120d9": {
          "model_module": "@jupyter-widgets/base",
          "model_name": "LayoutModel",
          "state": {
            "_view_name": "LayoutView",
            "grid_template_rows": null,
            "right": null,
            "justify_content": null,
            "_view_module": "@jupyter-widgets/base",
            "overflow": null,
            "_model_module_version": "1.2.0",
            "_view_count": null,
            "flex_flow": null,
            "width": null,
            "min_width": null,
            "border": null,
            "align_items": null,
            "bottom": null,
            "_model_module": "@jupyter-widgets/base",
            "top": null,
            "grid_column": null,
            "overflow_y": null,
            "overflow_x": null,
            "grid_auto_flow": null,
            "grid_area": null,
            "grid_template_columns": null,
            "flex": null,
            "_model_name": "LayoutModel",
            "justify_items": null,
            "grid_row": null,
            "max_height": null,
            "align_content": null,
            "visibility": null,
            "align_self": null,
            "height": null,
            "min_height": null,
            "padding": null,
            "grid_auto_rows": null,
            "grid_gap": null,
            "max_width": null,
            "order": null,
            "_view_module_version": "1.2.0",
            "grid_template_areas": null,
            "object_position": null,
            "object_fit": null,
            "grid_auto_columns": null,
            "margin": null,
            "display": null,
            "left": null
          }
        },
        "eb43b7e289764a3f9248f7a9292cdc43": {
          "model_module": "@jupyter-widgets/controls",
          "model_name": "HTMLModel",
          "state": {
            "_view_name": "HTMLView",
            "style": "IPY_MODEL_64f3a370ab9a46a3bf801781483f06a3",
            "_dom_classes": [],
            "description": "",
            "_model_name": "HTMLModel",
            "placeholder": "​",
            "_view_module": "@jupyter-widgets/controls",
            "_model_module_version": "1.5.0",
            "value": "  0%",
            "_view_count": null,
            "_view_module_version": "1.5.0",
            "description_tooltip": null,
            "_model_module": "@jupyter-widgets/controls",
            "layout": "IPY_MODEL_0ed0e6c1a1484a4982827921621334b6"
          }
        },
        "7a26d981a1a84e99a8db8318ca4d283c": {
          "model_module": "@jupyter-widgets/controls",
          "model_name": "FloatProgressModel",
          "state": {
            "_view_name": "ProgressView",
            "style": "IPY_MODEL_cc6f3592af3e4c6b98655c74ff8f6809",
            "_dom_classes": [],
            "description": "",
            "_model_name": "FloatProgressModel",
            "bar_style": "danger",
            "max": 2292,
            "_view_module": "@jupyter-widgets/controls",
            "_model_module_version": "1.5.0",
            "value": 5,
            "_view_count": null,
            "_view_module_version": "1.5.0",
            "orientation": "horizontal",
            "min": 0,
            "description_tooltip": null,
            "_model_module": "@jupyter-widgets/controls",
            "layout": "IPY_MODEL_1d7661a44bab42068f8d9ee98627358e"
          }
        },
        "41b6b3cbfd504beaad10d18e81abfe18": {
          "model_module": "@jupyter-widgets/controls",
          "model_name": "HTMLModel",
          "state": {
            "_view_name": "HTMLView",
            "style": "IPY_MODEL_4d8c1891222147558623c531e31ba118",
            "_dom_classes": [],
            "description": "",
            "_model_name": "HTMLModel",
            "placeholder": "​",
            "_view_module": "@jupyter-widgets/controls",
            "_model_module_version": "1.5.0",
            "value": " 5/2292 [00:04&lt;31:30,  1.21it/s]",
            "_view_count": null,
            "_view_module_version": "1.5.0",
            "description_tooltip": null,
            "_model_module": "@jupyter-widgets/controls",
            "layout": "IPY_MODEL_0036f14ce2cb4163bcc8816ef5753eda"
          }
        },
        "64f3a370ab9a46a3bf801781483f06a3": {
          "model_module": "@jupyter-widgets/controls",
          "model_name": "DescriptionStyleModel",
          "state": {
            "_view_name": "StyleView",
            "_model_name": "DescriptionStyleModel",
            "description_width": "",
            "_view_module": "@jupyter-widgets/base",
            "_model_module_version": "1.5.0",
            "_view_count": null,
            "_view_module_version": "1.2.0",
            "_model_module": "@jupyter-widgets/controls"
          }
        },
        "0ed0e6c1a1484a4982827921621334b6": {
          "model_module": "@jupyter-widgets/base",
          "model_name": "LayoutModel",
          "state": {
            "_view_name": "LayoutView",
            "grid_template_rows": null,
            "right": null,
            "justify_content": null,
            "_view_module": "@jupyter-widgets/base",
            "overflow": null,
            "_model_module_version": "1.2.0",
            "_view_count": null,
            "flex_flow": null,
            "width": null,
            "min_width": null,
            "border": null,
            "align_items": null,
            "bottom": null,
            "_model_module": "@jupyter-widgets/base",
            "top": null,
            "grid_column": null,
            "overflow_y": null,
            "overflow_x": null,
            "grid_auto_flow": null,
            "grid_area": null,
            "grid_template_columns": null,
            "flex": null,
            "_model_name": "LayoutModel",
            "justify_items": null,
            "grid_row": null,
            "max_height": null,
            "align_content": null,
            "visibility": null,
            "align_self": null,
            "height": null,
            "min_height": null,
            "padding": null,
            "grid_auto_rows": null,
            "grid_gap": null,
            "max_width": null,
            "order": null,
            "_view_module_version": "1.2.0",
            "grid_template_areas": null,
            "object_position": null,
            "object_fit": null,
            "grid_auto_columns": null,
            "margin": null,
            "display": null,
            "left": null
          }
        },
        "cc6f3592af3e4c6b98655c74ff8f6809": {
          "model_module": "@jupyter-widgets/controls",
          "model_name": "ProgressStyleModel",
          "state": {
            "_view_name": "StyleView",
            "_model_name": "ProgressStyleModel",
            "description_width": "",
            "_view_module": "@jupyter-widgets/base",
            "_model_module_version": "1.5.0",
            "_view_count": null,
            "_view_module_version": "1.2.0",
            "bar_color": null,
            "_model_module": "@jupyter-widgets/controls"
          }
        },
        "1d7661a44bab42068f8d9ee98627358e": {
          "model_module": "@jupyter-widgets/base",
          "model_name": "LayoutModel",
          "state": {
            "_view_name": "LayoutView",
            "grid_template_rows": null,
            "right": null,
            "justify_content": null,
            "_view_module": "@jupyter-widgets/base",
            "overflow": null,
            "_model_module_version": "1.2.0",
            "_view_count": null,
            "flex_flow": null,
            "width": null,
            "min_width": null,
            "border": null,
            "align_items": null,
            "bottom": null,
            "_model_module": "@jupyter-widgets/base",
            "top": null,
            "grid_column": null,
            "overflow_y": null,
            "overflow_x": null,
            "grid_auto_flow": null,
            "grid_area": null,
            "grid_template_columns": null,
            "flex": null,
            "_model_name": "LayoutModel",
            "justify_items": null,
            "grid_row": null,
            "max_height": null,
            "align_content": null,
            "visibility": null,
            "align_self": null,
            "height": null,
            "min_height": null,
            "padding": null,
            "grid_auto_rows": null,
            "grid_gap": null,
            "max_width": null,
            "order": null,
            "_view_module_version": "1.2.0",
            "grid_template_areas": null,
            "object_position": null,
            "object_fit": null,
            "grid_auto_columns": null,
            "margin": null,
            "display": null,
            "left": null
          }
        },
        "4d8c1891222147558623c531e31ba118": {
          "model_module": "@jupyter-widgets/controls",
          "model_name": "DescriptionStyleModel",
          "state": {
            "_view_name": "StyleView",
            "_model_name": "DescriptionStyleModel",
            "description_width": "",
            "_view_module": "@jupyter-widgets/base",
            "_model_module_version": "1.5.0",
            "_view_count": null,
            "_view_module_version": "1.2.0",
            "_model_module": "@jupyter-widgets/controls"
          }
        },
        "0036f14ce2cb4163bcc8816ef5753eda": {
          "model_module": "@jupyter-widgets/base",
          "model_name": "LayoutModel",
          "state": {
            "_view_name": "LayoutView",
            "grid_template_rows": null,
            "right": null,
            "justify_content": null,
            "_view_module": "@jupyter-widgets/base",
            "overflow": null,
            "_model_module_version": "1.2.0",
            "_view_count": null,
            "flex_flow": null,
            "width": null,
            "min_width": null,
            "border": null,
            "align_items": null,
            "bottom": null,
            "_model_module": "@jupyter-widgets/base",
            "top": null,
            "grid_column": null,
            "overflow_y": null,
            "overflow_x": null,
            "grid_auto_flow": null,
            "grid_area": null,
            "grid_template_columns": null,
            "flex": null,
            "_model_name": "LayoutModel",
            "justify_items": null,
            "grid_row": null,
            "max_height": null,
            "align_content": null,
            "visibility": null,
            "align_self": null,
            "height": null,
            "min_height": null,
            "padding": null,
            "grid_auto_rows": null,
            "grid_gap": null,
            "max_width": null,
            "order": null,
            "_view_module_version": "1.2.0",
            "grid_template_areas": null,
            "object_position": null,
            "object_fit": null,
            "grid_auto_columns": null,
            "margin": null,
            "display": null,
            "left": null
          }
        },
        "8b90efb65fde4a859314974fcb36c8eb": {
          "model_module": "@jupyter-widgets/controls",
          "model_name": "HBoxModel",
          "state": {
            "_view_name": "HBoxView",
            "_dom_classes": [],
            "_model_name": "HBoxModel",
            "_view_module": "@jupyter-widgets/controls",
            "_model_module_version": "1.5.0",
            "_view_count": null,
            "_view_module_version": "1.5.0",
            "box_style": "",
            "layout": "IPY_MODEL_8f4c46e429d14008bc75062fc2399035",
            "_model_module": "@jupyter-widgets/controls",
            "children": [
              "IPY_MODEL_7713c0e680e64396bc3cce7470a15dfa",
              "IPY_MODEL_29115dde9d9d4dd3a10b65f6852ec6bf",
              "IPY_MODEL_51c82b5b7aad460893a7edab786da833"
            ]
          }
        },
        "8f4c46e429d14008bc75062fc2399035": {
          "model_module": "@jupyter-widgets/base",
          "model_name": "LayoutModel",
          "state": {
            "_view_name": "LayoutView",
            "grid_template_rows": null,
            "right": null,
            "justify_content": null,
            "_view_module": "@jupyter-widgets/base",
            "overflow": null,
            "_model_module_version": "1.2.0",
            "_view_count": null,
            "flex_flow": null,
            "width": null,
            "min_width": null,
            "border": null,
            "align_items": null,
            "bottom": null,
            "_model_module": "@jupyter-widgets/base",
            "top": null,
            "grid_column": null,
            "overflow_y": null,
            "overflow_x": null,
            "grid_auto_flow": null,
            "grid_area": null,
            "grid_template_columns": null,
            "flex": null,
            "_model_name": "LayoutModel",
            "justify_items": null,
            "grid_row": null,
            "max_height": null,
            "align_content": null,
            "visibility": null,
            "align_self": null,
            "height": null,
            "min_height": null,
            "padding": null,
            "grid_auto_rows": null,
            "grid_gap": null,
            "max_width": null,
            "order": null,
            "_view_module_version": "1.2.0",
            "grid_template_areas": null,
            "object_position": null,
            "object_fit": null,
            "grid_auto_columns": null,
            "margin": null,
            "display": null,
            "left": null
          }
        },
        "7713c0e680e64396bc3cce7470a15dfa": {
          "model_module": "@jupyter-widgets/controls",
          "model_name": "HTMLModel",
          "state": {
            "_view_name": "HTMLView",
            "style": "IPY_MODEL_ccd5a4fc62f140efa1c432ec4e8cddef",
            "_dom_classes": [],
            "description": "",
            "_model_name": "HTMLModel",
            "placeholder": "​",
            "_view_module": "@jupyter-widgets/controls",
            "_model_module_version": "1.5.0",
            "value": "Running Evaluation: 100%",
            "_view_count": null,
            "_view_module_version": "1.5.0",
            "description_tooltip": null,
            "_model_module": "@jupyter-widgets/controls",
            "layout": "IPY_MODEL_d83fc7bee8384d41ae0ad213e50d6c30"
          }
        },
        "29115dde9d9d4dd3a10b65f6852ec6bf": {
          "model_module": "@jupyter-widgets/controls",
          "model_name": "FloatProgressModel",
          "state": {
            "_view_name": "ProgressView",
            "style": "IPY_MODEL_589f1b45d4f24687b74559ef65d2c605",
            "_dom_classes": [],
            "description": "",
            "_model_name": "FloatProgressModel",
            "bar_style": "success",
            "max": 287,
            "_view_module": "@jupyter-widgets/controls",
            "_model_module_version": "1.5.0",
            "value": 287,
            "_view_count": null,
            "_view_module_version": "1.5.0",
            "orientation": "horizontal",
            "min": 0,
            "description_tooltip": null,
            "_model_module": "@jupyter-widgets/controls",
            "layout": "IPY_MODEL_445b568da27f49da965af0dd15a63f81"
          }
        },
        "51c82b5b7aad460893a7edab786da833": {
          "model_module": "@jupyter-widgets/controls",
          "model_name": "HTMLModel",
          "state": {
            "_view_name": "HTMLView",
            "style": "IPY_MODEL_766a88fcbd1e481b9d077f9c0a00b5c1",
            "_dom_classes": [],
            "description": "",
            "_model_name": "HTMLModel",
            "placeholder": "​",
            "_view_module": "@jupyter-widgets/controls",
            "_model_module_version": "1.5.0",
            "value": " 287/287 [00:37&lt;00:00,  7.33it/s]",
            "_view_count": null,
            "_view_module_version": "1.5.0",
            "description_tooltip": null,
            "_model_module": "@jupyter-widgets/controls",
            "layout": "IPY_MODEL_9af929a352a84c52a3ce4e9b766abae1"
          }
        },
        "ccd5a4fc62f140efa1c432ec4e8cddef": {
          "model_module": "@jupyter-widgets/controls",
          "model_name": "DescriptionStyleModel",
          "state": {
            "_view_name": "StyleView",
            "_model_name": "DescriptionStyleModel",
            "description_width": "",
            "_view_module": "@jupyter-widgets/base",
            "_model_module_version": "1.5.0",
            "_view_count": null,
            "_view_module_version": "1.2.0",
            "_model_module": "@jupyter-widgets/controls"
          }
        },
        "d83fc7bee8384d41ae0ad213e50d6c30": {
          "model_module": "@jupyter-widgets/base",
          "model_name": "LayoutModel",
          "state": {
            "_view_name": "LayoutView",
            "grid_template_rows": null,
            "right": null,
            "justify_content": null,
            "_view_module": "@jupyter-widgets/base",
            "overflow": null,
            "_model_module_version": "1.2.0",
            "_view_count": null,
            "flex_flow": null,
            "width": null,
            "min_width": null,
            "border": null,
            "align_items": null,
            "bottom": null,
            "_model_module": "@jupyter-widgets/base",
            "top": null,
            "grid_column": null,
            "overflow_y": null,
            "overflow_x": null,
            "grid_auto_flow": null,
            "grid_area": null,
            "grid_template_columns": null,
            "flex": null,
            "_model_name": "LayoutModel",
            "justify_items": null,
            "grid_row": null,
            "max_height": null,
            "align_content": null,
            "visibility": null,
            "align_self": null,
            "height": null,
            "min_height": null,
            "padding": null,
            "grid_auto_rows": null,
            "grid_gap": null,
            "max_width": null,
            "order": null,
            "_view_module_version": "1.2.0",
            "grid_template_areas": null,
            "object_position": null,
            "object_fit": null,
            "grid_auto_columns": null,
            "margin": null,
            "display": null,
            "left": null
          }
        },
        "589f1b45d4f24687b74559ef65d2c605": {
          "model_module": "@jupyter-widgets/controls",
          "model_name": "ProgressStyleModel",
          "state": {
            "_view_name": "StyleView",
            "_model_name": "ProgressStyleModel",
            "description_width": "",
            "_view_module": "@jupyter-widgets/base",
            "_model_module_version": "1.5.0",
            "_view_count": null,
            "_view_module_version": "1.2.0",
            "bar_color": null,
            "_model_module": "@jupyter-widgets/controls"
          }
        },
        "445b568da27f49da965af0dd15a63f81": {
          "model_module": "@jupyter-widgets/base",
          "model_name": "LayoutModel",
          "state": {
            "_view_name": "LayoutView",
            "grid_template_rows": null,
            "right": null,
            "justify_content": null,
            "_view_module": "@jupyter-widgets/base",
            "overflow": null,
            "_model_module_version": "1.2.0",
            "_view_count": null,
            "flex_flow": null,
            "width": null,
            "min_width": null,
            "border": null,
            "align_items": null,
            "bottom": null,
            "_model_module": "@jupyter-widgets/base",
            "top": null,
            "grid_column": null,
            "overflow_y": null,
            "overflow_x": null,
            "grid_auto_flow": null,
            "grid_area": null,
            "grid_template_columns": null,
            "flex": null,
            "_model_name": "LayoutModel",
            "justify_items": null,
            "grid_row": null,
            "max_height": null,
            "align_content": null,
            "visibility": null,
            "align_self": null,
            "height": null,
            "min_height": null,
            "padding": null,
            "grid_auto_rows": null,
            "grid_gap": null,
            "max_width": null,
            "order": null,
            "_view_module_version": "1.2.0",
            "grid_template_areas": null,
            "object_position": null,
            "object_fit": null,
            "grid_auto_columns": null,
            "margin": null,
            "display": null,
            "left": null
          }
        },
        "766a88fcbd1e481b9d077f9c0a00b5c1": {
          "model_module": "@jupyter-widgets/controls",
          "model_name": "DescriptionStyleModel",
          "state": {
            "_view_name": "StyleView",
            "_model_name": "DescriptionStyleModel",
            "description_width": "",
            "_view_module": "@jupyter-widgets/base",
            "_model_module_version": "1.5.0",
            "_view_count": null,
            "_view_module_version": "1.2.0",
            "_model_module": "@jupyter-widgets/controls"
          }
        },
        "9af929a352a84c52a3ce4e9b766abae1": {
          "model_module": "@jupyter-widgets/base",
          "model_name": "LayoutModel",
          "state": {
            "_view_name": "LayoutView",
            "grid_template_rows": null,
            "right": null,
            "justify_content": null,
            "_view_module": "@jupyter-widgets/base",
            "overflow": null,
            "_model_module_version": "1.2.0",
            "_view_count": null,
            "flex_flow": null,
            "width": null,
            "min_width": null,
            "border": null,
            "align_items": null,
            "bottom": null,
            "_model_module": "@jupyter-widgets/base",
            "top": null,
            "grid_column": null,
            "overflow_y": null,
            "overflow_x": null,
            "grid_auto_flow": null,
            "grid_area": null,
            "grid_template_columns": null,
            "flex": null,
            "_model_name": "LayoutModel",
            "justify_items": null,
            "grid_row": null,
            "max_height": null,
            "align_content": null,
            "visibility": null,
            "align_self": null,
            "height": null,
            "min_height": null,
            "padding": null,
            "grid_auto_rows": null,
            "grid_gap": null,
            "max_width": null,
            "order": null,
            "_view_module_version": "1.2.0",
            "grid_template_areas": null,
            "object_position": null,
            "object_fit": null,
            "grid_auto_columns": null,
            "margin": null,
            "display": null,
            "left": null
          }
        }
      }
    }
  },
  "cells": [
    {
      "cell_type": "code",
      "metadata": {
        "colab": {
          "base_uri": "https://localhost:8080/"
        },
        "id": "YPD5xkHjefGd",
        "outputId": "404ecd4c-f69c-4a25-aa79-51895aa3ecc7"
      },
      "source": [
        "from google.colab import drive\n",
        "drive.mount('/content/drive')"
      ],
      "id": "YPD5xkHjefGd",
      "execution_count": 11,
      "outputs": [
        {
          "output_type": "stream",
          "text": [
            "Drive already mounted at /content/drive; to attempt to forcibly remount, call drive.mount(\"/content/drive\", force_remount=True).\n"
          ],
          "name": "stdout"
        }
      ]
    },
    {
      "cell_type": "markdown",
      "metadata": {
        "id": "FgkF1LuwTvTC"
      },
      "source": [
        "## Import libraries"
      ],
      "id": "FgkF1LuwTvTC"
    },
    {
      "cell_type": "code",
      "metadata": {
        "colab": {
          "base_uri": "https://localhost:8080/"
        },
        "id": "JHJsGlXohzrr",
        "outputId": "efa790c2-66b6-4343-ba3a-50b0e8bc02a5"
      },
      "source": [
        "! pip install wikipedia\n",
        "! pip install nltk\n",
        "! pip install rake-nltk"
      ],
      "id": "JHJsGlXohzrr",
      "execution_count": 1,
      "outputs": [
        {
          "output_type": "stream",
          "text": [
            "Requirement already satisfied: wikipedia in /usr/local/lib/python3.7/dist-packages (1.4.0)\n",
            "Requirement already satisfied: requests<3.0.0,>=2.0.0 in /usr/local/lib/python3.7/dist-packages (from wikipedia) (2.26.0)\n",
            "Requirement already satisfied: beautifulsoup4 in /usr/local/lib/python3.7/dist-packages (from wikipedia) (4.6.3)\n",
            "Requirement already satisfied: certifi>=2017.4.17 in /usr/local/lib/python3.7/dist-packages (from requests<3.0.0,>=2.0.0->wikipedia) (2021.5.30)\n",
            "Requirement already satisfied: charset-normalizer~=2.0.0 in /usr/local/lib/python3.7/dist-packages (from requests<3.0.0,>=2.0.0->wikipedia) (2.0.2)\n",
            "Requirement already satisfied: idna<4,>=2.5 in /usr/local/lib/python3.7/dist-packages (from requests<3.0.0,>=2.0.0->wikipedia) (2.10)\n",
            "Requirement already satisfied: urllib3<1.27,>=1.21.1 in /usr/local/lib/python3.7/dist-packages (from requests<3.0.0,>=2.0.0->wikipedia) (1.26.6)\n",
            "Requirement already satisfied: nltk in /usr/local/lib/python3.7/dist-packages (3.2.5)\n",
            "Requirement already satisfied: six in /usr/local/lib/python3.7/dist-packages (from nltk) (1.15.0)\n",
            "Requirement already satisfied: rake-nltk in /usr/local/lib/python3.7/dist-packages (1.0.4)\n",
            "Requirement already satisfied: nltk in /usr/local/lib/python3.7/dist-packages (from rake-nltk) (3.2.5)\n",
            "Requirement already satisfied: six in /usr/local/lib/python3.7/dist-packages (from nltk->rake-nltk) (1.15.0)\n"
          ],
          "name": "stdout"
        }
      ]
    },
    {
      "cell_type": "code",
      "metadata": {
        "id": "b15af6c3"
      },
      "source": [
        "import wikipedia\n",
        "import random\n",
        "import tqdm\n",
        "import nltk\n",
        "import re\n",
        "import string\n",
        "import threading\n",
        "import multiprocessing\n",
        "import os\n",
        "import shutil\n",
        "from nltk.corpus import stopwords"
      ],
      "id": "b15af6c3",
      "execution_count": 2,
      "outputs": []
    },
    {
      "cell_type": "code",
      "metadata": {
        "id": "7f8zJCECwarD",
        "colab": {
          "base_uri": "https://localhost:8080/"
        },
        "outputId": "338cdb15-b997-475c-f715-db5590189344"
      },
      "source": [
        "import numpy as np\n",
        "from keras.preprocessing.sequence import pad_sequences\n",
        "from keras.models import Sequential\n",
        "from keras.layers.core import Dropout, Dense\n",
        "from keras.layers import LSTM, Bidirectional, BatchNormalization\n",
        "from keras.layers import SpatialDropout1D, Flatten, Conv2D\n",
        "from keras.layers.embeddings import Embedding\n",
        "from keras.callbacks import EarlyStopping\n",
        "from sklearn.model_selection import train_test_split\n",
        "from keras.preprocessing.text import Tokenizer\n",
        "from keras.optimizers import Adam\n",
        "from keras.regularizers import l2, l1_l2\n",
        "import keras"
      ],
      "id": "7f8zJCECwarD",
      "execution_count": 3,
      "outputs": [
        {
          "output_type": "stream",
          "text": [
            "2021-08-03 09:10:36.791513: I tensorflow/stream_executor/platform/default/dso_loader.cc:53] Successfully opened dynamic library libcudart.so.11.0\n"
          ],
          "name": "stderr"
        }
      ]
    },
    {
      "cell_type": "code",
      "metadata": {
        "id": "KrTO8U2TTuKi"
      },
      "source": [
        "%matplotlib inline\n",
        "import matplotlib as mpl\n",
        "import matplotlib.pyplot as plt\n",
        "mpl.style.use('seaborn')\n",
        "plt.rc('font', size=15)          # controls default text sizes\n",
        "plt.rc('axes', titlesize=15)     # fontsize of the axes title\n",
        "plt.rc('axes', labelsize=15)    # fontsize of the x and y labels\n",
        "plt.rc('xtick', labelsize=15)    # fontsize of the tick labels\n",
        "plt.rc('ytick', labelsize=15)    # fontsize of the tick labels\n",
        "\n",
        "from collections import Counter"
      ],
      "id": "KrTO8U2TTuKi",
      "execution_count": 4,
      "outputs": []
    },
    {
      "cell_type": "code",
      "metadata": {
        "id": "Bo_synQqmk89",
        "colab": {
          "base_uri": "https://localhost:8080/"
        },
        "outputId": "d6321319-1a4b-4349-a733-5bd2017d4f21"
      },
      "source": [
        "nltk.download('stopwords')\n",
        "nltk.download('punkt')"
      ],
      "id": "Bo_synQqmk89",
      "execution_count": 5,
      "outputs": [
        {
          "output_type": "stream",
          "text": [
            "[nltk_data] Downloading package stopwords to /root/nltk_data...\n",
            "[nltk_data]   Package stopwords is already up-to-date!\n",
            "[nltk_data] Downloading package punkt to /root/nltk_data...\n",
            "[nltk_data]   Package punkt is already up-to-date!\n"
          ],
          "name": "stdout"
        },
        {
          "output_type": "execute_result",
          "data": {
            "text/plain": [
              "True"
            ]
          },
          "metadata": {
            "tags": []
          },
          "execution_count": 5
        }
      ]
    },
    {
      "cell_type": "code",
      "metadata": {
        "id": "4434b435"
      },
      "source": [
        "wikipedia.set_lang(\"ru\")"
      ],
      "id": "4434b435",
      "execution_count": 6,
      "outputs": []
    },
    {
      "cell_type": "markdown",
      "metadata": {
        "id": "hha5W7y4SdLi"
      },
      "source": [
        "## Getting dataset"
      ],
      "id": "hha5W7y4SdLi"
    },
    {
      "cell_type": "code",
      "metadata": {
        "id": "a222eac3"
      },
      "source": [
        "def wikiTexts(topic, linksNum:list = [0], first:bool=True) -> (list, list) :\n",
        "    links = []\n",
        "    try:\n",
        "        page = wikipedia.page(topic)\n",
        "    except:\n",
        "        return [], []\n",
        "    \n",
        "    try:\n",
        "      links = page.links\n",
        "    except:\n",
        "      return result, [topic]\n",
        "    \n",
        "    result = [page.content]\n",
        "    if len(linksNum) == 0:\n",
        "        return result, [topic]\n",
        "    \n",
        "    random.shuffle(links)\n",
        "\n",
        "    iterate = links[:linksNum[0]]\n",
        "    resultLinks = [*iterate]\n",
        "    if first:\n",
        "      iterate = tqdm.tqdm_notebook(iterate)\n",
        "    \n",
        "    for link in iterate:\n",
        "        contents = wikiTexts(link, linksNum[1:], False)\n",
        "        result += contents[0]\n",
        "        resultLinks += contents[1]\n",
        "    return result, resultLinks"
      ],
      "id": "a222eac3",
      "execution_count": null,
      "outputs": []
    },
    {
      "cell_type": "code",
      "metadata": {
        "id": "GOp08Jwi9021"
      },
      "source": [
        "def wikiThread(returnDict, topic, linksNum:list = [0]):\n",
        "  returnDict[topic] = wikiTexts(topic, linksNum)"
      ],
      "id": "GOp08Jwi9021",
      "execution_count": null,
      "outputs": []
    },
    {
      "cell_type": "code",
      "metadata": {
        "colab": {
          "base_uri": "https://localhost:8080/",
          "height": 723,
          "referenced_widgets": [
            "fd9974bc466a4ab3b8a3ec72ce0fa7ab",
            "37de166a70104101946da945be6931f9",
            "d769bdace6954f3dad806bfa9da89e49",
            "e3fdf21a265b4d409170e05251779827",
            "e4ec8f667aac470ea3d209cdff6f9a4b",
            "1832976dd12e4c2bba9caaa483101e6b",
            "1e44007e240e41d787ef031807fbdea6",
            "a0b439b6a5044021bad9887ce400c97f",
            "fb89eddb0541463eb5bf4c46afe7d629",
            "5f68d9db6a104458beabc34626bcd1f4",
            "c5b1c214c1ee4b7282e2c28c68eb36c7",
            "4ac83299edc34431a6d90ac5250d9c65",
            "26b740a124684799a0cffc75b859ad46",
            "c1dd1d5aafcd4b6e91217c05d1c16336",
            "6e9a703053c2434ea49153fd0aaed77f",
            "30cfcc618393423a8dda02ea07c9490c",
            "4c1d21a7e582451a9b07644cb7559940",
            "2e4a4b5d5144418aa4f0fbf2aff70337",
            "5502f111dcdf434c990015c3d2e92a44",
            "5eb320ea1a4e4070b4329d3423f049f7",
            "a51eda30ff9a4df988aa61a5afde64d0",
            "6cee21e293e04824b7c7dc1728d4a7c2",
            "68626bbe876a4f66bb5f1a1c8aacbeef",
            "f14c08ddd87b47c69861a8a54f5eecc4",
            "9272678e28b9440e9143f9f3163840bf",
            "fcfeba9a7d95466ea8ed1242218c877a",
            "f6675256dbe1497aa736be7e2bc7cf9a",
            "aa1ac78b910b42cb85756f6c437a7ce6",
            "5d3e4ddeeed14fe4b434b6ca5a9b6f3d",
            "ac133fee6151479ab916136c94a18f92",
            "b37607869b50488c9f98f1d51dc6e5c1",
            "4034dcc9f3224dbeb9286c91001d9406"
          ]
        },
        "id": "ab2a846d",
        "outputId": "ab70a575-3115-4bdc-9b40-b57fc3e9d691"
      },
      "source": [
        "depthSearch = [150, 2] # 150 первых ссылок, по 2 вторичных ссылки из каждой первой ссылки\n",
        "jobs = []\n",
        "\n",
        "manager = multiprocessing.Manager()\n",
        "returnDict = manager.dict()\n",
        "\n",
        "tasks = [\n",
        "         (returnDict, \"животные\", depthSearch),\n",
        "         (returnDict, \"музыка\", depthSearch),\n",
        "         (returnDict, \"спорт\", depthSearch),\n",
        "         (returnDict, \"литература\", depthSearch),\n",
        "]\n",
        "for i in range(len(tasks)):\n",
        "  out_list = list()\n",
        "  process = multiprocessing.Process(target=wikiThread, \n",
        "                                    args=tasks[i])\n",
        "  jobs.append(process)\n",
        "\n",
        "for j in jobs:\n",
        "  j.start()\n",
        "\n",
        "for j in jobs:\n",
        "  j.join()\n",
        "\n",
        "allTexts = {}\n",
        "allLinks = {}\n",
        "for k, v in returnDict.items() :\n",
        "  allTexts[k], allLinks[k] = v\n"
      ],
      "id": "ab2a846d",
      "execution_count": null,
      "outputs": [
        {
          "output_type": "stream",
          "text": [
            "/usr/local/lib/python3.7/dist-packages/ipykernel_launcher.py:22: TqdmDeprecationWarning: This function will be removed in tqdm==5.0.0\n",
            "Please use `tqdm.notebook.tqdm` instead of `tqdm.tqdm_notebook`\n",
            "/usr/local/lib/python3.7/dist-packages/ipykernel_launcher.py:22: TqdmDeprecationWarning: This function will be removed in tqdm==5.0.0\n",
            "Please use `tqdm.notebook.tqdm` instead of `tqdm.tqdm_notebook`\n",
            "/usr/local/lib/python3.7/dist-packages/ipykernel_launcher.py:22: TqdmDeprecationWarning: This function will be removed in tqdm==5.0.0\n",
            "Please use `tqdm.notebook.tqdm` instead of `tqdm.tqdm_notebook`\n"
          ],
          "name": "stderr"
        },
        {
          "output_type": "display_data",
          "data": {
            "application/vnd.jupyter.widget-view+json": {
              "model_id": "fd9974bc466a4ab3b8a3ec72ce0fa7ab",
              "version_major": 2,
              "version_minor": 0
            },
            "text/plain": [
              "HBox(children=(FloatProgress(value=0.0, max=150.0), HTML(value='')))"
            ]
          },
          "metadata": {
            "tags": []
          }
        },
        {
          "output_type": "display_data",
          "data": {
            "application/vnd.jupyter.widget-view+json": {
              "model_id": "fb89eddb0541463eb5bf4c46afe7d629",
              "version_major": 2,
              "version_minor": 0
            },
            "text/plain": [
              "HBox(children=(FloatProgress(value=0.0, max=150.0), HTML(value='')))"
            ]
          },
          "metadata": {
            "tags": []
          }
        },
        {
          "output_type": "display_data",
          "data": {
            "application/vnd.jupyter.widget-view+json": {
              "model_id": "4c1d21a7e582451a9b07644cb7559940",
              "version_major": 2,
              "version_minor": 0
            },
            "text/plain": [
              "HBox(children=(FloatProgress(value=0.0, max=150.0), HTML(value='')))"
            ]
          },
          "metadata": {
            "tags": []
          }
        },
        {
          "output_type": "stream",
          "text": [
            "/usr/local/lib/python3.7/dist-packages/ipykernel_launcher.py:22: TqdmDeprecationWarning: This function will be removed in tqdm==5.0.0\n",
            "Please use `tqdm.notebook.tqdm` instead of `tqdm.tqdm_notebook`\n"
          ],
          "name": "stderr"
        },
        {
          "output_type": "display_data",
          "data": {
            "application/vnd.jupyter.widget-view+json": {
              "model_id": "9272678e28b9440e9143f9f3163840bf",
              "version_major": 2,
              "version_minor": 0
            },
            "text/plain": [
              "HBox(children=(FloatProgress(value=0.0, max=150.0), HTML(value='')))"
            ]
          },
          "metadata": {
            "tags": []
          }
        },
        {
          "output_type": "stream",
          "text": [
            "/usr/local/lib/python3.7/dist-packages/wikipedia/wikipedia.py:389: UserWarning: No parser was explicitly specified, so I'm using the best available HTML parser for this system (\"lxml\"). This usually isn't a problem, but if you run this code on another system, or in a different virtual environment, it may use a different parser and behave differently.\n",
            "\n",
            "The code that caused this warning is on line 389 of the file /usr/local/lib/python3.7/dist-packages/wikipedia/wikipedia.py. To get rid of this warning, pass the additional argument 'features=\"lxml\"' to the BeautifulSoup constructor.\n",
            "\n",
            "  lis = BeautifulSoup(html).find_all('li')\n",
            "/usr/local/lib/python3.7/dist-packages/wikipedia/wikipedia.py:389: UserWarning: No parser was explicitly specified, so I'm using the best available HTML parser for this system (\"lxml\"). This usually isn't a problem, but if you run this code on another system, or in a different virtual environment, it may use a different parser and behave differently.\n",
            "\n",
            "The code that caused this warning is on line 389 of the file /usr/local/lib/python3.7/dist-packages/wikipedia/wikipedia.py. To get rid of this warning, pass the additional argument 'features=\"lxml\"' to the BeautifulSoup constructor.\n",
            "\n",
            "  lis = BeautifulSoup(html).find_all('li')\n",
            "/usr/local/lib/python3.7/dist-packages/wikipedia/wikipedia.py:389: UserWarning: No parser was explicitly specified, so I'm using the best available HTML parser for this system (\"lxml\"). This usually isn't a problem, but if you run this code on another system, or in a different virtual environment, it may use a different parser and behave differently.\n",
            "\n",
            "The code that caused this warning is on line 389 of the file /usr/local/lib/python3.7/dist-packages/wikipedia/wikipedia.py. To get rid of this warning, pass the additional argument 'features=\"lxml\"' to the BeautifulSoup constructor.\n",
            "\n",
            "  lis = BeautifulSoup(html).find_all('li')\n",
            "/usr/local/lib/python3.7/dist-packages/wikipedia/wikipedia.py:389: UserWarning: No parser was explicitly specified, so I'm using the best available HTML parser for this system (\"lxml\"). This usually isn't a problem, but if you run this code on another system, or in a different virtual environment, it may use a different parser and behave differently.\n",
            "\n",
            "The code that caused this warning is on line 389 of the file /usr/local/lib/python3.7/dist-packages/wikipedia/wikipedia.py. To get rid of this warning, pass the additional argument 'features=\"lxml\"' to the BeautifulSoup constructor.\n",
            "\n",
            "  lis = BeautifulSoup(html).find_all('li')\n"
          ],
          "name": "stderr"
        },
        {
          "output_type": "stream",
          "text": [
            "\n",
            "\n",
            "\n",
            "\n"
          ],
          "name": "stdout"
        }
      ]
    },
    {
      "cell_type": "code",
      "metadata": {
        "id": "FVaVJHyzbLeb"
      },
      "source": [
        "import json\n",
        "save_path = '/content/drive/MyDrive/DATAS/AIIJC/'\n",
        "with open(save_path + 'aiijc_comand_data.json', 'w') as f :\n",
        "  json.dump({'texts' : allTexts, 'links' : allLinks}, f)"
      ],
      "id": "FVaVJHyzbLeb",
      "execution_count": null,
      "outputs": []
    },
    {
      "cell_type": "code",
      "metadata": {
        "id": "8AxsOMzoeVev"
      },
      "source": [
        "import json\n",
        "save_path = '/content/drive/MyDrive/DATAS/AIIJC/'\n",
        "with open(save_path + 'aiijc_comand_data.json', 'r') as f :\n",
        "  data = json.load(f)\n",
        "  allTexts = data['texts']\n",
        "  allLinks = data['links']"
      ],
      "id": "8AxsOMzoeVev",
      "execution_count": 14,
      "outputs": []
    },
    {
      "cell_type": "code",
      "metadata": {
        "colab": {
          "base_uri": "https://localhost:8080/"
        },
        "id": "BRRXjQwbgL6g",
        "outputId": "76b80cdc-26a8-48a6-cb8b-8d3be3daf403"
      },
      "source": [
        "allTexts.keys()"
      ],
      "id": "BRRXjQwbgL6g",
      "execution_count": 15,
      "outputs": [
        {
          "output_type": "execute_result",
          "data": {
            "text/plain": [
              "dict_keys(['животные', 'музыка', 'спорт', 'литература'])"
            ]
          },
          "metadata": {
            "tags": []
          },
          "execution_count": 15
        }
      ]
    },
    {
      "cell_type": "code",
      "metadata": {
        "id": "883a2936"
      },
      "source": [
        "categories = (\"животные\", \"музыка\", \"спорт\", \"литература\")"
      ],
      "id": "883a2936",
      "execution_count": 16,
      "outputs": []
    },
    {
      "cell_type": "code",
      "metadata": {
        "colab": {
          "base_uri": "https://localhost:8080/"
        },
        "id": "8011643b",
        "outputId": "c5c5b116-13ac-4322-a22b-7f58599afe80"
      },
      "source": [
        "for k in categories:\n",
        "  texts = allTexts[k]\n",
        "  links = allLinks[k]\n",
        "  print(k, \":\", sum([len(text.split(' ')) for text in texts]), \"слов\")\n",
        "  print(*links, sep=\", \")"
      ],
      "id": "8011643b",
      "execution_count": 17,
      "outputs": [
        {
          "output_type": "stream",
          "text": [
            "животные : 818098 слов\n",
            "Волосатики, Национальная парламентская библиотека (Япония), Гады, Триасовое вымирание, Аристотель, Ракообразные, Эвгленозои, Savalia savaglia, Виноградная улитка, Гаптофитовые водоросли, Палеогеновый период, Членистоногие, Holozoa, Энциклопедия жизни, Конечности, Tubulinea, Протерозой, Беспозвоночные, Telonemia, Malawimonada, Нервы, Биноминальная номенклатура, Криптофитовые водоросли, Food and Agriculture Organization, Швед, Doi, Криптисты, Тигр, Приматы, Sepiola atlantica, Земноводные, Tridacna squamosa, Breviatea, Heterolobosea, Зоология, Каменноугольный период, Medusozoa, Бесщупальцевые, Island Press, Видовой эпитет, Сперматозоид, Антропология, Зародышевые листки, Стрекающие, Животные-людоеды, Эволюция, Onychophora, Staurozoa, Анус, Страменопилы, Gemeinsame Normdatei, Коловратки, Меловой период, Палеозой, Гребневики, Головохоботные, Hoilungia hongkongensis, Jakobida, Форониды, Фламинго, Кожа, Amorphea, Юрский период, Хоаноциты, Паукообразные, Гнатостомулиды, Морские ежи, Двустворчатые, Латинский язык, Фитофагия, Platycryptus undatus, Позвоночные, Аквакультура, Горилла, Морфология (биология), Монофилия, Известковые губки, Коралловые полипы, Животные в Библии, CRuMs, Линяющие, Alitta succinea, Hemimastigophora, Муреновые, Horodyskia, Строматолит, Grypania, Класс (биология), Отряд (биология), Сегмент (биология), Амфибии, Myxozoa, Биологическая систематика, Оогамия, Гетеротрофы, Corallochytrium, Кишечнополостные, Животное (значения), Плотоядные, Pseudoceros dimidiatus, Фоссилизация, Целом, Xenacoelomorpha, Гаструла, Obazoa, Эукариоты, Род (биология), Большая советская энциклопедия, Фанерозой, Насекомые, JSTOR, Экскаваты, Ancyromonadida, Организм, Protoreaster linckii, Rappemonads, Простейшие, Национальная библиотека Франции, Мезозой, Животноводство, Мел-палеогеновое вымирание, Биологический вид, Четвертичный период, Тихоходки, 1758 год в науке, Appleton-Century-Crofts, Эон (геология), Ордовикско-силурийское вымирание, Птицы, Acoelomorpha, Tardigrada, Incertae sedis, Animalia, Current Biology, Метамерия (биология), Спиральные, Прохоров, Александр Михайлович, Кости, Центрохелидные солнечники, Мезозои, Кембрийский взрыв, Настоящее, Агнотозои, Scalidophora, Плеченогие, Брюхоресничные черви, Естествознание, Nephrozoa, Земляные черви, Fornicata, Приапулиды, Хиолиты, Приапулиды, Хиолиты, Национальная библиотека Государства Палестина, Нормативный контроль, Национальная библиотека Государства Палестина, Нормативный контроль, Пресмыкающиеся, Животные, Пресмыкающиеся, Животные, Doi, Глобальное похолодание, Doi, Глобальное похолодание, Унитарное государство, Михайлов, Пётр Борисович, Унитарное государство, Михайлов, Пётр Борисович, Homarus gammarus, Рак (животное), Homarus gammarus, Рак (животное), Tubulinea, Palpitomonas, Tubulinea, Palpitomonas, Средиземное море, Zoantharia, Средиземное море, Zoantharia, Виды под наименьшей угрозой, Пищеварительная система, Виды под наименьшей угрозой, Пищеварительная система, Ламелла (клеточная биология), Примнезиофициевые, Ламелла (клеточная биология), Примнезиофициевые, Триас, Стенийский период, Триас, Стенийский период, Паутинные бородавки, Crustacea, Паутинные бородавки, Crustacea, Mesomycetozoea, Архепластиды, Mesomycetozoea, Архепластиды, Библиотека биологических видов, Галисийский язык, Библиотека биологических видов, Галисийский язык, Птицы, Плечо (часть тела), Птицы, Плечо (часть тела), Архаизм, Цитозоль, Архаизм, Цитозоль, Орозирийский период, Гидрометеоиздат, Орозирийский период, Гидрометеоиздат, Латинский язык, Пластинчатые, Латинский язык, Пластинчатые, Дезоксирибонуклеиновая кислота, Фагоцитоз, Дезоксирибонуклеиновая кислота, Фагоцитоз, Аппарат Гольджи, Мезокариоты, Аппарат Гольджи, Мезокариоты, Грудные позвонки, Передняя зубчатая мышца, Грудные позвонки, Передняя зубчатая мышца, Systema Naturae, Пекарские дрожжи, Systema Naturae, Пекарские дрожжи, Hemiselmis, Тип (биология), Hemiselmis, Тип (биология), Продуктивность, Домашние птицы, Домашние птицы, Финские шведы, Даны, Финские шведы, Даны, ISO 8859-8, ISO 10383, ISO 8859-8, Макросистема органического мира, Хологамия, Макросистема органического мира, Хологамия, Panthera tigris jacksoni, Туранский тигр, Panthera tigris jacksoni, Туранский тигр, Strepsirrhini, Беременность, Strepsirrhini, Беременность, Мантия (зоология), Eumetazoa, Мантия (зоология), Eumetazoa, Аорта, Гигантская саламандра, Аорта, Гигантская саламандра, Tridacna, Bivalvia, Tridacna, Bivalvia, Heterolobosea, Fornicata, Heterolobosea, Fornicata, Opisthosporidia, Sanchytriaceae, Opisthosporidia, Sanchytriaceae, Израиль, Линней, Карл, Израиль, Линней, Карл, Лепидодендрон, Кембрийский период, Лепидодендрон, Кембрийский период, Cubozoa, Fossilworks, Cubozoa, Fossilworks, Зоология, Гребневики, Зоология, Гребневики, Янцзы, Китай, Янцзы, Китай, Подраздел (биология), Животные, Подраздел (биология), Животные, Протамин, Эякуляция, Протамин, Эякуляция, Развитие, Тэйлор, Эдуард Бернетт, Развитие, Тэйлор, Эдуард Бернетт, Эмбрион, Мезодерма, Эмбрион, Мезодерма, Горизонтальный перенос генов, Narcomedusae, Горизонтальный перенос генов, Narcomedusae, Леопард из Рудрапраяга, Филдовский музей естественной истории, Леопард из Рудрапраяга, Филдовский музей естественной истории, Происхождение земноводных, Гибридизация (биология), Происхождение земноводных, Гибридизация (биология), Киноринхи, Scalidophora, Киноринхи, Scalidophora, Eumetazoa, Doi, Eumetazoa, Doi, Однопроходные, Анус человека, Однопроходные, Анус человека, Sanchytriaceae, Haptista, Sanchytriaceae, Haptista, Систематизация, ФРГ, Систематизация, ФРГ, Pararotatoria, Членистоногие, Pararotatoria, Членистоногие, Высотное струйное течение, Криогений, Высотное струйное течение, Криогений, Южная Африка, Нивальный климат, Южная Африка, Нивальный климат, Гонады, Нормативный контроль, Гонады, Нормативный контроль, Парафилия (биологическая систематика), Priapulida, Парафилия (биологическая систематика), Priapulida, Щетинкочелюстные, Клеточное ядро, Щетинкочелюстные, Клеточное ядро, Протисты, Amorphea, Протисты, Amorphea, Моллюски, Bilateria, Моллюски, Bilateria, Жизнь животных, Млекопитающие, Жизнь животных, Млекопитающие, Птицы, Зуб (биология), Птицы, Зуб (биология), Ancoracysta, Хронология эволюции, Ancoracysta, Хронология эволюции, Суперконтинент, Парк Юрского периода (серия фильмов), Суперконтинент, Парк Юрского периода (серия фильмов), Устойчивость к антибиотикам, Губка Боб Квадратные Штаны (фильм), Устойчивость к антибиотикам, Губка Боб Квадратные Штаны (фильм), Базальная мембрана, Брюшко, Базальная мембрана, Брюшко, ЗИН РАН, Протонефридий, ЗИН РАН, Протонефридий, Осипов, Юрий Сергеевич, Жиры, Осипов, Юрий Сергеевич, Жиры, Сифон (моллюски), Trigonioidea, Сифон (моллюски), Trigonioidea, Балкано-романские языки, Средние века, Балкано-романские языки, Средние века, Офиофаги, Просмотр (хищничество), Офиофаги, Просмотр (хищничество), Пауки-скакунчики, Platycryptus, Пауки-скакунчики, Platycryptus, Диабет, Амниоты, Диабет, Амниоты, Онежское озеро, Пруд, Онежское озеро, Пруд, Microsoft Academic, Сиаманг, Microsoft Academic, Сиаманг, Конвергентная эволюция, Морфология, Конвергентная эволюция, Архозавры, Экстраполяция, Архозавры, Экстраполяция, Пластинчатые, Отряд (биология), Пластинчатые, Отряд (биология), Ehrenberg, Шестилучевые губки, Ehrenberg, Шестилучевые губки, Павлин, Книга пророка Исаии, Павлин, Книга пророка Исаии, Музыкальный продюсер, Хип-хоп, Музыкальный продюсер, Хип-хоп, Limnognathia maerski, Eumetazoa, Limnognathia maerski, Eumetazoa, Биологическая систематика, Кольчатые черви, Биологическая систематика, Кольчатые черви, Зелёные растения, Глаукофитовые водоросли, Зелёные растения, Глаукофитовые водоросли, Pisces, Нельсон, Джозеф С., Pisces, Нельсон, Джозеф С., Монтана, Аппекунни (формация), Монтана, Аппекунни (формация), Стратиграфия, СССР, Стратиграфия, СССР, Палеонтология, Бактериальная колония, Палеонтология, Бактериальная колония, Триба (биология), Микология, Триба (биология), Микология, Международный кодекс ботанической номенклатуры, Подрод (биология), Международный кодекс ботанической номенклатуры, Подрод (биология), Шаровой сегмент, Сегмент листа, Шаровой сегмент, Сегмент листа, Средний мозг, Железа, Средний мозг, Железа, Phylactolaemata, Полухордовые, Phylactolaemata, Полухордовые, 1990 год, Solanum tuberosum, 1990 год, Solanum tuberosum, Почкование, Митоз, Почкование, Митоз, Копрофаги, Экскременты, Копрофаги, Экскременты, Evosea, Collodictyon, Evosea, Collodictyon, Соединительная ткань, Латинский язык, Соединительная ткань, Латинский язык, Nephrozoa, Консументы, Nephrozoa, Консументы, Плацентарные, Копрофагия, Плацентарные, Копрофагия, Животные, Pseudoceros, Животные, Pseudoceros, Большая советская энциклопедия, Фоссилилогия, Большая советская энциклопедия, Фоссилилогия, Trochozoa, Догель, Валентин Александрович, Trochozoa, Догель, Валентин Александрович, Шестилучевые губки, Кубомедузы, Шестилучевые губки, Кубомедузы, Кишечнополостные, Мезодерма, Кишечнополостные, Мезодерма, Жгутик, Obazoa, Жгутик, Obazoa, Пептидогликан, Клеточное ядро, Пептидогликан, Клеточное ядро, Тип (биология), Nerine, Тип (биология), Nerine, Прохоров, Александр Михайлович, Иогансон, Борис Владимирович, Прохоров, Александр Михайлович, Иогансон, Борис Владимирович, Пангея, Архей, Пангея, Архей, Milichiidae, Alticinae, Milichiidae, Alticinae, Журнал, Научный журнал, Журнал, Научный журнал, Doi, Жгутик, Doi, Жгутик, Ядерная мембрана, Вироиды, Ядерная мембрана, Вироиды, Движение (биология), Обмен веществ, Движение (биология), Обмен веществ, Многощетинковые черви, Биологическая систематика, Многощетинковые черви, Биологическая систематика, Jakobida, Прокариот, Jakobida, Прокариот, Древнегреческий язык, Choanozoa, Древнегреческий язык, Choanozoa, 1854 год, Национальная научная библиотека Грузии, 1854 год, Национальная научная библиотека Грузии, Птерозавры, Южная Америка, Птерозавры, Южная Америка, Звероводство, Плуг, Звероводство, Плуг, Иридиевая аномалия, Астероид, Иридиевая аномалия, Астероид, Ботаническая номенклатура, Растения, Ботаническая номенклатура, Растения, Эфиопия, Мезопротерозой, Эфиопия, Мезопротерозой, Cyaegharctus kitamurai, Экстремофилы, Cyaegharctus kitamurai, Экстремофилы, 1890 год в науке, 1494 год в науке, 1890 год в науке, 1494 год в науке, Криогений, Каменноугольный период, Криогений, Каменноугольный период, Ледник, Поток генов, Ледник, Поток генов, Карнотавр, Шлемоносный казуар, Карнотавр, Шлемоносный казуар, Ксенотурбеллиды, Объединённая таксономическая информационная служба, Ксенотурбеллиды, Объединённая таксономическая информационная служба, Acidobacteria, Panarthropoda, Acidobacteria, Panarthropoda, Фоссилии, Отряд (биология), Фоссилии, Отряд (биология), Protozoa, Стрекающие, Стрекающие, Elsevier, Iain Cheeseman, Elsevier, Iain Cheeseman, Позвоночник, Сахарный тростник, Позвоночник, Сахарный тростник, Бесщупальцевые, Лобоподы, Бесщупальцевые, Лобоподы, 1916 год, Действительные члены РАН, 1916 год, Действительные члены РАН, Губчатая костная ткань, Эпителий, Губчатая костная ткань, Эпителий, Амёбозои, Kühn, Амёбозои, Kühn, Таксон, Ортонектиды, Таксон, Ортонектиды, Осьминоги, Мурчисон, Родерик Импи, Осьминоги, Мурчисон, Родерик Импи, Линия времени, Месяцы, Линия времени, Месяцы, Hoilungia hongkongensis, Коралловые полипы, Hoilungia hongkongensis, Коралловые полипы, Органы чувств, Eukaryota, Органы чувств, Eukaryota, Дюмериль, Андре-Мари, Dentatrypa, Дюмериль, Андре-Мари, Dentatrypa, Щупальцевые (клада), Киноринхи, Щупальцевые (клада), Киноринхи, Почвоведение, Мгновенная скорость, Почвоведение, Мгновенная скорость, Советская энциклопедия, Nature, Советская энциклопедия, Nature, Гельминты, Шаланда, Гельминты, Шаланда, Gemeinsame Normdatei, Шаттон, Эдуард, Gemeinsame Normdatei, Шаттон, Эдуард\n",
            "музыка : 882515 слов\n",
            "Мини-альбом, Волчья квинта, Ре (нота), Музыка и математика, Высота звука, Джани-заде, Тамила Махмудовна, Бытие (философия), Музыкальный продюсер, Музыка (значения), Логика, Африканская музыка, Сонатная форма, Пифагор, Система Хорнбостеля — Закса, Бемоль, Среднетоновый строй, Резонатор, Список музыкальных обозначений, Древняя музыка, Советская энциклопедия, Музыкальный словарь Римана, Композиция (музыка), Латиноамериканская музыка, Музыкант, Греческий язык, Келле, Валида Махмудовна, Созвучие, Вариационная форма, Полутон, Равномерно темперированный строй, Wayback Machine, Древняя Греция, Европейская музыка, Дыхание, Автономная музыка, Тривиум, Флейта, Музыка и политика, Национальная парламентская библиотека (Япония), Ассирийцы, Шкала громкостей, Музыка эпохи Возрождения, Контрольный номер Библиотеки Конгресса, Астрономия, Национальная библиотека Испании, Звукоряд, Знаки альтерации, Вопросы философии, Барабан, Фа (нота), Осирис, Эйфория, Музыка Древней Греции, Наси (народ), Давул (музыкальный инструмент), Индийская музыка, Дофамин, Древнегреческий язык, Колебательный контур, Музыкальный склад, Мышление, Диалектика, Энциклопедия Кругосвет, Полифония, Ландсберг, Григорий Самуилович, До, Соль (нота), Музыковедение, Нормативный контроль, Семь свободных искусств, Аккорд, Фонд Сороса, Обертон, Африка, Кровяное давление, Казанцева, Людмила Павловна, Оркестровка, Могучая кучка, Академическая музыка XX века, Этническая музыка, Программная музыка, Ритм (музыка), Музыкальные инструменты, Алеаторика, Музыкальный звук, Прикладная музыка, Квадривиум, Музыкотерапия, Стилизация, Музыкальный жанр, Арифметика, Человек, Элементы.ру, Музыкальный альбом, Список музыкальных жанров, направлений и стилей, Абсолютная музыка, Древний мир, Зурна, Международный стандартный серийный номер, Студийный альбом, Тональность, Партитура, Когнитивная нейробиология музыки, Музыка эпохи классицизма, Музыка в кинематографе, Пульс, Пифагорейский строй, Интервал (музыка), Чередниченко, Татьяна Васильевна, Сиринга, Ритмическое деление, Диез, Gemeinsame Normdatei, Частота, Си (нота), Большая российская энциклопедия, Когнитивное музыковедение, Пчёлы, Арфа, Microsoft Academic, Интонация (музыка), Чистый строй, Искусство, Ключ (музыка), Азиатская музыка, Музыкальный энциклопедический словарь, Сохор, Арнольд Наумович, Эвтерпа, Эггебрехт, Ганс Генрих, MIT Press, Песня, Мелодия, Композитор, Морская свинка, Аполлон, Академическая музыка XXI века, До (нота), Музыка Карнатака, Музыкальный словарь Гроува, Музыка периода романтизма, Музыка Древнего Египта, Doi, Нотные знаки, Амузия, Рондо, Музыкальная нотация, Муза, Музыка Полинезии, Наука (издательство), Риторика, RCA Records, Песня, RCA Records, Песня, Нона (интервал), Интервал (музыка), Нона (интервал), Интервал (музыка), Ре, Ut queant laxis, Ut queant laxis, Энциклопедия Кругосвет, Контрольный номер Библиотеки Конгресса, Энциклопедия Кругосвет, Контрольный номер Библиотеки Конгресса, Gemeinsame Normdatei, Microsoft Academic, Gemeinsame Normdatei, Microsoft Academic, Вопросы философии, Мироздание, Вопросы философии, Мироздание, Список музыкальных обозначений, Музыкант, Список музыкальных обозначений, Музыкант, Келле, Валида Махмудовна, Диалектика, Диалектика, Шольц, Генрих, Парадокс, Шольц, Генрих, Парадокс, Хайлайф, Струнные музыкальные инструменты, Хайлайф, Струнные музыкальные инструменты, Отклонение (музыка), Канон (музыка), Отклонение (музыка), Фивы (Греция), Квазикристалл, Фивы (Греция), Квазикристалл, Электромеханические музыкальные инструменты, Электрогитара, Электромеханические музыкальные инструменты, Электрогитара, ʙ́, Ориентир (музыка), ʙ́, Ориентир (музыка), Квинтовый круг, Натуральный строй, Квинтовый круг, Натуральный строй, Униполярная индукция, Потенциалы Лиенара — Вихерта, Униполярная индукция, Потенциалы Лиенара — Вихерта, Музыкальная нотация, Французская лига, Музыкальная нотация, Буле, Древняя Македония, Буле, Древняя Македония, Островитянов, Константин Васильевич, Ленин, Островитянов, Константин Васильевич, Ленин, Риман, Гуго, Веймарн, Павел Платонович, Риман, Гуго, Веймарн, Павел Платонович, Древняя музыка, Дилецкий, Николай Павлович, Древняя музыка, Дилецкий, Николай Павлович, Латин-джаз, Никарагуа, Латин-джаз, Никарагуа, Государственное издательство иностранных и национальных словарей, Идеографический словарь, Государственное издательство иностранных и национальных словарей, Идеографический словарь, Польский язык, Время (лингвистика), Польский язык, Время (лингвистика), Диссонанс (значения), Тяготение (музыка), Тяготение (музыка), Хор, Предложение (музыка), Хор, Предложение (музыка), Квартдецима, Схизма (интервал), Квартдецима, Схизма (интервал), Стевин, Симон, Транспозиция (музыка), Стевин, Симон, Транспозиция (музыка), Вымирание ссылок, COVID-19, Вымирание ссылок, COVID-19, Анталкидов мир, Эллинистическая Греция, Анталкидов мир, Эллинистическая Греция, Венская классическая школа, Emerson, Lake & Palmer, Венская классическая школа, Emerson, Lake & Palmer, Бронхиолы, Цикл трикарбоновых кислот, Бронхиолы, Цикл трикарбоновых кислот, Немецкий язык, Словарь музыкальных терминов, Немецкий язык, Словарь музыкальных терминов, Диалектика, Астрономия, Диалектика, Астрономия, Античность, Горн (музыкальный инструмент), Античность, Горн (музыкальный инструмент), Большая российская энциклопедия, Муза, Большая российская энциклопедия, Муза, Национальная библиотека Нагорно-Карабахской Республики, Национальная библиотека Бангладеш, Национальная библиотека Нагорно-Карабахской Республики, Национальная библиотека Бангладеш, Венда (народ), Сирийский алфавит, Венда (народ), Сирийский алфавит, Сборник (музыка), Италия, Сборник (музыка), Италия, Стандартизация, Соединённые Штаты Америки, Стандартизация, Соединённые Штаты Америки, Естественные науки, Папская курия, Естественные науки, Папская курия, Королевская библиотека Дании, Гражданская война, Королевская библиотека Дании, Гражданская война, Мугам, Макам, Мугам, Макам, Ключ (музыка), Штрихи (музыка), Ключ (музыка), Штрихи (музыка), Руденко, Виктор Николаевич, Стэн, Ян Эрнестович, Руденко, Виктор Николаевич, Стэн, Ян Эрнестович, Кроталы, Пластик, Кроталы, Пластик, Веркмейстер, Андреас, Бастардный кегль, Веркмейстер, Андреас, Бастардный кегль, Зингшпиль, Уаджет, Зингшпиль, Уаджет, Антипатия, Досада, Антипатия, Досада, Харон (мифология), Архонты Афин, Харон (мифология), Архонты Афин, Дулуны, Ао (народ), Дулуны, Ао (народ), Ударные музыкальные инструменты, Даф, Ударные музыкальные инструменты, Даф, Латиноамериканская музыка, Мумбаи, Латиноамериканская музыка, Мумбаи, Условный рефлекс, Марков, Александр Владимирович (биолог), Условный рефлекс, Марков, Александр Владимирович (биолог), Армия Древней Македонии, Богослужение, Армия Древней Македонии, Богослужение, Правила Кирхгофа, Реактивное сопротивление, Правила Кирхгофа, Реактивное сопротивление, Теория музыки, Гетерофония, Теория музыки, Гетерофония, Викисловарь, Обобщение, Викисловарь, Философия логики, Спиркин, Александр Георгиевич, Философия логики, Спиркин, Александр Георгиевич, Большая российская энциклопедия, Бард-колледж, Большая российская энциклопедия, Бард-колледж, XVI век, XX век, XVI век, XX век, Орден Ленина, Институт спектроскопии РАН, Орден Ленина, Институт спектроскопии РАН, Сольмизация, Си (нота), Сольмизация, Си (нота), Гвидонова рука, Нотные знаки, Гвидонова рука, Нотные знаки, Концертный альбом, Советская энциклопедия, Концертный альбом, Советская энциклопедия, Лунный камень (роман), Национальная библиотека Франции, Лунный камень (роман), Национальная библиотека Франции, Музыка, Наука, Музыка, Наука, Аккорд Петрушки, Классицизм, Аккорд Петрушки, Классицизм, Альянс по наркополитике, Инвестор, Альянс по наркополитике, Инвестор, Частоты настройки фортепиано, Натуральный звукоряд, Частоты настройки фортепиано, Натуральный звукоряд, Путешествия Чжэн Хэ, Калахари, Путешествия Чжэн Хэ, Калахари, Вазоконстрикция, Измерение давления, Вазоконстрикция, Измерение давления, Союз Советских Социалистических Республик, Профессор, Союз Советских Социалистических Республик, Профессор, Штраус, Рихард, Сергей Прокофьев, Штраус, Рихард, Витолс, Язепс, Царская невеста (опера), Витолс, Язепс, Царская невеста (опера), Симфония, Додекафония, Симфония, Додекафония, Ва-Та-Га, Североамериканский фолк, Ва-Та-Га, Североамериканский фолк, 1673, Нормативный контроль, 1673, Нормативный контроль, Лад (музыка), Длительность нот, Лад (музыка), Длительность нот, Музыка Средневековья, Электромузыкальные инструменты, Музыка Средневековья, Электромузыкальные инструменты, Эпоха Возрождения, Звуковой ландшафт, Эпоха Возрождения, Звуковой ландшафт, Эммелика, Штокхаузен, Карлхайнц, Эммелика, Штокхаузен, Карлхайнц, Салонная музыка, Художественный образ, Салонная музыка, Художественный образ, Геометрия, Средние века, Геометрия, Средние века, Европейская музыка, Диалектическая поведенческая терапия, Европейская музыка, Диалектическая поведенческая терапия, Ремизов, Алексей Михайлович, Бальмонт, Ремизов, Алексей Михайлович, Бальмонт, Лёйхтман, Хорст, Когнитивное музыковедение, Лёйхтман, Хорст, Когнитивное музыковедение, Прикладная математика, Дробь (математика), Прикладная математика, Дробь (математика), Животные, Ашёльская культура, Животные, Ашёльская культура, Казанцева, Ася, URL, Казанцева, Ася, URL, Музыкальный продюсер, Сборник (музыка), Музыкальный продюсер, Сборник (музыка), Гоа-транс, Лещенко, Пётр Константинович, Гоа-транс, Лещенко, Пётр Константинович, Английский язык, Юргенсон, Борис Петрович, Английский язык, Юргенсон, Борис Петрович, Вифиния, Киммерийцы, Вифиния, Киммерийцы, Карачаево-балкарский язык, Флюгельгорн, Карачаево-балкарский язык, Флюгельгорн, H.265, ISO 31-9, H.265, ISO 31-9, Древняя музыка, Мини-альбом, Древняя музыка, Мини-альбом, Арнольд Шёнберг, Соль минор, Арнольд Шёнберг, Соль минор, Теория музыки, Медные духовые музыкальные инструменты, Теория музыки, Медные духовые музыкальные инструменты, Абсолютный слух, Трезвучие, Абсолютный слух, Трезвучие, Азиатская музыка, Древняя музыка, Азиатская музыка, Древняя музыка, Санкт-Петербургский военно-морской институт, 1926 год, Санкт-Петербургский военно-морской институт, 1926 год, Вена (анатомия), Национальная Академия Наук Азербайджана, Вена (анатомия), Национальная Академия Наук Азербайджана, Цент (музыка), Квинтовый круг, Цент (музыка), Квинтовый круг, Схизма (интервал), Септаккорд, Схизма (интервал), Септаккорд, 1989 год, Журнальный зал, 1989 год, Журнальный зал, Испанский язык, Келдыш, Юрий Всеволодович, Испанский язык, Келдыш, Юрий Всеволодович, Септоль, Модальная нотация, Модальная нотация, ♬, Диеса, Диеса, VIAF, Личность, VIAF, Личность, Инфракрасное излучение, Осциллограф, Инфракрасное излучение, Осциллограф, Логотипный набор, Темп (музыка), Логотипный набор, Темп (музыка), Большая энциклопедия (1900—1909), Справочный энциклопедический словарь, Большая энциклопедия (1900—1909), Справочный энциклопедический словарь, Древняя музыка, Музыка Полинезии, Древняя музыка, Музыка Полинезии, Шмели-кукушки, Lasioglossum, Шмели-кукушки, Lasioglossum, Фагот, Балалайка, Фагот, Балалайка, Yahoo!, Lemur Toolkit & Indri Search Engine, Yahoo!, Сохор, Арнольд Наумович, Псалм, Сохор, Арнольд Наумович, Псалм, Теория музыки, Терция (интервал), Теория музыки, Терция (интервал), Этика, Аравия, Этика, Аравия, Линейная нотация, Франция, Линейная нотация, Франция, Утрехтский университет, Тихомиров, Борис Юрьевич, Утрехтский университет, Тихомиров, Борис Юрьевич, Музыкальная энциклопедия, Келдыш, Юрий Всеволодович, Музыкальная энциклопедия, Келдыш, Юрий Всеволодович, Музыкальная энциклопедия, Келдыш, Юрий Всеволодович, Музыкальная энциклопедия, Келдыш, Юрий Всеволодович, Эреб, Амфитрита, Эреб, Амфитрита, Орган (музыкальный инструмент), 1948, Орган (музыкальный инструмент), 1948, Национальная библиотека Австралии, Международный идентификатор стандартных наименований, Национальная библиотека Австралии, Международный идентификатор стандартных наименований, Телевидение, Азиатская музыка, Телевидение, Азиатская музыка, Звукоряд, Птолемей, Звукоряд, Птолемей, Латиноамериканская музыка, История музыки, Латиноамериканская музыка, История музыки, Перу, Линней, Карл, Перу, Линней, Карл, Нерей, Кумская сивилла, Нерей, Кумская сивилла, Холопова, Валентина Николаевна, Харви, Джонатан, Холопова, Валентина Николаевна, Харви, Джонатан, Невменная нотация, Календарный набор, Невменная нотация, Календарный набор, Свармандал, Музыкальный альбом, Свармандал, Музыкальный альбом, 1954 год, Филипп Шпитта, 1954 год, Филипп Шпитта, Лейбл звукозаписи, Мейербер, Джакомо, Лейбл звукозаписи, Мейербер, Джакомо, Культура Древнего Египта, Египетские пирамиды, Культура Древнего Египта, Египетские пирамиды, EXPRESS (язык моделирования данных), JPEG 2000, EXPRESS (язык моделирования данных), JPEG 2000, Наборный орнамент, Размер (музыка), Размер (музыка), Агнозия, Музыкальный слух, Агнозия, Музыкальный слух, Иоганн Себастьян Бах, Классицизм (музыка), Иоганн Себастьян Бах, Классицизм (музыка), Ля (нота), Древний Египет, Ля (нота), Древний Египет, Кратос (мифология), Гера, Кратос (мифология), Гера, Мавритания, Окленд (Новая Зеландия), Мавритания, Окленд (Новая Зеландия), Русские путешественники и востоковеды, Популярные лекции по математике, Русские путешественники и востоковеды, Популярные лекции по математике, Софизм, Риторика (Аристотель), Софизм, Риторика (Аристотель)\n",
            "спорт : 943295 слов\n",
            "Олимпийская хартия, Болельщик, Ольмеки, Шаолинь цюань, Линг, Пер Хенрик, Спортивное соревнование, Гермес, Open Encyclopedia Project, Международная федерация волейбола, Спортивный турнир, Интернет, Международная федерация гребли, Олимпийские виды спорта, Поло, Международный союз велосипедистов, Цех, Файвз, Международная мотоциклетная федерация, FINA, Всероссийский реестр видов спорта, 529 год, Обряд, 394 год, Пифийские игры, Бейсбол, Прыжки с шестом, Лесгафт, Пётр Францевич, Юстиниан I, Гимнастика, Буддизм, Турник, Международная авиационная федерация, СпортАккорд, ФИФА, Конь (гимнастика), Международная федерация хоккея с шайбой, Судья (спорт), Франция, Спортивная борьба, Аполлоний (скульптор из Афин), Многопользовательские игры, Бревно (гимнастика), Акцийские игры, Симон, Жюль, I век до н. э., Тертуллиан, История тенниса, Жё-де-пом, Спорт (значения), Йохан Хёйзинга, Досуг, Покер, Октавиан Август, Центральная Америка, Летурно, Шарль, Коллинз, Бад, Реал-теннис, Международная федерация плавания, Олимпийские игры, Теория праздного класса, Плавание, Бизнес, Международный союз конькобежцев, Рабле, Теннис, Заппас, Евангелис, Лондон 1851 (шахматный турнир), Атлет, Open Directory Project, XII век, Юань (династия), СПбГУ, Профессиональный спорт, Национальный музей Рима, Тренировки, Вилла дель-Касале, Промышленная революция, Олимпия, Всемирное антидопинговое агентство, XXVI век до н. э., Военное искусство, Прохоров, Александр Михайлович, Летние Олимпийские игры, Феодосий I Великий, Тай-брейк, Боулинг, Майя (цивилизация), Большая олимпийская энциклопедия, V век до н. э., Международная федерация объединённых стилей борьбы, VI век до н. э., Международная автомобильная федерация, Коньки, Всемирная выставка (1889), Джиу-джитсу, Лакросс, Немейские игры, Баскетбол, Соревнования, Африка, Тренер, Шведская стенка, 1-е послание к Коринфянам, Хёрлинг, Водное поло, Британская энциклопедия, Томас Арнольд, Кубертен, Пьер де, VI век, Шиллер, Фридрих, 520 год, Международная федерация парусного спорта, Бокс, Метание диска, Английский язык, Крокет, Футбол, Зимние виды спорта, Бег, Бадминтон, Международная федерация гимнастики, Интеллект, Шумер, Бертольт Брехт, Капитолийские игры, XIV век, Рекорд, Серебряная медаль, Австралия, Бронзовая медаль, Конфуцианство, Биатлон, Среднее царство (Древний Египет), Старофранцузский язык, 1-е тысячелетие до н. э., Зимние Олимпийские игры, Тренировка, Синхронное плавание, Торстейн Веблен, Древний Египет, Гроос, Карл, Славная революция, Домициан, Волейбол, Американская баскетбольная лига (1961-1963), Международная ассоциация легкоатлетических федераций, Персия, The Age, Античные Олимпийские игры, Спорт в России, Олимпийское движение и политический протест, Французский язык, Олимпийское движение и политический протест, Французский язык, Тлатилько, Традиция шахтовых могил, Тлатилько, Традиция шахтовых могил, Фуцзянь шаолинь-цюань, Со Досин, Фуцзянь шаолинь-цюань, Со Досин, Сольна, Энциклопедический словарь Брокгауза и Ефрона, Сольна, Энциклопедический словарь Брокгауза и Ефрона, Домициан, Летние Олимпийские игры 1896, Домициан, Летние Олимпийские игры 1896, Рафаэль, Катрей, Рафаэль, Катрей, Русский язык, Википедия, Русский язык, Википедия, Парагвай, Чемпионат мира по волейболу среди мужских молодёжных команд, Парагвай, Чемпионат мира по волейболу среди мужских молодёжных команд, Матч за третье место, Круговая система, Матч за третье место, Круговая система, OSPF, 4338-й год, OSPF, 4338-й год, Международные соревнования, Италия, Международные соревнования, Италия, Бейсбол, Международная федерация плавания, Бейсбол, Международная федерация плавания, Унция, Крокет на летних Олимпийских играх 1900, Унция, Крокет на летних Олимпийских играх 1900, Объединённый мир борьбы, Федерация, Объединённый мир борьбы, Федерация, Ученичество, Польский язык, Ученичество, Польский язык, Швейцария, Французский язык, Швейцария, Французский язык, Статистика, Спортивный покер, Статистика, Спортивный покер, Юлианский календарь, 522 год, Юлианский календарь, 522 год, Космология, Взбранной Воеводе, Космология, Взбранной Воеводе, 387 год, 347 год, 387 год, 347 год, Семь мудрецов, 1870-е годы, Семь мудрецов, 1870-е годы, Игрок от Бога, Непойманный третий страйк, Игрок от Бога, Непойманный третий страйк, Брокпорт, Бег на 600 метров, Брокпорт, Бег на 600 метров, Гимнастика, Данилевский, Александр Яковлевич, Гимнастика, Данилевский, Александр Яковлевич, Сенат (Византия), Савва Освященный, Сенат (Византия), Савва Освященный, Зимнее плавание, Всероссийская федерация художественной гимнастики, Зимнее плавание, Всероссийская федерация художественной гимнастики, Дар аль-харб, Самскара, Дар аль-харб, Самскара, 1 октября, 26 сентября, 1 октября, 26 сентября, Английский язык, Орхус, Английский язык, Орхус, 2012 год, Камерун, 2012 год, Камерун, Дмитрий Билозерчев, Олимпийские игры, Дмитрий Билозерчев, Олимпийские игры, Чемпионат мира по хоккею с шайбой 1990 (женщины), Федерация хоккея ОАЭ, Чемпионат мира по хоккею с шайбой 1990 (женщины), Федерация хоккея ОАЭ, Корт, Орасио Элисондо, Корт, Орасио Элисондо, Фабиан, Лара, Республика Кипр, Фабиан, Лара, Республика Кипр, Федерация спортивной борьбы России, Греко-римская борьба, Федерация спортивной борьбы России, Греко-римская борьба, Геракл, Апостольский дворец, Геракл, Апостольский дворец, Бафф, Разрушаемое окружение, Бафф, Разрушаемое окружение, Миллер, Шэннон, Опорный прыжок, Миллер, Шэннон, Опорный прыжок, Латинский язык, Акциум, Латинский язык, Акциум, 31 декабря, Кузен, Виктор, 31 декабря, Кузен, Виктор, Птолемей XIII Египетский, 61 год до н. э., Птолемей XIII Египетский, 61 год до н. э., Викицитатник, Кирилл Александрийский, Викицитатник, Кирилл Александрийский, Паддл-теннис, 1908 год, 1908 год, Первый кадетский корпус (Санкт-Петербург), Гребля на байдарках и каноэ, Первый кадетский корпус (Санкт-Петербург), Гребля на байдарках и каноэ, Водное поло, Всероссийский реестр видов спорта, Водное поло, Всероссийский реестр видов спорта, Буркхардт, Якоб, Памятники исторической мысли, Буркхардт, Якоб, Памятники исторической мысли, Словаки, Словения, Словаки, Словения, Джокер, Ангер Стю, Джокер, Ангер Стю, 225 год до н. э., Луций Эмилий Павел Македонский, 225 год до н. э., Луций Эмилий Павел Македонский, Восточная Африка, Новый Свет (Америка), Восточная Африка, Новый Свет (Америка), Франция, Библиотека Каталонии, Франция, Библиотека Каталонии, Келлмейер, Пичи, Боллетьери, Ник, Боллетьери, Ник, Генрих VIII, Викторианская эпоха, Генрих VIII, Викторианская эпоха, Arena, 19 июня, 19 июня, Российская империя, Медальный зачёт на летних Олимпийских играх 2020, Российская империя, Медальный зачёт на летних Олимпийских играх 2020, Теория элит, Торстейн Веблен, Теория элит, Торстейн Веблен, Физическое воспитание, Баскская пелота, Физическое воспитание, Баскская пелота, Менеджмент, Страховая компания, Менеджмент, Страховая компания, Конькобежный спорт, 1892 год, Конькобежный спорт, 1892 год, Национальная библиотека Испании, 1982 год, Национальная библиотека Испании, 1982 год, Волейбол на Олимпийских играх, Генрих V (пьеса), Волейбол на Олимпийских играх, Генрих V (пьеса), Предприниматель, Gemeinsame Normdatei, Предприниматель, Gemeinsame Normdatei, Лондон 2011 (шахматный турнир), Лондон 1886 (шахматный турнир), Лондон 1886 (шахматный турнир), Атлет (значения), Состязание, Атлет (значения), Состязание, Turner Broadcasting System, Warner Bros. Family Entertainment, Turner Broadcasting System, Warner Bros. Family Entertainment, Андроник I Комнин, Иоанн II Комнин, Андроник I Комнин, Иоанн II Комнин, Сю Шоухуэй, Небесный мандат, Сю Шоухуэй, Небесный мандат, Райнис, Джавахишвили, Иван Александрович, Райнис, Джавахишвили, Иван Александрович, Бейсбол, Спонсор, Бейсбол, Спонсор, Дискобол (статуя), Gemeinsame Normdatei, Дискобол (статуя), Gemeinsame Normdatei, Коучинг, Интервальные тренировки, Коучинг, Интервальные тренировки, Ватикан, Сан-Джиминьяно, Ватикан, Сан-Джиминьяно, Савицкий, Константин Аполлонович, Научный журнал, Савицкий, Константин Аполлонович, Научный журнал, Пританей, Эхо (мифология), Пританей, Эхо (мифология), Океания, Международный идентификатор стандартных наименований, Океания, Международный идентификатор стандартных наименований, Тотальная война, Бивак (военный), Тотальная война, Бивак (военный), Австралия, Герой Социалистического Труда, Австралия, Герой Социалистического Труда, Зимние Олимпийские игры 1960, Сидней, Зимние Олимпийские игры 1960, Сидней, Домициан, Серапеум, Домициан, Серапеум, Английский язык, Армагеддон (шахматы), Английский язык, Армагеддон (шахматы), Лютер, Мартин, Йемен, Лютер, Мартин, Йемен, Панама, Акуль-Мо-Наб III, Панама, Акуль-Мо-Наб III, Штейнбах, Валерий Львович, 2006 год, Штейнбах, Валерий Львович, 2006 год, 495 год до н. э., 481 год до н. э., 495 год до н. э., 481 год до н. э., Олимпийские игры, Международная федерация каноэ, Олимпийские игры, Международная федерация каноэ, Набонид, Конфуцианство, Набонид, Конфуцианство, Чемпионат мира по ралли, Мосли, Макс, Чемпионат мира по ралли, Мосли, Макс, Металлы, Фигурное катание, Металлы, Фигурное катание, Мулен Руж, Железо, Мулен Руж, Железо, Тэцубодзюцу, Здоровье, Тэцубодзюцу, Здоровье, Перетягивание каната на Олимпийских играх, Крокет на летних Олимпийских играх 1900, Перетягивание каната на Олимпийских играх, Крокет на летних Олимпийских играх 1900, Античные Олимпийские игры, Зевс, Античные Олимпийские игры, Зевс, Нормативный контроль, Гонки на собачьих упряжках, Нормативный контроль, Гонки на собачьих упряжках, Ленин, Владимир Ильич, Фауна, Ленин, Владимир Ильич, Фауна, Триполи, Атлантида, Триполи, Атлантида, Спортсмен, Специалист, Спортсмен, Бревно (гимнастика), Гутс-Мутс, Иоганн Кристоф Фридрих, Бревно (гимнастика), Гутс-Мутс, Иоганн Кристоф Фридрих, Поликарп Смирнский, Деяния святых апостолов, Поликарп Смирнский, Деяния святых апостолов, Ирландия, Сборная Мита по гэльским играм, Ирландия, Водные лыжи на летних Олимпийских играх 1972, Лыжное двоеборье на Олимпийских играх, Водные лыжи на летних Олимпийских играх 1972, Лыжное двоеборье на Олимпийских играх, Персия, Искусственный интеллект, Персия, Искусственный интеллект, Богослов, Национальная библиотека Португалии, Богослов, Национальная библиотека Португалии, Университет, Педагогика, Университет, Педагогика, 557 год, Лангобарды, 557 год, Лангобарды, Солитюд, Виланд, Кристоф Мартин, Солитюд, Виланд, Кристоф Мартин, 600-е годы, 497 год, 600-е годы, 497 год, 49er, Международная федерация тенниса, 49er, Международная федерация тенниса, Поло, Боксёрский бинт, Поло, Боксёрский бинт, Спортивная ходьба на 20 километров, Контрольный номер Библиотеки Конгресса, Спортивная ходьба на 20 километров, Контрольный номер Библиотеки Конгресса, Нижненемецкий язык, Итанглийский язык, Нижненемецкий язык, Итанглийский язык, Бобслей на Олимпийских играх, Перетягивание каната на Олимпийских играх, Бобслей на Олимпийских играх, Перетягивание каната на Олимпийских играх, Карате, Система видеопомощи арбитрам, Карате, Система видеопомощи арбитрам, Сноуборд (вид спорта), Могул, Сноуборд (вид спорта), Могул, Соревнования античных Олимпийских игр, Тазобедренный сустав, Соревнования античных Олимпийских игр, Тазобедренный сустав, Сорокина, Валерия Михайловна, Софтбол на Олимпийских играх, Сорокина, Валерия Михайловна, Софтбол на Олимпийских играх, Бельгия, Малый лист, Бельгия, Малый лист, Когнитивная этология, Имбецильность, Когнитивная этология, Имбецильность, III династия Ура, Энума элиш, Энума элиш, Титоизм, Господин Пунтила и его слуга Матти, Титоизм, Господин Пунтила и его слуга Матти, Амбурбия, Спорт, Амбурбия, Спорт, 1370, 1374 год, 1370, 1374 год, Рекорд (значения), 125, 125, Реверс (сторона монеты), Бронзовая медаль, Реверс (сторона монеты), Бронзовая медаль, Общероссийский классификатор валют, Австралийская столичная территория, Общероссийский классификатор валют, Австралийская столичная территория, Медаль, Среднее образование, Медаль, Среднее образование, Даосизм, Чэн Сюаньин, Даосизм, Чэн Сюаньин, Индивидуальная гонка, Водное поло, Индивидуальная гонка, Водное поло, Додинастический период, Древний Египет, Додинастический период, Древний Египет, Франки, Языки Евразии, Франки, Языки Евразии, Евклид, Солнечное затмение, Евклид, Солнечное затмение, Сараево, Летние Олимпийские игры 1976, Сараево, Летние Олимпийские игры 1976, Бьюдженталь, Джеймс, Системная семейная психотерапия, Бьюдженталь, Джеймс, Системная семейная психотерапия, Гэльский футбол, Прыжки в воду, Гэльский футбол, Прыжки в воду, Социолог, WorldCat, Социолог, WorldCat, Авдиев, Всеволод Игоревич, Великая царица (Древний Египет), Авдиев, Всеволод Игоревич, Великая царица (Древний Египет), Международный стандартный серийный номер, 1946 год, Международный стандартный серийный номер, 1946 год, Эпоха Регентства (Великобритания), Королевство Ирландия, Эпоха Регентства (Великобритания), Королевство Ирландия, Тит Теттиен Серен, Публий Дуцений Вер, Тит Теттиен Серен, Публий Дуцений Вер, Волейбол на летних Олимпийских играх 1972, Пляжный волейбол, Волейбол на летних Олимпийских играх 1972, Пляжный волейбол, 1993 год, Швейцария, 1993 год, Швейцария, 1501 год, ОПЕК, 1501 год, ОПЕК, Хармон, Ричард, Lionsgate Films, Хармон, Ричард, Lionsgate Films, Гетайры, Куторга, Михаил Семёнович, Гетайры, Куторга, Михаил Семёнович, Лыжня России, Зимние Сурдлимпийские игры 2015, Зимние Сурдлимпийские игры 2015\n",
            "литература : 1045675 слов\n",
            "Детская литература, Эфиопская литература, Советский Союз, О природе вещей, Португальская литература, Латинский язык, Ирландская литература, Казахская литература, Стерн, Лоренс, Бенгальская литература, Австралийская литература, Большая советская энциклопедия, Русская литература, Хайдеггер, Мартин, Публий Вергилий Марон, Хопп, Синкен, Библиотека, Документальная проза, Илиада, Поэт, Музыка, Датская литература, Энциклопедия, Монитор (устройство), ЭСБЕ, Библиотечно-библиографическая классификация, Прохоров, Александр Михайлович, Эссе, Театр, Афанасьев, Александр Николаевич, Текст, Open Encyclopedia Project, Переводная литература, Робинзон Крузо, Нидерландская литература, Публицистика, Тит Лукреций Кар, Гомер, Аудиокнига, Gemeinsame Normdatei, Литература Израиля, Литература Финляндии, Рассел, Бертран, Эпос, Искусство, Художественная литература, Электронная книга, Словарь, Писатель, Китайская литература, Национальная библиотека Франции, Эсхил, Азербайджанская литература, Болгарская литература, Сказитель, Богаевский, Борис Леонидович, Научная литература, Техника, Драма (род литературы), Бельгийская литература, Кинематограф, Производство, Бурдье, Пьер, Контрольный номер Библиотеки Конгресса, Мемуары, Рикёр, Поль, Варнинг, Райнер, Математика, Философия, Еврейская литература, Древнерусская литература, Энеида, Сайты со свободной публикацией, Космодемьянский, Александр Анатольевич, Тургенев, Николай Иванович, Арзамас (литературное общество), Опера, Тибетская литература, Венгерская литература, Национальная культура, Лотман, Юрий Михайлович, Религия, Композитор, Литература модернизма, Microsoft Academic, Рецензирование, Симптом, Грузинская литература, Гутенберг, Иоганн, Памфлет, Песня, Книга, Интерпретация (литературоведение), Литература постмодернизма, Литовская литература, Татарская литература, Медицина, Карамзин, Николай Михайлович, Чешская литература, Мифология, Персидская литература, Белорусская литература, Лирика, Страноведение, Цивилизация, Литература США, Компьютер, Знаки препинания, Синайский кодекс, Лазаревич, Элеонора Анатольевна, Учебник, Корман, Борис Осипович, Романтизм, Платон, Эстонская литература, Рукопись, Джамбул Джабаев, Литература по саморазвитию, Физика, Биография, Нормативный контроль, Маленький принц, Есин, Сергей Николаевич, Типографика, Синтез искусств, Опыт теории налогов, Гесиод, Одиссея, Язык (система знаков), Синкретизм (искусство), Гадамер, Ганс Георг, Файл, Вигдорова, Фрида Абрамовна, Авторское право, Канадская литература, Британская литература, Уравнение, Польская литература, Дефо, Даниэль, Средневековая литература, Аноним, XIX век, Античная литература, Социализм, XX век, Норвежская литература, Итальянская литература, Идеология, Курицын, Вячеслав Николаевич, Наука, Скандинавия, Щелкунчик и Мышиный король, Скандинавия, Щелкунчик и Мышиный король, Литература Эфиопии, Библия, Литература Эфиопии, Библия, Салют-1, Польская Республика (1918—1939), Салют-1, Польская Республика (1918—1939), Лукреций, Колофон (часть книги), Лукреций, Колофон (часть книги), Книга непокоя, Очеркист, Книга непокоя, Очеркист, Разговорный стиль, Португальский язык, Разговорный стиль, Португальский язык, Города Ирландии, Литература Австрии, Города Ирландии, Литература Австрии, Олжас Сулейменов, Города Казахстана, Олжас Сулейменов, Города Казахстана, Лондон, Джошуа Рейнольдс, Лондон, Джошуа Рейнольдс, Буддизм, Вишну, Буддизм, Вишну, Классицизм, Пустыни Австралии, Классицизм, Пустыни Австралии, Узбекская советская энциклопедия, Русская энциклопедия, Узбекская советская энциклопедия, Русская энциклопедия, Каравашкин, Андрей Витальевич, Чингиз Айтматов, Каравашкин, Андрей Витальевич, Чингиз Айтматов, CiNii, Темпоральность, CiNii, Темпоральность, Марк Валерий Проб, Древняя Ливия, Марк Валерий Проб, Древняя Ливия, Нормативный контроль, Переводчик, Нормативный контроль, Переводчик, Национальная библиотека Китая, Французская национальная библиотека, Национальная библиотека Китая, Французская национальная библиотека, Краткая литературная энциклопедия, Международный стандартный серийный номер, Краткая литературная энциклопедия, Международный стандартный серийный номер, Гера, Спарта, Гера, Спарта, Древнегреческий язык, Ницше, Фридрих, Древнегреческий язык, Ницше, Фридрих, Знаки альтерации, Демпфер, Знаки альтерации, Демпфер, Гай Юлий Цезарь, Ганзен, Пётр Готфридович, Гай Юлий Цезарь, Ганзен, Пётр Готфридович, GNU FDL, Латвийская национальная библиотека, GNU FDL, Латвийская национальная библиотека, Цифровая ручка, Светодиод, Цифровая ручка, Светодиод, Нойс, Кёнигсберг, Нойс, Кёнигсберг, Архивы, Фольклор, Архивы, Фольклор, Парселл, Эдвард Миллс, Кастлер, Альфред, Парселл, Эдвард Миллс, Кастлер, Альфред, Национальная парламентская библиотека (Япония), 1964, Национальная парламентская библиотека (Япония), 1964, Театры Иркутска, Джан Галеаццо Сфорца, Театры Иркутска, Джан Галеаццо Сфорца, Российская государственная библиотека, Рынок, Российская государственная библиотека, Рынок, Транслит, Язык, Транслит, Язык, Alexa Internet, Michael J. Flickinger, Alexa Internet, Michael J. Flickinger, Эмин, Мкртич, Акоп Тохатци, Эмин, Мкртич, Акоп Тохатци, 2009 год в кино, VIAF, 2009 год в кино, VIAF, Транспорт в Нидерландах, Натурализм (литература), Транспорт в Нидерландах, Натурализм (литература), Эрнест Ренан, Энциклопедический словарь Брокгауза и Ефрона, Эрнест Ренан, Энциклопедический словарь Брокгауза и Ефрона, Клинамен, Римская республика, Клинамен, Римская республика, Зелинский, Фаддей Францевич, 1788 год, Зелинский, Фаддей Францевич, 1788 год, Валентина Данииловна Черняк, DAISY, Валентина Данииловна Черняк, DAISY, Библиотека, ФРГ, Библиотека, ФРГ, Иудейское царство, Арабский период истории Палестины, Иудейское царство, Арабский период истории Палестины, Литература Украины, Литература Азербайджана, Литература Украины, Литература Азербайджана, Хомский, Ноам, Коммунизм, Хомский, Ноам, Коммунизм, Тысяча и одна ночь, Сага о Ньяле, Тысяча и одна ночь, Сага о Ньяле, Трансцендентальное, Пиксел-арт, Трансцендентальное, Пиксел-арт, Детектив, Роман-эпопея, Детектив, Роман-эпопея, HTML, Интерактивная книга, HTML, Интерактивная книга, Словарь Ожегова, Лексикографический порядок, Словарь Ожегова, Лексикографический порядок, Тельядо, Корин, Технический писатель, Тельядо, Корин, Технический писатель, Вэньсюань, Бюро национальной безопасности Китайской Республики, Вэньсюань, Бюро национальной безопасности Китайской Республики, Медаль, Лихтенштейнская государственная библиотека, Медаль, Лихтенштейнская государственная библиотека, Телеф (Эсхил), Бассариды (Эсхил), Телеф (Эсхил), Бассариды (Эсхил), Вагиф, Молла Панах, Литература Нидерландов, Вагиф, Молла Панах, Литература Нидерландов, Литература Аландских островов, Мастер и Маргарита, Литература Аландских островов, Мастер и Маргарита, Бард (Средневековье), Интонация (лингвистика), Бард (Средневековье), Интонация (лингвистика), Богаевский, Борис, 1882, Богаевский, Борис, 1882, Национальная библиотека Франции, Springer, Национальная библиотека Франции, Микропроцессор, Веломобиль, Микропроцессор, Веломобиль, Аверкиев, Дмитрий Васильевич, Театр абсурда, Аверкиев, Дмитрий Васильевич, Театр абсурда, Колонии Бельгии, Языки Бельгии, Колонии Бельгии, Языки Бельгии, 1893, 1887 год, 1893, 1887 год, Standard & Poor's, Общая факторная производительность, Standard & Poor's, Общая факторная производительность, Фома Аквинский, Неофашизм, Фома Аквинский, Неофашизм, Немецкая национальная библиотека, Соединённые Штаты Америки, Немецкая национальная библиотека, Соединённые Штаты Америки, Хроники, Романовы, Хроники, Романовы, Философия морали, Герменевтика, Философия морали, Герменевтика, Жак-фаталист и его хозяин, Корнеллский университет, Жак-фаталист и его хозяин, Корнеллский университет, Mathomatic, LabPlot, Mathomatic, LabPlot, Зоология, Коперниковская революция, Зоология, Коперниковская революция, Нормативный контроль, Крымчаки, Нормативный контроль, Крымчаки, Юго-Западная Русь, Государство Рюрика, Юго-Западная Русь, Государство Рюрика, Целий Седулий, Соснецкий, Иван Ермолаевич, Целий Седулий, Соснецкий, Иван Ермолаевич, 3-й Белорусский фронт, Посёлок имени Александра Космодемьянского, 3-й Белорусский фронт, Посёлок имени Александра Космодемьянского, Российская государственная библиотека, Каннинг, Джордж, Российская государственная библиотека, Каннинг, Джордж, 13 января, Лира (музыкальный инструмент), 13 января, Лира (музыкальный инструмент), Иннокентий X, Руслан и Людмила (опера), Иннокентий X, Руслан и Людмила (опера), Движение за независимость Тибета, Правительство Тибета в изгнании, Движение за независимость Тибета, Правительство Тибета в изгнании, Литература Гернси, Наука в Венгрии, Литература Гернси, Наука в Венгрии, Экономический национализм, Диалект, Экономический национализм, Диалект, Альма-матер, Иов Многострадальный, Альма-матер, Иов Многострадальный, Средиземное море, Фетишизм, Средиземное море, Музыка в кинематографе, Музыкальный альбом, Музыка в кинематографе, Музыкальный альбом, Авангардная литература, Д’Аннунцио, Габриэле, Авангардная литература, Д’Аннунцио, Габриэле, ArXiv.org, Guruji.com, ArXiv.org, Guruji.com, Учёная степень, Инфометрия, Учёная степень, Инфометрия, Дифференциальная диагностика, Симптомокомплекс, Дифференциальная диагностика, Симптомокомплекс, Литература Фарерских островов, Литература Греции, Литература Фарерских островов, Литература Греции, Немецкий язык в Чили, Рукопись, Немецкий язык в Чили, Рукопись, Институт научной информации по общественным наукам РАН, Английский язык, Институт научной информации по общественным наукам РАН, Английский язык, Трубадуры, Мур, Томас, Трубадуры, Мур, Томас, Международная федерация библиотечных ассоциаций и учреждений, Электронный журнал, Международная федерация библиотечных ассоциаций и учреждений, Электронный журнал, Андроид, Холодная война, Андроид, Холодная война, 1927, 1995 год в литературе, 1927, 1995 год в литературе, Частушка, Ишмурат, Риза Фахрутдинович, Частушка, Ишмурат, Риза Фахрутдинович, Военная медицина, Гигиена, Военная медицина, Гигиена, Англия, История России, Англия, История России, Праздники Чехии, Витезслав Галек, Праздники Чехии, Витезслав Галек, Ведьма, Ислам, Ведьма, Ислам, Аббасидский халифат, Гянджа, Аббасидский халифат, Гянджа, География Белоруссии, Водоёмы Белоруссии, География Белоруссии, Водоёмы Белоруссии, Каллимах из Кирены, Ефремова, Татьяна Фёдоровна, Каллимах из Кирены, Ефремова, Татьяна Фёдоровна, Страна, Регионоведение, Страна, Регионоведение, Зенкин, Сергей Николаевич, Гринин, Леонид Ефимович, Зенкин, Сергей Николаевич, Гринин, Леонид Ефимович, Удивительный волшебник страны Оз, Лолита (роман), Удивительный волшебник страны Оз, Лолита (роман), Стример, Компьютерный терминал, Стример, Компьютерный терминал, Ручной набор, Акцидентный набор, Ручной набор, Акцидентный набор, Александрийский тип текста, Деяния святых апостолов, Александрийский тип текста, Деяния святых апостолов, Толмазов, Борис Никитич, Шкаровский, Ниссон Адольфович, Толмазов, Борис Никитич, Шкаровский, Ниссон Адольфович, Иван Фёдоров, 1574 год, Иван Фёдоров, 1574 год, Российская Советская Федеративная Социалистическая Республика, Гуковский, Григорий Александрович, Российская Советская Федеративная Социалистическая Республика, Гуковский, Григорий Александрович, Берлиоз, Гектор, Супрематизм, Берлиоз, Гектор, Супрематизм, Линденмайер, Аристид, Энциклопедический словарь Брокгауза и Ефрона, Линденмайер, Аристид, Энциклопедический словарь Брокгауза и Ефрона, Анна Каренина, Литература Италии, Анна Каренина, Литература Италии, Шишмарёв, Владимир Фёдорович, Редакционная коллегия, Шишмарёв, Владимир Фёдорович, Редакционная коллегия, Жамбылский район (Алматинская область), Синельниково, Синельниково, Салерно, Стив, Смайлс, Сэмюэл, Салерно, Стив, Смайлс, Сэмюэл, Список обозначений в физике, Кеплер, Иоганн, Список обозначений в физике, Кеплер, Иоганн, Фильм-биография, Резюме, Фильм-биография, Резюме, Релевантность, VIAF, Релевантность, VIAF, Le Parisien, 6 апреля, Le Parisien, 6 апреля, Михальская, Нина Павловна, Минск, Михальская, Нина Павловна, Минск, Регистр алфавита, Нормативный контроль, Нормативный контроль, Опера, Дизайн, Опера, Дизайн, Пифагор, Архелай (философ), Пифагор, Архелай (философ), Антифат, Писандр (сын Поликтора), Антифат, Прамировой язык, Синтетический язык, Прамировой язык, Синтетический язык, Апофансис, Германия, Апофансис, Германия, Массив (программирование), FAT12, Массив (программирование), FAT12, Сытин, Иван Дмитриевич, Вентцель, Елена Сергеевна, Сытин, Иван Дмитриевич, Вентцель, Елена Сергеевна, Правовая доктрина, Кодекс Наполеона, Правовая доктрина, Кодекс Наполеона, Литература Гондураса, Гроув, Фредерик Филип, Литература Гондураса, Кольридж, Сэмюэл Тейлор, Петрарка, Франческо, Кольридж, Сэмюэл Тейлор, Петрарка, Франческо, Построение с помощью циркуля и линейки, Рациональное уравнение, Построение с помощью циркуля и линейки, Рациональное уравнение, Декадентство, Лец, Станислав Ежи, Декадентство, Лец, Станислав Ежи, CiNii, Энциклопедический словарь Брокгауза и Ефрона, CiNii, Энциклопедический словарь Брокгауза и Ефрона, Фаблио, Виллардуэн, Фаблио, Виллардуэн, Лавров, Пётр Лаврович, Библиографический словарь, Лавров, Пётр Лаврович, Библиографический словарь, Гражданская война в США, Мендель, Грегор Иоганн, Гражданская война в США, Мендель, Грегор Иоганн, Демосфен, Историософия, Демосфен, Историософия, Социалистический интернационал, Хайек, Фридрих Август фон, Социалистический интернационал, Хайек, Фридрих Август фон, 1999 год, Грипп, 1999 год, Грипп, 1811 год, Литература России, 1811 год, Литература России, XVII век, Дворянство, XVII век, Дворянство, Трансгуманизм, Фактология, Трансгуманизм, Фактология, Скидан, Александр Вадимович, Некрасов, Всеволод Николаевич, Скидан, Александр Вадимович, Некрасов, Всеволод Николаевич, Черчмен, Чарльз Уэст, Логика, Черчмен, Чарльз Уэст, Логика\n"
          ],
          "name": "stdout"
        }
      ]
    },
    {
      "cell_type": "code",
      "metadata": {
        "id": "vxbmPOVmmeVq"
      },
      "source": [
        "stopWordsRu = set(stopwords.words(\"russian\"))\n",
        "punctuation = set(string.punctuation + \"—\")\n",
        "\n",
        "def validateWord(word):\n",
        "  if word in stopWordsRu or word in punctuation:\n",
        "    return False\n",
        "  allSymValid = False\n",
        "\n",
        "  for sym in word:\n",
        "    if not sym in punctuation:\n",
        "      allSymValid = True\n",
        "      break\n",
        "\n",
        "  return allSymValid\n",
        "\n",
        "def prepareText(text:str) -> list:\n",
        "  out = []\n",
        "  for word in nltk.word_tokenize(text):\n",
        "    word = word.strip()\n",
        "    if not validateWord(word):\n",
        "      continue\n",
        "    out.append(word.lower())\n",
        "  return out\n",
        "\n",
        "\n",
        "def generateTexts(texts, windowLen, need_prepare = True) -> list:\n",
        "  out = []\n",
        "  for text in tqdm.tqdm_notebook(texts):\n",
        "    byWords = text.split(' ')\n",
        "    for window in range(len(byWords) // windowLen):\n",
        "      textPrepare = \" \".join(byWords[window * windowLen: (window + 1) * windowLen])\n",
        "      if need_prepare :\n",
        "        prepared = prepareText(textPrepare)\n",
        "      else :\n",
        "        prepared = textPrepare\n",
        "        \n",
        "      if windowLen - len(prepared) > 0:\n",
        "        prepared += [\" \"] * ( windowLen - len(prepared))\n",
        "      out.append(prepared)\n",
        "  return out"
      ],
      "id": "vxbmPOVmmeVq",
      "execution_count": 18,
      "outputs": []
    },
    {
      "cell_type": "code",
      "metadata": {
        "id": "P86KGIlRwwCd"
      },
      "source": [
        "sentMaxLen = 300"
      ],
      "id": "P86KGIlRwwCd",
      "execution_count": 19,
      "outputs": []
    },
    {
      "cell_type": "code",
      "metadata": {
        "colab": {
          "base_uri": "https://localhost:8080/",
          "height": 179,
          "referenced_widgets": [
            "080c494e883a4f7db733aa1fceaa8812",
            "c94a456479c24ffea5621f95a9ebc7b2",
            "6f4caaebbfd647698691a279b641f22b",
            "ce726f61174a4d528388163264c6803b",
            "e610a691fde3481c8f1158aaea195632",
            "05f137a5f7614d099b2df83ab2180f5e",
            "662673b140f441ee886ac575ce6165bb",
            "c72379e8f6ca4261912922a1514f3560",
            "4119e59026a34f569797ef308cb19217",
            "87b79204efa44bc4a538f5e663161561",
            "a03bf48fcbf440389e5d5f557dc67bdf",
            "e9cb423abc2046d4837583e57d832bcd",
            "ac3b0d2be7574a93be99fbf1e55fd2fa",
            "a2b72147c36441609013c0b36d78663d",
            "ad214a395d9f44c5a4e6e1fc378010f3",
            "cebd341fa1234c618cfc28143a083e14",
            "d0fc2aa14873474b982d33bf10556a09",
            "d6bc58d7651144bf9d5410a73e7594c8",
            "e600b42829504f12a43886b023a63c36",
            "8e54f657c6d34c128c290164d3a409a0",
            "1485f538d8af4f80b669811568a03782",
            "c81244b1c8c244cfbd483a7b7f758571",
            "a7c5feaf0c4e468b811b3582d3676d77",
            "c3452aa462f047b9bfb830d007b4bd89",
            "7ef669789eb74c3ca0470c8c1892f17c",
            "e492466d1f3a400bbdff4a12e5bcb6c3",
            "7f3d53f2cb5a4601b8c050808294ad63",
            "d623b67d7ec648e08d182f123bdbe21e",
            "fc8b5181ff0e4b63a814a159f5113fb0",
            "e1db692626b34bbba391e1ce98608222",
            "d2f11feff0814d63b74f068c50e02a6d",
            "9f07fa69a11f49df9d6e3d39ae9ab24a",
            "0da11b2b2e944fe69eea45a4a559211e",
            "2363b59319ad4682b6c6a8e25a2e7bfc",
            "b648c02b92e14a2da064611d9bf1cf59",
            "0f8ef06168e84eef9e6b9e9262958a50",
            "3c3cc3c9702e427babfd7a85336fed71",
            "40f234935c044a798e2554bbe220c944",
            "3cf8ee4d01d94c4a912845dec576da12",
            "58d7fa5555ec495c8c4d9c756d971911",
            "76eb3b72bb1d4522b450540da73c0ea5",
            "022c1bf20a8643cf9604a2c5995a050c",
            "0ab402244fb9450ab349a045cc990707",
            "f300e25d87aa41368a0db0bce704efa2"
          ]
        },
        "id": "Zuc_PL2_oPYT",
        "outputId": "e19826c8-cede-4ccf-d6fd-643e1734e45e"
      },
      "source": [
        "prepared = {}\n",
        "for cat in categories :\n",
        "  prepared[cat] = generateTexts(allTexts[cat], sentMaxLen, False)"
      ],
      "id": "Zuc_PL2_oPYT",
      "execution_count": 20,
      "outputs": [
        {
          "output_type": "stream",
          "text": [
            "/usr/local/lib/python3.7/dist-packages/ipykernel_launcher.py:28: TqdmDeprecationWarning: This function will be removed in tqdm==5.0.0\n",
            "Please use `tqdm.notebook.tqdm` instead of `tqdm.tqdm_notebook`\n"
          ],
          "name": "stderr"
        },
        {
          "output_type": "display_data",
          "data": {
            "application/vnd.jupyter.widget-view+json": {
              "model_id": "080c494e883a4f7db733aa1fceaa8812",
              "version_minor": 0,
              "version_major": 2
            },
            "text/plain": [
              "  0%|          | 0/444 [00:00<?, ?it/s]"
            ]
          },
          "metadata": {
            "tags": []
          }
        },
        {
          "output_type": "display_data",
          "data": {
            "application/vnd.jupyter.widget-view+json": {
              "model_id": "e9cb423abc2046d4837583e57d832bcd",
              "version_minor": 0,
              "version_major": 2
            },
            "text/plain": [
              "  0%|          | 0/431 [00:00<?, ?it/s]"
            ]
          },
          "metadata": {
            "tags": []
          }
        },
        {
          "output_type": "display_data",
          "data": {
            "application/vnd.jupyter.widget-view+json": {
              "model_id": "a7c5feaf0c4e468b811b3582d3676d77",
              "version_minor": 0,
              "version_major": 2
            },
            "text/plain": [
              "  0%|          | 0/424 [00:00<?, ?it/s]"
            ]
          },
          "metadata": {
            "tags": []
          }
        },
        {
          "output_type": "display_data",
          "data": {
            "application/vnd.jupyter.widget-view+json": {
              "model_id": "2363b59319ad4682b6c6a8e25a2e7bfc",
              "version_minor": 0,
              "version_major": 2
            },
            "text/plain": [
              "  0%|          | 0/433 [00:00<?, ?it/s]"
            ]
          },
          "metadata": {
            "tags": []
          }
        }
      ]
    },
    {
      "cell_type": "code",
      "metadata": {
        "id": "71W5Ce0Nw_ui"
      },
      "source": [
        "dataFullX = []\n",
        "dataFullY = []\n",
        "\n",
        "for i, cat in enumerate(categories) :\n",
        "  dataFullX += prepared[cat]\n",
        "  dataFullY += len(prepared[cat]) * [[cat == x for x in categories]]\n",
        "\n",
        "dataFullY = np.array(dataFullY)"
      ],
      "id": "71W5Ce0Nw_ui",
      "execution_count": 21,
      "outputs": []
    },
    {
      "cell_type": "code",
      "metadata": {
        "colab": {
          "base_uri": "https://localhost:8080/"
        },
        "id": "iHYa4y4-xCOb",
        "outputId": "f9e25d9a-5e80-4848-eb4c-5a99482fb5ab"
      },
      "source": [
        "len(dataFullX), len(dataFullY)"
      ],
      "id": "iHYa4y4-xCOb",
      "execution_count": 22,
      "outputs": [
        {
          "output_type": "execute_result",
          "data": {
            "text/plain": [
              "(11458, 11458)"
            ]
          },
          "metadata": {
            "tags": []
          },
          "execution_count": 22
        }
      ]
    },
    {
      "cell_type": "code",
      "metadata": {
        "id": "lrJoUOkkui2P"
      },
      "source": [
        "maxWords = 15000\n",
        "tokenizer = Tokenizer(num_words=maxWords, filters=string.punctuation + '!\"#$%&()*+,-./:;<=>?@[\\]^_`{|}~', lower=True)"
      ],
      "id": "lrJoUOkkui2P",
      "execution_count": 23,
      "outputs": []
    },
    {
      "cell_type": "code",
      "metadata": {
        "colab": {
          "base_uri": "https://localhost:8080/"
        },
        "id": "3-YmW-R3WJPJ",
        "outputId": "dfcf9e8d-999b-4605-9ad4-fe1908caa7b0"
      },
      "source": [
        "dataFullX[0], dataFullY[0]"
      ],
      "id": "3-YmW-R3WJPJ",
      "execution_count": 24,
      "outputs": [
        {
          "output_type": "execute_result",
          "data": {
            "text/plain": [
              "('Живо́тные (лат. Animalia) — традиционно (со времён Аристотеля) выделяемая категория организмов, в настоящее время рассматриваемая в качестве биологического царства. Животные являются основным объектом изучения зоологии.\\nЖивотные относятся к эукариотам (в клетках имеются ядра). Классическими признаками животных считаются: гетеротрофность (питание готовыми органическими соединениями) и способность активно передвигаться. Впрочем, существует немало животных, ведущих неподвижный образ жизни, а гетеротрофность свойственна грибам и некоторым растениям-паразитам.\\nРусское слово «животное» образовано от «живот», в прошлом означавшего «жизнь, имущество». В быту под терминами «дикие животные», «домашние животные» часто понимаются только млекопитающие или четвероногие наземные позвоночные (млекопитающие, пресмыкающиеся и земноводные). Однако в науке за термином «животные» закреплено более широкое значение, соответствующее латинскому Animalia (см. выше). В научном смысле к животным, помимо млекопитающих, пресмыкающихся и земноводных, относится огромное множество других организмов: рыбы, птицы, насекомые, паукообразные, моллюски, морские звёзды, черви и другие. Человек также относится к царству животных, отряду плацентарных млекопитающих, приматам, но традиционно изучается отдельно.\\nПри этом ранее к этому царству относили многих гетеротрофных протистов и делили животных на подцарства: одноклеточные Protozoa и многоклеточные Metazoa. Сейчас название «животные» в таксономическом смысле закрепилось за многоклеточными. В таком понимании животные как таксон имеют более определённые признаки — для них характерны оогамия, многотканевое строение, наличие как минимум двух зародышевых листков, стадий бластулы и гаструлы в зародышевом развитии. У подавляющего большинства животных есть мышцы и нервы, а не имеющие их группы — губки, пластинчатые, мезозои, книдоспоридии — возможно, лишились их вторично.\\nВ то же время, в науке термин «животные» иногда предлагается использовать и в ещё более широком значении, подразумевая под животными не таксон, а тип организации — жизненную форму, основанную на подвижности.\\nВ настоящее время (Zhang, 2013) учёными описано более 1,6 млн видов животных (включая более 133 тыс. ископаемых видов; Zhang, 2013), большинство из которых составляют членистоногие (более 1,3 млн видов, 78 %), моллюски (более 118 тыс. видов) и позвоночные (более 42 тыс. видов).\\n\\n\\n== Происхождение животных ==\\nСчитается, что',\n",
              " array([ True, False, False, False]))"
            ]
          },
          "metadata": {
            "tags": []
          },
          "execution_count": 24
        }
      ]
    },
    {
      "cell_type": "code",
      "metadata": {
        "colab": {
          "base_uri": "https://localhost:8080/"
        },
        "id": "xgax4fSszv9Q",
        "outputId": "3180dabf-2340-42d8-caae-347d6f788bfb"
      },
      "source": [
        "tokenizer.fit_on_texts(map(lambda x: \" \".join(x), dataFullX))\n",
        "word_index = tokenizer.word_index\n",
        "print('Found %s unique tokens.' % len(word_index))"
      ],
      "id": "xgax4fSszv9Q",
      "execution_count": 25,
      "outputs": [
        {
          "output_type": "stream",
          "text": [
            "Found 1211 unique tokens.\n"
          ],
          "name": "stdout"
        }
      ]
    },
    {
      "cell_type": "code",
      "metadata": {
        "colab": {
          "base_uri": "https://localhost:8080/"
        },
        "id": "6hZecDXp1fm9",
        "outputId": "368ca768-9750-480d-ebc8-df4ae122427f"
      },
      "source": [
        "X = tokenizer.texts_to_sequences(map(lambda x: \" \".join(x), dataFullX))\n",
        "X = pad_sequences(X, maxlen=sentMaxLen, padding='post', truncating='post')\n",
        "X.shape"
      ],
      "id": "6hZecDXp1fm9",
      "execution_count": 26,
      "outputs": [
        {
          "output_type": "execute_result",
          "data": {
            "text/plain": [
              "(11458, 300)"
            ]
          },
          "metadata": {
            "tags": []
          },
          "execution_count": 26
        }
      ]
    },
    {
      "cell_type": "code",
      "metadata": {
        "colab": {
          "base_uri": "https://localhost:8080/"
        },
        "id": "FAUgsktg1t46",
        "outputId": "de89745a-db89-46e4-dd68-7c04f558f27c"
      },
      "source": [
        "X_train, X_test, Y_train, Y_test = train_test_split(X, dataFullY, test_size = 0.2, shuffle=True, random_state = 42)\n",
        "print(X_train.shape,Y_train.shape)\n",
        "print(X_test.shape,Y_test.shape)"
      ],
      "id": "FAUgsktg1t46",
      "execution_count": 27,
      "outputs": [
        {
          "output_type": "stream",
          "text": [
            "(9166, 300) (9166, 4)\n",
            "(2292, 300) (2292, 4)\n"
          ],
          "name": "stdout"
        }
      ]
    },
    {
      "cell_type": "markdown",
      "metadata": {
        "id": "vsOFsVmgSlPH"
      },
      "source": [
        "## LSTM model"
      ],
      "id": "vsOFsVmgSlPH"
    },
    {
      "cell_type": "code",
      "metadata": {
        "id": "7xYKgWGHQqsN"
      },
      "source": [
        "embDim = 128"
      ],
      "id": "7xYKgWGHQqsN",
      "execution_count": 22,
      "outputs": []
    },
    {
      "cell_type": "code",
      "metadata": {
        "id": "KSD2ZWjN20i7"
      },
      "source": [
        "model = Sequential([\n",
        "                    Embedding(maxWords, embDim, input_length=X.shape[1]),\n",
        "                    SpatialDropout1D(0.2),\n",
        "                    LSTM(64, kernel_regularizer=l1_l2(0.0005)),\n",
        "                    Dropout(0.2),\n",
        "                    Dense(Y_test.shape[1], activation='softmax')\n",
        "])\n",
        "model.compile(loss='categorical_crossentropy', optimizer=Adam(0.001), metrics=['accuracy'])"
      ],
      "id": "KSD2ZWjN20i7",
      "execution_count": 38,
      "outputs": []
    },
    {
      "cell_type": "code",
      "metadata": {
        "colab": {
          "base_uri": "https://localhost:8080/"
        },
        "id": "u5JVxjZk_Qgc",
        "outputId": "b12f5451-0008-476f-9b6c-a5b48563c651"
      },
      "source": [
        "model.summary()\n"
      ],
      "id": "u5JVxjZk_Qgc",
      "execution_count": 39,
      "outputs": [
        {
          "output_type": "stream",
          "text": [
            "Model: \"sequential_3\"\n",
            "_________________________________________________________________\n",
            "Layer (type)                 Output Shape              Param #   \n",
            "=================================================================\n",
            "embedding_3 (Embedding)      (None, 300, 128)          1920000   \n",
            "_________________________________________________________________\n",
            "spatial_dropout1d_3 (Spatial (None, 300, 128)          0         \n",
            "_________________________________________________________________\n",
            "lstm_3 (LSTM)                (None, 64)                49408     \n",
            "_________________________________________________________________\n",
            "dropout_3 (Dropout)          (None, 64)                0         \n",
            "_________________________________________________________________\n",
            "dense_3 (Dense)              (None, 4)                 260       \n",
            "=================================================================\n",
            "Total params: 1,969,668\n",
            "Trainable params: 1,969,668\n",
            "Non-trainable params: 0\n",
            "_________________________________________________________________\n"
          ],
          "name": "stdout"
        }
      ]
    },
    {
      "cell_type": "code",
      "metadata": {
        "id": "PkiwixzbR-1u"
      },
      "source": [
        "epochs = 100\n",
        "batch_size = 512"
      ],
      "id": "PkiwixzbR-1u",
      "execution_count": 40,
      "outputs": []
    },
    {
      "cell_type": "code",
      "metadata": {
        "colab": {
          "base_uri": "https://localhost:8080/"
        },
        "id": "wxob1eIBQnTX",
        "outputId": "213ee897-fc82-4402-a1b6-a0634ecb2bc6"
      },
      "source": [
        "def scheduler(epoch, lr):\n",
        "  if epoch < 90:\n",
        "    return lr\n",
        "  else:\n",
        "    return lr / 1.7\n",
        "history = model.fit(X_train,\n",
        "                    Y_train,\n",
        "                    epochs=epochs,\n",
        "                    batch_size=batch_size,\n",
        "                    validation_split=0.1,\n",
        "                    callbacks=[\n",
        "                            keras.callbacks.LearningRateScheduler(scheduler)  \n",
        "                    ])"
      ],
      "id": "wxob1eIBQnTX",
      "execution_count": 41,
      "outputs": [
        {
          "output_type": "stream",
          "text": [
            "Epoch 1/100\n",
            "17/17 [==============================] - 4s 113ms/step - loss: 3.8920 - accuracy: 0.2966 - val_loss: 3.2594 - val_accuracy: 0.2672\n",
            "Epoch 2/100\n",
            "17/17 [==============================] - 1s 74ms/step - loss: 3.0818 - accuracy: 0.3131 - val_loss: 2.6260 - val_accuracy: 0.2704\n",
            "Epoch 3/100\n",
            "17/17 [==============================] - 1s 76ms/step - loss: 2.4995 - accuracy: 0.3166 - val_loss: 2.1799 - val_accuracy: 0.2737\n",
            "Epoch 4/100\n",
            "17/17 [==============================] - 1s 76ms/step - loss: 2.0905 - accuracy: 0.3077 - val_loss: 1.8869 - val_accuracy: 0.2628\n",
            "Epoch 5/100\n",
            "17/17 [==============================] - 1s 76ms/step - loss: 1.8260 - accuracy: 0.2791 - val_loss: 1.6765 - val_accuracy: 0.2737\n",
            "Epoch 6/100\n",
            "17/17 [==============================] - 1s 74ms/step - loss: 1.6365 - accuracy: 0.3075 - val_loss: 1.5448 - val_accuracy: 0.2704\n",
            "Epoch 7/100\n",
            "17/17 [==============================] - 1s 76ms/step - loss: 1.5158 - accuracy: 0.3125 - val_loss: 1.4604 - val_accuracy: 0.2748\n",
            "Epoch 8/100\n",
            "17/17 [==============================] - 1s 76ms/step - loss: 1.4538 - accuracy: 0.2912 - val_loss: 1.4409 - val_accuracy: 0.2465\n",
            "Epoch 9/100\n",
            "17/17 [==============================] - 1s 76ms/step - loss: 1.4294 - accuracy: 0.2351 - val_loss: 1.4033 - val_accuracy: 0.2890\n",
            "Epoch 10/100\n",
            "17/17 [==============================] - 1s 75ms/step - loss: 1.3979 - accuracy: 0.3063 - val_loss: 1.3890 - val_accuracy: 0.2715\n",
            "Epoch 11/100\n",
            "17/17 [==============================] - 1s 77ms/step - loss: 1.3862 - accuracy: 0.3131 - val_loss: 1.3844 - val_accuracy: 0.2683\n",
            "Epoch 12/100\n",
            "17/17 [==============================] - 1s 75ms/step - loss: 1.3820 - accuracy: 0.3092 - val_loss: 1.3825 - val_accuracy: 0.2683\n",
            "Epoch 13/100\n",
            "17/17 [==============================] - 1s 75ms/step - loss: 1.3800 - accuracy: 0.3074 - val_loss: 1.3817 - val_accuracy: 0.2694\n",
            "Epoch 14/100\n",
            "17/17 [==============================] - 1s 75ms/step - loss: 1.3781 - accuracy: 0.3133 - val_loss: 1.3816 - val_accuracy: 0.2683\n",
            "Epoch 15/100\n",
            "17/17 [==============================] - 1s 76ms/step - loss: 1.3764 - accuracy: 0.3056 - val_loss: 1.3808 - val_accuracy: 0.2715\n",
            "Epoch 16/100\n",
            "17/17 [==============================] - 1s 77ms/step - loss: 1.3714 - accuracy: 0.3164 - val_loss: 1.3820 - val_accuracy: 0.2966\n",
            "Epoch 17/100\n",
            "17/17 [==============================] - 1s 78ms/step - loss: 1.3922 - accuracy: 0.2762 - val_loss: 1.3950 - val_accuracy: 0.2824\n",
            "Epoch 18/100\n",
            "17/17 [==============================] - 1s 78ms/step - loss: 1.3861 - accuracy: 0.3125 - val_loss: 1.3861 - val_accuracy: 0.2704\n",
            "Epoch 19/100\n",
            "17/17 [==============================] - 1s 78ms/step - loss: 1.3821 - accuracy: 0.3067 - val_loss: 1.3834 - val_accuracy: 0.2694\n",
            "Epoch 20/100\n",
            "17/17 [==============================] - 1s 78ms/step - loss: 1.3772 - accuracy: 0.3105 - val_loss: 1.3827 - val_accuracy: 0.2704\n",
            "Epoch 21/100\n",
            "17/17 [==============================] - 1s 79ms/step - loss: 1.3762 - accuracy: 0.3052 - val_loss: 1.3824 - val_accuracy: 0.2694\n",
            "Epoch 22/100\n",
            "17/17 [==============================] - 1s 78ms/step - loss: 1.3768 - accuracy: 0.3065 - val_loss: 1.3817 - val_accuracy: 0.2704\n",
            "Epoch 23/100\n",
            "17/17 [==============================] - 1s 78ms/step - loss: 1.3737 - accuracy: 0.3130 - val_loss: 1.3817 - val_accuracy: 0.2704\n",
            "Epoch 24/100\n",
            "17/17 [==============================] - 1s 78ms/step - loss: 1.3753 - accuracy: 0.3019 - val_loss: 1.3809 - val_accuracy: 0.2726\n",
            "Epoch 25/100\n",
            "17/17 [==============================] - 1s 76ms/step - loss: 1.3726 - accuracy: 0.3122 - val_loss: 1.3804 - val_accuracy: 0.2715\n",
            "Epoch 26/100\n",
            "17/17 [==============================] - 1s 77ms/step - loss: 1.3728 - accuracy: 0.3151 - val_loss: 1.3803 - val_accuracy: 0.2726\n",
            "Epoch 27/100\n",
            "17/17 [==============================] - 1s 77ms/step - loss: 1.3723 - accuracy: 0.3096 - val_loss: 1.3797 - val_accuracy: 0.2726\n",
            "Epoch 28/100\n",
            "17/17 [==============================] - 1s 78ms/step - loss: 1.3696 - accuracy: 0.3228 - val_loss: 1.3796 - val_accuracy: 0.2726\n",
            "Epoch 29/100\n",
            "17/17 [==============================] - 1s 78ms/step - loss: 1.3708 - accuracy: 0.3083 - val_loss: 1.3778 - val_accuracy: 0.2737\n",
            "Epoch 30/100\n",
            "17/17 [==============================] - 1s 77ms/step - loss: 1.3696 - accuracy: 0.3112 - val_loss: 1.3775 - val_accuracy: 0.2770\n",
            "Epoch 31/100\n",
            "17/17 [==============================] - 1s 78ms/step - loss: 1.3655 - accuracy: 0.3206 - val_loss: 1.3658 - val_accuracy: 0.2868\n",
            "Epoch 32/100\n",
            "17/17 [==============================] - 1s 76ms/step - loss: 1.3586 - accuracy: 0.3253 - val_loss: 1.3676 - val_accuracy: 0.2846\n",
            "Epoch 33/100\n",
            "17/17 [==============================] - 1s 78ms/step - loss: 1.3547 - accuracy: 0.3393 - val_loss: 1.3628 - val_accuracy: 0.3032\n",
            "Epoch 34/100\n",
            "17/17 [==============================] - 1s 77ms/step - loss: 1.3387 - accuracy: 0.3599 - val_loss: 1.3455 - val_accuracy: 0.3228\n",
            "Epoch 35/100\n",
            "17/17 [==============================] - 1s 76ms/step - loss: 1.3235 - accuracy: 0.3707 - val_loss: 1.3321 - val_accuracy: 0.3239\n",
            "Epoch 36/100\n",
            "17/17 [==============================] - 1s 76ms/step - loss: 1.3209 - accuracy: 0.3687 - val_loss: 1.3452 - val_accuracy: 0.3064\n",
            "Epoch 37/100\n",
            "17/17 [==============================] - 1s 75ms/step - loss: 1.3221 - accuracy: 0.3796 - val_loss: 1.3362 - val_accuracy: 0.3206\n",
            "Epoch 38/100\n",
            "17/17 [==============================] - 1s 77ms/step - loss: 1.3156 - accuracy: 0.3778 - val_loss: 1.3239 - val_accuracy: 0.3293\n",
            "Epoch 39/100\n",
            "17/17 [==============================] - 1s 76ms/step - loss: 1.3117 - accuracy: 0.3795 - val_loss: 1.3311 - val_accuracy: 0.3293\n",
            "Epoch 40/100\n",
            "17/17 [==============================] - 1s 77ms/step - loss: 1.3285 - accuracy: 0.3705 - val_loss: 1.3519 - val_accuracy: 0.3206\n",
            "Epoch 41/100\n",
            "17/17 [==============================] - 1s 77ms/step - loss: 1.3200 - accuracy: 0.3844 - val_loss: 1.3401 - val_accuracy: 0.3162\n",
            "Epoch 42/100\n",
            "17/17 [==============================] - 1s 77ms/step - loss: 1.3197 - accuracy: 0.3680 - val_loss: 1.3512 - val_accuracy: 0.3043\n",
            "Epoch 43/100\n",
            "17/17 [==============================] - 1s 77ms/step - loss: 1.3741 - accuracy: 0.3199 - val_loss: 1.3703 - val_accuracy: 0.2901\n",
            "Epoch 44/100\n",
            "17/17 [==============================] - 1s 76ms/step - loss: 1.3661 - accuracy: 0.3270 - val_loss: 1.3667 - val_accuracy: 0.3053\n",
            "Epoch 45/100\n",
            "17/17 [==============================] - 1s 77ms/step - loss: 1.3544 - accuracy: 0.3428 - val_loss: 1.3611 - val_accuracy: 0.3108\n",
            "Epoch 46/100\n",
            "17/17 [==============================] - 1s 76ms/step - loss: 1.3247 - accuracy: 0.3713 - val_loss: 1.3383 - val_accuracy: 0.3184\n",
            "Epoch 47/100\n",
            "17/17 [==============================] - 1s 76ms/step - loss: 1.3119 - accuracy: 0.3806 - val_loss: 1.3294 - val_accuracy: 0.3195\n",
            "Epoch 48/100\n",
            "17/17 [==============================] - 1s 76ms/step - loss: 1.3040 - accuracy: 0.3763 - val_loss: 1.3430 - val_accuracy: 0.3162\n",
            "Epoch 49/100\n",
            "17/17 [==============================] - 1s 76ms/step - loss: 1.3319 - accuracy: 0.3662 - val_loss: 1.3632 - val_accuracy: 0.3130\n",
            "Epoch 50/100\n",
            "17/17 [==============================] - 1s 77ms/step - loss: 1.3263 - accuracy: 0.3621 - val_loss: 1.3503 - val_accuracy: 0.3141\n",
            "Epoch 51/100\n",
            "17/17 [==============================] - 1s 77ms/step - loss: 1.3182 - accuracy: 0.3683 - val_loss: 1.3303 - val_accuracy: 0.3272\n",
            "Epoch 52/100\n",
            "17/17 [==============================] - 1s 76ms/step - loss: 1.3012 - accuracy: 0.3837 - val_loss: 1.3299 - val_accuracy: 0.3195\n",
            "Epoch 53/100\n",
            "17/17 [==============================] - 1s 76ms/step - loss: 1.2960 - accuracy: 0.3837 - val_loss: 1.3277 - val_accuracy: 0.3184\n",
            "Epoch 54/100\n",
            "17/17 [==============================] - 1s 75ms/step - loss: 1.2976 - accuracy: 0.3818 - val_loss: 1.3326 - val_accuracy: 0.3272\n",
            "Epoch 55/100\n",
            "17/17 [==============================] - 1s 75ms/step - loss: 1.2901 - accuracy: 0.3963 - val_loss: 1.3366 - val_accuracy: 0.3217\n",
            "Epoch 56/100\n",
            "17/17 [==============================] - 1s 75ms/step - loss: 1.3071 - accuracy: 0.3790 - val_loss: 1.4068 - val_accuracy: 0.3021\n",
            "Epoch 57/100\n",
            "17/17 [==============================] - 1s 75ms/step - loss: 1.3129 - accuracy: 0.3795 - val_loss: 1.3549 - val_accuracy: 0.3173\n",
            "Epoch 58/100\n",
            "17/17 [==============================] - 1s 77ms/step - loss: 1.2998 - accuracy: 0.3779 - val_loss: 1.3275 - val_accuracy: 0.3141\n",
            "Epoch 59/100\n",
            "17/17 [==============================] - 1s 76ms/step - loss: 1.2944 - accuracy: 0.3862 - val_loss: 1.3197 - val_accuracy: 0.3282\n",
            "Epoch 60/100\n",
            "17/17 [==============================] - 1s 76ms/step - loss: 1.2970 - accuracy: 0.3784 - val_loss: 1.4026 - val_accuracy: 0.3228\n",
            "Epoch 61/100\n",
            "17/17 [==============================] - 1s 76ms/step - loss: 1.3349 - accuracy: 0.3744 - val_loss: 1.3286 - val_accuracy: 0.3326\n",
            "Epoch 62/100\n",
            "17/17 [==============================] - 1s 77ms/step - loss: 1.3056 - accuracy: 0.3746 - val_loss: 1.3272 - val_accuracy: 0.3173\n",
            "Epoch 63/100\n",
            "17/17 [==============================] - 1s 76ms/step - loss: 1.2903 - accuracy: 0.3920 - val_loss: 1.3185 - val_accuracy: 0.3261\n",
            "Epoch 64/100\n",
            "17/17 [==============================] - 1s 76ms/step - loss: 1.2859 - accuracy: 0.3878 - val_loss: 1.3256 - val_accuracy: 0.3239\n",
            "Epoch 65/100\n",
            "17/17 [==============================] - 1s 76ms/step - loss: 1.3106 - accuracy: 0.3733 - val_loss: 1.3343 - val_accuracy: 0.3206\n",
            "Epoch 66/100\n",
            "17/17 [==============================] - 1s 78ms/step - loss: 1.2889 - accuracy: 0.3951 - val_loss: 1.3257 - val_accuracy: 0.3239\n",
            "Epoch 67/100\n",
            "17/17 [==============================] - 1s 78ms/step - loss: 1.2993 - accuracy: 0.3758 - val_loss: 1.3651 - val_accuracy: 0.3250\n",
            "Epoch 68/100\n",
            "17/17 [==============================] - 1s 78ms/step - loss: 1.2995 - accuracy: 0.3913 - val_loss: 1.3211 - val_accuracy: 0.3228\n",
            "Epoch 69/100\n",
            "17/17 [==============================] - 1s 78ms/step - loss: 1.2813 - accuracy: 0.3946 - val_loss: 1.3757 - val_accuracy: 0.3250\n",
            "Epoch 70/100\n",
            "17/17 [==============================] - 1s 77ms/step - loss: 1.3382 - accuracy: 0.3796 - val_loss: 1.3646 - val_accuracy: 0.3239\n",
            "Epoch 71/100\n",
            "17/17 [==============================] - 1s 78ms/step - loss: 1.3418 - accuracy: 0.3629 - val_loss: 1.3496 - val_accuracy: 0.3250\n",
            "Epoch 72/100\n",
            "17/17 [==============================] - 1s 77ms/step - loss: 1.3074 - accuracy: 0.3940 - val_loss: 1.3312 - val_accuracy: 0.3228\n",
            "Epoch 73/100\n",
            "17/17 [==============================] - 1s 78ms/step - loss: 1.3069 - accuracy: 0.3843 - val_loss: 1.3421 - val_accuracy: 0.3184\n",
            "Epoch 74/100\n",
            "17/17 [==============================] - 1s 79ms/step - loss: 1.3081 - accuracy: 0.3846 - val_loss: 1.3501 - val_accuracy: 0.3228\n",
            "Epoch 75/100\n",
            "17/17 [==============================] - 1s 79ms/step - loss: 1.3070 - accuracy: 0.3771 - val_loss: 1.3368 - val_accuracy: 0.3217\n",
            "Epoch 76/100\n",
            "17/17 [==============================] - 1s 79ms/step - loss: 1.2884 - accuracy: 0.3952 - val_loss: 1.3221 - val_accuracy: 0.3228\n",
            "Epoch 77/100\n",
            "17/17 [==============================] - 1s 78ms/step - loss: 1.2940 - accuracy: 0.3861 - val_loss: 1.3471 - val_accuracy: 0.3293\n",
            "Epoch 78/100\n",
            "17/17 [==============================] - 1s 77ms/step - loss: 1.3089 - accuracy: 0.3832 - val_loss: 1.3655 - val_accuracy: 0.3261\n",
            "Epoch 79/100\n",
            "17/17 [==============================] - 1s 78ms/step - loss: 1.3035 - accuracy: 0.3864 - val_loss: 1.3378 - val_accuracy: 0.3272\n",
            "Epoch 80/100\n",
            "17/17 [==============================] - 1s 77ms/step - loss: 1.3004 - accuracy: 0.3887 - val_loss: 1.3276 - val_accuracy: 0.3250\n",
            "Epoch 81/100\n",
            "17/17 [==============================] - 1s 77ms/step - loss: 1.2970 - accuracy: 0.3879 - val_loss: 1.3241 - val_accuracy: 0.3217\n",
            "Epoch 82/100\n",
            "17/17 [==============================] - 1s 78ms/step - loss: 1.2865 - accuracy: 0.3905 - val_loss: 1.3265 - val_accuracy: 0.3228\n",
            "Epoch 83/100\n",
            "17/17 [==============================] - 1s 78ms/step - loss: 1.2837 - accuracy: 0.3942 - val_loss: 1.3214 - val_accuracy: 0.3261\n",
            "Epoch 84/100\n",
            "17/17 [==============================] - 1s 79ms/step - loss: 1.2787 - accuracy: 0.3972 - val_loss: 1.3380 - val_accuracy: 0.3304\n",
            "Epoch 85/100\n",
            "17/17 [==============================] - 1s 79ms/step - loss: 1.3068 - accuracy: 0.3828 - val_loss: 1.3307 - val_accuracy: 0.3272\n",
            "Epoch 86/100\n",
            "17/17 [==============================] - 1s 78ms/step - loss: 1.2921 - accuracy: 0.3879 - val_loss: 1.3236 - val_accuracy: 0.3184\n",
            "Epoch 87/100\n",
            "17/17 [==============================] - 1s 77ms/step - loss: 1.2826 - accuracy: 0.3909 - val_loss: 1.3257 - val_accuracy: 0.3239\n",
            "Epoch 88/100\n",
            "17/17 [==============================] - 1s 77ms/step - loss: 1.2921 - accuracy: 0.3883 - val_loss: 1.3245 - val_accuracy: 0.3261\n",
            "Epoch 89/100\n",
            "17/17 [==============================] - 1s 78ms/step - loss: 1.2972 - accuracy: 0.3796 - val_loss: 1.3277 - val_accuracy: 0.3206\n",
            "Epoch 90/100\n",
            "17/17 [==============================] - 1s 77ms/step - loss: 1.2869 - accuracy: 0.3920 - val_loss: 1.3724 - val_accuracy: 0.3326\n",
            "Epoch 91/100\n",
            "17/17 [==============================] - 1s 77ms/step - loss: 1.2937 - accuracy: 0.3897 - val_loss: 1.3231 - val_accuracy: 0.3261\n",
            "Epoch 92/100\n",
            "17/17 [==============================] - 1s 76ms/step - loss: 1.2813 - accuracy: 0.3904 - val_loss: 1.3191 - val_accuracy: 0.3228\n",
            "Epoch 93/100\n",
            "17/17 [==============================] - 1s 76ms/step - loss: 1.2798 - accuracy: 0.3870 - val_loss: 1.3188 - val_accuracy: 0.3348\n",
            "Epoch 94/100\n",
            "17/17 [==============================] - 1s 76ms/step - loss: 1.2719 - accuracy: 0.3951 - val_loss: 1.3241 - val_accuracy: 0.3250\n",
            "Epoch 95/100\n",
            "17/17 [==============================] - 1s 76ms/step - loss: 1.2702 - accuracy: 0.3985 - val_loss: 1.3176 - val_accuracy: 0.3195\n",
            "Epoch 96/100\n",
            "17/17 [==============================] - 1s 78ms/step - loss: 1.2719 - accuracy: 0.3898 - val_loss: 1.3201 - val_accuracy: 0.3217\n",
            "Epoch 97/100\n",
            "17/17 [==============================] - 1s 77ms/step - loss: 1.2751 - accuracy: 0.3886 - val_loss: 1.3190 - val_accuracy: 0.3239\n",
            "Epoch 98/100\n",
            "17/17 [==============================] - 1s 77ms/step - loss: 1.2756 - accuracy: 0.3951 - val_loss: 1.3192 - val_accuracy: 0.3239\n",
            "Epoch 99/100\n",
            "17/17 [==============================] - 1s 77ms/step - loss: 1.2732 - accuracy: 0.3957 - val_loss: 1.3194 - val_accuracy: 0.3228\n",
            "Epoch 100/100\n",
            "17/17 [==============================] - 1s 76ms/step - loss: 1.2628 - accuracy: 0.3930 - val_loss: 1.3193 - val_accuracy: 0.3228\n"
          ],
          "name": "stdout"
        }
      ]
    },
    {
      "cell_type": "code",
      "metadata": {
        "id": "YBs9P954k5dU",
        "colab": {
          "base_uri": "https://localhost:8080/"
        },
        "outputId": "6c2f0f66-a8fb-48f6-dd61-a77a6a1f2e54"
      },
      "source": [
        "model.evaluate(X_test, Y_test)"
      ],
      "id": "YBs9P954k5dU",
      "execution_count": 27,
      "outputs": [
        {
          "output_type": "stream",
          "text": [
            "72/72 [==============================] - 1s 8ms/step - loss: 1.3900 - accuracy: 0.2723\n"
          ],
          "name": "stdout"
        },
        {
          "output_type": "execute_result",
          "data": {
            "text/plain": [
              "[1.3899788856506348, 0.27225130796432495]"
            ]
          },
          "metadata": {
            "tags": []
          },
          "execution_count": 27
        }
      ]
    },
    {
      "cell_type": "code",
      "metadata": {
        "id": "DUVZ8HbQk_0J"
      },
      "source": [
        "predictions = model.predict(X_test)\n",
        "predictions = np.argmax(predictions, 1)\n",
        "y_val = np.argmax(Y_test, 1)"
      ],
      "id": "DUVZ8HbQk_0J",
      "execution_count": 28,
      "outputs": []
    },
    {
      "cell_type": "code",
      "metadata": {
        "colab": {
          "base_uri": "https://localhost:8080/",
          "height": 0
        },
        "id": "2jjr738wLv-c",
        "outputId": "5c93dd37-8c8a-4f9c-d91d-368d4d1a9a0d"
      },
      "source": [
        "import torch\n",
        "save_path = '/content/drive/MyDrive/DATAS/AIIJC'\n",
        "torch.save(model.state_dict(), save_path + '/lstm_model.pt')"
      ],
      "id": "2jjr738wLv-c",
      "execution_count": 29,
      "outputs": [
        {
          "output_type": "error",
          "ename": "NameError",
          "evalue": "ignored",
          "traceback": [
            "\u001b[0;31m---------------------------------------------------------------------------\u001b[0m",
            "\u001b[0;31mNameError\u001b[0m                                 Traceback (most recent call last)",
            "\u001b[0;32m<ipython-input-29-11c1e1587571>\u001b[0m in \u001b[0;36m<module>\u001b[0;34m()\u001b[0m\n\u001b[1;32m      1\u001b[0m \u001b[0msave_path\u001b[0m \u001b[0;34m=\u001b[0m \u001b[0;34m'/content/drive/MyDrive/DATAS/AIIJC'\u001b[0m\u001b[0;34m\u001b[0m\u001b[0;34m\u001b[0m\u001b[0m\n\u001b[0;32m----> 2\u001b[0;31m \u001b[0mtorch\u001b[0m\u001b[0;34m.\u001b[0m\u001b[0msave\u001b[0m\u001b[0;34m(\u001b[0m\u001b[0mmodel\u001b[0m\u001b[0;34m.\u001b[0m\u001b[0mstate_dict\u001b[0m\u001b[0;34m(\u001b[0m\u001b[0;34m)\u001b[0m\u001b[0;34m,\u001b[0m \u001b[0msave_path\u001b[0m \u001b[0;34m+\u001b[0m \u001b[0;34m'/lstm_model'\u001b[0m\u001b[0;34m)\u001b[0m\u001b[0;34m\u001b[0m\u001b[0;34m\u001b[0m\u001b[0m\n\u001b[0m",
            "\u001b[0;31mNameError\u001b[0m: name 'torch' is not defined"
          ]
        }
      ]
    },
    {
      "cell_type": "markdown",
      "metadata": {
        "id": "I4kWSGE0UQ0S"
      },
      "source": [
        "## Bert model"
      ],
      "id": "I4kWSGE0UQ0S"
    },
    {
      "cell_type": "code",
      "metadata": {
        "id": "XF0rcHhLUU5T"
      },
      "source": [
        "!pip install transformers -q\n",
        "!pip install tensorboardx -q\n",
        "!pip install simpletransformers -q"
      ],
      "id": "XF0rcHhLUU5T",
      "execution_count": 28,
      "outputs": []
    },
    {
      "cell_type": "code",
      "metadata": {
        "id": "ttAAfkQUVy5m"
      },
      "source": [
        "dataFullX = ['[CLS] ' + el for el in dataFullX]\n",
        "dataFullY = np.argmax(dataFullY, axis = 1)\n",
        "X_train, X_test, Y_train, Y_test = train_test_split(dataFullX, dataFullY, test_size = 0.2, shuffle=True, random_state=42)"
      ],
      "id": "ttAAfkQUVy5m",
      "execution_count": 29,
      "outputs": []
    },
    {
      "cell_type": "code",
      "metadata": {
        "colab": {
          "base_uri": "https://localhost:8080/"
        },
        "id": "SEEIW2FwVv1L",
        "outputId": "07d2ac43-3ed2-4791-b75d-0310e1e2af26"
      },
      "source": [
        "import pandas as pd\n",
        "\n",
        "train_df = pd.DataFrame({\n",
        "    'text': X_train,\n",
        "    'labels':Y_train\n",
        "})\n",
        "\n",
        "print(train_df.head())\n",
        "\n",
        "eval_df = pd.DataFrame({\n",
        "    'text': X_test,\n",
        "    'labels': Y_test\n",
        "})\n",
        "\n",
        "print(eval_df.head())"
      ],
      "id": "SEEIW2FwVv1L",
      "execution_count": 30,
      "outputs": [
        {
          "output_type": "stream",
          "text": [
            "                                                text  labels\n",
            "0  [CLS] и названия вида (видового эпитета). До Л...       0\n",
            "1  [CLS] Гера, поддавшись либо уговорам Артемиды,...       2\n",
            "2  [CLS] Э́ссен (нем. Essen [ˈɛsən]) — город земе...       3\n",
            "3  [CLS] трудовые операции или ритуальная пляска,...       3\n",
            "4  [CLS] Эхо́ (др.-греч. Ἠχώ) — персонаж древнегр...       2\n",
            "                                                text  labels\n",
            "0  [CLS] говорит о триединстве декаданса, символи...       3\n",
            "1  [CLS] нескольких делений ядра без деления клет...       0\n",
            "2  [CLS] префиксов DOI, регистрации DOI для объек...       0\n",
            "3  [CLS] местах. Современная программа взрослых ч...       2\n",
            "4  [CLS] Дворя́нство — привилегированное сословие...       3\n"
          ],
          "name": "stdout"
        }
      ]
    },
    {
      "cell_type": "code",
      "metadata": {
        "colab": {
          "base_uri": "https://localhost:8080/"
        },
        "id": "_vPmBEinhohr",
        "outputId": "f68f1498-9a09-4ab1-dc37-06956ffc2043"
      },
      "source": [
        "from simpletransformers.classification import ClassificationModel, ClassificationArgs\n",
        "model_args = ClassificationArgs(learning_rate = 1e-5,\n",
        "                                num_train_epochs = 3,\n",
        "                                #adam_epsilon = 1e-8,\n",
        "                                #warmup_proportion = 0.1,\n",
        "                                #weight_decay = 0.01,\n",
        "                                #load_best_model_at_end = True,\n",
        "                                best_model_dir = save_path + '/bert',\n",
        "                                #metric_for_best_model = 'matthews_correlation',\n",
        "                                train_batch_size = 16,\n",
        "                                manual_seed = 42\n",
        "                                )\n",
        "\n",
        "model = ClassificationModel('bert', 'bert-base-multilingual-cased', num_labels=4, args=model_args, use_cuda=True)"
      ],
      "id": "_vPmBEinhohr",
      "execution_count": 31,
      "outputs": [
        {
          "output_type": "stream",
          "text": [
            "Some weights of the model checkpoint at bert-base-multilingual-cased were not used when initializing BertForSequenceClassification: ['cls.predictions.decoder.weight', 'cls.seq_relationship.weight', 'cls.predictions.bias', 'cls.seq_relationship.bias', 'cls.predictions.transform.LayerNorm.weight', 'cls.predictions.transform.LayerNorm.bias', 'cls.predictions.transform.dense.bias', 'cls.predictions.transform.dense.weight']\n",
            "- This IS expected if you are initializing BertForSequenceClassification from the checkpoint of a model trained on another task or with another architecture (e.g. initializing a BertForSequenceClassification model from a BertForPreTraining model).\n",
            "- This IS NOT expected if you are initializing BertForSequenceClassification from the checkpoint of a model that you expect to be exactly identical (initializing a BertForSequenceClassification model from a BertForSequenceClassification model).\n",
            "Some weights of BertForSequenceClassification were not initialized from the model checkpoint at bert-base-multilingual-cased and are newly initialized: ['classifier.weight', 'classifier.bias']\n",
            "You should probably TRAIN this model on a down-stream task to be able to use it for predictions and inference.\n"
          ],
          "name": "stderr"
        }
      ]
    },
    {
      "cell_type": "code",
      "metadata": {
        "colab": {
          "base_uri": "https://localhost:8080/",
          "height": 249,
          "referenced_widgets": [
            "42ff3352102149b18497ee05be2f8e88",
            "a729e98a03f843bca7e96889c85c2610",
            "79cddabcb3aa4087954ee7d9cf4399c8",
            "45cc92472dee4ef1b933716ac1953767",
            "19f2b14e9caa4a938165919a0dfcdaf4",
            "b8e474e40a3847b8bea1ddcfce81e6bf",
            "3c957e43f624459fa0610e8b676009b1",
            "7d8ba18f584045a88f67ab46837589ca",
            "762808c0022e43d5973a80c8ed8bab01",
            "1cfb6ee0009c40d7bc798ef00ea09b5e",
            "3010a35ed3d745549f6d483c848ba39d",
            "8b1b19e6edd2446e9d205280f66e211b",
            "74d0c746696f453097f457ab6147d9c4",
            "7286bd063bf545a0a8d38cae926b77d8",
            "44e47217ac2b41bfbc8c150749bd0fdc",
            "741cbeca141947ab85c2223ce51ca10a",
            "db3167d3526d485590baec0895295512",
            "086108a493814f5681aedbed9489eae6",
            "75e87e54e2ad410dba1c41bb9d00762b",
            "6624c922348e41b08127416d86a8bfe2",
            "7388a9c0aa2b4fa5a7a0a9a9ba129a60",
            "d22b8b113e244b37b320698fd36e54a3",
            "23fe19bfa2ad4bca88a60f520c06f960",
            "60f9fdd4001a405ca645d21eea08af2e",
            "bac4e4ab9bb3496e986a0a9cd9d9168b",
            "805f3c05df8f407abd21c69f13ebc322",
            "3bde06311f79444591348052f458b9dc",
            "dd579f5bfa804ac197d8ba7657b94e61",
            "9f5cd2b4af514261b6e1c037c975cf16",
            "86f8b67e650e440ca154f6c6b01ac83a",
            "755658f8bf864a4bbf67c1c77bb20bff",
            "b23d8ba62d6a454889546ad62b1b40e5",
            "24105c7147a14098ac531303295eae0c",
            "fcc0180931de4a41a7d4e410709978c0",
            "c26baaa048874b27b39b018071af86ed",
            "6d9e77d2a8aa428b98a32f93ca78e337",
            "ca6560350560440386cdf2e197a37928",
            "1d313da8c2c54628b648c346dc26157b",
            "da444bb54a634f8197d437e824327be8",
            "c9d241128fde4d23ace72253a2ab5bfb",
            "7fb0c19cb7154666a9694ef2eb001a8b",
            "14bd6c9b6cc0402399fed9a7625445f6",
            "c9be88cd00c44c5eaa8f8b32a7c6996f",
            "d5946ccebb154fd7b296f091f4f1a473",
            "f52033ba977646e389d0c059cfddef9a",
            "e77b3d9015384ecdbab8d6c5d963efd8",
            "31cb65636b544bdca572ae7725de25ee",
            "c9f6d50825b24ecaa1a19aaea1ca9953",
            "607979978c52483583cdf2692505af65",
            "f13cbc77cfaf471c927f52d0be506af6",
            "a1aa3aa328e54b4995869d0c8a316f16",
            "16210830bb87413f96cc72764b5735d5",
            "e2fe4487f5a549d4bec9ac6447222b2e",
            "2526fb9333814eb79dac2167c9c78711",
            "b463c4fb3f704741ac189e583937c1d5"
          ]
        },
        "id": "aDWgeLpHh14p",
        "outputId": "a73ad0b6-2d29-4aeb-fdd3-b0c6677a203f"
      },
      "source": [
        "train_args = {'max_seq_length' : 512,\n",
        "              #'do_lower_case' : True,\n",
        "              'use_multiprocessing' : True,\n",
        "              'train_batch_size' : 8,\n",
        "              #'save_steps' : 50000,\n",
        "              'eval_bacth_size' : 16,\n",
        "              'overwrite_output_dir': True,\n",
        "              # 'warmup_proportion' : 0.1,\n",
        "              # 'weight_decay' : 0.01,\n",
        "              'load_best_model_at_end' : True,\n",
        "              'metric_for_best_model' : 'matthews_correlation',\n",
        "              }\n",
        "model.train_model(train_df = train_df, eval_df = eval_df, output_dir='outputs', args = train_args)\n",
        "\n",
        "#result, model_outputs, wrong_predictions = model.eval_model(eval_df)"
      ],
      "id": "aDWgeLpHh14p",
      "execution_count": 32,
      "outputs": [
        {
          "output_type": "display_data",
          "data": {
            "application/vnd.jupyter.widget-view+json": {
              "model_id": "42ff3352102149b18497ee05be2f8e88",
              "version_minor": 0,
              "version_major": 2
            },
            "text/plain": [
              "  0%|          | 0/9166 [00:00<?, ?it/s]"
            ]
          },
          "metadata": {
            "tags": []
          }
        },
        {
          "output_type": "display_data",
          "data": {
            "application/vnd.jupyter.widget-view+json": {
              "model_id": "8b1b19e6edd2446e9d205280f66e211b",
              "version_minor": 0,
              "version_major": 2
            },
            "text/plain": [
              "Epoch:   0%|          | 0/3 [00:00<?, ?it/s]"
            ]
          },
          "metadata": {
            "tags": []
          }
        },
        {
          "output_type": "display_data",
          "data": {
            "application/vnd.jupyter.widget-view+json": {
              "model_id": "23fe19bfa2ad4bca88a60f520c06f960",
              "version_minor": 0,
              "version_major": 2
            },
            "text/plain": [
              "Running Epoch 0 of 3:   0%|          | 0/1146 [00:00<?, ?it/s]"
            ]
          },
          "metadata": {
            "tags": []
          }
        },
        {
          "output_type": "stream",
          "text": [
            "/usr/local/lib/python3.7/dist-packages/simpletransformers/classification/classification_model.py:942: FutureWarning: Non-finite norm encountered in torch.nn.utils.clip_grad_norm_; continuing anyway. Note that the default behavior will change in a future release to error out if a non-finite total norm is encountered. At that point, setting error_if_nonfinite=false will be required to retain the old behavior.\n",
            "  model.parameters(), args.max_grad_norm\n"
          ],
          "name": "stderr"
        },
        {
          "output_type": "display_data",
          "data": {
            "application/vnd.jupyter.widget-view+json": {
              "model_id": "fcc0180931de4a41a7d4e410709978c0",
              "version_minor": 0,
              "version_major": 2
            },
            "text/plain": [
              "Running Epoch 1 of 3:   0%|          | 0/1146 [00:00<?, ?it/s]"
            ]
          },
          "metadata": {
            "tags": []
          }
        },
        {
          "output_type": "display_data",
          "data": {
            "application/vnd.jupyter.widget-view+json": {
              "model_id": "f52033ba977646e389d0c059cfddef9a",
              "version_minor": 0,
              "version_major": 2
            },
            "text/plain": [
              "Running Epoch 2 of 3:   0%|          | 0/1146 [00:00<?, ?it/s]"
            ]
          },
          "metadata": {
            "tags": []
          }
        },
        {
          "output_type": "execute_result",
          "data": {
            "text/plain": [
              "(3438, 0.5775033597806778)"
            ]
          },
          "metadata": {
            "tags": []
          },
          "execution_count": 32
        }
      ]
    },
    {
      "cell_type": "code",
      "metadata": {
        "colab": {
          "base_uri": "https://localhost:8080/",
          "height": 81,
          "referenced_widgets": [
            "6db050eb48434c38bab04f6feaa17353",
            "ee57d5204f204127b82da1362b3120d9",
            "eb43b7e289764a3f9248f7a9292cdc43",
            "7a26d981a1a84e99a8db8318ca4d283c",
            "41b6b3cbfd504beaad10d18e81abfe18",
            "64f3a370ab9a46a3bf801781483f06a3",
            "0ed0e6c1a1484a4982827921621334b6",
            "cc6f3592af3e4c6b98655c74ff8f6809",
            "1d7661a44bab42068f8d9ee98627358e",
            "4d8c1891222147558623c531e31ba118",
            "0036f14ce2cb4163bcc8816ef5753eda",
            "8b90efb65fde4a859314974fcb36c8eb",
            "8f4c46e429d14008bc75062fc2399035",
            "7713c0e680e64396bc3cce7470a15dfa",
            "29115dde9d9d4dd3a10b65f6852ec6bf",
            "51c82b5b7aad460893a7edab786da833",
            "ccd5a4fc62f140efa1c432ec4e8cddef",
            "d83fc7bee8384d41ae0ad213e50d6c30",
            "589f1b45d4f24687b74559ef65d2c605",
            "445b568da27f49da965af0dd15a63f81",
            "766a88fcbd1e481b9d077f9c0a00b5c1",
            "9af929a352a84c52a3ce4e9b766abae1"
          ]
        },
        "id": "RNjDMro_iGRQ",
        "outputId": "75492ed8-6f68-4748-8d3e-e6f8f626cc51"
      },
      "source": [
        "result, predictions, wrong_predictions = model.eval_model(eval_df)"
      ],
      "id": "RNjDMro_iGRQ",
      "execution_count": 33,
      "outputs": [
        {
          "output_type": "display_data",
          "data": {
            "application/vnd.jupyter.widget-view+json": {
              "model_id": "6db050eb48434c38bab04f6feaa17353",
              "version_minor": 0,
              "version_major": 2
            },
            "text/plain": [
              "  0%|          | 0/2292 [00:00<?, ?it/s]"
            ]
          },
          "metadata": {
            "tags": []
          }
        },
        {
          "output_type": "display_data",
          "data": {
            "application/vnd.jupyter.widget-view+json": {
              "model_id": "8b90efb65fde4a859314974fcb36c8eb",
              "version_minor": 0,
              "version_major": 2
            },
            "text/plain": [
              "Running Evaluation:   0%|          | 0/287 [00:00<?, ?it/s]"
            ]
          },
          "metadata": {
            "tags": []
          }
        }
      ]
    },
    {
      "cell_type": "code",
      "metadata": {
        "id": "QaNGedewlC7A",
        "colab": {
          "base_uri": "https://localhost:8080/",
          "height": 201
        },
        "outputId": "dd33ae00-48a2-48e8-c32e-16da4f597fa9"
      },
      "source": [
        "predictions = resul\n",
        "predictions = np.argmax(predictions, 1)\n",
        "y_val = Y_test"
      ],
      "id": "QaNGedewlC7A",
      "execution_count": 34,
      "outputs": [
        {
          "output_type": "error",
          "ename": "NameError",
          "evalue": "ignored",
          "traceback": [
            "\u001b[0;31m---------------------------------------------------------------------------\u001b[0m",
            "\u001b[0;31mNameError\u001b[0m                                 Traceback (most recent call last)",
            "\u001b[0;32m/tmp/ipykernel_1403/2871792913.py\u001b[0m in \u001b[0;36m<module>\u001b[0;34m\u001b[0m\n\u001b[0;32m----> 1\u001b[0;31m \u001b[0mpredictions\u001b[0m \u001b[0;34m=\u001b[0m \u001b[0mmodel_outputs\u001b[0m\u001b[0;34m\u001b[0m\u001b[0;34m\u001b[0m\u001b[0m\n\u001b[0m\u001b[1;32m      2\u001b[0m \u001b[0mpredictions\u001b[0m \u001b[0;34m=\u001b[0m \u001b[0mnp\u001b[0m\u001b[0;34m.\u001b[0m\u001b[0margmax\u001b[0m\u001b[0;34m(\u001b[0m\u001b[0mpredictions\u001b[0m\u001b[0;34m,\u001b[0m \u001b[0;36m1\u001b[0m\u001b[0;34m)\u001b[0m\u001b[0;34m\u001b[0m\u001b[0;34m\u001b[0m\u001b[0m\n\u001b[1;32m      3\u001b[0m \u001b[0my_val\u001b[0m \u001b[0;34m=\u001b[0m \u001b[0mY_test\u001b[0m\u001b[0;34m\u001b[0m\u001b[0;34m\u001b[0m\u001b[0m\n",
            "\u001b[0;31mNameError\u001b[0m: name 'model_outputs' is not defined"
          ]
        }
      ]
    },
    {
      "cell_type": "code",
      "metadata": {
        "id": "RHndBVnKO3TM"
      },
      "source": [
        ""
      ],
      "id": "RHndBVnKO3TM",
      "execution_count": null,
      "outputs": []
    },
    {
      "cell_type": "markdown",
      "metadata": {
        "id": "TohiseQlSsyN"
      },
      "source": [
        "## Evaluate model"
      ],
      "id": "TohiseQlSsyN"
    },
    {
      "cell_type": "code",
      "metadata": {
        "id": "8JPPFZ19R9et"
      },
      "source": [
        "predictions[0], y_val[0]"
      ],
      "id": "8JPPFZ19R9et",
      "execution_count": null,
      "outputs": []
    },
    {
      "cell_type": "code",
      "metadata": {
        "id": "TzUNuCrkRZHr"
      },
      "source": [
        "from sklearn.metrics import *\n",
        "import seaborn as sns\n",
        "\n",
        "print(\"Precision: {0:6.2f}\".format(precision_score(y_val, predictions, average='macro')))\n",
        "print(\"Recall: {0:6.2f}\".format(recall_score(y_val, predictions, average='macro')))\n",
        "print(\"F1-measure: {0:6.2f}\".format(f1_score(y_val, predictions, average='macro')))\n",
        "print(\"Accuracy: {0:6.2f}\".format(accuracy_score(y_val, predictions)))\n",
        "print(classification_report(y_val, predictions))\n",
        "labels = [0, 1]\n",
        "sns.heatmap(data=confusion_matrix(y_val, predictions), annot=True, fmt=\"d\", cbar=False, xticklabels=labels, yticklabels=labels)\n",
        "plt.title(\"Confusion matrix\")\n",
        "plt.show()"
      ],
      "id": "TzUNuCrkRZHr",
      "execution_count": null,
      "outputs": []
    },
    {
      "cell_type": "markdown",
      "metadata": {
        "id": "wAqx159JSwzr"
      },
      "source": [
        "## Make submission"
      ],
      "id": "wAqx159JSwzr"
    },
    {
      "cell_type": "code",
      "metadata": {
        "id": "Xltu_e4kQyMc"
      },
      "source": [
        "import pandas as pd"
      ],
      "id": "Xltu_e4kQyMc",
      "execution_count": null,
      "outputs": []
    },
    {
      "cell_type": "code",
      "metadata": {
        "id": "kntX7rnKUFe3"
      },
      "source": [
        "testDf = pd.read_csv('test.csv')"
      ],
      "id": "kntX7rnKUFe3",
      "execution_count": null,
      "outputs": []
    },
    {
      "cell_type": "code",
      "metadata": {
        "colab": {
          "base_uri": "https://localhost:8080/",
          "height": 204
        },
        "id": "pS-Eo9KtULmv",
        "outputId": "65257b8e-fa00-4044-a9be-9028c8dad812"
      },
      "source": [
        "testDf.head(5)"
      ],
      "id": "pS-Eo9KtULmv",
      "execution_count": null,
      "outputs": [
        {
          "output_type": "execute_result",
          "data": {
            "text/html": [
              "<div>\n",
              "<style scoped>\n",
              "    .dataframe tbody tr th:only-of-type {\n",
              "        vertical-align: middle;\n",
              "    }\n",
              "\n",
              "    .dataframe tbody tr th {\n",
              "        vertical-align: top;\n",
              "    }\n",
              "\n",
              "    .dataframe thead th {\n",
              "        text-align: right;\n",
              "    }\n",
              "</style>\n",
              "<table border=\"1\" class=\"dataframe\">\n",
              "  <thead>\n",
              "    <tr style=\"text-align: right;\">\n",
              "      <th></th>\n",
              "      <th>id</th>\n",
              "      <th>task</th>\n",
              "    </tr>\n",
              "  </thead>\n",
              "  <tbody>\n",
              "    <tr>\n",
              "      <th>0</th>\n",
              "      <td>0</td>\n",
              "      <td>Вопрос 1 Денис готовится провести соревнования...</td>\n",
              "    </tr>\n",
              "    <tr>\n",
              "      <th>1</th>\n",
              "      <td>1</td>\n",
              "      <td>Реши задачу.\\nСколько коробок корма для собак ...</td>\n",
              "    </tr>\n",
              "    <tr>\n",
              "      <th>2</th>\n",
              "      <td>2</td>\n",
              "      <td>Если групп элементов несколько, то применяется...</td>\n",
              "    </tr>\n",
              "    <tr>\n",
              "      <th>3</th>\n",
              "      <td>3</td>\n",
              "      <td>Вопрос1                                       ...</td>\n",
              "    </tr>\n",
              "    <tr>\n",
              "      <th>4</th>\n",
              "      <td>4</td>\n",
              "      <td>Для наглядной геометрической иллюстрации объём...</td>\n",
              "    </tr>\n",
              "  </tbody>\n",
              "</table>\n",
              "</div>"
            ],
            "text/plain": [
              "   id                                               task\n",
              "0   0  Вопрос 1 Денис готовится провести соревнования...\n",
              "1   1  Реши задачу.\\nСколько коробок корма для собак ...\n",
              "2   2  Если групп элементов несколько, то применяется...\n",
              "3   3  Вопрос1                                       ...\n",
              "4   4  Для наглядной геометрической иллюстрации объём..."
            ]
          },
          "metadata": {
            "tags": []
          },
          "execution_count": 28
        }
      ]
    },
    {
      "cell_type": "code",
      "metadata": {
        "id": "VfeQQmcmTe-F"
      },
      "source": [
        "cnt = [len(x.split()) for x in testDf['task'].values]\n",
        "plt.hist(cnt)\n",
        "plt.show()"
      ],
      "id": "VfeQQmcmTe-F",
      "execution_count": null,
      "outputs": []
    },
    {
      "cell_type": "code",
      "metadata": {
        "id": "94ojy3XjTj8_"
      },
      "source": [
        "sum([x > 256 for x in cnt])"
      ],
      "id": "94ojy3XjTj8_",
      "execution_count": null,
      "outputs": []
    },
    {
      "cell_type": "code",
      "metadata": {
        "id": "ksgAshAqUMg-"
      },
      "source": [
        "Xtest = tokenizer.texts_to_sequences(map(lambda x: str(x['task']), testDf.iloc))\n",
        "Xtest = pad_sequences(Xtest, maxlen=sentMaxLen)"
      ],
      "id": "ksgAshAqUMg-",
      "execution_count": null,
      "outputs": []
    },
    {
      "cell_type": "code",
      "metadata": {
        "colab": {
          "base_uri": "https://localhost:8080/"
        },
        "id": "HUxx9VUfUbBF",
        "outputId": "018deff9-331c-429a-b752-b41ee5282cbf"
      },
      "source": [
        "predictions = model.predict(Xtest)\n",
        "predictions"
      ],
      "id": "HUxx9VUfUbBF",
      "execution_count": null,
      "outputs": [
        {
          "output_type": "execute_result",
          "data": {
            "text/plain": [
              "array([[0.09735209, 0.43359113, 0.16346458, 0.3055922 ],\n",
              "       [0.07233533, 0.48948306, 0.1018154 , 0.33636627],\n",
              "       [0.1266391 , 0.41387922, 0.18310064, 0.27638113],\n",
              "       ...,\n",
              "       [0.06528526, 0.3648363 , 0.1388722 , 0.43100628],\n",
              "       [0.22779113, 0.59625584, 0.09307627, 0.08287673],\n",
              "       [0.06749827, 0.5344242 , 0.12004167, 0.27803588]], dtype=float32)"
            ]
          },
          "metadata": {
            "tags": []
          },
          "execution_count": 30
        }
      ]
    },
    {
      "cell_type": "code",
      "metadata": {
        "colab": {
          "base_uri": "https://localhost:8080/"
        },
        "id": "vUwSuOpuUvLl",
        "outputId": "8e571322-0d92-47f8-cbc1-d957adc596bb"
      },
      "source": [
        "predictions = list(map(lambda x: categories[int(x)], np.argmax(predictions, axis=-1)))\n",
        "predictions[:5]"
      ],
      "id": "vUwSuOpuUvLl",
      "execution_count": null,
      "outputs": [
        {
          "output_type": "execute_result",
          "data": {
            "text/plain": [
              "['музыка', 'музыка', 'музыка', 'музыка', 'музыка']"
            ]
          },
          "metadata": {
            "tags": []
          },
          "execution_count": 31
        }
      ]
    },
    {
      "cell_type": "code",
      "metadata": {
        "id": "Np072Vk9usQ2"
      },
      "source": [
        "from rake_nltk import Rake\n",
        "\n",
        "def getKeyWords(textSeries: pd.Series, threshold=4, minLen=1, maxLen=2):\n",
        "    r = Rake(\n",
        "        stopwords=stopWordsRu,\n",
        "        punctuations=punctuation,\n",
        "        min_length=1, max_length=2\n",
        "    )\n",
        "    results = []\n",
        "    for i in range(textSeries.shape[0]):\n",
        "      r.extract_keywords_from_text(testDf['task'].iloc[i])\n",
        "      rowResult = r.get_ranked_phrases_with_scores()\n",
        "      selected = 1\n",
        "      while selected < len(rowResult):\n",
        "        if rowResult[selected][0] < threshold:\n",
        "          break\n",
        "        selected += 1\n",
        "      results.append(rowResult[:selected])\n",
        "    return list(map(lambda task: list(map(lambda keyword: keyword[1], task)), results))"
      ],
      "id": "Np072Vk9usQ2",
      "execution_count": null,
      "outputs": []
    },
    {
      "cell_type": "code",
      "metadata": {
        "id": "50Ez55eWw1In"
      },
      "source": [
        "keyWords = getKeyWords(testDf['task'])"
      ],
      "id": "50Ez55eWw1In",
      "execution_count": null,
      "outputs": []
    },
    {
      "cell_type": "code",
      "metadata": {
        "id": "rIGlnOtFxO7-"
      },
      "source": [
        "keyWordsReady = list(map( lambda x: \";\".join(x), keyWords))"
      ],
      "id": "rIGlnOtFxO7-",
      "execution_count": null,
      "outputs": []
    },
    {
      "cell_type": "code",
      "metadata": {
        "id": "zTcyA7q_U1ne"
      },
      "source": [
        "sample = pd.read_csv('sample_submission.csv')\n"
      ],
      "id": "zTcyA7q_U1ne",
      "execution_count": null,
      "outputs": []
    },
    {
      "cell_type": "code",
      "metadata": {
        "id": "yAapKIeayj_Q"
      },
      "source": [
        "sample['keywords'] = keyWordsReady"
      ],
      "id": "yAapKIeayj_Q",
      "execution_count": null,
      "outputs": []
    },
    {
      "cell_type": "code",
      "metadata": {
        "id": "FvGRB-a2VAf2"
      },
      "source": [
        "sample['category'] = predictions"
      ],
      "id": "FvGRB-a2VAf2",
      "execution_count": null,
      "outputs": []
    },
    {
      "cell_type": "code",
      "metadata": {
        "id": "HBcobCLVVEd8"
      },
      "source": [
        "sample.to_csv('submit.csv', index=False)"
      ],
      "id": "HBcobCLVVEd8",
      "execution_count": null,
      "outputs": []
    },
    {
      "cell_type": "code",
      "metadata": {
        "colab": {
          "base_uri": "https://localhost:8080/"
        },
        "id": "22zpeWcBV1zd",
        "outputId": "13c64dc3-90c8-4a0e-f999-fe9db479b8a4"
      },
      "source": [
        "sample['category'].value_counts()"
      ],
      "id": "22zpeWcBV1zd",
      "execution_count": null,
      "outputs": [
        {
          "output_type": "execute_result",
          "data": {
            "text/plain": [
              "музыка        353\n",
              "литература    101\n",
              "спорт          46\n",
              "животные       14\n",
              "Name: category, dtype: int64"
            ]
          },
          "metadata": {
            "tags": []
          },
          "execution_count": 39
        }
      ]
    },
    {
      "cell_type": "code",
      "metadata": {
        "colab": {
          "base_uri": "https://localhost:8080/",
          "height": 419
        },
        "id": "aEx8YZxNHIRZ",
        "outputId": "0df17cd6-20b1-497c-aa48-9438b889f9aa"
      },
      "source": [
        "sample"
      ],
      "id": "aEx8YZxNHIRZ",
      "execution_count": null,
      "outputs": [
        {
          "output_type": "execute_result",
          "data": {
            "text/html": [
              "<div>\n",
              "<style scoped>\n",
              "    .dataframe tbody tr th:only-of-type {\n",
              "        vertical-align: middle;\n",
              "    }\n",
              "\n",
              "    .dataframe tbody tr th {\n",
              "        vertical-align: top;\n",
              "    }\n",
              "\n",
              "    .dataframe thead th {\n",
              "        text-align: right;\n",
              "    }\n",
              "</style>\n",
              "<table border=\"1\" class=\"dataframe\">\n",
              "  <thead>\n",
              "    <tr style=\"text-align: right;\">\n",
              "      <th></th>\n",
              "      <th>id</th>\n",
              "      <th>category</th>\n",
              "      <th>keywords</th>\n",
              "    </tr>\n",
              "  </thead>\n",
              "  <tbody>\n",
              "    <tr>\n",
              "      <th>0</th>\n",
              "      <td>0</td>\n",
              "      <td>музыка</td>\n",
              "      <td>настольному хоккею;вариантов выбора</td>\n",
              "    </tr>\n",
              "    <tr>\n",
              "      <th>1</th>\n",
              "      <td>1</td>\n",
              "      <td>музыка</td>\n",
              "      <td>собак поместится;реши задачу</td>\n",
              "    </tr>\n",
              "    <tr>\n",
              "      <th>2</th>\n",
              "      <td>2</td>\n",
              "      <td>музыка</td>\n",
              "      <td>течение года;сдавали зачет;реши задачу;равно и...</td>\n",
              "    </tr>\n",
              "    <tr>\n",
              "      <th>3</th>\n",
              "      <td>3</td>\n",
              "      <td>музыка</td>\n",
              "      <td>суммы затрат;продукты питания;конце месяца;дом...</td>\n",
              "    </tr>\n",
              "    <tr>\n",
              "      <th>4</th>\n",
              "      <td>4</td>\n",
              "      <td>музыка</td>\n",
              "      <td>этими объектами;увлекающихся футболом;либо пон...</td>\n",
              "    </tr>\n",
              "    <tr>\n",
              "      <th>...</th>\n",
              "      <td>...</td>\n",
              "      <td>...</td>\n",
              "      <td>...</td>\n",
              "    </tr>\n",
              "    <tr>\n",
              "      <th>509</th>\n",
              "      <td>509</td>\n",
              "      <td>музыка</td>\n",
              "      <td>следующие вопросы;проанализируй диаграмму</td>\n",
              "    </tr>\n",
              "    <tr>\n",
              "      <th>510</th>\n",
              "      <td>510</td>\n",
              "      <td>музыка</td>\n",
              "      <td>сборке тренажеров;выполнить задание;6 дней;4 д...</td>\n",
              "    </tr>\n",
              "    <tr>\n",
              "      <th>511</th>\n",
              "      <td>511</td>\n",
              "      <td>литература</td>\n",
              "      <td>7 дней;1 день</td>\n",
              "    </tr>\n",
              "    <tr>\n",
              "      <th>512</th>\n",
              "      <td>512</td>\n",
              "      <td>музыка</td>\n",
              "      <td>ухватил пернатого;улетающую птицу;спрыгнул вни...</td>\n",
              "    </tr>\n",
              "    <tr>\n",
              "      <th>513</th>\n",
              "      <td>513</td>\n",
              "      <td>музыка</td>\n",
              "      <td>первом ящике;двух ящиках;вопрос 1</td>\n",
              "    </tr>\n",
              "  </tbody>\n",
              "</table>\n",
              "<p>514 rows × 3 columns</p>\n",
              "</div>"
            ],
            "text/plain": [
              "      id    category                                           keywords\n",
              "0      0      музыка                настольному хоккею;вариантов выбора\n",
              "1      1      музыка                       собак поместится;реши задачу\n",
              "2      2      музыка  течение года;сдавали зачет;реши задачу;равно и...\n",
              "3      3      музыка  суммы затрат;продукты питания;конце месяца;дом...\n",
              "4      4      музыка  этими объектами;увлекающихся футболом;либо пон...\n",
              "..   ...         ...                                                ...\n",
              "509  509      музыка          следующие вопросы;проанализируй диаграмму\n",
              "510  510      музыка  сборке тренажеров;выполнить задание;6 дней;4 д...\n",
              "511  511  литература                                      7 дней;1 день\n",
              "512  512      музыка  ухватил пернатого;улетающую птицу;спрыгнул вни...\n",
              "513  513      музыка                  первом ящике;двух ящиках;вопрос 1\n",
              "\n",
              "[514 rows x 3 columns]"
            ]
          },
          "metadata": {
            "tags": []
          },
          "execution_count": 40
        }
      ]
    },
    {
      "cell_type": "code",
      "metadata": {
        "id": "wT6DnGfhHIwU"
      },
      "source": [
        ""
      ],
      "id": "wT6DnGfhHIwU",
      "execution_count": null,
      "outputs": []
    }
  ]
}