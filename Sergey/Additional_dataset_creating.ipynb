{
 "cells": [
  {
   "cell_type": "code",
   "execution_count": 17,
   "metadata": {},
   "outputs": [],
   "source": [
    "import re\n",
    "import pandas as pd\n",
    "import matplotlib.pyplot as plt\n",
    "import logistic_regression"
   ]
  },
  {
   "cell_type": "code",
   "execution_count": 21,
   "metadata": {},
   "outputs": [],
   "source": [
    "%matplotlib inline\n",
    "import matplotlib as mpl\n",
    "import matplotlib.pyplot as plt\n",
    "import seaborn as sns\n",
    "mpl.style.use('seaborn')\n",
    "plt.rc('font', size=15)          # controls default text sizes\n",
    "plt.rc('axes', titlesize=15)     # fontsize of the axes title\n",
    "plt.rc('axes', labelsize=15)     # fontsize of the x and y labels\n",
    "plt.rc('xtick', labelsize=15)    # fontsize of the tick labels\n",
    "plt.rc('ytick', labelsize=15)    # fontsize of the tick labels\n",
    "\n",
    "from collections import Counter"
   ]
  },
  {
   "cell_type": "markdown",
   "metadata": {},
   "source": [
    "## Load texts"
   ]
  },
  {
   "cell_type": "markdown",
   "metadata": {},
   "source": [
    "Подгружаем тексты из сборников задач, которые нашли в интернете по данной тематике и достаем из них сами задачи"
   ]
  },
  {
   "cell_type": "code",
   "execution_count": 24,
   "metadata": {},
   "outputs": [],
   "source": [
    "pattern = {'zadachi1.txt' : r'[0-9]+\\.[0-9]+',\n",
    "           'zadachi2.txt' : r'[0-9]+\\.',\n",
    "           'zadachi2.5.txt' : r'[0-9]+\\.',\n",
    "           'zadachi3.txt' : r'[0-9]+\\.[0-9]+\\.',\n",
    "           'zadachi5.txt' : r'№[0-9]+',\n",
    "          }\n",
    "# Задаем паттерны начала строки, которая содержит в себе задачку\n",
    "# Для каждого текста свои шаблоны"
   ]
  },
  {
   "cell_type": "code",
   "execution_count": 25,
   "metadata": {},
   "outputs": [],
   "source": [
    "# Достаем из текстов сами условия заданий\n",
    "tasks = []\n",
    "for filename, pat in pattern.items() :\n",
    "    texts = open('data_zadachi/{}'.format(filename), encoding = 'utf-8').read().split('\\n') #cp1251\n",
    "    \n",
    "    for el in texts :\n",
    "        if not re.search(pat, el) is None and len(el) > 50 :\n",
    "            tasks.append(el)"
   ]
  },
  {
   "cell_type": "code",
   "execution_count": 26,
   "metadata": {},
   "outputs": [
    {
     "data": {
      "text/plain": [
       "1927"
      ]
     },
     "execution_count": 26,
     "metadata": {},
     "output_type": "execute_result"
    }
   ],
   "source": [
    "len(tasks)"
   ]
  },
  {
   "cell_type": "code",
   "execution_count": 27,
   "metadata": {},
   "outputs": [],
   "source": [
    "data = pd.DataFrame(tasks, columns = ['texts'])"
   ]
  },
  {
   "cell_type": "markdown",
   "metadata": {},
   "source": [
    "## Making predict"
   ]
  },
  {
   "cell_type": "markdown",
   "metadata": {},
   "source": [
    "Делаем предсказания моделью обученной на текстах из википедиии и берем те, в которых моделька наиболее уверенна"
   ]
  },
  {
   "cell_type": "code",
   "execution_count": 9,
   "metadata": {},
   "outputs": [],
   "source": [
    "model = logistic_regression.LogicticRegressionModel(pretrained=True) # Подгружаем предобученную модель\n",
    "preparator = logistic_regression.LogicticRegressionPreparator() # Подгружаем модуль для обработки текстов"
   ]
  },
  {
   "cell_type": "code",
   "execution_count": 29,
   "metadata": {},
   "outputs": [
    {
     "name": "stderr",
     "output_type": "stream",
     "text": [
      "100%|██████████| 1927/1927 [00:04<00:00, 451.81it/s]\n"
     ]
    }
   ],
   "source": [
    "data['prepared'] = preparator.prepare_texts(data['texts']) # Делаем необходимую обработку текстов"
   ]
  },
  {
   "cell_type": "code",
   "execution_count": 30,
   "metadata": {},
   "outputs": [],
   "source": [
    "data['prediction'] = model.predict(data['prepared']) # Предсказываем класс\n",
    "data['score'] = model.predict_proba(data['prepared']).max(axis=1) # Уверенность модель в предсказанном классе"
   ]
  },
  {
   "cell_type": "code",
   "execution_count": 31,
   "metadata": {},
   "outputs": [
    {
     "data": {
      "text/html": [
       "<div>\n",
       "<style scoped>\n",
       "    .dataframe tbody tr th:only-of-type {\n",
       "        vertical-align: middle;\n",
       "    }\n",
       "\n",
       "    .dataframe tbody tr th {\n",
       "        vertical-align: top;\n",
       "    }\n",
       "\n",
       "    .dataframe thead th {\n",
       "        text-align: right;\n",
       "    }\n",
       "</style>\n",
       "<table border=\"1\" class=\"dataframe\">\n",
       "  <thead>\n",
       "    <tr style=\"text-align: right;\">\n",
       "      <th></th>\n",
       "      <th>texts</th>\n",
       "      <th>prepared</th>\n",
       "      <th>prediction</th>\n",
       "      <th>score</th>\n",
       "    </tr>\n",
       "  </thead>\n",
       "  <tbody>\n",
       "    <tr>\n",
       "      <th>0</th>\n",
       "      <td>\\t1.1. Летом в спортивный лагерь ходили 50 дет...</td>\n",
       "      <td>1.1. лето спортивный лагерь ходить 50 ребёнок ...</td>\n",
       "      <td>спорт</td>\n",
       "      <td>0.985258</td>\n",
       "    </tr>\n",
       "    <tr>\n",
       "      <th>1</th>\n",
       "      <td>\\t1.2. На концерте в летнем лагере ребята игра...</td>\n",
       "      <td>1.2. концерт летний лагер ребята играть гитара...</td>\n",
       "      <td>музыка</td>\n",
       "      <td>0.957977</td>\n",
       "    </tr>\n",
       "    <tr>\n",
       "      <th>2</th>\n",
       "      <td>\\t1.3. В конце учебного года во 2 классе фотог...</td>\n",
       "      <td>1.3. конец учебный год 2 класс фотограф сделат...</td>\n",
       "      <td>литература</td>\n",
       "      <td>0.900861</td>\n",
       "    </tr>\n",
       "    <tr>\n",
       "      <th>3</th>\n",
       "      <td>\\t1.4. Во время летних соревнований по плавани...</td>\n",
       "      <td>1.4. время летний соревнование плавание ребята...</td>\n",
       "      <td>спорт</td>\n",
       "      <td>0.986303</td>\n",
       "    </tr>\n",
       "    <tr>\n",
       "      <th>4</th>\n",
       "      <td>\\t1.5. В спортивную школу во время летних кани...</td>\n",
       "      <td>1.5. спортивный школа время летний каникулы ку...</td>\n",
       "      <td>спорт</td>\n",
       "      <td>0.990449</td>\n",
       "    </tr>\n",
       "  </tbody>\n",
       "</table>\n",
       "</div>"
      ],
      "text/plain": [
       "                                               texts  \\\n",
       "0  \\t1.1. Летом в спортивный лагерь ходили 50 дет...   \n",
       "1  \\t1.2. На концерте в летнем лагере ребята игра...   \n",
       "2  \\t1.3. В конце учебного года во 2 классе фотог...   \n",
       "3  \\t1.4. Во время летних соревнований по плавани...   \n",
       "4  \\t1.5. В спортивную школу во время летних кани...   \n",
       "\n",
       "                                            prepared  prediction     score  \n",
       "0  1.1. лето спортивный лагерь ходить 50 ребёнок ...       спорт  0.985258  \n",
       "1  1.2. концерт летний лагер ребята играть гитара...      музыка  0.957977  \n",
       "2  1.3. конец учебный год 2 класс фотограф сделат...  литература  0.900861  \n",
       "3  1.4. время летний соревнование плавание ребята...       спорт  0.986303  \n",
       "4  1.5. спортивный школа время летний каникулы ку...       спорт  0.990449  "
      ]
     },
     "execution_count": 31,
     "metadata": {},
     "output_type": "execute_result"
    }
   ],
   "source": [
    "data.head()"
   ]
  },
  {
   "cell_type": "code",
   "execution_count": 32,
   "metadata": {},
   "outputs": [
    {
     "data": {
      "image/png": "[encoded data removed]",
      "text/plain": [
       "<Figure size 576x396 with 1 Axes>"
      ]
     },
     "metadata": {},
     "output_type": "display_data"
    }
   ],
   "source": [
    "plt.hist(data['prediction'])\n",
    "plt.title('Кол-во предсказаний на каждый класс')\n",
    "plt.show()"
   ]
  },
  {
   "cell_type": "code",
   "execution_count": 33,
   "metadata": {},
   "outputs": [
    {
     "data": {
      "image/png": "[encoded data removed]",
      "text/plain": [
       "<Figure size 576x396 with 1 Axes>"
      ]
     },
     "metadata": {},
     "output_type": "display_data"
    }
   ],
   "source": [
    "plt.hist(data['score'])\n",
    "plt.title('Уверенность модели в своих предсказаниях')\n",
    "plt.show()"
   ]
  },
  {
   "cell_type": "markdown",
   "metadata": {},
   "source": [
    "## Translate dataset to English"
   ]
  },
  {
   "cell_type": "code",
   "execution_count": 1,
   "metadata": {},
   "outputs": [],
   "source": [
    "from selenium import webdriver\n",
    "from selenium.webdriver.chrome.options import Options as ChromeOptions\n",
    "import pandas as pd\n",
    "import json\n",
    "import pickle\n",
    "import time\n",
    "import re\n",
    "import sys\n",
    "from tqdm import tqdm"
   ]
  },
  {
   "cell_type": "code",
   "execution_count": 2,
   "metadata": {},
   "outputs": [],
   "source": [
    "chrome_options = ChromeOptions()\n",
    "# chrome_options.add_argument(\"--headless\")\n",
    "\n",
    "driver = webdriver.Chrome(\"/usr/lib/chromium-browser/chromedriver\", options=chrome_options)\n",
    "# driver = webdriver.Remote(\n",
    "#     command_executor='http://194.163.165.205:4444/wd/hub',\n",
    "#     options=chrome_options,\n",
    "# )\n"
   ]
  },
  {
   "cell_type": "code",
   "execution_count": 29,
   "metadata": {},
   "outputs": [],
   "source": [
    "def translate_text(text, direction='ru-en'):\n",
    "    time.sleep(0.2)\n",
    "    driver.get(f\"https://www.m-translate.ru/translator/text#text=test&direction=ru-en\")\n",
    "    \n",
    "    from_lang = driver.find_element_by_id(\"from_span\").text.lower()\n",
    "    if from_lang != direction[:direction.find('-')]:\n",
    "        driver.find_element_by_id(\"Small_btns\").click()\n",
    "        \n",
    "    driver.find_element_by_id(\"text\").clear()\n",
    "    driver.find_element_by_id(\"text\").send_keys(text)\n",
    "    driver.find_element_by_id(\"go_btn\").click()\n",
    "    while driver.find_element_by_id(\"text_out\").get_attribute(\"value\") == \"\":\n",
    "        time.sleep(0.2)\n",
    "    return driver.find_element_by_id(\"text_out\").get_attribute(\"value\")\n"
   ]
  },
  {
   "cell_type": "code",
   "execution_count": 30,
   "metadata": {},
   "outputs": [
    {
     "data": {
      "text/plain": [
       "'New text'"
      ]
     },
     "execution_count": 30,
     "metadata": {},
     "output_type": "execute_result"
    }
   ],
   "source": [
    "translate_text('Новый текст', 'ru-en')"
   ]
  },
  {
   "cell_type": "code",
   "execution_count": 31,
   "metadata": {},
   "outputs": [
    {
     "data": {
      "text/plain": [
       "'Привет я из москвы'"
      ]
     },
     "execution_count": 31,
     "metadata": {},
     "output_type": "execute_result"
    }
   ],
   "source": [
    "translate_text(\"Hi, I'm from Moscow\", 'en-ru')"
   ]
  },
  {
   "cell_type": "code",
   "execution_count": 39,
   "metadata": {},
   "outputs": [],
   "source": [
    "driver.close()"
   ]
  },
  {
   "cell_type": "code",
   "execution_count": 17,
   "metadata": {},
   "outputs": [
    {
     "data": {
      "text/html": [
       "<div>\n",
       "<style scoped>\n",
       "    .dataframe tbody tr th:only-of-type {\n",
       "        vertical-align: middle;\n",
       "    }\n",
       "\n",
       "    .dataframe tbody tr th {\n",
       "        vertical-align: top;\n",
       "    }\n",
       "\n",
       "    .dataframe thead th {\n",
       "        text-align: right;\n",
       "    }\n",
       "</style>\n",
       "<table border=\"1\" class=\"dataframe\">\n",
       "  <thead>\n",
       "    <tr style=\"text-align: right;\">\n",
       "      <th></th>\n",
       "      <th>Unnamed: 0</th>\n",
       "      <th>text</th>\n",
       "      <th>ans</th>\n",
       "    </tr>\n",
       "  </thead>\n",
       "  <tbody>\n",
       "    <tr>\n",
       "      <th>0</th>\n",
       "      <td>0</td>\n",
       "      <td>\\t1.1. Летом в спортивный лагерь ходили 50 дет...</td>\n",
       "      <td>спорт</td>\n",
       "    </tr>\n",
       "    <tr>\n",
       "      <th>1</th>\n",
       "      <td>1</td>\n",
       "      <td>\\t1.2. На концерте в летнем лагере ребята игра...</td>\n",
       "      <td>музыка</td>\n",
       "    </tr>\n",
       "    <tr>\n",
       "      <th>2</th>\n",
       "      <td>2</td>\n",
       "      <td>\\t1.3. В конце учебного года во 2 классе фотог...</td>\n",
       "      <td>неизвестно</td>\n",
       "    </tr>\n",
       "    <tr>\n",
       "      <th>3</th>\n",
       "      <td>3</td>\n",
       "      <td>\\t1.4. Во время летних соревнований по плавани...</td>\n",
       "      <td>спорт</td>\n",
       "    </tr>\n",
       "    <tr>\n",
       "      <th>4</th>\n",
       "      <td>4</td>\n",
       "      <td>\\t1.5. В спортивную школу во время летних кани...</td>\n",
       "      <td>спорт</td>\n",
       "    </tr>\n",
       "  </tbody>\n",
       "</table>\n",
       "</div>"
      ],
      "text/plain": [
       "   Unnamed: 0                                               text         ans\n",
       "0           0  \\t1.1. Летом в спортивный лагерь ходили 50 дет...       спорт\n",
       "1           1  \\t1.2. На концерте в летнем лагере ребята игра...      музыка\n",
       "2           2  \\t1.3. В конце учебного года во 2 классе фотог...  неизвестно\n",
       "3           3  \\t1.4. Во время летних соревнований по плавани...       спорт\n",
       "4           4  \\t1.5. В спортивную школу во время летних кани...       спорт"
      ]
     },
     "execution_count": 17,
     "metadata": {},
     "output_type": "execute_result"
    }
   ],
   "source": [
    "data = pd.read_csv('../full_marked_dataset.csv')\n",
    "data.head()"
   ]
  },
  {
   "cell_type": "code",
   "execution_count": 32,
   "metadata": {},
   "outputs": [
    {
     "name": "stderr",
     "output_type": "stream",
     "text": [
      "100%|█████████████████████████████████████████| 643/643 [18:37<00:00,  1.74s/it]\n"
     ]
    }
   ],
   "source": [
    "def make_good(text):\n",
    "    text = text.replace('\\n', '').replace('\\t','')\n",
    "    ind = 0\n",
    "    while ind < len(text) and not (text[ind] > 'А' and text[ind] < 'Я'):\n",
    "        ind += 1\n",
    "        \n",
    "    if ind == len(text):\n",
    "        text = text[text.find(' ') + 1:]\n",
    "    else:\n",
    "        text = text[ind:]\n",
    "    return text\n",
    "    \n",
    "splitter = ' [SPLIT] '\n",
    "texts = [make_good(el) for el in data['text'].values]\n",
    "\n",
    "\n",
    "translated_texts = []\n",
    "\n",
    "for i in tqdm(range(0, len(data), 3)):\n",
    "    now = texts[i:i + 3]\n",
    "    translated = translate_text(splitter.join(now)).split(splitter[1:-1])\n",
    "    translated_texts += translated\n",
    "    \n",
    "data['translated'] = translated_texts    "
   ]
  },
  {
   "cell_type": "code",
   "execution_count": 35,
   "metadata": {},
   "outputs": [],
   "source": [
    "data.to_csv('full_marked_translated.csv')"
   ]
  },
  {
   "cell_type": "code",
   "execution_count": 36,
   "metadata": {},
   "outputs": [
    {
     "data": {
      "text/html": [
       "<div>\n",
       "<style scoped>\n",
       "    .dataframe tbody tr th:only-of-type {\n",
       "        vertical-align: middle;\n",
       "    }\n",
       "\n",
       "    .dataframe tbody tr th {\n",
       "        vertical-align: top;\n",
       "    }\n",
       "\n",
       "    .dataframe thead th {\n",
       "        text-align: right;\n",
       "    }\n",
       "</style>\n",
       "<table border=\"1\" class=\"dataframe\">\n",
       "  <thead>\n",
       "    <tr style=\"text-align: right;\">\n",
       "      <th></th>\n",
       "      <th>Unnamed: 0</th>\n",
       "      <th>text</th>\n",
       "      <th>ans</th>\n",
       "      <th>translated</th>\n",
       "    </tr>\n",
       "  </thead>\n",
       "  <tbody>\n",
       "    <tr>\n",
       "      <th>0</th>\n",
       "      <td>0</td>\n",
       "      <td>\\t1.1. Летом в спортивный лагерь ходили 50 дет...</td>\n",
       "      <td>спорт</td>\n",
       "      <td>In the summer, 50 children went to the sports ...</td>\n",
       "    </tr>\n",
       "    <tr>\n",
       "      <th>1</th>\n",
       "      <td>1</td>\n",
       "      <td>\\t1.2. На концерте в летнем лагере ребята игра...</td>\n",
       "      <td>музыка</td>\n",
       "      <td>The guys played guitars at the summer camp co...</td>\n",
       "    </tr>\n",
       "    <tr>\n",
       "      <th>2</th>\n",
       "      <td>2</td>\n",
       "      <td>\\t1.3. В конце учебного года во 2 классе фотог...</td>\n",
       "      <td>неизвестно</td>\n",
       "      <td>At the end of the school year in 2nd grade, a...</td>\n",
       "    </tr>\n",
       "    <tr>\n",
       "      <th>3</th>\n",
       "      <td>3</td>\n",
       "      <td>\\t1.4. Во время летних соревнований по плавани...</td>\n",
       "      <td>спорт</td>\n",
       "      <td>During the summer swimming competition, the gu...</td>\n",
       "    </tr>\n",
       "    <tr>\n",
       "      <th>4</th>\n",
       "      <td>4</td>\n",
       "      <td>\\t1.5. В спортивную школу во время летних кани...</td>\n",
       "      <td>спорт</td>\n",
       "      <td>We bought 10 tennis and 12 volleyball balls f...</td>\n",
       "    </tr>\n",
       "  </tbody>\n",
       "</table>\n",
       "</div>"
      ],
      "text/plain": [
       "   Unnamed: 0                                               text         ans  \\\n",
       "0           0  \\t1.1. Летом в спортивный лагерь ходили 50 дет...       спорт   \n",
       "1           1  \\t1.2. На концерте в летнем лагере ребята игра...      музыка   \n",
       "2           2  \\t1.3. В конце учебного года во 2 классе фотог...  неизвестно   \n",
       "3           3  \\t1.4. Во время летних соревнований по плавани...       спорт   \n",
       "4           4  \\t1.5. В спортивную школу во время летних кани...       спорт   \n",
       "\n",
       "                                          translated  \n",
       "0  In the summer, 50 children went to the sports ...  \n",
       "1   The guys played guitars at the summer camp co...  \n",
       "2   At the end of the school year in 2nd grade, a...  \n",
       "3  During the summer swimming competition, the gu...  \n",
       "4   We bought 10 tennis and 12 volleyball balls f...  "
      ]
     },
     "execution_count": 36,
     "metadata": {},
     "output_type": "execute_result"
    }
   ],
   "source": [
    "data.head()"
   ]
  },
  {
   "cell_type": "code",
   "execution_count": null,
   "metadata": {},
   "outputs": [],
   "source": []
  }
 ],
 "metadata": {
  "kernelspec": {
   "display_name": "Python 3 (ipykernel)",
   "language": "python",
   "name": "python3"
  },
  "language_info": {
   "codemirror_mode": {
    "name": "ipython",
    "version": 3
   },
   "file_extension": ".py",
   "mimetype": "text/x-python",
   "name": "python",
   "nbconvert_exporter": "python",
   "pygments_lexer": "ipython3",
   "version": "3.9.5"
  }
 },
 "nbformat": 4,
 "nbformat_minor": 4
}
